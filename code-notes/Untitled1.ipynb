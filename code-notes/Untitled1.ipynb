{
 "cells": [
  {
   "cell_type": "code",
   "execution_count": 93,
   "id": "e6e71d09-1361-4e85-a4f0-b557aad9d8e0",
   "metadata": {},
   "outputs": [],
   "source": [
    "%run code-notes/library/_230210-0310_stats-library.ipynb"
   ]
  },
  {
   "cell_type": "code",
   "execution_count": 14,
   "id": "cb1c9e93-99cf-497d-805e-23979e1bd053",
   "metadata": {
    "tags": []
   },
   "outputs": [],
   "source": [
    "from pylib.anki.cards import Card\n",
    "from pylib.anki.notes import Note"
   ]
  },
  {
   "cell_type": "code",
   "execution_count": 2,
   "id": "16d4aa26-3e75-4c56-9cbd-8b511caed9f5",
   "metadata": {
    "tags": []
   },
   "outputs": [],
   "source": [
    "weight_factor = 0.50\n",
    "rtag_filter_fn = lambda tag: tag.startswith('.feedback::trouble::')\n",
    "ntag_filter_fn = lambda tag: tag.startswith('.Texts::CET::')"
   ]
  },
  {
   "cell_type": "code",
   "execution_count": 15,
   "id": "f330db8b-fe46-47c6-9572-33d85918b647",
   "metadata": {
    "tags": []
   },
   "outputs": [],
   "source": [
    "browser = aqt.dialogs._dialogs['Browser'][1]\n",
    "table = browser.table\n",
    "model = table._model\n",
    "\n",
    "reviews = [model._state.get_review(item) for item in model._items]\n",
    "cards = [model._state.get_card(item) for item in model._items]\n",
    "notes = [model._state.get_note(item) for item in model._items]"
   ]
  },
  {
   "cell_type": "code",
   "execution_count": 85,
   "id": "90e08adb-f2cb-4bbd-b2db-4ff481033a0f",
   "metadata": {
    "tags": []
   },
   "outputs": [],
   "source": [
    "card_ids = mw.col.find_cards('rtag:.feedback::trouble')"
   ]
  },
  {
   "cell_type": "code",
   "execution_count": 86,
   "id": "a69b59c7-7952-4670-9c54-95c569b82589",
   "metadata": {
    "tags": []
   },
   "outputs": [
    {
     "data": {
      "text/plain": [
       "84"
      ]
     },
     "execution_count": 86,
     "metadata": {},
     "output_type": "execute_result"
    }
   ],
   "source": [
    "len(card_ids)"
   ]
  },
  {
   "cell_type": "code",
   "execution_count": 101,
   "id": "03c14d56-7249-4560-82d9-3078a35f70c6",
   "metadata": {
    "tags": []
   },
   "outputs": [],
   "source": [
    "review_ids = set(model._state.review_ids_from_card_ids(card_ids))"
   ]
  },
  {
   "cell_type": "code",
   "execution_count": 31,
   "id": "b537f8f6-ed0c-41d0-9bc6-7fad19bd443a",
   "metadata": {
    "tags": []
   },
   "outputs": [],
   "source": [
    "review_ids = set(mw.col.find_reviews('rtag:.feedback::trouble'))"
   ]
  },
  {
   "cell_type": "code",
   "execution_count": 103,
   "id": "4d851413-fa31-4614-bfc0-f9115728019e",
   "metadata": {
    "tags": []
   },
   "outputs": [
    {
     "data": {
      "text/plain": [
       "332"
      ]
     },
     "execution_count": 103,
     "metadata": {},
     "output_type": "execute_result"
    }
   ],
   "source": [
    "len(review_ids)"
   ]
  },
  {
   "cell_type": "code",
   "execution_count": 102,
   "id": "82f28422-f50a-4eca-a349-a98e7577e180",
   "metadata": {
    "tags": []
   },
   "outputs": [],
   "source": [
    "reviews = [mw.col.get_revlog_entry(review_id) for review_id in review_ids]"
   ]
  },
  {
   "cell_type": "code",
   "execution_count": 88,
   "id": "2ff3abed-29a9-47f7-a594-8184848400d5",
   "metadata": {
    "tags": []
   },
   "outputs": [],
   "source": [
    "card_ids = set(review.cid for review in reviews)"
   ]
  },
  {
   "cell_type": "code",
   "execution_count": 89,
   "id": "525e13b4-a039-4256-a006-858838e69c7d",
   "metadata": {
    "tags": []
   },
   "outputs": [
    {
     "data": {
      "text/plain": [
       "84"
      ]
     },
     "execution_count": 89,
     "metadata": {},
     "output_type": "execute_result"
    }
   ],
   "source": [
    "len(card_ids)"
   ]
  },
  {
   "cell_type": "code",
   "execution_count": 90,
   "id": "dc93f902-5205-4648-b34e-6cb3a3eaf473",
   "metadata": {
    "tags": []
   },
   "outputs": [],
   "source": [
    "cards = [Card(mw.col, id=card_id) for card_id in card_ids]"
   ]
  },
  {
   "cell_type": "code",
   "execution_count": 91,
   "id": "fe2c7709-2448-4202-9ba0-dd59a73483bf",
   "metadata": {
    "tags": []
   },
   "outputs": [],
   "source": [
    "note_ids = set(card.nid for card in cards)"
   ]
  },
  {
   "cell_type": "code",
   "execution_count": 92,
   "id": "db280d4d-bffb-4501-9d31-32db759ce2f6",
   "metadata": {
    "tags": []
   },
   "outputs": [
    {
     "data": {
      "text/plain": [
       "84"
      ]
     },
     "execution_count": 92,
     "metadata": {},
     "output_type": "execute_result"
    }
   ],
   "source": [
    "len(note_ids)"
   ]
  },
  {
   "cell_type": "code",
   "execution_count": 72,
   "id": "cdb7f091-7d6d-4ef5-9dad-80d7a4bcbf08",
   "metadata": {
    "tags": []
   },
   "outputs": [],
   "source": [
    "notes = [Note(mw.col, id=note_id) for note_id in note_ids]"
   ]
  },
  {
   "cell_type": "code",
   "execution_count": 41,
   "id": "d77b792e-9fe6-46f3-8f2d-54860c2ec84d",
   "metadata": {
    "tags": []
   },
   "outputs": [
    {
     "data": {
      "text/plain": [
       "125"
      ]
     },
     "execution_count": 41,
     "metadata": {},
     "output_type": "execute_result"
    }
   ],
   "source": [
    "len(reviews)"
   ]
  },
  {
   "cell_type": "code",
   "execution_count": 42,
   "id": "861f6ce1-a111-4c2b-908d-a8daea924972",
   "metadata": {
    "tags": []
   },
   "outputs": [
    {
     "data": {
      "text/plain": [
       "84"
      ]
     },
     "execution_count": 42,
     "metadata": {},
     "output_type": "execute_result"
    }
   ],
   "source": [
    "len(cards)"
   ]
  },
  {
   "cell_type": "code",
   "execution_count": 43,
   "id": "a5768c8a-a414-4c78-b0e7-a8bf257b846a",
   "metadata": {
    "tags": []
   },
   "outputs": [
    {
     "data": {
      "text/plain": [
       "84"
      ]
     },
     "execution_count": 43,
     "metadata": {},
     "output_type": "execute_result"
    }
   ],
   "source": [
    "len(notes)"
   ]
  },
  {
   "cell_type": "code",
   "execution_count": 104,
   "id": "4036377e-367a-4c98-a1c6-8862eb7080a2",
   "metadata": {
    "tags": []
   },
   "outputs": [],
   "source": [
    "# Filter rtags.\n",
    "rtags = get_tags(reviews, rtag_filter_fn)\n",
    "# Filter ntags.\n",
    "ntags = get_tags(notes, ntag_filter_fn)"
   ]
  },
  {
   "cell_type": "code",
   "execution_count": 105,
   "id": "ed66fb7d-2df8-49fb-8ace-314ebe89e067",
   "metadata": {
    "tags": []
   },
   "outputs": [
    {
     "data": {
      "text/plain": [
       "88"
      ]
     },
     "execution_count": 105,
     "metadata": {},
     "output_type": "execute_result"
    }
   ],
   "source": [
    "len(rtags)"
   ]
  },
  {
   "cell_type": "code",
   "execution_count": 75,
   "id": "f04f6f16-35f2-4129-ae47-42634e057d7e",
   "metadata": {
    "tags": []
   },
   "outputs": [],
   "source": [
    "rtag_scores_dict = get_rtag_scorecards_for_cards(cards, rtag_filter_fn, weight_factor)"
   ]
  },
  {
   "cell_type": "code",
   "execution_count": 76,
   "id": "475baa12-3911-48d6-96b1-cda0ab673f29",
   "metadata": {
    "tags": []
   },
   "outputs": [
    {
     "data": {
      "text/plain": [
       "84"
      ]
     },
     "execution_count": 76,
     "metadata": {},
     "output_type": "execute_result"
    }
   ],
   "source": [
    "len(rtag_scores_dict)"
   ]
  },
  {
   "cell_type": "code",
   "execution_count": 77,
   "id": "239e92e0-db6b-4e21-a215-e0f3962f0163",
   "metadata": {
    "tags": []
   },
   "outputs": [],
   "source": [
    "empty_rtag_scores = {rtag:0 for rtag in rtags}"
   ]
  },
  {
   "cell_type": "code",
   "execution_count": 78,
   "id": "66d310b8-b792-46cb-badb-8a412ace0916",
   "metadata": {
    "tags": []
   },
   "outputs": [
    {
     "data": {
      "text/plain": [
       "88"
      ]
     },
     "execution_count": 78,
     "metadata": {},
     "output_type": "execute_result"
    }
   ],
   "source": [
    "len(empty_rtag_scores)"
   ]
  },
  {
   "cell_type": "code",
   "execution_count": 79,
   "id": "c2aaacce-111d-4e5a-9878-d0ab08ef97ec",
   "metadata": {
    "tags": []
   },
   "outputs": [],
   "source": [
    "data = {\n",
    "    ntag: list(\n",
    "        get_avg_rtag_scores_for_ntag(\n",
    "            ntag,\n",
    "            rtag_scores_dict,\n",
    "            empty_rtag_scores,\n",
    "        ).values()\n",
    "    )\n",
    "    for ntag in ntags\n",
    "}\n"
   ]
  },
  {
   "cell_type": "code",
   "execution_count": 80,
   "id": "671d4863-a47e-46e9-9ffc-7a4fc9a6bc7a",
   "metadata": {
    "tags": []
   },
   "outputs": [
    {
     "data": {
      "text/plain": [
       "[('.Texts::CET::C07-TechniquesOfIntegration::CET-07.02-TrigonometricIntegrals',\n",
       "  88),\n",
       " ('.Texts::CET::C07-TechniquesOfIntegration::CET-07.04-IntegrationOfRationalFunctionsByPartialIntegration',\n",
       "  88),\n",
       " ('.Texts::CET::C04-ApplicationsOfDifferentiation', 88),\n",
       " ('.Texts::CET::C09-DifferentialEquations::CET-09.03-SeparableEquations', 88),\n",
       " ('.Texts::CET::C07-TechniquesOfIntegration::CET-07.01-IntegrationByParts',\n",
       "  88),\n",
       " ('.Texts::CET::C03-DifferentiationRules::CET-03.10-LinearApproximationsAndDifferentials',\n",
       "  88),\n",
       " ('.Texts::CET::C09-DifferentialEquations', 88),\n",
       " ('.Texts::CET::C00-DiagnosticTests::A-Algebra', 88),\n",
       " ('.Texts::CET::C00-DiagnosticTests', 88),\n",
       " ('.Texts::CET::C07-TechniquesOfIntegration', 88),\n",
       " ('.Texts::CET::C05-Integrals', 88),\n",
       " ('.Texts::CET::C07-TechniquesOfIntegration::CET-07.04-IntegrationOfRationalFunctionsByPartialFractions',\n",
       "  88),\n",
       " ('.Texts::CET::C05-Integrals::CET-05.05-TheSubstitutionRule', 88),\n",
       " ('.Texts::CET::C07-TechniquesOfIntegration::CET-07.03-TrigonometricSubstitution',\n",
       "  88),\n",
       " ('.Texts::CET::C03-DifferentiationRules', 88),\n",
       " ('.Texts::CET::C04-ApplicationsOfDifferentiation::CET-04.08-NewtonsMethod',\n",
       "  88)]"
      ]
     },
     "execution_count": 80,
     "metadata": {},
     "output_type": "execute_result"
    }
   ],
   "source": [
    "[(k, len(v)) for (k,v) in data.items()]"
   ]
  },
  {
   "cell_type": "code",
   "execution_count": 81,
   "id": "e06eae10-7326-491d-97a4-cebb216fa628",
   "metadata": {
    "tags": []
   },
   "outputs": [],
   "source": [
    "df = pd.DataFrame(data)\n",
    "df.index = empty_rtag_scores.keys()"
   ]
  },
  {
   "cell_type": "code",
   "execution_count": 46,
   "id": "1069074b-9517-4704-bee1-0b83f98154ad",
   "metadata": {
    "tags": []
   },
   "outputs": [
    {
     "data": {
      "text/plain": [
       "['.Texts::CET::C10-ParametricEquationsAndPolarCoordinates',\n",
       " '.Texts::CET::C10-ParametricEquationsAndPolarCoordinates::CET-10.01-CurvesDefinedByParametricEquations',\n",
       " '.Texts::CET::C10-ParametricEquationsAndPolarCoordinates::CET-10.02-CalculusWithParametricCurves',\n",
       " '.Texts::CET::C10-ParametricEquationsAndPolarCoordinates::CET-10.03-PolarCoordinates',\n",
       " '.Texts::CET::C10-ParametricEquationsAndPolarCoordinates::CET-10.04-AreasAndLengthsInPolarCoordinates',\n",
       " '.Texts::CET::C10-ParametricEquationsAndPolarCoordinates::CET-10.05-ConicSections',\n",
       " '.Texts::CET::C10-ParametricEquationsAndPolarCoordinates::CET-10.06-ConicSectionsInPolarCoordinates']"
      ]
     },
     "execution_count": 46,
     "metadata": {},
     "output_type": "execute_result"
    }
   ],
   "source": [
    "list(filter(lambda x: x.startswith('.Texts::CET::C10-ParametricEquationsAndPolarCoordinates'), mw.col.tags.all()))"
   ]
  },
  {
   "cell_type": "code",
   "execution_count": 24,
   "id": "fcc135a6-bc62-465b-a525-4a63cd41b0e1",
   "metadata": {
    "collapsed": true,
    "jupyter": {
     "outputs_hidden": true
    },
    "tags": []
   },
   "outputs": [
    {
     "data": {
      "text/plain": [
       "{'id': 1539794822805,\n",
       " 'name': 'Randomized PWeave',\n",
       " 'type': 0,\n",
       " 'mod': 1677027404,\n",
       " 'usn': 0,\n",
       " 'sortf': 0,\n",
       " 'did': 1535127937393,\n",
       " 'tmpls': [{'name': 'Card 1',\n",
       "   'ord': 0,\n",
       "   'qfmt': \"<script>\\n  // Avoid redefining pseudorandom variable.\\n  if (typeof pseudorandom === 'undefined') { let pseudorandom; }\\n  if (`{{randomizer-Index:}}`.startsWith('Unknown field:')) {\\n    // If custom field isn't available, default to zero.\\n    pseudorandom = 0;\\n  } else {\\n    pseudorandom = {{randomizer-Index:}};\\n  }\\n\\n  // Run JavaScript snippet from card to interpolate random\\n  // params for displaying front and back sides.\\n  {{Params}}\\n\\n  // Copy raw interpolated Front to div below.\\n  document.getElementById('parameterized_front').innerHTML = String.raw`{{Front}}`;\\n</script>\\n\\n<div id='parameterized_front'>\\n  {{Front}}\\n  <br>\\n  (Warning: Front not yet defined by card template script.)\\n</div>\\n\",\n",
       "   'afmt': \"{{FrontSide}}\\n\\n<hr id=answer>\\n\\n<script>\\n  // Random seed and params have  already been setup in Front  template.\\n  // Copy raw interpolated Back to div below.\\n  document.getElementById('parameterized_back').innerHTML = String.raw`{{Back}}`;\\n</script>\\n\\n<div id='parameterized_back'>\\n  {{Back}}\\n  <br>\\n  (Warning: Back not yet defined by card template script.)\\n</div>\\n\\n<hr id=annotations>\\n\\n{{Annotations}}\\n\",\n",
       "   'bqfmt': '',\n",
       "   'bafmt': '',\n",
       "   'did': None,\n",
       "   'bfont': '',\n",
       "   'bsize': 0}],\n",
       " 'flds': [{'name': 'Front',\n",
       "   'ord': 0,\n",
       "   'sticky': False,\n",
       "   'rtl': False,\n",
       "   'font': 'Arial',\n",
       "   'size': 24,\n",
       "   'description': '',\n",
       "   'plainText': False,\n",
       "   'collapsed': False,\n",
       "   'media': []},\n",
       "  {'name': 'Back',\n",
       "   'ord': 1,\n",
       "   'sticky': False,\n",
       "   'rtl': False,\n",
       "   'font': 'Liberation Serif',\n",
       "   'size': 24,\n",
       "   'description': '',\n",
       "   'plainText': False,\n",
       "   'collapsed': False,\n",
       "   'media': []},\n",
       "  {'name': 'Annotations',\n",
       "   'ord': 2,\n",
       "   'sticky': False,\n",
       "   'rtl': False,\n",
       "   'font': 'Liberation Serif',\n",
       "   'size': 24,\n",
       "   'description': '',\n",
       "   'plainText': False,\n",
       "   'collapsed': True,\n",
       "   'media': []},\n",
       "  {'name': 'Params',\n",
       "   'ord': 3,\n",
       "   'sticky': False,\n",
       "   'rtl': False,\n",
       "   'font': 'Liberation Mono',\n",
       "   'size': 12,\n",
       "   'description': \"// Example: if (typeof a === 'undefined') { let a; }\\na = random_seed % 10;\\n\",\n",
       "   'plainText': True,\n",
       "   'collapsed': True}],\n",
       " 'css': '@font-face {\\n  font-family: \\'Raleway\\';\\n  font-style: normal;\\n  font-weight: 300;\\n  src: local(\\'Raleway Light\\'), local(\\'Raleway-Light\\'), url(http://fonts.gstatic.com/s/raleway/v9/-_Ctzj9b56b8RgXW8FArifk_vArhqVIZ0nv9q090hN8.woff2) format(\\'woff2\\');\\n}\\n@font-face {\\n  font-family: \\'Raleway\\';\\n  font-style: normal;\\n  font-weight: 400;\\n  src: local(\\'Raleway\\'), url(http://fonts.gstatic.com/s/raleway/v9/0dTEPzkLWceF7z0koJaX1A.woff2) format(\\'woff2\\');\\n}\\n@font-face {\\n  font-family: \\'Raleway\\';\\n  font-style: normal;\\n  font-weight: 600;\\n  src: local(\\'Raleway SemiBold\\'), local(\\'Raleway-SemiBold\\'), url(http://fonts.gstatic.com/s/raleway/v9/xkvoNo9fC8O2RDydKj12b_k_vArhqVIZ0nv9q090hN8.woff2) format(\\'woff2\\');\\n}\\nhtml {\\n  font-family: sans-serif; /* 1 */\\n  -ms-text-size-adjust: 100%; /* 2 */\\n  -webkit-text-size-adjust: 100%; /* 2 */\\n}\\nbody {\\n  margin: 0;\\n}\\narticle,\\naside,\\ndetails,\\nfigcaption,\\nfigure,\\nfooter,\\nheader,\\nhgroup,\\nmain,\\nmenu,\\nnav,\\nsection,\\nsummary {\\n  display: block;\\n}\\naudio,\\ncanvas,\\nprogress,\\nvideo {\\n  display: inline-block; /* 1 */\\n  vertical-align: baseline; /* 2 */\\n}\\naudio:not([controls]) {\\n  display: none;\\n  height: 0;\\n}\\n[hidden],\\ntemplate {\\n  display: none;\\n}\\na:active,\\na:hover {\\n  outline: 0;\\n}\\nabbr[title] {\\n  border-bottom: 1px dotted;\\n}\\nb,\\nstrong {\\n  font-weight: bold;\\n}\\ndfn {\\n  font-style: italic;\\n}\\nh1 {\\n  font-size: 2em;\\n  margin: 0.67em 0;\\n}\\nmark {\\n  background: #ff0;\\n  color: #000;\\n}\\nsmall {\\n  font-size: 80%;\\n}\\nsub,\\nsup {\\n  font-size: 75%;\\n  line-height: 0;\\n  position: relative;\\n  vertical-align: baseline;\\n}\\nsup {\\n  top: -0.5em;\\n}\\nsub {\\n  bottom: -0.25em;\\n}\\nimg {\\n  border: 0;\\n}\\nsvg:not(:root) {\\n  overflow: hidden;\\n}\\nfigure {\\n  margin: 1em 40px;\\n}\\nhr {\\n  -moz-box-sizing: content-box;\\n  box-sizing: content-box;\\n  height: 0;\\n}\\npre {\\n  overflow: auto;\\n}\\ncode,\\nkbd,\\npre,\\nsamp {\\n  font-family: monospace, monospace;\\n  font-size: 1em;\\n}\\nbutton,\\ninput,\\noptgroup,\\nselect,\\ntextarea {\\n  color: inherit; /* 1 */\\n  font: inherit; /* 2 */\\n  margin: 0; /* 3 */\\n}\\nbutton {\\n  overflow: visible;\\n}\\nbutton,\\nselect {\\n  text-transform: none;\\n}\\nbutton,\\nhtml input[type=\"button\"], /* 1 */\\ninput[type=\"reset\"],\\ninput[type=\"submit\"] {\\n  -webkit-appearance: button; /* 2 */\\n  cursor: pointer; /* 3 */\\n}\\nbutton[disabled],\\nhtml input[disabled] {\\n  cursor: default;\\n}\\nbutton::-moz-focus-inner,\\ninput::-moz-focus-inner {\\n  border: 0;\\n  padding: 0;\\n}\\ninput {\\n  line-height: normal;\\n}\\ninput[type=\"checkbox\"],\\ninput[type=\"radio\"] {\\n  box-sizing: border-box; /* 1 */\\n  padding: 0; /* 2 */\\n}\\ninput[type=\"number\"]::-webkit-inner-spin-button,\\ninput[type=\"number\"]::-webkit-outer-spin-button {\\n  height: auto;\\n}\\ninput[type=\"search\"] {\\n  -webkit-appearance: textfield; /* 1 */\\n  -moz-box-sizing: content-box;\\n  -webkit-box-sizing: content-box; /* 2 */\\n  box-sizing: content-box;\\n}\\ninput[type=\"search\"]::-webkit-search-cancel-button,\\ninput[type=\"search\"]::-webkit-search-decoration {\\n  -webkit-appearance: none;\\n}\\nfieldset {\\n  border: 1px solid #c0c0c0;\\n  margin: 0 2px;\\n  padding: 0.35em 0.625em 0.75em;\\n}\\nlegend {\\n  border: 0; /* 1 */\\n  padding: 0; /* 2 */\\n}\\ntextarea {\\n  overflow: auto;\\n}\\noptgroup {\\n  font-weight: bold;\\n}\\ntable {\\n  border-collapse: collapse;\\n  border-spacing: 0;\\n}\\ntd,\\nth {\\n  padding: 0;\\n}\\n\\n\\n/*\\n* Skeleton V2.0.4\\n* Copyright 2014, Dave Gamache\\n* www.getskeleton.com\\n* Free to use under the MIT license.\\n* http://www.opensource.org/licenses/mit-license.php\\n* 12/29/2014\\n*/\\n.container {\\n  position: relative;\\n  width: 100%;\\n  max-width: 960px;\\n  margin: 0 auto;\\n  padding: 0 20px;\\n  box-sizing: border-box; }\\n.column,\\n.columns {\\n  width: 100%;\\n  float: left;\\n  box-sizing: border-box; }\\n@media (min-width: 400px) {\\n  .container {\\n    width: 85%;\\n    padding: 0; }\\n}\\n@media (min-width: 550px) {\\n  .container {\\n    width: 80%; }\\n  .column,\\n  .columns {\\n    margin-left: 4%; }\\n  .column:first-child,\\n  .columns:first-child {\\n    margin-left: 0; }\\n\\n  .one.column,\\n  .one.columns                    { width: 4.66666666667%; }\\n  .two.columns                    { width: 13.3333333333%; }\\n  .three.columns                  { width: 22%;            }\\n  .four.columns                   { width: 30.6666666667%; }\\n  .five.columns                   { width: 39.3333333333%; }\\n  .six.columns                    { width: 48%;            }\\n  .seven.columns                  { width: 56.6666666667%; }\\n  .eight.columns                  { width: 65.3333333333%; }\\n  .nine.columns                   { width: 74.0%;          }\\n  .ten.columns                    { width: 82.6666666667%; }\\n  .eleven.columns                 { width: 91.3333333333%; }\\n  .twelve.columns                 { width: 100%; margin-left: 0; }\\n\\n  .one-third.column               { width: 30.6666666667%; }\\n  .two-thirds.column              { width: 65.3333333333%; }\\n\\n  .one-half.column                { width: 48%; }\\n\\n  /* Offsets */\\n  .offset-by-one.column,\\n  .offset-by-one.columns          { margin-left: 8.66666666667%; }\\n  .offset-by-two.column,\\n  .offset-by-two.columns          { margin-left: 17.3333333333%; }\\n  .offset-by-three.column,\\n  .offset-by-three.columns        { margin-left: 26%;            }\\n  .offset-by-four.column,\\n  .offset-by-four.columns         { margin-left: 34.6666666667%; }\\n  .offset-by-five.column,\\n  .offset-by-five.columns         { margin-left: 43.3333333333%; }\\n  .offset-by-six.column,\\n  .offset-by-six.columns          { margin-left: 52%;            }\\n  .offset-by-seven.column,\\n  .offset-by-seven.columns        { margin-left: 60.6666666667%; }\\n  .offset-by-eight.column,\\n  .offset-by-eight.columns        { margin-left: 69.3333333333%; }\\n  .offset-by-nine.column,\\n  .offset-by-nine.columns         { margin-left: 78.0%;          }\\n  .offset-by-ten.column,\\n  .offset-by-ten.columns          { margin-left: 86.6666666667%; }\\n  .offset-by-eleven.column,\\n  .offset-by-eleven.columns       { margin-left: 95.3333333333%; }\\n\\n  .offset-by-one-third.column,\\n  .offset-by-one-third.columns    { margin-left: 34.6666666667%; }\\n  .offset-by-two-thirds.column,\\n  .offset-by-two-thirds.columns   { margin-left: 69.3333333333%; }\\n\\n  .offset-by-one-half.column,\\n  .offset-by-one-half.columns     { margin-left: 52%; }\\n\\n}\\nhtml {\\n  font-size: 62.5%; }\\nbody {\\n  font-size: 1.5em; /* currently ems cause chrome bug misinterpreting rems on body element */\\n  line-height: 1.6;\\n  font-weight: 400;\\n  font-family: \"Raleway\", \"HelveticaNeue\", \"Helvetica Neue\", Helvetica, Arial, sans-serif;\\n  color: #222; }\\nh1, h2, h3, h4, h5, h6 {\\n  margin-top: 0;\\n  margin-bottom: 2rem;\\n  font-weight: 300; }\\nh1 { font-size: 3.6rem; line-height: 1.2;  letter-spacing: -.1rem;}\\nh2 { font-size: 3.4rem; line-height: 1.25; letter-spacing: -.1rem; }\\nh3 { font-size: 3.2rem; line-height: 1.3;  letter-spacing: -.1rem; }\\nh4 { font-size: 2.8rem; line-height: 1.35; letter-spacing: -.08rem; }\\nh5 { font-size: 2.4rem; line-height: 1.5;  letter-spacing: -.05rem; }\\nh6 { font-size: 1.5rem; line-height: 1.6;  letter-spacing: 0; }\\n\\np {\\n  margin-top: 0; }\\na {\\n  color: #1EAEDB; }\\na:hover {\\n  color: #0FA0CE; }\\n.button,\\nbutton,\\ninput[type=\"submit\"],\\ninput[type=\"reset\"],\\ninput[type=\"button\"] {\\n  display: inline-block;\\n  height: 38px;\\n  padding: 0 30px;\\n  color: #555;\\n  text-align: center;\\n  font-size: 11px;\\n  font-weight: 600;\\n  line-height: 38px;\\n  letter-spacing: .1rem;\\n  text-transform: uppercase;\\n  text-decoration: none;\\n  white-space: nowrap;\\n  background-color: transparent;\\n  border-radius: 4px;\\n  border: 1px solid #bbb;\\n  cursor: pointer;\\n  box-sizing: border-box; }\\n.button:hover,\\nbutton:hover,\\ninput[type=\"submit\"]:hover,\\ninput[type=\"reset\"]:hover,\\ninput[type=\"button\"]:hover,\\n.button:focus,\\nbutton:focus,\\ninput[type=\"submit\"]:focus,\\ninput[type=\"reset\"]:focus,\\ninput[type=\"button\"]:focus {\\n  color: #333;\\n  border-color: #888;\\n  outline: 0; }\\n.button.button-primary,\\nbutton.button-primary,\\ninput[type=\"submit\"].button-primary,\\ninput[type=\"reset\"].button-primary,\\ninput[type=\"button\"].button-primary {\\n  color: #FFF;\\n  background-color: #33C3F0;\\n  border-color: #33C3F0; }\\n.button.button-primary:hover,\\nbutton.button-primary:hover,\\ninput[type=\"submit\"].button-primary:hover,\\ninput[type=\"reset\"].button-primary:hover,\\ninput[type=\"button\"].button-primary:hover,\\n.button.button-primary:focus,\\nbutton.button-primary:focus,\\ninput[type=\"submit\"].button-primary:focus,\\ninput[type=\"reset\"].button-primary:focus,\\ninput[type=\"button\"].button-primary:focus {\\n  color: #FFF;\\n  background-color: #1EAEDB;\\n  border-color: #1EAEDB; }\\ninput[type=\"email\"],\\ninput[type=\"number\"],\\ninput[type=\"search\"],\\ninput[type=\"text\"],\\ninput[type=\"tel\"],\\ninput[type=\"url\"],\\ninput[type=\"password\"],\\ntextarea,\\nselect {\\n  height: 38px;\\n  padding: 6px 10px; /* The 6px vertically centers text on FF, ignored by Webkit */\\n  background-color: #fff;\\n  border: 1px solid #D1D1D1;\\n  border-radius: 4px;\\n  box-shadow: none;\\n  box-sizing: border-box; }\\n/* Removes awkward default styles on some inputs for iOS */\\ninput[type=\"email\"],\\ninput[type=\"number\"],\\ninput[type=\"search\"],\\ninput[type=\"text\"],\\ninput[type=\"tel\"],\\ninput[type=\"url\"],\\ninput[type=\"password\"],\\ntextarea {\\n  -webkit-appearance: none;\\n     -moz-appearance: none;\\n          appearance: none; }\\ntextarea {\\n  min-height: 65px;\\n  padding-top: 6px;\\n  padding-bottom: 6px; }\\ninput[type=\"email\"]:focus,\\ninput[type=\"number\"]:focus,\\ninput[type=\"search\"]:focus,\\ninput[type=\"text\"]:focus,\\ninput[type=\"tel\"]:focus,\\ninput[type=\"url\"]:focus,\\ninput[type=\"password\"]:focus,\\ntextarea:focus,\\nselect:focus {\\n  border: 1px solid #33C3F0;\\n  outline: 0; }\\nlabel,\\nlegend {\\n  display: block;\\n  margin-bottom: .5rem;\\n  font-weight: 600; }\\nfieldset {\\n  padding: 0;\\n  border-width: 0; }\\ninput[type=\"checkbox\"],\\ninput[type=\"radio\"] {\\n  display: inline; }\\nlabel > .label-body {\\n  display: inline-block;\\n  margin-left: .5rem;\\n  font-weight: normal; }\\nul {\\n  list-style: circle inside; }\\nol {\\n  list-style: decimal inside; }\\nol, ul {\\n  padding-left: 0;\\n  margin-top: 0; }\\nul ul,\\nul ol,\\nol ol,\\nol ul {\\n  margin: 1.5rem 0 1.5rem 3rem;\\n  font-size: 90%; }\\nli {\\n  margin-bottom: 1rem; }\\nth,\\ntd {\\n  padding: 12px 15px;\\n  text-align: left;\\n  border-bottom: 1px solid #E1E1E1; }\\nth:first-child,\\ntd:first-child {\\n  padding-left: 0; }\\nth:last-child,\\ntd:last-child {\\n  padding-right: 0; }\\nbutton,\\n.button {\\n  margin-bottom: 1rem; }\\ninput,\\ntextarea,\\nselect,\\nfieldset {\\n  margin-bottom: 1.5rem; }\\npre,\\nblockquote,\\ndl,\\nfigure,\\ntable,\\np,\\nul,\\nol,\\nform {\\n  margin-bottom: 2.5rem; }\\n.u-full-width {\\n  width: 100%;\\n  box-sizing: border-box; }\\n.u-max-full-width {\\n  max-width: 100%;\\n  box-sizing: border-box; }\\n.u-pull-right {\\n  float: right; }\\n.u-pull-left {\\n  float: left; }\\nhr {\\n  margin-top: 3rem;\\n  margin-bottom: 3.5rem;\\n  border-width: 0;\\n  border-top: 1px solid #E1E1E1; }\\n.container:after,\\n.row:after,\\n.u-cf {\\n  content: \"\";\\n  display: table;\\n  clear: both; }\\n\\npre {\\n  display: block;\\n  padding: 9.5px;\\n  margin: 0 0 10px;\\n  font-size: 13px;\\n  line-height: 1.42857143;\\n  color: #333;\\n  word-break: break-all;\\n  word-wrap: break-word;\\n  background-color: #f5f5f5;\\n  border: 1px solid #ccc;\\n  border-radius: 4px;\\n}\\ncode,\\nkbd,\\npre,\\nsamp {\\n  font-family: Menlo, Monaco, Consolas, \"Courier New\", monospace;\\n}\\ncode {\\n  padding: 2px 4px;\\n  font-size: 90%;\\n  color: #c7254e;\\n  background-color: #f9f2f4;\\n  border-radius: 4px;\\n}\\n\\n@media (min-width: 400px) {}\\n@media (min-width: 550px) {}\\n@media (min-width: 750px) {}\\n@media (min-width: 1000px) {}\\n@media (min-width: 1200px) {}\\n\\n.hll { background-color: #ffffcc }\\n.c { color: #408080; font-style: italic } /* Comment */\\n.err { border: 1px solid #FF0000 } /* Error */\\n.k { color: #008000; font-weight: bold } /* Keyword */\\n.o { color: #666666 } /* Operator */\\n.ch { color: #408080; font-style: italic } /* Comment.Hashbang */\\n.cm { color: #408080; font-style: italic } /* Comment.Multiline */\\n.cp { color: #BC7A00 } /* Comment.Preproc */\\n.cpf { color: #408080; font-style: italic } /* Comment.PreprocFile */\\n.c1 { color: #408080; font-style: italic } /* Comment.Single */\\n.cs { color: #408080; font-style: italic } /* Comment.Special */\\n.gd { color: #A00000 } /* Generic.Deleted */\\n.ge { font-style: italic } /* Generic.Emph */\\n.gr { color: #FF0000 } /* Generic.Error */\\n.gh { color: #000080; font-weight: bold } /* Generic.Heading */\\n.gi { color: #00A000 } /* Generic.Inserted */\\n.go { color: #888888 } /* Generic.Output */\\n.gp { color: #000080; font-weight: bold } /* Generic.Prompt */\\n.gs { font-weight: bold } /* Generic.Strong */\\n.gu { color: #800080; font-weight: bold } /* Generic.Subheading */\\n.gt { color: #0044DD } /* Generic.Traceback */\\n.kc { color: #008000; font-weight: bold } /* Keyword.Constant */\\n.kd { color: #008000; font-weight: bold } /* Keyword.Declaration */\\n.kn { color: #008000; font-weight: bold } /* Keyword.Namespace */\\n.kp { color: #008000 } /* Keyword.Pseudo */\\n.kr { color: #008000; font-weight: bold } /* Keyword.Reserved */\\n.kt { color: #B00040 } /* Keyword.Type */\\n.m { color: #666666 } /* Literal.Number */\\n.s { color: #BA2121 } /* Literal.String */\\n.na { color: #7D9029 } /* Name.Attribute */\\n.nb { color: #008000 } /* Name.Builtin */\\n.nc { color: #0000FF; font-weight: bold } /* Name.Class */\\n.no { color: #880000 } /* Name.Constant */\\n.nd { color: #AA22FF } /* Name.Decorator */\\n.ni { color: #999999; font-weight: bold } /* Name.Entity */\\n.ne { color: #D2413A; font-weight: bold } /* Name.Exception */\\n.nf { color: #0000FF } /* Name.Function */\\n.nl { color: #A0A000 } /* Name.Label */\\n.nn { color: #0000FF; font-weight: bold } /* Name.Namespace */\\n.nt { color: #008000; font-weight: bold } /* Name.Tag */\\n.nv { color: #19177C } /* Name.Variable */\\n.ow { color: #AA22FF; font-weight: bold } /* Operator.Word */\\n.w { color: #bbbbbb } /* Text.Whitespace */\\n.mb { color: #666666 } /* Literal.Number.Bin */\\n.mf { color: #666666 } /* Literal.Number.Float */\\n.mh { color: #666666 } /* Literal.Number.Hex */\\n.mi { color: #666666 } /* Literal.Number.Integer */\\n.mo { color: #666666 } /* Literal.Number.Oct */\\n.sa { color: #BA2121 } /* Literal.String.Affix */\\n.sb { color: #BA2121 } /* Literal.String.Backtick */\\n.sc { color: #BA2121 } /* Literal.String.Char */\\n.dl { color: #BA2121 } /* Literal.String.Delimiter */\\n.sd { color: #BA2121; font-style: italic } /* Literal.String.Doc */\\n.s2 { color: #BA2121 } /* Literal.String.Double */\\n.se { color: #BB6622; font-weight: bold } /* Literal.String.Escape */\\n.sh { color: #BA2121 } /* Literal.String.Heredoc */\\n.si { color: #BB6688; font-weight: bold } /* Literal.String.Interpol */\\n.sx { color: #008000 } /* Literal.String.Other */\\n.sr { color: #BB6688 } /* Literal.String.Regex */\\n.s1 { color: #BA2121 } /* Literal.String.Single */\\n.ss { color: #19177C } /* Literal.String.Symbol */\\n.bp { color: #008000 } /* Name.Builtin.Pseudo */\\n.fm { color: #0000FF } /* Name.Function.Magic */\\n.vc { color: #19177C } /* Name.Variable.Class */\\n.vg { color: #19177C } /* Name.Variable.Global */\\n.vi { color: #19177C } /* Name.Variable.Instance */\\n.vm { color: #19177C } /* Name.Variable.Magic */\\n.il { color: #666666 } /* Literal.Number.Integer.Long */\\n\\nh1.title {margin-top : 20px}\\nimg {max-width : 100%}\\n\\n#From nbconvert\\n.ansi-black-fg { color: #3E424D; }\\n.ansi-black-bg { background-color: #3E424D; }\\n.ansi-black-intense-fg { color: #282C36; }\\n.ansi-black-intense-bg { background-color: #282C36; }\\n.ansi-red-fg { color: #E75C58; }\\n.ansi-red-bg { background-color: #E75C58; }\\n.ansi-red-intense-fg { color: #B22B31; }\\n.ansi-red-intense-bg { background-color: #B22B31; }\\n.ansi-green-fg { color: #00A250; }\\n.ansi-green-bg { background-color: #00A250; }\\n.ansi-green-intense-fg { color: #007427; }\\n.ansi-green-intense-bg { background-color: #007427; }\\n.ansi-yellow-fg { color: #DDB62B; }\\n.ansi-yellow-bg { background-color: #DDB62B; }\\n.ansi-yellow-intense-fg { color: #B27D12; }\\n.ansi-yellow-intense-bg { background-color: #B27D12; }\\n.ansi-blue-fg { color: #208FFB; }\\n.ansi-blue-bg { background-color: #208FFB; }\\n.ansi-blue-intense-fg { color: #0065CA; }\\n.ansi-blue-intense-bg { background-color: #0065CA; }\\n.ansi-magenta-fg { color: #D160C4; }\\n.ansi-magenta-bg { background-color: #D160C4; }\\n.ansi-magenta-intense-fg { color: #A03196; }\\n.ansi-magenta-intense-bg { background-color: #A03196; }\\n.ansi-cyan-fg { color: #60C6C8; }\\n.ansi-cyan-bg { background-color: #60C6C8; }\\n.ansi-cyan-intense-fg { color: #258F8F; }\\n.ansi-cyan-intense-bg { background-color: #258F8F; }\\n.ansi-white-fg { color: #C5C1B4; }\\n.ansi-white-bg { background-color: #C5C1B4; }\\n.ansi-white-intense-fg { color: #A1A6B2; }\\n.ansi-white-intense-bg { background-color: #A1A6B2; }\\n.ansi-bold { font-weight: bold; }\\n\\n.card {\\n font-family: Times New ROman;\\n //font-size: 20px;\\n text-align: left;\\n color: black;\\n background-color: white;\\n}\\n',\n",
       " 'latexPre': '\\\\documentclass[12pt]{article}\\n\\\\special{papersize=3in,5in}\\n\\\\usepackage[utf8]{inputenc}\\n\\\\usepackage{amssymb,amsmath}\\n\\\\pagestyle{empty}\\n\\\\setlength{\\\\parindent}{0in}\\n\\\\begin{document}\\n',\n",
       " 'latexPost': '\\\\end{document}',\n",
       " 'latexsvg': False,\n",
       " 'req': [[0, 'any', [0, 3]]],\n",
       " 'vers': [],\n",
       " 'tags': []}"
      ]
     },
     "execution_count": 24,
     "metadata": {},
     "output_type": "execute_result"
    }
   ],
   "source": [
    "nt = cards[12].note().note_type()\n",
    "nt"
   ]
  },
  {
   "cell_type": "code",
   "execution_count": 119,
   "id": "e1461fb0-0e80-4246-92ae-9e796cd2d201",
   "metadata": {
    "tags": []
   },
   "outputs": [],
   "source": [
    "section_data = (\n",
    "    (\n",
    "        'Math::Calculus::Stewart; Calculus: Early Trancendentals::08 Further applications of integration::08.04 Applications to economics and biology',\n",
    "        (\n",
    "            '.Texts::CET::C08-FurtherApplicationsOfIntegration',\n",
    "            '.Texts::CET::C08-FurtherApplicationsOfIntegration::CET-08.04-ApplicationsToEconomicsAndBiology',\n",
    "        ),\n",
    "        8,4,23,\n",
    "    ),\n",
    "    (\n",
    "        'Math::Calculus::Stewart; Calculus: Early Trancendentals::08 Further applications of integration::08.05 Probability',\n",
    "        (\n",
    "            '.Texts::CET::C08-FurtherApplicationsOfIntegration',\n",
    "            '.Texts::CET::C08-FurtherApplicationsOfIntegration::CET-08.05-Probability',\n",
    "        ),\n",
    "        8,5,21,\n",
    "    ),\n",
    ")\n",
    "base_tags = [\n",
    "    '.Texts',\n",
    "    '.Texts::CET',\n",
    "    'Calculus',\n",
    "    'Math',\n",
    "]\n",
    "note_name_fmt = 'CET-{c:02d}.{s:02d}-{n:02d} Exercise:'"
   ]
  },
  {
   "cell_type": "code",
   "execution_count": 122,
   "id": "a01126bb-7210-4ce2-9ad8-37282c1fade3",
   "metadata": {
    "tags": []
   },
   "outputs": [],
   "source": [
    "def generate_problems_for(section_name, section_tags, chapter_num, section_num, num_problems, note_type_dict, base_tags):\n",
    "    did = mw.col.decks.id_for_name(section_name)\n",
    "    if did is None:\n",
    "        deck = mw.col.decks.add_normal_deck_with_name(section_name)\n",
    "        did = mw.col.decks.id_for_name(section_name)\n",
    "    for i in range(1, num_problems + 1):\n",
    "        note = mw.col.new_note(note_type_dict)\n",
    "        note['Front'] = note_name_fmt.format(c=chapter_num, s=section_num, n=i)\n",
    "        note.tags.extend(base_tags)\n",
    "        note.tags.extend(section_tags)\n",
    "        print(did, note['Front'])\n",
    "        mw.col.add_note(note, did)    "
   ]
  },
  {
   "cell_type": "code",
   "execution_count": 123,
   "id": "1c51f2f8-6abf-4e0d-a34f-9d16a198220f",
   "metadata": {
    "tags": []
   },
   "outputs": [
    {
     "name": "stdout",
     "output_type": "stream",
     "text": [
      "1677717408710 CET-08.04-01 Exercise:\n",
      "1677717408710 CET-08.04-02 Exercise:\n",
      "1677717408710 CET-08.04-03 Exercise:\n",
      "1677717408710 CET-08.04-04 Exercise:\n",
      "1677717408710 CET-08.04-05 Exercise:\n",
      "1677717408710 CET-08.04-06 Exercise:\n",
      "1677717408710 CET-08.04-07 Exercise:\n",
      "1677717408710 CET-08.04-08 Exercise:\n",
      "1677717408710 CET-08.04-09 Exercise:\n",
      "1677717408710 CET-08.04-10 Exercise:\n",
      "1677717408710 CET-08.04-11 Exercise:\n",
      "1677717408710 CET-08.04-12 Exercise:\n",
      "1677717408710 CET-08.04-13 Exercise:\n",
      "1677717408710 CET-08.04-14 Exercise:\n",
      "1677717408710 CET-08.04-15 Exercise:\n",
      "1677717408710 CET-08.04-16 Exercise:\n",
      "1677717408710 CET-08.04-17 Exercise:\n",
      "1677717408710 CET-08.04-18 Exercise:\n",
      "1677717408710 CET-08.04-19 Exercise:\n",
      "1677717408710 CET-08.04-20 Exercise:\n",
      "1677717408710 CET-08.04-21 Exercise:\n",
      "1677717408710 CET-08.04-22 Exercise:\n",
      "1677717408710 CET-08.04-23 Exercise:\n",
      "1677717408732 CET-08.05-01 Exercise:\n",
      "1677717408732 CET-08.05-02 Exercise:\n",
      "1677717408732 CET-08.05-03 Exercise:\n",
      "1677717408732 CET-08.05-04 Exercise:\n",
      "1677717408732 CET-08.05-05 Exercise:\n",
      "1677717408732 CET-08.05-06 Exercise:\n",
      "1677717408732 CET-08.05-07 Exercise:\n",
      "1677717408732 CET-08.05-08 Exercise:\n",
      "1677717408732 CET-08.05-09 Exercise:\n",
      "1677717408732 CET-08.05-10 Exercise:\n",
      "1677717408732 CET-08.05-11 Exercise:\n",
      "1677717408732 CET-08.05-12 Exercise:\n",
      "1677717408732 CET-08.05-13 Exercise:\n",
      "1677717408732 CET-08.05-14 Exercise:\n",
      "1677717408732 CET-08.05-15 Exercise:\n",
      "1677717408732 CET-08.05-16 Exercise:\n",
      "1677717408732 CET-08.05-17 Exercise:\n",
      "1677717408732 CET-08.05-18 Exercise:\n",
      "1677717408732 CET-08.05-19 Exercise:\n",
      "1677717408732 CET-08.05-20 Exercise:\n",
      "1677717408732 CET-08.05-21 Exercise:\n"
     ]
    }
   ],
   "source": [
    "for (section_name, section_tags, chapter_num, section_num, num_problems) in section_data:\n",
    "    generate_problems_for(section_name, section_tags, chapter_num, section_num, num_problems, nt, base_tags)"
   ]
  },
  {
   "cell_type": "code",
   "execution_count": 315,
   "id": "6fa45068-f68e-4507-837e-567b544f8350",
   "metadata": {},
   "outputs": [
    {
     "data": {
      "text/latex": [
       "$\\displaystyle 4056.04400163553$"
      ],
      "text/plain": [
       "4056.04400163553"
      ]
     },
     "execution_count": 315,
     "metadata": {},
     "output_type": "execute_result"
    }
   ],
   "source": [
    "(1/50)*(2560)/(0.017185)*(sy.exp(0.017185 * 50) - 1)"
   ]
  },
  {
   "cell_type": "code",
   "execution_count": 322,
   "id": "17293c20-66ab-45c3-9e63-a26fe05dd9a7",
   "metadata": {
    "tags": []
   },
   "outputs": [],
   "source": [
    "xs = list(range(1,11))\n",
    "ys = [sum(12/(-5)**i for i in range(1, n+1)) for n in xs]"
   ]
  },
  {
   "cell_type": "code",
   "execution_count": 323,
   "id": "e5e2ddbd-92b7-4aec-bf89-d82c87805ae6",
   "metadata": {
    "tags": []
   },
   "outputs": [
    {
     "data": {
      "text/plain": [
       "[-2.4,\n",
       " -1.92,\n",
       " -2.016,\n",
       " -1.9968,\n",
       " -2.0006399999999998,\n",
       " -1.9998719999999996,\n",
       " -2.0000256,\n",
       " -1.9999948799999998,\n",
       " -2.000001024,\n",
       " -1.9999997952]"
      ]
     },
     "execution_count": 323,
     "metadata": {},
     "output_type": "execute_result"
    }
   ],
   "source": [
    "ys"
   ]
  },
  {
   "cell_type": "code",
   "execution_count": 324,
   "id": "28cab32e-9eb5-4135-bd2e-bb11b319cc1a",
   "metadata": {
    "tags": []
   },
   "outputs": [],
   "source": [
    "from matplotlib import pyplot as plt"
   ]
  },
  {
   "cell_type": "code",
   "execution_count": 326,
   "id": "efb0525c-dc59-4f8d-bc4f-ca42219c1961",
   "metadata": {
    "tags": []
   },
   "outputs": [
    {
     "data": {
      "text/plain": [
       "[<matplotlib.lines.Line2D at 0x7f082a816b80>]"
      ]
     },
     "execution_count": 326,
     "metadata": {},
     "output_type": "execute_result"
    },
    {
     "data": {
      "image/png": "[encoded data removed]",
      "text/plain": [
       "<Figure size 640x480 with 1 Axes>"
      ]
     },
     "metadata": {},
     "output_type": "display_data"
    }
   ],
   "source": [
    "plt.plot(xs, ys)"
   ]
  },
  {
   "cell_type": "code",
   "execution_count": 1,
   "id": "a31c051c-8767-46a7-9717-d3364625f85f",
   "metadata": {},
   "outputs": [],
   "source": [
    "import sympy as sy"
   ]
  },
  {
   "cell_type": "code",
   "execution_count": 3,
   "id": "2ccc26ca-6121-438e-8203-583d86192ac0",
   "metadata": {
    "tags": []
   },
   "outputs": [],
   "source": [
    "x,y = sy.symbols('x,y')"
   ]
  },
  {
   "cell_type": "code",
   "execution_count": 4,
   "id": "653652eb-11bb-4938-bc9f-0cfe80eacd5d",
   "metadata": {
    "tags": []
   },
   "outputs": [
    {
     "name": "stderr",
     "output_type": "stream",
     "text": [
      "/mnt/Work/Repos/kaben/ankimath/out/pyenv/lib/python3.9/site-packages/matplotlib/_mathtext.py:1871: UserWarning: warn_name_set_on_empty_Forward: setting results name 'sym' on Forward expression that has no contained expression\n",
      "  - p.placeable(\"sym\"))\n",
      "/mnt/Work/Repos/kaben/ankimath/out/pyenv/lib/python3.9/site-packages/matplotlib/_mathtext.py:1876: UserWarning: warn_ungrouped_named_tokens_in_collection: setting results name 'name' on ZeroOrMore expression collides with 'name' on contained expression\n",
      "  \"{\" + ZeroOrMore(p.simple | p.unknown_symbol)(\"name\") + \"}\")\n"
     ]
    },
    {
     "data": {
      "image/png": "[encoded data removed]",
      "text/plain": [
       "<Figure size 640x480 with 1 Axes>"
      ]
     },
     "metadata": {},
     "output_type": "display_data"
    },
    {
     "data": {
      "text/plain": [
       "<sympy.plotting.plot.Plot at 0x7f38478bda00>"
      ]
     },
     "execution_count": 4,
     "metadata": {},
     "output_type": "execute_result"
    },
    {
     "name": "stdout",
     "output_type": "stream",
     "text": [
      "1684778666.914 GET /_anki/css/toolbar.css\n",
      "1684778666.916 GET /_anki/css/toolbar-bottom.css\n"
     ]
    }
   ],
   "source": [
    "sy.plot(1/(1 + sy.exp(1/x)))"
   ]
  },
  {
   "cell_type": "code",
   "execution_count": 14,
   "id": "e14a6711-93e8-4e64-8776-59daeb58ee9d",
   "metadata": {
    "tags": []
   },
   "outputs": [],
   "source": [
    "def _f(x): return x**3 - 3*x + 4"
   ]
  },
  {
   "cell_type": "code",
   "execution_count": 17,
   "id": "99ad2fc6-8f4c-4e1f-aab6-edbe35a6d080",
   "metadata": {
    "tags": []
   },
   "outputs": [
    {
     "data": {
      "text/plain": [
       "(1.9777777777777779, 2.022222222222222)"
      ]
     },
     "execution_count": 17,
     "metadata": {},
     "output_type": "execute_result"
    }
   ],
   "source": [
    "2-0.2/9, 2+0.2/9"
   ]
  },
  {
   "cell_type": "code",
   "execution_count": 21,
   "id": "c8ed27d9-d8df-4a7e-aa57-2cf427931d74",
   "metadata": {
    "tags": []
   },
   "outputs": [
    {
     "data": {
      "text/plain": [
       "(1.988888888888889, 2.011111111111111)"
      ]
     },
     "execution_count": 21,
     "metadata": {},
     "output_type": "execute_result"
    }
   ],
   "source": [
    "2-0.1/9, 2+0.1/9"
   ]
  },
  {
   "cell_type": "code",
   "execution_count": 19,
   "id": "cd5abbde-0087-459a-aa73-9ba8b51f63f9",
   "metadata": {
    "tags": []
   },
   "outputs": [
    {
     "data": {
      "image/png": "[encoded data removed]",
      "text/plain": [
       "<Figure size 640x480 with 1 Axes>"
      ]
     },
     "metadata": {},
     "output_type": "display_data"
    },
    {
     "data": {
      "text/plain": [
       "<sympy.plotting.plot.Plot at 0x7f38d87b0ac0>"
      ]
     },
     "execution_count": 19,
     "metadata": {},
     "output_type": "execute_result"
    }
   ],
   "source": [
    "sy.plot(_f(x), (x, 1.95, 2.05))"
   ]
  },
  {
   "cell_type": "code",
   "execution_count": 24,
   "id": "b3f4a4ab-10fa-47f4-8791-60be812bc384",
   "metadata": {
    "tags": []
   },
   "outputs": [
    {
     "data": {
      "text/plain": [
       "(5.822392000000001, 6.182408000000001)"
      ]
     },
     "execution_count": 24,
     "metadata": {},
     "output_type": "execute_result"
    }
   ],
   "source": [
    "_f(1.98), _f(2.02)"
   ]
  },
  {
   "cell_type": "code",
   "execution_count": 25,
   "id": "92d07d05-1b81-4648-8d8a-498e6477b913",
   "metadata": {
    "tags": []
   },
   "outputs": [
    {
     "data": {
      "text/plain": [
       "(5.910599, 6.090600999999998)"
      ]
     },
     "execution_count": 25,
     "metadata": {},
     "output_type": "execute_result"
    }
   ],
   "source": [
    "_f(1.99), _f(2.01)"
   ]
  },
  {
   "cell_type": "code",
   "execution_count": 10,
   "id": "b0e8b316-83db-4215-9965-65faf1a9d32b",
   "metadata": {
    "tags": []
   },
   "outputs": [],
   "source": [
    "def _f(x): return (sy.exp(2*x) - 1)/x"
   ]
  },
  {
   "cell_type": "code",
   "execution_count": 11,
   "id": "747642ea-91da-42d8-9057-a9569b0d2168",
   "metadata": {
    "tags": []
   },
   "outputs": [
    {
     "data": {
      "image/png": "[encoded data removed]",
      "text/plain": [
       "<Figure size 640x480 with 1 Axes>"
      ]
     },
     "metadata": {},
     "output_type": "display_data"
    },
    {
     "data": {
      "text/plain": [
       "<sympy.plotting.plot.Plot at 0x7f38d87b0340>"
      ]
     },
     "execution_count": 11,
     "metadata": {},
     "output_type": "execute_result"
    }
   ],
   "source": [
    "sy.plot(_f(x), (x, -1, 1))"
   ]
  },
  {
   "cell_type": "code",
   "execution_count": 31,
   "id": "529176a6-e87a-4da8-a776-896709d2c9c3",
   "metadata": {
    "tags": []
   },
   "outputs": [
    {
     "data": {
      "text/plain": [
       "'fubaz {blah}'"
      ]
     },
     "execution_count": 31,
     "metadata": {},
     "output_type": "execute_result"
    }
   ],
   "source": [
    "d = dict(\n",
    "    fubar = 'fubaz',\n",
    "    blah = 'zzz',\n",
    ")\n",
    "fmt1 = '{fubar} {{blah}}'\n",
    "msg1 = fmt1.format(**d)\n",
    "msg1"
   ]
  },
  {
   "cell_type": "code",
   "execution_count": 34,
   "id": "663c8e7d-52ea-4473-b6e7-8f06d00f3292",
   "metadata": {
    "tags": []
   },
   "outputs": [
    {
     "data": {
      "text/plain": [
       "3.7221029453964"
      ]
     },
     "execution_count": 34,
     "metadata": {},
     "output_type": "execute_result"
    }
   ],
   "source": [
    "h = float((6*27/sy.pi)**(1/3))\n",
    "h"
   ]
  },
  {
   "cell_type": "code",
   "execution_count": 35,
   "id": "cdf1dd00-c779-4e3d-888a-16f74060608d",
   "metadata": {
    "tags": []
   },
   "outputs": [
    {
     "data": {
      "text/plain": [
       "2.6319242329642165"
      ]
     },
     "execution_count": 35,
     "metadata": {},
     "output_type": "execute_result"
    }
   ],
   "source": [
    "r = float((3*27/(sy.pi*h))**(1/2))\n",
    "r"
   ]
  },
  {
   "cell_type": "code",
   "execution_count": 36,
   "id": "5f117d34-264b-4e9c-af8c-c441cc3821aa",
   "metadata": {
    "tags": []
   },
   "outputs": [
    {
     "data": {
      "text/plain": [
       "27.0"
      ]
     },
     "execution_count": 36,
     "metadata": {},
     "output_type": "execute_result"
    }
   ],
   "source": [
    "float(sy.pi * r**2 * h / 3)"
   ]
  },
  {
   "cell_type": "code",
   "execution_count": 38,
   "id": "c22b62f4-5247-44bb-9b81-b5e0e089bc1b",
   "metadata": {
    "tags": []
   },
   "outputs": [
    {
     "data": {
      "text/plain": [
       "-9337.155248863952"
      ]
     },
     "execution_count": 38,
     "metadata": {},
     "output_type": "execute_result"
    }
   ],
   "source": [
    "float((3*27*sy.pi - 18*27**2/h**3 * sy.pi*r*(r**2 + h**2)**(1/2)))"
   ]
  },
  {
   "cell_type": "code",
   "execution_count": 39,
   "id": "e6682ded-319c-445d-a8a2-9072fa9790b3",
   "metadata": {
    "tags": []
   },
   "outputs": [],
   "source": [
    "def f(x): return x**3 - x - 1\n",
    "def f_1(x): return 3*x**2 - 1"
   ]
  },
  {
   "cell_type": "code",
   "execution_count": 58,
   "id": "9d07172f-f5f9-49c1-9360-0d44c6223f20",
   "metadata": {
    "tags": []
   },
   "outputs": [],
   "source": [
    "x_n = 0.57"
   ]
  },
  {
   "cell_type": "code",
   "execution_count": 93,
   "id": "d85bd350-3948-4571-b0d3-02714d621022",
   "metadata": {
    "tags": []
   },
   "outputs": [
    {
     "data": {
      "text/plain": [
       "1.3247179572459706"
      ]
     },
     "execution_count": 93,
     "metadata": {},
     "output_type": "execute_result"
    }
   ],
   "source": [
    "x_n = x_n - f(x_n)/f_1(x_n)\n",
    "x_n"
   ]
  },
  {
   "cell_type": "code",
   "execution_count": 94,
   "id": "48757397-d79b-4be1-9150-fa283a0e0135",
   "metadata": {
    "tags": []
   },
   "outputs": [
    {
     "data": {
      "image/png": "[encoded data removed]",
      "text/plain": [
       "<Figure size 640x480 with 1 Axes>"
      ]
     },
     "metadata": {},
     "output_type": "display_data"
    },
    {
     "data": {
      "text/plain": [
       "<sympy.plotting.plot.Plot at 0x7f38d871fa30>"
      ]
     },
     "execution_count": 94,
     "metadata": {},
     "output_type": "execute_result"
    }
   ],
   "source": [
    "sy.plot(f(x), (x, 0, 2))"
   ]
  },
  {
   "cell_type": "code",
   "execution_count": 95,
   "id": "2c33e69a-20e6-4992-8d42-c14dce8b8078",
   "metadata": {
    "tags": []
   },
   "outputs": [
    {
     "data": {
      "text/plain": [
       "0.5773502691896257"
      ]
     },
     "execution_count": 95,
     "metadata": {},
     "output_type": "execute_result"
    },
    {
     "name": "stdout",
     "output_type": "stream",
     "text": [
      "1684980011.329 GET /_anki/js/vendor/jquery.min.js\n",
      "1684980011.330 GET /_anki/css/webview.css\n",
      "1685028011.330 GET /_anki/js/vendor/jquery.min.js\n"
     ]
    }
   ],
   "source": [
    "(1/3)**0.5"
   ]
  },
  {
   "cell_type": "code",
   "execution_count": 98,
   "id": "3b064f91-fc04-4fe3-bf96-00ae63801636",
   "metadata": {
    "tags": []
   },
   "outputs": [
    {
     "data": {
      "image/png": "[encoded data removed]",
      "text/plain": [
       "<Figure size 640x480 with 1 Axes>"
      ]
     },
     "metadata": {},
     "output_type": "display_data"
    },
    {
     "data": {
      "text/plain": [
       "<sympy.plotting.plot.Plot at 0x7f38c36ba5e0>"
      ]
     },
     "execution_count": 98,
     "metadata": {},
     "output_type": "execute_result"
    },
    {
     "name": "stdout",
     "output_type": "stream",
     "text": [
      "1685110211.285 GET /_anki/js/deckbrowser.js\n",
      "1685110211.287 GET /_anki/js/vendor/jquery-ui.min.js\n"
     ]
    }
   ],
   "source": [
    "sy.plot(-sy.ln((1 + x)/sy.sqrt(1 - x**22)), -sy.ln((1 + sy.sqrt(1 - x**2))/x))"
   ]
  },
  {
   "cell_type": "code",
   "execution_count": 99,
   "id": "3a0c3760-2497-4a47-83fd-65e527fb96ec",
   "metadata": {
    "tags": []
   },
   "outputs": [],
   "source": [
    "from fractions import Fraction"
   ]
  },
  {
   "cell_type": "code",
   "execution_count": 101,
   "id": "fa751965-6156-493f-9434-ddad96b75c82",
   "metadata": {
    "tags": []
   },
   "outputs": [],
   "source": [
    "a,b,c,d,i,j,k,l,m,n,o,p,q,r,s,t,u,v,w,x,y,z,theta = sy.symbols(\n",
    "    'a,b,c,d,i,j,k,l,m,n,o,p,q,r,s,t,u,v,w,x,y,z,theta'\n",
    ")"
   ]
  },
  {
   "cell_type": "code",
   "execution_count": 6,
   "id": "91a9928b-fc57-4361-9eb3-73da2f327874",
   "metadata": {
    "tags": []
   },
   "outputs": [
    {
     "name": "stdout",
     "output_type": "stream",
     "text": [
      "\u001b[1;32mcode-notes/230109-1542_scheduler-investigation.ipynb\u001b[0m\u001b[K\n",
      "\u001b[1;33m976\u001b[0m\u001b[K:      \"  \u001b[30;43mfiltered\u001b[0m\u001b[K {\\n\",\n",
      "\u001b[1;33m996\u001b[0m\u001b[K:      \"  \u001b[30;43mfiltered\u001b[0m\u001b[K {\\n\",\n",
      "\u001b[1;33m1015\u001b[0m\u001b[K:      \"  \u001b[30;43mfiltered\u001b[0m\u001b[K {\\n\",\n",
      "\n",
      "\u001b[1;32mcode-notes/230114-1200_transfer-study-notes.ipynb\u001b[0m\u001b[K\n",
      "\u001b[1;33m1109\u001b[0m\u001b[K:      \"***** SchedulerService.answer_card(input=CardAnswer { card_id: 1605841841781, current_state: Some(SchedulingState { custom_data: None, value: Some(\u001b[30;43mFiltered\u001b[0m\u001b[K(\u001b[30;43mFiltered\u001b[0m\u001b[K { value: Some(Rescheduling(ReschedulingFilter { original_state: Some(Normal { value: Some(Relearning(Relearning { review: Some(Review { scheduled_days: 1, elapsed_days: 1, ease_factor: 2.3, lapses: 1, leeched: false }), learning: Some(Learning { remaining_steps: 1, scheduled_secs: 600 }) })) }) })) })) }), new_state: Some(SchedulingState { custom_data: None, value: Some(\u001b[30;43mFiltered\u001b[0m\u001b[K(\u001b[30;43mFiltered\u001b[0m\u001b[K { value: Some(Rescheduling(ReschedulingFilter { original_state: Some(Normal { value: Some(Relearning(Relearning { review: Some(Review { scheduled_days: 1, elapsed_days: 0, ease_factor: 2.3, lapses: 1, leeched: false }), learning: Some(Learning { remaining_steps: 1, scheduled_secs: 600 }) })) }) })) })) }), rating: Good, answered_at_millis: 1659592800000, milliseconds_taken: 0 })\\n\",\n",
      "\u001b[1;33m1111\u001b[0m\u001b[K:      \"***** Collection.answer_card(answer=CardAnswer { card_id: CardId(1605841841781), current_state: \u001b[30;43mFiltered\u001b[0m\u001b[K(Rescheduling(ReschedulingFilterState { original_state: Relearning(RelearnState { learning: LearnState { remaining_steps: 1, scheduled_secs: 600 }, review: ReviewState { scheduled_days: 1, elapsed_days: 1, ease_factor: 2.3, lapses: 1, leeched: false } }) })), new_state: \u001b[30;43mFiltered\u001b[0m\u001b[K(Rescheduling(ReschedulingFilterState { original_state: Relearning(RelearnState { learning: LearnState { remaining_steps: 1, scheduled_secs: 600 }, review: ReviewState { scheduled_days: 1, elapsed_days: 0, ease_factor: 2.3, lapses: 1, leeched: false } }) })), rating: Good, answered_at: TimestampMillis(1659592800000), milliseconds_taken: 0, custom_data: None })\\n\",\n",
      "\u001b[1;33m1112\u001b[0m\u001b[K:      \"***** Collection.answer_card_inner(answer=CardAnswer { card_id: CardId(1605841841781), current_state: \u001b[30;43mFiltered\u001b[0m\u001b[K(Rescheduling(ReschedulingFilterState { original_state: Relearning(RelearnState { learning: LearnState { remaining_steps: 1, scheduled_secs: 600 }, review: ReviewState { scheduled_days: 1, elapsed_days: 1, ease_factor: 2.3, lapses: 1, leeched: false } }) })), new_state: \u001b[30;43mFiltered\u001b[0m\u001b[K(Rescheduling(ReschedulingFilterState { original_state: Relearning(RelearnState { learning: LearnState { remaining_steps: 1, scheduled_secs: 600 }, review: ReviewState { scheduled_days: 1, elapsed_days: 0, ease_factor: 2.3, lapses: 1, leeched: false } }) })), rating: Good, answered_at: TimestampMillis(1659592800000), milliseconds_taken: 0, custom_data: None }, now=TimestampSecs(1674002358))\\n\",\n",
      "\u001b[1;33m1117\u001b[0m\u001b[K:      \"***** Collection.add_partial_revlog(partial=RevlogEntryPartial { interval: InSecs(600), last_interval: InSecs(600), ease_factor: 2.3, review_kind: Relearning }, usn=Usn(-1), answer=CardAnswer { card_id: CardId(1605841841781), current_state: \u001b[30;43mFiltered\u001b[0m\u001b[K(Rescheduling(ReschedulingFilterState { original_state: Relearning(RelearnState { learning: LearnState { remaining_steps: 1, scheduled_secs: 600 }, review: ReviewState { scheduled_days: 1, elapsed_days: 1, ease_factor: 2.3, lapses: 1, leeched: false } }) })), new_state: \u001b[30;43mFiltered\u001b[0m\u001b[K(Rescheduling(ReschedulingFilterState { original_state: Relearning(RelearnState { learning: LearnState { remaining_steps: 1, scheduled_secs: 600 }, review: ReviewState { scheduled_days: 1, elapsed_days: 0, ease_factor: 2.3, lapses: 1, leeched: false } }) })), rating: Good, answered_at: TimestampMillis(1659592800000), milliseconds_taken: 0, custom_data: None })\\n\",\n",
      "\n",
      "\u001b[1;32mcode-notes/Untitled1.ipynb\u001b[0m\u001b[K\n",
      "\u001b[1;33m1443\u001b[0m\u001b[K:    \"!ag \u001b[30;43mfiltered\u001b[0m\u001b[Kcode-notes\"\n"
     ]
    }
   ],
   "source": [
    "!ag filtered code-notes"
   ]
  },
  {
   "cell_type": "code",
   "execution_count": 102,
   "id": "b3b96f22-35c4-4f4d-ad46-2b2f31e0386f",
   "metadata": {},
   "outputs": [
    {
     "data": {
      "image/png": "[encoded data removed]",
      "text/plain": [
       "<Figure size 640x480 with 1 Axes>"
      ]
     },
     "metadata": {},
     "output_type": "display_data"
    },
    {
     "data": {
      "text/plain": [
       "<sympy.plotting.plot.Plot at 0x7f387df15b80>"
      ]
     },
     "execution_count": 102,
     "metadata": {},
     "output_type": "execute_result"
    }
   ],
   "source": [
    "def f(t):\n",
    "    return Fraction(1, 15) - t/450\n",
    "\n",
    "def g(t):\n",
    "    return (t**2)/12900\n",
    "\n",
    "def C(t):\n",
    "    return sy.Integral(f(s) + g(s), (s, 0, t))/t\n",
    "\n",
    "sy.plot(C(t), f(t) + g(t))"
   ]
  },
  {
   "cell_type": "code",
   "execution_count": null,
   "id": "28d6046d-ab16-4640-92bc-f75c45fa48ec",
   "metadata": {},
   "outputs": [],
   "source": []
  }
 ],
 "metadata": {
  "kernelspec": {
   "display_name": "Python 3 (ipykernel)",
   "language": "python",
   "name": "python3"
  },
  "language_info": {
   "codemirror_mode": {
    "name": "ipython",
    "version": 3
   },
   "file_extension": ".py",
   "mimetype": "text/x-python",
   "name": "python",
   "nbconvert_exporter": "python",
   "pygments_lexer": "ipython3",
   "version": "3.9.15"
  }
 },
 "nbformat": 4,
 "nbformat_minor": 5
}
