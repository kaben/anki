{
 "cells": [
  {
   "cell_type": "code",
   "execution_count": 1,
   "id": "b1cc3054-4c76-41fc-a9cd-6d43131c9bd8",
   "metadata": {},
   "outputs": [],
   "source": [
    "import aqt\n",
    "\n",
    "from anki import scheduler_pb2\n",
    "\n",
    "from matplotlib import pyplot as plt\n",
    "import pandas as pd\n",
    "import seaborn as sns\n",
    "import scipy\n",
    "\n",
    "import datetime, itertools, time"
   ]
  },
  {
   "cell_type": "code",
   "execution_count": 2,
   "id": "9387da74-0b6e-4459-b379-0eb86150fede",
   "metadata": {},
   "outputs": [],
   "source": [
    "col = mw.col"
   ]
  },
  {
   "cell_type": "code",
   "execution_count": 6,
   "id": "d7504418-efd0-4a05-b78a-83f945207704",
   "metadata": {},
   "outputs": [],
   "source": [
    "restore_indices_commands = [\n",
    "    \"CREATE INDEX ix_notes_usn on notes (usn);\",\n",
    "    \"CREATE INDEX ix_cards_usn on cards (usn);\",\n",
    "    \"CREATE INDEX ix_cards_nid on cards (nid);\",\n",
    "    \"CREATE INDEX ix_cards_sched on cards (did, queue, due);\",\n",
    "    \"CREATE INDEX ix_notes_csum on notes (csum);\",\n",
    "    \"CREATE UNIQUE INDEX idx_fields_name_ntid ON fields (name, ntid);\",\n",
    "    \"CREATE UNIQUE INDEX idx_templates_name_ntid ON templates (name, ntid);\",\n",
    "    \"CREATE INDEX idx_templates_usn ON templates (usn);\",\n",
    "    \"CREATE UNIQUE INDEX idx_notetypes_name ON notetypes (name);\",\n",
    "    \"CREATE INDEX idx_notetypes_usn ON notetypes (usn);\",\n",
    "    \"CREATE UNIQUE INDEX idx_decks_name ON decks (name);\",\n",
    "    \"CREATE INDEX idx_notes_mid ON notes (mid);\",\n",
    "    \"CREATE INDEX idx_cards_odid ON cards (odid) WHERE odid != 0;\",\n",
    "    \"CREATE INDEX idx_graves_pending ON graves (usn);\",\n",
    "    \"CREATE INDEX ix_revlog_cid on revlog (cid);\",\n",
    "]"
   ]
  },
  {
   "cell_type": "code",
   "execution_count": 7,
   "id": "e64f0233-d50b-4ebb-8c05-a44bf32e0cda",
   "metadata": {},
   "outputs": [
    {
     "name": "stdout",
     "output_type": "stream",
     "text": [
      "Rolling back after exception: DbError { info: \"SqliteFailure(Error { code: Unknown, extended_code: 1 }, Some(\\\"index ix_notes_usn already exists\\\"))\", kind: Other }\n",
      "Rolling back after exception: DbError { info: \"SqliteFailure(Error { code: Unknown, extended_code: 1 }, Some(\\\"index ix_cards_usn already exists\\\"))\", kind: Other }\n",
      "Rolling back after exception: DbError { info: \"SqliteFailure(Error { code: Unknown, extended_code: 1 }, Some(\\\"index ix_cards_nid already exists\\\"))\", kind: Other }\n",
      "Rolling back after exception: DbError { info: \"SqliteFailure(Error { code: Unknown, extended_code: 1 }, Some(\\\"index ix_cards_sched already exists\\\"))\", kind: Other }\n",
      "Rolling back after exception: DbError { info: \"SqliteFailure(Error { code: Unknown, extended_code: 1 }, Some(\\\"index ix_notes_csum already exists\\\"))\", kind: Other }\n",
      "Rolling back after exception: DbError { info: \"SqliteFailure(Error { code: Unknown, extended_code: 1 }, Some(\\\"index idx_fields_name_ntid already exists\\\"))\", kind: Other }\n",
      "Rolling back after exception: DbError { info: \"SqliteFailure(Error { code: Unknown, extended_code: 1 }, Some(\\\"index idx_templates_name_ntid already exists\\\"))\", kind: Other }\n",
      "Rolling back after exception: DbError { info: \"SqliteFailure(Error { code: Unknown, extended_code: 1 }, Some(\\\"index idx_templates_usn already exists\\\"))\", kind: Other }\n",
      "Rolling back after exception: DbError { info: \"SqliteFailure(Error { code: Unknown, extended_code: 1 }, Some(\\\"index idx_notetypes_name already exists\\\"))\", kind: Other }\n",
      "Rolling back after exception: DbError { info: \"SqliteFailure(Error { code: Unknown, extended_code: 1 }, Some(\\\"index idx_notetypes_usn already exists\\\"))\", kind: Other }\n",
      "Rolling back after exception: DbError { info: \"SqliteFailure(Error { code: Unknown, extended_code: 1 }, Some(\\\"index idx_decks_name already exists\\\"))\", kind: Other }\n",
      "Rolling back after exception: DbError { info: \"SqliteFailure(Error { code: Unknown, extended_code: 1 }, Some(\\\"index idx_notes_mid already exists\\\"))\", kind: Other }\n",
      "Rolling back after exception: DbError { info: \"SqliteFailure(Error { code: Unknown, extended_code: 1 }, Some(\\\"index idx_cards_odid already exists\\\"))\", kind: Other }\n",
      "Rolling back after exception: DbError { info: \"SqliteFailure(Error { code: Unknown, extended_code: 1 }, Some(\\\"index idx_graves_pending already exists\\\"))\", kind: Other }\n"
     ]
    }
   ],
   "source": [
    "for command in restore_indices_commands:\n",
    "    try:\n",
    "        col.db.execute(command)\n",
    "    except Exception as e:\n",
    "        print(f\"Rolling back after exception: {e}\")\n",
    "        col.db.rollback()\n",
    "    finally:\n",
    "        col.db.commit()"
   ]
  },
  {
   "cell_type": "code",
   "execution_count": 9,
   "id": "17faa1e5-0f6b-4233-8bf4-40615745ef86",
   "metadata": {},
   "outputs": [
    {
     "name": "stdout",
     "output_type": "stream",
     "text": [
      "[]\n",
      "[[1673309520000, 1659061121013, 2015, 4, 2, -600, 2850, 5500, 2]]\n",
      "[[1673309520000, '', '', 0, '']]\n"
     ]
    }
   ],
   "source": [
    "print(list(col.db.execute('''select * from reviews where id = 1673309520000''')))\n",
    "print(list(col.db.execute('''select * from revlog where id = 1673309520000''')))\n",
    "print(list(col.db.execute('''select * from review_notes where id = 1673309520000''')))"
   ]
  },
  {
   "cell_type": "code",
   "execution_count": 10,
   "id": "6fab78b2-9294-49d0-9eb2-8335d1faca01",
   "metadata": {},
   "outputs": [
    {
     "name": "stdout",
     "output_type": "stream",
     "text": [
      "[[0]]\n",
      "1673640296.995 GET /_anki/legacyPageData\n",
      "1673640296.997 GET /_anki/legacyPageData\n",
      "1673640297.006 GET /_anki/css/webview.css\n",
      "1673640297.008 GET /_anki/css/toolbar.css\n",
      "1673640297.009 GET /_anki/css/toolbar-bottom.css\n",
      "1673640297.009 GET /_anki/js/webview.js\n",
      "1673640297.010 GET /_anki/css/webview.css\n",
      "1673640297.010 GET /_anki/js/vendor/jquery.min.js\n",
      "1673640297.015 GET /_anki/css/deckbrowser.css\n",
      "1673640297.016 GET /_anki/js/deckbrowser.js\n",
      "1673640297.016 GET /_anki/js/vendor/jquery.min.js\n",
      "1673640297.016 GET /_anki/js/vendor/jquery-ui.min.js\n",
      "1673640297.017 GET /_anki/js/webview.js\n",
      "1673640297.018 GET /_anki/imgs/gears.svg\n"
     ]
    }
   ],
   "source": [
    "print(list(col.db.execute('''select last_insert_rowid()''')))"
   ]
  },
  {
   "cell_type": "code",
   "execution_count": 16,
   "id": "90ddb50a-87a1-4e9d-94cc-71fa146741b6",
   "metadata": {},
   "outputs": [
    {
     "name": "stdout",
     "output_type": "stream",
     "text": [
      "[]\n",
      "[[0]]\n"
     ]
    }
   ],
   "source": [
    "print(list(col.db.execute('''INSERT INTO reviews (id, cid, usn, ease, ivl, lastIvl, factor, time, type, feedback, tags, mod) VALUES (9999999999999, 0, -1, 0, 0, 0, 0, 0, 0, '', '', 0)''')))\n",
    "print(list(col.db.execute('''SELECT last_insert_rowid()''')))"
   ]
  },
  {
   "cell_type": "code",
   "execution_count": 20,
   "id": "5b36ccc1-3cc6-4ae6-a850-cbf3bdaa3afe",
   "metadata": {},
   "outputs": [
    {
     "name": "stdout",
     "output_type": "stream",
     "text": [
      "[]\n",
      "[]\n",
      "[]\n",
      "[]\n",
      "[]\n"
     ]
    },
    {
     "data": {
      "text/plain": [
       "[]"
      ]
     },
     "execution_count": 20,
     "metadata": {},
     "output_type": "execute_result"
    }
   ],
   "source": [
    "print(list(col.db.execute('''\n",
    "CREATE TABLE IF NOT EXISTS last_inserted_row (\n",
    "  table_name text,\n",
    "  id integer\n",
    ");\n",
    "''')))\n",
    "\n",
    "\n",
    "print(list(col.db.execute('''\n",
    "DROP TRIGGER IF EXISTS tr_aft_ins_on_revlog;\n",
    "''')))\n",
    "\n",
    "print(list(col.db.execute('''\n",
    "CREATE TRIGGER IF NOT EXISTS tr_aft_ins_on_revlog\n",
    "  AFTER INSERT ON revlog\n",
    "  BEGIN\n",
    "    UPDATE last_inserted_row SET id = 0 WHERE table_name = 'revlog';\n",
    "    UPDATE last_inserted_row SET id = 0 WHERE table_name = 'review_notes';\n",
    "    INSERT INTO review_notes VALUES (NEW.id, \"\", \"\", 0, 'D');\n",
    "    UPDATE last_inserted_row SET id = NEW.id WHERE table_name = 'revlog';\n",
    "    UPDATE last_inserted_row SET id = NEW.id WHERE table_name = 'review_notes';\n",
    "  END;\n",
    "''')))\n",
    "\n",
    "print(list(col.db.execute('''\n",
    "DROP TRIGGER IF EXISTS tr_nstd_ins_on_reviews;\n",
    "''')))\n",
    "\n",
    "print(list(col.db.execute('''\n",
    "CREATE TRIGGER IF NOT EXISTS tr_nstd_ins_on_reviews\n",
    "  INSTEAD OF INSERT ON reviews\n",
    "  BEGIN\n",
    "    UPDATE last_inserted_row SET id = NEW.id WHERE table_name = 'reviews';\n",
    "    \n",
    "    INSERT INTO revlog\n",
    "      VALUES (NEW.id, NEW.cid, NEW.usn, NEW.ease, NEW.ivl, NEW.lastIvl, new.factor, NEW.time, NEW.type)\n",
    "    ON CONFLICT (id) DO\n",
    "      UPDATE SET (cid, usn, ease, ivl, lastIvl, factor, time, type) = (NEW.cid, NEW.usn, NEW.ease, NEW.ivl, NEW.lastIvl, NEW.factor, NEW.time, NEW.type);\n",
    "\n",
    "    INSERT INTO review_notes\n",
    "      VALUES (NEW.id, NEW.feedback, NEW.tags, NEW.mod, 'D')\n",
    "    ON CONFLICT (id) DO\n",
    "      UPDATE SET (feedback, tags, mod, vis) = (NEW.feedback, NEW.tags, NEW.mod, (\n",
    "            SELECT (CASE WHEN review_notes.vis == 'D' THEN 'D' ELSE 'V' END) FROM review_notes WHERE review_notes.id == NEW.id)\n",
    "    );\n",
    "\n",
    "    UPDATE last_inserted_row SET id = NEW.id WHERE table_name = 'reviews';\n",
    "  END;\n",
    "''')))\n",
    "\n",
    "col.db.execute('COMMIT')"
   ]
  },
  {
   "cell_type": "code",
   "execution_count": 21,
   "id": "b9b85b83-97af-496d-9255-8bffa633a46b",
   "metadata": {},
   "outputs": [
    {
     "name": "stdout",
     "output_type": "stream",
     "text": [
      "[]\n",
      "[]\n",
      "[['revlog', 9999999999999], ['review_notes', 9999999999999], ['reviews', 9999999999999]]\n"
     ]
    }
   ],
   "source": [
    "print(list(col.db.execute('''DELETE FROM reviews WHERE id = 9999999999999;''')))\n",
    "print(list(col.db.execute('''INSERT INTO reviews (id, cid, usn, ease, ivl, lastIvl, factor, time, type, feedback, tags, mod) VALUES (9999999999999, 0, -1, 0, 0, 0, 0, 0, 0, '', '', 0);''')))\n",
    "print(list(col.db.execute('''SELECT * FROM last_inserted_row;''')))"
   ]
  },
  {
   "cell_type": "code",
   "execution_count": 18,
   "id": "8417e9ab-65f2-40be-a55a-70be2e6e36c6",
   "metadata": {},
   "outputs": [
    {
     "name": "stdout",
     "output_type": "stream",
     "text": [
      "[]\n",
      "[]\n",
      "[]\n",
      "[['revlog', 0], ['review_notes', 0], ['reviews', 0]]\n"
     ]
    }
   ],
   "source": [
    "print(list(col.db.execute('''INSERT INTO last_inserted_row (table_name, id) VALUES ('revlog', 0);''')))\n",
    "print(list(col.db.execute('''INSERT INTO last_inserted_row (table_name, id) VALUES ('review_notes', 0);''')))\n",
    "print(list(col.db.execute('''INSERT INTO last_inserted_row (table_name, id) VALUES ('reviews', 0);''')))\n",
    "print(list(col.db.execute('''SELECT * FROM last_inserted_row;''')))"
   ]
  },
  {
   "cell_type": "code",
   "execution_count": 5,
   "id": "f9a3705e-9c55-4fde-b9c2-e1477f9193f2",
   "metadata": {},
   "outputs": [
    {
     "name": "stdout",
     "output_type": "stream",
     "text": [
      "[]\n"
     ]
    }
   ],
   "source": [
    "print(list(col.db.execute('''DELETE FROM reviews WHERE id = 9999999999999;''')))"
   ]
  },
  {
   "cell_type": "code",
   "execution_count": 6,
   "id": "a6be0cca-0d29-4b81-9e44-2c14235156c3",
   "metadata": {},
   "outputs": [
    {
     "name": "stdout",
     "output_type": "stream",
     "text": [
      "[[1673639270993, 1672682213036, 2070, 1, -600, -600, 2150, 4733, 2, '', '', 0], [1673628209710, 1672682213036, 2069, 1, -600, -600, 2150, 5645, 2, '', '', 0], [1673624998645, 1672682213036, 0, 1, -600, -600, 2150, 4912, 2, '', '', 0], [1673582757562, 1672682213036, 2067, 1, -600, -600, 2150, 4328, 2, '', '', 0], [1673577918034, 1672682213036, 2062, 1, -600, -600, 2150, 3006, 2, '', '', 0]]\n"
     ]
    }
   ],
   "source": [
    "print(list(col.db.execute('''SELECT * FROM reviews ORDER BY id DESC limit 5;''')))"
   ]
  },
  {
   "cell_type": "code",
   "execution_count": 10,
   "id": "ad7035af-be32-4ce6-a2f1-5bcdb7a33903",
   "metadata": {},
   "outputs": [
    {
     "name": "stdout",
     "output_type": "stream",
     "text": [
      "[[1673639270994]]\n"
     ]
    }
   ],
   "source": [
    "print(list(col.db.execute('''SELECT min(r1.id + 1) FROM reviews r1 WHERE (r1.id >= 1673639270993) AND NOT EXISTS (SELECT 1 FROM reviews r2 WHERE (r2.id == r1.id + 1))''')))"
   ]
  },
  {
   "cell_type": "code",
   "execution_count": 27,
   "id": "470d6188-cc1b-4114-a58b-5b4f7ef3e42f",
   "metadata": {},
   "outputs": [
    {
     "name": "stdout",
     "output_type": "stream",
     "text": [
      "[[1659295892838], [1659295895776], [1659295898291], [1659295928603], [1659295943382]]\n"
     ]
    }
   ],
   "source": [
    "print(list(col.db.execute('''SELECT r1.id + 1 FROM revlog r1 WHERE (r1.id >= 1659295892836) AND NOT EXISTS (SELECT 0 FROM revlog r2 WHERE (r2.id == r1.id + 1)) ORDER BY r1.id ASC LIMIT 5''')))"
   ]
  },
  {
   "cell_type": "code",
   "execution_count": 32,
   "id": "da72bb33-b52a-425b-8c7d-7065bba8e3ab",
   "metadata": {},
   "outputs": [
    {
     "name": "stdout",
     "output_type": "stream",
     "text": [
      "[[1641539675765], [1641539694056], [1641539712967], [1641539725186], [1641539735693]]\n",
      "1673656038.020 GET /_anki/legacyPageData\n",
      "1673656038.022 GET /_anki/legacyPageData\n",
      "1673656038.036 GET /_anki/css/webview.css\n",
      "1673656038.036 GET /_anki/css/deckbrowser.css\n",
      "1673656038.038 GET /_anki/js/webview.js\n",
      "1673656038.038 GET /_anki/js/vendor/jquery.min.js\n",
      "1673656038.039 GET /_anki/js/vendor/jquery-ui.min.js\n",
      "1673656038.039 GET /_anki/js/deckbrowser.js\n",
      "1673656038.044 GET /_anki/css/webview.css\n",
      "1673656038.044 GET /_anki/css/toolbar-bottom.css\n",
      "1673656038.045 GET /_anki/css/toolbar.css\n",
      "1673656038.045 GET /_anki/js/vendor/jquery.min.js\n",
      "1673656038.046 GET /_anki/js/webview.js\n",
      "1673656038.046 GET /_anki/imgs/gears.svg\n",
      "1673656638.129 GET /_anki/legacyPageData\n",
      "1673656638.130 GET /_anki/legacyPageData\n",
      "1673656638.143 GET /_anki/css/webview.css\n",
      "1673656638.146 GET /_anki/css/webview.css\n",
      "1673656638.146 GET /_anki/css/toolbar.css\n",
      "1673656638.147 GET /_anki/css/toolbar-bottom.css\n",
      "1673656638.147 GET /_anki/js/webview.js\n",
      "1673656638.149 GET /_anki/js/vendor/jquery.min.js\n",
      "1673656638.154 GET /_anki/css/deckbrowser.css\n",
      "1673656638.155 GET /_anki/js/deckbrowser.js\n",
      "1673656638.155 GET /_anki/js/vendor/jquery.min.js\n",
      "1673656638.155 GET /_anki/js/vendor/jquery-ui.min.js\n",
      "1673656638.156 GET /_anki/js/webview.js\n",
      "1673656638.157 GET /_anki/imgs/gears.svg\n"
     ]
    }
   ],
   "source": [
    "print(list(col.db.execute('''SELECT r1.id FROM revlog r1 WHERE (r1.id >= 1641539675765) AND NOT EXISTS (SELECT '' FROM revlog r2 WHERE (r2.id == r1.id + 1)) ORDER BY r1.id ASC LIMIT 5''')))"
   ]
  },
  {
   "cell_type": "code",
   "execution_count": 18,
   "id": "bdda34f1-4bd0-4db7-8f46-9d38c163632f",
   "metadata": {},
   "outputs": [
    {
     "name": "stdout",
     "output_type": "stream",
     "text": [
      "[[1659295892838]]\n"
     ]
    }
   ],
   "source": [
    "print(list(col.db.execute('''SELECT (SELECT coalesce(min(r1.id + 1),10) FROM reviews r1 WHERE (r1.id >= 1659295892836) AND NOT EXISTS (SELECT 1 FROM reviews r2 WHERE (r2.id == r1.id + 1)))''')))"
   ]
  },
  {
   "cell_type": "code",
   "execution_count": 33,
   "id": "b1a9edc8-2e74-4a50-9ab8-c1daa87f2c47",
   "metadata": {},
   "outputs": [
    {
     "name": "stdout",
     "output_type": "stream",
     "text": [
      "[[1641539675765], [1641539694056], [1641539712967], [1641539725186], [1641539735693], [1641539756255], [1641539772321], [1641539781780], [1641539802437], [1641539812613], [1641539823996], [1641539835562], [1641539857396], [1641880534299], [1641880544534], [1641880549599], [1641880568989], [1641880574890], [1641880579317], [1641880584238]]\n"
     ]
    }
   ],
   "source": [
    "print(list(col.db.execute('''SELECT r1.id FROM revlog AS r1 WHERE r1.id >=1641539675765 AND r1.id + 1 NOT IN (SELECT r2.id FROM revlog AS r2 WHERE r1.id >= 1641539675765 LIMIT 20) LIMIT 20''')))"
   ]
  },
  {
   "cell_type": "code",
   "execution_count": 35,
   "id": "deca66ad-debd-4824-9da5-13615bb535a5",
   "metadata": {},
   "outputs": [
    {
     "name": "stdout",
     "output_type": "stream",
     "text": [
      "[]\n",
      "1673657238.063 GET /_anki/legacyPageData\n",
      "1673657238.064 GET /_anki/legacyPageData\n",
      "1673657238.077 GET /_anki/css/webview.css\n",
      "1673657238.079 GET /_anki/css/webview.css\n",
      "1673657238.080 GET /_anki/css/toolbar.css\n",
      "1673657238.081 GET /_anki/css/toolbar-bottom.css\n",
      "1673657238.082 GET /_anki/js/webview.js\n",
      "1673657238.082 GET /_anki/js/vendor/jquery.min.js\n",
      "1673657238.083 GET /_anki/css/deckbrowser.css\n",
      "1673657238.084 GET /_anki/js/vendor/jquery-ui.min.js\n",
      "1673657238.085 GET /_anki/js/webview.js\n",
      "1673657238.086 GET /_anki/js/deckbrowser.js\n",
      "1673657238.088 GET /_anki/js/vendor/jquery.min.js\n",
      "1673657238.091 GET /_anki/imgs/gears.svg\n",
      "1673657838.054 GET /_anki/legacyPageData\n",
      "1673657838.055 GET /_anki/legacyPageData\n",
      "1673657838.066 GET /_anki/css/webview.css\n",
      "1673657838.068 GET /_anki/css/webview.css\n",
      "1673657838.069 GET /_anki/css/toolbar.css\n",
      "1673657838.070 GET /_anki/css/deckbrowser.css\n",
      "1673657838.070 GET /_anki/js/webview.js\n",
      "1673657838.071 GET /_anki/js/vendor/jquery.min.js\n",
      "1673657838.073 GET /_anki/js/vendor/jquery-ui.min.js\n",
      "1673657838.074 GET /_anki/js/deckbrowser.js\n",
      "1673657838.074 GET /_anki/imgs/gears.svg\n",
      "1673657838.075 GET /_anki/css/toolbar-bottom.css\n",
      "1673657838.075 GET /_anki/js/webview.js\n",
      "1673657838.076 GET /_anki/js/vendor/jquery.min.js\n",
      "1673658438.125 GET /_anki/legacyPageData\n",
      "1673658438.125 GET /_anki/legacyPageData\n",
      "1673658438.139 GET /_anki/css/webview.css\n",
      "1673658438.141 GET /_anki/css/deckbrowser.css\n",
      "1673658438.141 GET /_anki/js/webview.js\n",
      "1673658438.142 GET /_anki/js/vendor/jquery.min.js\n",
      "1673658438.144 GET /_anki/js/vendor/jquery-ui.min.js\n",
      "1673658438.144 GET /_anki/js/deckbrowser.js\n",
      "1673658438.150 GET /_anki/css/webview.css\n",
      "1673658438.150 GET /_anki/css/toolbar.css\n",
      "1673658438.151 GET /_anki/css/toolbar-bottom.css\n",
      "1673658438.151 GET /_anki/js/webview.js\n",
      "1673658438.152 GET /_anki/imgs/gears.svg\n",
      "1673658438.152 GET /_anki/js/vendor/jquery.min.js\n"
     ]
    }
   ],
   "source": [
    "print(list(col.db.execute('''SELECT id FROM revlog where id == 1641539675766''')))"
   ]
  },
  {
   "cell_type": "code",
   "execution_count": 11,
   "id": "ef1ce40a-8fb3-4032-ac1b-b364f77dda66",
   "metadata": {},
   "outputs": [
    {
     "name": "stdout",
     "output_type": "stream",
     "text": [
      "[[1673639270994]]\n",
      "1673648838.006 GET /_anki/legacyPageData\n",
      "1673648838.007 GET /_anki/legacyPageData\n",
      "1673648838.020 GET /_anki/css/webview.css\n",
      "1673648838.021 GET /_anki/css/deckbrowser.css\n",
      "1673648838.022 GET /_anki/js/webview.js\n",
      "1673648838.022 GET /_anki/js/vendor/jquery.min.js\n",
      "1673648838.023 GET /_anki/imgs/gears.svg\n",
      "1673648838.024 GET /_anki/js/vendor/jquery-ui.min.js\n",
      "1673648838.024 GET /_anki/js/deckbrowser.js\n",
      "1673648838.028 GET /_anki/css/webview.css\n",
      "1673648838.028 GET /_anki/css/toolbar.css\n",
      "1673648838.029 GET /_anki/js/webview.js\n",
      "1673648838.029 GET /_anki/css/toolbar-bottom.css\n",
      "1673648838.030 GET /_anki/js/vendor/jquery.min.js\n",
      "1673649438.106 GET /_anki/legacyPageData\n",
      "1673649438.107 GET /_anki/legacyPageData\n",
      "1673649438.117 GET /_anki/css/webview.css\n",
      "1673649438.119 GET /_anki/css/toolbar.css\n",
      "1673649438.119 GET /_anki/css/toolbar-bottom.css\n",
      "1673649438.120 GET /_anki/js/webview.js\n",
      "1673649438.121 GET /_anki/js/vendor/jquery.min.js\n",
      "1673649438.122 GET /_anki/css/webview.css\n",
      "1673649438.125 GET /_anki/css/deckbrowser.css\n",
      "1673649438.126 GET /_anki/js/webview.js\n",
      "1673649438.126 GET /_anki/js/vendor/jquery.min.js\n",
      "1673649438.127 GET /_anki/js/deckbrowser.js\n",
      "1673649438.128 GET /_anki/imgs/gears.svg\n",
      "1673649438.129 GET /_anki/js/vendor/jquery-ui.min.js\n"
     ]
    }
   ],
   "source": [
    "print(list(col.db.execute('''SELECT 1673639270994''')))"
   ]
  },
  {
   "cell_type": "code",
   "execution_count": null,
   "id": "cdbe2294-d9c1-4c82-978f-5746bc7ec2f3",
   "metadata": {},
   "outputs": [],
   "source": []
  }
 ],
 "metadata": {
  "kernelspec": {
   "display_name": "Python 3 (ipykernel)",
   "language": "python",
   "name": "python3"
  },
  "language_info": {
   "codemirror_mode": {
    "name": "ipython",
    "version": 3
   },
   "file_extension": ".py",
   "mimetype": "text/x-python",
   "name": "python",
   "nbconvert_exporter": "python",
   "pygments_lexer": "ipython3",
   "version": "3.9.15"
  }
 },
 "nbformat": 4,
 "nbformat_minor": 5
}
