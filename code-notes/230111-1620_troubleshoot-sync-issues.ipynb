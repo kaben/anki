{
 "cells": [
  {
   "cell_type": "code",
   "execution_count": 1,
   "id": "a2f808af-ce72-4864-9264-b1d1ffd1bc34",
   "metadata": {},
   "outputs": [],
   "source": [
    "import aqt\n",
    "\n",
    "from anki import scheduler_pb2\n",
    "\n",
    "from matplotlib import pyplot as plt\n",
    "import pandas as pd\n",
    "import seaborn as sns\n",
    "import scipy\n",
    "\n",
    "from dateutil.parser import parse as dt_parse\n",
    "\n",
    "import datetime, itertools, time"
   ]
  },
  {
   "cell_type": "code",
   "execution_count": 2,
   "id": "de6823bd-b74c-4eea-8732-97e7533f751a",
   "metadata": {},
   "outputs": [],
   "source": [
    "col = mw.col"
   ]
  },
  {
   "cell_type": "code",
   "execution_count": 3,
   "id": "fbcfd6a6-86a7-4ab2-bab5-9f81a7df24a8",
   "metadata": {},
   "outputs": [
    {
     "data": {
      "text/plain": [
       "[[15388]]"
      ]
     },
     "execution_count": 3,
     "metadata": {},
     "output_type": "execute_result"
    }
   ],
   "source": [
    "col.db.execute(\"\"\"\n",
    "SELECT count(*) FROM revlog\n",
    "\"\"\")"
   ]
  },
  {
   "cell_type": "code",
   "execution_count": 18,
   "id": "4c9904a8-3cec-40be-864b-b04ab68bb2da",
   "metadata": {},
   "outputs": [
    {
     "data": {
      "text/plain": [
       "[[1673568132079, 1672682213036, -1, 1, -600, -600, 2150, 3982, 2],\n",
       " [1673568125166, 1672682213036, -1, 1, -600, -600, 2150, 6835, 2],\n",
       " [1673567392488, 1672682213036, 2060, 1, -600, -600, 2150, 4335, 2],\n",
       " [1673496684038, 1672682213036, 2041, 1, -600, -600, 2150, 3727, 2],\n",
       " [1673466009746, 1673465973562, 2025, 1, -60, 0, 0, 2133, 0]]"
      ]
     },
     "execution_count": 18,
     "metadata": {},
     "output_type": "execute_result"
    }
   ],
   "source": [
    "col.db.execute(\"\"\"\n",
    "SELECT * FROM revlog ORDER BY id DESC LIMIT 5\n",
    "\"\"\")"
   ]
  },
  {
   "cell_type": "code",
   "execution_count": 19,
   "id": "967e3575-b46c-44fd-94e1-96f6bb4faf4c",
   "metadata": {},
   "outputs": [
    {
     "data": {
      "text/plain": [
       "[[1673568132079, 0],\n",
       " [1673568125166, 1],\n",
       " [1673567392488, 0],\n",
       " [1673496684038, 0],\n",
       " [1673466009746, 0]]"
      ]
     },
     "execution_count": 19,
     "metadata": {},
     "output_type": "execute_result"
    }
   ],
   "source": [
    "col.db.execute(\"\"\"\n",
    "SELECT id,del FROM review_notes ORDER BY id DESC LIMIT 5\n",
    "\"\"\")"
   ]
  },
  {
   "cell_type": "code",
   "execution_count": 3,
   "id": "d29aafac-1401-4b9f-a99b-ecfe95c187ca",
   "metadata": {
    "collapsed": true,
    "jupyter": {
     "outputs_hidden": true
    },
    "tags": []
   },
   "outputs": [
    {
     "name": "stdout",
     "output_type": "stream",
     "text": [
      "sql: SELECT * FROM reviews ORDER BY id DESC LIMIT 5\n"
     ]
    },
    {
     "data": {
      "text/plain": [
       "[[1673496684038, 1672682213036, 2041, 1, -600, -600, 2150, 3727, 2, '', '', 0],\n",
       " [1673466009746, 1673465973562, 2025, 1, -60, 0, 0, 2133, 0, '', '', 0],\n",
       " [1673466007578, 1672682213036, 2025, 1, -600, -600, 2150, 7062, 2, '', '', 0],\n",
       " [1673397372970, 1672682289623, 2008, 4, 2, -600, 2300, 1199, 2, '', '', 0],\n",
       " [1673397371737, 1672682289623, 2008, 2, -900, -600, 2300, 2071, 2, '', '', 0]]"
      ]
     },
     "execution_count": 3,
     "metadata": {},
     "output_type": "execute_result"
    },
    {
     "name": "stdout",
     "output_type": "stream",
     "text": [
      "sql: SELECT val FROM config WHERE KEY = 'reviewSortType'\n",
      "sql: SELECT val FROM config WHERE KEY = 'browserReviewSortBackwards'\n",
      "sql: SELECT val FROM config WHERE KEY = 'activeReviewCols'\n",
      "sql: SELECT val FROM config WHERE KEY = 'normalize_note_text'\n",
      "sql: SELECT val FROM config WHERE KEY = 'curDeck'\n",
      "sql: SELECT id,   name,   mtime_secs,   usn,   common,   kind FROM decks where id = 1672682062563\n",
      "sql: select r.id from reviews as r, cards c where r.cid=c.id and ((c.did in (select id from decks where name regexp '(?i)^Math\u001fCalculus\u001fReviews for testing($|\u001f)') or (c.odid != 0 and c.odid in (select id from decks where name regexp '(?i)^Math\u001fCalculus\u001fReviews for testing($|\u001f)')))) order by r.id asc\n",
      "sql: savepoint rust\n",
      "sql: SELECT val,   usn,   mtime_secs FROM config WHERE KEY = 'browserTableMode'\n",
      "sql: INSERT   OR REPLACE INTO config (KEY, usn, mtime_secs, val) VALUES ('browserTableMode', -1, 1673581194, x'225222')\n",
      "sql: select mod, scm, ls from col\n",
      "sql: update col set mod=1673581194086\n",
      "sql: release rust\n",
      "sql: SELECT DISTINCT id FROM revlog             WHERE cid IN (1672682213036)\n",
      "sql: SELECT DISTINCT id FROM revlog             WHERE cid IN (1672682213036)\n",
      "sql: SELECT revlog.id,   revlog.cid,   revlog.usn,   revlog.ease,   cast(revlog.ivl AS integer),   cast(revlog.lastIvl AS integer),   revlog.factor,   revlog.time,   revlog.type,   revlog.mod,   revlog.feedback,   revlog.tags FROM reviews AS revlog where id=1609718400000\n",
      "sql: SELECT id,   nid,   did,   ord,   cast(mod AS integer),   usn,   type,   queue,   due,   cast(ivl AS integer),   factor,   reps,   lapses,   left,   odue,   odid,   flags,   data FROM cards where id = 1672682213036\n",
      "sql: SELECT id,   guid,   mid,   mod,   usn,   tags,   flds,   cast(sfld AS text),   csum FROM notes where id = 1672682213036\n",
      "sql: SELECT val FROM config WHERE KEY = 'browserTableMode'\n",
      "sql: SELECT revlog.id,   revlog.cid,   revlog.usn,   revlog.ease,   cast(revlog.ivl AS integer),   cast(revlog.lastIvl AS integer),   revlog.factor,   revlog.time,   revlog.type,   revlog.mod,   revlog.feedback,   revlog.tags FROM reviews AS revlog where id=1609718400000\n",
      "sql: SELECT id,   nid,   did,   ord,   cast(mod AS integer),   usn,   type,   queue,   due,   cast(ivl AS integer),   factor,   reps,   lapses,   left,   odue,   odid,   flags,   data FROM cards where id = 1672682213036\n",
      "sql: SELECT id,   guid,   mid,   mod,   usn,   tags,   flds,   cast(sfld AS text),   csum FROM notes where id = 1672682213036\n",
      "sql: SELECT val FROM config WHERE KEY = 'browserTableMode'\n",
      "sql: SELECT revlog.id,   revlog.cid,   revlog.usn,   revlog.ease,   cast(revlog.ivl AS integer),   cast(revlog.lastIvl AS integer),   revlog.factor,   revlog.time,   revlog.type,   revlog.mod,   revlog.feedback,   revlog.tags FROM reviews AS revlog where id=1609718700000\n",
      "sql: SELECT id,   nid,   did,   ord,   cast(mod AS integer),   usn,   type,   queue,   due,   cast(ivl AS integer),   factor,   reps,   lapses,   left,   odue,   odid,   flags,   data FROM cards where id = 1672682213036\n",
      "sql: SELECT id,   guid,   mid,   mod,   usn,   tags,   flds,   cast(sfld AS text),   csum FROM notes where id = 1672682213036\n",
      "sql: SELECT val FROM config WHERE KEY = 'browserTableMode'\n",
      "sql: SELECT revlog.id,   revlog.cid,   revlog.usn,   revlog.ease,   cast(revlog.ivl AS integer),   cast(revlog.lastIvl AS integer),   revlog.factor,   revlog.time,   revlog.type,   revlog.mod,   revlog.feedback,   revlog.tags FROM reviews AS revlog where id=1609719000000\n",
      "sql: SELECT id,   nid,   did,   ord,   cast(mod AS integer),   usn,   type,   queue,   due,   cast(ivl AS integer),   factor,   reps,   lapses,   left,   odue,   odid,   flags,   data FROM cards where id = 1672682213036\n",
      "sql: SELECT id,   guid,   mid,   mod,   usn,   tags,   flds,   cast(sfld AS text),   csum FROM notes where id = 1672682213036\n",
      "sql: SELECT val FROM config WHERE KEY = 'browserTableMode'\n",
      "sql: SELECT revlog.id,   revlog.cid,   revlog.usn,   revlog.ease,   cast(revlog.ivl AS integer),   cast(revlog.lastIvl AS integer),   revlog.factor,   revlog.time,   revlog.type,   revlog.mod,   revlog.feedback,   revlog.tags FROM reviews AS revlog where id=1609719060000\n",
      "sql: SELECT id,   nid,   did,   ord,   cast(mod AS integer),   usn,   type,   queue,   due,   cast(ivl AS integer),   factor,   reps,   lapses,   left,   odue,   odid,   flags,   data FROM cards where id = 1672682213036\n",
      "sql: SELECT id,   guid,   mid,   mod,   usn,   tags,   flds,   cast(sfld AS text),   csum FROM notes where id = 1672682213036\n",
      "sql: SELECT val FROM config WHERE KEY = 'browserTableMode'\n",
      "sql: SELECT revlog.id,   revlog.cid,   revlog.usn,   revlog.ease,   cast(revlog.ivl AS integer),   cast(revlog.lastIvl AS integer),   revlog.factor,   revlog.time,   revlog.type,   revlog.mod,   revlog.feedback,   revlog.tags FROM reviews AS revlog where id=1609719120000\n",
      "sql: SELECT id,   nid,   did,   ord,   cast(mod AS integer),   usn,   type,   queue,   due,   cast(ivl AS integer),   factor,   reps,   lapses,   left,   odue,   odid,   flags,   data FROM cards where id = 1672682213036\n",
      "sql: SELECT id,   guid,   mid,   mod,   usn,   tags,   flds,   cast(sfld AS text),   csum FROM notes where id = 1672682213036\n",
      "sql: SELECT val FROM config WHERE KEY = 'browserTableMode'\n",
      "sql: SELECT revlog.id,   revlog.cid,   revlog.usn,   revlog.ease,   cast(revlog.ivl AS integer),   cast(revlog.lastIvl AS integer),   revlog.factor,   revlog.time,   revlog.type,   revlog.mod,   revlog.feedback,   revlog.tags FROM reviews AS revlog where id=1672682332155\n",
      "sql: SELECT id,   nid,   did,   ord,   cast(mod AS integer),   usn,   type,   queue,   due,   cast(ivl AS integer),   factor,   reps,   lapses,   left,   odue,   odid,   flags,   data FROM cards where id = 1672682213036\n",
      "sql: SELECT id,   guid,   mid,   mod,   usn,   tags,   flds,   cast(sfld AS text),   csum FROM notes where id = 1672682213036\n",
      "sql: SELECT val FROM config WHERE KEY = 'browserTableMode'\n",
      "sql: SELECT revlog.id,   revlog.cid,   revlog.usn,   revlog.ease,   cast(revlog.ivl AS integer),   cast(revlog.lastIvl AS integer),   revlog.factor,   revlog.time,   revlog.type,   revlog.mod,   revlog.feedback,   revlog.tags FROM reviews AS revlog where id=1672682339012\n",
      "sql: SELECT id,   nid,   did,   ord,   cast(mod AS integer),   usn,   type,   queue,   due,   cast(ivl AS integer),   factor,   reps,   lapses,   left,   odue,   odid,   flags,   data FROM cards where id = 1672682252634\n",
      "sql: SELECT id,   guid,   mid,   mod,   usn,   tags,   flds,   cast(sfld AS text),   csum FROM notes where id = 1672682252627\n",
      "sql: SELECT val FROM config WHERE KEY = 'browserTableMode'\n",
      "sql: SELECT revlog.id,   revlog.cid,   revlog.usn,   revlog.ease,   cast(revlog.ivl AS integer),   cast(revlog.lastIvl AS integer),   revlog.factor,   revlog.time,   revlog.type,   revlog.mod,   revlog.feedback,   revlog.tags FROM reviews AS revlog where id=1672682340084\n",
      "sql: SELECT id,   nid,   did,   ord,   cast(mod AS integer),   usn,   type,   queue,   due,   cast(ivl AS integer),   factor,   reps,   lapses,   left,   odue,   odid,   flags,   data FROM cards where id = 1672682273365\n",
      "sql: SELECT id,   guid,   mid,   mod,   usn,   tags,   flds,   cast(sfld AS text),   csum FROM notes where id = 1672682273365\n",
      "sql: SELECT val FROM config WHERE KEY = 'browserTableMode'\n",
      "sql: SELECT revlog.id,   revlog.cid,   revlog.usn,   revlog.ease,   cast(revlog.ivl AS integer),   cast(revlog.lastIvl AS integer),   revlog.factor,   revlog.time,   revlog.type,   revlog.mod,   revlog.feedback,   revlog.tags FROM reviews AS revlog where id=1672682341306\n",
      "sql: SELECT id,   nid,   did,   ord,   cast(mod AS integer),   usn,   type,   queue,   due,   cast(ivl AS integer),   factor,   reps,   lapses,   left,   odue,   odid,   flags,   data FROM cards where id = 1672682289623\n",
      "sql: SELECT id,   guid,   mid,   mod,   usn,   tags,   flds,   cast(sfld AS text),   csum FROM notes where id = 1672682289622\n",
      "sql: SELECT val FROM config WHERE KEY = 'browserTableMode'\n",
      "sql: SELECT revlog.id,   revlog.cid,   revlog.usn,   revlog.ease,   cast(revlog.ivl AS integer),   cast(revlog.lastIvl AS integer),   revlog.factor,   revlog.time,   revlog.type,   revlog.mod,   revlog.feedback,   revlog.tags FROM reviews AS revlog where id=1672682344964\n",
      "sql: SELECT id,   nid,   did,   ord,   cast(mod AS integer),   usn,   type,   queue,   due,   cast(ivl AS integer),   factor,   reps,   lapses,   left,   odue,   odid,   flags,   data FROM cards where id = 1672682309641\n",
      "sql: SELECT id,   guid,   mid,   mod,   usn,   tags,   flds,   cast(sfld AS text),   csum FROM notes where id = 1672682309641\n",
      "sql: SELECT val FROM config WHERE KEY = 'browserTableMode'\n",
      "sql: SELECT revlog.id,   revlog.cid,   revlog.usn,   revlog.ease,   cast(revlog.ivl AS integer),   cast(revlog.lastIvl AS integer),   revlog.factor,   revlog.time,   revlog.type,   revlog.mod,   revlog.feedback,   revlog.tags FROM reviews AS revlog where id=1672682346916\n",
      "sql: SELECT id,   nid,   did,   ord,   cast(mod AS integer),   usn,   type,   queue,   due,   cast(ivl AS integer),   factor,   reps,   lapses,   left,   odue,   odid,   flags,   data FROM cards where id = 1672682273365\n",
      "sql: SELECT id,   guid,   mid,   mod,   usn,   tags,   flds,   cast(sfld AS text),   csum FROM notes where id = 1672682273365\n",
      "sql: SELECT val FROM config WHERE KEY = 'browserTableMode'\n",
      "sql: SELECT revlog.id,   revlog.cid,   revlog.usn,   revlog.ease,   cast(revlog.ivl AS integer),   cast(revlog.lastIvl AS integer),   revlog.factor,   revlog.time,   revlog.type,   revlog.mod,   revlog.feedback,   revlog.tags FROM reviews AS revlog where id=1672682347659\n",
      "sql: SELECT id,   nid,   did,   ord,   cast(mod AS integer),   usn,   type,   queue,   due,   cast(ivl AS integer),   factor,   reps,   lapses,   left,   odue,   odid,   flags,   data FROM cards where id = 1672682213036\n",
      "sql: SELECT id,   guid,   mid,   mod,   usn,   tags,   flds,   cast(sfld AS text),   csum FROM notes where id = 1672682213036\n",
      "sql: SELECT val FROM config WHERE KEY = 'browserTableMode'\n",
      "sql: SELECT revlog.id,   revlog.cid,   revlog.usn,   revlog.ease,   cast(revlog.ivl AS integer),   cast(revlog.lastIvl AS integer),   revlog.factor,   revlog.time,   revlog.type,   revlog.mod,   revlog.feedback,   revlog.tags FROM reviews AS revlog where id=1672682348970\n",
      "sql: SELECT id,   nid,   did,   ord,   cast(mod AS integer),   usn,   type,   queue,   due,   cast(ivl AS integer),   factor,   reps,   lapses,   left,   odue,   odid,   flags,   data FROM cards where id = 1672682252634\n",
      "sql: SELECT id,   guid,   mid,   mod,   usn,   tags,   flds,   cast(sfld AS text),   csum FROM notes where id = 1672682252627\n",
      "sql: SELECT val FROM config WHERE KEY = 'browserTableMode'\n",
      "sql: SELECT revlog.id,   revlog.cid,   revlog.usn,   revlog.ease,   cast(revlog.ivl AS integer),   cast(revlog.lastIvl AS integer),   revlog.factor,   revlog.time,   revlog.type,   revlog.mod,   revlog.feedback,   revlog.tags FROM reviews AS revlog where id=1672682349963\n",
      "sql: SELECT id,   nid,   did,   ord,   cast(mod AS integer),   usn,   type,   queue,   due,   cast(ivl AS integer),   factor,   reps,   lapses,   left,   odue,   odid,   flags,   data FROM cards where id = 1672682273365\n",
      "sql: SELECT id,   guid,   mid,   mod,   usn,   tags,   flds,   cast(sfld AS text),   csum FROM notes where id = 1672682273365\n",
      "sql: SELECT val FROM config WHERE KEY = 'browserTableMode'\n",
      "sql: SELECT revlog.id,   revlog.cid,   revlog.usn,   revlog.ease,   cast(revlog.ivl AS integer),   cast(revlog.lastIvl AS integer),   revlog.factor,   revlog.time,   revlog.type,   revlog.mod,   revlog.feedback,   revlog.tags FROM reviews AS revlog where id=1672682350731\n",
      "sql: SELECT id,   nid,   did,   ord,   cast(mod AS integer),   usn,   type,   queue,   due,   cast(ivl AS integer),   factor,   reps,   lapses,   left,   odue,   odid,   flags,   data FROM cards where id = 1672682252634\n",
      "sql: SELECT id,   guid,   mid,   mod,   usn,   tags,   flds,   cast(sfld AS text),   csum FROM notes where id = 1672682252627\n",
      "sql: SELECT val FROM config WHERE KEY = 'browserTableMode'\n",
      "sql: SELECT revlog.id,   revlog.cid,   revlog.usn,   revlog.ease,   cast(revlog.ivl AS integer),   cast(revlog.lastIvl AS integer),   revlog.factor,   revlog.time,   revlog.type,   revlog.mod,   revlog.feedback,   revlog.tags FROM reviews AS revlog where id=1672682351443\n",
      "sql: SELECT id,   nid,   did,   ord,   cast(mod AS integer),   usn,   type,   queue,   due,   cast(ivl AS integer),   factor,   reps,   lapses,   left,   odue,   odid,   flags,   data FROM cards where id = 1672682289623\n",
      "sql: SELECT id,   guid,   mid,   mod,   usn,   tags,   flds,   cast(sfld AS text),   csum FROM notes where id = 1672682289622\n",
      "sql: SELECT val FROM config WHERE KEY = 'browserTableMode'\n",
      "sql: SELECT revlog.id,   revlog.cid,   revlog.usn,   revlog.ease,   cast(revlog.ivl AS integer),   cast(revlog.lastIvl AS integer),   revlog.factor,   revlog.time,   revlog.type,   revlog.mod,   revlog.feedback,   revlog.tags FROM reviews AS revlog where id=1672682352676\n",
      "sql: SELECT id,   nid,   did,   ord,   cast(mod AS integer),   usn,   type,   queue,   due,   cast(ivl AS integer),   factor,   reps,   lapses,   left,   odue,   odid,   flags,   data FROM cards where id = 1672682273365\n",
      "sql: SELECT id,   guid,   mid,   mod,   usn,   tags,   flds,   cast(sfld AS text),   csum FROM notes where id = 1672682273365\n",
      "sql: SELECT val FROM config WHERE KEY = 'browserTableMode'\n",
      "sql: SELECT revlog.id,   revlog.cid,   revlog.usn,   revlog.ease,   cast(revlog.ivl AS integer),   cast(revlog.lastIvl AS integer),   revlog.factor,   revlog.time,   revlog.type,   revlog.mod,   revlog.feedback,   revlog.tags FROM reviews AS revlog where id=1672682353459\n",
      "sql: SELECT id,   nid,   did,   ord,   cast(mod AS integer),   usn,   type,   queue,   due,   cast(ivl AS integer),   factor,   reps,   lapses,   left,   odue,   odid,   flags,   data FROM cards where id = 1672682289623\n",
      "sql: SELECT id,   guid,   mid,   mod,   usn,   tags,   flds,   cast(sfld AS text),   csum FROM notes where id = 1672682289622\n",
      "sql: SELECT val FROM config WHERE KEY = 'browserTableMode'\n",
      "sql: SELECT revlog.id,   revlog.cid,   revlog.usn,   revlog.ease,   cast(revlog.ivl AS integer),   cast(revlog.lastIvl AS integer),   revlog.factor,   revlog.time,   revlog.type,   revlog.mod,   revlog.feedback,   revlog.tags FROM reviews AS revlog where id=1672682359468\n",
      "sql: SELECT id,   nid,   did,   ord,   cast(mod AS integer),   usn,   type,   queue,   due,   cast(ivl AS integer),   factor,   reps,   lapses,   left,   odue,   odid,   flags,   data FROM cards where id = 1672682273365\n",
      "sql: SELECT id,   guid,   mid,   mod,   usn,   tags,   flds,   cast(sfld AS text),   csum FROM notes where id = 1672682273365\n",
      "sql: SELECT val FROM config WHERE KEY = 'browserTableMode'\n",
      "sql: SELECT revlog.id,   revlog.cid,   revlog.usn,   revlog.ease,   cast(revlog.ivl AS integer),   cast(revlog.lastIvl AS integer),   revlog.factor,   revlog.time,   revlog.type,   revlog.mod,   revlog.feedback,   revlog.tags FROM reviews AS revlog where id=1672682360378\n",
      "sql: SELECT id,   nid,   did,   ord,   cast(mod AS integer),   usn,   type,   queue,   due,   cast(ivl AS integer),   factor,   reps,   lapses,   left,   odue,   odid,   flags,   data FROM cards where id = 1672682213036\n",
      "sql: SELECT id,   guid,   mid,   mod,   usn,   tags,   flds,   cast(sfld AS text),   csum FROM notes where id = 1672682213036\n",
      "sql: SELECT val FROM config WHERE KEY = 'browserTableMode'\n",
      "sql: SELECT revlog.id,   revlog.cid,   revlog.usn,   revlog.ease,   cast(revlog.ivl AS integer),   cast(revlog.lastIvl AS integer),   revlog.factor,   revlog.time,   revlog.type,   revlog.mod,   revlog.feedback,   revlog.tags FROM reviews AS revlog where id=1672682362378\n",
      "sql: SELECT id,   nid,   did,   ord,   cast(mod AS integer),   usn,   type,   queue,   due,   cast(ivl AS integer),   factor,   reps,   lapses,   left,   odue,   odid,   flags,   data FROM cards where id = 1672682252634\n",
      "sql: SELECT id,   guid,   mid,   mod,   usn,   tags,   flds,   cast(sfld AS text),   csum FROM notes where id = 1672682252627\n",
      "sql: SELECT val FROM config WHERE KEY = 'browserTableMode'\n",
      "sql: SELECT revlog.id,   revlog.cid,   revlog.usn,   revlog.ease,   cast(revlog.ivl AS integer),   cast(revlog.lastIvl AS integer),   revlog.factor,   revlog.time,   revlog.type,   revlog.mod,   revlog.feedback,   revlog.tags FROM reviews AS revlog where id=1672682363067\n",
      "sql: SELECT id,   nid,   did,   ord,   cast(mod AS integer),   usn,   type,   queue,   due,   cast(ivl AS integer),   factor,   reps,   lapses,   left,   odue,   odid,   flags,   data FROM cards where id = 1672682273365\n",
      "sql: SELECT id,   guid,   mid,   mod,   usn,   tags,   flds,   cast(sfld AS text),   csum FROM notes where id = 1672682273365\n",
      "sql: SELECT val FROM config WHERE KEY = 'browserTableMode'\n",
      "sql: SELECT revlog.id,   revlog.cid,   revlog.usn,   revlog.ease,   cast(revlog.ivl AS integer),   cast(revlog.lastIvl AS integer),   revlog.factor,   revlog.time,   revlog.type,   revlog.mod,   revlog.feedback,   revlog.tags FROM reviews AS revlog where id=1672682363579\n",
      "sql: SELECT id,   nid,   did,   ord,   cast(mod AS integer),   usn,   type,   queue,   due,   cast(ivl AS integer),   factor,   reps,   lapses,   left,   odue,   odid,   flags,   data FROM cards where id = 1672682252634\n",
      "sql: SELECT id,   guid,   mid,   mod,   usn,   tags,   flds,   cast(sfld AS text),   csum FROM notes where id = 1672682252627\n",
      "sql: SELECT val FROM config WHERE KEY = 'browserTableMode'\n",
      "sql: SELECT revlog.id,   revlog.cid,   revlog.usn,   revlog.ease,   cast(revlog.ivl AS integer),   cast(revlog.lastIvl AS integer),   revlog.factor,   revlog.time,   revlog.type,   revlog.mod,   revlog.feedback,   revlog.tags FROM reviews AS revlog where id=1672682364083\n",
      "sql: SELECT id,   nid,   did,   ord,   cast(mod AS integer),   usn,   type,   queue,   due,   cast(ivl AS integer),   factor,   reps,   lapses,   left,   odue,   odid,   flags,   data FROM cards where id = 1672682273365\n",
      "sql: SELECT id,   guid,   mid,   mod,   usn,   tags,   flds,   cast(sfld AS text),   csum FROM notes where id = 1672682273365\n",
      "sql: SELECT val FROM config WHERE KEY = 'browserTableMode'\n",
      "sql: SELECT revlog.id,   revlog.cid,   revlog.usn,   revlog.ease,   cast(revlog.ivl AS integer),   cast(revlog.lastIvl AS integer),   revlog.factor,   revlog.time,   revlog.type,   revlog.mod,   revlog.feedback,   revlog.tags FROM reviews AS revlog where id=1672682364523\n",
      "sql: SELECT id,   nid,   did,   ord,   cast(mod AS integer),   usn,   type,   queue,   due,   cast(ivl AS integer),   factor,   reps,   lapses,   left,   odue,   odid,   flags,   data FROM cards where id = 1672682309641\n",
      "sql: SELECT id,   guid,   mid,   mod,   usn,   tags,   flds,   cast(sfld AS text),   csum FROM notes where id = 1672682309641\n",
      "sql: SELECT val FROM config WHERE KEY = 'browserTableMode'\n",
      "sql: SELECT revlog.id,   revlog.cid,   revlog.usn,   revlog.ease,   cast(revlog.ivl AS integer),   cast(revlog.lastIvl AS integer),   revlog.factor,   revlog.time,   revlog.type,   revlog.mod,   revlog.feedback,   revlog.tags FROM reviews AS revlog where id=1672682366124\n",
      "sql: SELECT id,   nid,   did,   ord,   cast(mod AS integer),   usn,   type,   queue,   due,   cast(ivl AS integer),   factor,   reps,   lapses,   left,   odue,   odid,   flags,   data FROM cards where id = 1672682252634\n",
      "sql: SELECT id,   guid,   mid,   mod,   usn,   tags,   flds,   cast(sfld AS text),   csum FROM notes where id = 1672682252627\n",
      "sql: SELECT val FROM config WHERE KEY = 'browserTableMode'\n",
      "sql: SELECT revlog.id,   revlog.cid,   revlog.usn,   revlog.ease,   cast(revlog.ivl AS integer),   cast(revlog.lastIvl AS integer),   revlog.factor,   revlog.time,   revlog.type,   revlog.mod,   revlog.feedback,   revlog.tags FROM reviews AS revlog where id=1672682367147\n",
      "sql: SELECT id,   nid,   did,   ord,   cast(mod AS integer),   usn,   type,   queue,   due,   cast(ivl AS integer),   factor,   reps,   lapses,   left,   odue,   odid,   flags,   data FROM cards where id = 1672682309641\n",
      "sql: SELECT id,   guid,   mid,   mod,   usn,   tags,   flds,   cast(sfld AS text),   csum FROM notes where id = 1672682309641\n",
      "sql: SELECT val FROM config WHERE KEY = 'browserTableMode'\n",
      "sql: SELECT revlog.id,   revlog.cid,   revlog.usn,   revlog.ease,   cast(revlog.ivl AS integer),   cast(revlog.lastIvl AS integer),   revlog.factor,   revlog.time,   revlog.type,   revlog.mod,   revlog.feedback,   revlog.tags FROM reviews AS revlog where id=1672682368674\n",
      "sql: SELECT id,   nid,   did,   ord,   cast(mod AS integer),   usn,   type,   queue,   due,   cast(ivl AS integer),   factor,   reps,   lapses,   left,   odue,   odid,   flags,   data FROM cards where id = 1672682252634\n",
      "sql: SELECT id,   guid,   mid,   mod,   usn,   tags,   flds,   cast(sfld AS text),   csum FROM notes where id = 1672682252627\n",
      "sql: SELECT val FROM config WHERE KEY = 'browserTableMode'\n",
      "sql: SELECT revlog.id,   revlog.cid,   revlog.usn,   revlog.ease,   cast(revlog.ivl AS integer),   cast(revlog.lastIvl AS integer),   revlog.factor,   revlog.time,   revlog.type,   revlog.mod,   revlog.feedback,   revlog.tags FROM reviews AS revlog where id=1672682370467\n",
      "sql: SELECT id,   nid,   did,   ord,   cast(mod AS integer),   usn,   type,   queue,   due,   cast(ivl AS integer),   factor,   reps,   lapses,   left,   odue,   odid,   flags,   data FROM cards where id = 1672682309641\n",
      "sql: SELECT id,   guid,   mid,   mod,   usn,   tags,   flds,   cast(sfld AS text),   csum FROM notes where id = 1672682309641\n",
      "sql: SELECT val FROM config WHERE KEY = 'browserTableMode'\n",
      "sql: SELECT revlog.id,   revlog.cid,   revlog.usn,   revlog.ease,   cast(revlog.ivl AS integer),   cast(revlog.lastIvl AS integer),   revlog.factor,   revlog.time,   revlog.type,   revlog.mod,   revlog.feedback,   revlog.tags FROM reviews AS revlog where id=1672682371434\n",
      "sql: SELECT id,   nid,   did,   ord,   cast(mod AS integer),   usn,   type,   queue,   due,   cast(ivl AS integer),   factor,   reps,   lapses,   left,   odue,   odid,   flags,   data FROM cards where id = 1672682309641\n",
      "sql: SELECT id,   guid,   mid,   mod,   usn,   tags,   flds,   cast(sfld AS text),   csum FROM notes where id = 1672682309641\n",
      "sql: SELECT val FROM config WHERE KEY = 'browserTableMode'\n",
      "sql: SELECT revlog.id,   revlog.cid,   revlog.usn,   revlog.ease,   cast(revlog.ivl AS integer),   cast(revlog.lastIvl AS integer),   revlog.factor,   revlog.time,   revlog.type,   revlog.mod,   revlog.feedback,   revlog.tags FROM reviews AS revlog where id=1673045939525\n",
      "sql: SELECT id,   nid,   did,   ord,   cast(mod AS integer),   usn,   type,   queue,   due,   cast(ivl AS integer),   factor,   reps,   lapses,   left,   odue,   odid,   flags,   data FROM cards where id = 1672682273365\n",
      "sql: SELECT id,   guid,   mid,   mod,   usn,   tags,   flds,   cast(sfld AS text),   csum FROM notes where id = 1672682273365\n",
      "sql: SELECT val FROM config WHERE KEY = 'browserTableMode'\n",
      "sql: SELECT revlog.id,   revlog.cid,   revlog.usn,   revlog.ease,   cast(revlog.ivl AS integer),   cast(revlog.lastIvl AS integer),   revlog.factor,   revlog.time,   revlog.type,   revlog.mod,   revlog.feedback,   revlog.tags FROM reviews AS revlog where id=1673046059493\n",
      "sql: SELECT id,   nid,   did,   ord,   cast(mod AS integer),   usn,   type,   queue,   due,   cast(ivl AS integer),   factor,   reps,   lapses,   left,   odue,   odid,   flags,   data FROM cards where id = 1672682252634\n",
      "sql: SELECT id,   guid,   mid,   mod,   usn,   tags,   flds,   cast(sfld AS text),   csum FROM notes where id = 1672682252627\n",
      "sql: SELECT val FROM config WHERE KEY = 'browserTableMode'\n",
      "sql: SELECT revlog.id,   revlog.cid,   revlog.usn,   revlog.ease,   cast(revlog.ivl AS integer),   cast(revlog.lastIvl AS integer),   revlog.factor,   revlog.time,   revlog.type,   revlog.mod,   revlog.feedback,   revlog.tags FROM reviews AS revlog where id=1673046179613\n",
      "sql: SELECT id,   nid,   did,   ord,   cast(mod AS integer),   usn,   type,   queue,   due,   cast(ivl AS integer),   factor,   reps,   lapses,   left,   odue,   odid,   flags,   data FROM cards where id = 1672682213036\n",
      "sql: SELECT id,   guid,   mid,   mod,   usn,   tags,   flds,   cast(sfld AS text),   csum FROM notes where id = 1672682213036\n",
      "sql: SELECT val FROM config WHERE KEY = 'browserTableMode'\n",
      "sql: SELECT revlog.id,   revlog.cid,   revlog.usn,   revlog.ease,   cast(revlog.ivl AS integer),   cast(revlog.lastIvl AS integer),   revlog.factor,   revlog.time,   revlog.type,   revlog.mod,   revlog.feedback,   revlog.tags FROM reviews AS revlog where id=1673046287529\n",
      "sql: SELECT id,   nid,   did,   ord,   cast(mod AS integer),   usn,   type,   queue,   due,   cast(ivl AS integer),   factor,   reps,   lapses,   left,   odue,   odid,   flags,   data FROM cards where id = 1672682289623\n",
      "sql: SELECT id,   guid,   mid,   mod,   usn,   tags,   flds,   cast(sfld AS text),   csum FROM notes where id = 1672682289622\n",
      "sql: SELECT val FROM config WHERE KEY = 'browserTableMode'\n",
      "sql: SELECT revlog.id,   revlog.cid,   revlog.usn,   revlog.ease,   cast(revlog.ivl AS integer),   cast(revlog.lastIvl AS integer),   revlog.factor,   revlog.time,   revlog.type,   revlog.mod,   revlog.feedback,   revlog.tags FROM reviews AS revlog where id=1673046421116\n",
      "sql: SELECT id,   nid,   did,   ord,   cast(mod AS integer),   usn,   type,   queue,   due,   cast(ivl AS integer),   factor,   reps,   lapses,   left,   odue,   odid,   flags,   data FROM cards where id = 1672682309641\n",
      "sql: SELECT id,   guid,   mid,   mod,   usn,   tags,   flds,   cast(sfld AS text),   csum FROM notes where id = 1672682309641\n",
      "sql: SELECT val FROM config WHERE KEY = 'browserTableMode'\n",
      "sql: SELECT revlog.id,   revlog.cid,   revlog.usn,   revlog.ease,   cast(revlog.ivl AS integer),   cast(revlog.lastIvl AS integer),   revlog.factor,   revlog.time,   revlog.type,   revlog.mod,   revlog.feedback,   revlog.tags FROM reviews AS revlog where id=1673397346713\n",
      "sql: SELECT id,   nid,   did,   ord,   cast(mod AS integer),   usn,   type,   queue,   due,   cast(ivl AS integer),   factor,   reps,   lapses,   left,   odue,   odid,   flags,   data FROM cards where id = 1672682289623\n",
      "sql: SELECT id,   guid,   mid,   mod,   usn,   tags,   flds,   cast(sfld AS text),   csum FROM notes where id = 1672682289622\n",
      "sql: SELECT val FROM config WHERE KEY = 'browserTableMode'\n",
      "sql: SELECT revlog.id,   revlog.cid,   revlog.usn,   revlog.ease,   cast(revlog.ivl AS integer),   cast(revlog.lastIvl AS integer),   revlog.factor,   revlog.time,   revlog.type,   revlog.mod,   revlog.feedback,   revlog.tags FROM reviews AS revlog where id=1673397355817\n",
      "sql: SELECT id,   nid,   did,   ord,   cast(mod AS integer),   usn,   type,   queue,   due,   cast(ivl AS integer),   factor,   reps,   lapses,   left,   odue,   odid,   flags,   data FROM cards where id = 1672682213036\n",
      "sql: SELECT id,   guid,   mid,   mod,   usn,   tags,   flds,   cast(sfld AS text),   csum FROM notes where id = 1672682213036\n",
      "sql: SELECT val FROM config WHERE KEY = 'browserTableMode'\n",
      "sql: SELECT revlog.id,   revlog.cid,   revlog.usn,   revlog.ease,   cast(revlog.ivl AS integer),   cast(revlog.lastIvl AS integer),   revlog.factor,   revlog.time,   revlog.type,   revlog.mod,   revlog.feedback,   revlog.tags FROM reviews AS revlog where id=1673397356682\n",
      "sql: SELECT id,   nid,   did,   ord,   cast(mod AS integer),   usn,   type,   queue,   due,   cast(ivl AS integer),   factor,   reps,   lapses,   left,   odue,   odid,   flags,   data FROM cards where id = 1672682309641\n",
      "sql: SELECT id,   guid,   mid,   mod,   usn,   tags,   flds,   cast(sfld AS text),   csum FROM notes where id = 1672682309641\n",
      "sql: SELECT val FROM config WHERE KEY = 'browserTableMode'\n",
      "sql: SELECT revlog.id,   revlog.cid,   revlog.usn,   revlog.ease,   cast(revlog.ivl AS integer),   cast(revlog.lastIvl AS integer),   revlog.factor,   revlog.time,   revlog.type,   revlog.mod,   revlog.feedback,   revlog.tags FROM reviews AS revlog where id=1673397357505\n",
      "sql: SELECT id,   nid,   did,   ord,   cast(mod AS integer),   usn,   type,   queue,   due,   cast(ivl AS integer),   factor,   reps,   lapses,   left,   odue,   odid,   flags,   data FROM cards where id = 1672682273365\n",
      "sql: SELECT id,   guid,   mid,   mod,   usn,   tags,   flds,   cast(sfld AS text),   csum FROM notes where id = 1672682273365\n",
      "sql: SELECT val FROM config WHERE KEY = 'browserTableMode'\n",
      "sql: SELECT revlog.id,   revlog.cid,   revlog.usn,   revlog.ease,   cast(revlog.ivl AS integer),   cast(revlog.lastIvl AS integer),   revlog.factor,   revlog.time,   revlog.type,   revlog.mod,   revlog.feedback,   revlog.tags FROM reviews AS revlog where id=1673397367461\n",
      "sql: SELECT id,   nid,   did,   ord,   cast(mod AS integer),   usn,   type,   queue,   due,   cast(ivl AS integer),   factor,   reps,   lapses,   left,   odue,   odid,   flags,   data FROM cards where id = 1672682252634\n",
      "sql: SELECT id,   guid,   mid,   mod,   usn,   tags,   flds,   cast(sfld AS text),   csum FROM notes where id = 1672682252627\n",
      "sql: SELECT val FROM config WHERE KEY = 'browserTableMode'\n",
      "sql: SELECT revlog.id,   revlog.cid,   revlog.usn,   revlog.ease,   cast(revlog.ivl AS integer),   cast(revlog.lastIvl AS integer),   revlog.factor,   revlog.time,   revlog.type,   revlog.mod,   revlog.feedback,   revlog.tags FROM reviews AS revlog where id=1673397369641\n",
      "sql: SELECT id,   nid,   did,   ord,   cast(mod AS integer),   usn,   type,   queue,   due,   cast(ivl AS integer),   factor,   reps,   lapses,   left,   odue,   odid,   flags,   data FROM cards where id = 1672682289623\n",
      "sql: SELECT id,   guid,   mid,   mod,   usn,   tags,   flds,   cast(sfld AS text),   csum FROM notes where id = 1672682289622\n",
      "sql: SELECT val FROM config WHERE KEY = 'browserTableMode'\n",
      "sql: SELECT revlog.id,   revlog.cid,   revlog.usn,   revlog.ease,   cast(revlog.ivl AS integer),   cast(revlog.lastIvl AS integer),   revlog.factor,   revlog.time,   revlog.type,   revlog.mod,   revlog.feedback,   revlog.tags FROM reviews AS revlog where id=1673397371737\n",
      "sql: SELECT id,   nid,   did,   ord,   cast(mod AS integer),   usn,   type,   queue,   due,   cast(ivl AS integer),   factor,   reps,   lapses,   left,   odue,   odid,   flags,   data FROM cards where id = 1672682289623\n",
      "sql: SELECT id,   guid,   mid,   mod,   usn,   tags,   flds,   cast(sfld AS text),   csum FROM notes where id = 1672682289622\n",
      "sql: SELECT val FROM config WHERE KEY = 'browserTableMode'\n",
      "sql: SELECT revlog.id,   revlog.cid,   revlog.usn,   revlog.ease,   cast(revlog.ivl AS integer),   cast(revlog.lastIvl AS integer),   revlog.factor,   revlog.time,   revlog.type,   revlog.mod,   revlog.feedback,   revlog.tags FROM reviews AS revlog where id=1673397372970\n",
      "sql: SELECT id,   nid,   did,   ord,   cast(mod AS integer),   usn,   type,   queue,   due,   cast(ivl AS integer),   factor,   reps,   lapses,   left,   odue,   odid,   flags,   data FROM cards where id = 1672682289623\n",
      "sql: SELECT id,   guid,   mid,   mod,   usn,   tags,   flds,   cast(sfld AS text),   csum FROM notes where id = 1672682289622\n",
      "sql: SELECT val FROM config WHERE KEY = 'browserTableMode'\n",
      "sql: SELECT revlog.id,   revlog.cid,   revlog.usn,   revlog.ease,   cast(revlog.ivl AS integer),   cast(revlog.lastIvl AS integer),   revlog.factor,   revlog.time,   revlog.type,   revlog.mod,   revlog.feedback,   revlog.tags FROM reviews AS revlog where id=1673466007578\n",
      "sql: SELECT id,   nid,   did,   ord,   cast(mod AS integer),   usn,   type,   queue,   due,   cast(ivl AS integer),   factor,   reps,   lapses,   left,   odue,   odid,   flags,   data FROM cards where id = 1672682213036\n",
      "sql: SELECT id,   guid,   mid,   mod,   usn,   tags,   flds,   cast(sfld AS text),   csum FROM notes where id = 1672682213036\n",
      "sql: SELECT val FROM config WHERE KEY = 'browserTableMode'\n",
      "sql: SELECT revlog.id,   revlog.cid,   revlog.usn,   revlog.ease,   cast(revlog.ivl AS integer),   cast(revlog.lastIvl AS integer),   revlog.factor,   revlog.time,   revlog.type,   revlog.mod,   revlog.feedback,   revlog.tags FROM reviews AS revlog where id=1673496684038\n",
      "sql: SELECT id,   nid,   did,   ord,   cast(mod AS integer),   usn,   type,   queue,   due,   cast(ivl AS integer),   factor,   reps,   lapses,   left,   odue,   odid,   flags,   data FROM cards where id = 1672682213036\n",
      "sql: SELECT id,   guid,   mid,   mod,   usn,   tags,   flds,   cast(sfld AS text),   csum FROM notes where id = 1672682213036\n"
     ]
    }
   ],
   "source": [
    "col.db.execute(\"\"\"\n",
    "SELECT * FROM reviews ORDER BY id DESC LIMIT 5\n",
    "\"\"\")"
   ]
  },
  {
   "cell_type": "code",
   "execution_count": null,
   "id": "e75b40d0-af10-41d9-991a-847ec9006ab6",
   "metadata": {},
   "outputs": [],
   "source": [
    "col.db.execute(\"\"\"\n",
    "DELETE FROM reviews WHERE id=\n",
    "\"\"\")"
   ]
  },
  {
   "cell_type": "code",
   "execution_count": 12,
   "id": "6b6b6ffe-d09f-41c0-8cad-d8fb3a78e2f1",
   "metadata": {},
   "outputs": [
    {
     "name": "stdout",
     "output_type": "stream",
     "text": [
      "sql: SELECT * FROM revlog WHERE id = 1673496684038\n"
     ]
    },
    {
     "data": {
      "text/plain": [
       "[[1673496684038, 1672682213036, 2066, 1, -600, -600, 2150, 3727, 2]]"
      ]
     },
     "execution_count": 12,
     "metadata": {},
     "output_type": "execute_result"
    }
   ],
   "source": [
    "col.db.execute(\"\"\"\n",
    "SELECT * FROM revlog WHERE id = 1673496684038\n",
    "\"\"\")"
   ]
  },
  {
   "cell_type": "code",
   "execution_count": 13,
   "id": "014a575d-4a9a-4999-8e29-c4237ed8f119",
   "metadata": {},
   "outputs": [
    {
     "name": "stdout",
     "output_type": "stream",
     "text": [
      "sql: SELECT * FROM revlog WHERE id = 1673496684038\n"
     ]
    },
    {
     "data": {
      "text/plain": [
       "[[1673496684038, 1672682213036, 2066, 1, -600, -600, 2150, 3727, 2]]"
      ]
     },
     "execution_count": 13,
     "metadata": {},
     "output_type": "execute_result"
    }
   ],
   "source": [
    "col.db.execute(\"\"\"\n",
    "SELECT * FROM revlog WHERE id = 1673496684038\n",
    "\"\"\")"
   ]
  },
  {
   "cell_type": "code",
   "execution_count": 14,
   "id": "d1132a36-69e2-49cf-b0e3-3dbb925a0214",
   "metadata": {},
   "outputs": [
    {
     "data": {
      "text/plain": [
       "[[1673496684038, 1672682213036, 2066, 1, -600, -600, 2150, 3727, 2]]"
      ]
     },
     "execution_count": 14,
     "metadata": {},
     "output_type": "execute_result"
    },
    {
     "name": "stdout",
     "output_type": "stream",
     "text": [
      "sql: SELECT * FROM revlog WHERE id = 1673496684038\n"
     ]
    }
   ],
   "source": [
    "col.db.execute(\"\"\"\n",
    "SELECT * FROM revlog WHERE id = 1673496684038\n",
    "\"\"\")"
   ]
  },
  {
   "cell_type": "code",
   "execution_count": null,
   "id": "f540b74e-5e33-4484-9c06-c92ec45b82f4",
   "metadata": {},
   "outputs": [],
   "source": []
  },
  {
   "cell_type": "code",
   "execution_count": 8,
   "id": "6a2d68e0-1ad5-461c-abce-b9a50fa40adf",
   "metadata": {},
   "outputs": [
    {
     "name": "stdout",
     "output_type": "stream",
     "text": [
      "sql: SELECT * FROM revlog ORDER BY id DESC LIMIT 1\n"
     ]
    },
    {
     "data": {
      "text/plain": [
       "[[1673582757562, 1672682213036, -1, 1, -600, -600, 2150, 4328, 2]]"
      ]
     },
     "execution_count": 8,
     "metadata": {},
     "output_type": "execute_result"
    }
   ],
   "source": [
    "col.db.execute(\"\"\"\n",
    "SELECT * FROM revlog ORDER BY id DESC LIMIT 1\n",
    "\"\"\")"
   ]
  },
  {
   "cell_type": "code",
   "execution_count": null,
   "id": "92d78941-6412-43ef-9a9a-37c995ec6f51",
   "metadata": {},
   "outputs": [],
   "source": [
    "col.db.execute(\"\"\"\n",
    "SELECT * FROM revlog ORDER BY id DESC LIMIT 1\n",
    "\"\"\")"
   ]
  },
  {
   "cell_type": "code",
   "execution_count": 20,
   "id": "d5ada666-ce3b-4b6b-b00a-88fb33296208",
   "metadata": {},
   "outputs": [
    {
     "name": "stdout",
     "output_type": "stream",
     "text": [
      "sql: SELECT CASE (1 == 1) WHEN 1 THEN 'Y' ELSE 'N' END\n"
     ]
    },
    {
     "data": {
      "text/plain": [
       "[['Y']]"
      ]
     },
     "execution_count": 20,
     "metadata": {},
     "output_type": "execute_result"
    }
   ],
   "source": [
    "col.db.execute(\"\"\"\n",
    "SELECT CASE (1 == 1) WHEN 1 THEN 'Y' ELSE 'N' END\n",
    "\"\"\")"
   ]
  },
  {
   "cell_type": "code",
   "execution_count": 21,
   "id": "096fa2a0-9ab8-4300-9328-d4af40f0482a",
   "metadata": {},
   "outputs": [
    {
     "name": "stdout",
     "output_type": "stream",
     "text": [
      "sql: SELECT CASE (2 == 1) WHEN 1 THEN 'N' ELSE 'N' END\n"
     ]
    },
    {
     "data": {
      "text/plain": [
       "[['N']]"
      ]
     },
     "execution_count": 21,
     "metadata": {},
     "output_type": "execute_result"
    },
    {
     "name": "stdout",
     "output_type": "stream",
     "text": [
      "sql: select mod from col\n",
      "sql: rollback\n",
      "sql: select mod, scm, ls from col\n",
      "sql: select mod from col\n",
      "sql: begin exclusive\n",
      "sql: select id, name from decks order by name\n",
      "sql: SELECT id,   name,   mtime_secs,   usn,   common,   kind FROM decks\n",
      "sql: select null from cards where did=1\n",
      "sql: SELECT val FROM config WHERE KEY = 'lastUnburied'\n",
      "sql: SELECT val FROM config WHERE KEY = 'normalize_note_text'\n",
      "sql: DROP TABLE IF EXISTS search_cids;\n",
      "sql: CREATE TEMPORARY TABLE search_cids (cid integer PRIMARY KEY NOT NULL);\n",
      "sql: insert into search_cids select c.id from cards c where c.queue in (-2,-3)\n",
      "sql: SELECT id,   nid,   did,   ord,   cast(mod AS integer),   usn,   type,   queue,   due,   cast(ivl AS integer),   factor,   reps,   lapses,   left,   odue,   odid,   flags,   data FROM cards where id in (select cid from search_cids)\n",
      "sql: drop table if exists search_cids\n",
      "sql: SELECT val,   usn,   mtime_secs FROM config WHERE KEY = 'lastUnburied'\n",
      "sql: INSERT   OR REPLACE INTO config (KEY, usn, mtime_secs, val) VALUES ('lastUnburied', -1, 1673615928, x'31383737')\n",
      "sql: SELECT val FROM config WHERE KEY = 'localOffset'\n",
      "sql: SELECT val FROM config WHERE KEY = 'schedVer'\n",
      "sql: SELECT val FROM config WHERE KEY = 'rollover'\n",
      "sql: select crt from col\n",
      "sql: SELECT val FROM config WHERE KEY = 'creationOffset'\n",
      "sql: SELECT val FROM config WHERE KEY = 'collapseTime'\n",
      "sql: SELECT val FROM config WHERE KEY = 'schedVer'\n",
      "sql: SELECT val FROM config WHERE KEY = 'sched2021'\n",
      "sql: SELECT val FROM config WHERE KEY = 'schedVer'\n",
      "sql: SELECT did,   -- new   sum(queue = 0),   -- reviews   sum(     queue = 2     AND due <= 1877   ),   -- interday learning   sum(     queue = 3     AND due <= 1877   ),   -- intraday learning   sum(     (       CASE         2         WHEN 2 THEN (           -- v2 scheduler           (             queue = 1             AND due < 1673617128           )           OR (             queue = 4             AND due <= 1673617128           )         )         ELSE (           -- v1 scheduler           CASE             WHEN queue = 1             AND due < 1673617128 THEN left / 1000             ELSE 0           END         )       END     )   ),   -- total   COUNT(1) FROM cards group by did\n",
      "sql: SELECT id,   name,   mtime_secs,   usn,   config FROM deck_config\n",
      "sql: SELECT val FROM config WHERE KEY = 'curDeck'\n",
      "sql: SELECT COUNT(),   coalesce(sum(time) / 1000.0, 0.0) FROM reviews AS revlog WHERE id > 1673607600000   AND type != 4\n",
      "sql: SELECT val FROM config WHERE KEY = 'schedVer'\n",
      "sql: select mod from col\n",
      "sql: rollback\n",
      "sql: select mod, scm, ls from col\n",
      "sql: select mod from col\n",
      "sql: begin exclusive\n",
      "1673615929.031 GET /_anki/legacyPageData\n",
      "1673615929.056 GET /_anki/legacyPageData\n",
      "1673615929.067 GET /_anki/css/webview.css\n",
      "1673615929.070 GET /_anki/css/deckbrowser.css\n",
      "1673615929.071 GET /_anki/js/webview.js\n",
      "1673615929.072 GET /_anki/js/vendor/jquery.min.js\n",
      "1673615929.072 GET /_anki/js/vendor/jquery-ui.min.js\n",
      "1673615929.073 GET /_anki/js/deckbrowser.js\n",
      "1673615929.074 GET /_anki/imgs/gears.svg\n",
      "1673615929.079 GET /_anki/css/webview.css\n",
      "1673615929.080 GET /_anki/css/toolbar.css\n",
      "1673615929.080 GET /_anki/js/vendor/jquery.min.js\n",
      "1673615929.081 GET /_anki/js/webview.js\n",
      "1673615929.081 GET /_anki/css/toolbar-bottom.css\n",
      "sql: select mod from col\n",
      "sql: rollback\n",
      "sql: select mod, scm, ls from col\n",
      "sql: select mod from col\n",
      "sql: begin exclusive\n",
      "sql: select id, name from decks order by name\n",
      "sql: SELECT id,   name,   mtime_secs,   usn,   common,   kind FROM decks\n",
      "sql: select null from cards where did=1\n",
      "sql: SELECT val FROM config WHERE KEY = 'lastUnburied'\n",
      "sql: SELECT val FROM config WHERE KEY = 'normalize_note_text'\n",
      "sql: DROP TABLE IF EXISTS search_cids;\n",
      "sql: CREATE TEMPORARY TABLE search_cids (cid integer PRIMARY KEY NOT NULL);\n",
      "sql: insert into search_cids select c.id from cards c where c.queue in (-2,-3)\n",
      "sql: SELECT id,   nid,   did,   ord,   cast(mod AS integer),   usn,   type,   queue,   due,   cast(ivl AS integer),   factor,   reps,   lapses,   left,   odue,   odid,   flags,   data FROM cards where id in (select cid from search_cids)\n",
      "sql: drop table if exists search_cids\n",
      "sql: SELECT val,   usn,   mtime_secs FROM config WHERE KEY = 'lastUnburied'\n",
      "sql: INSERT   OR REPLACE INTO config (KEY, usn, mtime_secs, val) VALUES ('lastUnburied', -1, 1673616528, x'31383737')\n",
      "sql: SELECT val FROM config WHERE KEY = 'localOffset'\n",
      "sql: SELECT val FROM config WHERE KEY = 'schedVer'\n",
      "sql: SELECT val FROM config WHERE KEY = 'rollover'\n",
      "sql: select crt from col\n",
      "sql: SELECT val FROM config WHERE KEY = 'creationOffset'\n",
      "sql: SELECT val FROM config WHERE KEY = 'collapseTime'\n",
      "sql: SELECT val FROM config WHERE KEY = 'schedVer'\n",
      "sql: SELECT val FROM config WHERE KEY = 'sched2021'\n",
      "sql: SELECT val FROM config WHERE KEY = 'schedVer'\n",
      "sql: SELECT did,   -- new   sum(queue = 0),   -- reviews   sum(     queue = 2     AND due <= 1877   ),   -- interday learning   sum(     queue = 3     AND due <= 1877   ),   -- intraday learning   sum(     (       CASE         2         WHEN 2 THEN (           -- v2 scheduler           (             queue = 1             AND due < 1673617728           )           OR (             queue = 4             AND due <= 1673617728           )         )         ELSE (           -- v1 scheduler           CASE             WHEN queue = 1             AND due < 1673617728 THEN left / 1000             ELSE 0           END         )       END     )   ),   -- total   COUNT(1) FROM cards group by did\n",
      "sql: SELECT id,   name,   mtime_secs,   usn,   config FROM deck_config\n",
      "sql: SELECT val FROM config WHERE KEY = 'curDeck'\n",
      "sql: SELECT COUNT(),   coalesce(sum(time) / 1000.0, 0.0) FROM reviews AS revlog WHERE id > 1673607600000   AND type != 4\n",
      "sql: SELECT val FROM config WHERE KEY = 'schedVer'\n",
      "sql: select mod from col\n",
      "sql: rollback\n",
      "sql: select mod, scm, ls from col\n",
      "sql: select mod from col\n",
      "sql: begin exclusive\n",
      "1673616529.062 GET /_anki/legacyPageData\n",
      "1673616529.062 GET /_anki/legacyPageData\n",
      "1673616529.077 GET /_anki/css/webview.css\n",
      "1673616529.078 GET /_anki/css/deckbrowser.css\n",
      "1673616529.080 GET /_anki/js/webview.js\n",
      "1673616529.080 GET /_anki/js/vendor/jquery.min.js\n",
      "1673616529.080 GET /_anki/js/vendor/jquery-ui.min.js\n",
      "1673616529.082 GET /_anki/js/deckbrowser.js\n",
      "1673616529.083 GET /_anki/imgs/gears.svg\n",
      "1673616529.087 GET /_anki/css/webview.css\n",
      "1673616529.087 GET /_anki/css/toolbar.css\n",
      "1673616529.088 GET /_anki/js/webview.js\n",
      "1673616529.088 GET /_anki/css/toolbar-bottom.css\n",
      "1673616529.089 GET /_anki/js/vendor/jquery.min.js\n",
      "sql: select mod from col\n",
      "sql: rollback\n",
      "sql: select mod, scm, ls from col\n",
      "sql: select mod from col\n",
      "sql: begin exclusive\n",
      "sql: select id, name from decks order by name\n",
      "sql: SELECT id,   name,   mtime_secs,   usn,   common,   kind FROM decks\n",
      "sql: select null from cards where did=1\n",
      "sql: SELECT val FROM config WHERE KEY = 'lastUnburied'\n",
      "sql: SELECT val FROM config WHERE KEY = 'normalize_note_text'\n",
      "sql: DROP TABLE IF EXISTS search_cids;\n",
      "sql: CREATE TEMPORARY TABLE search_cids (cid integer PRIMARY KEY NOT NULL);\n",
      "sql: insert into search_cids select c.id from cards c where c.queue in (-2,-3)\n",
      "sql: SELECT id,   nid,   did,   ord,   cast(mod AS integer),   usn,   type,   queue,   due,   cast(ivl AS integer),   factor,   reps,   lapses,   left,   odue,   odid,   flags,   data FROM cards where id in (select cid from search_cids)\n",
      "sql: drop table if exists search_cids\n",
      "sql: SELECT val,   usn,   mtime_secs FROM config WHERE KEY = 'lastUnburied'\n",
      "sql: INSERT   OR REPLACE INTO config (KEY, usn, mtime_secs, val) VALUES ('lastUnburied', -1, 1673617129, x'31383737')\n",
      "sql: SELECT val FROM config WHERE KEY = 'localOffset'\n",
      "sql: SELECT val FROM config WHERE KEY = 'schedVer'\n",
      "sql: SELECT val FROM config WHERE KEY = 'rollover'\n",
      "sql: select crt from col\n",
      "sql: SELECT val FROM config WHERE KEY = 'creationOffset'\n",
      "sql: SELECT val FROM config WHERE KEY = 'collapseTime'\n",
      "sql: SELECT val FROM config WHERE KEY = 'schedVer'\n",
      "sql: SELECT val FROM config WHERE KEY = 'sched2021'\n",
      "sql: SELECT val FROM config WHERE KEY = 'schedVer'\n",
      "sql: SELECT did,   -- new   sum(queue = 0),   -- reviews   sum(     queue = 2     AND due <= 1877   ),   -- interday learning   sum(     queue = 3     AND due <= 1877   ),   -- intraday learning   sum(     (       CASE         2         WHEN 2 THEN (           -- v2 scheduler           (             queue = 1             AND due < 1673618329           )           OR (             queue = 4             AND due <= 1673618329           )         )         ELSE (           -- v1 scheduler           CASE             WHEN queue = 1             AND due < 1673618329 THEN left / 1000             ELSE 0           END         )       END     )   ),   -- total   COUNT(1) FROM cards group by did\n",
      "sql: SELECT id,   name,   mtime_secs,   usn,   config FROM deck_config\n",
      "sql: SELECT val FROM config WHERE KEY = 'curDeck'\n",
      "sql: SELECT COUNT(),   coalesce(sum(time) / 1000.0, 0.0) FROM reviews AS revlog WHERE id > 1673607600000   AND type != 4\n",
      "sql: SELECT val FROM config WHERE KEY = 'schedVer'\n",
      "sql: select mod from col\n",
      "sql: rollback\n",
      "sql: select mod, scm, ls from col\n",
      "sql: select mod from col\n",
      "sql: begin exclusive\n",
      "1673617129.131 GET /_anki/legacyPageData\n",
      "1673617129.132 GET /_anki/legacyPageData\n",
      "1673617129.143 GET /_anki/css/webview.css\n",
      "1673617129.147 GET /_anki/css/deckbrowser.css\n",
      "1673617129.148 GET /_anki/js/webview.js\n",
      "1673617129.149 GET /_anki/js/vendor/jquery.min.js\n",
      "1673617129.150 GET /_anki/js/vendor/jquery-ui.min.js\n",
      "1673617129.151 GET /_anki/css/webview.css\n",
      "1673617129.152 GET /_anki/js/deckbrowser.js\n",
      "1673617129.152 GET /_anki/imgs/gears.svg\n",
      "1673617129.155 GET /_anki/css/toolbar.css\n",
      "1673617129.157 GET /_anki/css/toolbar-bottom.css\n",
      "1673617129.157 GET /_anki/js/vendor/jquery.min.js\n",
      "1673617129.158 GET /_anki/js/webview.js\n",
      "sql: select mod from col\n",
      "sql: rollback\n",
      "sql: select mod, scm, ls from col\n",
      "sql: select mod from col\n",
      "sql: begin exclusive\n",
      "sql: select id, name from decks order by name\n",
      "sql: SELECT id,   name,   mtime_secs,   usn,   common,   kind FROM decks\n",
      "sql: select null from cards where did=1\n",
      "sql: SELECT val FROM config WHERE KEY = 'lastUnburied'\n",
      "sql: SELECT val FROM config WHERE KEY = 'normalize_note_text'\n",
      "sql: DROP TABLE IF EXISTS search_cids;\n",
      "sql: CREATE TEMPORARY TABLE search_cids (cid integer PRIMARY KEY NOT NULL);\n",
      "sql: insert into search_cids select c.id from cards c where c.queue in (-2,-3)\n",
      "sql: SELECT id,   nid,   did,   ord,   cast(mod AS integer),   usn,   type,   queue,   due,   cast(ivl AS integer),   factor,   reps,   lapses,   left,   odue,   odid,   flags,   data FROM cards where id in (select cid from search_cids)\n",
      "sql: drop table if exists search_cids\n",
      "sql: SELECT val,   usn,   mtime_secs FROM config WHERE KEY = 'lastUnburied'\n",
      "sql: INSERT   OR REPLACE INTO config (KEY, usn, mtime_secs, val) VALUES ('lastUnburied', -1, 1673617728, x'31383737')\n",
      "sql: SELECT val FROM config WHERE KEY = 'localOffset'\n",
      "sql: SELECT val FROM config WHERE KEY = 'schedVer'\n",
      "sql: SELECT val FROM config WHERE KEY = 'rollover'\n",
      "sql: select crt from col\n",
      "sql: SELECT val FROM config WHERE KEY = 'creationOffset'\n",
      "sql: SELECT val FROM config WHERE KEY = 'collapseTime'\n",
      "sql: SELECT val FROM config WHERE KEY = 'schedVer'\n",
      "sql: SELECT val FROM config WHERE KEY = 'sched2021'\n",
      "sql: SELECT val FROM config WHERE KEY = 'schedVer'\n",
      "sql: SELECT did,   -- new   sum(queue = 0),   -- reviews   sum(     queue = 2     AND due <= 1877   ),   -- interday learning   sum(     queue = 3     AND due <= 1877   ),   -- intraday learning   sum(     (       CASE         2         WHEN 2 THEN (           -- v2 scheduler           (             queue = 1             AND due < 1673618928           )           OR (             queue = 4             AND due <= 1673618928           )         )         ELSE (           -- v1 scheduler           CASE             WHEN queue = 1             AND due < 1673618928 THEN left / 1000             ELSE 0           END         )       END     )   ),   -- total   COUNT(1) FROM cards group by did\n",
      "sql: SELECT id,   name,   mtime_secs,   usn,   config FROM deck_config\n",
      "sql: SELECT val FROM config WHERE KEY = 'curDeck'\n",
      "sql: SELECT COUNT(),   coalesce(sum(time) / 1000.0, 0.0) FROM reviews AS revlog WHERE id > 1673607600000   AND type != 4\n",
      "sql: SELECT val FROM config WHERE KEY = 'schedVer'\n",
      "sql: select mod from col\n",
      "sql: rollback\n",
      "sql: select mod, scm, ls from col\n",
      "sql: select mod from col\n",
      "sql: begin exclusive\n",
      "1673617729.050 GET /_anki/legacyPageData\n",
      "1673617729.050 GET /_anki/legacyPageData\n",
      "1673617729.065 GET /_anki/css/webview.css\n",
      "1673617729.066 GET /_anki/css/deckbrowser.css\n",
      "1673617729.068 GET /_anki/js/webview.js\n",
      "1673617729.068 GET /_anki/js/vendor/jquery.min.js\n",
      "1673617729.070 GET /_anki/js/vendor/jquery-ui.min.js\n",
      "1673617729.070 GET /_anki/js/deckbrowser.js\n",
      "1673617729.074 GET /_anki/css/webview.css\n",
      "1673617729.074 GET /_anki/css/toolbar.css\n",
      "1673617729.075 GET /_anki/imgs/gears.svg\n",
      "1673617729.075 GET /_anki/js/webview.js\n",
      "1673617729.076 GET /_anki/css/toolbar-bottom.css\n",
      "1673617729.076 GET /_anki/js/vendor/jquery.min.js\n"
     ]
    }
   ],
   "source": [
    "col.db.execute(\"\"\"\n",
    "SELECT CASE (2 == 1) WHEN 1 THEN 'N' ELSE 'N' END\n",
    "\"\"\")"
   ]
  },
  {
   "cell_type": "code",
   "execution_count": 9,
   "id": "10c621c3-9531-402a-822e-8a22fab410fe",
   "metadata": {},
   "outputs": [],
   "source": [
    "import datetime as dt"
   ]
  },
  {
   "cell_type": "code",
   "execution_count": 15,
   "id": "5fb3ea0b-1497-493a-be49-ad8c2e276b3b",
   "metadata": {},
   "outputs": [
    {
     "data": {
      "text/plain": [
       "datetime.datetime(2023, 1, 12, 21, 5, 57, 562000)"
      ]
     },
     "execution_count": 15,
     "metadata": {},
     "output_type": "execute_result"
    },
    {
     "name": "stdout",
     "output_type": "stream",
     "text": [
      "sql: select id, name from decks order by name\n",
      "sql: SELECT id,   name,   mtime_secs,   usn,   common,   kind FROM decks\n",
      "sql: select null from cards where did=1\n",
      "sql: SELECT val FROM config WHERE KEY = 'lastUnburied'\n",
      "sql: SELECT val FROM config WHERE KEY = 'normalize_note_text'\n",
      "sql: DROP TABLE IF EXISTS search_cids;\n",
      "sql: CREATE TEMPORARY TABLE search_cids (cid integer PRIMARY KEY NOT NULL);\n",
      "sql: insert into search_cids select c.id from cards c where c.queue in (-2,-3)\n",
      "sql: SELECT id,   nid,   did,   ord,   cast(mod AS integer),   usn,   type,   queue,   due,   cast(ivl AS integer),   factor,   reps,   lapses,   left,   odue,   odid,   flags,   data FROM cards where id in (select cid from search_cids)\n",
      "sql: drop table if exists search_cids\n",
      "sql: SELECT val,   usn,   mtime_secs FROM config WHERE KEY = 'lastUnburied'\n",
      "sql: INSERT   OR REPLACE INTO config (KEY, usn, mtime_secs, val) VALUES ('lastUnburied', -1, 1673615329, x'31383737')\n",
      "sql: SELECT val FROM config WHERE KEY = 'localOffset'\n",
      "sql: SELECT val FROM config WHERE KEY = 'schedVer'\n",
      "sql: SELECT val FROM config WHERE KEY = 'rollover'\n",
      "sql: select crt from col\n",
      "sql: SELECT val FROM config WHERE KEY = 'creationOffset'\n",
      "sql: SELECT val FROM config WHERE KEY = 'collapseTime'\n",
      "sql: SELECT val FROM config WHERE KEY = 'schedVer'\n",
      "sql: SELECT val FROM config WHERE KEY = 'sched2021'\n",
      "sql: SELECT val FROM config WHERE KEY = 'schedVer'\n",
      "sql: SELECT did,   -- new   sum(queue = 0),   -- reviews   sum(     queue = 2     AND due <= 1877   ),   -- interday learning   sum(     queue = 3     AND due <= 1877   ),   -- intraday learning   sum(     (       CASE         2         WHEN 2 THEN (           -- v2 scheduler           (             queue = 1             AND due < 1673616529           )           OR (             queue = 4             AND due <= 1673616529           )         )         ELSE (           -- v1 scheduler           CASE             WHEN queue = 1             AND due < 1673616529 THEN left / 1000             ELSE 0           END         )       END     )   ),   -- total   COUNT(1) FROM cards group by did\n",
      "sql: SELECT id,   name,   mtime_secs,   usn,   config FROM deck_config\n",
      "sql: SELECT val FROM config WHERE KEY = 'curDeck'\n",
      "sql: SELECT COUNT(),   coalesce(sum(time) / 1000.0, 0.0) FROM reviews AS revlog WHERE id > 1673607600000   AND type != 4\n",
      "sql: SELECT val FROM config WHERE KEY = 'schedVer'\n",
      "sql: select mod from col\n",
      "sql: rollback\n",
      "sql: select mod, scm, ls from col\n",
      "sql: select mod from col\n",
      "sql: begin exclusive\n",
      "1673615329.126 GET /_anki/legacyPageData\n",
      "1673615329.127 GET /_anki/legacyPageData\n",
      "1673615329.140 GET /_anki/css/webview.css\n",
      "1673615329.141 GET /_anki/css/deckbrowser.css\n",
      "1673615329.142 GET /_anki/js/webview.js\n",
      "1673615329.143 GET /_anki/js/vendor/jquery.min.js\n",
      "1673615329.144 GET /_anki/js/vendor/jquery-ui.min.js\n",
      "1673615329.144 GET /_anki/js/deckbrowser.js\n",
      "1673615329.149 GET /_anki/css/webview.css\n",
      "1673615329.149 GET /_anki/css/toolbar.css\n",
      "1673615329.150 GET /_anki/css/toolbar-bottom.css\n",
      "1673615329.150 GET /_anki/js/vendor/jquery.min.js\n",
      "1673615329.152 GET /_anki/js/webview.js\n",
      "1673615329.155 GET /_anki/imgs/gears.svg\n"
     ]
    }
   ],
   "source": [
    "dt.datetime.fromtimestamp(1673582757562/1000)"
   ]
  },
  {
   "cell_type": "code",
   "execution_count": null,
   "id": "9cb49a12-709e-40ca-9e0b-9b2db9fec9a1",
   "metadata": {},
   "outputs": [],
   "source": []
  }
 ],
 "metadata": {
  "kernelspec": {
   "display_name": "Python 3 (ipykernel)",
   "language": "python",
   "name": "python3"
  },
  "language_info": {
   "codemirror_mode": {
    "name": "ipython",
    "version": 3
   },
   "file_extension": ".py",
   "mimetype": "text/x-python",
   "name": "python",
   "nbconvert_exporter": "python",
   "pygments_lexer": "ipython3",
   "version": "3.9.15"
  }
 },
 "nbformat": 4,
 "nbformat_minor": 5
}
