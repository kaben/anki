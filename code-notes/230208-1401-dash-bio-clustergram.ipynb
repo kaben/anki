{
 "cells": [
  {
   "cell_type": "code",
   "execution_count": 22,
   "id": "ab7fb577-9f27-411c-a65b-5a554ef026f9",
   "metadata": {
    "tags": []
   },
   "outputs": [],
   "source": [
    "from jupyter_dash import JupyterDash"
   ]
  },
  {
   "cell_type": "code",
   "execution_count": 23,
   "id": "4c23649b-03e2-4e07-ad43-8c5864374113",
   "metadata": {
    "tags": []
   },
   "outputs": [],
   "source": [
    "import dash\n",
    "from dash.dependencies import Input, Output\n",
    "import dash_bio as dashbio\n",
    "from dash import html, dcc"
   ]
  },
  {
   "cell_type": "code",
   "execution_count": 24,
   "id": "c572bfa9-8897-4fec-a9b3-cb6010f2b01a",
   "metadata": {
    "tags": []
   },
   "outputs": [],
   "source": [
    "from waitress import create_server\n",
    "import threading\n",
    "import logging\n",
    "\n",
    "class FlaskAppWorker(threading.Thread):\n",
    "  _ready = threading.Event()\n",
    "  daemon = True\n",
    "\n",
    "  def __init__(self, flask) -> None:\n",
    "    super().__init__()\n",
    "    self.flask = flask\n",
    "    self.is_shutdown = False\n",
    "\n",
    "  def run(self):\n",
    "    try:\n",
    "      # idempotent if logging has already been set up\n",
    "      logging.basicConfig()\n",
    "      logging.getLogger(\"waitress\").setLevel(logging.ERROR)\n",
    "\n",
    "      desired_host = \"127.0.0.1\"\n",
    "      desired_port = 5000\n",
    "      self.server = create_server(\n",
    "        self.flask,\n",
    "        host=desired_host,\n",
    "        port=desired_port,\n",
    "        clear_untrusted_proxy_headers=True,\n",
    "      )\n",
    "      print(\"Serving on http://%s:%s\" % (self.server.effective_host, self.server.effective_port))\n",
    "      self._ready.set()\n",
    "      self.server.run()\n",
    "\n",
    "    except Exception:\n",
    "      if not self.is_shutdown:\n",
    "        raise\n",
    "\n",
    "  def shutdown(self) -> None:\n",
    "    self.is_shutdown = True\n",
    "    sockets = list(self.server._map.values())  # type: ignore\n",
    "    for socket in sockets:\n",
    "      socket.handle_close()\n",
    "    self.server.task_dispatcher.shutdown()\n"
   ]
  },
  {
   "cell_type": "markdown",
   "id": "4da25d78-2e81-4545-9714-bdc636f8c264",
   "metadata": {
    "tags": []
   },
   "source": [
    "worker = None"
   ]
  },
  {
   "cell_type": "code",
   "execution_count": 84,
   "id": "90a39e2e-5fa0-4f62-b6c3-cebd2bd45587",
   "metadata": {
    "tags": []
   },
   "outputs": [],
   "source": [
    "app = JupyterDash(\"clustergram\")"
   ]
  },
  {
   "cell_type": "code",
   "execution_count": 85,
   "id": "ec404b35-80a1-47ff-ac20-278eac8dec64",
   "metadata": {
    "tags": []
   },
   "outputs": [],
   "source": [
    "#df = pd.read_csv('https://git.io/clustergram_brain_cancer.csv').set_index('ID_REF')\n",
    "#columns = list(df.columns.values)\n",
    "columns = [v.split('::', 2)[-1] for v in df.columns.values]\n",
    "rows = list(df.index)\n",
    "\n",
    "app.layout = html.Div([\n",
    "    \"Rows to display\",\n",
    "    dcc.Dropdown(\n",
    "        id='my-default-clustergram-input',\n",
    "        options=[\n",
    "            #{'label': row.split('::', 2)[-1], 'value': row} for row in rows\n",
    "            {'label': row.split('::')[-1], 'value': row} for row in rows\n",
    "        ],\n",
    "        value=rows,\n",
    "        multi=True\n",
    "    ),\n",
    "\n",
    "    html.Div(id='my-default-clustergram')\n",
    "])\n",
    "\n",
    "@app.callback(\n",
    "    Output('my-default-clustergram', 'children'),\n",
    "    Input('my-default-clustergram-input', 'value')\n",
    ")\n",
    "def update_clustergram(rows):\n",
    "    if len(rows) < 2:\n",
    "        return \"Please select at least two rows to display.\"\n",
    "\n",
    "    return dcc.Graph(figure=dashbio.Clustergram(\n",
    "        data=df.loc[rows].values,\n",
    "        row_labels=[row.split('::')[-1] for row in rows],\n",
    "        column_labels=columns,\n",
    "        #color_threshold={'row': 250,'col': 700},\n",
    "        #hidden_labels='row',\n",
    "        height=100*len(rows),\n",
    "        width=25*len(columns),\n",
    "        display_ratio=[0.1, 1.0],\n",
    "        optimal_leaf_order = True,\n",
    "        color_map = [[0.0, '#1010a0'], [1.0, '#ff4040']]\n",
    "    ))\n"
   ]
  },
  {
   "cell_type": "code",
   "execution_count": 86,
   "id": "e1e49c42-0985-4d4e-b502-5b3918d019f3",
   "metadata": {
    "tags": []
   },
   "outputs": [
    {
     "name": "stderr",
     "output_type": "stream",
     "text": [
      "sys:1: ResourceWarning:\n",
      "\n",
      "Unclosed socket <zmq.Socket(zmq.PUSH) at 0x7fc1f7ef1040>\n",
      "\n"
     ]
    }
   ],
   "source": [
    "if worker is not None:\n",
    "    worker.shutdown()\n",
    "    worker.join()\n",
    "    worker = None"
   ]
  },
  {
   "cell_type": "code",
   "execution_count": 87,
   "id": "64e8ded0-e0ae-48fb-a06c-3a96a035ab85",
   "metadata": {
    "tags": []
   },
   "outputs": [
    {
     "name": "stdout",
     "output_type": "stream",
     "text": [
      "Serving on http://127.0.0.1:5000\n"
     ]
    }
   ],
   "source": [
    "worker = FlaskAppWorker(app.server)\n",
    "worker.start()"
   ]
  },
  {
   "cell_type": "code",
   "execution_count": null,
   "id": "61c1595e-b584-4741-8dcb-de912bb7ac72",
   "metadata": {
    "tags": []
   },
   "outputs": [],
   "source": [
    "app._display_in_jupyter('http://localhost:5000', port=8050, mode='inline', width='100%', height=650)"
   ]
  },
  {
   "cell_type": "code",
   "execution_count": null,
   "id": "aa8822e1-ab69-46e9-8de9-bd6af9586f49",
   "metadata": {},
   "outputs": [],
   "source": []
  }
 ],
 "metadata": {
  "kernelspec": {
   "display_name": "Python 3 (ipykernel)",
   "language": "python",
   "name": "python3"
  },
  "language_info": {
   "codemirror_mode": {
    "name": "ipython",
    "version": 3
   },
   "file_extension": ".py",
   "mimetype": "text/x-python",
   "name": "python",
   "nbconvert_exporter": "python",
   "pygments_lexer": "ipython3",
   "version": "3.9.15"
  }
 },
 "nbformat": 4,
 "nbformat_minor": 5
}
