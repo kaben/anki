{
 "cells": [
  {
   "cell_type": "code",
   "execution_count": 223,
   "id": "9197e88b-2648-45e6-a418-b8eff16f7e78",
   "metadata": {
    "tags": []
   },
   "outputs": [
    {
     "name": "stdout",
     "output_type": "stream",
     "text": [
      "Help on function display_latex in module IPython.core.display:\n",
      "\n",
      "display_latex(*objs, **kwargs)\n",
      "    Display the LaTeX representation of an object.\n",
      "    \n",
      "    Parameters\n",
      "    ----------\n",
      "    *objs : object\n",
      "        The Python objects to display, or if raw=True raw latex data to\n",
      "        display.\n",
      "    raw : bool\n",
      "        Are the data objects raw data or Python objects that need to be\n",
      "        formatted before display? [default: False]\n",
      "    metadata : dict (optional)\n",
      "        Metadata to be associated with the specific mimetype output.\n",
      "\n"
     ]
    }
   ],
   "source": [
    "%run code-notes/library/_230210-0303_math-problem-randomization-library.ipynb"
   ]
  },
  {
   "cell_type": "markdown",
   "id": "fc173ec6-03d6-4371-bf4b-d37dea70b535",
   "metadata": {},
   "source": [
    "### CET-09.03-01 Exercise:\n",
    "\n",
    "```\n",
    "CET-09.03-01 Exercise:\n",
    "<br>\n",
    "Solve the differential equation.\n",
    "\\[\n",
    "\\frac{d y}{d x}=3 x^2 y^2\n",
    "\\]\n",
    "```\n",
    "\n",
    "\n",
    "```\n",
    "CET-09.03-01 Exercise:\n",
    "<br>\n",
    "Solve the differential equation.\n",
    "\\[\n",
    "\\frac{d y}{d x}=${a} x^2 ${b} y^2\n",
    "\\]\n",
    "```"
   ]
  },
  {
   "cell_type": "code",
   "execution_count": 241,
   "id": "1cf01c15-b336-4ed0-ae5c-a28ee9f67164",
   "metadata": {
    "tags": []
   },
   "outputs": [
    {
     "data": {
      "text/latex": [
       "$\\displaystyle y{\\left(x \\right)} = - \\frac{3}{C_{1} + a x^{3}}$"
      ],
      "text/plain": [
       "Eq(y(x), -3/(C1 + a*x**3))"
      ]
     },
     "execution_count": 241,
     "metadata": {},
     "output_type": "execute_result"
    }
   ],
   "source": [
    "f = sy.Function('y')\n",
    "ex = sy.Eq(sy.Derivative(f(x)), a*x**2 * f(x)**2)\n",
    "sy.dsolve(ex, f(x))"
   ]
  },
  {
   "cell_type": "code",
   "execution_count": 220,
   "id": "53d3561e-0891-48ab-a5a5-76a8372254ca",
   "metadata": {
    "tags": []
   },
   "outputs": [
    {
     "data": {
      "text/latex": [
       "$\\displaystyle \\frac{d}{d x} y{\\left(x \\right)} = a b x^{2} y^{2}{\\left(x \\right)}$"
      ],
      "text/plain": [
       "Eq(Derivative(y(x), x), a*b*x**2*y(x)**2)"
      ]
     },
     "execution_count": 220,
     "metadata": {},
     "output_type": "execute_result"
    }
   ],
   "source": [
    "ex"
   ]
  },
  {
   "cell_type": "code",
   "execution_count": 237,
   "id": "a26d2ec5-2b09-4b61-85b8-400df3edab16",
   "metadata": {
    "tags": []
   },
   "outputs": [],
   "source": [
    "params = {\n",
    "    a: range(1,10),\n",
    "}"
   ]
  },
  {
   "cell_type": "code",
   "execution_count": 238,
   "id": "3b013f4c-1d66-4786-9021-3b9de61dd619",
   "metadata": {
    "tags": []
   },
   "outputs": [],
   "source": [
    "def get_probsol(ex, args_list):\n",
    "    prob = subs_items(ex, args_list)\n",
    "    sol = sy.dsolve(prob, f(x))\n",
    "    return True,prob,sol"
   ]
  },
  {
   "cell_type": "code",
   "execution_count": 242,
   "id": "85d7dbdf-931f-4433-a9b3-04eed661367f",
   "metadata": {
    "tags": []
   },
   "outputs": [],
   "source": [
    "param_script = get_params_script(\n",
    "    ex,\n",
    "    params,\n",
    "    show_vars = False,\n",
    "    show_prob = True,\n",
    "    show_sol = True,\n",
    "    probsol_func = get_probsol\n",
    ")"
   ]
  },
  {
   "cell_type": "code",
   "execution_count": 243,
   "id": "8e03834f-4e02-4a34-9962-73145d3770b1",
   "metadata": {
    "tags": []
   },
   "outputs": [
    {
     "name": "stdout",
     "output_type": "stream",
     "text": [
      "if (typeof params === 'undefined') { let params,prob,sol; }\n",
      "params = [\n",
      "  [String.raw`\\frac{d}{d x} y{\\left(x \\right)} = x^{2} y^{2}{\\left(x \\right)}`,String.raw`y{\\left(x \\right)} = - \\frac{3}{C_{1} + x^{3}}`,],\n",
      "  [String.raw`\\frac{d}{d x} y{\\left(x \\right)} = 2 x^{2} y^{2}{\\left(x \\right)}`,String.raw`y{\\left(x \\right)} = - \\frac{3}{C_{1} + 2 x^{3}}`,],\n",
      "  [String.raw`\\frac{d}{d x} y{\\left(x \\right)} = 3 x^{2} y^{2}{\\left(x \\right)}`,String.raw`y{\\left(x \\right)} = - \\frac{1}{C_{1} + x^{3}}`,],\n",
      "  [String.raw`\\frac{d}{d x} y{\\left(x \\right)} = 4 x^{2} y^{2}{\\left(x \\right)}`,String.raw`y{\\left(x \\right)} = - \\frac{3}{C_{1} + 4 x^{3}}`,],\n",
      "  [String.raw`\\frac{d}{d x} y{\\left(x \\right)} = 5 x^{2} y^{2}{\\left(x \\right)}`,String.raw`y{\\left(x \\right)} = - \\frac{3}{C_{1} + 5 x^{3}}`,],\n",
      "  [String.raw`\\frac{d}{d x} y{\\left(x \\right)} = 6 x^{2} y^{2}{\\left(x \\right)}`,String.raw`y{\\left(x \\right)} = - \\frac{1}{C_{1} + 2 x^{3}}`,],\n",
      "  [String.raw`\\frac{d}{d x} y{\\left(x \\right)} = 7 x^{2} y^{2}{\\left(x \\right)}`,String.raw`y{\\left(x \\right)} = - \\frac{3}{C_{1} + 7 x^{3}}`,],\n",
      "  [String.raw`\\frac{d}{d x} y{\\left(x \\right)} = 8 x^{2} y^{2}{\\left(x \\right)}`,String.raw`y{\\left(x \\right)} = - \\frac{3}{C_{1} + 8 x^{3}}`,],\n",
      "  [String.raw`\\frac{d}{d x} y{\\left(x \\right)} = 9 x^{2} y^{2}{\\left(x \\right)}`,String.raw`y{\\left(x \\right)} = - \\frac{1}{C_{1} + 3 x^{3}}`,],\n",
      "];\n",
      "//pseudorandom=0;\n",
      "[prob,sol] = params[pseudorandom % params.length];\n"
     ]
    }
   ],
   "source": [
    "print(param_script)"
   ]
  },
  {
   "cell_type": "markdown",
   "id": "defbe602-9f8f-47bf-810a-c9e152bb4ee1",
   "metadata": {},
   "source": [
    "### CET-00-A.04b:\n",
    "\n",
    "```html\n",
    "CET-00-A.04b:\n",
    "<br><br>\n",
    "Factor the expression.\n",
    "\\[\n",
    "2 x^2+5 x-12\n",
    "\\\\\n",
    "(${a}x-${b})(${c}x+${d})\n",
    "\\]\n",
    "```"
   ]
  },
  {
   "cell_type": "code",
   "execution_count": null,
   "id": "8d235eb7-f2b2-444c-8c14-50e03f9f7c2e",
   "metadata": {
    "tags": []
   },
   "outputs": [],
   "source": [
    "ex = (a*x - b)*(x + c)\n",
    "ex"
   ]
  },
  {
   "cell_type": "code",
   "execution_count": null,
   "id": "4a2b11e5-87e0-4810-a308-ffd9277930c2",
   "metadata": {
    "tags": []
   },
   "outputs": [],
   "source": [
    "ex.subs(a,2).subs(b,3).subs(c,1).subs(d,4)"
   ]
  },
  {
   "cell_type": "code",
   "execution_count": null,
   "id": "2e81d328-7b6e-40df-a59e-1e292676ee2a",
   "metadata": {
    "tags": []
   },
   "outputs": [],
   "source": [
    "params = {\n",
    "    a: range(1,10),\n",
    "    b: range(1,10),\n",
    "    c: range(1,10),\n",
    "}"
   ]
  },
  {
   "cell_type": "code",
   "execution_count": null,
   "id": "308e158b-8575-4d8a-9b3d-fcd8a1eb3508",
   "metadata": {
    "tags": []
   },
   "outputs": [],
   "source": [
    "param_script = get_params_script(\n",
    "    ex,\n",
    "    params,\n",
    "    show_vars = False,\n",
    "    pre_func = lambda ex: ex.expand(),\n",
    "    post_func = lambda ex: ex.factor(),\n",
    ")"
   ]
  },
  {
   "cell_type": "code",
   "execution_count": null,
   "id": "7beb9a1b-a8a6-4be9-ba90-3fde6e585d50",
   "metadata": {
    "tags": []
   },
   "outputs": [],
   "source": [
    "print(param_script)"
   ]
  },
  {
   "cell_type": "markdown",
   "id": "b8aad305-bc19-4605-9fce-4b37b7610096",
   "metadata": {},
   "source": [
    "### CET-00-A.04c:\n",
    "\n",
    "```html\n",
    "CET-00-A.04c:\n",
    "<br><br>\n",
    "Factor the expression.\n",
    "\\[\n",
    "x^3-3 x^2-4 x+12\n",
    "\\\\\n",
    "(x-2)(x+2)(x-3)\n",
    "\\]\n",
    "```\n",
    "\n",
    "```html\n",
    "\\[\n",
    "${sol}\n",
    "\\]\n",
    "```"
   ]
  },
  {
   "cell_type": "code",
   "execution_count": null,
   "id": "2e40cb08-0019-4ac5-9cb5-356145a09e00",
   "metadata": {
    "tags": []
   },
   "outputs": [],
   "source": [
    "ex = (x - a)*(x + a)*(x - b)\n",
    "ex"
   ]
  },
  {
   "cell_type": "code",
   "execution_count": null,
   "id": "c84914a5-b902-4911-bde2-0dc0c0919f23",
   "metadata": {
    "tags": []
   },
   "outputs": [],
   "source": [
    "ex.subs(a,2).subs(b,3)"
   ]
  },
  {
   "cell_type": "code",
   "execution_count": null,
   "id": "ef96e8b0-b911-44e3-9977-7a1e0e8a3871",
   "metadata": {
    "tags": []
   },
   "outputs": [],
   "source": [
    "params = {\n",
    "    a: range(1,10),\n",
    "    b: range(1,10),\n",
    "}"
   ]
  },
  {
   "cell_type": "code",
   "execution_count": null,
   "id": "3fc53d73-6f14-4975-b966-fa948fee7119",
   "metadata": {
    "tags": []
   },
   "outputs": [],
   "source": [
    "param_script = get_params_script(\n",
    "    ex,\n",
    "    params,\n",
    "    show_vars = False,\n",
    "    pre_func = lambda ex: ex.expand(),\n",
    "    post_func = lambda ex: ex.factor(),\n",
    ")"
   ]
  },
  {
   "cell_type": "code",
   "execution_count": null,
   "id": "9005f130-66a1-4e60-ad32-79dde53ece4e",
   "metadata": {
    "tags": []
   },
   "outputs": [],
   "source": [
    "print(param_script)"
   ]
  },
  {
   "cell_type": "markdown",
   "id": "c9c54d86-2007-4836-8924-ea4c7d132eb2",
   "metadata": {},
   "source": [
    "### CET-00-A.04d:\n",
    "\n",
    "```html\n",
    "CET-00-A.04d:\n",
    "<br><br>\n",
    "Factor the expression.\n",
    "\\[\n",
    "x^4+27 x\n",
    "\\\\\n",
    "x(x+3)\\left(x^2-3 x+9\\right)\n",
    "\\]\n",
    "```\n",
    "\n",
    "```html\n",
    "\\[\n",
    "${sol}\n",
    "\\]\n",
    "```"
   ]
  },
  {
   "cell_type": "code",
   "execution_count": null,
   "id": "73ebd62d-d47a-4de7-b260-69663726ad25",
   "metadata": {
    "tags": []
   },
   "outputs": [],
   "source": [
    "ex = x*((x**3) + (a**3)) \n",
    "ex"
   ]
  },
  {
   "cell_type": "code",
   "execution_count": null,
   "id": "bec2915f-12c6-44a6-a8b2-446d2d664ef3",
   "metadata": {
    "tags": []
   },
   "outputs": [],
   "source": [
    "ex.subs(a,3)"
   ]
  },
  {
   "cell_type": "code",
   "execution_count": null,
   "id": "df8c13e5-8e56-4861-8bf3-2ef0778ff859",
   "metadata": {
    "tags": []
   },
   "outputs": [],
   "source": [
    "ex.expand()"
   ]
  },
  {
   "cell_type": "code",
   "execution_count": null,
   "id": "818ae441-cdaa-46f1-b5cc-8caaa44576f3",
   "metadata": {
    "tags": []
   },
   "outputs": [],
   "source": [
    "ex.factor()"
   ]
  },
  {
   "cell_type": "code",
   "execution_count": null,
   "id": "0db2bb6a-4922-4c0e-8163-7f6d1190d2e9",
   "metadata": {
    "tags": []
   },
   "outputs": [],
   "source": [
    "params = {\n",
    "    a: itertools.chain(range(-9,0), range(1,10)),\n",
    "}"
   ]
  },
  {
   "cell_type": "code",
   "execution_count": null,
   "id": "ce51d209-6c72-4193-ac00-d00ba64697ac",
   "metadata": {
    "tags": []
   },
   "outputs": [],
   "source": [
    "param_script = get_params_script(\n",
    "    ex,\n",
    "    params,\n",
    "    show_vars = False,\n",
    "    pre_func = lambda ex: ex.expand(),\n",
    "    post_func = lambda ex: ex.factor(),\n",
    ")"
   ]
  },
  {
   "cell_type": "code",
   "execution_count": null,
   "id": "98c7d274-4130-453e-9491-617d5b49bd1b",
   "metadata": {
    "tags": []
   },
   "outputs": [],
   "source": [
    "print(param_script)"
   ]
  },
  {
   "cell_type": "markdown",
   "id": "db09a0a8-6037-4ba5-a09a-228aae93ae19",
   "metadata": {},
   "source": [
    "### CET-00-A.04e:\n",
    "\n",
    "```html\n",
    "CET-00-A.04e:<br><br>Factor the expression.\n",
    "\\[${prob}\\]\n",
    "```\n",
    "```latex\n",
    "\\[\n",
    "3 x^{3 / 2}-9 x^{1 / 2}+6 x^{-1 / 2}\n",
    "\\\\\n",
    "3 x^{-1 / 2}(x-1)(x-2)\n",
    "\\]\n",
    "```\n",
    "\n",
    "```html\n",
    "\\[\n",
    "${sol}\n",
    "\\]\n",
    "```"
   ]
  },
  {
   "cell_type": "code",
   "execution_count": null,
   "id": "b04e67bd-1c9e-4891-ad6e-b23780f3da1f",
   "metadata": {
    "tags": []
   },
   "outputs": [],
   "source": [
    "ex = (a*x**(1/d))*(x+b)*(x+c) \n",
    "ex"
   ]
  },
  {
   "cell_type": "code",
   "execution_count": null,
   "id": "a020eba4-4d7a-425c-a65d-fe29ca141655",
   "metadata": {
    "tags": []
   },
   "outputs": [],
   "source": [
    "ex.expand()"
   ]
  },
  {
   "cell_type": "code",
   "execution_count": null,
   "id": "c6d5574f-95a2-4cf7-a359-02660b13e3be",
   "metadata": {
    "tags": []
   },
   "outputs": [],
   "source": [
    "ex.factor()"
   ]
  },
  {
   "cell_type": "code",
   "execution_count": null,
   "id": "07396247-a0c6-47b2-b05b-af0b0b9842a1",
   "metadata": {
    "tags": []
   },
   "outputs": [],
   "source": [
    "params = {\n",
    "    a: range(2,10,2),\n",
    "    b: range(-9,0,2),\n",
    "    c: range(1,10,2),\n",
    "    d: range(2,10,),\n",
    "}"
   ]
  },
  {
   "cell_type": "code",
   "execution_count": null,
   "id": "6fabdcad-a3eb-4cd5-bc9a-36623a8cbf7c",
   "metadata": {
    "tags": []
   },
   "outputs": [],
   "source": [
    "param_script = get_params_script(\n",
    "    ex,\n",
    "    params,\n",
    "    show_vars = False,\n",
    "    pre_func = lambda ex: ex.expand(),\n",
    "    post_func = lambda ex: ex.factor(),\n",
    ")"
   ]
  },
  {
   "cell_type": "code",
   "execution_count": null,
   "id": "b4b4e00c-6769-441c-a12d-32d3ac0636dd",
   "metadata": {
    "tags": []
   },
   "outputs": [],
   "source": [
    "print(param_script)"
   ]
  },
  {
   "cell_type": "markdown",
   "id": "a0dd8da4-28cd-498a-831b-fae418b7c52f",
   "metadata": {},
   "source": [
    "### CET-00-A.04f:\n",
    "\n",
    "```html\n",
    "CET-00-A.04f:<br><br>Factor the expression.\n",
    "\\[${prob}\\]\n",
    "```\n",
    "```latex\n",
    "\\[\n",
    "x^3 y-4 x y\n",
    "\\\\\n",
    "x y(x-2)(x+2)\n",
    "\\]\n",
    "```\n",
    "\n",
    "```html\n",
    "\\[${sol}\\]\n",
    "```"
   ]
  },
  {
   "cell_type": "code",
   "execution_count": 154,
   "id": "d29ad4c0-0711-4204-80a8-0a5ad8b60aac",
   "metadata": {
    "tags": []
   },
   "outputs": [
    {
     "data": {
      "text/latex": [
       "$\\displaystyle x y \\left(- a + x\\right) \\left(a + x\\right)$"
      ],
      "text/plain": [
       "x*y*(-a + x)*(a + x)"
      ]
     },
     "execution_count": 154,
     "metadata": {},
     "output_type": "execute_result"
    }
   ],
   "source": [
    "ex = x*y*(x+a)*(x-a)\n",
    "ex"
   ]
  },
  {
   "cell_type": "code",
   "execution_count": 155,
   "id": "e0a8a05d-948d-4979-8cd1-f49d8be28ce7",
   "metadata": {
    "tags": []
   },
   "outputs": [
    {
     "data": {
      "text/latex": [
       "$\\displaystyle - a^{2} x y + x^{3} y$"
      ],
      "text/plain": [
       "-a**2*x*y + x**3*y"
      ]
     },
     "execution_count": 155,
     "metadata": {},
     "output_type": "execute_result"
    }
   ],
   "source": [
    "ex.expand()"
   ]
  },
  {
   "cell_type": "code",
   "execution_count": 156,
   "id": "58d8fc5a-d622-4eff-b94d-496a0d0055b4",
   "metadata": {
    "tags": []
   },
   "outputs": [
    {
     "data": {
      "text/latex": [
       "$\\displaystyle x y \\left(- a + x\\right) \\left(a + x\\right)$"
      ],
      "text/plain": [
       "x*y*(-a + x)*(a + x)"
      ]
     },
     "execution_count": 156,
     "metadata": {},
     "output_type": "execute_result"
    }
   ],
   "source": [
    "ex.factor()"
   ]
  },
  {
   "cell_type": "code",
   "execution_count": 157,
   "id": "546bfcbb-22b5-487f-8f7d-ba9e6b864cd6",
   "metadata": {
    "tags": []
   },
   "outputs": [],
   "source": [
    "params = {\n",
    "    a: range(1,10),\n",
    "}"
   ]
  },
  {
   "cell_type": "code",
   "execution_count": 158,
   "id": "f97f8633-34c7-453f-9969-4a3b23754541",
   "metadata": {
    "tags": []
   },
   "outputs": [],
   "source": [
    "param_script = get_params_script(\n",
    "    ex,\n",
    "    params,\n",
    "    show_vars = False,\n",
    "    pre_func = lambda ex: ex.expand(),\n",
    "    post_func = lambda ex: ex.factor(),\n",
    ")"
   ]
  },
  {
   "cell_type": "code",
   "execution_count": null,
   "id": "a62bc268-1222-4531-9897-3681791cd107",
   "metadata": {
    "tags": []
   },
   "outputs": [],
   "source": [
    "print(param_script)"
   ]
  },
  {
   "cell_type": "markdown",
   "id": "e3da0209-ab49-453d-a099-8295b3d0e1dc",
   "metadata": {},
   "source": [
    "### CET-00-A.05a:\n",
    "\n",
    "```html\n",
    "CET-00-A.05a:<br><br>Factor the expression.\n",
    "\\[${prob}\\]\n",
    "```\n",
    "```latex\n",
    "\\[\n",
    "\\frac{x^2+3 x+2}{x^2-x-2}\n",
    "\\\\\n",
    "\\frac{x+2}{x-2}\n",
    "\\]\n",
    "```\n",
    "\n",
    "```html\n",
    "\\[${sol}\\]\n",
    "```"
   ]
  },
  {
   "cell_type": "code",
   "execution_count": 179,
   "id": "6eab1f00-788b-47b4-8234-edb2c82902b7",
   "metadata": {
    "tags": []
   },
   "outputs": [
    {
     "data": {
      "text/latex": [
       "$\\displaystyle a b + a x + b x + x^{2}$"
      ]
     },
     "metadata": {},
     "output_type": "display_data"
    },
    {
     "data": {
      "text/latex": [
       "$\\displaystyle a c + a x + c x + x^{2}$"
      ]
     },
     "metadata": {},
     "output_type": "display_data"
    }
   ],
   "source": [
    "num = (x+a)*(x+b)\n",
    "den = (x+a)*(x+c)\n",
    "display.display_latex(num.expand())\n",
    "display.display_latex(den.expand())"
   ]
  },
  {
   "cell_type": "code",
   "execution_count": 252,
   "id": "8c8aa3af-5075-4517-a66e-f6b06962a728",
   "metadata": {
    "tags": []
   },
   "outputs": [],
   "source": [
    "prob = sy.UnevaluatedExpr(num)/den"
   ]
  },
  {
   "cell_type": "code",
   "execution_count": null,
   "id": "4c162d2d-48a3-4928-8ba0-ef16ebd7da8b",
   "metadata": {},
   "outputs": [
    {
     "data": {
      "text/latex": [
       "$\\displaystyle \\frac{b + x}{c + x}$"
      ],
      "text/plain": [
       "(b + x)/(c + x)"
      ]
     },
     "execution_count": 251,
     "metadata": {},
     "output_type": "execute_result"
    }
   ],
   "source": [
    "ex.doit()"
   ]
  },
  {
   "cell_type": "code",
   "execution_count": null,
   "id": "f5cd2a1a-9f61-4c6b-9413-5dc5b439fbb9",
   "metadata": {},
   "outputs": [],
   "source": []
  },
  {
   "cell_type": "code",
   "execution_count": null,
   "id": "dc5ef974-3257-413f-a748-62a01830f316",
   "metadata": {
    "tags": []
   },
   "outputs": [
    {
     "data": {
      "text/latex": [
       "$\\displaystyle \\left(a + x\\right) \\left(b + x\\right)$"
      ],
      "text/plain": [
       "(a + x)*(b + x)"
      ]
     },
     "execution_count": 177,
     "metadata": {},
     "output_type": "execute_result"
    }
   ],
   "source": [
    "ex = sy.sympify(num, evaluate=False)\n",
    "ex"
   ]
  },
  {
   "cell_type": "code",
   "execution_count": 155,
   "id": "c5e17625-3520-4a4f-b77e-791149d24edb",
   "metadata": {
    "tags": []
   },
   "outputs": [
    {
     "data": {
      "text/latex": [
       "$\\displaystyle - a^{2} x y + x^{3} y$"
      ],
      "text/plain": [
       "-a**2*x*y + x**3*y"
      ]
     },
     "execution_count": 155,
     "metadata": {},
     "output_type": "execute_result"
    }
   ],
   "source": [
    "ex.expand()"
   ]
  },
  {
   "cell_type": "code",
   "execution_count": 156,
   "id": "7cad66db-c763-4851-ab46-b15ae8fc6a19",
   "metadata": {
    "tags": []
   },
   "outputs": [
    {
     "data": {
      "text/latex": [
       "$\\displaystyle x y \\left(- a + x\\right) \\left(a + x\\right)$"
      ],
      "text/plain": [
       "x*y*(-a + x)*(a + x)"
      ]
     },
     "execution_count": 156,
     "metadata": {},
     "output_type": "execute_result"
    }
   ],
   "source": [
    "ex.factor()"
   ]
  },
  {
   "cell_type": "code",
   "execution_count": 308,
   "id": "a1d9b1ad-663c-4160-83e5-515ded1f1467",
   "metadata": {
    "tags": []
   },
   "outputs": [],
   "source": [
    "params = {\n",
    "    a: range(1,10),\n",
    "    b: range(1,10),\n",
    "    c: range(-9,0),\n",
    "}"
   ]
  },
  {
   "cell_type": "code",
   "execution_count": 300,
   "id": "cba9b4e9-927f-4eae-b22a-70257a4216ed",
   "metadata": {
    "tags": []
   },
   "outputs": [],
   "source": [
    "def get_probsol(ex, args_list):\n",
    "    _num = subs_items(num, args_list).expand()\n",
    "    _den = subs_items(den, args_list).expand()\n",
    "    prob = sy.UnevaluatedExpr(_num)/_den\n",
    "    sol = prob.doit().simplify()\n",
    "    keep = sol != 1\n",
    "    return prob,sol,keep"
   ]
  },
  {
   "cell_type": "code",
   "execution_count": 270,
   "id": "87a1102d-e38e-4f16-8b55-8616343d573a",
   "metadata": {
    "tags": []
   },
   "outputs": [
    {
     "data": {
      "text/plain": [
       "((a, -9), (b, -9), (c, -4))"
      ]
     },
     "execution_count": 270,
     "metadata": {},
     "output_type": "execute_result"
    }
   ],
   "source": [
    "args_list = list(generate_args_lists(params))[5]\n",
    "args_list"
   ]
  },
  {
   "cell_type": "code",
   "execution_count": 273,
   "id": "598965f6-4c1f-43cf-8aee-4e56309e4b0e",
   "metadata": {
    "tags": []
   },
   "outputs": [],
   "source": [
    "args_list = ((a,1),(b,2),(c,-2))"
   ]
  },
  {
   "cell_type": "code",
   "execution_count": 293,
   "id": "1e57d066-27d9-4c22-b1e5-b45812648002",
   "metadata": {
    "tags": []
   },
   "outputs": [
    {
     "data": {
      "text/plain": [
       "((x**2 + 3*x + 2)/(x**2 - x - 2), (x + 2)/(x - 2))"
      ]
     },
     "execution_count": 293,
     "metadata": {},
     "output_type": "execute_result"
    }
   ],
   "source": [
    "get_probsol(None, args_list)"
   ]
  },
  {
   "cell_type": "code",
   "execution_count": 309,
   "id": "99d3e3fb-e6fd-453f-b947-fd7e1ac5c492",
   "metadata": {
    "tags": []
   },
   "outputs": [],
   "source": [
    "param_script = get_params_script(\n",
    "    ex,\n",
    "    params,\n",
    "    show_vars = False,\n",
    "    probsol_func = get_probsol\n",
    ")"
   ]
  },
  {
   "cell_type": "code",
   "execution_count": null,
   "id": "a824d25a-135d-45e6-b237-cf48c0a20fae",
   "metadata": {
    "tags": []
   },
   "outputs": [],
   "source": [
    "print(param_script)"
   ]
  },
  {
   "cell_type": "markdown",
   "id": "2858a799-7f18-4612-a01d-f92c7c2008a6",
   "metadata": {},
   "source": [
    "### CET-00-A.05b:\n",
    "\n",
    "```html\n",
    "CET-00-A.05b:<br><br>Factor the expression.\n",
    "\\[${prob}\\]\n",
    "```\n",
    "```latex\n",
    "\\[\n",
    "\\frac{x^2+3 x+2}{x^2-x-2}\n",
    "\\\\\n",
    "\\frac{x+2}{x-2}\n",
    "\\]\n",
    "```\n",
    "\n",
    "```html\n",
    "\\[${sol}\\]\n",
    "```"
   ]
  },
  {
   "cell_type": "code",
   "execution_count": 318,
   "id": "c1737ea9-434e-4cd0-a0a5-ae5bd2cec42c",
   "metadata": {
    "tags": []
   },
   "outputs": [],
   "source": [
    "num1 = (2*x+a)*(x+b)\n",
    "den1 = (x+c)*(x+d)\n",
    "num2 = (x+d)\n",
    "den2 = (2*x+a)"
   ]
  },
  {
   "cell_type": "code",
   "execution_count": 313,
   "id": "cba9a3f3-4e27-484f-ad16-05b76a3f5c6d",
   "metadata": {
    "tags": []
   },
   "outputs": [],
   "source": [
    "params = {\n",
    "    a: range(1,10,2),\n",
    "    b: range(-9,0,2),\n",
    "    c: range(-9,0,2),\n",
    "    d: range(1,10,2),\n",
    "}"
   ]
  },
  {
   "cell_type": "code",
   "execution_count": 329,
   "id": "caa6e09d-5ab4-4a99-a316-23be7da8bb6f",
   "metadata": {
    "tags": []
   },
   "outputs": [],
   "source": [
    "def get_probsol(ex, args_list):\n",
    "    _num1 = subs_items(num1, args_list).expand()\n",
    "    _den1 = subs_items(den1, args_list).expand()\n",
    "    _num2 = subs_items(num2, args_list).expand()\n",
    "    _den2 = subs_items(den2, args_list).expand()\n",
    "    _q1 = sy.UnevaluatedExpr(_num1)/_den1\n",
    "    _q2 = sy.UnevaluatedExpr(_num2)/_den2\n",
    "    prob = _q1*_q2\n",
    "    sol = prob.doit().simplify()\n",
    "    keep = (_q1 != 1) and (_q2 != 1) and (sol != 1)\n",
    "    return prob,sol,keep"
   ]
  },
  {
   "cell_type": "code",
   "execution_count": 316,
   "id": "db7f6d5f-321a-4787-b1e3-2659b7893811",
   "metadata": {
    "tags": []
   },
   "outputs": [
    {
     "data": {
      "text/plain": [
       "((a, 1), (b, -9), (c, -7), (d, 1))"
      ]
     },
     "execution_count": 316,
     "metadata": {},
     "output_type": "execute_result"
    }
   ],
   "source": [
    "args_list = list(generate_args_lists(params))[5]\n",
    "args_list"
   ]
  },
  {
   "cell_type": "code",
   "execution_count": 324,
   "id": "ebc83448-3f75-4af3-8280-60a2b269107c",
   "metadata": {
    "tags": []
   },
   "outputs": [],
   "source": [
    "prob,sol,keep = get_probsol(None, args_list)"
   ]
  },
  {
   "cell_type": "code",
   "execution_count": 325,
   "id": "81de879a-dca6-4e89-946e-ce8cafbe7d9d",
   "metadata": {
    "tags": []
   },
   "outputs": [
    {
     "data": {
      "text/latex": [
       "$\\displaystyle \\frac{\\left(2 x^{2} - 17 x - 9\\right) \\left(x + 1\\right)}{\\left(2 x + 1\\right) \\left(x^{2} - 6 x - 7\\right)}$"
      ],
      "text/plain": [
       "(2*x**2 - 17*x - 9)*(x + 1)/((2*x + 1)*(x**2 - 6*x - 7))"
      ]
     },
     "execution_count": 325,
     "metadata": {},
     "output_type": "execute_result"
    }
   ],
   "source": [
    "prob"
   ]
  },
  {
   "cell_type": "code",
   "execution_count": 326,
   "id": "b365b34b-841f-4b8f-81fc-cc7e36a9c3c6",
   "metadata": {
    "tags": []
   },
   "outputs": [
    {
     "data": {
      "text/latex": [
       "$\\displaystyle \\frac{x - 9}{x - 7}$"
      ],
      "text/plain": [
       "(x - 9)/(x - 7)"
      ]
     },
     "execution_count": 326,
     "metadata": {},
     "output_type": "execute_result"
    }
   ],
   "source": [
    "sol"
   ]
  },
  {
   "cell_type": "code",
   "execution_count": 330,
   "id": "3264a163-134f-4737-b365-221cc22784bf",
   "metadata": {
    "tags": []
   },
   "outputs": [],
   "source": [
    "param_script = get_params_script(\n",
    "    ex,\n",
    "    params,\n",
    "    show_vars = False,\n",
    "    probsol_func = get_probsol\n",
    ")"
   ]
  },
  {
   "cell_type": "code",
   "execution_count": 331,
   "id": "bbb2faa5-2d20-40b4-982f-e6281b60241b",
   "metadata": {
    "tags": []
   },
   "outputs": [
    {
     "name": "stdout",
     "output_type": "stream",
     "text": [
      "if (typeof params === 'undefined') { let params,prob,sol; }\n",
      "params = [\n",
      "  [String.raw`\\frac{\\left(2 x^{2} - 17 x - 9\\right) \\left(x + 1\\right)}{\\left(2 x + 1\\right) \\left(x^{2} - 6 x - 7\\right)}`,String.raw`\\frac{x - 9}{x - 7}`,],\n",
      "  [String.raw`\\frac{\\left(2 x^{2} - 17 x - 9\\right) \\left(x + 3\\right)}{\\left(2 x + 1\\right) \\left(x^{2} - 4 x - 21\\right)}`,String.raw`\\frac{x - 9}{x - 7}`,],\n",
      "  [String.raw`\\frac{\\left(2 x^{2} - 17 x - 9\\right) \\left(x + 5\\right)}{\\left(2 x + 1\\right) \\left(x^{2} - 2 x - 35\\right)}`,String.raw`\\frac{x - 9}{x - 7}`,],\n",
      "  [String.raw`\\frac{\\left(2 x^{2} - 17 x - 9\\right) \\left(x + 7\\right)}{\\left(2 x + 1\\right) \\left(x^{2} - 49\\right)}`,String.raw`\\frac{x - 9}{x - 7}`,],\n",
      "  [String.raw`\\frac{\\left(2 x^{2} - 17 x - 9\\right) \\left(x + 9\\right)}{\\left(2 x + 1\\right) \\left(x^{2} + 2 x - 63\\right)}`,String.raw`\\frac{x - 9}{x - 7}`,],\n",
      "  [String.raw`\\frac{\\left(2 x^{2} - 17 x - 9\\right) \\left(x + 1\\right)}{\\left(2 x + 1\\right) \\left(x^{2} - 4 x - 5\\right)}`,String.raw`\\frac{x - 9}{x - 5}`,],\n",
      "  [String.raw`\\frac{\\left(2 x^{2} - 17 x - 9\\right) \\left(x + 3\\right)}{\\left(2 x + 1\\right) \\left(x^{2} - 2 x - 15\\right)}`,String.raw`\\frac{x - 9}{x - 5}`,],\n",
      "  [String.raw`\\frac{\\left(2 x^{2} - 17 x - 9\\right) \\left(x + 5\\right)}{\\left(2 x + 1\\right) \\left(x^{2} - 25\\right)}`,String.raw`\\frac{x - 9}{x - 5}`,],\n",
      "  [String.raw`\\frac{\\left(2 x^{2} - 17 x - 9\\right) \\left(x + 7\\right)}{\\left(2 x + 1\\right) \\left(x^{2} + 2 x - 35\\right)}`,String.raw`\\frac{x - 9}{x - 5}`,],\n",
      "  [String.raw`\\frac{\\left(2 x^{2} - 17 x - 9\\right) \\left(x + 9\\right)}{\\left(2 x + 1\\right) \\left(x^{2} + 4 x - 45\\right)}`,String.raw`\\frac{x - 9}{x - 5}`,],\n",
      "  [String.raw`\\frac{\\left(2 x^{2} - 17 x - 9\\right) \\left(x + 1\\right)}{\\left(2 x + 1\\right) \\left(x^{2} - 2 x - 3\\right)}`,String.raw`\\frac{x - 9}{x - 3}`,],\n",
      "  [String.raw`\\frac{\\left(2 x^{2} - 17 x - 9\\right) \\left(x + 3\\right)}{\\left(2 x + 1\\right) \\left(x^{2} - 9\\right)}`,String.raw`\\frac{x - 9}{x - 3}`,],\n",
      "  [String.raw`\\frac{\\left(2 x^{2} - 17 x - 9\\right) \\left(x + 5\\right)}{\\left(2 x + 1\\right) \\left(x^{2} + 2 x - 15\\right)}`,String.raw`\\frac{x - 9}{x - 3}`,],\n",
      "  [String.raw`\\frac{\\left(2 x^{2} - 17 x - 9\\right) \\left(x + 7\\right)}{\\left(2 x + 1\\right) \\left(x^{2} + 4 x - 21\\right)}`,String.raw`\\frac{x - 9}{x - 3}`,],\n",
      "  [String.raw`\\frac{\\left(2 x^{2} - 17 x - 9\\right) \\left(x + 9\\right)}{\\left(2 x + 1\\right) \\left(x^{2} + 6 x - 27\\right)}`,String.raw`\\frac{x - 9}{x - 3}`,],\n",
      "  [String.raw`\\frac{\\left(2 x^{2} - 17 x - 9\\right) \\left(x + 1\\right)}{\\left(2 x + 1\\right) \\left(x^{2} - 1\\right)}`,String.raw`\\frac{x - 9}{x - 1}`,],\n",
      "  [String.raw`\\frac{\\left(2 x^{2} - 17 x - 9\\right) \\left(x + 3\\right)}{\\left(2 x + 1\\right) \\left(x^{2} + 2 x - 3\\right)}`,String.raw`\\frac{x - 9}{x - 1}`,],\n",
      "  [String.raw`\\frac{\\left(2 x^{2} - 17 x - 9\\right) \\left(x + 5\\right)}{\\left(2 x + 1\\right) \\left(x^{2} + 4 x - 5\\right)}`,String.raw`\\frac{x - 9}{x - 1}`,],\n",
      "  [String.raw`\\frac{\\left(2 x^{2} - 17 x - 9\\right) \\left(x + 7\\right)}{\\left(2 x + 1\\right) \\left(x^{2} + 6 x - 7\\right)}`,String.raw`\\frac{x - 9}{x - 1}`,],\n",
      "  [String.raw`\\frac{\\left(2 x^{2} - 17 x - 9\\right) \\left(x + 9\\right)}{\\left(2 x + 1\\right) \\left(x^{2} + 8 x - 9\\right)}`,String.raw`\\frac{x - 9}{x - 1}`,],\n",
      "  [String.raw`\\frac{\\left(2 x^{2} - 13 x - 7\\right) \\left(x + 1\\right)}{\\left(2 x + 1\\right) \\left(x^{2} - 8 x - 9\\right)}`,String.raw`\\frac{x - 7}{x - 9}`,],\n",
      "  [String.raw`\\frac{\\left(2 x^{2} - 13 x - 7\\right) \\left(x + 3\\right)}{\\left(2 x + 1\\right) \\left(x^{2} - 6 x - 27\\right)}`,String.raw`\\frac{x - 7}{x - 9}`,],\n",
      "  [String.raw`\\frac{\\left(2 x^{2} - 13 x - 7\\right) \\left(x + 5\\right)}{\\left(2 x + 1\\right) \\left(x^{2} - 4 x - 45\\right)}`,String.raw`\\frac{x - 7}{x - 9}`,],\n",
      "  [String.raw`\\frac{\\left(2 x^{2} - 13 x - 7\\right) \\left(x + 7\\right)}{\\left(2 x + 1\\right) \\left(x^{2} - 2 x - 63\\right)}`,String.raw`\\frac{x - 7}{x - 9}`,],\n",
      "  [String.raw`\\frac{\\left(2 x^{2} - 13 x - 7\\right) \\left(x + 9\\right)}{\\left(2 x + 1\\right) \\left(x^{2} - 81\\right)}`,String.raw`\\frac{x - 7}{x - 9}`,],\n",
      "  [String.raw`\\frac{\\left(2 x^{2} - 13 x - 7\\right) \\left(x + 1\\right)}{\\left(2 x + 1\\right) \\left(x^{2} - 4 x - 5\\right)}`,String.raw`\\frac{x - 7}{x - 5}`,],\n",
      "  [String.raw`\\frac{\\left(2 x^{2} - 13 x - 7\\right) \\left(x + 3\\right)}{\\left(2 x + 1\\right) \\left(x^{2} - 2 x - 15\\right)}`,String.raw`\\frac{x - 7}{x - 5}`,],\n",
      "  [String.raw`\\frac{\\left(2 x^{2} - 13 x - 7\\right) \\left(x + 5\\right)}{\\left(2 x + 1\\right) \\left(x^{2} - 25\\right)}`,String.raw`\\frac{x - 7}{x - 5}`,],\n",
      "  [String.raw`\\frac{\\left(2 x^{2} - 13 x - 7\\right) \\left(x + 7\\right)}{\\left(2 x + 1\\right) \\left(x^{2} + 2 x - 35\\right)}`,String.raw`\\frac{x - 7}{x - 5}`,],\n",
      "  [String.raw`\\frac{\\left(2 x^{2} - 13 x - 7\\right) \\left(x + 9\\right)}{\\left(2 x + 1\\right) \\left(x^{2} + 4 x - 45\\right)}`,String.raw`\\frac{x - 7}{x - 5}`,],\n",
      "  [String.raw`\\frac{\\left(2 x^{2} - 13 x - 7\\right) \\left(x + 1\\right)}{\\left(2 x + 1\\right) \\left(x^{2} - 2 x - 3\\right)}`,String.raw`\\frac{x - 7}{x - 3}`,],\n",
      "  [String.raw`\\frac{\\left(2 x^{2} - 13 x - 7\\right) \\left(x + 3\\right)}{\\left(2 x + 1\\right) \\left(x^{2} - 9\\right)}`,String.raw`\\frac{x - 7}{x - 3}`,],\n",
      "  [String.raw`\\frac{\\left(2 x^{2} - 13 x - 7\\right) \\left(x + 5\\right)}{\\left(2 x + 1\\right) \\left(x^{2} + 2 x - 15\\right)}`,String.raw`\\frac{x - 7}{x - 3}`,],\n",
      "  [String.raw`\\frac{\\left(2 x^{2} - 13 x - 7\\right) \\left(x + 7\\right)}{\\left(2 x + 1\\right) \\left(x^{2} + 4 x - 21\\right)}`,String.raw`\\frac{x - 7}{x - 3}`,],\n",
      "  [String.raw`\\frac{\\left(2 x^{2} - 13 x - 7\\right) \\left(x + 9\\right)}{\\left(2 x + 1\\right) \\left(x^{2} + 6 x - 27\\right)}`,String.raw`\\frac{x - 7}{x - 3}`,],\n",
      "  [String.raw`\\frac{\\left(2 x^{2} - 13 x - 7\\right) \\left(x + 1\\right)}{\\left(2 x + 1\\right) \\left(x^{2} - 1\\right)}`,String.raw`\\frac{x - 7}{x - 1}`,],\n",
      "  [String.raw`\\frac{\\left(2 x^{2} - 13 x - 7\\right) \\left(x + 3\\right)}{\\left(2 x + 1\\right) \\left(x^{2} + 2 x - 3\\right)}`,String.raw`\\frac{x - 7}{x - 1}`,],\n",
      "  [String.raw`\\frac{\\left(2 x^{2} - 13 x - 7\\right) \\left(x + 5\\right)}{\\left(2 x + 1\\right) \\left(x^{2} + 4 x - 5\\right)}`,String.raw`\\frac{x - 7}{x - 1}`,],\n",
      "  [String.raw`\\frac{\\left(2 x^{2} - 13 x - 7\\right) \\left(x + 7\\right)}{\\left(2 x + 1\\right) \\left(x^{2} + 6 x - 7\\right)}`,String.raw`\\frac{x - 7}{x - 1}`,],\n",
      "  [String.raw`\\frac{\\left(2 x^{2} - 13 x - 7\\right) \\left(x + 9\\right)}{\\left(2 x + 1\\right) \\left(x^{2} + 8 x - 9\\right)}`,String.raw`\\frac{x - 7}{x - 1}`,],\n",
      "  [String.raw`\\frac{\\left(2 x^{2} - 9 x - 5\\right) \\left(x + 1\\right)}{\\left(2 x + 1\\right) \\left(x^{2} - 8 x - 9\\right)}`,String.raw`\\frac{x - 5}{x - 9}`,],\n",
      "  [String.raw`\\frac{\\left(2 x^{2} - 9 x - 5\\right) \\left(x + 3\\right)}{\\left(2 x + 1\\right) \\left(x^{2} - 6 x - 27\\right)}`,String.raw`\\frac{x - 5}{x - 9}`,],\n",
      "  [String.raw`\\frac{\\left(2 x^{2} - 9 x - 5\\right) \\left(x + 5\\right)}{\\left(2 x + 1\\right) \\left(x^{2} - 4 x - 45\\right)}`,String.raw`\\frac{x - 5}{x - 9}`,],\n",
      "  [String.raw`\\frac{\\left(2 x^{2} - 9 x - 5\\right) \\left(x + 7\\right)}{\\left(2 x + 1\\right) \\left(x^{2} - 2 x - 63\\right)}`,String.raw`\\frac{x - 5}{x - 9}`,],\n",
      "  [String.raw`\\frac{\\left(2 x^{2} - 9 x - 5\\right) \\left(x + 9\\right)}{\\left(2 x + 1\\right) \\left(x^{2} - 81\\right)}`,String.raw`\\frac{x - 5}{x - 9}`,],\n",
      "  [String.raw`\\frac{\\left(2 x^{2} - 9 x - 5\\right) \\left(x + 1\\right)}{\\left(2 x + 1\\right) \\left(x^{2} - 6 x - 7\\right)}`,String.raw`\\frac{x - 5}{x - 7}`,],\n",
      "  [String.raw`\\frac{\\left(2 x^{2} - 9 x - 5\\right) \\left(x + 3\\right)}{\\left(2 x + 1\\right) \\left(x^{2} - 4 x - 21\\right)}`,String.raw`\\frac{x - 5}{x - 7}`,],\n",
      "  [String.raw`\\frac{\\left(2 x^{2} - 9 x - 5\\right) \\left(x + 5\\right)}{\\left(2 x + 1\\right) \\left(x^{2} - 2 x - 35\\right)}`,String.raw`\\frac{x - 5}{x - 7}`,],\n",
      "  [String.raw`\\frac{\\left(2 x^{2} - 9 x - 5\\right) \\left(x + 7\\right)}{\\left(2 x + 1\\right) \\left(x^{2} - 49\\right)}`,String.raw`\\frac{x - 5}{x - 7}`,],\n",
      "  [String.raw`\\frac{\\left(2 x^{2} - 9 x - 5\\right) \\left(x + 9\\right)}{\\left(2 x + 1\\right) \\left(x^{2} + 2 x - 63\\right)}`,String.raw`\\frac{x - 5}{x - 7}`,],\n",
      "  [String.raw`\\frac{\\left(2 x^{2} - 9 x - 5\\right) \\left(x + 1\\right)}{\\left(2 x + 1\\right) \\left(x^{2} - 2 x - 3\\right)}`,String.raw`\\frac{x - 5}{x - 3}`,],\n",
      "  [String.raw`\\frac{\\left(2 x^{2} - 9 x - 5\\right) \\left(x + 3\\right)}{\\left(2 x + 1\\right) \\left(x^{2} - 9\\right)}`,String.raw`\\frac{x - 5}{x - 3}`,],\n",
      "  [String.raw`\\frac{\\left(2 x^{2} - 9 x - 5\\right) \\left(x + 5\\right)}{\\left(2 x + 1\\right) \\left(x^{2} + 2 x - 15\\right)}`,String.raw`\\frac{x - 5}{x - 3}`,],\n",
      "  [String.raw`\\frac{\\left(2 x^{2} - 9 x - 5\\right) \\left(x + 7\\right)}{\\left(2 x + 1\\right) \\left(x^{2} + 4 x - 21\\right)}`,String.raw`\\frac{x - 5}{x - 3}`,],\n",
      "  [String.raw`\\frac{\\left(2 x^{2} - 9 x - 5\\right) \\left(x + 9\\right)}{\\left(2 x + 1\\right) \\left(x^{2} + 6 x - 27\\right)}`,String.raw`\\frac{x - 5}{x - 3}`,],\n",
      "  [String.raw`\\frac{\\left(2 x^{2} - 9 x - 5\\right) \\left(x + 1\\right)}{\\left(2 x + 1\\right) \\left(x^{2} - 1\\right)}`,String.raw`\\frac{x - 5}{x - 1}`,],\n",
      "  [String.raw`\\frac{\\left(2 x^{2} - 9 x - 5\\right) \\left(x + 3\\right)}{\\left(2 x + 1\\right) \\left(x^{2} + 2 x - 3\\right)}`,String.raw`\\frac{x - 5}{x - 1}`,],\n",
      "  [String.raw`\\frac{\\left(2 x^{2} - 9 x - 5\\right) \\left(x + 5\\right)}{\\left(2 x + 1\\right) \\left(x^{2} + 4 x - 5\\right)}`,String.raw`\\frac{x - 5}{x - 1}`,],\n",
      "  [String.raw`\\frac{\\left(2 x^{2} - 9 x - 5\\right) \\left(x + 7\\right)}{\\left(2 x + 1\\right) \\left(x^{2} + 6 x - 7\\right)}`,String.raw`\\frac{x - 5}{x - 1}`,],\n",
      "  [String.raw`\\frac{\\left(2 x^{2} - 9 x - 5\\right) \\left(x + 9\\right)}{\\left(2 x + 1\\right) \\left(x^{2} + 8 x - 9\\right)}`,String.raw`\\frac{x - 5}{x - 1}`,],\n",
      "  [String.raw`\\frac{\\left(2 x^{2} - 5 x - 3\\right) \\left(x + 1\\right)}{\\left(2 x + 1\\right) \\left(x^{2} - 8 x - 9\\right)}`,String.raw`\\frac{x - 3}{x - 9}`,],\n",
      "  [String.raw`\\frac{\\left(2 x^{2} - 5 x - 3\\right) \\left(x + 3\\right)}{\\left(2 x + 1\\right) \\left(x^{2} - 6 x - 27\\right)}`,String.raw`\\frac{x - 3}{x - 9}`,],\n",
      "  [String.raw`\\frac{\\left(2 x^{2} - 5 x - 3\\right) \\left(x + 5\\right)}{\\left(2 x + 1\\right) \\left(x^{2} - 4 x - 45\\right)}`,String.raw`\\frac{x - 3}{x - 9}`,],\n",
      "  [String.raw`\\frac{\\left(2 x^{2} - 5 x - 3\\right) \\left(x + 7\\right)}{\\left(2 x + 1\\right) \\left(x^{2} - 2 x - 63\\right)}`,String.raw`\\frac{x - 3}{x - 9}`,],\n",
      "  [String.raw`\\frac{\\left(2 x^{2} - 5 x - 3\\right) \\left(x + 9\\right)}{\\left(2 x + 1\\right) \\left(x^{2} - 81\\right)}`,String.raw`\\frac{x - 3}{x - 9}`,],\n",
      "  [String.raw`\\frac{\\left(2 x^{2} - 5 x - 3\\right) \\left(x + 1\\right)}{\\left(2 x + 1\\right) \\left(x^{2} - 6 x - 7\\right)}`,String.raw`\\frac{x - 3}{x - 7}`,],\n",
      "  [String.raw`\\frac{\\left(2 x^{2} - 5 x - 3\\right) \\left(x + 3\\right)}{\\left(2 x + 1\\right) \\left(x^{2} - 4 x - 21\\right)}`,String.raw`\\frac{x - 3}{x - 7}`,],\n",
      "  [String.raw`\\frac{\\left(2 x^{2} - 5 x - 3\\right) \\left(x + 5\\right)}{\\left(2 x + 1\\right) \\left(x^{2} - 2 x - 35\\right)}`,String.raw`\\frac{x - 3}{x - 7}`,],\n",
      "  [String.raw`\\frac{\\left(2 x^{2} - 5 x - 3\\right) \\left(x + 7\\right)}{\\left(2 x + 1\\right) \\left(x^{2} - 49\\right)}`,String.raw`\\frac{x - 3}{x - 7}`,],\n",
      "  [String.raw`\\frac{\\left(2 x^{2} - 5 x - 3\\right) \\left(x + 9\\right)}{\\left(2 x + 1\\right) \\left(x^{2} + 2 x - 63\\right)}`,String.raw`\\frac{x - 3}{x - 7}`,],\n",
      "  [String.raw`\\frac{\\left(2 x^{2} - 5 x - 3\\right) \\left(x + 1\\right)}{\\left(2 x + 1\\right) \\left(x^{2} - 4 x - 5\\right)}`,String.raw`\\frac{x - 3}{x - 5}`,],\n",
      "  [String.raw`\\frac{\\left(2 x^{2} - 5 x - 3\\right) \\left(x + 3\\right)}{\\left(2 x + 1\\right) \\left(x^{2} - 2 x - 15\\right)}`,String.raw`\\frac{x - 3}{x - 5}`,],\n",
      "  [String.raw`\\frac{\\left(2 x^{2} - 5 x - 3\\right) \\left(x + 5\\right)}{\\left(2 x + 1\\right) \\left(x^{2} - 25\\right)}`,String.raw`\\frac{x - 3}{x - 5}`,],\n",
      "  [String.raw`\\frac{\\left(2 x^{2} - 5 x - 3\\right) \\left(x + 7\\right)}{\\left(2 x + 1\\right) \\left(x^{2} + 2 x - 35\\right)}`,String.raw`\\frac{x - 3}{x - 5}`,],\n",
      "  [String.raw`\\frac{\\left(2 x^{2} - 5 x - 3\\right) \\left(x + 9\\right)}{\\left(2 x + 1\\right) \\left(x^{2} + 4 x - 45\\right)}`,String.raw`\\frac{x - 3}{x - 5}`,],\n",
      "  [String.raw`\\frac{\\left(2 x^{2} - 5 x - 3\\right) \\left(x + 1\\right)}{\\left(2 x + 1\\right) \\left(x^{2} - 1\\right)}`,String.raw`\\frac{x - 3}{x - 1}`,],\n",
      "  [String.raw`\\frac{\\left(2 x^{2} - 5 x - 3\\right) \\left(x + 3\\right)}{\\left(2 x + 1\\right) \\left(x^{2} + 2 x - 3\\right)}`,String.raw`\\frac{x - 3}{x - 1}`,],\n",
      "  [String.raw`\\frac{\\left(2 x^{2} - 5 x - 3\\right) \\left(x + 5\\right)}{\\left(2 x + 1\\right) \\left(x^{2} + 4 x - 5\\right)}`,String.raw`\\frac{x - 3}{x - 1}`,],\n",
      "  [String.raw`\\frac{\\left(2 x^{2} - 5 x - 3\\right) \\left(x + 7\\right)}{\\left(2 x + 1\\right) \\left(x^{2} + 6 x - 7\\right)}`,String.raw`\\frac{x - 3}{x - 1}`,],\n",
      "  [String.raw`\\frac{\\left(2 x^{2} - 5 x - 3\\right) \\left(x + 9\\right)}{\\left(2 x + 1\\right) \\left(x^{2} + 8 x - 9\\right)}`,String.raw`\\frac{x - 3}{x - 1}`,],\n",
      "  [String.raw`\\frac{\\left(2 x^{2} - x - 1\\right) \\left(x + 1\\right)}{\\left(2 x + 1\\right) \\left(x^{2} - 8 x - 9\\right)}`,String.raw`\\frac{x - 1}{x - 9}`,],\n",
      "  [String.raw`\\frac{\\left(2 x^{2} - x - 1\\right) \\left(x + 3\\right)}{\\left(2 x + 1\\right) \\left(x^{2} - 6 x - 27\\right)}`,String.raw`\\frac{x - 1}{x - 9}`,],\n",
      "  [String.raw`\\frac{\\left(2 x^{2} - x - 1\\right) \\left(x + 5\\right)}{\\left(2 x + 1\\right) \\left(x^{2} - 4 x - 45\\right)}`,String.raw`\\frac{x - 1}{x - 9}`,],\n",
      "  [String.raw`\\frac{\\left(2 x^{2} - x - 1\\right) \\left(x + 7\\right)}{\\left(2 x + 1\\right) \\left(x^{2} - 2 x - 63\\right)}`,String.raw`\\frac{x - 1}{x - 9}`,],\n",
      "  [String.raw`\\frac{\\left(2 x^{2} - x - 1\\right) \\left(x + 9\\right)}{\\left(2 x + 1\\right) \\left(x^{2} - 81\\right)}`,String.raw`\\frac{x - 1}{x - 9}`,],\n",
      "  [String.raw`\\frac{\\left(2 x^{2} - x - 1\\right) \\left(x + 1\\right)}{\\left(2 x + 1\\right) \\left(x^{2} - 6 x - 7\\right)}`,String.raw`\\frac{x - 1}{x - 7}`,],\n",
      "  [String.raw`\\frac{\\left(2 x^{2} - x - 1\\right) \\left(x + 3\\right)}{\\left(2 x + 1\\right) \\left(x^{2} - 4 x - 21\\right)}`,String.raw`\\frac{x - 1}{x - 7}`,],\n",
      "  [String.raw`\\frac{\\left(2 x^{2} - x - 1\\right) \\left(x + 5\\right)}{\\left(2 x + 1\\right) \\left(x^{2} - 2 x - 35\\right)}`,String.raw`\\frac{x - 1}{x - 7}`,],\n",
      "  [String.raw`\\frac{\\left(2 x^{2} - x - 1\\right) \\left(x + 7\\right)}{\\left(2 x + 1\\right) \\left(x^{2} - 49\\right)}`,String.raw`\\frac{x - 1}{x - 7}`,],\n",
      "  [String.raw`\\frac{\\left(2 x^{2} - x - 1\\right) \\left(x + 9\\right)}{\\left(2 x + 1\\right) \\left(x^{2} + 2 x - 63\\right)}`,String.raw`\\frac{x - 1}{x - 7}`,],\n",
      "  [String.raw`\\frac{\\left(2 x^{2} - x - 1\\right) \\left(x + 1\\right)}{\\left(2 x + 1\\right) \\left(x^{2} - 4 x - 5\\right)}`,String.raw`\\frac{x - 1}{x - 5}`,],\n",
      "  [String.raw`\\frac{\\left(2 x^{2} - x - 1\\right) \\left(x + 3\\right)}{\\left(2 x + 1\\right) \\left(x^{2} - 2 x - 15\\right)}`,String.raw`\\frac{x - 1}{x - 5}`,],\n",
      "  [String.raw`\\frac{\\left(2 x^{2} - x - 1\\right) \\left(x + 5\\right)}{\\left(2 x + 1\\right) \\left(x^{2} - 25\\right)}`,String.raw`\\frac{x - 1}{x - 5}`,],\n",
      "  [String.raw`\\frac{\\left(2 x^{2} - x - 1\\right) \\left(x + 7\\right)}{\\left(2 x + 1\\right) \\left(x^{2} + 2 x - 35\\right)}`,String.raw`\\frac{x - 1}{x - 5}`,],\n",
      "  [String.raw`\\frac{\\left(2 x^{2} - x - 1\\right) \\left(x + 9\\right)}{\\left(2 x + 1\\right) \\left(x^{2} + 4 x - 45\\right)}`,String.raw`\\frac{x - 1}{x - 5}`,],\n",
      "  [String.raw`\\frac{\\left(2 x^{2} - x - 1\\right) \\left(x + 1\\right)}{\\left(2 x + 1\\right) \\left(x^{2} - 2 x - 3\\right)}`,String.raw`\\frac{x - 1}{x - 3}`,],\n",
      "  [String.raw`\\frac{\\left(2 x^{2} - x - 1\\right) \\left(x + 3\\right)}{\\left(2 x + 1\\right) \\left(x^{2} - 9\\right)}`,String.raw`\\frac{x - 1}{x - 3}`,],\n",
      "  [String.raw`\\frac{\\left(2 x^{2} - x - 1\\right) \\left(x + 5\\right)}{\\left(2 x + 1\\right) \\left(x^{2} + 2 x - 15\\right)}`,String.raw`\\frac{x - 1}{x - 3}`,],\n",
      "  [String.raw`\\frac{\\left(2 x^{2} - x - 1\\right) \\left(x + 7\\right)}{\\left(2 x + 1\\right) \\left(x^{2} + 4 x - 21\\right)}`,String.raw`\\frac{x - 1}{x - 3}`,],\n",
      "  [String.raw`\\frac{\\left(2 x^{2} - x - 1\\right) \\left(x + 9\\right)}{\\left(2 x + 1\\right) \\left(x^{2} + 6 x - 27\\right)}`,String.raw`\\frac{x - 1}{x - 3}`,],\n",
      "  [String.raw`\\frac{\\left(2 x^{2} - 15 x - 27\\right) \\left(x + 1\\right)}{\\left(2 x + 3\\right) \\left(x^{2} - 6 x - 7\\right)}`,String.raw`\\frac{x - 9}{x - 7}`,],\n",
      "  [String.raw`\\frac{\\left(2 x^{2} - 15 x - 27\\right) \\left(x + 3\\right)}{\\left(2 x + 3\\right) \\left(x^{2} - 4 x - 21\\right)}`,String.raw`\\frac{x - 9}{x - 7}`,],\n",
      "  [String.raw`\\frac{\\left(2 x^{2} - 15 x - 27\\right) \\left(x + 5\\right)}{\\left(2 x + 3\\right) \\left(x^{2} - 2 x - 35\\right)}`,String.raw`\\frac{x - 9}{x - 7}`,],\n",
      "  [String.raw`\\frac{\\left(2 x^{2} - 15 x - 27\\right) \\left(x + 7\\right)}{\\left(2 x + 3\\right) \\left(x^{2} - 49\\right)}`,String.raw`\\frac{x - 9}{x - 7}`,],\n",
      "  [String.raw`\\frac{\\left(2 x^{2} - 15 x - 27\\right) \\left(x + 9\\right)}{\\left(2 x + 3\\right) \\left(x^{2} + 2 x - 63\\right)}`,String.raw`\\frac{x - 9}{x - 7}`,],\n",
      "  [String.raw`\\frac{\\left(2 x^{2} - 15 x - 27\\right) \\left(x + 1\\right)}{\\left(2 x + 3\\right) \\left(x^{2} - 4 x - 5\\right)}`,String.raw`\\frac{x - 9}{x - 5}`,],\n",
      "  [String.raw`\\frac{\\left(2 x^{2} - 15 x - 27\\right) \\left(x + 3\\right)}{\\left(2 x + 3\\right) \\left(x^{2} - 2 x - 15\\right)}`,String.raw`\\frac{x - 9}{x - 5}`,],\n",
      "  [String.raw`\\frac{\\left(2 x^{2} - 15 x - 27\\right) \\left(x + 5\\right)}{\\left(2 x + 3\\right) \\left(x^{2} - 25\\right)}`,String.raw`\\frac{x - 9}{x - 5}`,],\n",
      "  [String.raw`\\frac{\\left(2 x^{2} - 15 x - 27\\right) \\left(x + 7\\right)}{\\left(2 x + 3\\right) \\left(x^{2} + 2 x - 35\\right)}`,String.raw`\\frac{x - 9}{x - 5}`,],\n",
      "  [String.raw`\\frac{\\left(2 x^{2} - 15 x - 27\\right) \\left(x + 9\\right)}{\\left(2 x + 3\\right) \\left(x^{2} + 4 x - 45\\right)}`,String.raw`\\frac{x - 9}{x - 5}`,],\n",
      "  [String.raw`\\frac{\\left(2 x^{2} - 15 x - 27\\right) \\left(x + 1\\right)}{\\left(2 x + 3\\right) \\left(x^{2} - 2 x - 3\\right)}`,String.raw`\\frac{x - 9}{x - 3}`,],\n",
      "  [String.raw`\\frac{\\left(2 x^{2} - 15 x - 27\\right) \\left(x + 3\\right)}{\\left(2 x + 3\\right) \\left(x^{2} - 9\\right)}`,String.raw`\\frac{x - 9}{x - 3}`,],\n",
      "  [String.raw`\\frac{\\left(2 x^{2} - 15 x - 27\\right) \\left(x + 5\\right)}{\\left(2 x + 3\\right) \\left(x^{2} + 2 x - 15\\right)}`,String.raw`\\frac{x - 9}{x - 3}`,],\n",
      "  [String.raw`\\frac{\\left(2 x^{2} - 15 x - 27\\right) \\left(x + 7\\right)}{\\left(2 x + 3\\right) \\left(x^{2} + 4 x - 21\\right)}`,String.raw`\\frac{x - 9}{x - 3}`,],\n",
      "  [String.raw`\\frac{\\left(2 x^{2} - 15 x - 27\\right) \\left(x + 9\\right)}{\\left(2 x + 3\\right) \\left(x^{2} + 6 x - 27\\right)}`,String.raw`\\frac{x - 9}{x - 3}`,],\n",
      "  [String.raw`\\frac{\\left(2 x^{2} - 15 x - 27\\right) \\left(x + 1\\right)}{\\left(2 x + 3\\right) \\left(x^{2} - 1\\right)}`,String.raw`\\frac{x - 9}{x - 1}`,],\n",
      "  [String.raw`\\frac{\\left(2 x^{2} - 15 x - 27\\right) \\left(x + 3\\right)}{\\left(2 x + 3\\right) \\left(x^{2} + 2 x - 3\\right)}`,String.raw`\\frac{x - 9}{x - 1}`,],\n",
      "  [String.raw`\\frac{\\left(2 x^{2} - 15 x - 27\\right) \\left(x + 5\\right)}{\\left(2 x + 3\\right) \\left(x^{2} + 4 x - 5\\right)}`,String.raw`\\frac{x - 9}{x - 1}`,],\n",
      "  [String.raw`\\frac{\\left(2 x^{2} - 15 x - 27\\right) \\left(x + 7\\right)}{\\left(2 x + 3\\right) \\left(x^{2} + 6 x - 7\\right)}`,String.raw`\\frac{x - 9}{x - 1}`,],\n",
      "  [String.raw`\\frac{\\left(2 x^{2} - 15 x - 27\\right) \\left(x + 9\\right)}{\\left(2 x + 3\\right) \\left(x^{2} + 8 x - 9\\right)}`,String.raw`\\frac{x - 9}{x - 1}`,],\n",
      "  [String.raw`\\frac{\\left(2 x^{2} - 11 x - 21\\right) \\left(x + 1\\right)}{\\left(2 x + 3\\right) \\left(x^{2} - 8 x - 9\\right)}`,String.raw`\\frac{x - 7}{x - 9}`,],\n",
      "  [String.raw`\\frac{\\left(2 x^{2} - 11 x - 21\\right) \\left(x + 3\\right)}{\\left(2 x + 3\\right) \\left(x^{2} - 6 x - 27\\right)}`,String.raw`\\frac{x - 7}{x - 9}`,],\n",
      "  [String.raw`\\frac{\\left(2 x^{2} - 11 x - 21\\right) \\left(x + 5\\right)}{\\left(2 x + 3\\right) \\left(x^{2} - 4 x - 45\\right)}`,String.raw`\\frac{x - 7}{x - 9}`,],\n",
      "  [String.raw`\\frac{\\left(2 x^{2} - 11 x - 21\\right) \\left(x + 7\\right)}{\\left(2 x + 3\\right) \\left(x^{2} - 2 x - 63\\right)}`,String.raw`\\frac{x - 7}{x - 9}`,],\n",
      "  [String.raw`\\frac{\\left(2 x^{2} - 11 x - 21\\right) \\left(x + 9\\right)}{\\left(2 x + 3\\right) \\left(x^{2} - 81\\right)}`,String.raw`\\frac{x - 7}{x - 9}`,],\n",
      "  [String.raw`\\frac{\\left(2 x^{2} - 11 x - 21\\right) \\left(x + 1\\right)}{\\left(2 x + 3\\right) \\left(x^{2} - 4 x - 5\\right)}`,String.raw`\\frac{x - 7}{x - 5}`,],\n",
      "  [String.raw`\\frac{\\left(2 x^{2} - 11 x - 21\\right) \\left(x + 3\\right)}{\\left(2 x + 3\\right) \\left(x^{2} - 2 x - 15\\right)}`,String.raw`\\frac{x - 7}{x - 5}`,],\n",
      "  [String.raw`\\frac{\\left(2 x^{2} - 11 x - 21\\right) \\left(x + 5\\right)}{\\left(2 x + 3\\right) \\left(x^{2} - 25\\right)}`,String.raw`\\frac{x - 7}{x - 5}`,],\n",
      "  [String.raw`\\frac{\\left(2 x^{2} - 11 x - 21\\right) \\left(x + 7\\right)}{\\left(2 x + 3\\right) \\left(x^{2} + 2 x - 35\\right)}`,String.raw`\\frac{x - 7}{x - 5}`,],\n",
      "  [String.raw`\\frac{\\left(2 x^{2} - 11 x - 21\\right) \\left(x + 9\\right)}{\\left(2 x + 3\\right) \\left(x^{2} + 4 x - 45\\right)}`,String.raw`\\frac{x - 7}{x - 5}`,],\n",
      "  [String.raw`\\frac{\\left(2 x^{2} - 11 x - 21\\right) \\left(x + 1\\right)}{\\left(2 x + 3\\right) \\left(x^{2} - 2 x - 3\\right)}`,String.raw`\\frac{x - 7}{x - 3}`,],\n",
      "  [String.raw`\\frac{\\left(2 x^{2} - 11 x - 21\\right) \\left(x + 3\\right)}{\\left(2 x + 3\\right) \\left(x^{2} - 9\\right)}`,String.raw`\\frac{x - 7}{x - 3}`,],\n",
      "  [String.raw`\\frac{\\left(2 x^{2} - 11 x - 21\\right) \\left(x + 5\\right)}{\\left(2 x + 3\\right) \\left(x^{2} + 2 x - 15\\right)}`,String.raw`\\frac{x - 7}{x - 3}`,],\n",
      "  [String.raw`\\frac{\\left(2 x^{2} - 11 x - 21\\right) \\left(x + 7\\right)}{\\left(2 x + 3\\right) \\left(x^{2} + 4 x - 21\\right)}`,String.raw`\\frac{x - 7}{x - 3}`,],\n",
      "  [String.raw`\\frac{\\left(2 x^{2} - 11 x - 21\\right) \\left(x + 9\\right)}{\\left(2 x + 3\\right) \\left(x^{2} + 6 x - 27\\right)}`,String.raw`\\frac{x - 7}{x - 3}`,],\n",
      "  [String.raw`\\frac{\\left(2 x^{2} - 11 x - 21\\right) \\left(x + 1\\right)}{\\left(2 x + 3\\right) \\left(x^{2} - 1\\right)}`,String.raw`\\frac{x - 7}{x - 1}`,],\n",
      "  [String.raw`\\frac{\\left(2 x^{2} - 11 x - 21\\right) \\left(x + 3\\right)}{\\left(2 x + 3\\right) \\left(x^{2} + 2 x - 3\\right)}`,String.raw`\\frac{x - 7}{x - 1}`,],\n",
      "  [String.raw`\\frac{\\left(2 x^{2} - 11 x - 21\\right) \\left(x + 5\\right)}{\\left(2 x + 3\\right) \\left(x^{2} + 4 x - 5\\right)}`,String.raw`\\frac{x - 7}{x - 1}`,],\n",
      "  [String.raw`\\frac{\\left(2 x^{2} - 11 x - 21\\right) \\left(x + 7\\right)}{\\left(2 x + 3\\right) \\left(x^{2} + 6 x - 7\\right)}`,String.raw`\\frac{x - 7}{x - 1}`,],\n",
      "  [String.raw`\\frac{\\left(2 x^{2} - 11 x - 21\\right) \\left(x + 9\\right)}{\\left(2 x + 3\\right) \\left(x^{2} + 8 x - 9\\right)}`,String.raw`\\frac{x - 7}{x - 1}`,],\n",
      "  [String.raw`\\frac{\\left(2 x^{2} - 7 x - 15\\right) \\left(x + 1\\right)}{\\left(2 x + 3\\right) \\left(x^{2} - 8 x - 9\\right)}`,String.raw`\\frac{x - 5}{x - 9}`,],\n",
      "  [String.raw`\\frac{\\left(2 x^{2} - 7 x - 15\\right) \\left(x + 3\\right)}{\\left(2 x + 3\\right) \\left(x^{2} - 6 x - 27\\right)}`,String.raw`\\frac{x - 5}{x - 9}`,],\n",
      "  [String.raw`\\frac{\\left(2 x^{2} - 7 x - 15\\right) \\left(x + 5\\right)}{\\left(2 x + 3\\right) \\left(x^{2} - 4 x - 45\\right)}`,String.raw`\\frac{x - 5}{x - 9}`,],\n",
      "  [String.raw`\\frac{\\left(2 x^{2} - 7 x - 15\\right) \\left(x + 7\\right)}{\\left(2 x + 3\\right) \\left(x^{2} - 2 x - 63\\right)}`,String.raw`\\frac{x - 5}{x - 9}`,],\n",
      "  [String.raw`\\frac{\\left(2 x^{2} - 7 x - 15\\right) \\left(x + 9\\right)}{\\left(2 x + 3\\right) \\left(x^{2} - 81\\right)}`,String.raw`\\frac{x - 5}{x - 9}`,],\n",
      "  [String.raw`\\frac{\\left(2 x^{2} - 7 x - 15\\right) \\left(x + 1\\right)}{\\left(2 x + 3\\right) \\left(x^{2} - 6 x - 7\\right)}`,String.raw`\\frac{x - 5}{x - 7}`,],\n",
      "  [String.raw`\\frac{\\left(2 x^{2} - 7 x - 15\\right) \\left(x + 3\\right)}{\\left(2 x + 3\\right) \\left(x^{2} - 4 x - 21\\right)}`,String.raw`\\frac{x - 5}{x - 7}`,],\n",
      "  [String.raw`\\frac{\\left(2 x^{2} - 7 x - 15\\right) \\left(x + 5\\right)}{\\left(2 x + 3\\right) \\left(x^{2} - 2 x - 35\\right)}`,String.raw`\\frac{x - 5}{x - 7}`,],\n",
      "  [String.raw`\\frac{\\left(2 x^{2} - 7 x - 15\\right) \\left(x + 7\\right)}{\\left(2 x + 3\\right) \\left(x^{2} - 49\\right)}`,String.raw`\\frac{x - 5}{x - 7}`,],\n",
      "  [String.raw`\\frac{\\left(2 x^{2} - 7 x - 15\\right) \\left(x + 9\\right)}{\\left(2 x + 3\\right) \\left(x^{2} + 2 x - 63\\right)}`,String.raw`\\frac{x - 5}{x - 7}`,],\n",
      "  [String.raw`\\frac{\\left(2 x^{2} - 7 x - 15\\right) \\left(x + 1\\right)}{\\left(2 x + 3\\right) \\left(x^{2} - 2 x - 3\\right)}`,String.raw`\\frac{x - 5}{x - 3}`,],\n",
      "  [String.raw`\\frac{\\left(2 x^{2} - 7 x - 15\\right) \\left(x + 3\\right)}{\\left(2 x + 3\\right) \\left(x^{2} - 9\\right)}`,String.raw`\\frac{x - 5}{x - 3}`,],\n",
      "  [String.raw`\\frac{\\left(2 x^{2} - 7 x - 15\\right) \\left(x + 5\\right)}{\\left(2 x + 3\\right) \\left(x^{2} + 2 x - 15\\right)}`,String.raw`\\frac{x - 5}{x - 3}`,],\n",
      "  [String.raw`\\frac{\\left(2 x^{2} - 7 x - 15\\right) \\left(x + 7\\right)}{\\left(2 x + 3\\right) \\left(x^{2} + 4 x - 21\\right)}`,String.raw`\\frac{x - 5}{x - 3}`,],\n",
      "  [String.raw`\\frac{\\left(2 x^{2} - 7 x - 15\\right) \\left(x + 9\\right)}{\\left(2 x + 3\\right) \\left(x^{2} + 6 x - 27\\right)}`,String.raw`\\frac{x - 5}{x - 3}`,],\n",
      "  [String.raw`\\frac{\\left(2 x^{2} - 7 x - 15\\right) \\left(x + 1\\right)}{\\left(2 x + 3\\right) \\left(x^{2} - 1\\right)}`,String.raw`\\frac{x - 5}{x - 1}`,],\n",
      "  [String.raw`\\frac{\\left(2 x^{2} - 7 x - 15\\right) \\left(x + 3\\right)}{\\left(2 x + 3\\right) \\left(x^{2} + 2 x - 3\\right)}`,String.raw`\\frac{x - 5}{x - 1}`,],\n",
      "  [String.raw`\\frac{\\left(2 x^{2} - 7 x - 15\\right) \\left(x + 5\\right)}{\\left(2 x + 3\\right) \\left(x^{2} + 4 x - 5\\right)}`,String.raw`\\frac{x - 5}{x - 1}`,],\n",
      "  [String.raw`\\frac{\\left(2 x^{2} - 7 x - 15\\right) \\left(x + 7\\right)}{\\left(2 x + 3\\right) \\left(x^{2} + 6 x - 7\\right)}`,String.raw`\\frac{x - 5}{x - 1}`,],\n",
      "  [String.raw`\\frac{\\left(2 x^{2} - 7 x - 15\\right) \\left(x + 9\\right)}{\\left(2 x + 3\\right) \\left(x^{2} + 8 x - 9\\right)}`,String.raw`\\frac{x - 5}{x - 1}`,],\n",
      "  [String.raw`\\frac{\\left(2 x^{2} - 3 x - 9\\right) \\left(x + 1\\right)}{\\left(2 x + 3\\right) \\left(x^{2} - 8 x - 9\\right)}`,String.raw`\\frac{x - 3}{x - 9}`,],\n",
      "  [String.raw`\\frac{\\left(2 x^{2} - 3 x - 9\\right) \\left(x + 3\\right)}{\\left(2 x + 3\\right) \\left(x^{2} - 6 x - 27\\right)}`,String.raw`\\frac{x - 3}{x - 9}`,],\n",
      "  [String.raw`\\frac{\\left(2 x^{2} - 3 x - 9\\right) \\left(x + 5\\right)}{\\left(2 x + 3\\right) \\left(x^{2} - 4 x - 45\\right)}`,String.raw`\\frac{x - 3}{x - 9}`,],\n",
      "  [String.raw`\\frac{\\left(2 x^{2} - 3 x - 9\\right) \\left(x + 7\\right)}{\\left(2 x + 3\\right) \\left(x^{2} - 2 x - 63\\right)}`,String.raw`\\frac{x - 3}{x - 9}`,],\n",
      "  [String.raw`\\frac{\\left(2 x^{2} - 3 x - 9\\right) \\left(x + 9\\right)}{\\left(2 x + 3\\right) \\left(x^{2} - 81\\right)}`,String.raw`\\frac{x - 3}{x - 9}`,],\n",
      "  [String.raw`\\frac{\\left(2 x^{2} - 3 x - 9\\right) \\left(x + 1\\right)}{\\left(2 x + 3\\right) \\left(x^{2} - 6 x - 7\\right)}`,String.raw`\\frac{x - 3}{x - 7}`,],\n",
      "  [String.raw`\\frac{\\left(2 x^{2} - 3 x - 9\\right) \\left(x + 3\\right)}{\\left(2 x + 3\\right) \\left(x^{2} - 4 x - 21\\right)}`,String.raw`\\frac{x - 3}{x - 7}`,],\n",
      "  [String.raw`\\frac{\\left(2 x^{2} - 3 x - 9\\right) \\left(x + 5\\right)}{\\left(2 x + 3\\right) \\left(x^{2} - 2 x - 35\\right)}`,String.raw`\\frac{x - 3}{x - 7}`,],\n",
      "  [String.raw`\\frac{\\left(2 x^{2} - 3 x - 9\\right) \\left(x + 7\\right)}{\\left(2 x + 3\\right) \\left(x^{2} - 49\\right)}`,String.raw`\\frac{x - 3}{x - 7}`,],\n",
      "  [String.raw`\\frac{\\left(2 x^{2} - 3 x - 9\\right) \\left(x + 9\\right)}{\\left(2 x + 3\\right) \\left(x^{2} + 2 x - 63\\right)}`,String.raw`\\frac{x - 3}{x - 7}`,],\n",
      "  [String.raw`\\frac{\\left(2 x^{2} - 3 x - 9\\right) \\left(x + 1\\right)}{\\left(2 x + 3\\right) \\left(x^{2} - 4 x - 5\\right)}`,String.raw`\\frac{x - 3}{x - 5}`,],\n",
      "  [String.raw`\\frac{\\left(2 x^{2} - 3 x - 9\\right) \\left(x + 3\\right)}{\\left(2 x + 3\\right) \\left(x^{2} - 2 x - 15\\right)}`,String.raw`\\frac{x - 3}{x - 5}`,],\n",
      "  [String.raw`\\frac{\\left(2 x^{2} - 3 x - 9\\right) \\left(x + 5\\right)}{\\left(2 x + 3\\right) \\left(x^{2} - 25\\right)}`,String.raw`\\frac{x - 3}{x - 5}`,],\n",
      "  [String.raw`\\frac{\\left(2 x^{2} - 3 x - 9\\right) \\left(x + 7\\right)}{\\left(2 x + 3\\right) \\left(x^{2} + 2 x - 35\\right)}`,String.raw`\\frac{x - 3}{x - 5}`,],\n",
      "  [String.raw`\\frac{\\left(2 x^{2} - 3 x - 9\\right) \\left(x + 9\\right)}{\\left(2 x + 3\\right) \\left(x^{2} + 4 x - 45\\right)}`,String.raw`\\frac{x - 3}{x - 5}`,],\n",
      "  [String.raw`\\frac{\\left(2 x^{2} - 3 x - 9\\right) \\left(x + 1\\right)}{\\left(2 x + 3\\right) \\left(x^{2} - 1\\right)}`,String.raw`\\frac{x - 3}{x - 1}`,],\n",
      "  [String.raw`\\frac{\\left(2 x^{2} - 3 x - 9\\right) \\left(x + 3\\right)}{\\left(2 x + 3\\right) \\left(x^{2} + 2 x - 3\\right)}`,String.raw`\\frac{x - 3}{x - 1}`,],\n",
      "  [String.raw`\\frac{\\left(2 x^{2} - 3 x - 9\\right) \\left(x + 5\\right)}{\\left(2 x + 3\\right) \\left(x^{2} + 4 x - 5\\right)}`,String.raw`\\frac{x - 3}{x - 1}`,],\n",
      "  [String.raw`\\frac{\\left(2 x^{2} - 3 x - 9\\right) \\left(x + 7\\right)}{\\left(2 x + 3\\right) \\left(x^{2} + 6 x - 7\\right)}`,String.raw`\\frac{x - 3}{x - 1}`,],\n",
      "  [String.raw`\\frac{\\left(2 x^{2} - 3 x - 9\\right) \\left(x + 9\\right)}{\\left(2 x + 3\\right) \\left(x^{2} + 8 x - 9\\right)}`,String.raw`\\frac{x - 3}{x - 1}`,],\n",
      "  [String.raw`\\frac{\\left(2 x^{2} + x - 3\\right) \\left(x + 1\\right)}{\\left(2 x + 3\\right) \\left(x^{2} - 8 x - 9\\right)}`,String.raw`\\frac{x - 1}{x - 9}`,],\n",
      "  [String.raw`\\frac{\\left(2 x^{2} + x - 3\\right) \\left(x + 3\\right)}{\\left(2 x + 3\\right) \\left(x^{2} - 6 x - 27\\right)}`,String.raw`\\frac{x - 1}{x - 9}`,],\n",
      "  [String.raw`\\frac{\\left(2 x^{2} + x - 3\\right) \\left(x + 5\\right)}{\\left(2 x + 3\\right) \\left(x^{2} - 4 x - 45\\right)}`,String.raw`\\frac{x - 1}{x - 9}`,],\n",
      "  [String.raw`\\frac{\\left(2 x^{2} + x - 3\\right) \\left(x + 7\\right)}{\\left(2 x + 3\\right) \\left(x^{2} - 2 x - 63\\right)}`,String.raw`\\frac{x - 1}{x - 9}`,],\n",
      "  [String.raw`\\frac{\\left(2 x^{2} + x - 3\\right) \\left(x + 9\\right)}{\\left(2 x + 3\\right) \\left(x^{2} - 81\\right)}`,String.raw`\\frac{x - 1}{x - 9}`,],\n",
      "  [String.raw`\\frac{\\left(2 x^{2} + x - 3\\right) \\left(x + 1\\right)}{\\left(2 x + 3\\right) \\left(x^{2} - 6 x - 7\\right)}`,String.raw`\\frac{x - 1}{x - 7}`,],\n",
      "  [String.raw`\\frac{\\left(2 x^{2} + x - 3\\right) \\left(x + 3\\right)}{\\left(2 x + 3\\right) \\left(x^{2} - 4 x - 21\\right)}`,String.raw`\\frac{x - 1}{x - 7}`,],\n",
      "  [String.raw`\\frac{\\left(2 x^{2} + x - 3\\right) \\left(x + 5\\right)}{\\left(2 x + 3\\right) \\left(x^{2} - 2 x - 35\\right)}`,String.raw`\\frac{x - 1}{x - 7}`,],\n",
      "  [String.raw`\\frac{\\left(2 x^{2} + x - 3\\right) \\left(x + 7\\right)}{\\left(2 x + 3\\right) \\left(x^{2} - 49\\right)}`,String.raw`\\frac{x - 1}{x - 7}`,],\n",
      "  [String.raw`\\frac{\\left(2 x^{2} + x - 3\\right) \\left(x + 9\\right)}{\\left(2 x + 3\\right) \\left(x^{2} + 2 x - 63\\right)}`,String.raw`\\frac{x - 1}{x - 7}`,],\n",
      "  [String.raw`\\frac{\\left(2 x^{2} + x - 3\\right) \\left(x + 1\\right)}{\\left(2 x + 3\\right) \\left(x^{2} - 4 x - 5\\right)}`,String.raw`\\frac{x - 1}{x - 5}`,],\n",
      "  [String.raw`\\frac{\\left(2 x^{2} + x - 3\\right) \\left(x + 3\\right)}{\\left(2 x + 3\\right) \\left(x^{2} - 2 x - 15\\right)}`,String.raw`\\frac{x - 1}{x - 5}`,],\n",
      "  [String.raw`\\frac{\\left(2 x^{2} + x - 3\\right) \\left(x + 5\\right)}{\\left(2 x + 3\\right) \\left(x^{2} - 25\\right)}`,String.raw`\\frac{x - 1}{x - 5}`,],\n",
      "  [String.raw`\\frac{\\left(2 x^{2} + x - 3\\right) \\left(x + 7\\right)}{\\left(2 x + 3\\right) \\left(x^{2} + 2 x - 35\\right)}`,String.raw`\\frac{x - 1}{x - 5}`,],\n",
      "  [String.raw`\\frac{\\left(2 x^{2} + x - 3\\right) \\left(x + 9\\right)}{\\left(2 x + 3\\right) \\left(x^{2} + 4 x - 45\\right)}`,String.raw`\\frac{x - 1}{x - 5}`,],\n",
      "  [String.raw`\\frac{\\left(2 x^{2} + x - 3\\right) \\left(x + 1\\right)}{\\left(2 x + 3\\right) \\left(x^{2} - 2 x - 3\\right)}`,String.raw`\\frac{x - 1}{x - 3}`,],\n",
      "  [String.raw`\\frac{\\left(2 x^{2} + x - 3\\right) \\left(x + 3\\right)}{\\left(2 x + 3\\right) \\left(x^{2} - 9\\right)}`,String.raw`\\frac{x - 1}{x - 3}`,],\n",
      "  [String.raw`\\frac{\\left(2 x^{2} + x - 3\\right) \\left(x + 5\\right)}{\\left(2 x + 3\\right) \\left(x^{2} + 2 x - 15\\right)}`,String.raw`\\frac{x - 1}{x - 3}`,],\n",
      "  [String.raw`\\frac{\\left(2 x^{2} + x - 3\\right) \\left(x + 7\\right)}{\\left(2 x + 3\\right) \\left(x^{2} + 4 x - 21\\right)}`,String.raw`\\frac{x - 1}{x - 3}`,],\n",
      "  [String.raw`\\frac{\\left(2 x^{2} + x - 3\\right) \\left(x + 9\\right)}{\\left(2 x + 3\\right) \\left(x^{2} + 6 x - 27\\right)}`,String.raw`\\frac{x - 1}{x - 3}`,],\n",
      "  [String.raw`\\frac{\\left(2 x^{2} - 13 x - 45\\right) \\left(x + 1\\right)}{\\left(2 x + 5\\right) \\left(x^{2} - 6 x - 7\\right)}`,String.raw`\\frac{x - 9}{x - 7}`,],\n",
      "  [String.raw`\\frac{\\left(2 x^{2} - 13 x - 45\\right) \\left(x + 3\\right)}{\\left(2 x + 5\\right) \\left(x^{2} - 4 x - 21\\right)}`,String.raw`\\frac{x - 9}{x - 7}`,],\n",
      "  [String.raw`\\frac{\\left(2 x^{2} - 13 x - 45\\right) \\left(x + 5\\right)}{\\left(2 x + 5\\right) \\left(x^{2} - 2 x - 35\\right)}`,String.raw`\\frac{x - 9}{x - 7}`,],\n",
      "  [String.raw`\\frac{\\left(2 x^{2} - 13 x - 45\\right) \\left(x + 7\\right)}{\\left(2 x + 5\\right) \\left(x^{2} - 49\\right)}`,String.raw`\\frac{x - 9}{x - 7}`,],\n",
      "  [String.raw`\\frac{\\left(2 x^{2} - 13 x - 45\\right) \\left(x + 9\\right)}{\\left(2 x + 5\\right) \\left(x^{2} + 2 x - 63\\right)}`,String.raw`\\frac{x - 9}{x - 7}`,],\n",
      "  [String.raw`\\frac{\\left(2 x^{2} - 13 x - 45\\right) \\left(x + 1\\right)}{\\left(2 x + 5\\right) \\left(x^{2} - 4 x - 5\\right)}`,String.raw`\\frac{x - 9}{x - 5}`,],\n",
      "  [String.raw`\\frac{\\left(2 x^{2} - 13 x - 45\\right) \\left(x + 3\\right)}{\\left(2 x + 5\\right) \\left(x^{2} - 2 x - 15\\right)}`,String.raw`\\frac{x - 9}{x - 5}`,],\n",
      "  [String.raw`\\frac{\\left(2 x^{2} - 13 x - 45\\right) \\left(x + 5\\right)}{\\left(2 x + 5\\right) \\left(x^{2} - 25\\right)}`,String.raw`\\frac{x - 9}{x - 5}`,],\n",
      "  [String.raw`\\frac{\\left(2 x^{2} - 13 x - 45\\right) \\left(x + 7\\right)}{\\left(2 x + 5\\right) \\left(x^{2} + 2 x - 35\\right)}`,String.raw`\\frac{x - 9}{x - 5}`,],\n",
      "  [String.raw`\\frac{\\left(2 x^{2} - 13 x - 45\\right) \\left(x + 9\\right)}{\\left(2 x + 5\\right) \\left(x^{2} + 4 x - 45\\right)}`,String.raw`\\frac{x - 9}{x - 5}`,],\n",
      "  [String.raw`\\frac{\\left(2 x^{2} - 13 x - 45\\right) \\left(x + 1\\right)}{\\left(2 x + 5\\right) \\left(x^{2} - 2 x - 3\\right)}`,String.raw`\\frac{x - 9}{x - 3}`,],\n",
      "  [String.raw`\\frac{\\left(2 x^{2} - 13 x - 45\\right) \\left(x + 3\\right)}{\\left(2 x + 5\\right) \\left(x^{2} - 9\\right)}`,String.raw`\\frac{x - 9}{x - 3}`,],\n",
      "  [String.raw`\\frac{\\left(2 x^{2} - 13 x - 45\\right) \\left(x + 5\\right)}{\\left(2 x + 5\\right) \\left(x^{2} + 2 x - 15\\right)}`,String.raw`\\frac{x - 9}{x - 3}`,],\n",
      "  [String.raw`\\frac{\\left(2 x^{2} - 13 x - 45\\right) \\left(x + 7\\right)}{\\left(2 x + 5\\right) \\left(x^{2} + 4 x - 21\\right)}`,String.raw`\\frac{x - 9}{x - 3}`,],\n",
      "  [String.raw`\\frac{\\left(2 x^{2} - 13 x - 45\\right) \\left(x + 9\\right)}{\\left(2 x + 5\\right) \\left(x^{2} + 6 x - 27\\right)}`,String.raw`\\frac{x - 9}{x - 3}`,],\n",
      "  [String.raw`\\frac{\\left(2 x^{2} - 13 x - 45\\right) \\left(x + 1\\right)}{\\left(2 x + 5\\right) \\left(x^{2} - 1\\right)}`,String.raw`\\frac{x - 9}{x - 1}`,],\n",
      "  [String.raw`\\frac{\\left(2 x^{2} - 13 x - 45\\right) \\left(x + 3\\right)}{\\left(2 x + 5\\right) \\left(x^{2} + 2 x - 3\\right)}`,String.raw`\\frac{x - 9}{x - 1}`,],\n",
      "  [String.raw`\\frac{\\left(2 x^{2} - 13 x - 45\\right) \\left(x + 5\\right)}{\\left(2 x + 5\\right) \\left(x^{2} + 4 x - 5\\right)}`,String.raw`\\frac{x - 9}{x - 1}`,],\n",
      "  [String.raw`\\frac{\\left(2 x^{2} - 13 x - 45\\right) \\left(x + 7\\right)}{\\left(2 x + 5\\right) \\left(x^{2} + 6 x - 7\\right)}`,String.raw`\\frac{x - 9}{x - 1}`,],\n",
      "  [String.raw`\\frac{\\left(2 x^{2} - 13 x - 45\\right) \\left(x + 9\\right)}{\\left(2 x + 5\\right) \\left(x^{2} + 8 x - 9\\right)}`,String.raw`\\frac{x - 9}{x - 1}`,],\n",
      "  [String.raw`\\frac{\\left(2 x^{2} - 9 x - 35\\right) \\left(x + 1\\right)}{\\left(2 x + 5\\right) \\left(x^{2} - 8 x - 9\\right)}`,String.raw`\\frac{x - 7}{x - 9}`,],\n",
      "  [String.raw`\\frac{\\left(2 x^{2} - 9 x - 35\\right) \\left(x + 3\\right)}{\\left(2 x + 5\\right) \\left(x^{2} - 6 x - 27\\right)}`,String.raw`\\frac{x - 7}{x - 9}`,],\n",
      "  [String.raw`\\frac{\\left(2 x^{2} - 9 x - 35\\right) \\left(x + 5\\right)}{\\left(2 x + 5\\right) \\left(x^{2} - 4 x - 45\\right)}`,String.raw`\\frac{x - 7}{x - 9}`,],\n",
      "  [String.raw`\\frac{\\left(2 x^{2} - 9 x - 35\\right) \\left(x + 7\\right)}{\\left(2 x + 5\\right) \\left(x^{2} - 2 x - 63\\right)}`,String.raw`\\frac{x - 7}{x - 9}`,],\n",
      "  [String.raw`\\frac{\\left(2 x^{2} - 9 x - 35\\right) \\left(x + 9\\right)}{\\left(2 x + 5\\right) \\left(x^{2} - 81\\right)}`,String.raw`\\frac{x - 7}{x - 9}`,],\n",
      "  [String.raw`\\frac{\\left(2 x^{2} - 9 x - 35\\right) \\left(x + 1\\right)}{\\left(2 x + 5\\right) \\left(x^{2} - 4 x - 5\\right)}`,String.raw`\\frac{x - 7}{x - 5}`,],\n",
      "  [String.raw`\\frac{\\left(2 x^{2} - 9 x - 35\\right) \\left(x + 3\\right)}{\\left(2 x + 5\\right) \\left(x^{2} - 2 x - 15\\right)}`,String.raw`\\frac{x - 7}{x - 5}`,],\n",
      "  [String.raw`\\frac{\\left(2 x^{2} - 9 x - 35\\right) \\left(x + 5\\right)}{\\left(2 x + 5\\right) \\left(x^{2} - 25\\right)}`,String.raw`\\frac{x - 7}{x - 5}`,],\n",
      "  [String.raw`\\frac{\\left(2 x^{2} - 9 x - 35\\right) \\left(x + 7\\right)}{\\left(2 x + 5\\right) \\left(x^{2} + 2 x - 35\\right)}`,String.raw`\\frac{x - 7}{x - 5}`,],\n",
      "  [String.raw`\\frac{\\left(2 x^{2} - 9 x - 35\\right) \\left(x + 9\\right)}{\\left(2 x + 5\\right) \\left(x^{2} + 4 x - 45\\right)}`,String.raw`\\frac{x - 7}{x - 5}`,],\n",
      "  [String.raw`\\frac{\\left(2 x^{2} - 9 x - 35\\right) \\left(x + 1\\right)}{\\left(2 x + 5\\right) \\left(x^{2} - 2 x - 3\\right)}`,String.raw`\\frac{x - 7}{x - 3}`,],\n",
      "  [String.raw`\\frac{\\left(2 x^{2} - 9 x - 35\\right) \\left(x + 3\\right)}{\\left(2 x + 5\\right) \\left(x^{2} - 9\\right)}`,String.raw`\\frac{x - 7}{x - 3}`,],\n",
      "  [String.raw`\\frac{\\left(2 x^{2} - 9 x - 35\\right) \\left(x + 5\\right)}{\\left(2 x + 5\\right) \\left(x^{2} + 2 x - 15\\right)}`,String.raw`\\frac{x - 7}{x - 3}`,],\n",
      "  [String.raw`\\frac{\\left(2 x^{2} - 9 x - 35\\right) \\left(x + 7\\right)}{\\left(2 x + 5\\right) \\left(x^{2} + 4 x - 21\\right)}`,String.raw`\\frac{x - 7}{x - 3}`,],\n",
      "  [String.raw`\\frac{\\left(2 x^{2} - 9 x - 35\\right) \\left(x + 9\\right)}{\\left(2 x + 5\\right) \\left(x^{2} + 6 x - 27\\right)}`,String.raw`\\frac{x - 7}{x - 3}`,],\n",
      "  [String.raw`\\frac{\\left(2 x^{2} - 9 x - 35\\right) \\left(x + 1\\right)}{\\left(2 x + 5\\right) \\left(x^{2} - 1\\right)}`,String.raw`\\frac{x - 7}{x - 1}`,],\n",
      "  [String.raw`\\frac{\\left(2 x^{2} - 9 x - 35\\right) \\left(x + 3\\right)}{\\left(2 x + 5\\right) \\left(x^{2} + 2 x - 3\\right)}`,String.raw`\\frac{x - 7}{x - 1}`,],\n",
      "  [String.raw`\\frac{\\left(2 x^{2} - 9 x - 35\\right) \\left(x + 5\\right)}{\\left(2 x + 5\\right) \\left(x^{2} + 4 x - 5\\right)}`,String.raw`\\frac{x - 7}{x - 1}`,],\n",
      "  [String.raw`\\frac{\\left(2 x^{2} - 9 x - 35\\right) \\left(x + 7\\right)}{\\left(2 x + 5\\right) \\left(x^{2} + 6 x - 7\\right)}`,String.raw`\\frac{x - 7}{x - 1}`,],\n",
      "  [String.raw`\\frac{\\left(2 x^{2} - 9 x - 35\\right) \\left(x + 9\\right)}{\\left(2 x + 5\\right) \\left(x^{2} + 8 x - 9\\right)}`,String.raw`\\frac{x - 7}{x - 1}`,],\n",
      "  [String.raw`\\frac{\\left(2 x^{2} - 5 x - 25\\right) \\left(x + 1\\right)}{\\left(2 x + 5\\right) \\left(x^{2} - 8 x - 9\\right)}`,String.raw`\\frac{x - 5}{x - 9}`,],\n",
      "  [String.raw`\\frac{\\left(2 x^{2} - 5 x - 25\\right) \\left(x + 3\\right)}{\\left(2 x + 5\\right) \\left(x^{2} - 6 x - 27\\right)}`,String.raw`\\frac{x - 5}{x - 9}`,],\n",
      "  [String.raw`\\frac{\\left(2 x^{2} - 5 x - 25\\right) \\left(x + 5\\right)}{\\left(2 x + 5\\right) \\left(x^{2} - 4 x - 45\\right)}`,String.raw`\\frac{x - 5}{x - 9}`,],\n",
      "  [String.raw`\\frac{\\left(2 x^{2} - 5 x - 25\\right) \\left(x + 7\\right)}{\\left(2 x + 5\\right) \\left(x^{2} - 2 x - 63\\right)}`,String.raw`\\frac{x - 5}{x - 9}`,],\n",
      "  [String.raw`\\frac{\\left(2 x^{2} - 5 x - 25\\right) \\left(x + 9\\right)}{\\left(2 x + 5\\right) \\left(x^{2} - 81\\right)}`,String.raw`\\frac{x - 5}{x - 9}`,],\n",
      "  [String.raw`\\frac{\\left(2 x^{2} - 5 x - 25\\right) \\left(x + 1\\right)}{\\left(2 x + 5\\right) \\left(x^{2} - 6 x - 7\\right)}`,String.raw`\\frac{x - 5}{x - 7}`,],\n",
      "  [String.raw`\\frac{\\left(2 x^{2} - 5 x - 25\\right) \\left(x + 3\\right)}{\\left(2 x + 5\\right) \\left(x^{2} - 4 x - 21\\right)}`,String.raw`\\frac{x - 5}{x - 7}`,],\n",
      "  [String.raw`\\frac{\\left(2 x^{2} - 5 x - 25\\right) \\left(x + 5\\right)}{\\left(2 x + 5\\right) \\left(x^{2} - 2 x - 35\\right)}`,String.raw`\\frac{x - 5}{x - 7}`,],\n",
      "  [String.raw`\\frac{\\left(2 x^{2} - 5 x - 25\\right) \\left(x + 7\\right)}{\\left(2 x + 5\\right) \\left(x^{2} - 49\\right)}`,String.raw`\\frac{x - 5}{x - 7}`,],\n",
      "  [String.raw`\\frac{\\left(2 x^{2} - 5 x - 25\\right) \\left(x + 9\\right)}{\\left(2 x + 5\\right) \\left(x^{2} + 2 x - 63\\right)}`,String.raw`\\frac{x - 5}{x - 7}`,],\n",
      "  [String.raw`\\frac{\\left(2 x^{2} - 5 x - 25\\right) \\left(x + 1\\right)}{\\left(2 x + 5\\right) \\left(x^{2} - 2 x - 3\\right)}`,String.raw`\\frac{x - 5}{x - 3}`,],\n",
      "  [String.raw`\\frac{\\left(2 x^{2} - 5 x - 25\\right) \\left(x + 3\\right)}{\\left(2 x + 5\\right) \\left(x^{2} - 9\\right)}`,String.raw`\\frac{x - 5}{x - 3}`,],\n",
      "  [String.raw`\\frac{\\left(2 x^{2} - 5 x - 25\\right) \\left(x + 5\\right)}{\\left(2 x + 5\\right) \\left(x^{2} + 2 x - 15\\right)}`,String.raw`\\frac{x - 5}{x - 3}`,],\n",
      "  [String.raw`\\frac{\\left(2 x^{2} - 5 x - 25\\right) \\left(x + 7\\right)}{\\left(2 x + 5\\right) \\left(x^{2} + 4 x - 21\\right)}`,String.raw`\\frac{x - 5}{x - 3}`,],\n",
      "  [String.raw`\\frac{\\left(2 x^{2} - 5 x - 25\\right) \\left(x + 9\\right)}{\\left(2 x + 5\\right) \\left(x^{2} + 6 x - 27\\right)}`,String.raw`\\frac{x - 5}{x - 3}`,],\n",
      "  [String.raw`\\frac{\\left(2 x^{2} - 5 x - 25\\right) \\left(x + 1\\right)}{\\left(2 x + 5\\right) \\left(x^{2} - 1\\right)}`,String.raw`\\frac{x - 5}{x - 1}`,],\n",
      "  [String.raw`\\frac{\\left(2 x^{2} - 5 x - 25\\right) \\left(x + 3\\right)}{\\left(2 x + 5\\right) \\left(x^{2} + 2 x - 3\\right)}`,String.raw`\\frac{x - 5}{x - 1}`,],\n",
      "  [String.raw`\\frac{\\left(2 x^{2} - 5 x - 25\\right) \\left(x + 5\\right)}{\\left(2 x + 5\\right) \\left(x^{2} + 4 x - 5\\right)}`,String.raw`\\frac{x - 5}{x - 1}`,],\n",
      "  [String.raw`\\frac{\\left(2 x^{2} - 5 x - 25\\right) \\left(x + 7\\right)}{\\left(2 x + 5\\right) \\left(x^{2} + 6 x - 7\\right)}`,String.raw`\\frac{x - 5}{x - 1}`,],\n",
      "  [String.raw`\\frac{\\left(2 x^{2} - 5 x - 25\\right) \\left(x + 9\\right)}{\\left(2 x + 5\\right) \\left(x^{2} + 8 x - 9\\right)}`,String.raw`\\frac{x - 5}{x - 1}`,],\n",
      "  [String.raw`\\frac{\\left(2 x^{2} - x - 15\\right) \\left(x + 1\\right)}{\\left(2 x + 5\\right) \\left(x^{2} - 8 x - 9\\right)}`,String.raw`\\frac{x - 3}{x - 9}`,],\n",
      "  [String.raw`\\frac{\\left(2 x^{2} - x - 15\\right) \\left(x + 3\\right)}{\\left(2 x + 5\\right) \\left(x^{2} - 6 x - 27\\right)}`,String.raw`\\frac{x - 3}{x - 9}`,],\n",
      "  [String.raw`\\frac{\\left(2 x^{2} - x - 15\\right) \\left(x + 5\\right)}{\\left(2 x + 5\\right) \\left(x^{2} - 4 x - 45\\right)}`,String.raw`\\frac{x - 3}{x - 9}`,],\n",
      "  [String.raw`\\frac{\\left(2 x^{2} - x - 15\\right) \\left(x + 7\\right)}{\\left(2 x + 5\\right) \\left(x^{2} - 2 x - 63\\right)}`,String.raw`\\frac{x - 3}{x - 9}`,],\n",
      "  [String.raw`\\frac{\\left(2 x^{2} - x - 15\\right) \\left(x + 9\\right)}{\\left(2 x + 5\\right) \\left(x^{2} - 81\\right)}`,String.raw`\\frac{x - 3}{x - 9}`,],\n",
      "  [String.raw`\\frac{\\left(2 x^{2} - x - 15\\right) \\left(x + 1\\right)}{\\left(2 x + 5\\right) \\left(x^{2} - 6 x - 7\\right)}`,String.raw`\\frac{x - 3}{x - 7}`,],\n",
      "  [String.raw`\\frac{\\left(2 x^{2} - x - 15\\right) \\left(x + 3\\right)}{\\left(2 x + 5\\right) \\left(x^{2} - 4 x - 21\\right)}`,String.raw`\\frac{x - 3}{x - 7}`,],\n",
      "  [String.raw`\\frac{\\left(2 x^{2} - x - 15\\right) \\left(x + 5\\right)}{\\left(2 x + 5\\right) \\left(x^{2} - 2 x - 35\\right)}`,String.raw`\\frac{x - 3}{x - 7}`,],\n",
      "  [String.raw`\\frac{\\left(2 x^{2} - x - 15\\right) \\left(x + 7\\right)}{\\left(2 x + 5\\right) \\left(x^{2} - 49\\right)}`,String.raw`\\frac{x - 3}{x - 7}`,],\n",
      "  [String.raw`\\frac{\\left(2 x^{2} - x - 15\\right) \\left(x + 9\\right)}{\\left(2 x + 5\\right) \\left(x^{2} + 2 x - 63\\right)}`,String.raw`\\frac{x - 3}{x - 7}`,],\n",
      "  [String.raw`\\frac{\\left(2 x^{2} - x - 15\\right) \\left(x + 1\\right)}{\\left(2 x + 5\\right) \\left(x^{2} - 4 x - 5\\right)}`,String.raw`\\frac{x - 3}{x - 5}`,],\n",
      "  [String.raw`\\frac{\\left(2 x^{2} - x - 15\\right) \\left(x + 3\\right)}{\\left(2 x + 5\\right) \\left(x^{2} - 2 x - 15\\right)}`,String.raw`\\frac{x - 3}{x - 5}`,],\n",
      "  [String.raw`\\frac{\\left(2 x^{2} - x - 15\\right) \\left(x + 5\\right)}{\\left(2 x + 5\\right) \\left(x^{2} - 25\\right)}`,String.raw`\\frac{x - 3}{x - 5}`,],\n",
      "  [String.raw`\\frac{\\left(2 x^{2} - x - 15\\right) \\left(x + 7\\right)}{\\left(2 x + 5\\right) \\left(x^{2} + 2 x - 35\\right)}`,String.raw`\\frac{x - 3}{x - 5}`,],\n",
      "  [String.raw`\\frac{\\left(2 x^{2} - x - 15\\right) \\left(x + 9\\right)}{\\left(2 x + 5\\right) \\left(x^{2} + 4 x - 45\\right)}`,String.raw`\\frac{x - 3}{x - 5}`,],\n",
      "  [String.raw`\\frac{\\left(2 x^{2} - x - 15\\right) \\left(x + 1\\right)}{\\left(2 x + 5\\right) \\left(x^{2} - 1\\right)}`,String.raw`\\frac{x - 3}{x - 1}`,],\n",
      "  [String.raw`\\frac{\\left(2 x^{2} - x - 15\\right) \\left(x + 3\\right)}{\\left(2 x + 5\\right) \\left(x^{2} + 2 x - 3\\right)}`,String.raw`\\frac{x - 3}{x - 1}`,],\n",
      "  [String.raw`\\frac{\\left(2 x^{2} - x - 15\\right) \\left(x + 5\\right)}{\\left(2 x + 5\\right) \\left(x^{2} + 4 x - 5\\right)}`,String.raw`\\frac{x - 3}{x - 1}`,],\n",
      "  [String.raw`\\frac{\\left(2 x^{2} - x - 15\\right) \\left(x + 7\\right)}{\\left(2 x + 5\\right) \\left(x^{2} + 6 x - 7\\right)}`,String.raw`\\frac{x - 3}{x - 1}`,],\n",
      "  [String.raw`\\frac{\\left(2 x^{2} - x - 15\\right) \\left(x + 9\\right)}{\\left(2 x + 5\\right) \\left(x^{2} + 8 x - 9\\right)}`,String.raw`\\frac{x - 3}{x - 1}`,],\n",
      "  [String.raw`\\frac{\\left(2 x^{2} + 3 x - 5\\right) \\left(x + 1\\right)}{\\left(2 x + 5\\right) \\left(x^{2} - 8 x - 9\\right)}`,String.raw`\\frac{x - 1}{x - 9}`,],\n",
      "  [String.raw`\\frac{\\left(2 x^{2} + 3 x - 5\\right) \\left(x + 3\\right)}{\\left(2 x + 5\\right) \\left(x^{2} - 6 x - 27\\right)}`,String.raw`\\frac{x - 1}{x - 9}`,],\n",
      "  [String.raw`\\frac{\\left(2 x^{2} + 3 x - 5\\right) \\left(x + 5\\right)}{\\left(2 x + 5\\right) \\left(x^{2} - 4 x - 45\\right)}`,String.raw`\\frac{x - 1}{x - 9}`,],\n",
      "  [String.raw`\\frac{\\left(2 x^{2} + 3 x - 5\\right) \\left(x + 7\\right)}{\\left(2 x + 5\\right) \\left(x^{2} - 2 x - 63\\right)}`,String.raw`\\frac{x - 1}{x - 9}`,],\n",
      "  [String.raw`\\frac{\\left(2 x^{2} + 3 x - 5\\right) \\left(x + 9\\right)}{\\left(2 x + 5\\right) \\left(x^{2} - 81\\right)}`,String.raw`\\frac{x - 1}{x - 9}`,],\n",
      "  [String.raw`\\frac{\\left(2 x^{2} + 3 x - 5\\right) \\left(x + 1\\right)}{\\left(2 x + 5\\right) \\left(x^{2} - 6 x - 7\\right)}`,String.raw`\\frac{x - 1}{x - 7}`,],\n",
      "  [String.raw`\\frac{\\left(2 x^{2} + 3 x - 5\\right) \\left(x + 3\\right)}{\\left(2 x + 5\\right) \\left(x^{2} - 4 x - 21\\right)}`,String.raw`\\frac{x - 1}{x - 7}`,],\n",
      "  [String.raw`\\frac{\\left(2 x^{2} + 3 x - 5\\right) \\left(x + 5\\right)}{\\left(2 x + 5\\right) \\left(x^{2} - 2 x - 35\\right)}`,String.raw`\\frac{x - 1}{x - 7}`,],\n",
      "  [String.raw`\\frac{\\left(2 x^{2} + 3 x - 5\\right) \\left(x + 7\\right)}{\\left(2 x + 5\\right) \\left(x^{2} - 49\\right)}`,String.raw`\\frac{x - 1}{x - 7}`,],\n",
      "  [String.raw`\\frac{\\left(2 x^{2} + 3 x - 5\\right) \\left(x + 9\\right)}{\\left(2 x + 5\\right) \\left(x^{2} + 2 x - 63\\right)}`,String.raw`\\frac{x - 1}{x - 7}`,],\n",
      "  [String.raw`\\frac{\\left(2 x^{2} + 3 x - 5\\right) \\left(x + 1\\right)}{\\left(2 x + 5\\right) \\left(x^{2} - 4 x - 5\\right)}`,String.raw`\\frac{x - 1}{x - 5}`,],\n",
      "  [String.raw`\\frac{\\left(2 x^{2} + 3 x - 5\\right) \\left(x + 3\\right)}{\\left(2 x + 5\\right) \\left(x^{2} - 2 x - 15\\right)}`,String.raw`\\frac{x - 1}{x - 5}`,],\n",
      "  [String.raw`\\frac{\\left(2 x^{2} + 3 x - 5\\right) \\left(x + 5\\right)}{\\left(2 x + 5\\right) \\left(x^{2} - 25\\right)}`,String.raw`\\frac{x - 1}{x - 5}`,],\n",
      "  [String.raw`\\frac{\\left(2 x^{2} + 3 x - 5\\right) \\left(x + 7\\right)}{\\left(2 x + 5\\right) \\left(x^{2} + 2 x - 35\\right)}`,String.raw`\\frac{x - 1}{x - 5}`,],\n",
      "  [String.raw`\\frac{\\left(2 x^{2} + 3 x - 5\\right) \\left(x + 9\\right)}{\\left(2 x + 5\\right) \\left(x^{2} + 4 x - 45\\right)}`,String.raw`\\frac{x - 1}{x - 5}`,],\n",
      "  [String.raw`\\frac{\\left(2 x^{2} + 3 x - 5\\right) \\left(x + 1\\right)}{\\left(2 x + 5\\right) \\left(x^{2} - 2 x - 3\\right)}`,String.raw`\\frac{x - 1}{x - 3}`,],\n",
      "  [String.raw`\\frac{\\left(2 x^{2} + 3 x - 5\\right) \\left(x + 3\\right)}{\\left(2 x + 5\\right) \\left(x^{2} - 9\\right)}`,String.raw`\\frac{x - 1}{x - 3}`,],\n",
      "  [String.raw`\\frac{\\left(2 x^{2} + 3 x - 5\\right) \\left(x + 5\\right)}{\\left(2 x + 5\\right) \\left(x^{2} + 2 x - 15\\right)}`,String.raw`\\frac{x - 1}{x - 3}`,],\n",
      "  [String.raw`\\frac{\\left(2 x^{2} + 3 x - 5\\right) \\left(x + 7\\right)}{\\left(2 x + 5\\right) \\left(x^{2} + 4 x - 21\\right)}`,String.raw`\\frac{x - 1}{x - 3}`,],\n",
      "  [String.raw`\\frac{\\left(2 x^{2} + 3 x - 5\\right) \\left(x + 9\\right)}{\\left(2 x + 5\\right) \\left(x^{2} + 6 x - 27\\right)}`,String.raw`\\frac{x - 1}{x - 3}`,],\n",
      "  [String.raw`\\frac{\\left(2 x^{2} - 11 x - 63\\right) \\left(x + 1\\right)}{\\left(2 x + 7\\right) \\left(x^{2} - 6 x - 7\\right)}`,String.raw`\\frac{x - 9}{x - 7}`,],\n",
      "  [String.raw`\\frac{\\left(2 x^{2} - 11 x - 63\\right) \\left(x + 3\\right)}{\\left(2 x + 7\\right) \\left(x^{2} - 4 x - 21\\right)}`,String.raw`\\frac{x - 9}{x - 7}`,],\n",
      "  [String.raw`\\frac{\\left(2 x^{2} - 11 x - 63\\right) \\left(x + 5\\right)}{\\left(2 x + 7\\right) \\left(x^{2} - 2 x - 35\\right)}`,String.raw`\\frac{x - 9}{x - 7}`,],\n",
      "  [String.raw`\\frac{\\left(2 x^{2} - 11 x - 63\\right) \\left(x + 7\\right)}{\\left(2 x + 7\\right) \\left(x^{2} - 49\\right)}`,String.raw`\\frac{x - 9}{x - 7}`,],\n",
      "  [String.raw`\\frac{\\left(2 x^{2} - 11 x - 63\\right) \\left(x + 9\\right)}{\\left(2 x + 7\\right) \\left(x^{2} + 2 x - 63\\right)}`,String.raw`\\frac{x - 9}{x - 7}`,],\n",
      "  [String.raw`\\frac{\\left(2 x^{2} - 11 x - 63\\right) \\left(x + 1\\right)}{\\left(2 x + 7\\right) \\left(x^{2} - 4 x - 5\\right)}`,String.raw`\\frac{x - 9}{x - 5}`,],\n",
      "  [String.raw`\\frac{\\left(2 x^{2} - 11 x - 63\\right) \\left(x + 3\\right)}{\\left(2 x + 7\\right) \\left(x^{2} - 2 x - 15\\right)}`,String.raw`\\frac{x - 9}{x - 5}`,],\n",
      "  [String.raw`\\frac{\\left(2 x^{2} - 11 x - 63\\right) \\left(x + 5\\right)}{\\left(2 x + 7\\right) \\left(x^{2} - 25\\right)}`,String.raw`\\frac{x - 9}{x - 5}`,],\n",
      "  [String.raw`\\frac{\\left(2 x^{2} - 11 x - 63\\right) \\left(x + 7\\right)}{\\left(2 x + 7\\right) \\left(x^{2} + 2 x - 35\\right)}`,String.raw`\\frac{x - 9}{x - 5}`,],\n",
      "  [String.raw`\\frac{\\left(2 x^{2} - 11 x - 63\\right) \\left(x + 9\\right)}{\\left(2 x + 7\\right) \\left(x^{2} + 4 x - 45\\right)}`,String.raw`\\frac{x - 9}{x - 5}`,],\n",
      "  [String.raw`\\frac{\\left(2 x^{2} - 11 x - 63\\right) \\left(x + 1\\right)}{\\left(2 x + 7\\right) \\left(x^{2} - 2 x - 3\\right)}`,String.raw`\\frac{x - 9}{x - 3}`,],\n",
      "  [String.raw`\\frac{\\left(2 x^{2} - 11 x - 63\\right) \\left(x + 3\\right)}{\\left(2 x + 7\\right) \\left(x^{2} - 9\\right)}`,String.raw`\\frac{x - 9}{x - 3}`,],\n",
      "  [String.raw`\\frac{\\left(2 x^{2} - 11 x - 63\\right) \\left(x + 5\\right)}{\\left(2 x + 7\\right) \\left(x^{2} + 2 x - 15\\right)}`,String.raw`\\frac{x - 9}{x - 3}`,],\n",
      "  [String.raw`\\frac{\\left(2 x^{2} - 11 x - 63\\right) \\left(x + 7\\right)}{\\left(2 x + 7\\right) \\left(x^{2} + 4 x - 21\\right)}`,String.raw`\\frac{x - 9}{x - 3}`,],\n",
      "  [String.raw`\\frac{\\left(2 x^{2} - 11 x - 63\\right) \\left(x + 9\\right)}{\\left(2 x + 7\\right) \\left(x^{2} + 6 x - 27\\right)}`,String.raw`\\frac{x - 9}{x - 3}`,],\n",
      "  [String.raw`\\frac{\\left(2 x^{2} - 11 x - 63\\right) \\left(x + 1\\right)}{\\left(2 x + 7\\right) \\left(x^{2} - 1\\right)}`,String.raw`\\frac{x - 9}{x - 1}`,],\n",
      "  [String.raw`\\frac{\\left(2 x^{2} - 11 x - 63\\right) \\left(x + 3\\right)}{\\left(2 x + 7\\right) \\left(x^{2} + 2 x - 3\\right)}`,String.raw`\\frac{x - 9}{x - 1}`,],\n",
      "  [String.raw`\\frac{\\left(2 x^{2} - 11 x - 63\\right) \\left(x + 5\\right)}{\\left(2 x + 7\\right) \\left(x^{2} + 4 x - 5\\right)}`,String.raw`\\frac{x - 9}{x - 1}`,],\n",
      "  [String.raw`\\frac{\\left(2 x^{2} - 11 x - 63\\right) \\left(x + 7\\right)}{\\left(2 x + 7\\right) \\left(x^{2} + 6 x - 7\\right)}`,String.raw`\\frac{x - 9}{x - 1}`,],\n",
      "  [String.raw`\\frac{\\left(2 x^{2} - 11 x - 63\\right) \\left(x + 9\\right)}{\\left(2 x + 7\\right) \\left(x^{2} + 8 x - 9\\right)}`,String.raw`\\frac{x - 9}{x - 1}`,],\n",
      "  [String.raw`\\frac{\\left(2 x^{2} - 7 x - 49\\right) \\left(x + 1\\right)}{\\left(2 x + 7\\right) \\left(x^{2} - 8 x - 9\\right)}`,String.raw`\\frac{x - 7}{x - 9}`,],\n",
      "  [String.raw`\\frac{\\left(2 x^{2} - 7 x - 49\\right) \\left(x + 3\\right)}{\\left(2 x + 7\\right) \\left(x^{2} - 6 x - 27\\right)}`,String.raw`\\frac{x - 7}{x - 9}`,],\n",
      "  [String.raw`\\frac{\\left(2 x^{2} - 7 x - 49\\right) \\left(x + 5\\right)}{\\left(2 x + 7\\right) \\left(x^{2} - 4 x - 45\\right)}`,String.raw`\\frac{x - 7}{x - 9}`,],\n",
      "  [String.raw`\\frac{\\left(2 x^{2} - 7 x - 49\\right) \\left(x + 7\\right)}{\\left(2 x + 7\\right) \\left(x^{2} - 2 x - 63\\right)}`,String.raw`\\frac{x - 7}{x - 9}`,],\n",
      "  [String.raw`\\frac{\\left(2 x^{2} - 7 x - 49\\right) \\left(x + 9\\right)}{\\left(2 x + 7\\right) \\left(x^{2} - 81\\right)}`,String.raw`\\frac{x - 7}{x - 9}`,],\n",
      "  [String.raw`\\frac{\\left(2 x^{2} - 7 x - 49\\right) \\left(x + 1\\right)}{\\left(2 x + 7\\right) \\left(x^{2} - 4 x - 5\\right)}`,String.raw`\\frac{x - 7}{x - 5}`,],\n",
      "  [String.raw`\\frac{\\left(2 x^{2} - 7 x - 49\\right) \\left(x + 3\\right)}{\\left(2 x + 7\\right) \\left(x^{2} - 2 x - 15\\right)}`,String.raw`\\frac{x - 7}{x - 5}`,],\n",
      "  [String.raw`\\frac{\\left(2 x^{2} - 7 x - 49\\right) \\left(x + 5\\right)}{\\left(2 x + 7\\right) \\left(x^{2} - 25\\right)}`,String.raw`\\frac{x - 7}{x - 5}`,],\n",
      "  [String.raw`\\frac{\\left(2 x^{2} - 7 x - 49\\right) \\left(x + 7\\right)}{\\left(2 x + 7\\right) \\left(x^{2} + 2 x - 35\\right)}`,String.raw`\\frac{x - 7}{x - 5}`,],\n",
      "  [String.raw`\\frac{\\left(2 x^{2} - 7 x - 49\\right) \\left(x + 9\\right)}{\\left(2 x + 7\\right) \\left(x^{2} + 4 x - 45\\right)}`,String.raw`\\frac{x - 7}{x - 5}`,],\n",
      "  [String.raw`\\frac{\\left(2 x^{2} - 7 x - 49\\right) \\left(x + 1\\right)}{\\left(2 x + 7\\right) \\left(x^{2} - 2 x - 3\\right)}`,String.raw`\\frac{x - 7}{x - 3}`,],\n",
      "  [String.raw`\\frac{\\left(2 x^{2} - 7 x - 49\\right) \\left(x + 3\\right)}{\\left(2 x + 7\\right) \\left(x^{2} - 9\\right)}`,String.raw`\\frac{x - 7}{x - 3}`,],\n",
      "  [String.raw`\\frac{\\left(2 x^{2} - 7 x - 49\\right) \\left(x + 5\\right)}{\\left(2 x + 7\\right) \\left(x^{2} + 2 x - 15\\right)}`,String.raw`\\frac{x - 7}{x - 3}`,],\n",
      "  [String.raw`\\frac{\\left(2 x^{2} - 7 x - 49\\right) \\left(x + 7\\right)}{\\left(2 x + 7\\right) \\left(x^{2} + 4 x - 21\\right)}`,String.raw`\\frac{x - 7}{x - 3}`,],\n",
      "  [String.raw`\\frac{\\left(2 x^{2} - 7 x - 49\\right) \\left(x + 9\\right)}{\\left(2 x + 7\\right) \\left(x^{2} + 6 x - 27\\right)}`,String.raw`\\frac{x - 7}{x - 3}`,],\n",
      "  [String.raw`\\frac{\\left(2 x^{2} - 7 x - 49\\right) \\left(x + 1\\right)}{\\left(2 x + 7\\right) \\left(x^{2} - 1\\right)}`,String.raw`\\frac{x - 7}{x - 1}`,],\n",
      "  [String.raw`\\frac{\\left(2 x^{2} - 7 x - 49\\right) \\left(x + 3\\right)}{\\left(2 x + 7\\right) \\left(x^{2} + 2 x - 3\\right)}`,String.raw`\\frac{x - 7}{x - 1}`,],\n",
      "  [String.raw`\\frac{\\left(2 x^{2} - 7 x - 49\\right) \\left(x + 5\\right)}{\\left(2 x + 7\\right) \\left(x^{2} + 4 x - 5\\right)}`,String.raw`\\frac{x - 7}{x - 1}`,],\n",
      "  [String.raw`\\frac{\\left(2 x^{2} - 7 x - 49\\right) \\left(x + 7\\right)}{\\left(2 x + 7\\right) \\left(x^{2} + 6 x - 7\\right)}`,String.raw`\\frac{x - 7}{x - 1}`,],\n",
      "  [String.raw`\\frac{\\left(2 x^{2} - 7 x - 49\\right) \\left(x + 9\\right)}{\\left(2 x + 7\\right) \\left(x^{2} + 8 x - 9\\right)}`,String.raw`\\frac{x - 7}{x - 1}`,],\n",
      "  [String.raw`\\frac{\\left(2 x^{2} - 3 x - 35\\right) \\left(x + 1\\right)}{\\left(2 x + 7\\right) \\left(x^{2} - 8 x - 9\\right)}`,String.raw`\\frac{x - 5}{x - 9}`,],\n",
      "  [String.raw`\\frac{\\left(2 x^{2} - 3 x - 35\\right) \\left(x + 3\\right)}{\\left(2 x + 7\\right) \\left(x^{2} - 6 x - 27\\right)}`,String.raw`\\frac{x - 5}{x - 9}`,],\n",
      "  [String.raw`\\frac{\\left(2 x^{2} - 3 x - 35\\right) \\left(x + 5\\right)}{\\left(2 x + 7\\right) \\left(x^{2} - 4 x - 45\\right)}`,String.raw`\\frac{x - 5}{x - 9}`,],\n",
      "  [String.raw`\\frac{\\left(2 x^{2} - 3 x - 35\\right) \\left(x + 7\\right)}{\\left(2 x + 7\\right) \\left(x^{2} - 2 x - 63\\right)}`,String.raw`\\frac{x - 5}{x - 9}`,],\n",
      "  [String.raw`\\frac{\\left(2 x^{2} - 3 x - 35\\right) \\left(x + 9\\right)}{\\left(2 x + 7\\right) \\left(x^{2} - 81\\right)}`,String.raw`\\frac{x - 5}{x - 9}`,],\n",
      "  [String.raw`\\frac{\\left(2 x^{2} - 3 x - 35\\right) \\left(x + 1\\right)}{\\left(2 x + 7\\right) \\left(x^{2} - 6 x - 7\\right)}`,String.raw`\\frac{x - 5}{x - 7}`,],\n",
      "  [String.raw`\\frac{\\left(2 x^{2} - 3 x - 35\\right) \\left(x + 3\\right)}{\\left(2 x + 7\\right) \\left(x^{2} - 4 x - 21\\right)}`,String.raw`\\frac{x - 5}{x - 7}`,],\n",
      "  [String.raw`\\frac{\\left(2 x^{2} - 3 x - 35\\right) \\left(x + 5\\right)}{\\left(2 x + 7\\right) \\left(x^{2} - 2 x - 35\\right)}`,String.raw`\\frac{x - 5}{x - 7}`,],\n",
      "  [String.raw`\\frac{\\left(2 x^{2} - 3 x - 35\\right) \\left(x + 7\\right)}{\\left(2 x + 7\\right) \\left(x^{2} - 49\\right)}`,String.raw`\\frac{x - 5}{x - 7}`,],\n",
      "  [String.raw`\\frac{\\left(2 x^{2} - 3 x - 35\\right) \\left(x + 9\\right)}{\\left(2 x + 7\\right) \\left(x^{2} + 2 x - 63\\right)}`,String.raw`\\frac{x - 5}{x - 7}`,],\n",
      "  [String.raw`\\frac{\\left(2 x^{2} - 3 x - 35\\right) \\left(x + 1\\right)}{\\left(2 x + 7\\right) \\left(x^{2} - 2 x - 3\\right)}`,String.raw`\\frac{x - 5}{x - 3}`,],\n",
      "  [String.raw`\\frac{\\left(2 x^{2} - 3 x - 35\\right) \\left(x + 3\\right)}{\\left(2 x + 7\\right) \\left(x^{2} - 9\\right)}`,String.raw`\\frac{x - 5}{x - 3}`,],\n",
      "  [String.raw`\\frac{\\left(2 x^{2} - 3 x - 35\\right) \\left(x + 5\\right)}{\\left(2 x + 7\\right) \\left(x^{2} + 2 x - 15\\right)}`,String.raw`\\frac{x - 5}{x - 3}`,],\n",
      "  [String.raw`\\frac{\\left(2 x^{2} - 3 x - 35\\right) \\left(x + 7\\right)}{\\left(2 x + 7\\right) \\left(x^{2} + 4 x - 21\\right)}`,String.raw`\\frac{x - 5}{x - 3}`,],\n",
      "  [String.raw`\\frac{\\left(2 x^{2} - 3 x - 35\\right) \\left(x + 9\\right)}{\\left(2 x + 7\\right) \\left(x^{2} + 6 x - 27\\right)}`,String.raw`\\frac{x - 5}{x - 3}`,],\n",
      "  [String.raw`\\frac{\\left(2 x^{2} - 3 x - 35\\right) \\left(x + 1\\right)}{\\left(2 x + 7\\right) \\left(x^{2} - 1\\right)}`,String.raw`\\frac{x - 5}{x - 1}`,],\n",
      "  [String.raw`\\frac{\\left(2 x^{2} - 3 x - 35\\right) \\left(x + 3\\right)}{\\left(2 x + 7\\right) \\left(x^{2} + 2 x - 3\\right)}`,String.raw`\\frac{x - 5}{x - 1}`,],\n",
      "  [String.raw`\\frac{\\left(2 x^{2} - 3 x - 35\\right) \\left(x + 5\\right)}{\\left(2 x + 7\\right) \\left(x^{2} + 4 x - 5\\right)}`,String.raw`\\frac{x - 5}{x - 1}`,],\n",
      "  [String.raw`\\frac{\\left(2 x^{2} - 3 x - 35\\right) \\left(x + 7\\right)}{\\left(2 x + 7\\right) \\left(x^{2} + 6 x - 7\\right)}`,String.raw`\\frac{x - 5}{x - 1}`,],\n",
      "  [String.raw`\\frac{\\left(2 x^{2} - 3 x - 35\\right) \\left(x + 9\\right)}{\\left(2 x + 7\\right) \\left(x^{2} + 8 x - 9\\right)}`,String.raw`\\frac{x - 5}{x - 1}`,],\n",
      "  [String.raw`\\frac{\\left(2 x^{2} + x - 21\\right) \\left(x + 1\\right)}{\\left(2 x + 7\\right) \\left(x^{2} - 8 x - 9\\right)}`,String.raw`\\frac{x - 3}{x - 9}`,],\n",
      "  [String.raw`\\frac{\\left(2 x^{2} + x - 21\\right) \\left(x + 3\\right)}{\\left(2 x + 7\\right) \\left(x^{2} - 6 x - 27\\right)}`,String.raw`\\frac{x - 3}{x - 9}`,],\n",
      "  [String.raw`\\frac{\\left(2 x^{2} + x - 21\\right) \\left(x + 5\\right)}{\\left(2 x + 7\\right) \\left(x^{2} - 4 x - 45\\right)}`,String.raw`\\frac{x - 3}{x - 9}`,],\n",
      "  [String.raw`\\frac{\\left(2 x^{2} + x - 21\\right) \\left(x + 7\\right)}{\\left(2 x + 7\\right) \\left(x^{2} - 2 x - 63\\right)}`,String.raw`\\frac{x - 3}{x - 9}`,],\n",
      "  [String.raw`\\frac{\\left(2 x^{2} + x - 21\\right) \\left(x + 9\\right)}{\\left(2 x + 7\\right) \\left(x^{2} - 81\\right)}`,String.raw`\\frac{x - 3}{x - 9}`,],\n",
      "  [String.raw`\\frac{\\left(2 x^{2} + x - 21\\right) \\left(x + 1\\right)}{\\left(2 x + 7\\right) \\left(x^{2} - 6 x - 7\\right)}`,String.raw`\\frac{x - 3}{x - 7}`,],\n",
      "  [String.raw`\\frac{\\left(2 x^{2} + x - 21\\right) \\left(x + 3\\right)}{\\left(2 x + 7\\right) \\left(x^{2} - 4 x - 21\\right)}`,String.raw`\\frac{x - 3}{x - 7}`,],\n",
      "  [String.raw`\\frac{\\left(2 x^{2} + x - 21\\right) \\left(x + 5\\right)}{\\left(2 x + 7\\right) \\left(x^{2} - 2 x - 35\\right)}`,String.raw`\\frac{x - 3}{x - 7}`,],\n",
      "  [String.raw`\\frac{\\left(2 x^{2} + x - 21\\right) \\left(x + 7\\right)}{\\left(2 x + 7\\right) \\left(x^{2} - 49\\right)}`,String.raw`\\frac{x - 3}{x - 7}`,],\n",
      "  [String.raw`\\frac{\\left(2 x^{2} + x - 21\\right) \\left(x + 9\\right)}{\\left(2 x + 7\\right) \\left(x^{2} + 2 x - 63\\right)}`,String.raw`\\frac{x - 3}{x - 7}`,],\n",
      "  [String.raw`\\frac{\\left(2 x^{2} + x - 21\\right) \\left(x + 1\\right)}{\\left(2 x + 7\\right) \\left(x^{2} - 4 x - 5\\right)}`,String.raw`\\frac{x - 3}{x - 5}`,],\n",
      "  [String.raw`\\frac{\\left(2 x^{2} + x - 21\\right) \\left(x + 3\\right)}{\\left(2 x + 7\\right) \\left(x^{2} - 2 x - 15\\right)}`,String.raw`\\frac{x - 3}{x - 5}`,],\n",
      "  [String.raw`\\frac{\\left(2 x^{2} + x - 21\\right) \\left(x + 5\\right)}{\\left(2 x + 7\\right) \\left(x^{2} - 25\\right)}`,String.raw`\\frac{x - 3}{x - 5}`,],\n",
      "  [String.raw`\\frac{\\left(2 x^{2} + x - 21\\right) \\left(x + 7\\right)}{\\left(2 x + 7\\right) \\left(x^{2} + 2 x - 35\\right)}`,String.raw`\\frac{x - 3}{x - 5}`,],\n",
      "  [String.raw`\\frac{\\left(2 x^{2} + x - 21\\right) \\left(x + 9\\right)}{\\left(2 x + 7\\right) \\left(x^{2} + 4 x - 45\\right)}`,String.raw`\\frac{x - 3}{x - 5}`,],\n",
      "  [String.raw`\\frac{\\left(2 x^{2} + x - 21\\right) \\left(x + 1\\right)}{\\left(2 x + 7\\right) \\left(x^{2} - 1\\right)}`,String.raw`\\frac{x - 3}{x - 1}`,],\n",
      "  [String.raw`\\frac{\\left(2 x^{2} + x - 21\\right) \\left(x + 3\\right)}{\\left(2 x + 7\\right) \\left(x^{2} + 2 x - 3\\right)}`,String.raw`\\frac{x - 3}{x - 1}`,],\n",
      "  [String.raw`\\frac{\\left(2 x^{2} + x - 21\\right) \\left(x + 5\\right)}{\\left(2 x + 7\\right) \\left(x^{2} + 4 x - 5\\right)}`,String.raw`\\frac{x - 3}{x - 1}`,],\n",
      "  [String.raw`\\frac{\\left(2 x^{2} + x - 21\\right) \\left(x + 7\\right)}{\\left(2 x + 7\\right) \\left(x^{2} + 6 x - 7\\right)}`,String.raw`\\frac{x - 3}{x - 1}`,],\n",
      "  [String.raw`\\frac{\\left(2 x^{2} + x - 21\\right) \\left(x + 9\\right)}{\\left(2 x + 7\\right) \\left(x^{2} + 8 x - 9\\right)}`,String.raw`\\frac{x - 3}{x - 1}`,],\n",
      "  [String.raw`\\frac{\\left(2 x^{2} + 5 x - 7\\right) \\left(x + 1\\right)}{\\left(2 x + 7\\right) \\left(x^{2} - 8 x - 9\\right)}`,String.raw`\\frac{x - 1}{x - 9}`,],\n",
      "  [String.raw`\\frac{\\left(2 x^{2} + 5 x - 7\\right) \\left(x + 3\\right)}{\\left(2 x + 7\\right) \\left(x^{2} - 6 x - 27\\right)}`,String.raw`\\frac{x - 1}{x - 9}`,],\n",
      "  [String.raw`\\frac{\\left(2 x^{2} + 5 x - 7\\right) \\left(x + 5\\right)}{\\left(2 x + 7\\right) \\left(x^{2} - 4 x - 45\\right)}`,String.raw`\\frac{x - 1}{x - 9}`,],\n",
      "  [String.raw`\\frac{\\left(2 x^{2} + 5 x - 7\\right) \\left(x + 7\\right)}{\\left(2 x + 7\\right) \\left(x^{2} - 2 x - 63\\right)}`,String.raw`\\frac{x - 1}{x - 9}`,],\n",
      "  [String.raw`\\frac{\\left(2 x^{2} + 5 x - 7\\right) \\left(x + 9\\right)}{\\left(2 x + 7\\right) \\left(x^{2} - 81\\right)}`,String.raw`\\frac{x - 1}{x - 9}`,],\n",
      "  [String.raw`\\frac{\\left(2 x^{2} + 5 x - 7\\right) \\left(x + 1\\right)}{\\left(2 x + 7\\right) \\left(x^{2} - 6 x - 7\\right)}`,String.raw`\\frac{x - 1}{x - 7}`,],\n",
      "  [String.raw`\\frac{\\left(2 x^{2} + 5 x - 7\\right) \\left(x + 3\\right)}{\\left(2 x + 7\\right) \\left(x^{2} - 4 x - 21\\right)}`,String.raw`\\frac{x - 1}{x - 7}`,],\n",
      "  [String.raw`\\frac{\\left(2 x^{2} + 5 x - 7\\right) \\left(x + 5\\right)}{\\left(2 x + 7\\right) \\left(x^{2} - 2 x - 35\\right)}`,String.raw`\\frac{x - 1}{x - 7}`,],\n",
      "  [String.raw`\\frac{\\left(2 x^{2} + 5 x - 7\\right) \\left(x + 7\\right)}{\\left(2 x + 7\\right) \\left(x^{2} - 49\\right)}`,String.raw`\\frac{x - 1}{x - 7}`,],\n",
      "  [String.raw`\\frac{\\left(2 x^{2} + 5 x - 7\\right) \\left(x + 9\\right)}{\\left(2 x + 7\\right) \\left(x^{2} + 2 x - 63\\right)}`,String.raw`\\frac{x - 1}{x - 7}`,],\n",
      "  [String.raw`\\frac{\\left(2 x^{2} + 5 x - 7\\right) \\left(x + 1\\right)}{\\left(2 x + 7\\right) \\left(x^{2} - 4 x - 5\\right)}`,String.raw`\\frac{x - 1}{x - 5}`,],\n",
      "  [String.raw`\\frac{\\left(2 x^{2} + 5 x - 7\\right) \\left(x + 3\\right)}{\\left(2 x + 7\\right) \\left(x^{2} - 2 x - 15\\right)}`,String.raw`\\frac{x - 1}{x - 5}`,],\n",
      "  [String.raw`\\frac{\\left(2 x^{2} + 5 x - 7\\right) \\left(x + 5\\right)}{\\left(2 x + 7\\right) \\left(x^{2} - 25\\right)}`,String.raw`\\frac{x - 1}{x - 5}`,],\n",
      "  [String.raw`\\frac{\\left(2 x^{2} + 5 x - 7\\right) \\left(x + 7\\right)}{\\left(2 x + 7\\right) \\left(x^{2} + 2 x - 35\\right)}`,String.raw`\\frac{x - 1}{x - 5}`,],\n",
      "  [String.raw`\\frac{\\left(2 x^{2} + 5 x - 7\\right) \\left(x + 9\\right)}{\\left(2 x + 7\\right) \\left(x^{2} + 4 x - 45\\right)}`,String.raw`\\frac{x - 1}{x - 5}`,],\n",
      "  [String.raw`\\frac{\\left(2 x^{2} + 5 x - 7\\right) \\left(x + 1\\right)}{\\left(2 x + 7\\right) \\left(x^{2} - 2 x - 3\\right)}`,String.raw`\\frac{x - 1}{x - 3}`,],\n",
      "  [String.raw`\\frac{\\left(2 x^{2} + 5 x - 7\\right) \\left(x + 3\\right)}{\\left(2 x + 7\\right) \\left(x^{2} - 9\\right)}`,String.raw`\\frac{x - 1}{x - 3}`,],\n",
      "  [String.raw`\\frac{\\left(2 x^{2} + 5 x - 7\\right) \\left(x + 5\\right)}{\\left(2 x + 7\\right) \\left(x^{2} + 2 x - 15\\right)}`,String.raw`\\frac{x - 1}{x - 3}`,],\n",
      "  [String.raw`\\frac{\\left(2 x^{2} + 5 x - 7\\right) \\left(x + 7\\right)}{\\left(2 x + 7\\right) \\left(x^{2} + 4 x - 21\\right)}`,String.raw`\\frac{x - 1}{x - 3}`,],\n",
      "  [String.raw`\\frac{\\left(2 x^{2} + 5 x - 7\\right) \\left(x + 9\\right)}{\\left(2 x + 7\\right) \\left(x^{2} + 6 x - 27\\right)}`,String.raw`\\frac{x - 1}{x - 3}`,],\n",
      "  [String.raw`\\frac{\\left(2 x^{2} - 9 x - 81\\right) \\left(x + 1\\right)}{\\left(2 x + 9\\right) \\left(x^{2} - 6 x - 7\\right)}`,String.raw`\\frac{x - 9}{x - 7}`,],\n",
      "  [String.raw`\\frac{\\left(2 x^{2} - 9 x - 81\\right) \\left(x + 3\\right)}{\\left(2 x + 9\\right) \\left(x^{2} - 4 x - 21\\right)}`,String.raw`\\frac{x - 9}{x - 7}`,],\n",
      "  [String.raw`\\frac{\\left(2 x^{2} - 9 x - 81\\right) \\left(x + 5\\right)}{\\left(2 x + 9\\right) \\left(x^{2} - 2 x - 35\\right)}`,String.raw`\\frac{x - 9}{x - 7}`,],\n",
      "  [String.raw`\\frac{\\left(2 x^{2} - 9 x - 81\\right) \\left(x + 7\\right)}{\\left(2 x + 9\\right) \\left(x^{2} - 49\\right)}`,String.raw`\\frac{x - 9}{x - 7}`,],\n",
      "  [String.raw`\\frac{\\left(2 x^{2} - 9 x - 81\\right) \\left(x + 9\\right)}{\\left(2 x + 9\\right) \\left(x^{2} + 2 x - 63\\right)}`,String.raw`\\frac{x - 9}{x - 7}`,],\n",
      "  [String.raw`\\frac{\\left(2 x^{2} - 9 x - 81\\right) \\left(x + 1\\right)}{\\left(2 x + 9\\right) \\left(x^{2} - 4 x - 5\\right)}`,String.raw`\\frac{x - 9}{x - 5}`,],\n",
      "  [String.raw`\\frac{\\left(2 x^{2} - 9 x - 81\\right) \\left(x + 3\\right)}{\\left(2 x + 9\\right) \\left(x^{2} - 2 x - 15\\right)}`,String.raw`\\frac{x - 9}{x - 5}`,],\n",
      "  [String.raw`\\frac{\\left(2 x^{2} - 9 x - 81\\right) \\left(x + 5\\right)}{\\left(2 x + 9\\right) \\left(x^{2} - 25\\right)}`,String.raw`\\frac{x - 9}{x - 5}`,],\n",
      "  [String.raw`\\frac{\\left(2 x^{2} - 9 x - 81\\right) \\left(x + 7\\right)}{\\left(2 x + 9\\right) \\left(x^{2} + 2 x - 35\\right)}`,String.raw`\\frac{x - 9}{x - 5}`,],\n",
      "  [String.raw`\\frac{\\left(2 x^{2} - 9 x - 81\\right) \\left(x + 9\\right)}{\\left(2 x + 9\\right) \\left(x^{2} + 4 x - 45\\right)}`,String.raw`\\frac{x - 9}{x - 5}`,],\n",
      "  [String.raw`\\frac{\\left(2 x^{2} - 9 x - 81\\right) \\left(x + 1\\right)}{\\left(2 x + 9\\right) \\left(x^{2} - 2 x - 3\\right)}`,String.raw`\\frac{x - 9}{x - 3}`,],\n",
      "  [String.raw`\\frac{\\left(2 x^{2} - 9 x - 81\\right) \\left(x + 3\\right)}{\\left(2 x + 9\\right) \\left(x^{2} - 9\\right)}`,String.raw`\\frac{x - 9}{x - 3}`,],\n",
      "  [String.raw`\\frac{\\left(2 x^{2} - 9 x - 81\\right) \\left(x + 5\\right)}{\\left(2 x + 9\\right) \\left(x^{2} + 2 x - 15\\right)}`,String.raw`\\frac{x - 9}{x - 3}`,],\n",
      "  [String.raw`\\frac{\\left(2 x^{2} - 9 x - 81\\right) \\left(x + 7\\right)}{\\left(2 x + 9\\right) \\left(x^{2} + 4 x - 21\\right)}`,String.raw`\\frac{x - 9}{x - 3}`,],\n",
      "  [String.raw`\\frac{\\left(2 x^{2} - 9 x - 81\\right) \\left(x + 9\\right)}{\\left(2 x + 9\\right) \\left(x^{2} + 6 x - 27\\right)}`,String.raw`\\frac{x - 9}{x - 3}`,],\n",
      "  [String.raw`\\frac{\\left(2 x^{2} - 9 x - 81\\right) \\left(x + 1\\right)}{\\left(2 x + 9\\right) \\left(x^{2} - 1\\right)}`,String.raw`\\frac{x - 9}{x - 1}`,],\n",
      "  [String.raw`\\frac{\\left(2 x^{2} - 9 x - 81\\right) \\left(x + 3\\right)}{\\left(2 x + 9\\right) \\left(x^{2} + 2 x - 3\\right)}`,String.raw`\\frac{x - 9}{x - 1}`,],\n",
      "  [String.raw`\\frac{\\left(2 x^{2} - 9 x - 81\\right) \\left(x + 5\\right)}{\\left(2 x + 9\\right) \\left(x^{2} + 4 x - 5\\right)}`,String.raw`\\frac{x - 9}{x - 1}`,],\n",
      "  [String.raw`\\frac{\\left(2 x^{2} - 9 x - 81\\right) \\left(x + 7\\right)}{\\left(2 x + 9\\right) \\left(x^{2} + 6 x - 7\\right)}`,String.raw`\\frac{x - 9}{x - 1}`,],\n",
      "  [String.raw`\\frac{\\left(2 x^{2} - 9 x - 81\\right) \\left(x + 9\\right)}{\\left(2 x + 9\\right) \\left(x^{2} + 8 x - 9\\right)}`,String.raw`\\frac{x - 9}{x - 1}`,],\n",
      "  [String.raw`\\frac{\\left(2 x^{2} - 5 x - 63\\right) \\left(x + 1\\right)}{\\left(2 x + 9\\right) \\left(x^{2} - 8 x - 9\\right)}`,String.raw`\\frac{x - 7}{x - 9}`,],\n",
      "  [String.raw`\\frac{\\left(2 x^{2} - 5 x - 63\\right) \\left(x + 3\\right)}{\\left(2 x + 9\\right) \\left(x^{2} - 6 x - 27\\right)}`,String.raw`\\frac{x - 7}{x - 9}`,],\n",
      "  [String.raw`\\frac{\\left(2 x^{2} - 5 x - 63\\right) \\left(x + 5\\right)}{\\left(2 x + 9\\right) \\left(x^{2} - 4 x - 45\\right)}`,String.raw`\\frac{x - 7}{x - 9}`,],\n",
      "  [String.raw`\\frac{\\left(2 x^{2} - 5 x - 63\\right) \\left(x + 7\\right)}{\\left(2 x + 9\\right) \\left(x^{2} - 2 x - 63\\right)}`,String.raw`\\frac{x - 7}{x - 9}`,],\n",
      "  [String.raw`\\frac{\\left(2 x^{2} - 5 x - 63\\right) \\left(x + 9\\right)}{\\left(2 x + 9\\right) \\left(x^{2} - 81\\right)}`,String.raw`\\frac{x - 7}{x - 9}`,],\n",
      "  [String.raw`\\frac{\\left(2 x^{2} - 5 x - 63\\right) \\left(x + 1\\right)}{\\left(2 x + 9\\right) \\left(x^{2} - 4 x - 5\\right)}`,String.raw`\\frac{x - 7}{x - 5}`,],\n",
      "  [String.raw`\\frac{\\left(2 x^{2} - 5 x - 63\\right) \\left(x + 3\\right)}{\\left(2 x + 9\\right) \\left(x^{2} - 2 x - 15\\right)}`,String.raw`\\frac{x - 7}{x - 5}`,],\n",
      "  [String.raw`\\frac{\\left(2 x^{2} - 5 x - 63\\right) \\left(x + 5\\right)}{\\left(2 x + 9\\right) \\left(x^{2} - 25\\right)}`,String.raw`\\frac{x - 7}{x - 5}`,],\n",
      "  [String.raw`\\frac{\\left(2 x^{2} - 5 x - 63\\right) \\left(x + 7\\right)}{\\left(2 x + 9\\right) \\left(x^{2} + 2 x - 35\\right)}`,String.raw`\\frac{x - 7}{x - 5}`,],\n",
      "  [String.raw`\\frac{\\left(2 x^{2} - 5 x - 63\\right) \\left(x + 9\\right)}{\\left(2 x + 9\\right) \\left(x^{2} + 4 x - 45\\right)}`,String.raw`\\frac{x - 7}{x - 5}`,],\n",
      "  [String.raw`\\frac{\\left(2 x^{2} - 5 x - 63\\right) \\left(x + 1\\right)}{\\left(2 x + 9\\right) \\left(x^{2} - 2 x - 3\\right)}`,String.raw`\\frac{x - 7}{x - 3}`,],\n",
      "  [String.raw`\\frac{\\left(2 x^{2} - 5 x - 63\\right) \\left(x + 3\\right)}{\\left(2 x + 9\\right) \\left(x^{2} - 9\\right)}`,String.raw`\\frac{x - 7}{x - 3}`,],\n",
      "  [String.raw`\\frac{\\left(2 x^{2} - 5 x - 63\\right) \\left(x + 5\\right)}{\\left(2 x + 9\\right) \\left(x^{2} + 2 x - 15\\right)}`,String.raw`\\frac{x - 7}{x - 3}`,],\n",
      "  [String.raw`\\frac{\\left(2 x^{2} - 5 x - 63\\right) \\left(x + 7\\right)}{\\left(2 x + 9\\right) \\left(x^{2} + 4 x - 21\\right)}`,String.raw`\\frac{x - 7}{x - 3}`,],\n",
      "  [String.raw`\\frac{\\left(2 x^{2} - 5 x - 63\\right) \\left(x + 9\\right)}{\\left(2 x + 9\\right) \\left(x^{2} + 6 x - 27\\right)}`,String.raw`\\frac{x - 7}{x - 3}`,],\n",
      "  [String.raw`\\frac{\\left(2 x^{2} - 5 x - 63\\right) \\left(x + 1\\right)}{\\left(2 x + 9\\right) \\left(x^{2} - 1\\right)}`,String.raw`\\frac{x - 7}{x - 1}`,],\n",
      "  [String.raw`\\frac{\\left(2 x^{2} - 5 x - 63\\right) \\left(x + 3\\right)}{\\left(2 x + 9\\right) \\left(x^{2} + 2 x - 3\\right)}`,String.raw`\\frac{x - 7}{x - 1}`,],\n",
      "  [String.raw`\\frac{\\left(2 x^{2} - 5 x - 63\\right) \\left(x + 5\\right)}{\\left(2 x + 9\\right) \\left(x^{2} + 4 x - 5\\right)}`,String.raw`\\frac{x - 7}{x - 1}`,],\n",
      "  [String.raw`\\frac{\\left(2 x^{2} - 5 x - 63\\right) \\left(x + 7\\right)}{\\left(2 x + 9\\right) \\left(x^{2} + 6 x - 7\\right)}`,String.raw`\\frac{x - 7}{x - 1}`,],\n",
      "  [String.raw`\\frac{\\left(2 x^{2} - 5 x - 63\\right) \\left(x + 9\\right)}{\\left(2 x + 9\\right) \\left(x^{2} + 8 x - 9\\right)}`,String.raw`\\frac{x - 7}{x - 1}`,],\n",
      "  [String.raw`\\frac{\\left(2 x^{2} - x - 45\\right) \\left(x + 1\\right)}{\\left(2 x + 9\\right) \\left(x^{2} - 8 x - 9\\right)}`,String.raw`\\frac{x - 5}{x - 9}`,],\n",
      "  [String.raw`\\frac{\\left(2 x^{2} - x - 45\\right) \\left(x + 3\\right)}{\\left(2 x + 9\\right) \\left(x^{2} - 6 x - 27\\right)}`,String.raw`\\frac{x - 5}{x - 9}`,],\n",
      "  [String.raw`\\frac{\\left(2 x^{2} - x - 45\\right) \\left(x + 5\\right)}{\\left(2 x + 9\\right) \\left(x^{2} - 4 x - 45\\right)}`,String.raw`\\frac{x - 5}{x - 9}`,],\n",
      "  [String.raw`\\frac{\\left(2 x^{2} - x - 45\\right) \\left(x + 7\\right)}{\\left(2 x + 9\\right) \\left(x^{2} - 2 x - 63\\right)}`,String.raw`\\frac{x - 5}{x - 9}`,],\n",
      "  [String.raw`\\frac{\\left(2 x^{2} - x - 45\\right) \\left(x + 9\\right)}{\\left(2 x + 9\\right) \\left(x^{2} - 81\\right)}`,String.raw`\\frac{x - 5}{x - 9}`,],\n",
      "  [String.raw`\\frac{\\left(2 x^{2} - x - 45\\right) \\left(x + 1\\right)}{\\left(2 x + 9\\right) \\left(x^{2} - 6 x - 7\\right)}`,String.raw`\\frac{x - 5}{x - 7}`,],\n",
      "  [String.raw`\\frac{\\left(2 x^{2} - x - 45\\right) \\left(x + 3\\right)}{\\left(2 x + 9\\right) \\left(x^{2} - 4 x - 21\\right)}`,String.raw`\\frac{x - 5}{x - 7}`,],\n",
      "  [String.raw`\\frac{\\left(2 x^{2} - x - 45\\right) \\left(x + 5\\right)}{\\left(2 x + 9\\right) \\left(x^{2} - 2 x - 35\\right)}`,String.raw`\\frac{x - 5}{x - 7}`,],\n",
      "  [String.raw`\\frac{\\left(2 x^{2} - x - 45\\right) \\left(x + 7\\right)}{\\left(2 x + 9\\right) \\left(x^{2} - 49\\right)}`,String.raw`\\frac{x - 5}{x - 7}`,],\n",
      "  [String.raw`\\frac{\\left(2 x^{2} - x - 45\\right) \\left(x + 9\\right)}{\\left(2 x + 9\\right) \\left(x^{2} + 2 x - 63\\right)}`,String.raw`\\frac{x - 5}{x - 7}`,],\n",
      "  [String.raw`\\frac{\\left(2 x^{2} - x - 45\\right) \\left(x + 1\\right)}{\\left(2 x + 9\\right) \\left(x^{2} - 2 x - 3\\right)}`,String.raw`\\frac{x - 5}{x - 3}`,],\n",
      "  [String.raw`\\frac{\\left(2 x^{2} - x - 45\\right) \\left(x + 3\\right)}{\\left(2 x + 9\\right) \\left(x^{2} - 9\\right)}`,String.raw`\\frac{x - 5}{x - 3}`,],\n",
      "  [String.raw`\\frac{\\left(2 x^{2} - x - 45\\right) \\left(x + 5\\right)}{\\left(2 x + 9\\right) \\left(x^{2} + 2 x - 15\\right)}`,String.raw`\\frac{x - 5}{x - 3}`,],\n",
      "  [String.raw`\\frac{\\left(2 x^{2} - x - 45\\right) \\left(x + 7\\right)}{\\left(2 x + 9\\right) \\left(x^{2} + 4 x - 21\\right)}`,String.raw`\\frac{x - 5}{x - 3}`,],\n",
      "  [String.raw`\\frac{\\left(2 x^{2} - x - 45\\right) \\left(x + 9\\right)}{\\left(2 x + 9\\right) \\left(x^{2} + 6 x - 27\\right)}`,String.raw`\\frac{x - 5}{x - 3}`,],\n",
      "  [String.raw`\\frac{\\left(2 x^{2} - x - 45\\right) \\left(x + 1\\right)}{\\left(2 x + 9\\right) \\left(x^{2} - 1\\right)}`,String.raw`\\frac{x - 5}{x - 1}`,],\n",
      "  [String.raw`\\frac{\\left(2 x^{2} - x - 45\\right) \\left(x + 3\\right)}{\\left(2 x + 9\\right) \\left(x^{2} + 2 x - 3\\right)}`,String.raw`\\frac{x - 5}{x - 1}`,],\n",
      "  [String.raw`\\frac{\\left(2 x^{2} - x - 45\\right) \\left(x + 5\\right)}{\\left(2 x + 9\\right) \\left(x^{2} + 4 x - 5\\right)}`,String.raw`\\frac{x - 5}{x - 1}`,],\n",
      "  [String.raw`\\frac{\\left(2 x^{2} - x - 45\\right) \\left(x + 7\\right)}{\\left(2 x + 9\\right) \\left(x^{2} + 6 x - 7\\right)}`,String.raw`\\frac{x - 5}{x - 1}`,],\n",
      "  [String.raw`\\frac{\\left(2 x^{2} - x - 45\\right) \\left(x + 9\\right)}{\\left(2 x + 9\\right) \\left(x^{2} + 8 x - 9\\right)}`,String.raw`\\frac{x - 5}{x - 1}`,],\n",
      "  [String.raw`\\frac{\\left(2 x^{2} + 3 x - 27\\right) \\left(x + 1\\right)}{\\left(2 x + 9\\right) \\left(x^{2} - 8 x - 9\\right)}`,String.raw`\\frac{x - 3}{x - 9}`,],\n",
      "  [String.raw`\\frac{\\left(2 x^{2} + 3 x - 27\\right) \\left(x + 3\\right)}{\\left(2 x + 9\\right) \\left(x^{2} - 6 x - 27\\right)}`,String.raw`\\frac{x - 3}{x - 9}`,],\n",
      "  [String.raw`\\frac{\\left(2 x^{2} + 3 x - 27\\right) \\left(x + 5\\right)}{\\left(2 x + 9\\right) \\left(x^{2} - 4 x - 45\\right)}`,String.raw`\\frac{x - 3}{x - 9}`,],\n",
      "  [String.raw`\\frac{\\left(2 x^{2} + 3 x - 27\\right) \\left(x + 7\\right)}{\\left(2 x + 9\\right) \\left(x^{2} - 2 x - 63\\right)}`,String.raw`\\frac{x - 3}{x - 9}`,],\n",
      "  [String.raw`\\frac{\\left(2 x^{2} + 3 x - 27\\right) \\left(x + 9\\right)}{\\left(2 x + 9\\right) \\left(x^{2} - 81\\right)}`,String.raw`\\frac{x - 3}{x - 9}`,],\n",
      "  [String.raw`\\frac{\\left(2 x^{2} + 3 x - 27\\right) \\left(x + 1\\right)}{\\left(2 x + 9\\right) \\left(x^{2} - 6 x - 7\\right)}`,String.raw`\\frac{x - 3}{x - 7}`,],\n",
      "  [String.raw`\\frac{\\left(2 x^{2} + 3 x - 27\\right) \\left(x + 3\\right)}{\\left(2 x + 9\\right) \\left(x^{2} - 4 x - 21\\right)}`,String.raw`\\frac{x - 3}{x - 7}`,],\n",
      "  [String.raw`\\frac{\\left(2 x^{2} + 3 x - 27\\right) \\left(x + 5\\right)}{\\left(2 x + 9\\right) \\left(x^{2} - 2 x - 35\\right)}`,String.raw`\\frac{x - 3}{x - 7}`,],\n",
      "  [String.raw`\\frac{\\left(2 x^{2} + 3 x - 27\\right) \\left(x + 7\\right)}{\\left(2 x + 9\\right) \\left(x^{2} - 49\\right)}`,String.raw`\\frac{x - 3}{x - 7}`,],\n",
      "  [String.raw`\\frac{\\left(2 x^{2} + 3 x - 27\\right) \\left(x + 9\\right)}{\\left(2 x + 9\\right) \\left(x^{2} + 2 x - 63\\right)}`,String.raw`\\frac{x - 3}{x - 7}`,],\n",
      "  [String.raw`\\frac{\\left(2 x^{2} + 3 x - 27\\right) \\left(x + 1\\right)}{\\left(2 x + 9\\right) \\left(x^{2} - 4 x - 5\\right)}`,String.raw`\\frac{x - 3}{x - 5}`,],\n",
      "  [String.raw`\\frac{\\left(2 x^{2} + 3 x - 27\\right) \\left(x + 3\\right)}{\\left(2 x + 9\\right) \\left(x^{2} - 2 x - 15\\right)}`,String.raw`\\frac{x - 3}{x - 5}`,],\n",
      "  [String.raw`\\frac{\\left(2 x^{2} + 3 x - 27\\right) \\left(x + 5\\right)}{\\left(2 x + 9\\right) \\left(x^{2} - 25\\right)}`,String.raw`\\frac{x - 3}{x - 5}`,],\n",
      "  [String.raw`\\frac{\\left(2 x^{2} + 3 x - 27\\right) \\left(x + 7\\right)}{\\left(2 x + 9\\right) \\left(x^{2} + 2 x - 35\\right)}`,String.raw`\\frac{x - 3}{x - 5}`,],\n",
      "  [String.raw`\\frac{\\left(2 x^{2} + 3 x - 27\\right) \\left(x + 9\\right)}{\\left(2 x + 9\\right) \\left(x^{2} + 4 x - 45\\right)}`,String.raw`\\frac{x - 3}{x - 5}`,],\n",
      "  [String.raw`\\frac{\\left(2 x^{2} + 3 x - 27\\right) \\left(x + 1\\right)}{\\left(2 x + 9\\right) \\left(x^{2} - 1\\right)}`,String.raw`\\frac{x - 3}{x - 1}`,],\n",
      "  [String.raw`\\frac{\\left(2 x^{2} + 3 x - 27\\right) \\left(x + 3\\right)}{\\left(2 x + 9\\right) \\left(x^{2} + 2 x - 3\\right)}`,String.raw`\\frac{x - 3}{x - 1}`,],\n",
      "  [String.raw`\\frac{\\left(2 x^{2} + 3 x - 27\\right) \\left(x + 5\\right)}{\\left(2 x + 9\\right) \\left(x^{2} + 4 x - 5\\right)}`,String.raw`\\frac{x - 3}{x - 1}`,],\n",
      "  [String.raw`\\frac{\\left(2 x^{2} + 3 x - 27\\right) \\left(x + 7\\right)}{\\left(2 x + 9\\right) \\left(x^{2} + 6 x - 7\\right)}`,String.raw`\\frac{x - 3}{x - 1}`,],\n",
      "  [String.raw`\\frac{\\left(2 x^{2} + 3 x - 27\\right) \\left(x + 9\\right)}{\\left(2 x + 9\\right) \\left(x^{2} + 8 x - 9\\right)}`,String.raw`\\frac{x - 3}{x - 1}`,],\n",
      "  [String.raw`\\frac{\\left(2 x^{2} + 7 x - 9\\right) \\left(x + 1\\right)}{\\left(2 x + 9\\right) \\left(x^{2} - 8 x - 9\\right)}`,String.raw`\\frac{x - 1}{x - 9}`,],\n",
      "  [String.raw`\\frac{\\left(2 x^{2} + 7 x - 9\\right) \\left(x + 3\\right)}{\\left(2 x + 9\\right) \\left(x^{2} - 6 x - 27\\right)}`,String.raw`\\frac{x - 1}{x - 9}`,],\n",
      "  [String.raw`\\frac{\\left(2 x^{2} + 7 x - 9\\right) \\left(x + 5\\right)}{\\left(2 x + 9\\right) \\left(x^{2} - 4 x - 45\\right)}`,String.raw`\\frac{x - 1}{x - 9}`,],\n",
      "  [String.raw`\\frac{\\left(2 x^{2} + 7 x - 9\\right) \\left(x + 7\\right)}{\\left(2 x + 9\\right) \\left(x^{2} - 2 x - 63\\right)}`,String.raw`\\frac{x - 1}{x - 9}`,],\n",
      "  [String.raw`\\frac{\\left(2 x^{2} + 7 x - 9\\right) \\left(x + 9\\right)}{\\left(2 x + 9\\right) \\left(x^{2} - 81\\right)}`,String.raw`\\frac{x - 1}{x - 9}`,],\n",
      "  [String.raw`\\frac{\\left(2 x^{2} + 7 x - 9\\right) \\left(x + 1\\right)}{\\left(2 x + 9\\right) \\left(x^{2} - 6 x - 7\\right)}`,String.raw`\\frac{x - 1}{x - 7}`,],\n",
      "  [String.raw`\\frac{\\left(2 x^{2} + 7 x - 9\\right) \\left(x + 3\\right)}{\\left(2 x + 9\\right) \\left(x^{2} - 4 x - 21\\right)}`,String.raw`\\frac{x - 1}{x - 7}`,],\n",
      "  [String.raw`\\frac{\\left(2 x^{2} + 7 x - 9\\right) \\left(x + 5\\right)}{\\left(2 x + 9\\right) \\left(x^{2} - 2 x - 35\\right)}`,String.raw`\\frac{x - 1}{x - 7}`,],\n",
      "  [String.raw`\\frac{\\left(2 x^{2} + 7 x - 9\\right) \\left(x + 7\\right)}{\\left(2 x + 9\\right) \\left(x^{2} - 49\\right)}`,String.raw`\\frac{x - 1}{x - 7}`,],\n",
      "  [String.raw`\\frac{\\left(2 x^{2} + 7 x - 9\\right) \\left(x + 9\\right)}{\\left(2 x + 9\\right) \\left(x^{2} + 2 x - 63\\right)}`,String.raw`\\frac{x - 1}{x - 7}`,],\n",
      "  [String.raw`\\frac{\\left(2 x^{2} + 7 x - 9\\right) \\left(x + 1\\right)}{\\left(2 x + 9\\right) \\left(x^{2} - 4 x - 5\\right)}`,String.raw`\\frac{x - 1}{x - 5}`,],\n",
      "  [String.raw`\\frac{\\left(2 x^{2} + 7 x - 9\\right) \\left(x + 3\\right)}{\\left(2 x + 9\\right) \\left(x^{2} - 2 x - 15\\right)}`,String.raw`\\frac{x - 1}{x - 5}`,],\n",
      "  [String.raw`\\frac{\\left(2 x^{2} + 7 x - 9\\right) \\left(x + 5\\right)}{\\left(2 x + 9\\right) \\left(x^{2} - 25\\right)}`,String.raw`\\frac{x - 1}{x - 5}`,],\n",
      "  [String.raw`\\frac{\\left(2 x^{2} + 7 x - 9\\right) \\left(x + 7\\right)}{\\left(2 x + 9\\right) \\left(x^{2} + 2 x - 35\\right)}`,String.raw`\\frac{x - 1}{x - 5}`,],\n",
      "  [String.raw`\\frac{\\left(2 x^{2} + 7 x - 9\\right) \\left(x + 9\\right)}{\\left(2 x + 9\\right) \\left(x^{2} + 4 x - 45\\right)}`,String.raw`\\frac{x - 1}{x - 5}`,],\n",
      "  [String.raw`\\frac{\\left(2 x^{2} + 7 x - 9\\right) \\left(x + 1\\right)}{\\left(2 x + 9\\right) \\left(x^{2} - 2 x - 3\\right)}`,String.raw`\\frac{x - 1}{x - 3}`,],\n",
      "  [String.raw`\\frac{\\left(2 x^{2} + 7 x - 9\\right) \\left(x + 3\\right)}{\\left(2 x + 9\\right) \\left(x^{2} - 9\\right)}`,String.raw`\\frac{x - 1}{x - 3}`,],\n",
      "  [String.raw`\\frac{\\left(2 x^{2} + 7 x - 9\\right) \\left(x + 5\\right)}{\\left(2 x + 9\\right) \\left(x^{2} + 2 x - 15\\right)}`,String.raw`\\frac{x - 1}{x - 3}`,],\n",
      "  [String.raw`\\frac{\\left(2 x^{2} + 7 x - 9\\right) \\left(x + 7\\right)}{\\left(2 x + 9\\right) \\left(x^{2} + 4 x - 21\\right)}`,String.raw`\\frac{x - 1}{x - 3}`,],\n",
      "  [String.raw`\\frac{\\left(2 x^{2} + 7 x - 9\\right) \\left(x + 9\\right)}{\\left(2 x + 9\\right) \\left(x^{2} + 6 x - 27\\right)}`,String.raw`\\frac{x - 1}{x - 3}`,],\n",
      "];\n",
      "//random_seed=0;\n",
      "[prob,sol] = params[random_seed % params.length];\n",
      "1676285287.096 GET /_anki/imgs/gears.svg\n",
      "1676471887.348 GET /_anki/js/vendor/jquery.min.js\n"
     ]
    }
   ],
   "source": [
    "print(param_script)"
   ]
  },
  {
   "cell_type": "code",
   "execution_count": null,
   "id": "649523cc-19e9-4285-88dd-34d36c465620",
   "metadata": {},
   "outputs": [],
   "source": []
  }
 ],
 "metadata": {
  "kernelspec": {
   "display_name": "Python 3 (ipykernel)",
   "language": "python",
   "name": "python3"
  },
  "language_info": {
   "codemirror_mode": {
    "name": "ipython",
    "version": 3
   },
   "file_extension": ".py",
   "mimetype": "text/x-python",
   "name": "python",
   "nbconvert_exporter": "python",
   "pygments_lexer": "ipython3",
   "version": "3.9.15"
  }
 },
 "nbformat": 4,
 "nbformat_minor": 5
}
