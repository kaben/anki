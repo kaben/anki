{
 "cells": [
  {
   "cell_type": "code",
   "execution_count": 31,
   "id": "7f71fa25-81fd-4c90-8963-d8a700b2d656",
   "metadata": {},
   "outputs": [],
   "source": [
    "card = table.get_current_card()"
   ]
  },
  {
   "cell_type": "code",
   "execution_count": 32,
   "id": "624ce646-e419-4b78-a86b-2d5d628e3020",
   "metadata": {},
   "outputs": [
    {
     "data": {
      "text/plain": [
       "{'col': <anki.collection.Collection at 0x7f70a45986d0>,\n",
       " 'timer_started': None,\n",
       " '_render_output': None,\n",
       " 'id': 1659326468795,\n",
       " '_note': <anki.notes.Note at 0x7f706e5d9b50>,\n",
       " 'nid': 1659326468795,\n",
       " 'did': 1659060767065,\n",
       " 'ord': 0,\n",
       " 'mod': 1672361655,\n",
       " 'usn': 1906,\n",
       " 'type': 1,\n",
       " 'queue': 1,\n",
       " 'due': 1672361721,\n",
       " 'ivl': 0,\n",
       " 'factor': 0,\n",
       " 'reps': 2,\n",
       " 'lapses': 0,\n",
       " 'left': 2,\n",
       " 'odue': 0,\n",
       " 'odid': 0,\n",
       " 'flags': 0,\n",
       " 'original_position': None,\n",
       " 'custom_data': ''}"
      ]
     },
     "execution_count": 32,
     "metadata": {},
     "output_type": "execute_result"
    }
   ],
   "source": [
    "card.__dict__"
   ]
  },
  {
   "cell_type": "code",
   "execution_count": 33,
   "id": "b1baf038-5f87-45e4-b01a-db923c002b06",
   "metadata": {},
   "outputs": [
    {
     "data": {
      "text/plain": [
       "[1659326474000]"
      ]
     },
     "execution_count": 33,
     "metadata": {},
     "output_type": "execute_result"
    }
   ],
   "source": [
    "model._state.review_ids_from_card_ids([card.id])"
   ]
  },
  {
   "cell_type": "code",
   "execution_count": 35,
   "id": "8bda0199-6648-477f-b573-b6794d3a625d",
   "metadata": {},
   "outputs": [
    {
     "data": {
      "text/plain": [
       "{'.feedback::trouble::procedural::partial-fractions::conversion-to-common-denominator': 0.325,\n",
       " '.feedback::trouble::procedural::integration::wrong-variable': 0,\n",
       " '.feedback::trouble::algebra::conflation::expressions': 0.325,\n",
       " '.feedback::trouble::algebra::conflation::sign-flip': 0,\n",
       " '.feedback::trouble::algebra::conflation::multiplication-and-division': 0,\n",
       " '.feedback::trouble::algebra::conflation::symbol-swap': 0,\n",
       " '.feedback::trouble::procedural::parts::skipped-chain-rule': 0,\n",
       " '.feedback::trouble::algebra::conflation::fraction-inversion': 0,\n",
       " '.feedback::trouble::procedural::substitution::skipped-chain-rule': 0,\n",
       " '.feedback::trouble::algebra::wrong-polynomial-power': 0,\n",
       " '.feedback::trouble::algebra::omission::dropped-sign': 0,\n",
       " '.feedback::trouble::transcription::sign-flip': 0,\n",
       " '.feedback::trouble::algebra::omission::dropped-factor': 0,\n",
       " '.feedback::trouble::algebra::polynomial-expansion': 0,\n",
       " '.feedback::trouble::algebra::omission::dropped-power': 0,\n",
       " '.feedback::trouble::transcription::miscopied': 0.325,\n",
       " '.feedback::trouble::algebra::conflation::addition-and-subtraction': 0}"
      ]
     },
     "execution_count": 35,
     "metadata": {},
     "output_type": "execute_result"
    }
   ],
   "source": [
    "get_rtag_scores_for_ntag(\n",
    "    card.note().tags[0],\n",
    "    rtag_scores_dict,\n",
    "    empty_rtag_scores\n",
    ")"
   ]
  },
  {
   "cell_type": "code",
   "execution_count": 37,
   "id": "c92e10f2-7c5b-426a-9016-3b9b2d4cf8d0",
   "metadata": {},
   "outputs": [
    {
     "name": "stdout",
     "output_type": "stream",
     "text": [
      "id: 1659295983224\n",
      "cid: 1659246673149\n",
      "usn: 1741\n",
      "button_chosen: 4\n",
      "interval: 3\n",
      "last_interval: -60\n",
      "ease_factor: 2500\n",
      "taken_millis: 1857\n",
      "mtime_secs: 1659295983\n",
      "\n",
      "id: 1659326474000\n",
      "cid: 1659326468795\n",
      "usn: 1963\n",
      "button_chosen: 1\n",
      "interval: -60\n",
      "last_interval: -60\n",
      "taken_millis: 4000\n",
      "mtime_secs: 1659326474\n",
      "feedback: \"Trouble:<br><ul><li>Transcription: miscopied original problem.</li><li>Incorrect procedure: partial fractions Case II: error in conversion to common denominator.</li><li>Arithmetic errors.</li><li>Conflation of expressions resulting in arithmetic error.</li></ul>\"\n",
      "tags: \".feedback::trouble::algebra::conflation::expressions\"\n",
      "tags: \".feedback::trouble::procedural::partial-fractions::conversion-to-common-denominator\"\n",
      "tags: \".feedback::trouble::transcription::miscopied\"\n",
      "\n",
      "1673033124.022 GET /_anki/legacyPageData\n",
      "1673033124.023 GET /_anki/legacyPageData\n",
      "1673033124.038 GET /_anki/css/webview.css\n",
      "1673033124.039 GET /_anki/css/deckbrowser.css\n",
      "1673033124.040 GET /_anki/js/webview.js\n",
      "1673033124.040 GET /_anki/js/vendor/jquery.min.js\n",
      "1673033124.041 GET /_anki/js/vendor/jquery-ui.min.js\n",
      "1673033124.046 GET /_anki/js/deckbrowser.js\n",
      "1673033124.047 GET /_anki/imgs/gears.svg\n",
      "1673033124.056 GET /_anki/css/webview.css\n",
      "1673033124.057 GET /_anki/css/toolbar.css\n",
      "1673033124.058 GET /_anki/css/toolbar-bottom.css\n",
      "1673033124.058 GET /_anki/js/vendor/jquery.min.js\n",
      "1673033124.059 GET /_anki/js/webview.js\n"
     ]
    }
   ],
   "source": [
    "for review in reviews:\n",
    "    note_ids = model._state.note_ids_from_review_ids([review.id])\n",
    "    note = model.col.get_note(note_ids[0])\n",
    "    if 'ECET-06.03-PartialFractions2' in note.tags:\n",
    "        print(review)"
   ]
  },
  {
   "cell_type": "code",
   "execution_count": null,
   "id": "82e29931-9851-4b79-a0ed-2503b44d5db3",
   "metadata": {},
   "outputs": [],
   "source": []
  }
 ],
 "metadata": {
  "kernelspec": {
   "display_name": "Python 3 (ipykernel)",
   "language": "python",
   "name": "python3"
  },
  "language_info": {
   "codemirror_mode": {
    "name": "ipython",
    "version": 3
   },
   "file_extension": ".py",
   "mimetype": "text/x-python",
   "name": "python",
   "nbconvert_exporter": "python",
   "pygments_lexer": "ipython3",
   "version": "3.9.15"
  }
 },
 "nbformat": 4,
 "nbformat_minor": 5
}
