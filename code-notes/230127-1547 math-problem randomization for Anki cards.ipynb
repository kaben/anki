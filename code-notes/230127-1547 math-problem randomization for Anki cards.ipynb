{
 "cells": [
  {
   "cell_type": "markdown",
   "id": "c0efb5f0-5da5-43a5-ae0a-aa909b0fceaa",
   "metadata": {},
   "source": [
    "Idea for varying a math problem each time it is solved by the user. This relies on an Anki addon I've prototyped that provides each card a \"random seed\" that changes if and only if the card is solved, i.e., the user clicks the \"easy\" or \"good\" button, and possibly the \"hard\" button.\n",
    "\n",
    "Note I'm using the random seed directly rather than seeding and using an actual random number generator."
   ]
  },
  {
   "cell_type": "markdown",
   "id": "0bf55ac3-8b57-4c21-aff5-bfe5f7e0c55c",
   "metadata": {},
   "source": [
    "### `Front` and `Back` templates are setup like so:"
   ]
  },
  {
   "cell_type": "markdown",
   "id": "fc7200e0-f716-49d7-8b40-a171dae8f862",
   "metadata": {},
   "source": [
    "`Front` template:\n",
    "\n",
    "```html\n",
    "<script>\n",
    "  // Avoid redefining random seed variable.\n",
    "  if (typeof random_seed === 'undefined') { let random_seed; }\n",
    "  // Initialize random seed.\n",
    "  if (`{{randseed-Seed:}}`.startsWith('Unknown field:')) {\n",
    "    // If custom field isn't available, default to zero.\n",
    "    random_seed = 0;\n",
    "  } else {\n",
    "    random_seed = {{randseed-Seed:}};\n",
    "  }\n",
    "\n",
    "  // Run JavaScript snippet from card to interpolate random\n",
    "  // params for displaying front and back sides.\n",
    "  {{Params}}\n",
    "\n",
    "  // Copy raw interpolated Front to div below.\n",
    "  document.getElementById('parameterized_front').innerHTML = String.raw`{{Front}}`;\n",
    "</script>\n",
    "\n",
    "<div id='parameterized_front'>\n",
    "  (Warning: Front not yet defined by card template script.)\n",
    "</div>\n",
    "```\n",
    "\n",
    "`Back` template:\n",
    "\n",
    "```html\n",
    "\n",
    "{{FrontSide}}\n",
    "\n",
    "<hr id=answer>\n",
    "\n",
    "<script>\n",
    "  // Random seed and params have  already been setup in Front  template.\n",
    "  // Copy raw interpolated Back to div below.\n",
    "  document.getElementById('parameterized_back').innerHTML = String.raw`{{Back}}`;\n",
    "</script>\n",
    "\n",
    "<div id='parameterized_back'>\n",
    "  (Warning: Back not yet defined by card template script.)\n",
    "</div>\n",
    "```"
   ]
  },
  {
   "cell_type": "markdown",
   "id": "44d2d12b-62cb-400c-abc4-09ec743a7f1c",
   "metadata": {},
   "source": [
    "### And Anki card using the above template are setup like so:"
   ]
  },
  {
   "cell_type": "markdown",
   "id": "5a3cf064-e0fb-40e7-8c65-8e3df2567e53",
   "metadata": {},
   "source": [
    "Example card `Params` field:\n",
    "\n",
    "```javascript\n",
    "// Example:\n",
    "if (typeof params === 'undefined') { let params, a, b; }\n",
    "params = [\n",
    "  [1,2],\n",
    "  [1,4],\n",
    "  [2,3],\n",
    "];\n",
    "[a, b] = params[random_seed % params.length];\n",
    "```\n",
    "\n",
    "Variant with full expression:\n",
    "\n",
    "```javascript\n",
    "if (typeof params === 'undefined') { let params, a, ex; }\n",
    "random_seed = 2;\n",
    "params = [\n",
    "  [2, String.raw`\\left(z^{2} - 2 z + 2\\right) e^{z}`],\n",
    "  [3, String.raw`\\left(z^{3} - 3 z^{2} + 6 z - 6\\right) e^{z}`],\n",
    "  [4, String.raw`\\left(z^{4} - 4 z^{3} + 12 z^{2} - 24 z + 24\\right) e^{z}`],\n",
    "  [5, String.raw`\\left(z^{5} - 5 z^{4} + 20 z^{3} - 60 z^{2} + 120 z - 120\\right) e^{z}`],\n",
    "];\n",
    "[a, ex] = params[random_seed % params.length];\n",
    "```\n",
    "\n",
    "Example card `Front` field:\n",
    "\n",
    "```latex\n",
    "\\[\n",
    "\\int_{${a}}^{${b}} w^2 \\ln w \\,dw\n",
    "\\]\n",
    "```\n",
    "\n",
    "Similarly for `Back` field. Note `a` and `b` are interpolated when card is displayed."
   ]
  },
  {
   "cell_type": "code",
   "execution_count": 2,
   "id": "c2471500-ce4b-434c-a906-60948265ff8f",
   "metadata": {},
   "outputs": [],
   "source": [
    "import sympy as sy\n",
    "from sympy import sympify as sfy\n",
    "from IPython import display\n",
    "from fractions import Fraction as R\n",
    "import itertools, functools"
   ]
  },
  {
   "cell_type": "code",
   "execution_count": 3,
   "id": "aa054ab3-a0e7-4dd9-b018-abce40b72e9f",
   "metadata": {},
   "outputs": [],
   "source": [
    "a,b,c,d,e,s,t,u,v,w,x,y,z,theta = sy.symbols('a,b,c,d,e,s,t,u,v,w,x,y,z,theta')"
   ]
  },
  {
   "cell_type": "code",
   "execution_count": 28,
   "id": "67e99872-df1c-4f44-a0dd-6fb3f7f5601c",
   "metadata": {
    "tags": []
   },
   "outputs": [],
   "source": [
    "def _generate_variable_value_pairs(variable, values):\n",
    "    return ((variable, value) for value in values)\n",
    "\n",
    "def _generate_variable_value_pair_lists(params):\n",
    "    return (_generate_variable_value_pairs(variable, values) for (variable, values) in params.items())\n",
    "\n",
    "def generate_args_lists(params):\n",
    "    return itertools.product(*_generate_variable_value_pair_lists(params))\n",
    "\n",
    "def _subs_one_item(ex, item):\n",
    "    return ex.subs(*item)\n",
    "\n",
    "def subs_items(ex, args_list):\n",
    "    return functools.reduce(\n",
    "        _subs_one_item,\n",
    "        args_list,\n",
    "        ex\n",
    "    )\n",
    "\n",
    "def extract_variables(args_list):\n",
    "    return (var for (var, val) in args_list)\n",
    "\n",
    "def extract_values(args_list):\n",
    "    return (val for (var, val) in args_list)\n",
    "\n",
    "def filter_args_lists(args_lists, filter_func = None):\n",
    "    if filter_func is None:\n",
    "        return args_lists\n",
    "    return filter(lambda args_list: filter_func(*extract_values(args_list)), args_lists)\n",
    "\n",
    "def get_params_script(\n",
    "    ex,\n",
    "    params,\n",
    "    show_vars = True, show_prob = True, show_sol = True,\n",
    "    filter_func = None,\n",
    "    pre_func = None, post_func = None\n",
    "):\n",
    "    if not (show_vars or show_prob or show_sol):\n",
    "        raise Exception(\"at least one of show_vars or show_prob or show_sol should be True\")\n",
    "    script_lines = []\n",
    "    variables = params.keys()\n",
    "    vars_str = f\",{','.join(str(var) for var in params.keys())}\" if show_vars else \"\"\n",
    "    prob_var_str = \",prob\" if show_prob else \"\"\n",
    "    sol_var_str = \",sol\" if show_sol else \"\"\n",
    "    params_str = f\"params{vars_str}{prob_var_str}{sol_var_str}\"\n",
    "    script_lines.append(f\"if (typeof params === 'undefined') {{ let {params_str}; }}\")\n",
    "    script_lines.append(\"params = [\")\n",
    "    for args_list in filter_args_lists(generate_args_lists(params), filter_func):\n",
    "        vals_str = f\"{','.join(str(val) for val in extract_values(args_list))},\" if show_vars else \"\"\n",
    "        prob = subs_items(ex, args_list)\n",
    "        prob = pre_func(prob) if pre_func else prob\n",
    "        prob_str = f\"String.raw`{sy.latex(prob)}`,\" if show_prob else \"\"\n",
    "        sol = prob.doit()\n",
    "        sol = post_func(sol) if post_func else sol\n",
    "        sol_str = f\"String.raw`{sy.latex(sol)}`,\" if show_sol else \"\"\n",
    "        script_lines.append(f\"  [{vals_str}{prob_str}{sol_str}],\")\n",
    "    script_lines.append(\"];\")\n",
    "    script_lines.append(\"//random_seed=0;\")\n",
    "    script_lines.append(f\"[{params_str.split(',',1)[-1]}] = params[random_seed % params.length];\")\n",
    "    return '\\n'.join(script_lines)"
   ]
  },
  {
   "cell_type": "markdown",
   "id": "9bc3cd97-8191-43a8-bc9c-4b7fc33d0e73",
   "metadata": {},
   "source": [
    "### Example params script:"
   ]
  },
  {
   "cell_type": "code",
   "execution_count": 310,
   "id": "b9b6d665-8dcc-4f1f-9f1c-055317396683",
   "metadata": {
    "tags": []
   },
   "outputs": [
    {
     "data": {
      "text/latex": [
       "$\\displaystyle \\int\\limits_{a}^{b} \\frac{1}{\\left(c - d x\\right)^{2}}\\, dx$"
      ],
      "text/plain": [
       "Integral((c - d*x)**(-2), (x, a, b))"
      ]
     },
     "execution_count": 310,
     "metadata": {},
     "output_type": "execute_result"
    }
   ],
   "source": [
    "ex = sy.Integral(1/(c - d*x)**2, (x, a, b))\n",
    "ex"
   ]
  },
  {
   "cell_type": "code",
   "execution_count": 313,
   "id": "e54032a8-42cb-47cc-a572-e32fc72cdc2c",
   "metadata": {
    "tags": []
   },
   "outputs": [],
   "source": [
    "params = {\n",
    "    a: range(4),\n",
    "    b: range(1,8),\n",
    "    c: range(1,4),\n",
    "    d: range(1,8),\n",
    "}"
   ]
  },
  {
   "cell_type": "code",
   "execution_count": 340,
   "id": "0accaed7-62cd-4fad-91c5-bdd2e8595cc4",
   "metadata": {
    "tags": []
   },
   "outputs": [],
   "source": [
    "filter_func = lambda a,b,c,d: (a<b) and (c<d)"
   ]
  },
  {
   "cell_type": "code",
   "execution_count": 10,
   "id": "083f80c1-916e-4d2f-be37-4ad8644b4f7a",
   "metadata": {
    "tags": []
   },
   "outputs": [
    {
     "ename": "NameError",
     "evalue": "name 'filter_func' is not defined",
     "output_type": "error",
     "traceback": [
      "\u001b[0;31m---------------------------------------------------------------------------\u001b[0m",
      "\u001b[0;31mNameError\u001b[0m                                 Traceback (most recent call last)",
      "Cell \u001b[0;32mIn[10], line 1\u001b[0m\n\u001b[0;32m----> 1\u001b[0m param_script \u001b[38;5;241m=\u001b[39m get_params_script(ex, params, \u001b[43mfilter_func\u001b[49m)\n",
      "\u001b[0;31mNameError\u001b[0m: name 'filter_func' is not defined"
     ]
    }
   ],
   "source": [
    "param_script = get_params_script(ex, params, filter_func)"
   ]
  },
  {
   "cell_type": "code",
   "execution_count": 346,
   "id": "9d7a1170-402c-4860-934f-a04dbf55dcb5",
   "metadata": {
    "collapsed": true,
    "jupyter": {
     "outputs_hidden": true
    },
    "tags": []
   },
   "outputs": [
    {
     "name": "stdout",
     "output_type": "stream",
     "text": [
      "if (typeof params === 'undefined') { let params,a,b,c,d,prob,sol; }\n",
      "params = [\n",
      "  [0,1,1,1,String.raw`\\int\\limits_{0}^{1} \\frac{1}{\\left(1 - x\\right)^{2}}\\, dx`,String.raw`\\infty`,],\n",
      "  [0,1,1,2,String.raw`\\int\\limits_{0}^{1} \\frac{1}{\\left(1 - 2 x\\right)^{2}}\\, dx`,String.raw`\\infty`,],\n",
      "  [0,1,1,3,String.raw`\\int\\limits_{0}^{1} \\frac{1}{\\left(1 - 3 x\\right)^{2}}\\, dx`,String.raw`\\infty`,],\n",
      "  [0,1,1,4,String.raw`\\int\\limits_{0}^{1} \\frac{1}{\\left(1 - 4 x\\right)^{2}}\\, dx`,String.raw`\\infty`,],\n",
      "  [0,1,1,5,String.raw`\\int\\limits_{0}^{1} \\frac{1}{\\left(1 - 5 x\\right)^{2}}\\, dx`,String.raw`\\infty`,],\n",
      "  [0,1,1,6,String.raw`\\int\\limits_{0}^{1} \\frac{1}{\\left(1 - 6 x\\right)^{2}}\\, dx`,String.raw`\\infty`,],\n",
      "  [0,1,1,7,String.raw`\\int\\limits_{0}^{1} \\frac{1}{\\left(1 - 7 x\\right)^{2}}\\, dx`,String.raw`\\infty`,],\n",
      "  [0,1,2,1,String.raw`\\int\\limits_{0}^{1} \\frac{1}{\\left(2 - x\\right)^{2}}\\, dx`,String.raw`\\frac{1}{2}`,],\n",
      "  [0,1,2,2,String.raw`\\int\\limits_{0}^{1} \\frac{1}{\\left(2 - 2 x\\right)^{2}}\\, dx`,String.raw`\\infty`,],\n",
      "  [0,1,2,3,String.raw`\\int\\limits_{0}^{1} \\frac{1}{\\left(2 - 3 x\\right)^{2}}\\, dx`,String.raw`\\infty`,],\n",
      "  [0,1,2,4,String.raw`\\int\\limits_{0}^{1} \\frac{1}{\\left(2 - 4 x\\right)^{2}}\\, dx`,String.raw`\\infty`,],\n",
      "  [0,1,2,5,String.raw`\\int\\limits_{0}^{1} \\frac{1}{\\left(2 - 5 x\\right)^{2}}\\, dx`,String.raw`\\infty`,],\n",
      "  [0,1,2,6,String.raw`\\int\\limits_{0}^{1} \\frac{1}{\\left(2 - 6 x\\right)^{2}}\\, dx`,String.raw`\\infty`,],\n",
      "  [0,1,2,7,String.raw`\\int\\limits_{0}^{1} \\frac{1}{\\left(2 - 7 x\\right)^{2}}\\, dx`,String.raw`\\infty`,],\n",
      "  [0,1,3,1,String.raw`\\int\\limits_{0}^{1} \\frac{1}{\\left(3 - x\\right)^{2}}\\, dx`,String.raw`\\frac{1}{6}`,],\n",
      "  [0,1,3,2,String.raw`\\int\\limits_{0}^{1} \\frac{1}{\\left(3 - 2 x\\right)^{2}}\\, dx`,String.raw`\\frac{1}{3}`,],\n",
      "  [0,1,3,3,String.raw`\\int\\limits_{0}^{1} \\frac{1}{\\left(3 - 3 x\\right)^{2}}\\, dx`,String.raw`\\infty`,],\n",
      "  [0,1,3,4,String.raw`\\int\\limits_{0}^{1} \\frac{1}{\\left(3 - 4 x\\right)^{2}}\\, dx`,String.raw`\\infty`,],\n",
      "  [0,1,3,5,String.raw`\\int\\limits_{0}^{1} \\frac{1}{\\left(3 - 5 x\\right)^{2}}\\, dx`,String.raw`\\infty`,],\n",
      "  [0,1,3,6,String.raw`\\int\\limits_{0}^{1} \\frac{1}{\\left(3 - 6 x\\right)^{2}}\\, dx`,String.raw`\\infty`,],\n",
      "  [0,1,3,7,String.raw`\\int\\limits_{0}^{1} \\frac{1}{\\left(3 - 7 x\\right)^{2}}\\, dx`,String.raw`\\infty`,],\n",
      "  [0,2,1,1,String.raw`\\int\\limits_{0}^{2} \\frac{1}{\\left(1 - x\\right)^{2}}\\, dx`,String.raw`\\infty`,],\n",
      "  [0,2,1,2,String.raw`\\int\\limits_{0}^{2} \\frac{1}{\\left(1 - 2 x\\right)^{2}}\\, dx`,String.raw`\\infty`,],\n",
      "  [0,2,1,3,String.raw`\\int\\limits_{0}^{2} \\frac{1}{\\left(1 - 3 x\\right)^{2}}\\, dx`,String.raw`\\infty`,],\n",
      "  [0,2,1,4,String.raw`\\int\\limits_{0}^{2} \\frac{1}{\\left(1 - 4 x\\right)^{2}}\\, dx`,String.raw`\\infty`,],\n",
      "  [0,2,1,5,String.raw`\\int\\limits_{0}^{2} \\frac{1}{\\left(1 - 5 x\\right)^{2}}\\, dx`,String.raw`\\infty`,],\n",
      "  [0,2,1,6,String.raw`\\int\\limits_{0}^{2} \\frac{1}{\\left(1 - 6 x\\right)^{2}}\\, dx`,String.raw`\\infty`,],\n",
      "  [0,2,1,7,String.raw`\\int\\limits_{0}^{2} \\frac{1}{\\left(1 - 7 x\\right)^{2}}\\, dx`,String.raw`\\infty`,],\n",
      "  [0,2,2,1,String.raw`\\int\\limits_{0}^{2} \\frac{1}{\\left(2 - x\\right)^{2}}\\, dx`,String.raw`\\infty`,],\n",
      "  [0,2,2,2,String.raw`\\int\\limits_{0}^{2} \\frac{1}{\\left(2 - 2 x\\right)^{2}}\\, dx`,String.raw`\\infty`,],\n",
      "  [0,2,2,3,String.raw`\\int\\limits_{0}^{2} \\frac{1}{\\left(2 - 3 x\\right)^{2}}\\, dx`,String.raw`\\infty`,],\n",
      "  [0,2,2,4,String.raw`\\int\\limits_{0}^{2} \\frac{1}{\\left(2 - 4 x\\right)^{2}}\\, dx`,String.raw`\\infty`,],\n",
      "  [0,2,2,5,String.raw`\\int\\limits_{0}^{2} \\frac{1}{\\left(2 - 5 x\\right)^{2}}\\, dx`,String.raw`\\infty`,],\n",
      "  [0,2,2,6,String.raw`\\int\\limits_{0}^{2} \\frac{1}{\\left(2 - 6 x\\right)^{2}}\\, dx`,String.raw`\\infty`,],\n",
      "  [0,2,2,7,String.raw`\\int\\limits_{0}^{2} \\frac{1}{\\left(2 - 7 x\\right)^{2}}\\, dx`,String.raw`\\infty`,],\n",
      "  [0,2,3,1,String.raw`\\int\\limits_{0}^{2} \\frac{1}{\\left(3 - x\\right)^{2}}\\, dx`,String.raw`\\frac{2}{3}`,],\n",
      "  [0,2,3,2,String.raw`\\int\\limits_{0}^{2} \\frac{1}{\\left(3 - 2 x\\right)^{2}}\\, dx`,String.raw`\\infty`,],\n",
      "  [0,2,3,3,String.raw`\\int\\limits_{0}^{2} \\frac{1}{\\left(3 - 3 x\\right)^{2}}\\, dx`,String.raw`\\infty`,],\n",
      "  [0,2,3,4,String.raw`\\int\\limits_{0}^{2} \\frac{1}{\\left(3 - 4 x\\right)^{2}}\\, dx`,String.raw`\\infty`,],\n",
      "  [0,2,3,5,String.raw`\\int\\limits_{0}^{2} \\frac{1}{\\left(3 - 5 x\\right)^{2}}\\, dx`,String.raw`\\infty`,],\n",
      "  [0,2,3,6,String.raw`\\int\\limits_{0}^{2} \\frac{1}{\\left(3 - 6 x\\right)^{2}}\\, dx`,String.raw`\\infty`,],\n",
      "  [0,2,3,7,String.raw`\\int\\limits_{0}^{2} \\frac{1}{\\left(3 - 7 x\\right)^{2}}\\, dx`,String.raw`\\infty`,],\n",
      "  [0,3,1,1,String.raw`\\int\\limits_{0}^{3} \\frac{1}{\\left(1 - x\\right)^{2}}\\, dx`,String.raw`\\infty`,],\n",
      "  [0,3,1,2,String.raw`\\int\\limits_{0}^{3} \\frac{1}{\\left(1 - 2 x\\right)^{2}}\\, dx`,String.raw`\\infty`,],\n",
      "  [0,3,1,3,String.raw`\\int\\limits_{0}^{3} \\frac{1}{\\left(1 - 3 x\\right)^{2}}\\, dx`,String.raw`\\infty`,],\n",
      "  [0,3,1,4,String.raw`\\int\\limits_{0}^{3} \\frac{1}{\\left(1 - 4 x\\right)^{2}}\\, dx`,String.raw`\\infty`,],\n",
      "  [0,3,1,5,String.raw`\\int\\limits_{0}^{3} \\frac{1}{\\left(1 - 5 x\\right)^{2}}\\, dx`,String.raw`\\infty`,],\n",
      "  [0,3,1,6,String.raw`\\int\\limits_{0}^{3} \\frac{1}{\\left(1 - 6 x\\right)^{2}}\\, dx`,String.raw`\\infty`,],\n",
      "  [0,3,1,7,String.raw`\\int\\limits_{0}^{3} \\frac{1}{\\left(1 - 7 x\\right)^{2}}\\, dx`,String.raw`\\infty`,],\n",
      "  [0,3,2,1,String.raw`\\int\\limits_{0}^{3} \\frac{1}{\\left(2 - x\\right)^{2}}\\, dx`,String.raw`\\infty`,],\n",
      "  [0,3,2,2,String.raw`\\int\\limits_{0}^{3} \\frac{1}{\\left(2 - 2 x\\right)^{2}}\\, dx`,String.raw`\\infty`,],\n",
      "  [0,3,2,3,String.raw`\\int\\limits_{0}^{3} \\frac{1}{\\left(2 - 3 x\\right)^{2}}\\, dx`,String.raw`\\infty`,],\n",
      "  [0,3,2,4,String.raw`\\int\\limits_{0}^{3} \\frac{1}{\\left(2 - 4 x\\right)^{2}}\\, dx`,String.raw`\\infty`,],\n",
      "  [0,3,2,5,String.raw`\\int\\limits_{0}^{3} \\frac{1}{\\left(2 - 5 x\\right)^{2}}\\, dx`,String.raw`\\infty`,],\n",
      "  [0,3,2,6,String.raw`\\int\\limits_{0}^{3} \\frac{1}{\\left(2 - 6 x\\right)^{2}}\\, dx`,String.raw`\\infty`,],\n",
      "  [0,3,2,7,String.raw`\\int\\limits_{0}^{3} \\frac{1}{\\left(2 - 7 x\\right)^{2}}\\, dx`,String.raw`\\infty`,],\n",
      "  [0,3,3,1,String.raw`\\int\\limits_{0}^{3} \\frac{1}{\\left(3 - x\\right)^{2}}\\, dx`,String.raw`\\infty`,],\n",
      "  [0,3,3,2,String.raw`\\int\\limits_{0}^{3} \\frac{1}{\\left(3 - 2 x\\right)^{2}}\\, dx`,String.raw`\\infty`,],\n",
      "  [0,3,3,3,String.raw`\\int\\limits_{0}^{3} \\frac{1}{\\left(3 - 3 x\\right)^{2}}\\, dx`,String.raw`\\infty`,],\n",
      "  [0,3,3,4,String.raw`\\int\\limits_{0}^{3} \\frac{1}{\\left(3 - 4 x\\right)^{2}}\\, dx`,String.raw`\\infty`,],\n",
      "  [0,3,3,5,String.raw`\\int\\limits_{0}^{3} \\frac{1}{\\left(3 - 5 x\\right)^{2}}\\, dx`,String.raw`\\infty`,],\n",
      "  [0,3,3,6,String.raw`\\int\\limits_{0}^{3} \\frac{1}{\\left(3 - 6 x\\right)^{2}}\\, dx`,String.raw`\\infty`,],\n",
      "  [0,3,3,7,String.raw`\\int\\limits_{0}^{3} \\frac{1}{\\left(3 - 7 x\\right)^{2}}\\, dx`,String.raw`\\infty`,],\n",
      "  [0,4,1,1,String.raw`\\int\\limits_{0}^{4} \\frac{1}{\\left(1 - x\\right)^{2}}\\, dx`,String.raw`\\infty`,],\n",
      "  [0,4,1,2,String.raw`\\int\\limits_{0}^{4} \\frac{1}{\\left(1 - 2 x\\right)^{2}}\\, dx`,String.raw`\\infty`,],\n",
      "  [0,4,1,3,String.raw`\\int\\limits_{0}^{4} \\frac{1}{\\left(1 - 3 x\\right)^{2}}\\, dx`,String.raw`\\infty`,],\n",
      "  [0,4,1,4,String.raw`\\int\\limits_{0}^{4} \\frac{1}{\\left(1 - 4 x\\right)^{2}}\\, dx`,String.raw`\\infty`,],\n",
      "  [0,4,1,5,String.raw`\\int\\limits_{0}^{4} \\frac{1}{\\left(1 - 5 x\\right)^{2}}\\, dx`,String.raw`\\infty`,],\n",
      "  [0,4,1,6,String.raw`\\int\\limits_{0}^{4} \\frac{1}{\\left(1 - 6 x\\right)^{2}}\\, dx`,String.raw`\\infty`,],\n",
      "  [0,4,1,7,String.raw`\\int\\limits_{0}^{4} \\frac{1}{\\left(1 - 7 x\\right)^{2}}\\, dx`,String.raw`\\infty`,],\n",
      "  [0,4,2,1,String.raw`\\int\\limits_{0}^{4} \\frac{1}{\\left(2 - x\\right)^{2}}\\, dx`,String.raw`\\infty`,],\n",
      "  [0,4,2,2,String.raw`\\int\\limits_{0}^{4} \\frac{1}{\\left(2 - 2 x\\right)^{2}}\\, dx`,String.raw`\\infty`,],\n",
      "  [0,4,2,3,String.raw`\\int\\limits_{0}^{4} \\frac{1}{\\left(2 - 3 x\\right)^{2}}\\, dx`,String.raw`\\infty`,],\n",
      "  [0,4,2,4,String.raw`\\int\\limits_{0}^{4} \\frac{1}{\\left(2 - 4 x\\right)^{2}}\\, dx`,String.raw`\\infty`,],\n",
      "  [0,4,2,5,String.raw`\\int\\limits_{0}^{4} \\frac{1}{\\left(2 - 5 x\\right)^{2}}\\, dx`,String.raw`\\infty`,],\n",
      "  [0,4,2,6,String.raw`\\int\\limits_{0}^{4} \\frac{1}{\\left(2 - 6 x\\right)^{2}}\\, dx`,String.raw`\\infty`,],\n",
      "  [0,4,2,7,String.raw`\\int\\limits_{0}^{4} \\frac{1}{\\left(2 - 7 x\\right)^{2}}\\, dx`,String.raw`\\infty`,],\n",
      "  [0,4,3,1,String.raw`\\int\\limits_{0}^{4} \\frac{1}{\\left(3 - x\\right)^{2}}\\, dx`,String.raw`\\infty`,],\n",
      "  [0,4,3,2,String.raw`\\int\\limits_{0}^{4} \\frac{1}{\\left(3 - 2 x\\right)^{2}}\\, dx`,String.raw`\\infty`,],\n",
      "  [0,4,3,3,String.raw`\\int\\limits_{0}^{4} \\frac{1}{\\left(3 - 3 x\\right)^{2}}\\, dx`,String.raw`\\infty`,],\n",
      "  [0,4,3,4,String.raw`\\int\\limits_{0}^{4} \\frac{1}{\\left(3 - 4 x\\right)^{2}}\\, dx`,String.raw`\\infty`,],\n",
      "  [0,4,3,5,String.raw`\\int\\limits_{0}^{4} \\frac{1}{\\left(3 - 5 x\\right)^{2}}\\, dx`,String.raw`\\infty`,],\n",
      "  [0,4,3,6,String.raw`\\int\\limits_{0}^{4} \\frac{1}{\\left(3 - 6 x\\right)^{2}}\\, dx`,String.raw`\\infty`,],\n",
      "  [0,4,3,7,String.raw`\\int\\limits_{0}^{4} \\frac{1}{\\left(3 - 7 x\\right)^{2}}\\, dx`,String.raw`\\infty`,],\n",
      "  [0,5,1,1,String.raw`\\int\\limits_{0}^{5} \\frac{1}{\\left(1 - x\\right)^{2}}\\, dx`,String.raw`\\infty`,],\n",
      "  [0,5,1,2,String.raw`\\int\\limits_{0}^{5} \\frac{1}{\\left(1 - 2 x\\right)^{2}}\\, dx`,String.raw`\\infty`,],\n",
      "  [0,5,1,3,String.raw`\\int\\limits_{0}^{5} \\frac{1}{\\left(1 - 3 x\\right)^{2}}\\, dx`,String.raw`\\infty`,],\n",
      "  [0,5,1,4,String.raw`\\int\\limits_{0}^{5} \\frac{1}{\\left(1 - 4 x\\right)^{2}}\\, dx`,String.raw`\\infty`,],\n",
      "  [0,5,1,5,String.raw`\\int\\limits_{0}^{5} \\frac{1}{\\left(1 - 5 x\\right)^{2}}\\, dx`,String.raw`\\infty`,],\n",
      "  [0,5,1,6,String.raw`\\int\\limits_{0}^{5} \\frac{1}{\\left(1 - 6 x\\right)^{2}}\\, dx`,String.raw`\\infty`,],\n",
      "  [0,5,1,7,String.raw`\\int\\limits_{0}^{5} \\frac{1}{\\left(1 - 7 x\\right)^{2}}\\, dx`,String.raw`\\infty`,],\n",
      "  [0,5,2,1,String.raw`\\int\\limits_{0}^{5} \\frac{1}{\\left(2 - x\\right)^{2}}\\, dx`,String.raw`\\infty`,],\n",
      "  [0,5,2,2,String.raw`\\int\\limits_{0}^{5} \\frac{1}{\\left(2 - 2 x\\right)^{2}}\\, dx`,String.raw`\\infty`,],\n",
      "  [0,5,2,3,String.raw`\\int\\limits_{0}^{5} \\frac{1}{\\left(2 - 3 x\\right)^{2}}\\, dx`,String.raw`\\infty`,],\n",
      "  [0,5,2,4,String.raw`\\int\\limits_{0}^{5} \\frac{1}{\\left(2 - 4 x\\right)^{2}}\\, dx`,String.raw`\\infty`,],\n",
      "  [0,5,2,5,String.raw`\\int\\limits_{0}^{5} \\frac{1}{\\left(2 - 5 x\\right)^{2}}\\, dx`,String.raw`\\infty`,],\n",
      "  [0,5,2,6,String.raw`\\int\\limits_{0}^{5} \\frac{1}{\\left(2 - 6 x\\right)^{2}}\\, dx`,String.raw`\\infty`,],\n",
      "  [0,5,2,7,String.raw`\\int\\limits_{0}^{5} \\frac{1}{\\left(2 - 7 x\\right)^{2}}\\, dx`,String.raw`\\infty`,],\n",
      "  [0,5,3,1,String.raw`\\int\\limits_{0}^{5} \\frac{1}{\\left(3 - x\\right)^{2}}\\, dx`,String.raw`\\infty`,],\n",
      "  [0,5,3,2,String.raw`\\int\\limits_{0}^{5} \\frac{1}{\\left(3 - 2 x\\right)^{2}}\\, dx`,String.raw`\\infty`,],\n",
      "  [0,5,3,3,String.raw`\\int\\limits_{0}^{5} \\frac{1}{\\left(3 - 3 x\\right)^{2}}\\, dx`,String.raw`\\infty`,],\n",
      "  [0,5,3,4,String.raw`\\int\\limits_{0}^{5} \\frac{1}{\\left(3 - 4 x\\right)^{2}}\\, dx`,String.raw`\\infty`,],\n",
      "  [0,5,3,5,String.raw`\\int\\limits_{0}^{5} \\frac{1}{\\left(3 - 5 x\\right)^{2}}\\, dx`,String.raw`\\infty`,],\n",
      "  [0,5,3,6,String.raw`\\int\\limits_{0}^{5} \\frac{1}{\\left(3 - 6 x\\right)^{2}}\\, dx`,String.raw`\\infty`,],\n",
      "  [0,5,3,7,String.raw`\\int\\limits_{0}^{5} \\frac{1}{\\left(3 - 7 x\\right)^{2}}\\, dx`,String.raw`\\infty`,],\n",
      "  [0,6,1,1,String.raw`\\int\\limits_{0}^{6} \\frac{1}{\\left(1 - x\\right)^{2}}\\, dx`,String.raw`\\infty`,],\n",
      "  [0,6,1,2,String.raw`\\int\\limits_{0}^{6} \\frac{1}{\\left(1 - 2 x\\right)^{2}}\\, dx`,String.raw`\\infty`,],\n",
      "  [0,6,1,3,String.raw`\\int\\limits_{0}^{6} \\frac{1}{\\left(1 - 3 x\\right)^{2}}\\, dx`,String.raw`\\infty`,],\n",
      "  [0,6,1,4,String.raw`\\int\\limits_{0}^{6} \\frac{1}{\\left(1 - 4 x\\right)^{2}}\\, dx`,String.raw`\\infty`,],\n",
      "  [0,6,1,5,String.raw`\\int\\limits_{0}^{6} \\frac{1}{\\left(1 - 5 x\\right)^{2}}\\, dx`,String.raw`\\infty`,],\n",
      "  [0,6,1,6,String.raw`\\int\\limits_{0}^{6} \\frac{1}{\\left(1 - 6 x\\right)^{2}}\\, dx`,String.raw`\\infty`,],\n",
      "  [0,6,1,7,String.raw`\\int\\limits_{0}^{6} \\frac{1}{\\left(1 - 7 x\\right)^{2}}\\, dx`,String.raw`\\infty`,],\n",
      "  [0,6,2,1,String.raw`\\int\\limits_{0}^{6} \\frac{1}{\\left(2 - x\\right)^{2}}\\, dx`,String.raw`\\infty`,],\n",
      "  [0,6,2,2,String.raw`\\int\\limits_{0}^{6} \\frac{1}{\\left(2 - 2 x\\right)^{2}}\\, dx`,String.raw`\\infty`,],\n",
      "  [0,6,2,3,String.raw`\\int\\limits_{0}^{6} \\frac{1}{\\left(2 - 3 x\\right)^{2}}\\, dx`,String.raw`\\infty`,],\n",
      "  [0,6,2,4,String.raw`\\int\\limits_{0}^{6} \\frac{1}{\\left(2 - 4 x\\right)^{2}}\\, dx`,String.raw`\\infty`,],\n",
      "  [0,6,2,5,String.raw`\\int\\limits_{0}^{6} \\frac{1}{\\left(2 - 5 x\\right)^{2}}\\, dx`,String.raw`\\infty`,],\n",
      "  [0,6,2,6,String.raw`\\int\\limits_{0}^{6} \\frac{1}{\\left(2 - 6 x\\right)^{2}}\\, dx`,String.raw`\\infty`,],\n",
      "  [0,6,2,7,String.raw`\\int\\limits_{0}^{6} \\frac{1}{\\left(2 - 7 x\\right)^{2}}\\, dx`,String.raw`\\infty`,],\n",
      "  [0,6,3,1,String.raw`\\int\\limits_{0}^{6} \\frac{1}{\\left(3 - x\\right)^{2}}\\, dx`,String.raw`\\infty`,],\n",
      "  [0,6,3,2,String.raw`\\int\\limits_{0}^{6} \\frac{1}{\\left(3 - 2 x\\right)^{2}}\\, dx`,String.raw`\\infty`,],\n",
      "  [0,6,3,3,String.raw`\\int\\limits_{0}^{6} \\frac{1}{\\left(3 - 3 x\\right)^{2}}\\, dx`,String.raw`\\infty`,],\n",
      "  [0,6,3,4,String.raw`\\int\\limits_{0}^{6} \\frac{1}{\\left(3 - 4 x\\right)^{2}}\\, dx`,String.raw`\\infty`,],\n",
      "  [0,6,3,5,String.raw`\\int\\limits_{0}^{6} \\frac{1}{\\left(3 - 5 x\\right)^{2}}\\, dx`,String.raw`\\infty`,],\n",
      "  [0,6,3,6,String.raw`\\int\\limits_{0}^{6} \\frac{1}{\\left(3 - 6 x\\right)^{2}}\\, dx`,String.raw`\\infty`,],\n",
      "  [0,6,3,7,String.raw`\\int\\limits_{0}^{6} \\frac{1}{\\left(3 - 7 x\\right)^{2}}\\, dx`,String.raw`\\infty`,],\n",
      "  [0,7,1,1,String.raw`\\int\\limits_{0}^{7} \\frac{1}{\\left(1 - x\\right)^{2}}\\, dx`,String.raw`\\infty`,],\n",
      "  [0,7,1,2,String.raw`\\int\\limits_{0}^{7} \\frac{1}{\\left(1 - 2 x\\right)^{2}}\\, dx`,String.raw`\\infty`,],\n",
      "  [0,7,1,3,String.raw`\\int\\limits_{0}^{7} \\frac{1}{\\left(1 - 3 x\\right)^{2}}\\, dx`,String.raw`\\infty`,],\n",
      "  [0,7,1,4,String.raw`\\int\\limits_{0}^{7} \\frac{1}{\\left(1 - 4 x\\right)^{2}}\\, dx`,String.raw`\\infty`,],\n",
      "  [0,7,1,5,String.raw`\\int\\limits_{0}^{7} \\frac{1}{\\left(1 - 5 x\\right)^{2}}\\, dx`,String.raw`\\infty`,],\n",
      "  [0,7,1,6,String.raw`\\int\\limits_{0}^{7} \\frac{1}{\\left(1 - 6 x\\right)^{2}}\\, dx`,String.raw`\\infty`,],\n",
      "  [0,7,1,7,String.raw`\\int\\limits_{0}^{7} \\frac{1}{\\left(1 - 7 x\\right)^{2}}\\, dx`,String.raw`\\infty`,],\n",
      "  [0,7,2,1,String.raw`\\int\\limits_{0}^{7} \\frac{1}{\\left(2 - x\\right)^{2}}\\, dx`,String.raw`\\infty`,],\n",
      "  [0,7,2,2,String.raw`\\int\\limits_{0}^{7} \\frac{1}{\\left(2 - 2 x\\right)^{2}}\\, dx`,String.raw`\\infty`,],\n",
      "  [0,7,2,3,String.raw`\\int\\limits_{0}^{7} \\frac{1}{\\left(2 - 3 x\\right)^{2}}\\, dx`,String.raw`\\infty`,],\n",
      "  [0,7,2,4,String.raw`\\int\\limits_{0}^{7} \\frac{1}{\\left(2 - 4 x\\right)^{2}}\\, dx`,String.raw`\\infty`,],\n",
      "  [0,7,2,5,String.raw`\\int\\limits_{0}^{7} \\frac{1}{\\left(2 - 5 x\\right)^{2}}\\, dx`,String.raw`\\infty`,],\n",
      "  [0,7,2,6,String.raw`\\int\\limits_{0}^{7} \\frac{1}{\\left(2 - 6 x\\right)^{2}}\\, dx`,String.raw`\\infty`,],\n",
      "  [0,7,2,7,String.raw`\\int\\limits_{0}^{7} \\frac{1}{\\left(2 - 7 x\\right)^{2}}\\, dx`,String.raw`\\infty`,],\n",
      "  [0,7,3,1,String.raw`\\int\\limits_{0}^{7} \\frac{1}{\\left(3 - x\\right)^{2}}\\, dx`,String.raw`\\infty`,],\n",
      "  [0,7,3,2,String.raw`\\int\\limits_{0}^{7} \\frac{1}{\\left(3 - 2 x\\right)^{2}}\\, dx`,String.raw`\\infty`,],\n",
      "  [0,7,3,3,String.raw`\\int\\limits_{0}^{7} \\frac{1}{\\left(3 - 3 x\\right)^{2}}\\, dx`,String.raw`\\infty`,],\n",
      "  [0,7,3,4,String.raw`\\int\\limits_{0}^{7} \\frac{1}{\\left(3 - 4 x\\right)^{2}}\\, dx`,String.raw`\\infty`,],\n",
      "  [0,7,3,5,String.raw`\\int\\limits_{0}^{7} \\frac{1}{\\left(3 - 5 x\\right)^{2}}\\, dx`,String.raw`\\infty`,],\n",
      "  [0,7,3,6,String.raw`\\int\\limits_{0}^{7} \\frac{1}{\\left(3 - 6 x\\right)^{2}}\\, dx`,String.raw`\\infty`,],\n",
      "  [0,7,3,7,String.raw`\\int\\limits_{0}^{7} \\frac{1}{\\left(3 - 7 x\\right)^{2}}\\, dx`,String.raw`\\infty`,],\n",
      "  [1,1,1,1,String.raw`\\int\\limits_{1}^{1} \\frac{1}{\\left(1 - x\\right)^{2}}\\, dx`,String.raw`0`,],\n",
      "  [1,1,1,2,String.raw`\\int\\limits_{1}^{1} \\frac{1}{\\left(1 - 2 x\\right)^{2}}\\, dx`,String.raw`0`,],\n",
      "  [1,1,1,3,String.raw`\\int\\limits_{1}^{1} \\frac{1}{\\left(1 - 3 x\\right)^{2}}\\, dx`,String.raw`0`,],\n",
      "  [1,1,1,4,String.raw`\\int\\limits_{1}^{1} \\frac{1}{\\left(1 - 4 x\\right)^{2}}\\, dx`,String.raw`0`,],\n",
      "  [1,1,1,5,String.raw`\\int\\limits_{1}^{1} \\frac{1}{\\left(1 - 5 x\\right)^{2}}\\, dx`,String.raw`0`,],\n",
      "  [1,1,1,6,String.raw`\\int\\limits_{1}^{1} \\frac{1}{\\left(1 - 6 x\\right)^{2}}\\, dx`,String.raw`0`,],\n",
      "  [1,1,1,7,String.raw`\\int\\limits_{1}^{1} \\frac{1}{\\left(1 - 7 x\\right)^{2}}\\, dx`,String.raw`0`,],\n",
      "  [1,1,2,1,String.raw`\\int\\limits_{1}^{1} \\frac{1}{\\left(2 - x\\right)^{2}}\\, dx`,String.raw`0`,],\n",
      "  [1,1,2,2,String.raw`\\int\\limits_{1}^{1} \\frac{1}{\\left(2 - 2 x\\right)^{2}}\\, dx`,String.raw`0`,],\n",
      "  [1,1,2,3,String.raw`\\int\\limits_{1}^{1} \\frac{1}{\\left(2 - 3 x\\right)^{2}}\\, dx`,String.raw`0`,],\n",
      "  [1,1,2,4,String.raw`\\int\\limits_{1}^{1} \\frac{1}{\\left(2 - 4 x\\right)^{2}}\\, dx`,String.raw`0`,],\n",
      "  [1,1,2,5,String.raw`\\int\\limits_{1}^{1} \\frac{1}{\\left(2 - 5 x\\right)^{2}}\\, dx`,String.raw`0`,],\n",
      "  [1,1,2,6,String.raw`\\int\\limits_{1}^{1} \\frac{1}{\\left(2 - 6 x\\right)^{2}}\\, dx`,String.raw`0`,],\n",
      "  [1,1,2,7,String.raw`\\int\\limits_{1}^{1} \\frac{1}{\\left(2 - 7 x\\right)^{2}}\\, dx`,String.raw`0`,],\n",
      "  [1,1,3,1,String.raw`\\int\\limits_{1}^{1} \\frac{1}{\\left(3 - x\\right)^{2}}\\, dx`,String.raw`0`,],\n",
      "  [1,1,3,2,String.raw`\\int\\limits_{1}^{1} \\frac{1}{\\left(3 - 2 x\\right)^{2}}\\, dx`,String.raw`0`,],\n",
      "  [1,1,3,3,String.raw`\\int\\limits_{1}^{1} \\frac{1}{\\left(3 - 3 x\\right)^{2}}\\, dx`,String.raw`0`,],\n",
      "  [1,1,3,4,String.raw`\\int\\limits_{1}^{1} \\frac{1}{\\left(3 - 4 x\\right)^{2}}\\, dx`,String.raw`0`,],\n",
      "  [1,1,3,5,String.raw`\\int\\limits_{1}^{1} \\frac{1}{\\left(3 - 5 x\\right)^{2}}\\, dx`,String.raw`0`,],\n",
      "  [1,1,3,6,String.raw`\\int\\limits_{1}^{1} \\frac{1}{\\left(3 - 6 x\\right)^{2}}\\, dx`,String.raw`0`,],\n",
      "  [1,1,3,7,String.raw`\\int\\limits_{1}^{1} \\frac{1}{\\left(3 - 7 x\\right)^{2}}\\, dx`,String.raw`0`,],\n",
      "  [1,2,1,1,String.raw`\\int\\limits_{1}^{2} \\frac{1}{\\left(1 - x\\right)^{2}}\\, dx`,String.raw`\\infty`,],\n",
      "  [1,2,1,2,String.raw`\\int\\limits_{1}^{2} \\frac{1}{\\left(1 - 2 x\\right)^{2}}\\, dx`,String.raw`\\frac{1}{3}`,],\n",
      "  [1,2,1,3,String.raw`\\int\\limits_{1}^{2} \\frac{1}{\\left(1 - 3 x\\right)^{2}}\\, dx`,String.raw`\\frac{1}{10}`,],\n",
      "  [1,2,1,4,String.raw`\\int\\limits_{1}^{2} \\frac{1}{\\left(1 - 4 x\\right)^{2}}\\, dx`,String.raw`\\frac{1}{21}`,],\n",
      "  [1,2,1,5,String.raw`\\int\\limits_{1}^{2} \\frac{1}{\\left(1 - 5 x\\right)^{2}}\\, dx`,String.raw`\\frac{1}{36}`,],\n",
      "  [1,2,1,6,String.raw`\\int\\limits_{1}^{2} \\frac{1}{\\left(1 - 6 x\\right)^{2}}\\, dx`,String.raw`\\frac{1}{55}`,],\n",
      "  [1,2,1,7,String.raw`\\int\\limits_{1}^{2} \\frac{1}{\\left(1 - 7 x\\right)^{2}}\\, dx`,String.raw`\\frac{1}{78}`,],\n",
      "  [1,2,2,1,String.raw`\\int\\limits_{1}^{2} \\frac{1}{\\left(2 - x\\right)^{2}}\\, dx`,String.raw`\\infty`,],\n",
      "  [1,2,2,2,String.raw`\\int\\limits_{1}^{2} \\frac{1}{\\left(2 - 2 x\\right)^{2}}\\, dx`,String.raw`\\infty`,],\n",
      "  [1,2,2,3,String.raw`\\int\\limits_{1}^{2} \\frac{1}{\\left(2 - 3 x\\right)^{2}}\\, dx`,String.raw`\\frac{1}{4}`,],\n",
      "  [1,2,2,4,String.raw`\\int\\limits_{1}^{2} \\frac{1}{\\left(2 - 4 x\\right)^{2}}\\, dx`,String.raw`\\frac{1}{12}`,],\n",
      "  [1,2,2,5,String.raw`\\int\\limits_{1}^{2} \\frac{1}{\\left(2 - 5 x\\right)^{2}}\\, dx`,String.raw`\\frac{1}{24}`,],\n",
      "  [1,2,2,6,String.raw`\\int\\limits_{1}^{2} \\frac{1}{\\left(2 - 6 x\\right)^{2}}\\, dx`,String.raw`\\frac{1}{40}`,],\n",
      "  [1,2,2,7,String.raw`\\int\\limits_{1}^{2} \\frac{1}{\\left(2 - 7 x\\right)^{2}}\\, dx`,String.raw`\\frac{1}{60}`,],\n",
      "  [1,2,3,1,String.raw`\\int\\limits_{1}^{2} \\frac{1}{\\left(3 - x\\right)^{2}}\\, dx`,String.raw`\\frac{1}{2}`,],\n",
      "  [1,2,3,2,String.raw`\\int\\limits_{1}^{2} \\frac{1}{\\left(3 - 2 x\\right)^{2}}\\, dx`,String.raw`\\infty`,],\n",
      "  [1,2,3,3,String.raw`\\int\\limits_{1}^{2} \\frac{1}{\\left(3 - 3 x\\right)^{2}}\\, dx`,String.raw`\\infty`,],\n",
      "  [1,2,3,4,String.raw`\\int\\limits_{1}^{2} \\frac{1}{\\left(3 - 4 x\\right)^{2}}\\, dx`,String.raw`\\frac{1}{5}`,],\n",
      "  [1,2,3,5,String.raw`\\int\\limits_{1}^{2} \\frac{1}{\\left(3 - 5 x\\right)^{2}}\\, dx`,String.raw`\\frac{1}{14}`,],\n",
      "  [1,2,3,6,String.raw`\\int\\limits_{1}^{2} \\frac{1}{\\left(3 - 6 x\\right)^{2}}\\, dx`,String.raw`\\frac{1}{27}`,],\n",
      "  [1,2,3,7,String.raw`\\int\\limits_{1}^{2} \\frac{1}{\\left(3 - 7 x\\right)^{2}}\\, dx`,String.raw`\\frac{1}{44}`,],\n",
      "  [1,3,1,1,String.raw`\\int\\limits_{1}^{3} \\frac{1}{\\left(1 - x\\right)^{2}}\\, dx`,String.raw`\\infty`,],\n",
      "  [1,3,1,2,String.raw`\\int\\limits_{1}^{3} \\frac{1}{\\left(1 - 2 x\\right)^{2}}\\, dx`,String.raw`\\frac{2}{5}`,],\n",
      "  [1,3,1,3,String.raw`\\int\\limits_{1}^{3} \\frac{1}{\\left(1 - 3 x\\right)^{2}}\\, dx`,String.raw`\\frac{1}{8}`,],\n",
      "  [1,3,1,4,String.raw`\\int\\limits_{1}^{3} \\frac{1}{\\left(1 - 4 x\\right)^{2}}\\, dx`,String.raw`\\frac{2}{33}`,],\n",
      "  [1,3,1,5,String.raw`\\int\\limits_{1}^{3} \\frac{1}{\\left(1 - 5 x\\right)^{2}}\\, dx`,String.raw`\\frac{1}{28}`,],\n",
      "  [1,3,1,6,String.raw`\\int\\limits_{1}^{3} \\frac{1}{\\left(1 - 6 x\\right)^{2}}\\, dx`,String.raw`\\frac{2}{85}`,],\n",
      "  [1,3,1,7,String.raw`\\int\\limits_{1}^{3} \\frac{1}{\\left(1 - 7 x\\right)^{2}}\\, dx`,String.raw`\\frac{1}{60}`,],\n",
      "  [1,3,2,1,String.raw`\\int\\limits_{1}^{3} \\frac{1}{\\left(2 - x\\right)^{2}}\\, dx`,String.raw`\\infty`,],\n",
      "  [1,3,2,2,String.raw`\\int\\limits_{1}^{3} \\frac{1}{\\left(2 - 2 x\\right)^{2}}\\, dx`,String.raw`\\infty`,],\n",
      "  [1,3,2,3,String.raw`\\int\\limits_{1}^{3} \\frac{1}{\\left(2 - 3 x\\right)^{2}}\\, dx`,String.raw`\\frac{2}{7}`,],\n",
      "  [1,3,2,4,String.raw`\\int\\limits_{1}^{3} \\frac{1}{\\left(2 - 4 x\\right)^{2}}\\, dx`,String.raw`\\frac{1}{10}`,],\n",
      "  [1,3,2,5,String.raw`\\int\\limits_{1}^{3} \\frac{1}{\\left(2 - 5 x\\right)^{2}}\\, dx`,String.raw`\\frac{2}{39}`,],\n",
      "  [1,3,2,6,String.raw`\\int\\limits_{1}^{3} \\frac{1}{\\left(2 - 6 x\\right)^{2}}\\, dx`,String.raw`\\frac{1}{32}`,],\n",
      "  [1,3,2,7,String.raw`\\int\\limits_{1}^{3} \\frac{1}{\\left(2 - 7 x\\right)^{2}}\\, dx`,String.raw`\\frac{2}{95}`,],\n",
      "  [1,3,3,1,String.raw`\\int\\limits_{1}^{3} \\frac{1}{\\left(3 - x\\right)^{2}}\\, dx`,String.raw`\\infty`,],\n",
      "  [1,3,3,2,String.raw`\\int\\limits_{1}^{3} \\frac{1}{\\left(3 - 2 x\\right)^{2}}\\, dx`,String.raw`\\infty`,],\n",
      "  [1,3,3,3,String.raw`\\int\\limits_{1}^{3} \\frac{1}{\\left(3 - 3 x\\right)^{2}}\\, dx`,String.raw`\\infty`,],\n",
      "  [1,3,3,4,String.raw`\\int\\limits_{1}^{3} \\frac{1}{\\left(3 - 4 x\\right)^{2}}\\, dx`,String.raw`\\frac{2}{9}`,],\n",
      "  [1,3,3,5,String.raw`\\int\\limits_{1}^{3} \\frac{1}{\\left(3 - 5 x\\right)^{2}}\\, dx`,String.raw`\\frac{1}{12}`,],\n",
      "  [1,3,3,6,String.raw`\\int\\limits_{1}^{3} \\frac{1}{\\left(3 - 6 x\\right)^{2}}\\, dx`,String.raw`\\frac{2}{45}`,],\n",
      "  [1,3,3,7,String.raw`\\int\\limits_{1}^{3} \\frac{1}{\\left(3 - 7 x\\right)^{2}}\\, dx`,String.raw`\\frac{1}{36}`,],\n",
      "  [1,4,1,1,String.raw`\\int\\limits_{1}^{4} \\frac{1}{\\left(1 - x\\right)^{2}}\\, dx`,String.raw`\\infty`,],\n",
      "  [1,4,1,2,String.raw`\\int\\limits_{1}^{4} \\frac{1}{\\left(1 - 2 x\\right)^{2}}\\, dx`,String.raw`\\frac{3}{7}`,],\n",
      "  [1,4,1,3,String.raw`\\int\\limits_{1}^{4} \\frac{1}{\\left(1 - 3 x\\right)^{2}}\\, dx`,String.raw`\\frac{3}{22}`,],\n",
      "  [1,4,1,4,String.raw`\\int\\limits_{1}^{4} \\frac{1}{\\left(1 - 4 x\\right)^{2}}\\, dx`,String.raw`\\frac{1}{15}`,],\n",
      "  [1,4,1,5,String.raw`\\int\\limits_{1}^{4} \\frac{1}{\\left(1 - 5 x\\right)^{2}}\\, dx`,String.raw`\\frac{3}{76}`,],\n",
      "  [1,4,1,6,String.raw`\\int\\limits_{1}^{4} \\frac{1}{\\left(1 - 6 x\\right)^{2}}\\, dx`,String.raw`\\frac{3}{115}`,],\n",
      "  [1,4,1,7,String.raw`\\int\\limits_{1}^{4} \\frac{1}{\\left(1 - 7 x\\right)^{2}}\\, dx`,String.raw`\\frac{1}{54}`,],\n",
      "  [1,4,2,1,String.raw`\\int\\limits_{1}^{4} \\frac{1}{\\left(2 - x\\right)^{2}}\\, dx`,String.raw`\\infty`,],\n",
      "  [1,4,2,2,String.raw`\\int\\limits_{1}^{4} \\frac{1}{\\left(2 - 2 x\\right)^{2}}\\, dx`,String.raw`\\infty`,],\n",
      "  [1,4,2,3,String.raw`\\int\\limits_{1}^{4} \\frac{1}{\\left(2 - 3 x\\right)^{2}}\\, dx`,String.raw`\\frac{3}{10}`,],\n",
      "  [1,4,2,4,String.raw`\\int\\limits_{1}^{4} \\frac{1}{\\left(2 - 4 x\\right)^{2}}\\, dx`,String.raw`\\frac{3}{28}`,],\n",
      "  [1,4,2,5,String.raw`\\int\\limits_{1}^{4} \\frac{1}{\\left(2 - 5 x\\right)^{2}}\\, dx`,String.raw`\\frac{1}{18}`,],\n",
      "  [1,4,2,6,String.raw`\\int\\limits_{1}^{4} \\frac{1}{\\left(2 - 6 x\\right)^{2}}\\, dx`,String.raw`\\frac{3}{88}`,],\n",
      "  [1,4,2,7,String.raw`\\int\\limits_{1}^{4} \\frac{1}{\\left(2 - 7 x\\right)^{2}}\\, dx`,String.raw`\\frac{3}{130}`,],\n",
      "  [1,4,3,1,String.raw`\\int\\limits_{1}^{4} \\frac{1}{\\left(3 - x\\right)^{2}}\\, dx`,String.raw`\\infty`,],\n",
      "  [1,4,3,2,String.raw`\\int\\limits_{1}^{4} \\frac{1}{\\left(3 - 2 x\\right)^{2}}\\, dx`,String.raw`\\infty`,],\n",
      "  [1,4,3,3,String.raw`\\int\\limits_{1}^{4} \\frac{1}{\\left(3 - 3 x\\right)^{2}}\\, dx`,String.raw`\\infty`,],\n",
      "  [1,4,3,4,String.raw`\\int\\limits_{1}^{4} \\frac{1}{\\left(3 - 4 x\\right)^{2}}\\, dx`,String.raw`\\frac{3}{13}`,],\n",
      "  [1,4,3,5,String.raw`\\int\\limits_{1}^{4} \\frac{1}{\\left(3 - 5 x\\right)^{2}}\\, dx`,String.raw`\\frac{3}{34}`,],\n",
      "  [1,4,3,6,String.raw`\\int\\limits_{1}^{4} \\frac{1}{\\left(3 - 6 x\\right)^{2}}\\, dx`,String.raw`\\frac{1}{21}`,],\n",
      "  [1,4,3,7,String.raw`\\int\\limits_{1}^{4} \\frac{1}{\\left(3 - 7 x\\right)^{2}}\\, dx`,String.raw`\\frac{3}{100}`,],\n",
      "  [1,5,1,1,String.raw`\\int\\limits_{1}^{5} \\frac{1}{\\left(1 - x\\right)^{2}}\\, dx`,String.raw`\\infty`,],\n",
      "  [1,5,1,2,String.raw`\\int\\limits_{1}^{5} \\frac{1}{\\left(1 - 2 x\\right)^{2}}\\, dx`,String.raw`\\frac{4}{9}`,],\n",
      "  [1,5,1,3,String.raw`\\int\\limits_{1}^{5} \\frac{1}{\\left(1 - 3 x\\right)^{2}}\\, dx`,String.raw`\\frac{1}{7}`,],\n",
      "  [1,5,1,4,String.raw`\\int\\limits_{1}^{5} \\frac{1}{\\left(1 - 4 x\\right)^{2}}\\, dx`,String.raw`\\frac{4}{57}`,],\n",
      "  [1,5,1,5,String.raw`\\int\\limits_{1}^{5} \\frac{1}{\\left(1 - 5 x\\right)^{2}}\\, dx`,String.raw`\\frac{1}{24}`,],\n",
      "  [1,5,1,6,String.raw`\\int\\limits_{1}^{5} \\frac{1}{\\left(1 - 6 x\\right)^{2}}\\, dx`,String.raw`\\frac{4}{145}`,],\n",
      "  [1,5,1,7,String.raw`\\int\\limits_{1}^{5} \\frac{1}{\\left(1 - 7 x\\right)^{2}}\\, dx`,String.raw`\\frac{1}{51}`,],\n",
      "  [1,5,2,1,String.raw`\\int\\limits_{1}^{5} \\frac{1}{\\left(2 - x\\right)^{2}}\\, dx`,String.raw`\\infty`,],\n",
      "  [1,5,2,2,String.raw`\\int\\limits_{1}^{5} \\frac{1}{\\left(2 - 2 x\\right)^{2}}\\, dx`,String.raw`\\infty`,],\n",
      "  [1,5,2,3,String.raw`\\int\\limits_{1}^{5} \\frac{1}{\\left(2 - 3 x\\right)^{2}}\\, dx`,String.raw`\\frac{4}{13}`,],\n",
      "  [1,5,2,4,String.raw`\\int\\limits_{1}^{5} \\frac{1}{\\left(2 - 4 x\\right)^{2}}\\, dx`,String.raw`\\frac{1}{9}`,],\n",
      "  [1,5,2,5,String.raw`\\int\\limits_{1}^{5} \\frac{1}{\\left(2 - 5 x\\right)^{2}}\\, dx`,String.raw`\\frac{4}{69}`,],\n",
      "  [1,5,2,6,String.raw`\\int\\limits_{1}^{5} \\frac{1}{\\left(2 - 6 x\\right)^{2}}\\, dx`,String.raw`\\frac{1}{28}`,],\n",
      "  [1,5,2,7,String.raw`\\int\\limits_{1}^{5} \\frac{1}{\\left(2 - 7 x\\right)^{2}}\\, dx`,String.raw`\\frac{4}{165}`,],\n",
      "  [1,5,3,1,String.raw`\\int\\limits_{1}^{5} \\frac{1}{\\left(3 - x\\right)^{2}}\\, dx`,String.raw`\\infty`,],\n",
      "  [1,5,3,2,String.raw`\\int\\limits_{1}^{5} \\frac{1}{\\left(3 - 2 x\\right)^{2}}\\, dx`,String.raw`\\infty`,],\n",
      "  [1,5,3,3,String.raw`\\int\\limits_{1}^{5} \\frac{1}{\\left(3 - 3 x\\right)^{2}}\\, dx`,String.raw`\\infty`,],\n",
      "  [1,5,3,4,String.raw`\\int\\limits_{1}^{5} \\frac{1}{\\left(3 - 4 x\\right)^{2}}\\, dx`,String.raw`\\frac{4}{17}`,],\n",
      "  [1,5,3,5,String.raw`\\int\\limits_{1}^{5} \\frac{1}{\\left(3 - 5 x\\right)^{2}}\\, dx`,String.raw`\\frac{1}{11}`,],\n",
      "  [1,5,3,6,String.raw`\\int\\limits_{1}^{5} \\frac{1}{\\left(3 - 6 x\\right)^{2}}\\, dx`,String.raw`\\frac{4}{81}`,],\n",
      "  [1,5,3,7,String.raw`\\int\\limits_{1}^{5} \\frac{1}{\\left(3 - 7 x\\right)^{2}}\\, dx`,String.raw`\\frac{1}{32}`,],\n",
      "  [1,6,1,1,String.raw`\\int\\limits_{1}^{6} \\frac{1}{\\left(1 - x\\right)^{2}}\\, dx`,String.raw`\\infty`,],\n",
      "  [1,6,1,2,String.raw`\\int\\limits_{1}^{6} \\frac{1}{\\left(1 - 2 x\\right)^{2}}\\, dx`,String.raw`\\frac{5}{11}`,],\n",
      "  [1,6,1,3,String.raw`\\int\\limits_{1}^{6} \\frac{1}{\\left(1 - 3 x\\right)^{2}}\\, dx`,String.raw`\\frac{5}{34}`,],\n",
      "  [1,6,1,4,String.raw`\\int\\limits_{1}^{6} \\frac{1}{\\left(1 - 4 x\\right)^{2}}\\, dx`,String.raw`\\frac{5}{69}`,],\n",
      "  [1,6,1,5,String.raw`\\int\\limits_{1}^{6} \\frac{1}{\\left(1 - 5 x\\right)^{2}}\\, dx`,String.raw`\\frac{5}{116}`,],\n",
      "  [1,6,1,6,String.raw`\\int\\limits_{1}^{6} \\frac{1}{\\left(1 - 6 x\\right)^{2}}\\, dx`,String.raw`\\frac{1}{35}`,],\n",
      "  [1,6,1,7,String.raw`\\int\\limits_{1}^{6} \\frac{1}{\\left(1 - 7 x\\right)^{2}}\\, dx`,String.raw`\\frac{5}{246}`,],\n",
      "  [1,6,2,1,String.raw`\\int\\limits_{1}^{6} \\frac{1}{\\left(2 - x\\right)^{2}}\\, dx`,String.raw`\\infty`,],\n",
      "  [1,6,2,2,String.raw`\\int\\limits_{1}^{6} \\frac{1}{\\left(2 - 2 x\\right)^{2}}\\, dx`,String.raw`\\infty`,],\n",
      "  [1,6,2,3,String.raw`\\int\\limits_{1}^{6} \\frac{1}{\\left(2 - 3 x\\right)^{2}}\\, dx`,String.raw`\\frac{5}{16}`,],\n",
      "  [1,6,2,4,String.raw`\\int\\limits_{1}^{6} \\frac{1}{\\left(2 - 4 x\\right)^{2}}\\, dx`,String.raw`\\frac{5}{44}`,],\n",
      "  [1,6,2,5,String.raw`\\int\\limits_{1}^{6} \\frac{1}{\\left(2 - 5 x\\right)^{2}}\\, dx`,String.raw`\\frac{5}{84}`,],\n",
      "  [1,6,2,6,String.raw`\\int\\limits_{1}^{6} \\frac{1}{\\left(2 - 6 x\\right)^{2}}\\, dx`,String.raw`\\frac{5}{136}`,],\n",
      "  [1,6,2,7,String.raw`\\int\\limits_{1}^{6} \\frac{1}{\\left(2 - 7 x\\right)^{2}}\\, dx`,String.raw`\\frac{1}{40}`,],\n",
      "  [1,6,3,1,String.raw`\\int\\limits_{1}^{6} \\frac{1}{\\left(3 - x\\right)^{2}}\\, dx`,String.raw`\\infty`,],\n",
      "  [1,6,3,2,String.raw`\\int\\limits_{1}^{6} \\frac{1}{\\left(3 - 2 x\\right)^{2}}\\, dx`,String.raw`\\infty`,],\n",
      "  [1,6,3,3,String.raw`\\int\\limits_{1}^{6} \\frac{1}{\\left(3 - 3 x\\right)^{2}}\\, dx`,String.raw`\\infty`,],\n",
      "  [1,6,3,4,String.raw`\\int\\limits_{1}^{6} \\frac{1}{\\left(3 - 4 x\\right)^{2}}\\, dx`,String.raw`\\frac{5}{21}`,],\n",
      "  [1,6,3,5,String.raw`\\int\\limits_{1}^{6} \\frac{1}{\\left(3 - 5 x\\right)^{2}}\\, dx`,String.raw`\\frac{5}{54}`,],\n",
      "  [1,6,3,6,String.raw`\\int\\limits_{1}^{6} \\frac{1}{\\left(3 - 6 x\\right)^{2}}\\, dx`,String.raw`\\frac{5}{99}`,],\n",
      "  [1,6,3,7,String.raw`\\int\\limits_{1}^{6} \\frac{1}{\\left(3 - 7 x\\right)^{2}}\\, dx`,String.raw`\\frac{5}{156}`,],\n",
      "  [1,7,1,1,String.raw`\\int\\limits_{1}^{7} \\frac{1}{\\left(1 - x\\right)^{2}}\\, dx`,String.raw`\\infty`,],\n",
      "  [1,7,1,2,String.raw`\\int\\limits_{1}^{7} \\frac{1}{\\left(1 - 2 x\\right)^{2}}\\, dx`,String.raw`\\frac{6}{13}`,],\n",
      "  [1,7,1,3,String.raw`\\int\\limits_{1}^{7} \\frac{1}{\\left(1 - 3 x\\right)^{2}}\\, dx`,String.raw`\\frac{3}{20}`,],\n",
      "  [1,7,1,4,String.raw`\\int\\limits_{1}^{7} \\frac{1}{\\left(1 - 4 x\\right)^{2}}\\, dx`,String.raw`\\frac{2}{27}`,],\n",
      "  [1,7,1,5,String.raw`\\int\\limits_{1}^{7} \\frac{1}{\\left(1 - 5 x\\right)^{2}}\\, dx`,String.raw`\\frac{3}{68}`,],\n",
      "  [1,7,1,6,String.raw`\\int\\limits_{1}^{7} \\frac{1}{\\left(1 - 6 x\\right)^{2}}\\, dx`,String.raw`\\frac{6}{205}`,],\n",
      "  [1,7,1,7,String.raw`\\int\\limits_{1}^{7} \\frac{1}{\\left(1 - 7 x\\right)^{2}}\\, dx`,String.raw`\\frac{1}{48}`,],\n",
      "  [1,7,2,1,String.raw`\\int\\limits_{1}^{7} \\frac{1}{\\left(2 - x\\right)^{2}}\\, dx`,String.raw`\\infty`,],\n",
      "  [1,7,2,2,String.raw`\\int\\limits_{1}^{7} \\frac{1}{\\left(2 - 2 x\\right)^{2}}\\, dx`,String.raw`\\infty`,],\n",
      "  [1,7,2,3,String.raw`\\int\\limits_{1}^{7} \\frac{1}{\\left(2 - 3 x\\right)^{2}}\\, dx`,String.raw`\\frac{6}{19}`,],\n",
      "  [1,7,2,4,String.raw`\\int\\limits_{1}^{7} \\frac{1}{\\left(2 - 4 x\\right)^{2}}\\, dx`,String.raw`\\frac{3}{26}`,],\n",
      "  [1,7,2,5,String.raw`\\int\\limits_{1}^{7} \\frac{1}{\\left(2 - 5 x\\right)^{2}}\\, dx`,String.raw`\\frac{2}{33}`,],\n",
      "  [1,7,2,6,String.raw`\\int\\limits_{1}^{7} \\frac{1}{\\left(2 - 6 x\\right)^{2}}\\, dx`,String.raw`\\frac{3}{80}`,],\n",
      "  [1,7,2,7,String.raw`\\int\\limits_{1}^{7} \\frac{1}{\\left(2 - 7 x\\right)^{2}}\\, dx`,String.raw`\\frac{6}{235}`,],\n",
      "  [1,7,3,1,String.raw`\\int\\limits_{1}^{7} \\frac{1}{\\left(3 - x\\right)^{2}}\\, dx`,String.raw`\\infty`,],\n",
      "  [1,7,3,2,String.raw`\\int\\limits_{1}^{7} \\frac{1}{\\left(3 - 2 x\\right)^{2}}\\, dx`,String.raw`\\infty`,],\n",
      "  [1,7,3,3,String.raw`\\int\\limits_{1}^{7} \\frac{1}{\\left(3 - 3 x\\right)^{2}}\\, dx`,String.raw`\\infty`,],\n",
      "  [1,7,3,4,String.raw`\\int\\limits_{1}^{7} \\frac{1}{\\left(3 - 4 x\\right)^{2}}\\, dx`,String.raw`\\frac{6}{25}`,],\n",
      "  [1,7,3,5,String.raw`\\int\\limits_{1}^{7} \\frac{1}{\\left(3 - 5 x\\right)^{2}}\\, dx`,String.raw`\\frac{3}{32}`,],\n",
      "  [1,7,3,6,String.raw`\\int\\limits_{1}^{7} \\frac{1}{\\left(3 - 6 x\\right)^{2}}\\, dx`,String.raw`\\frac{2}{39}`,],\n",
      "  [1,7,3,7,String.raw`\\int\\limits_{1}^{7} \\frac{1}{\\left(3 - 7 x\\right)^{2}}\\, dx`,String.raw`\\frac{3}{92}`,],\n",
      "  [2,1,1,1,String.raw`\\int\\limits_{2}^{1} \\frac{1}{\\left(1 - x\\right)^{2}}\\, dx`,String.raw`-\\infty`,],\n",
      "  [2,1,1,2,String.raw`\\int\\limits_{2}^{1} \\frac{1}{\\left(1 - 2 x\\right)^{2}}\\, dx`,String.raw`- \\frac{1}{3}`,],\n",
      "  [2,1,1,3,String.raw`\\int\\limits_{2}^{1} \\frac{1}{\\left(1 - 3 x\\right)^{2}}\\, dx`,String.raw`- \\frac{1}{10}`,],\n",
      "  [2,1,1,4,String.raw`\\int\\limits_{2}^{1} \\frac{1}{\\left(1 - 4 x\\right)^{2}}\\, dx`,String.raw`- \\frac{1}{21}`,],\n",
      "  [2,1,1,5,String.raw`\\int\\limits_{2}^{1} \\frac{1}{\\left(1 - 5 x\\right)^{2}}\\, dx`,String.raw`- \\frac{1}{36}`,],\n",
      "  [2,1,1,6,String.raw`\\int\\limits_{2}^{1} \\frac{1}{\\left(1 - 6 x\\right)^{2}}\\, dx`,String.raw`- \\frac{1}{55}`,],\n",
      "  [2,1,1,7,String.raw`\\int\\limits_{2}^{1} \\frac{1}{\\left(1 - 7 x\\right)^{2}}\\, dx`,String.raw`- \\frac{1}{78}`,],\n",
      "  [2,1,2,1,String.raw`\\int\\limits_{2}^{1} \\frac{1}{\\left(2 - x\\right)^{2}}\\, dx`,String.raw`-\\infty`,],\n",
      "  [2,1,2,2,String.raw`\\int\\limits_{2}^{1} \\frac{1}{\\left(2 - 2 x\\right)^{2}}\\, dx`,String.raw`-\\infty`,],\n",
      "  [2,1,2,3,String.raw`\\int\\limits_{2}^{1} \\frac{1}{\\left(2 - 3 x\\right)^{2}}\\, dx`,String.raw`- \\frac{1}{4}`,],\n",
      "  [2,1,2,4,String.raw`\\int\\limits_{2}^{1} \\frac{1}{\\left(2 - 4 x\\right)^{2}}\\, dx`,String.raw`- \\frac{1}{12}`,],\n",
      "  [2,1,2,5,String.raw`\\int\\limits_{2}^{1} \\frac{1}{\\left(2 - 5 x\\right)^{2}}\\, dx`,String.raw`- \\frac{1}{24}`,],\n",
      "  [2,1,2,6,String.raw`\\int\\limits_{2}^{1} \\frac{1}{\\left(2 - 6 x\\right)^{2}}\\, dx`,String.raw`- \\frac{1}{40}`,],\n",
      "  [2,1,2,7,String.raw`\\int\\limits_{2}^{1} \\frac{1}{\\left(2 - 7 x\\right)^{2}}\\, dx`,String.raw`- \\frac{1}{60}`,],\n",
      "  [2,1,3,1,String.raw`\\int\\limits_{2}^{1} \\frac{1}{\\left(3 - x\\right)^{2}}\\, dx`,String.raw`- \\frac{1}{2}`,],\n",
      "  [2,1,3,2,String.raw`\\int\\limits_{2}^{1} \\frac{1}{\\left(3 - 2 x\\right)^{2}}\\, dx`,String.raw`-\\infty`,],\n",
      "  [2,1,3,3,String.raw`\\int\\limits_{2}^{1} \\frac{1}{\\left(3 - 3 x\\right)^{2}}\\, dx`,String.raw`-\\infty`,],\n",
      "  [2,1,3,4,String.raw`\\int\\limits_{2}^{1} \\frac{1}{\\left(3 - 4 x\\right)^{2}}\\, dx`,String.raw`- \\frac{1}{5}`,],\n",
      "  [2,1,3,5,String.raw`\\int\\limits_{2}^{1} \\frac{1}{\\left(3 - 5 x\\right)^{2}}\\, dx`,String.raw`- \\frac{1}{14}`,],\n",
      "  [2,1,3,6,String.raw`\\int\\limits_{2}^{1} \\frac{1}{\\left(3 - 6 x\\right)^{2}}\\, dx`,String.raw`- \\frac{1}{27}`,],\n",
      "  [2,1,3,7,String.raw`\\int\\limits_{2}^{1} \\frac{1}{\\left(3 - 7 x\\right)^{2}}\\, dx`,String.raw`- \\frac{1}{44}`,],\n",
      "  [2,2,1,1,String.raw`\\int\\limits_{2}^{2} \\frac{1}{\\left(1 - x\\right)^{2}}\\, dx`,String.raw`0`,],\n",
      "  [2,2,1,2,String.raw`\\int\\limits_{2}^{2} \\frac{1}{\\left(1 - 2 x\\right)^{2}}\\, dx`,String.raw`0`,],\n",
      "  [2,2,1,3,String.raw`\\int\\limits_{2}^{2} \\frac{1}{\\left(1 - 3 x\\right)^{2}}\\, dx`,String.raw`0`,],\n",
      "  [2,2,1,4,String.raw`\\int\\limits_{2}^{2} \\frac{1}{\\left(1 - 4 x\\right)^{2}}\\, dx`,String.raw`0`,],\n",
      "  [2,2,1,5,String.raw`\\int\\limits_{2}^{2} \\frac{1}{\\left(1 - 5 x\\right)^{2}}\\, dx`,String.raw`0`,],\n",
      "  [2,2,1,6,String.raw`\\int\\limits_{2}^{2} \\frac{1}{\\left(1 - 6 x\\right)^{2}}\\, dx`,String.raw`0`,],\n",
      "  [2,2,1,7,String.raw`\\int\\limits_{2}^{2} \\frac{1}{\\left(1 - 7 x\\right)^{2}}\\, dx`,String.raw`0`,],\n",
      "  [2,2,2,1,String.raw`\\int\\limits_{2}^{2} \\frac{1}{\\left(2 - x\\right)^{2}}\\, dx`,String.raw`0`,],\n",
      "  [2,2,2,2,String.raw`\\int\\limits_{2}^{2} \\frac{1}{\\left(2 - 2 x\\right)^{2}}\\, dx`,String.raw`0`,],\n",
      "  [2,2,2,3,String.raw`\\int\\limits_{2}^{2} \\frac{1}{\\left(2 - 3 x\\right)^{2}}\\, dx`,String.raw`0`,],\n",
      "  [2,2,2,4,String.raw`\\int\\limits_{2}^{2} \\frac{1}{\\left(2 - 4 x\\right)^{2}}\\, dx`,String.raw`0`,],\n",
      "  [2,2,2,5,String.raw`\\int\\limits_{2}^{2} \\frac{1}{\\left(2 - 5 x\\right)^{2}}\\, dx`,String.raw`0`,],\n",
      "  [2,2,2,6,String.raw`\\int\\limits_{2}^{2} \\frac{1}{\\left(2 - 6 x\\right)^{2}}\\, dx`,String.raw`0`,],\n",
      "  [2,2,2,7,String.raw`\\int\\limits_{2}^{2} \\frac{1}{\\left(2 - 7 x\\right)^{2}}\\, dx`,String.raw`0`,],\n",
      "  [2,2,3,1,String.raw`\\int\\limits_{2}^{2} \\frac{1}{\\left(3 - x\\right)^{2}}\\, dx`,String.raw`0`,],\n",
      "  [2,2,3,2,String.raw`\\int\\limits_{2}^{2} \\frac{1}{\\left(3 - 2 x\\right)^{2}}\\, dx`,String.raw`0`,],\n",
      "  [2,2,3,3,String.raw`\\int\\limits_{2}^{2} \\frac{1}{\\left(3 - 3 x\\right)^{2}}\\, dx`,String.raw`0`,],\n",
      "  [2,2,3,4,String.raw`\\int\\limits_{2}^{2} \\frac{1}{\\left(3 - 4 x\\right)^{2}}\\, dx`,String.raw`0`,],\n",
      "  [2,2,3,5,String.raw`\\int\\limits_{2}^{2} \\frac{1}{\\left(3 - 5 x\\right)^{2}}\\, dx`,String.raw`0`,],\n",
      "  [2,2,3,6,String.raw`\\int\\limits_{2}^{2} \\frac{1}{\\left(3 - 6 x\\right)^{2}}\\, dx`,String.raw`0`,],\n",
      "  [2,2,3,7,String.raw`\\int\\limits_{2}^{2} \\frac{1}{\\left(3 - 7 x\\right)^{2}}\\, dx`,String.raw`0`,],\n",
      "  [2,3,1,1,String.raw`\\int\\limits_{2}^{3} \\frac{1}{\\left(1 - x\\right)^{2}}\\, dx`,String.raw`\\frac{1}{2}`,],\n",
      "  [2,3,1,2,String.raw`\\int\\limits_{2}^{3} \\frac{1}{\\left(1 - 2 x\\right)^{2}}\\, dx`,String.raw`\\frac{1}{15}`,],\n",
      "  [2,3,1,3,String.raw`\\int\\limits_{2}^{3} \\frac{1}{\\left(1 - 3 x\\right)^{2}}\\, dx`,String.raw`\\frac{1}{40}`,],\n",
      "  [2,3,1,4,String.raw`\\int\\limits_{2}^{3} \\frac{1}{\\left(1 - 4 x\\right)^{2}}\\, dx`,String.raw`\\frac{1}{77}`,],\n",
      "  [2,3,1,5,String.raw`\\int\\limits_{2}^{3} \\frac{1}{\\left(1 - 5 x\\right)^{2}}\\, dx`,String.raw`\\frac{1}{126}`,],\n",
      "  [2,3,1,6,String.raw`\\int\\limits_{2}^{3} \\frac{1}{\\left(1 - 6 x\\right)^{2}}\\, dx`,String.raw`\\frac{1}{187}`,],\n",
      "  [2,3,1,7,String.raw`\\int\\limits_{2}^{3} \\frac{1}{\\left(1 - 7 x\\right)^{2}}\\, dx`,String.raw`\\frac{1}{260}`,],\n",
      "  [2,3,2,1,String.raw`\\int\\limits_{2}^{3} \\frac{1}{\\left(2 - x\\right)^{2}}\\, dx`,String.raw`\\infty`,],\n",
      "  [2,3,2,2,String.raw`\\int\\limits_{2}^{3} \\frac{1}{\\left(2 - 2 x\\right)^{2}}\\, dx`,String.raw`\\frac{1}{8}`,],\n",
      "  [2,3,2,3,String.raw`\\int\\limits_{2}^{3} \\frac{1}{\\left(2 - 3 x\\right)^{2}}\\, dx`,String.raw`\\frac{1}{28}`,],\n",
      "  [2,3,2,4,String.raw`\\int\\limits_{2}^{3} \\frac{1}{\\left(2 - 4 x\\right)^{2}}\\, dx`,String.raw`\\frac{1}{60}`,],\n",
      "  [2,3,2,5,String.raw`\\int\\limits_{2}^{3} \\frac{1}{\\left(2 - 5 x\\right)^{2}}\\, dx`,String.raw`\\frac{1}{104}`,],\n",
      "  [2,3,2,6,String.raw`\\int\\limits_{2}^{3} \\frac{1}{\\left(2 - 6 x\\right)^{2}}\\, dx`,String.raw`\\frac{1}{160}`,],\n",
      "  [2,3,2,7,String.raw`\\int\\limits_{2}^{3} \\frac{1}{\\left(2 - 7 x\\right)^{2}}\\, dx`,String.raw`\\frac{1}{228}`,],\n",
      "  [2,3,3,1,String.raw`\\int\\limits_{2}^{3} \\frac{1}{\\left(3 - x\\right)^{2}}\\, dx`,String.raw`\\infty`,],\n",
      "  [2,3,3,2,String.raw`\\int\\limits_{2}^{3} \\frac{1}{\\left(3 - 2 x\\right)^{2}}\\, dx`,String.raw`\\frac{1}{3}`,],\n",
      "  [2,3,3,3,String.raw`\\int\\limits_{2}^{3} \\frac{1}{\\left(3 - 3 x\\right)^{2}}\\, dx`,String.raw`\\frac{1}{18}`,],\n",
      "  [2,3,3,4,String.raw`\\int\\limits_{2}^{3} \\frac{1}{\\left(3 - 4 x\\right)^{2}}\\, dx`,String.raw`\\frac{1}{45}`,],\n",
      "  [2,3,3,5,String.raw`\\int\\limits_{2}^{3} \\frac{1}{\\left(3 - 5 x\\right)^{2}}\\, dx`,String.raw`\\frac{1}{84}`,],\n",
      "  [2,3,3,6,String.raw`\\int\\limits_{2}^{3} \\frac{1}{\\left(3 - 6 x\\right)^{2}}\\, dx`,String.raw`\\frac{1}{135}`,],\n",
      "  [2,3,3,7,String.raw`\\int\\limits_{2}^{3} \\frac{1}{\\left(3 - 7 x\\right)^{2}}\\, dx`,String.raw`\\frac{1}{198}`,],\n",
      "  [2,4,1,1,String.raw`\\int\\limits_{2}^{4} \\frac{1}{\\left(1 - x\\right)^{2}}\\, dx`,String.raw`\\frac{2}{3}`,],\n",
      "  [2,4,1,2,String.raw`\\int\\limits_{2}^{4} \\frac{1}{\\left(1 - 2 x\\right)^{2}}\\, dx`,String.raw`\\frac{2}{21}`,],\n",
      "  [2,4,1,3,String.raw`\\int\\limits_{2}^{4} \\frac{1}{\\left(1 - 3 x\\right)^{2}}\\, dx`,String.raw`\\frac{2}{55}`,],\n",
      "  [2,4,1,4,String.raw`\\int\\limits_{2}^{4} \\frac{1}{\\left(1 - 4 x\\right)^{2}}\\, dx`,String.raw`\\frac{2}{105}`,],\n",
      "  [2,4,1,5,String.raw`\\int\\limits_{2}^{4} \\frac{1}{\\left(1 - 5 x\\right)^{2}}\\, dx`,String.raw`\\frac{2}{171}`,],\n",
      "  [2,4,1,6,String.raw`\\int\\limits_{2}^{4} \\frac{1}{\\left(1 - 6 x\\right)^{2}}\\, dx`,String.raw`\\frac{2}{253}`,],\n",
      "  [2,4,1,7,String.raw`\\int\\limits_{2}^{4} \\frac{1}{\\left(1 - 7 x\\right)^{2}}\\, dx`,String.raw`\\frac{2}{351}`,],\n",
      "  [2,4,2,1,String.raw`\\int\\limits_{2}^{4} \\frac{1}{\\left(2 - x\\right)^{2}}\\, dx`,String.raw`\\infty`,],\n",
      "  [2,4,2,2,String.raw`\\int\\limits_{2}^{4} \\frac{1}{\\left(2 - 2 x\\right)^{2}}\\, dx`,String.raw`\\frac{1}{6}`,],\n",
      "  [2,4,2,3,String.raw`\\int\\limits_{2}^{4} \\frac{1}{\\left(2 - 3 x\\right)^{2}}\\, dx`,String.raw`\\frac{1}{20}`,],\n",
      "  [2,4,2,4,String.raw`\\int\\limits_{2}^{4} \\frac{1}{\\left(2 - 4 x\\right)^{2}}\\, dx`,String.raw`\\frac{1}{42}`,],\n",
      "  [2,4,2,5,String.raw`\\int\\limits_{2}^{4} \\frac{1}{\\left(2 - 5 x\\right)^{2}}\\, dx`,String.raw`\\frac{1}{72}`,],\n",
      "  [2,4,2,6,String.raw`\\int\\limits_{2}^{4} \\frac{1}{\\left(2 - 6 x\\right)^{2}}\\, dx`,String.raw`\\frac{1}{110}`,],\n",
      "  [2,4,2,7,String.raw`\\int\\limits_{2}^{4} \\frac{1}{\\left(2 - 7 x\\right)^{2}}\\, dx`,String.raw`\\frac{1}{156}`,],\n",
      "  [2,4,3,1,String.raw`\\int\\limits_{2}^{4} \\frac{1}{\\left(3 - x\\right)^{2}}\\, dx`,String.raw`\\infty`,],\n",
      "  [2,4,3,2,String.raw`\\int\\limits_{2}^{4} \\frac{1}{\\left(3 - 2 x\\right)^{2}}\\, dx`,String.raw`\\frac{2}{5}`,],\n",
      "  [2,4,3,3,String.raw`\\int\\limits_{2}^{4} \\frac{1}{\\left(3 - 3 x\\right)^{2}}\\, dx`,String.raw`\\frac{2}{27}`,],\n",
      "  [2,4,3,4,String.raw`\\int\\limits_{2}^{4} \\frac{1}{\\left(3 - 4 x\\right)^{2}}\\, dx`,String.raw`\\frac{2}{65}`,],\n",
      "  [2,4,3,5,String.raw`\\int\\limits_{2}^{4} \\frac{1}{\\left(3 - 5 x\\right)^{2}}\\, dx`,String.raw`\\frac{2}{119}`,],\n",
      "  [2,4,3,6,String.raw`\\int\\limits_{2}^{4} \\frac{1}{\\left(3 - 6 x\\right)^{2}}\\, dx`,String.raw`\\frac{2}{189}`,],\n",
      "  [2,4,3,7,String.raw`\\int\\limits_{2}^{4} \\frac{1}{\\left(3 - 7 x\\right)^{2}}\\, dx`,String.raw`\\frac{2}{275}`,],\n",
      "  [2,5,1,1,String.raw`\\int\\limits_{2}^{5} \\frac{1}{\\left(1 - x\\right)^{2}}\\, dx`,String.raw`\\frac{3}{4}`,],\n",
      "  [2,5,1,2,String.raw`\\int\\limits_{2}^{5} \\frac{1}{\\left(1 - 2 x\\right)^{2}}\\, dx`,String.raw`\\frac{1}{9}`,],\n",
      "  [2,5,1,3,String.raw`\\int\\limits_{2}^{5} \\frac{1}{\\left(1 - 3 x\\right)^{2}}\\, dx`,String.raw`\\frac{3}{70}`,],\n",
      "  [2,5,1,4,String.raw`\\int\\limits_{2}^{5} \\frac{1}{\\left(1 - 4 x\\right)^{2}}\\, dx`,String.raw`\\frac{3}{133}`,],\n",
      "  [2,5,1,5,String.raw`\\int\\limits_{2}^{5} \\frac{1}{\\left(1 - 5 x\\right)^{2}}\\, dx`,String.raw`\\frac{1}{72}`,],\n",
      "  [2,5,1,6,String.raw`\\int\\limits_{2}^{5} \\frac{1}{\\left(1 - 6 x\\right)^{2}}\\, dx`,String.raw`\\frac{3}{319}`,],\n",
      "  [2,5,1,7,String.raw`\\int\\limits_{2}^{5} \\frac{1}{\\left(1 - 7 x\\right)^{2}}\\, dx`,String.raw`\\frac{3}{442}`,],\n",
      "  [2,5,2,1,String.raw`\\int\\limits_{2}^{5} \\frac{1}{\\left(2 - x\\right)^{2}}\\, dx`,String.raw`\\infty`,],\n",
      "  [2,5,2,2,String.raw`\\int\\limits_{2}^{5} \\frac{1}{\\left(2 - 2 x\\right)^{2}}\\, dx`,String.raw`\\frac{3}{16}`,],\n",
      "  [2,5,2,3,String.raw`\\int\\limits_{2}^{5} \\frac{1}{\\left(2 - 3 x\\right)^{2}}\\, dx`,String.raw`\\frac{3}{52}`,],\n",
      "  [2,5,2,4,String.raw`\\int\\limits_{2}^{5} \\frac{1}{\\left(2 - 4 x\\right)^{2}}\\, dx`,String.raw`\\frac{1}{36}`,],\n",
      "  [2,5,2,5,String.raw`\\int\\limits_{2}^{5} \\frac{1}{\\left(2 - 5 x\\right)^{2}}\\, dx`,String.raw`\\frac{3}{184}`,],\n",
      "  [2,5,2,6,String.raw`\\int\\limits_{2}^{5} \\frac{1}{\\left(2 - 6 x\\right)^{2}}\\, dx`,String.raw`\\frac{3}{280}`,],\n",
      "  [2,5,2,7,String.raw`\\int\\limits_{2}^{5} \\frac{1}{\\left(2 - 7 x\\right)^{2}}\\, dx`,String.raw`\\frac{1}{132}`,],\n",
      "  [2,5,3,1,String.raw`\\int\\limits_{2}^{5} \\frac{1}{\\left(3 - x\\right)^{2}}\\, dx`,String.raw`\\infty`,],\n",
      "  [2,5,3,2,String.raw`\\int\\limits_{2}^{5} \\frac{1}{\\left(3 - 2 x\\right)^{2}}\\, dx`,String.raw`\\frac{3}{7}`,],\n",
      "  [2,5,3,3,String.raw`\\int\\limits_{2}^{5} \\frac{1}{\\left(3 - 3 x\\right)^{2}}\\, dx`,String.raw`\\frac{1}{12}`,],\n",
      "  [2,5,3,4,String.raw`\\int\\limits_{2}^{5} \\frac{1}{\\left(3 - 4 x\\right)^{2}}\\, dx`,String.raw`\\frac{3}{85}`,],\n",
      "  [2,5,3,5,String.raw`\\int\\limits_{2}^{5} \\frac{1}{\\left(3 - 5 x\\right)^{2}}\\, dx`,String.raw`\\frac{3}{154}`,],\n",
      "  [2,5,3,6,String.raw`\\int\\limits_{2}^{5} \\frac{1}{\\left(3 - 6 x\\right)^{2}}\\, dx`,String.raw`\\frac{1}{81}`,],\n",
      "  [2,5,3,7,String.raw`\\int\\limits_{2}^{5} \\frac{1}{\\left(3 - 7 x\\right)^{2}}\\, dx`,String.raw`\\frac{3}{352}`,],\n",
      "  [2,6,1,1,String.raw`\\int\\limits_{2}^{6} \\frac{1}{\\left(1 - x\\right)^{2}}\\, dx`,String.raw`\\frac{4}{5}`,],\n",
      "  [2,6,1,2,String.raw`\\int\\limits_{2}^{6} \\frac{1}{\\left(1 - 2 x\\right)^{2}}\\, dx`,String.raw`\\frac{4}{33}`,],\n",
      "  [2,6,1,3,String.raw`\\int\\limits_{2}^{6} \\frac{1}{\\left(1 - 3 x\\right)^{2}}\\, dx`,String.raw`\\frac{4}{85}`,],\n",
      "  [2,6,1,4,String.raw`\\int\\limits_{2}^{6} \\frac{1}{\\left(1 - 4 x\\right)^{2}}\\, dx`,String.raw`\\frac{4}{161}`,],\n",
      "  [2,6,1,5,String.raw`\\int\\limits_{2}^{6} \\frac{1}{\\left(1 - 5 x\\right)^{2}}\\, dx`,String.raw`\\frac{4}{261}`,],\n",
      "  [2,6,1,6,String.raw`\\int\\limits_{2}^{6} \\frac{1}{\\left(1 - 6 x\\right)^{2}}\\, dx`,String.raw`\\frac{4}{385}`,],\n",
      "  [2,6,1,7,String.raw`\\int\\limits_{2}^{6} \\frac{1}{\\left(1 - 7 x\\right)^{2}}\\, dx`,String.raw`\\frac{4}{533}`,],\n",
      "  [2,6,2,1,String.raw`\\int\\limits_{2}^{6} \\frac{1}{\\left(2 - x\\right)^{2}}\\, dx`,String.raw`\\infty`,],\n",
      "  [2,6,2,2,String.raw`\\int\\limits_{2}^{6} \\frac{1}{\\left(2 - 2 x\\right)^{2}}\\, dx`,String.raw`\\frac{1}{5}`,],\n",
      "  [2,6,2,3,String.raw`\\int\\limits_{2}^{6} \\frac{1}{\\left(2 - 3 x\\right)^{2}}\\, dx`,String.raw`\\frac{1}{16}`,],\n",
      "  [2,6,2,4,String.raw`\\int\\limits_{2}^{6} \\frac{1}{\\left(2 - 4 x\\right)^{2}}\\, dx`,String.raw`\\frac{1}{33}`,],\n",
      "  [2,6,2,5,String.raw`\\int\\limits_{2}^{6} \\frac{1}{\\left(2 - 5 x\\right)^{2}}\\, dx`,String.raw`\\frac{1}{56}`,],\n",
      "  [2,6,2,6,String.raw`\\int\\limits_{2}^{6} \\frac{1}{\\left(2 - 6 x\\right)^{2}}\\, dx`,String.raw`\\frac{1}{85}`,],\n",
      "  [2,6,2,7,String.raw`\\int\\limits_{2}^{6} \\frac{1}{\\left(2 - 7 x\\right)^{2}}\\, dx`,String.raw`\\frac{1}{120}`,],\n",
      "  [2,6,3,1,String.raw`\\int\\limits_{2}^{6} \\frac{1}{\\left(3 - x\\right)^{2}}\\, dx`,String.raw`\\infty`,],\n",
      "  [2,6,3,2,String.raw`\\int\\limits_{2}^{6} \\frac{1}{\\left(3 - 2 x\\right)^{2}}\\, dx`,String.raw`\\frac{4}{9}`,],\n",
      "  [2,6,3,3,String.raw`\\int\\limits_{2}^{6} \\frac{1}{\\left(3 - 3 x\\right)^{2}}\\, dx`,String.raw`\\frac{4}{45}`,],\n",
      "  [2,6,3,4,String.raw`\\int\\limits_{2}^{6} \\frac{1}{\\left(3 - 4 x\\right)^{2}}\\, dx`,String.raw`\\frac{4}{105}`,],\n",
      "  [2,6,3,5,String.raw`\\int\\limits_{2}^{6} \\frac{1}{\\left(3 - 5 x\\right)^{2}}\\, dx`,String.raw`\\frac{4}{189}`,],\n",
      "  [2,6,3,6,String.raw`\\int\\limits_{2}^{6} \\frac{1}{\\left(3 - 6 x\\right)^{2}}\\, dx`,String.raw`\\frac{4}{297}`,],\n",
      "  [2,6,3,7,String.raw`\\int\\limits_{2}^{6} \\frac{1}{\\left(3 - 7 x\\right)^{2}}\\, dx`,String.raw`\\frac{4}{429}`,],\n",
      "  [2,7,1,1,String.raw`\\int\\limits_{2}^{7} \\frac{1}{\\left(1 - x\\right)^{2}}\\, dx`,String.raw`\\frac{5}{6}`,],\n",
      "  [2,7,1,2,String.raw`\\int\\limits_{2}^{7} \\frac{1}{\\left(1 - 2 x\\right)^{2}}\\, dx`,String.raw`\\frac{5}{39}`,],\n",
      "  [2,7,1,3,String.raw`\\int\\limits_{2}^{7} \\frac{1}{\\left(1 - 3 x\\right)^{2}}\\, dx`,String.raw`\\frac{1}{20}`,],\n",
      "  [2,7,1,4,String.raw`\\int\\limits_{2}^{7} \\frac{1}{\\left(1 - 4 x\\right)^{2}}\\, dx`,String.raw`\\frac{5}{189}`,],\n",
      "  [2,7,1,5,String.raw`\\int\\limits_{2}^{7} \\frac{1}{\\left(1 - 5 x\\right)^{2}}\\, dx`,String.raw`\\frac{5}{306}`,],\n",
      "  [2,7,1,6,String.raw`\\int\\limits_{2}^{7} \\frac{1}{\\left(1 - 6 x\\right)^{2}}\\, dx`,String.raw`\\frac{5}{451}`,],\n",
      "  [2,7,1,7,String.raw`\\int\\limits_{2}^{7} \\frac{1}{\\left(1 - 7 x\\right)^{2}}\\, dx`,String.raw`\\frac{5}{624}`,],\n",
      "  [2,7,2,1,String.raw`\\int\\limits_{2}^{7} \\frac{1}{\\left(2 - x\\right)^{2}}\\, dx`,String.raw`\\infty`,],\n",
      "  [2,7,2,2,String.raw`\\int\\limits_{2}^{7} \\frac{1}{\\left(2 - 2 x\\right)^{2}}\\, dx`,String.raw`\\frac{5}{24}`,],\n",
      "  [2,7,2,3,String.raw`\\int\\limits_{2}^{7} \\frac{1}{\\left(2 - 3 x\\right)^{2}}\\, dx`,String.raw`\\frac{5}{76}`,],\n",
      "  [2,7,2,4,String.raw`\\int\\limits_{2}^{7} \\frac{1}{\\left(2 - 4 x\\right)^{2}}\\, dx`,String.raw`\\frac{5}{156}`,],\n",
      "  [2,7,2,5,String.raw`\\int\\limits_{2}^{7} \\frac{1}{\\left(2 - 5 x\\right)^{2}}\\, dx`,String.raw`\\frac{5}{264}`,],\n",
      "  [2,7,2,6,String.raw`\\int\\limits_{2}^{7} \\frac{1}{\\left(2 - 6 x\\right)^{2}}\\, dx`,String.raw`\\frac{1}{80}`,],\n",
      "  [2,7,2,7,String.raw`\\int\\limits_{2}^{7} \\frac{1}{\\left(2 - 7 x\\right)^{2}}\\, dx`,String.raw`\\frac{5}{564}`,],\n",
      "  [2,7,3,1,String.raw`\\int\\limits_{2}^{7} \\frac{1}{\\left(3 - x\\right)^{2}}\\, dx`,String.raw`\\infty`,],\n",
      "  [2,7,3,2,String.raw`\\int\\limits_{2}^{7} \\frac{1}{\\left(3 - 2 x\\right)^{2}}\\, dx`,String.raw`\\frac{5}{11}`,],\n",
      "  [2,7,3,3,String.raw`\\int\\limits_{2}^{7} \\frac{1}{\\left(3 - 3 x\\right)^{2}}\\, dx`,String.raw`\\frac{5}{54}`,],\n",
      "  [2,7,3,4,String.raw`\\int\\limits_{2}^{7} \\frac{1}{\\left(3 - 4 x\\right)^{2}}\\, dx`,String.raw`\\frac{1}{25}`,],\n",
      "  [2,7,3,5,String.raw`\\int\\limits_{2}^{7} \\frac{1}{\\left(3 - 5 x\\right)^{2}}\\, dx`,String.raw`\\frac{5}{224}`,],\n",
      "  [2,7,3,6,String.raw`\\int\\limits_{2}^{7} \\frac{1}{\\left(3 - 6 x\\right)^{2}}\\, dx`,String.raw`\\frac{5}{351}`,],\n",
      "  [2,7,3,7,String.raw`\\int\\limits_{2}^{7} \\frac{1}{\\left(3 - 7 x\\right)^{2}}\\, dx`,String.raw`\\frac{5}{506}`,],\n",
      "  [3,1,1,1,String.raw`\\int\\limits_{3}^{1} \\frac{1}{\\left(1 - x\\right)^{2}}\\, dx`,String.raw`-\\infty`,],\n",
      "  [3,1,1,2,String.raw`\\int\\limits_{3}^{1} \\frac{1}{\\left(1 - 2 x\\right)^{2}}\\, dx`,String.raw`- \\frac{2}{5}`,],\n",
      "  [3,1,1,3,String.raw`\\int\\limits_{3}^{1} \\frac{1}{\\left(1 - 3 x\\right)^{2}}\\, dx`,String.raw`- \\frac{1}{8}`,],\n",
      "  [3,1,1,4,String.raw`\\int\\limits_{3}^{1} \\frac{1}{\\left(1 - 4 x\\right)^{2}}\\, dx`,String.raw`- \\frac{2}{33}`,],\n",
      "  [3,1,1,5,String.raw`\\int\\limits_{3}^{1} \\frac{1}{\\left(1 - 5 x\\right)^{2}}\\, dx`,String.raw`- \\frac{1}{28}`,],\n",
      "  [3,1,1,6,String.raw`\\int\\limits_{3}^{1} \\frac{1}{\\left(1 - 6 x\\right)^{2}}\\, dx`,String.raw`- \\frac{2}{85}`,],\n",
      "  [3,1,1,7,String.raw`\\int\\limits_{3}^{1} \\frac{1}{\\left(1 - 7 x\\right)^{2}}\\, dx`,String.raw`- \\frac{1}{60}`,],\n",
      "  [3,1,2,1,String.raw`\\int\\limits_{3}^{1} \\frac{1}{\\left(2 - x\\right)^{2}}\\, dx`,String.raw`-\\infty`,],\n",
      "  [3,1,2,2,String.raw`\\int\\limits_{3}^{1} \\frac{1}{\\left(2 - 2 x\\right)^{2}}\\, dx`,String.raw`-\\infty`,],\n",
      "  [3,1,2,3,String.raw`\\int\\limits_{3}^{1} \\frac{1}{\\left(2 - 3 x\\right)^{2}}\\, dx`,String.raw`- \\frac{2}{7}`,],\n",
      "  [3,1,2,4,String.raw`\\int\\limits_{3}^{1} \\frac{1}{\\left(2 - 4 x\\right)^{2}}\\, dx`,String.raw`- \\frac{1}{10}`,],\n",
      "  [3,1,2,5,String.raw`\\int\\limits_{3}^{1} \\frac{1}{\\left(2 - 5 x\\right)^{2}}\\, dx`,String.raw`- \\frac{2}{39}`,],\n",
      "  [3,1,2,6,String.raw`\\int\\limits_{3}^{1} \\frac{1}{\\left(2 - 6 x\\right)^{2}}\\, dx`,String.raw`- \\frac{1}{32}`,],\n",
      "  [3,1,2,7,String.raw`\\int\\limits_{3}^{1} \\frac{1}{\\left(2 - 7 x\\right)^{2}}\\, dx`,String.raw`- \\frac{2}{95}`,],\n",
      "  [3,1,3,1,String.raw`\\int\\limits_{3}^{1} \\frac{1}{\\left(3 - x\\right)^{2}}\\, dx`,String.raw`-\\infty`,],\n",
      "  [3,1,3,2,String.raw`\\int\\limits_{3}^{1} \\frac{1}{\\left(3 - 2 x\\right)^{2}}\\, dx`,String.raw`-\\infty`,],\n",
      "  [3,1,3,3,String.raw`\\int\\limits_{3}^{1} \\frac{1}{\\left(3 - 3 x\\right)^{2}}\\, dx`,String.raw`-\\infty`,],\n",
      "  [3,1,3,4,String.raw`\\int\\limits_{3}^{1} \\frac{1}{\\left(3 - 4 x\\right)^{2}}\\, dx`,String.raw`- \\frac{2}{9}`,],\n",
      "  [3,1,3,5,String.raw`\\int\\limits_{3}^{1} \\frac{1}{\\left(3 - 5 x\\right)^{2}}\\, dx`,String.raw`- \\frac{1}{12}`,],\n",
      "  [3,1,3,6,String.raw`\\int\\limits_{3}^{1} \\frac{1}{\\left(3 - 6 x\\right)^{2}}\\, dx`,String.raw`- \\frac{2}{45}`,],\n",
      "  [3,1,3,7,String.raw`\\int\\limits_{3}^{1} \\frac{1}{\\left(3 - 7 x\\right)^{2}}\\, dx`,String.raw`- \\frac{1}{36}`,],\n",
      "  [3,2,1,1,String.raw`\\int\\limits_{3}^{2} \\frac{1}{\\left(1 - x\\right)^{2}}\\, dx`,String.raw`- \\frac{1}{2}`,],\n",
      "  [3,2,1,2,String.raw`\\int\\limits_{3}^{2} \\frac{1}{\\left(1 - 2 x\\right)^{2}}\\, dx`,String.raw`- \\frac{1}{15}`,],\n",
      "  [3,2,1,3,String.raw`\\int\\limits_{3}^{2} \\frac{1}{\\left(1 - 3 x\\right)^{2}}\\, dx`,String.raw`- \\frac{1}{40}`,],\n",
      "  [3,2,1,4,String.raw`\\int\\limits_{3}^{2} \\frac{1}{\\left(1 - 4 x\\right)^{2}}\\, dx`,String.raw`- \\frac{1}{77}`,],\n",
      "  [3,2,1,5,String.raw`\\int\\limits_{3}^{2} \\frac{1}{\\left(1 - 5 x\\right)^{2}}\\, dx`,String.raw`- \\frac{1}{126}`,],\n",
      "  [3,2,1,6,String.raw`\\int\\limits_{3}^{2} \\frac{1}{\\left(1 - 6 x\\right)^{2}}\\, dx`,String.raw`- \\frac{1}{187}`,],\n",
      "  [3,2,1,7,String.raw`\\int\\limits_{3}^{2} \\frac{1}{\\left(1 - 7 x\\right)^{2}}\\, dx`,String.raw`- \\frac{1}{260}`,],\n",
      "  [3,2,2,1,String.raw`\\int\\limits_{3}^{2} \\frac{1}{\\left(2 - x\\right)^{2}}\\, dx`,String.raw`-\\infty`,],\n",
      "  [3,2,2,2,String.raw`\\int\\limits_{3}^{2} \\frac{1}{\\left(2 - 2 x\\right)^{2}}\\, dx`,String.raw`- \\frac{1}{8}`,],\n",
      "  [3,2,2,3,String.raw`\\int\\limits_{3}^{2} \\frac{1}{\\left(2 - 3 x\\right)^{2}}\\, dx`,String.raw`- \\frac{1}{28}`,],\n",
      "  [3,2,2,4,String.raw`\\int\\limits_{3}^{2} \\frac{1}{\\left(2 - 4 x\\right)^{2}}\\, dx`,String.raw`- \\frac{1}{60}`,],\n",
      "  [3,2,2,5,String.raw`\\int\\limits_{3}^{2} \\frac{1}{\\left(2 - 5 x\\right)^{2}}\\, dx`,String.raw`- \\frac{1}{104}`,],\n",
      "  [3,2,2,6,String.raw`\\int\\limits_{3}^{2} \\frac{1}{\\left(2 - 6 x\\right)^{2}}\\, dx`,String.raw`- \\frac{1}{160}`,],\n",
      "  [3,2,2,7,String.raw`\\int\\limits_{3}^{2} \\frac{1}{\\left(2 - 7 x\\right)^{2}}\\, dx`,String.raw`- \\frac{1}{228}`,],\n",
      "  [3,2,3,1,String.raw`\\int\\limits_{3}^{2} \\frac{1}{\\left(3 - x\\right)^{2}}\\, dx`,String.raw`-\\infty`,],\n",
      "  [3,2,3,2,String.raw`\\int\\limits_{3}^{2} \\frac{1}{\\left(3 - 2 x\\right)^{2}}\\, dx`,String.raw`- \\frac{1}{3}`,],\n",
      "  [3,2,3,3,String.raw`\\int\\limits_{3}^{2} \\frac{1}{\\left(3 - 3 x\\right)^{2}}\\, dx`,String.raw`- \\frac{1}{18}`,],\n",
      "  [3,2,3,4,String.raw`\\int\\limits_{3}^{2} \\frac{1}{\\left(3 - 4 x\\right)^{2}}\\, dx`,String.raw`- \\frac{1}{45}`,],\n",
      "  [3,2,3,5,String.raw`\\int\\limits_{3}^{2} \\frac{1}{\\left(3 - 5 x\\right)^{2}}\\, dx`,String.raw`- \\frac{1}{84}`,],\n",
      "  [3,2,3,6,String.raw`\\int\\limits_{3}^{2} \\frac{1}{\\left(3 - 6 x\\right)^{2}}\\, dx`,String.raw`- \\frac{1}{135}`,],\n",
      "  [3,2,3,7,String.raw`\\int\\limits_{3}^{2} \\frac{1}{\\left(3 - 7 x\\right)^{2}}\\, dx`,String.raw`- \\frac{1}{198}`,],\n",
      "  [3,3,1,1,String.raw`\\int\\limits_{3}^{3} \\frac{1}{\\left(1 - x\\right)^{2}}\\, dx`,String.raw`0`,],\n",
      "  [3,3,1,2,String.raw`\\int\\limits_{3}^{3} \\frac{1}{\\left(1 - 2 x\\right)^{2}}\\, dx`,String.raw`0`,],\n",
      "  [3,3,1,3,String.raw`\\int\\limits_{3}^{3} \\frac{1}{\\left(1 - 3 x\\right)^{2}}\\, dx`,String.raw`0`,],\n",
      "  [3,3,1,4,String.raw`\\int\\limits_{3}^{3} \\frac{1}{\\left(1 - 4 x\\right)^{2}}\\, dx`,String.raw`0`,],\n",
      "  [3,3,1,5,String.raw`\\int\\limits_{3}^{3} \\frac{1}{\\left(1 - 5 x\\right)^{2}}\\, dx`,String.raw`0`,],\n",
      "  [3,3,1,6,String.raw`\\int\\limits_{3}^{3} \\frac{1}{\\left(1 - 6 x\\right)^{2}}\\, dx`,String.raw`0`,],\n",
      "  [3,3,1,7,String.raw`\\int\\limits_{3}^{3} \\frac{1}{\\left(1 - 7 x\\right)^{2}}\\, dx`,String.raw`0`,],\n",
      "  [3,3,2,1,String.raw`\\int\\limits_{3}^{3} \\frac{1}{\\left(2 - x\\right)^{2}}\\, dx`,String.raw`0`,],\n",
      "  [3,3,2,2,String.raw`\\int\\limits_{3}^{3} \\frac{1}{\\left(2 - 2 x\\right)^{2}}\\, dx`,String.raw`0`,],\n",
      "  [3,3,2,3,String.raw`\\int\\limits_{3}^{3} \\frac{1}{\\left(2 - 3 x\\right)^{2}}\\, dx`,String.raw`0`,],\n",
      "  [3,3,2,4,String.raw`\\int\\limits_{3}^{3} \\frac{1}{\\left(2 - 4 x\\right)^{2}}\\, dx`,String.raw`0`,],\n",
      "  [3,3,2,5,String.raw`\\int\\limits_{3}^{3} \\frac{1}{\\left(2 - 5 x\\right)^{2}}\\, dx`,String.raw`0`,],\n",
      "  [3,3,2,6,String.raw`\\int\\limits_{3}^{3} \\frac{1}{\\left(2 - 6 x\\right)^{2}}\\, dx`,String.raw`0`,],\n",
      "  [3,3,2,7,String.raw`\\int\\limits_{3}^{3} \\frac{1}{\\left(2 - 7 x\\right)^{2}}\\, dx`,String.raw`0`,],\n",
      "  [3,3,3,1,String.raw`\\int\\limits_{3}^{3} \\frac{1}{\\left(3 - x\\right)^{2}}\\, dx`,String.raw`0`,],\n",
      "  [3,3,3,2,String.raw`\\int\\limits_{3}^{3} \\frac{1}{\\left(3 - 2 x\\right)^{2}}\\, dx`,String.raw`0`,],\n",
      "  [3,3,3,3,String.raw`\\int\\limits_{3}^{3} \\frac{1}{\\left(3 - 3 x\\right)^{2}}\\, dx`,String.raw`0`,],\n",
      "  [3,3,3,4,String.raw`\\int\\limits_{3}^{3} \\frac{1}{\\left(3 - 4 x\\right)^{2}}\\, dx`,String.raw`0`,],\n",
      "  [3,3,3,5,String.raw`\\int\\limits_{3}^{3} \\frac{1}{\\left(3 - 5 x\\right)^{2}}\\, dx`,String.raw`0`,],\n",
      "  [3,3,3,6,String.raw`\\int\\limits_{3}^{3} \\frac{1}{\\left(3 - 6 x\\right)^{2}}\\, dx`,String.raw`0`,],\n",
      "  [3,3,3,7,String.raw`\\int\\limits_{3}^{3} \\frac{1}{\\left(3 - 7 x\\right)^{2}}\\, dx`,String.raw`0`,],\n",
      "  [3,4,1,1,String.raw`\\int\\limits_{3}^{4} \\frac{1}{\\left(1 - x\\right)^{2}}\\, dx`,String.raw`\\frac{1}{6}`,],\n",
      "  [3,4,1,2,String.raw`\\int\\limits_{3}^{4} \\frac{1}{\\left(1 - 2 x\\right)^{2}}\\, dx`,String.raw`\\frac{1}{35}`,],\n",
      "  [3,4,1,3,String.raw`\\int\\limits_{3}^{4} \\frac{1}{\\left(1 - 3 x\\right)^{2}}\\, dx`,String.raw`\\frac{1}{88}`,],\n",
      "  [3,4,1,4,String.raw`\\int\\limits_{3}^{4} \\frac{1}{\\left(1 - 4 x\\right)^{2}}\\, dx`,String.raw`\\frac{1}{165}`,],\n",
      "  [3,4,1,5,String.raw`\\int\\limits_{3}^{4} \\frac{1}{\\left(1 - 5 x\\right)^{2}}\\, dx`,String.raw`\\frac{1}{266}`,],\n",
      "  [3,4,1,6,String.raw`\\int\\limits_{3}^{4} \\frac{1}{\\left(1 - 6 x\\right)^{2}}\\, dx`,String.raw`\\frac{1}{391}`,],\n",
      "  [3,4,1,7,String.raw`\\int\\limits_{3}^{4} \\frac{1}{\\left(1 - 7 x\\right)^{2}}\\, dx`,String.raw`\\frac{1}{540}`,],\n",
      "  [3,4,2,1,String.raw`\\int\\limits_{3}^{4} \\frac{1}{\\left(2 - x\\right)^{2}}\\, dx`,String.raw`\\frac{1}{2}`,],\n",
      "  [3,4,2,2,String.raw`\\int\\limits_{3}^{4} \\frac{1}{\\left(2 - 2 x\\right)^{2}}\\, dx`,String.raw`\\frac{1}{24}`,],\n",
      "  [3,4,2,3,String.raw`\\int\\limits_{3}^{4} \\frac{1}{\\left(2 - 3 x\\right)^{2}}\\, dx`,String.raw`\\frac{1}{70}`,],\n",
      "  [3,4,2,4,String.raw`\\int\\limits_{3}^{4} \\frac{1}{\\left(2 - 4 x\\right)^{2}}\\, dx`,String.raw`\\frac{1}{140}`,],\n",
      "  [3,4,2,5,String.raw`\\int\\limits_{3}^{4} \\frac{1}{\\left(2 - 5 x\\right)^{2}}\\, dx`,String.raw`\\frac{1}{234}`,],\n",
      "  [3,4,2,6,String.raw`\\int\\limits_{3}^{4} \\frac{1}{\\left(2 - 6 x\\right)^{2}}\\, dx`,String.raw`\\frac{1}{352}`,],\n",
      "  [3,4,2,7,String.raw`\\int\\limits_{3}^{4} \\frac{1}{\\left(2 - 7 x\\right)^{2}}\\, dx`,String.raw`\\frac{1}{494}`,],\n",
      "  [3,4,3,1,String.raw`\\int\\limits_{3}^{4} \\frac{1}{\\left(3 - x\\right)^{2}}\\, dx`,String.raw`\\infty`,],\n",
      "  [3,4,3,2,String.raw`\\int\\limits_{3}^{4} \\frac{1}{\\left(3 - 2 x\\right)^{2}}\\, dx`,String.raw`\\frac{1}{15}`,],\n",
      "  [3,4,3,3,String.raw`\\int\\limits_{3}^{4} \\frac{1}{\\left(3 - 3 x\\right)^{2}}\\, dx`,String.raw`\\frac{1}{54}`,],\n",
      "  [3,4,3,4,String.raw`\\int\\limits_{3}^{4} \\frac{1}{\\left(3 - 4 x\\right)^{2}}\\, dx`,String.raw`\\frac{1}{117}`,],\n",
      "  [3,4,3,5,String.raw`\\int\\limits_{3}^{4} \\frac{1}{\\left(3 - 5 x\\right)^{2}}\\, dx`,String.raw`\\frac{1}{204}`,],\n",
      "  [3,4,3,6,String.raw`\\int\\limits_{3}^{4} \\frac{1}{\\left(3 - 6 x\\right)^{2}}\\, dx`,String.raw`\\frac{1}{315}`,],\n",
      "  [3,4,3,7,String.raw`\\int\\limits_{3}^{4} \\frac{1}{\\left(3 - 7 x\\right)^{2}}\\, dx`,String.raw`\\frac{1}{450}`,],\n",
      "  [3,5,1,1,String.raw`\\int\\limits_{3}^{5} \\frac{1}{\\left(1 - x\\right)^{2}}\\, dx`,String.raw`\\frac{1}{4}`,],\n",
      "  [3,5,1,2,String.raw`\\int\\limits_{3}^{5} \\frac{1}{\\left(1 - 2 x\\right)^{2}}\\, dx`,String.raw`\\frac{2}{45}`,],\n",
      "  [3,5,1,3,String.raw`\\int\\limits_{3}^{5} \\frac{1}{\\left(1 - 3 x\\right)^{2}}\\, dx`,String.raw`\\frac{1}{56}`,],\n",
      "  [3,5,1,4,String.raw`\\int\\limits_{3}^{5} \\frac{1}{\\left(1 - 4 x\\right)^{2}}\\, dx`,String.raw`\\frac{2}{209}`,],\n",
      "  [3,5,1,5,String.raw`\\int\\limits_{3}^{5} \\frac{1}{\\left(1 - 5 x\\right)^{2}}\\, dx`,String.raw`\\frac{1}{168}`,],\n",
      "  [3,5,1,6,String.raw`\\int\\limits_{3}^{5} \\frac{1}{\\left(1 - 6 x\\right)^{2}}\\, dx`,String.raw`\\frac{2}{493}`,],\n",
      "  [3,5,1,7,String.raw`\\int\\limits_{3}^{5} \\frac{1}{\\left(1 - 7 x\\right)^{2}}\\, dx`,String.raw`\\frac{1}{340}`,],\n",
      "  [3,5,2,1,String.raw`\\int\\limits_{3}^{5} \\frac{1}{\\left(2 - x\\right)^{2}}\\, dx`,String.raw`\\frac{2}{3}`,],\n",
      "  [3,5,2,2,String.raw`\\int\\limits_{3}^{5} \\frac{1}{\\left(2 - 2 x\\right)^{2}}\\, dx`,String.raw`\\frac{1}{16}`,],\n",
      "  [3,5,2,3,String.raw`\\int\\limits_{3}^{5} \\frac{1}{\\left(2 - 3 x\\right)^{2}}\\, dx`,String.raw`\\frac{2}{91}`,],\n",
      "  [3,5,2,4,String.raw`\\int\\limits_{3}^{5} \\frac{1}{\\left(2 - 4 x\\right)^{2}}\\, dx`,String.raw`\\frac{1}{90}`,],\n",
      "  [3,5,2,5,String.raw`\\int\\limits_{3}^{5} \\frac{1}{\\left(2 - 5 x\\right)^{2}}\\, dx`,String.raw`\\frac{2}{299}`,],\n",
      "  [3,5,2,6,String.raw`\\int\\limits_{3}^{5} \\frac{1}{\\left(2 - 6 x\\right)^{2}}\\, dx`,String.raw`\\frac{1}{224}`,],\n",
      "  [3,5,2,7,String.raw`\\int\\limits_{3}^{5} \\frac{1}{\\left(2 - 7 x\\right)^{2}}\\, dx`,String.raw`\\frac{2}{627}`,],\n",
      "  [3,5,3,1,String.raw`\\int\\limits_{3}^{5} \\frac{1}{\\left(3 - x\\right)^{2}}\\, dx`,String.raw`\\infty`,],\n",
      "  [3,5,3,2,String.raw`\\int\\limits_{3}^{5} \\frac{1}{\\left(3 - 2 x\\right)^{2}}\\, dx`,String.raw`\\frac{2}{21}`,],\n",
      "  [3,5,3,3,String.raw`\\int\\limits_{3}^{5} \\frac{1}{\\left(3 - 3 x\\right)^{2}}\\, dx`,String.raw`\\frac{1}{36}`,],\n",
      "  [3,5,3,4,String.raw`\\int\\limits_{3}^{5} \\frac{1}{\\left(3 - 4 x\\right)^{2}}\\, dx`,String.raw`\\frac{2}{153}`,],\n",
      "  [3,5,3,5,String.raw`\\int\\limits_{3}^{5} \\frac{1}{\\left(3 - 5 x\\right)^{2}}\\, dx`,String.raw`\\frac{1}{132}`,],\n",
      "  [3,5,3,6,String.raw`\\int\\limits_{3}^{5} \\frac{1}{\\left(3 - 6 x\\right)^{2}}\\, dx`,String.raw`\\frac{2}{405}`,],\n",
      "  [3,5,3,7,String.raw`\\int\\limits_{3}^{5} \\frac{1}{\\left(3 - 7 x\\right)^{2}}\\, dx`,String.raw`\\frac{1}{288}`,],\n",
      "  [3,6,1,1,String.raw`\\int\\limits_{3}^{6} \\frac{1}{\\left(1 - x\\right)^{2}}\\, dx`,String.raw`\\frac{3}{10}`,],\n",
      "  [3,6,1,2,String.raw`\\int\\limits_{3}^{6} \\frac{1}{\\left(1 - 2 x\\right)^{2}}\\, dx`,String.raw`\\frac{3}{55}`,],\n",
      "  [3,6,1,3,String.raw`\\int\\limits_{3}^{6} \\frac{1}{\\left(1 - 3 x\\right)^{2}}\\, dx`,String.raw`\\frac{3}{136}`,],\n",
      "  [3,6,1,4,String.raw`\\int\\limits_{3}^{6} \\frac{1}{\\left(1 - 4 x\\right)^{2}}\\, dx`,String.raw`\\frac{3}{253}`,],\n",
      "  [3,6,1,5,String.raw`\\int\\limits_{3}^{6} \\frac{1}{\\left(1 - 5 x\\right)^{2}}\\, dx`,String.raw`\\frac{3}{406}`,],\n",
      "  [3,6,1,6,String.raw`\\int\\limits_{3}^{6} \\frac{1}{\\left(1 - 6 x\\right)^{2}}\\, dx`,String.raw`\\frac{3}{595}`,],\n",
      "  [3,6,1,7,String.raw`\\int\\limits_{3}^{6} \\frac{1}{\\left(1 - 7 x\\right)^{2}}\\, dx`,String.raw`\\frac{3}{820}`,],\n",
      "  [3,6,2,1,String.raw`\\int\\limits_{3}^{6} \\frac{1}{\\left(2 - x\\right)^{2}}\\, dx`,String.raw`\\frac{3}{4}`,],\n",
      "  [3,6,2,2,String.raw`\\int\\limits_{3}^{6} \\frac{1}{\\left(2 - 2 x\\right)^{2}}\\, dx`,String.raw`\\frac{3}{40}`,],\n",
      "  [3,6,2,3,String.raw`\\int\\limits_{3}^{6} \\frac{1}{\\left(2 - 3 x\\right)^{2}}\\, dx`,String.raw`\\frac{3}{112}`,],\n",
      "  [3,6,2,4,String.raw`\\int\\limits_{3}^{6} \\frac{1}{\\left(2 - 4 x\\right)^{2}}\\, dx`,String.raw`\\frac{3}{220}`,],\n",
      "  [3,6,2,5,String.raw`\\int\\limits_{3}^{6} \\frac{1}{\\left(2 - 5 x\\right)^{2}}\\, dx`,String.raw`\\frac{3}{364}`,],\n",
      "  [3,6,2,6,String.raw`\\int\\limits_{3}^{6} \\frac{1}{\\left(2 - 6 x\\right)^{2}}\\, dx`,String.raw`\\frac{3}{544}`,],\n",
      "  [3,6,2,7,String.raw`\\int\\limits_{3}^{6} \\frac{1}{\\left(2 - 7 x\\right)^{2}}\\, dx`,String.raw`\\frac{3}{760}`,],\n",
      "  [3,6,3,1,String.raw`\\int\\limits_{3}^{6} \\frac{1}{\\left(3 - x\\right)^{2}}\\, dx`,String.raw`\\infty`,],\n",
      "  [3,6,3,2,String.raw`\\int\\limits_{3}^{6} \\frac{1}{\\left(3 - 2 x\\right)^{2}}\\, dx`,String.raw`\\frac{1}{9}`,],\n",
      "  [3,6,3,3,String.raw`\\int\\limits_{3}^{6} \\frac{1}{\\left(3 - 3 x\\right)^{2}}\\, dx`,String.raw`\\frac{1}{30}`,],\n",
      "  [3,6,3,4,String.raw`\\int\\limits_{3}^{6} \\frac{1}{\\left(3 - 4 x\\right)^{2}}\\, dx`,String.raw`\\frac{1}{63}`,],\n",
      "  [3,6,3,5,String.raw`\\int\\limits_{3}^{6} \\frac{1}{\\left(3 - 5 x\\right)^{2}}\\, dx`,String.raw`\\frac{1}{108}`,],\n",
      "  [3,6,3,6,String.raw`\\int\\limits_{3}^{6} \\frac{1}{\\left(3 - 6 x\\right)^{2}}\\, dx`,String.raw`\\frac{1}{165}`,],\n",
      "  [3,6,3,7,String.raw`\\int\\limits_{3}^{6} \\frac{1}{\\left(3 - 7 x\\right)^{2}}\\, dx`,String.raw`\\frac{1}{234}`,],\n",
      "  [3,7,1,1,String.raw`\\int\\limits_{3}^{7} \\frac{1}{\\left(1 - x\\right)^{2}}\\, dx`,String.raw`\\frac{1}{3}`,],\n",
      "  [3,7,1,2,String.raw`\\int\\limits_{3}^{7} \\frac{1}{\\left(1 - 2 x\\right)^{2}}\\, dx`,String.raw`\\frac{4}{65}`,],\n",
      "  [3,7,1,3,String.raw`\\int\\limits_{3}^{7} \\frac{1}{\\left(1 - 3 x\\right)^{2}}\\, dx`,String.raw`\\frac{1}{40}`,],\n",
      "  [3,7,1,4,String.raw`\\int\\limits_{3}^{7} \\frac{1}{\\left(1 - 4 x\\right)^{2}}\\, dx`,String.raw`\\frac{4}{297}`,],\n",
      "  [3,7,1,5,String.raw`\\int\\limits_{3}^{7} \\frac{1}{\\left(1 - 5 x\\right)^{2}}\\, dx`,String.raw`\\frac{1}{119}`,],\n",
      "  [3,7,1,6,String.raw`\\int\\limits_{3}^{7} \\frac{1}{\\left(1 - 6 x\\right)^{2}}\\, dx`,String.raw`\\frac{4}{697}`,],\n",
      "  [3,7,1,7,String.raw`\\int\\limits_{3}^{7} \\frac{1}{\\left(1 - 7 x\\right)^{2}}\\, dx`,String.raw`\\frac{1}{240}`,],\n",
      "  [3,7,2,1,String.raw`\\int\\limits_{3}^{7} \\frac{1}{\\left(2 - x\\right)^{2}}\\, dx`,String.raw`\\frac{4}{5}`,],\n",
      "  [3,7,2,2,String.raw`\\int\\limits_{3}^{7} \\frac{1}{\\left(2 - 2 x\\right)^{2}}\\, dx`,String.raw`\\frac{1}{12}`,],\n",
      "  [3,7,2,3,String.raw`\\int\\limits_{3}^{7} \\frac{1}{\\left(2 - 3 x\\right)^{2}}\\, dx`,String.raw`\\frac{4}{133}`,],\n",
      "  [3,7,2,4,String.raw`\\int\\limits_{3}^{7} \\frac{1}{\\left(2 - 4 x\\right)^{2}}\\, dx`,String.raw`\\frac{1}{65}`,],\n",
      "  [3,7,2,5,String.raw`\\int\\limits_{3}^{7} \\frac{1}{\\left(2 - 5 x\\right)^{2}}\\, dx`,String.raw`\\frac{4}{429}`,],\n",
      "  [3,7,2,6,String.raw`\\int\\limits_{3}^{7} \\frac{1}{\\left(2 - 6 x\\right)^{2}}\\, dx`,String.raw`\\frac{1}{160}`,],\n",
      "  [3,7,2,7,String.raw`\\int\\limits_{3}^{7} \\frac{1}{\\left(2 - 7 x\\right)^{2}}\\, dx`,String.raw`\\frac{4}{893}`,],\n",
      "  [3,7,3,1,String.raw`\\int\\limits_{3}^{7} \\frac{1}{\\left(3 - x\\right)^{2}}\\, dx`,String.raw`\\infty`,],\n",
      "  [3,7,3,2,String.raw`\\int\\limits_{3}^{7} \\frac{1}{\\left(3 - 2 x\\right)^{2}}\\, dx`,String.raw`\\frac{4}{33}`,],\n",
      "  [3,7,3,3,String.raw`\\int\\limits_{3}^{7} \\frac{1}{\\left(3 - 3 x\\right)^{2}}\\, dx`,String.raw`\\frac{1}{27}`,],\n",
      "  [3,7,3,4,String.raw`\\int\\limits_{3}^{7} \\frac{1}{\\left(3 - 4 x\\right)^{2}}\\, dx`,String.raw`\\frac{4}{225}`,],\n",
      "  [3,7,3,5,String.raw`\\int\\limits_{3}^{7} \\frac{1}{\\left(3 - 5 x\\right)^{2}}\\, dx`,String.raw`\\frac{1}{96}`,],\n",
      "  [3,7,3,6,String.raw`\\int\\limits_{3}^{7} \\frac{1}{\\left(3 - 6 x\\right)^{2}}\\, dx`,String.raw`\\frac{4}{585}`,],\n",
      "  [3,7,3,7,String.raw`\\int\\limits_{3}^{7} \\frac{1}{\\left(3 - 7 x\\right)^{2}}\\, dx`,String.raw`\\frac{1}{207}`,],\n",
      "];\n",
      "//random_seed=0;\n",
      "[a,b,c,d,prob,sol] = params[random_seed % params.length];\n"
     ]
    }
   ],
   "source": [
    "print(param_script)"
   ]
  },
  {
   "cell_type": "markdown",
   "id": "1516eadc-d285-4ca4-beb8-337190112f51",
   "metadata": {},
   "source": [
    "### CET 5.5 xm 8:"
   ]
  },
  {
   "cell_type": "code",
   "execution_count": 79,
   "id": "df2d02d4-90fd-496a-8705-38b9b2146c25",
   "metadata": {
    "tags": []
   },
   "outputs": [
    {
     "data": {
      "text/latex": [
       "$\\displaystyle \\int\\limits_{a}^{b} \\frac{1}{\\left(c - d x\\right)^{2}}\\, dx$"
      ],
      "text/plain": [
       "Integral((c - d*x)**(-2), (x, a, b))"
      ]
     },
     "execution_count": 79,
     "metadata": {},
     "output_type": "execute_result"
    }
   ],
   "source": [
    "prob = sy.Integral(1/(c - d*x)**2, (x, a, b))\n",
    "prob"
   ]
  },
  {
   "cell_type": "code",
   "execution_count": 80,
   "id": "02bf0da3-45fa-4e45-92a2-ba0ae6927c2c",
   "metadata": {
    "tags": []
   },
   "outputs": [
    {
     "data": {
      "text/latex": [
       "$\\displaystyle - \\frac{1}{b d^{2} - c d} + \\frac{1}{a d^{2} - c d}$"
      ],
      "text/plain": [
       "-1/(b*d**2 - c*d) + 1/(a*d**2 - c*d)"
      ]
     },
     "execution_count": 80,
     "metadata": {},
     "output_type": "execute_result"
    }
   ],
   "source": [
    "sol = prob.doit()\n",
    "sol"
   ]
  },
  {
   "cell_type": "code",
   "execution_count": 81,
   "id": "27f0d384-cb18-4501-9927-dc6d96fc1309",
   "metadata": {
    "tags": []
   },
   "outputs": [
    {
     "data": {
      "text/latex": [
       "$\\displaystyle \\frac{1}{165}$"
      ],
      "text/plain": [
       "1/165"
      ]
     },
     "execution_count": 81,
     "metadata": {},
     "output_type": "execute_result"
    }
   ],
   "source": [
    "sol.subs(a,_a).subs(b,_b).subs(c,_c).subs(d,_d)"
   ]
  },
  {
   "cell_type": "code",
   "execution_count": 82,
   "id": "24b128ae-a81e-408c-b380-419a73f0c678",
   "metadata": {
    "collapsed": true,
    "jupyter": {
     "outputs_hidden": true
    },
    "tags": []
   },
   "outputs": [
    {
     "name": "stdout",
     "output_type": "stream",
     "text": [
      "  [0,1,1,2,String.raw`-1`],\n",
      "  [0,1,1,3,String.raw`- \\frac{1}{2}`],\n",
      "  [0,1,1,4,String.raw`- \\frac{1}{3}`],\n",
      "  [0,1,2,3,String.raw`- \\frac{1}{2}`],\n",
      "  [0,1,2,4,String.raw`- \\frac{1}{4}`],\n",
      "  [0,1,2,5,String.raw`- \\frac{1}{6}`],\n",
      "  [0,1,3,4,String.raw`- \\frac{1}{3}`],\n",
      "  [0,1,3,5,String.raw`- \\frac{1}{6}`],\n",
      "  [0,1,3,6,String.raw`- \\frac{1}{9}`],\n",
      "  [0,2,1,2,String.raw`- \\frac{2}{3}`],\n",
      "  [0,2,1,3,String.raw`- \\frac{2}{5}`],\n",
      "  [0,2,1,4,String.raw`- \\frac{2}{7}`],\n",
      "  [0,2,2,3,String.raw`- \\frac{1}{4}`],\n",
      "  [0,2,2,4,String.raw`- \\frac{1}{6}`],\n",
      "  [0,2,2,5,String.raw`- \\frac{1}{8}`],\n",
      "  [0,2,3,4,String.raw`- \\frac{2}{15}`],\n",
      "  [0,2,3,5,String.raw`- \\frac{2}{21}`],\n",
      "  [0,2,3,6,String.raw`- \\frac{2}{27}`],\n",
      "  [0,3,1,2,String.raw`- \\frac{3}{5}`],\n",
      "  [0,3,1,3,String.raw`- \\frac{3}{8}`],\n",
      "  [0,3,1,4,String.raw`- \\frac{3}{11}`],\n",
      "  [0,3,2,3,String.raw`- \\frac{3}{14}`],\n",
      "  [0,3,2,4,String.raw`- \\frac{3}{20}`],\n",
      "  [0,3,2,5,String.raw`- \\frac{3}{26}`],\n",
      "  [0,3,3,4,String.raw`- \\frac{1}{9}`],\n",
      "  [0,3,3,5,String.raw`- \\frac{1}{12}`],\n",
      "  [0,3,3,6,String.raw`- \\frac{1}{15}`],\n",
      "  [1,2,1,2,String.raw`\\frac{1}{3}`],\n",
      "  [1,2,1,3,String.raw`\\frac{1}{10}`],\n",
      "  [1,2,1,4,String.raw`\\frac{1}{21}`],\n",
      "  [1,2,2,3,String.raw`\\frac{1}{4}`],\n",
      "  [1,2,2,4,String.raw`\\frac{1}{12}`],\n",
      "  [1,2,2,5,String.raw`\\frac{1}{24}`],\n",
      "  [1,2,3,4,String.raw`\\frac{1}{5}`],\n",
      "  [1,2,3,5,String.raw`\\frac{1}{14}`],\n",
      "  [1,2,3,6,String.raw`\\frac{1}{27}`],\n",
      "  [1,3,1,2,String.raw`\\frac{2}{5}`],\n",
      "  [1,3,1,3,String.raw`\\frac{1}{8}`],\n",
      "  [1,3,1,4,String.raw`\\frac{2}{33}`],\n",
      "  [1,3,2,3,String.raw`\\frac{2}{7}`],\n",
      "  [1,3,2,4,String.raw`\\frac{1}{10}`],\n",
      "  [1,3,2,5,String.raw`\\frac{2}{39}`],\n",
      "  [1,3,3,4,String.raw`\\frac{2}{9}`],\n",
      "  [1,3,3,5,String.raw`\\frac{1}{12}`],\n",
      "  [1,3,3,6,String.raw`\\frac{2}{45}`],\n",
      "  [1,4,1,2,String.raw`\\frac{3}{7}`],\n",
      "  [1,4,1,3,String.raw`\\frac{3}{22}`],\n",
      "  [1,4,1,4,String.raw`\\frac{1}{15}`],\n",
      "  [1,4,2,3,String.raw`\\frac{3}{10}`],\n",
      "  [1,4,2,4,String.raw`\\frac{3}{28}`],\n",
      "  [1,4,2,5,String.raw`\\frac{1}{18}`],\n",
      "  [1,4,3,4,String.raw`\\frac{3}{13}`],\n",
      "  [1,4,3,5,String.raw`\\frac{3}{34}`],\n",
      "  [1,4,3,6,String.raw`\\frac{1}{21}`],\n",
      "  [2,3,1,2,String.raw`\\frac{1}{15}`],\n",
      "  [2,3,1,3,String.raw`\\frac{1}{40}`],\n",
      "  [2,3,1,4,String.raw`\\frac{1}{77}`],\n",
      "  [2,3,2,3,String.raw`\\frac{1}{28}`],\n",
      "  [2,3,2,4,String.raw`\\frac{1}{60}`],\n",
      "  [2,3,2,5,String.raw`\\frac{1}{104}`],\n",
      "  [2,3,3,4,String.raw`\\frac{1}{45}`],\n",
      "  [2,3,3,5,String.raw`\\frac{1}{84}`],\n",
      "  [2,3,3,6,String.raw`\\frac{1}{135}`],\n",
      "  [2,4,1,2,String.raw`\\frac{2}{21}`],\n",
      "  [2,4,1,3,String.raw`\\frac{2}{55}`],\n",
      "  [2,4,1,4,String.raw`\\frac{2}{105}`],\n",
      "  [2,4,2,3,String.raw`\\frac{1}{20}`],\n",
      "  [2,4,2,4,String.raw`\\frac{1}{42}`],\n",
      "  [2,4,2,5,String.raw`\\frac{1}{72}`],\n",
      "  [2,4,3,4,String.raw`\\frac{2}{65}`],\n",
      "  [2,4,3,5,String.raw`\\frac{2}{119}`],\n",
      "  [2,4,3,6,String.raw`\\frac{2}{189}`],\n",
      "  [2,5,1,2,String.raw`\\frac{1}{9}`],\n",
      "  [2,5,1,3,String.raw`\\frac{3}{70}`],\n",
      "  [2,5,1,4,String.raw`\\frac{3}{133}`],\n",
      "  [2,5,2,3,String.raw`\\frac{3}{52}`],\n",
      "  [2,5,2,4,String.raw`\\frac{1}{36}`],\n",
      "  [2,5,2,5,String.raw`\\frac{3}{184}`],\n",
      "  [2,5,3,4,String.raw`\\frac{3}{85}`],\n",
      "  [2,5,3,5,String.raw`\\frac{3}{154}`],\n",
      "  [2,5,3,6,String.raw`\\frac{1}{81}`],\n",
      "  [3,4,1,2,String.raw`\\frac{1}{35}`],\n",
      "  [3,4,1,3,String.raw`\\frac{1}{88}`],\n",
      "  [3,4,1,4,String.raw`\\frac{1}{165}`],\n",
      "  [3,4,2,3,String.raw`\\frac{1}{70}`],\n",
      "  [3,4,2,4,String.raw`\\frac{1}{140}`],\n",
      "  [3,4,2,5,String.raw`\\frac{1}{234}`],\n",
      "  [3,4,3,4,String.raw`\\frac{1}{117}`],\n",
      "  [3,4,3,5,String.raw`\\frac{1}{204}`],\n",
      "  [3,4,3,6,String.raw`\\frac{1}{315}`],\n",
      "  [3,5,1,2,String.raw`\\frac{2}{45}`],\n",
      "  [3,5,1,3,String.raw`\\frac{1}{56}`],\n",
      "  [3,5,1,4,String.raw`\\frac{2}{209}`],\n",
      "  [3,5,2,3,String.raw`\\frac{2}{91}`],\n",
      "  [3,5,2,4,String.raw`\\frac{1}{90}`],\n",
      "  [3,5,2,5,String.raw`\\frac{2}{299}`],\n",
      "  [3,5,3,4,String.raw`\\frac{2}{153}`],\n",
      "  [3,5,3,5,String.raw`\\frac{1}{132}`],\n",
      "  [3,5,3,6,String.raw`\\frac{2}{405}`],\n",
      "  [3,6,1,2,String.raw`\\frac{3}{55}`],\n",
      "  [3,6,1,3,String.raw`\\frac{3}{136}`],\n",
      "  [3,6,1,4,String.raw`\\frac{3}{253}`],\n",
      "  [3,6,2,3,String.raw`\\frac{3}{112}`],\n",
      "  [3,6,2,4,String.raw`\\frac{3}{220}`],\n",
      "  [3,6,2,5,String.raw`\\frac{3}{364}`],\n",
      "  [3,6,3,4,String.raw`\\frac{1}{63}`],\n",
      "  [3,6,3,5,String.raw`\\frac{1}{108}`],\n",
      "  [3,6,3,6,String.raw`\\frac{1}{165}`],\n"
     ]
    }
   ],
   "source": [
    "for _a in range(4):\n",
    "    for _b in range(1,4):\n",
    "        _b += _a\n",
    "        for _c in range(1,4):\n",
    "            for _d in range(1,4):\n",
    "                _d += _c\n",
    "                _sol = sol.subs(a,_a).subs(b,_b).subs(c,_c).subs(d,_d)\n",
    "                print(f\"  [{_a},{_b},{_c},{_d},String.raw`{sy.latex(_sol)}`],\")"
   ]
  },
  {
   "cell_type": "markdown",
   "id": "e84162d2-3966-42da-ba9d-69e4b9420358",
   "metadata": {},
   "source": [
    "### 5.5 xm 5:"
   ]
  },
  {
   "cell_type": "code",
   "execution_count": 83,
   "id": "dc96e6ac-8fe9-4ca9-b9c4-33386e2a0475",
   "metadata": {
    "tags": []
   },
   "outputs": [
    {
     "data": {
      "text/latex": [
       "$\\displaystyle \\int x^{b} \\sqrt{a + x^{2}}\\, dx$"
      ],
      "text/plain": [
       "Integral(x**b*sqrt(a + x**2), x)"
      ]
     },
     "execution_count": 83,
     "metadata": {},
     "output_type": "execute_result"
    }
   ],
   "source": [
    "prob = sy.Integral(sy.sqrt(a + x**2) * x**b, x)\n",
    "prob"
   ]
  },
  {
   "cell_type": "code",
   "execution_count": 95,
   "id": "7659bb80-ce16-42ee-899e-44eb0e281ebf",
   "metadata": {
    "tags": []
   },
   "outputs": [
    {
     "data": {
      "text/latex": [
       "$\\displaystyle \\int x^{5} \\sqrt{x^{2} + 1}\\, dx$"
      ],
      "text/plain": [
       "Integral(x**5*sqrt(x**2 + 1), x)"
      ]
     },
     "execution_count": 95,
     "metadata": {},
     "output_type": "execute_result"
    }
   ],
   "source": [
    "prob.subs(a,1).subs(b,5)"
   ]
  },
  {
   "cell_type": "code",
   "execution_count": 155,
   "id": "3b48a546-9494-4422-8fab-27fee73c496e",
   "metadata": {
    "tags": []
   },
   "outputs": [
    {
     "data": {
      "text/latex": [
       "$\\displaystyle \\int \\frac{a^{2} x^{2} - 2 a b x + b^{2} + c + d x + e}{a^{2} x^{2} - 2 a b x + b^{2} + c}\\, dx$"
      ]
     },
     "metadata": {},
     "output_type": "display_data"
    },
    {
     "data": {
      "text/latex": [
       "$\\displaystyle \\int \\frac{a^{2} x^{2} - 2 a b x + b^{2} + c + d x + e}{a^{2} x^{2} - 2 a b x + b^{2} + c}\\, dx$"
      ]
     },
     "metadata": {},
     "output_type": "display_data"
    }
   ],
   "source": [
    "display.display_latex(prob)\n",
    "display.display_latex(prob)\n"
   ]
  },
  {
   "cell_type": "code",
   "execution_count": 97,
   "id": "7a1a30be-3588-423c-a375-576bc0f4a0f7",
   "metadata": {
    "tags": []
   },
   "outputs": [
    {
     "data": {
      "text/latex": [
       "$\\displaystyle \\frac{\\left(x^{2} + 1\\right)^{\\frac{3}{2}} \\cdot \\left(15 x^{4} - 12 x^{2} + 8\\right)}{105}$"
      ],
      "text/plain": [
       "(x**2 + 1)**(3/2)*(15*x**4 - 12*x**2 + 8)/105"
      ]
     },
     "execution_count": 97,
     "metadata": {},
     "output_type": "execute_result"
    }
   ],
   "source": [
    "prob.subs(a,1).subs(b,5).doit().factor()"
   ]
  },
  {
   "cell_type": "code",
   "execution_count": null,
   "id": "dad9a8a8-7d63-4f7c-a9bf-fc811749be55",
   "metadata": {
    "tags": []
   },
   "outputs": [],
   "source": [
    "print(\"if (typeof params === 'undefined') { let params, a, b; }\")\n",
    "print(\"params = [\")\n",
    "for _a in range(1,3):\n",
    "    for _b in range(1,3):\n",
    "        _b = 1 + 2*_b\n",
    "        _prob = prob.subs(a,_a).subs(b,_b)\n",
    "        _sol = _prob.doit().simplify()\n",
    "        print(f\"  [{_a},{_b},String.raw`{sy.latex(_prob)}`,String.raw`{sy.latex(_sol)}`],\")\n",
    "print(\"];\")\n",
    "print(\"[a,b,prob,sol,] = params[random_seed % params.length];\")"
   ]
  },
  {
   "cell_type": "markdown",
   "id": "733ddd86-bffb-46f8-b0b0-53faca47d3fb",
   "metadata": {},
   "source": [
    "### CET 7.4 xc 6:"
   ]
  },
  {
   "cell_type": "code",
   "execution_count": 159,
   "id": "478ace06-83ad-47be-ba7f-a5d3511a93e1",
   "metadata": {
    "tags": []
   },
   "outputs": [
    {
     "data": {
      "text/latex": [
       "$\\displaystyle \\int \\frac{a^{2} x^{2} - 2 a b x + b^{2} + c + d x - e}{a^{2} x^{2} - 2 a b x + b^{2} + c}\\, dx$"
      ],
      "text/plain": [
       "Integral((a**2*x**2 - 2*a*b*x + b**2 + c + d*x - e)/(a**2*x**2 - 2*a*b*x + b**2 + c), x)"
      ]
     },
     "execution_count": 159,
     "metadata": {},
     "output_type": "execute_result"
    }
   ],
   "source": [
    "_u = (a*x-b)\n",
    "denom = _u**2 + c\n",
    "num = denom + (d*x - e)\n",
    "prob = sy.Integral(num.expand()/denom.expand(), x)\n",
    "prob"
   ]
  },
  {
   "cell_type": "code",
   "execution_count": 160,
   "id": "a4997bd1-d226-4fb9-a031-bf9cb2dcca80",
   "metadata": {
    "tags": []
   },
   "outputs": [
    {
     "data": {
      "text/latex": [
       "$\\displaystyle \\int \\frac{4 x^{2} - 3 x + 2}{4 x^{2} - 4 x + 3}\\, dx$"
      ],
      "text/plain": [
       "Integral((4*x**2 - 3*x + 2)/(4*x**2 - 4*x + 3), x)"
      ]
     },
     "execution_count": 160,
     "metadata": {},
     "output_type": "execute_result"
    }
   ],
   "source": [
    "prob.subs(a,2).subs(b,1).subs(c,2).subs(d,1).subs(e,1)"
   ]
  },
  {
   "cell_type": "code",
   "execution_count": null,
   "id": "012758a6-171f-4d0e-8fac-fdcf8b2df774",
   "metadata": {
    "tags": []
   },
   "outputs": [],
   "source": [
    "print(\"if (typeof params === 'undefined') { let params, prob, sol; }\")\n",
    "print(\"params = [\")\n",
    "for _a in range(1,4):\n",
    "    for _b in range(1,3):\n",
    "        for _c in range(1,3):\n",
    "            for _d in range(1,3):\n",
    "                for _e in range(1,3):\n",
    "                    _prob = prob.subs(a,_a).subs(b,_b).subs(c,_c).subs(d,_d).subs(e,_e)\n",
    "                    _sol = _prob.doit().simplify()\n",
    "                    #display.display_latex(_prob)\n",
    "                    #display.display_latex(_sol)\n",
    "                    print(f\"  [String.raw`{sy.latex(_prob)}`,String.raw`{sy.latex(_sol)} + C`],\")\n",
    "print(\"];\")\n",
    "print(\"[prob,sol,] = params[random_seed % params.length];\")"
   ]
  },
  {
   "cell_type": "markdown",
   "id": "a9e5be1d-350b-4b4d-9a38-f264386b910e",
   "metadata": {},
   "source": [
    "\n",
    "<div class=\"container\">\n",
    "  <div class=\"row\">\n",
    "    <div class=\"col-md-12 twelve columns\">\n",
    "\n",
    "<p>For \\</p><p>For <anki-mathjax>z^3</anki-mathjax>:</p><p>First let <span class=\"math\"><anki-mathjax>u=z^{3}, d v=e^{z} d z</anki-mathjax></span> <span class=\"math\"><anki-mathjax>\\Rightarrow d u=3 z^{2} d z, v=e^{z} .</anki-mathjax></span> Then <span class=\"math\"><anki-mathjax>I_{1}=\\int z^{3} e^{z} d z</anki-mathjax></span> <span class=\"math\"><anki-mathjax>=z^{3} e^{z}-3 \\int z^{2} e^{z} d z .</anki-mathjax></span> Next let <span class=\"math\"><anki-mathjax>u_{1}=z^{2},</anki-mathjax></span> <span class=\"math\"><anki-mathjax>d v_{1}=e^{z} d z</anki-mathjax></span> <span class=\"math\"><anki-mathjax>\\Rightarrow d u_{1}=2 z d z, v_{1}</anki-mathjax></span> <span class=\"math\"><anki-mathjax>=e^{z} \\cdot</anki-mathjax></span> Then <span class=\"math\"><anki-mathjax>I_{2}=z^{2} e^{z}-2 \\int z e^{z} d z .</anki-mathjax></span> Finally, let <span class=\"math\"><anki-mathjax>u_{2}=z, d v_{2}=e^{z} d z</anki-mathjax></span> <span class=\"math\"><anki-mathjax>\\Rightarrow d u_{2}=d z,</anki-mathjax></span> <span class=\"math\"><anki-mathjax>v_{2}</anki-mathjax></span> <span class=\"math\"><anki-mathjax>=e^{z} \\cdot</anki-mathjax></span> Then <span class=\"math\"><anki-mathjax>\\int z e^{z} d z</anki-mathjax></span> <span class=\"math\"><anki-mathjax>=z e^{z}-\\int e^{z} d z</anki-mathjax></span> <span class=\"math\"><anki-mathjax>=z e^{z}-e^{z}+C_{1} .</anki-mathjax></span> Substituting in the expression for <span class=\"math\"><anki-mathjax>I_{2},</anki-mathjax></span> we get <span class=\"math\"><anki-mathjax>I_{2}=z^{2} e^{z}-2\\left(z e^{z}-e^{z}+C_{1}\\right)</anki-mathjax></span> <span class=\"math\"><anki-mathjax>=z^{2} e^{z}-2 z e^{z}+2 e^{z}-2 C_{1} .</anki-mathjax></span> Substituting the last expression for <span class=\"math\"><anki-mathjax>I_{2}</anki-mathjax></span> into <span class=\"math\"><anki-mathjax>I_{1}</anki-mathjax></span> gives <span class=\"math\"><anki-mathjax>I_{1}=z^{3} e^{z}-3\\left(z^{2} e^{z}-2 z e^{z}+2 e^{z}-2 C_{1}\\right)</anki-mathjax></span> <span class=\"math\"><anki-mathjax>=z^{3} e^{z}-3 z^{2} e^{z}+6 z e^{z}-6 e^{z}+C,</anki-mathjax></span> where <span class=\"math\"><anki-mathjax>C=6 C_{1}.</anki-mathjax></span></p>\n",
    "\n",
    "      </div>\n",
    "  </div>\n",
    "</div>\n"
   ]
  },
  {
   "cell_type": "markdown",
   "id": "a2ef3919-3bac-4938-9965-c9cc1e2c4645",
   "metadata": {},
   "source": [
    "### CET 7.3 xs 12:"
   ]
  },
  {
   "cell_type": "code",
   "execution_count": 15,
   "id": "bd4e2bea-645b-4763-a7e3-3e7bd6a737e1",
   "metadata": {
    "tags": []
   },
   "outputs": [
    {
     "name": "stdout",
     "output_type": "stream",
     "text": [
      "\\int\\limits_{0}^{a} \\frac{1}{\\sqrt{a^{2} + t^{2}}}\\, dt\n"
     ]
    },
    {
     "data": {
      "text/latex": [
       "$\\displaystyle \\int\\limits_{0}^{a} \\frac{1}{\\sqrt{a^{2} + t^{2}}}\\, dt$"
      ],
      "text/plain": [
       "Integral(1/sqrt(a**2 + t**2), (t, 0, a))"
      ]
     },
     "execution_count": 15,
     "metadata": {},
     "output_type": "execute_result"
    }
   ],
   "source": [
    "_prob = sy.Integral(1/sy.sqrt(a**2 + t**2), (t, 0, a))\n",
    "print(sy.latex(_prob))\n",
    "_prob"
   ]
  },
  {
   "cell_type": "code",
   "execution_count": 21,
   "id": "51456285-4799-4853-80d3-d462b0fb8d34",
   "metadata": {
    "tags": []
   },
   "outputs": [
    {
     "name": "stdout",
     "output_type": "stream",
     "text": [
      "if (typeof parameters === 'undefined') { let parameters,a,problem,solution; }\n",
      "parameters = [\n",
      "  [2, String.raw`\\int\\limits_{0}^{2} \\frac{1}{\\sqrt{t^{2} + 4}}\\, dt`,String.raw`\\log{\\left(1 + \\sqrt{2} \\right)}`],\n",
      "  [3, String.raw`\\int\\limits_{0}^{3} \\frac{1}{\\sqrt{t^{2} + 9}}\\, dt`,String.raw`\\log{\\left(1 + \\sqrt{2} \\right)}`],\n",
      "  [4, String.raw`\\int\\limits_{0}^{4} \\frac{1}{\\sqrt{t^{2} + 16}}\\, dt`,String.raw`\\log{\\left(1 + \\sqrt{2} \\right)}`],\n",
      "  [5, String.raw`\\int\\limits_{0}^{5} \\frac{1}{\\sqrt{t^{2} + 25}}\\, dt`,String.raw`\\log{\\left(1 + \\sqrt{2} \\right)}`],\n",
      "  [6, String.raw`\\int\\limits_{0}^{6} \\frac{1}{\\sqrt{t^{2} + 36}}\\, dt`,String.raw`\\log{\\left(1 + \\sqrt{2} \\right)}`],\n",
      "  [7, String.raw`\\int\\limits_{0}^{7} \\frac{1}{\\sqrt{t^{2} + 49}}\\, dt`,String.raw`\\log{\\left(1 + \\sqrt{2} \\right)}`],\n",
      "  [8, String.raw`\\int\\limits_{0}^{8} \\frac{1}{\\sqrt{t^{2} + 64}}\\, dt`,String.raw`\\log{\\left(1 + \\sqrt{2} \\right)}`],\n",
      "  [9, String.raw`\\int\\limits_{0}^{9} \\frac{1}{\\sqrt{t^{2} + 81}}\\, dt`,String.raw`\\log{\\left(1 + \\sqrt{2} \\right)}`],\n",
      "];\n",
      "//random_seed=0;\n",
      "[a, problem, solution] = parameters[random_seed % parameters.length];\n",
      "1675842439.065 GET /_anki/js/webview.js\n"
     ]
    }
   ],
   "source": [
    "print(\"if (typeof parameters === 'undefined') { let parameters,a,problem,solution; }\")\n",
    "print(\"parameters = [\")\n",
    "for _a in range(2,10):\n",
    "    prob=_prob.subs(a, _a)\n",
    "    sol = prob.doit()\n",
    "    print(f'  [{_a}, String.raw`{sy.latex(prob)}`,String.raw`{sy.latex(sol)}`],')\n",
    "print(\"];\")\n",
    "print(\"//random_seed=0;\")\n",
    "print(\"[a, problem, solution] = parameters[random_seed % parameters.length];\")"
   ]
  },
  {
   "cell_type": "markdown",
   "id": "503ce0c9-1ea9-4502-bd5e-62966ddb1e66",
   "metadata": {},
   "source": [
    "### CET 00-A.01d"
   ]
  },
  {
   "cell_type": "code",
   "execution_count": 97,
   "id": "0eec5fba-2c26-44ce-b923-d0f8aea87519",
   "metadata": {
    "tags": []
   },
   "outputs": [
    {
     "data": {
      "text/latex": [
       "$\\displaystyle a^{b} a^{- c}$"
      ],
      "text/plain": [
       "a**b/a**c"
      ]
     },
     "execution_count": 97,
     "metadata": {},
     "output_type": "execute_result"
    }
   ],
   "source": [
    "_prob = (a**b)/(a**c)\n",
    "_prob"
   ]
  },
  {
   "cell_type": "code",
   "execution_count": 98,
   "id": "3b4d1d25-e4b9-41df-b80e-6ac40ba52d5f",
   "metadata": {
    "tags": []
   },
   "outputs": [
    {
     "data": {
      "text/latex": [
       "$\\displaystyle 25$"
      ],
      "text/plain": [
       "25"
      ]
     },
     "execution_count": 98,
     "metadata": {},
     "output_type": "execute_result"
    }
   ],
   "source": [
    "_prob.subs(a,5).subs(b,23).subs(c,21)"
   ]
  },
  {
   "cell_type": "code",
   "execution_count": 99,
   "id": "39d5bc84-0b7f-4c6a-940c-f98396fb4bb2",
   "metadata": {
    "collapsed": true,
    "jupyter": {
     "outputs_hidden": true
    },
    "tags": []
   },
   "outputs": [
    {
     "name": "stdout",
     "output_type": "stream",
     "text": [
      "if (typeof params === 'undefined') { let params,a,b,c,sol; }\n",
      "params = [\n",
      "  [2,10,6,String.raw`16`,],\n",
      "  [2,10,7,String.raw`8`,],\n",
      "  [2,10,8,String.raw`4`,],\n",
      "  [2,10,9,String.raw`2`,],\n",
      "  [2,10,11,String.raw`\\frac{1}{2}`,],\n",
      "  [2,10,12,String.raw`\\frac{1}{4}`,],\n",
      "  [2,10,13,String.raw`\\frac{1}{8}`,],\n",
      "  [2,10,14,String.raw`\\frac{1}{16}`,],\n",
      "  [2,11,7,String.raw`16`,],\n",
      "  [2,11,8,String.raw`8`,],\n",
      "  [2,11,9,String.raw`4`,],\n",
      "  [2,11,10,String.raw`2`,],\n",
      "  [2,11,12,String.raw`\\frac{1}{2}`,],\n",
      "  [2,11,13,String.raw`\\frac{1}{4}`,],\n",
      "  [2,11,14,String.raw`\\frac{1}{8}`,],\n",
      "  [2,11,15,String.raw`\\frac{1}{16}`,],\n",
      "  [2,12,8,String.raw`16`,],\n",
      "  [2,12,9,String.raw`8`,],\n",
      "  [2,12,10,String.raw`4`,],\n",
      "  [2,12,11,String.raw`2`,],\n",
      "  [2,12,13,String.raw`\\frac{1}{2}`,],\n",
      "  [2,12,14,String.raw`\\frac{1}{4}`,],\n",
      "  [2,12,15,String.raw`\\frac{1}{8}`,],\n",
      "  [2,12,16,String.raw`\\frac{1}{16}`,],\n",
      "  [2,13,9,String.raw`16`,],\n",
      "  [2,13,10,String.raw`8`,],\n",
      "  [2,13,11,String.raw`4`,],\n",
      "  [2,13,12,String.raw`2`,],\n",
      "  [2,13,14,String.raw`\\frac{1}{2}`,],\n",
      "  [2,13,15,String.raw`\\frac{1}{4}`,],\n",
      "  [2,13,16,String.raw`\\frac{1}{8}`,],\n",
      "  [2,13,17,String.raw`\\frac{1}{16}`,],\n",
      "  [2,14,10,String.raw`16`,],\n",
      "  [2,14,11,String.raw`8`,],\n",
      "  [2,14,12,String.raw`4`,],\n",
      "  [2,14,13,String.raw`2`,],\n",
      "  [2,14,15,String.raw`\\frac{1}{2}`,],\n",
      "  [2,14,16,String.raw`\\frac{1}{4}`,],\n",
      "  [2,14,17,String.raw`\\frac{1}{8}`,],\n",
      "  [2,14,18,String.raw`\\frac{1}{16}`,],\n",
      "  [2,15,11,String.raw`16`,],\n",
      "  [2,15,12,String.raw`8`,],\n",
      "  [2,15,13,String.raw`4`,],\n",
      "  [2,15,14,String.raw`2`,],\n",
      "  [2,15,16,String.raw`\\frac{1}{2}`,],\n",
      "  [2,15,17,String.raw`\\frac{1}{4}`,],\n",
      "  [2,15,18,String.raw`\\frac{1}{8}`,],\n",
      "  [2,15,19,String.raw`\\frac{1}{16}`,],\n",
      "  [2,16,12,String.raw`16`,],\n",
      "  [2,16,13,String.raw`8`,],\n",
      "  [2,16,14,String.raw`4`,],\n",
      "  [2,16,15,String.raw`2`,],\n",
      "  [2,16,17,String.raw`\\frac{1}{2}`,],\n",
      "  [2,16,18,String.raw`\\frac{1}{4}`,],\n",
      "  [2,16,19,String.raw`\\frac{1}{8}`,],\n",
      "  [2,16,20,String.raw`\\frac{1}{16}`,],\n",
      "  [2,17,13,String.raw`16`,],\n",
      "  [2,17,14,String.raw`8`,],\n",
      "  [2,17,15,String.raw`4`,],\n",
      "  [2,17,16,String.raw`2`,],\n",
      "  [2,17,18,String.raw`\\frac{1}{2}`,],\n",
      "  [2,17,19,String.raw`\\frac{1}{4}`,],\n",
      "  [2,17,20,String.raw`\\frac{1}{8}`,],\n",
      "  [2,17,21,String.raw`\\frac{1}{16}`,],\n",
      "  [2,18,14,String.raw`16`,],\n",
      "  [2,18,15,String.raw`8`,],\n",
      "  [2,18,16,String.raw`4`,],\n",
      "  [2,18,17,String.raw`2`,],\n",
      "  [2,18,19,String.raw`\\frac{1}{2}`,],\n",
      "  [2,18,20,String.raw`\\frac{1}{4}`,],\n",
      "  [2,18,21,String.raw`\\frac{1}{8}`,],\n",
      "  [2,18,22,String.raw`\\frac{1}{16}`,],\n",
      "  [2,19,15,String.raw`16`,],\n",
      "  [2,19,16,String.raw`8`,],\n",
      "  [2,19,17,String.raw`4`,],\n",
      "  [2,19,18,String.raw`2`,],\n",
      "  [2,19,20,String.raw`\\frac{1}{2}`,],\n",
      "  [2,19,21,String.raw`\\frac{1}{4}`,],\n",
      "  [2,19,22,String.raw`\\frac{1}{8}`,],\n",
      "  [2,19,23,String.raw`\\frac{1}{16}`,],\n",
      "  [3,10,6,String.raw`81`,],\n",
      "  [3,10,7,String.raw`27`,],\n",
      "  [3,10,8,String.raw`9`,],\n",
      "  [3,10,9,String.raw`3`,],\n",
      "  [3,10,11,String.raw`\\frac{1}{3}`,],\n",
      "  [3,10,12,String.raw`\\frac{1}{9}`,],\n",
      "  [3,10,13,String.raw`\\frac{1}{27}`,],\n",
      "  [3,10,14,String.raw`\\frac{1}{81}`,],\n",
      "  [3,11,7,String.raw`81`,],\n",
      "  [3,11,8,String.raw`27`,],\n",
      "  [3,11,9,String.raw`9`,],\n",
      "  [3,11,10,String.raw`3`,],\n",
      "  [3,11,12,String.raw`\\frac{1}{3}`,],\n",
      "  [3,11,13,String.raw`\\frac{1}{9}`,],\n",
      "  [3,11,14,String.raw`\\frac{1}{27}`,],\n",
      "  [3,11,15,String.raw`\\frac{1}{81}`,],\n",
      "  [3,12,8,String.raw`81`,],\n",
      "  [3,12,9,String.raw`27`,],\n",
      "  [3,12,10,String.raw`9`,],\n",
      "  [3,12,11,String.raw`3`,],\n",
      "  [3,12,13,String.raw`\\frac{1}{3}`,],\n",
      "  [3,12,14,String.raw`\\frac{1}{9}`,],\n",
      "  [3,12,15,String.raw`\\frac{1}{27}`,],\n",
      "  [3,12,16,String.raw`\\frac{1}{81}`,],\n",
      "  [3,13,9,String.raw`81`,],\n",
      "  [3,13,10,String.raw`27`,],\n",
      "  [3,13,11,String.raw`9`,],\n",
      "  [3,13,12,String.raw`3`,],\n",
      "  [3,13,14,String.raw`\\frac{1}{3}`,],\n",
      "  [3,13,15,String.raw`\\frac{1}{9}`,],\n",
      "  [3,13,16,String.raw`\\frac{1}{27}`,],\n",
      "  [3,13,17,String.raw`\\frac{1}{81}`,],\n",
      "  [3,14,10,String.raw`81`,],\n",
      "  [3,14,11,String.raw`27`,],\n",
      "  [3,14,12,String.raw`9`,],\n",
      "  [3,14,13,String.raw`3`,],\n",
      "  [3,14,15,String.raw`\\frac{1}{3}`,],\n",
      "  [3,14,16,String.raw`\\frac{1}{9}`,],\n",
      "  [3,14,17,String.raw`\\frac{1}{27}`,],\n",
      "  [3,14,18,String.raw`\\frac{1}{81}`,],\n",
      "  [3,15,11,String.raw`81`,],\n",
      "  [3,15,12,String.raw`27`,],\n",
      "  [3,15,13,String.raw`9`,],\n",
      "  [3,15,14,String.raw`3`,],\n",
      "  [3,15,16,String.raw`\\frac{1}{3}`,],\n",
      "  [3,15,17,String.raw`\\frac{1}{9}`,],\n",
      "  [3,15,18,String.raw`\\frac{1}{27}`,],\n",
      "  [3,15,19,String.raw`\\frac{1}{81}`,],\n",
      "  [3,16,12,String.raw`81`,],\n",
      "  [3,16,13,String.raw`27`,],\n",
      "  [3,16,14,String.raw`9`,],\n",
      "  [3,16,15,String.raw`3`,],\n",
      "  [3,16,17,String.raw`\\frac{1}{3}`,],\n",
      "  [3,16,18,String.raw`\\frac{1}{9}`,],\n",
      "  [3,16,19,String.raw`\\frac{1}{27}`,],\n",
      "  [3,16,20,String.raw`\\frac{1}{81}`,],\n",
      "  [3,17,13,String.raw`81`,],\n",
      "  [3,17,14,String.raw`27`,],\n",
      "  [3,17,15,String.raw`9`,],\n",
      "  [3,17,16,String.raw`3`,],\n",
      "  [3,17,18,String.raw`\\frac{1}{3}`,],\n",
      "  [3,17,19,String.raw`\\frac{1}{9}`,],\n",
      "  [3,17,20,String.raw`\\frac{1}{27}`,],\n",
      "  [3,17,21,String.raw`\\frac{1}{81}`,],\n",
      "  [3,18,14,String.raw`81`,],\n",
      "  [3,18,15,String.raw`27`,],\n",
      "  [3,18,16,String.raw`9`,],\n",
      "  [3,18,17,String.raw`3`,],\n",
      "  [3,18,19,String.raw`\\frac{1}{3}`,],\n",
      "  [3,18,20,String.raw`\\frac{1}{9}`,],\n",
      "  [3,18,21,String.raw`\\frac{1}{27}`,],\n",
      "  [3,18,22,String.raw`\\frac{1}{81}`,],\n",
      "  [3,19,15,String.raw`81`,],\n",
      "  [3,19,16,String.raw`27`,],\n",
      "  [3,19,17,String.raw`9`,],\n",
      "  [3,19,18,String.raw`3`,],\n",
      "  [3,19,20,String.raw`\\frac{1}{3}`,],\n",
      "  [3,19,21,String.raw`\\frac{1}{9}`,],\n",
      "  [3,19,22,String.raw`\\frac{1}{27}`,],\n",
      "  [3,19,23,String.raw`\\frac{1}{81}`,],\n",
      "  [4,10,6,String.raw`256`,],\n",
      "  [4,10,7,String.raw`64`,],\n",
      "  [4,10,8,String.raw`16`,],\n",
      "  [4,10,9,String.raw`4`,],\n",
      "  [4,10,11,String.raw`\\frac{1}{4}`,],\n",
      "  [4,10,12,String.raw`\\frac{1}{16}`,],\n",
      "  [4,10,13,String.raw`\\frac{1}{64}`,],\n",
      "  [4,10,14,String.raw`\\frac{1}{256}`,],\n",
      "  [4,11,7,String.raw`256`,],\n",
      "  [4,11,8,String.raw`64`,],\n",
      "  [4,11,9,String.raw`16`,],\n",
      "  [4,11,10,String.raw`4`,],\n",
      "  [4,11,12,String.raw`\\frac{1}{4}`,],\n",
      "  [4,11,13,String.raw`\\frac{1}{16}`,],\n",
      "  [4,11,14,String.raw`\\frac{1}{64}`,],\n",
      "  [4,11,15,String.raw`\\frac{1}{256}`,],\n",
      "  [4,12,8,String.raw`256`,],\n",
      "  [4,12,9,String.raw`64`,],\n",
      "  [4,12,10,String.raw`16`,],\n",
      "  [4,12,11,String.raw`4`,],\n",
      "  [4,12,13,String.raw`\\frac{1}{4}`,],\n",
      "  [4,12,14,String.raw`\\frac{1}{16}`,],\n",
      "  [4,12,15,String.raw`\\frac{1}{64}`,],\n",
      "  [4,12,16,String.raw`\\frac{1}{256}`,],\n",
      "  [4,13,9,String.raw`256`,],\n",
      "  [4,13,10,String.raw`64`,],\n",
      "  [4,13,11,String.raw`16`,],\n",
      "  [4,13,12,String.raw`4`,],\n",
      "  [4,13,14,String.raw`\\frac{1}{4}`,],\n",
      "  [4,13,15,String.raw`\\frac{1}{16}`,],\n",
      "  [4,13,16,String.raw`\\frac{1}{64}`,],\n",
      "  [4,13,17,String.raw`\\frac{1}{256}`,],\n",
      "  [4,14,10,String.raw`256`,],\n",
      "  [4,14,11,String.raw`64`,],\n",
      "  [4,14,12,String.raw`16`,],\n",
      "  [4,14,13,String.raw`4`,],\n",
      "  [4,14,15,String.raw`\\frac{1}{4}`,],\n",
      "  [4,14,16,String.raw`\\frac{1}{16}`,],\n",
      "  [4,14,17,String.raw`\\frac{1}{64}`,],\n",
      "  [4,14,18,String.raw`\\frac{1}{256}`,],\n",
      "  [4,15,11,String.raw`256`,],\n",
      "  [4,15,12,String.raw`64`,],\n",
      "  [4,15,13,String.raw`16`,],\n",
      "  [4,15,14,String.raw`4`,],\n",
      "  [4,15,16,String.raw`\\frac{1}{4}`,],\n",
      "  [4,15,17,String.raw`\\frac{1}{16}`,],\n",
      "  [4,15,18,String.raw`\\frac{1}{64}`,],\n",
      "  [4,15,19,String.raw`\\frac{1}{256}`,],\n",
      "  [4,16,12,String.raw`256`,],\n",
      "  [4,16,13,String.raw`64`,],\n",
      "  [4,16,14,String.raw`16`,],\n",
      "  [4,16,15,String.raw`4`,],\n",
      "  [4,16,17,String.raw`\\frac{1}{4}`,],\n",
      "  [4,16,18,String.raw`\\frac{1}{16}`,],\n",
      "  [4,16,19,String.raw`\\frac{1}{64}`,],\n",
      "  [4,16,20,String.raw`\\frac{1}{256}`,],\n",
      "  [4,17,13,String.raw`256`,],\n",
      "  [4,17,14,String.raw`64`,],\n",
      "  [4,17,15,String.raw`16`,],\n",
      "  [4,17,16,String.raw`4`,],\n",
      "  [4,17,18,String.raw`\\frac{1}{4}`,],\n",
      "  [4,17,19,String.raw`\\frac{1}{16}`,],\n",
      "  [4,17,20,String.raw`\\frac{1}{64}`,],\n",
      "  [4,17,21,String.raw`\\frac{1}{256}`,],\n",
      "  [4,18,14,String.raw`256`,],\n",
      "  [4,18,15,String.raw`64`,],\n",
      "  [4,18,16,String.raw`16`,],\n",
      "  [4,18,17,String.raw`4`,],\n",
      "  [4,18,19,String.raw`\\frac{1}{4}`,],\n",
      "  [4,18,20,String.raw`\\frac{1}{16}`,],\n",
      "  [4,18,21,String.raw`\\frac{1}{64}`,],\n",
      "  [4,18,22,String.raw`\\frac{1}{256}`,],\n",
      "  [4,19,15,String.raw`256`,],\n",
      "  [4,19,16,String.raw`64`,],\n",
      "  [4,19,17,String.raw`16`,],\n",
      "  [4,19,18,String.raw`4`,],\n",
      "  [4,19,20,String.raw`\\frac{1}{4}`,],\n",
      "  [4,19,21,String.raw`\\frac{1}{16}`,],\n",
      "  [4,19,22,String.raw`\\frac{1}{64}`,],\n",
      "  [4,19,23,String.raw`\\frac{1}{256}`,],\n",
      "  [5,10,6,String.raw`625`,],\n",
      "  [5,10,7,String.raw`125`,],\n",
      "  [5,10,8,String.raw`25`,],\n",
      "  [5,10,9,String.raw`5`,],\n",
      "  [5,10,11,String.raw`\\frac{1}{5}`,],\n",
      "  [5,10,12,String.raw`\\frac{1}{25}`,],\n",
      "  [5,10,13,String.raw`\\frac{1}{125}`,],\n",
      "  [5,10,14,String.raw`\\frac{1}{625}`,],\n",
      "  [5,11,7,String.raw`625`,],\n",
      "  [5,11,8,String.raw`125`,],\n",
      "  [5,11,9,String.raw`25`,],\n",
      "  [5,11,10,String.raw`5`,],\n",
      "  [5,11,12,String.raw`\\frac{1}{5}`,],\n",
      "  [5,11,13,String.raw`\\frac{1}{25}`,],\n",
      "  [5,11,14,String.raw`\\frac{1}{125}`,],\n",
      "  [5,11,15,String.raw`\\frac{1}{625}`,],\n",
      "  [5,12,8,String.raw`625`,],\n",
      "  [5,12,9,String.raw`125`,],\n",
      "  [5,12,10,String.raw`25`,],\n",
      "  [5,12,11,String.raw`5`,],\n",
      "  [5,12,13,String.raw`\\frac{1}{5}`,],\n",
      "  [5,12,14,String.raw`\\frac{1}{25}`,],\n",
      "  [5,12,15,String.raw`\\frac{1}{125}`,],\n",
      "  [5,12,16,String.raw`\\frac{1}{625}`,],\n",
      "  [5,13,9,String.raw`625`,],\n",
      "  [5,13,10,String.raw`125`,],\n",
      "  [5,13,11,String.raw`25`,],\n",
      "  [5,13,12,String.raw`5`,],\n",
      "  [5,13,14,String.raw`\\frac{1}{5}`,],\n",
      "  [5,13,15,String.raw`\\frac{1}{25}`,],\n",
      "  [5,13,16,String.raw`\\frac{1}{125}`,],\n",
      "  [5,13,17,String.raw`\\frac{1}{625}`,],\n",
      "  [5,14,10,String.raw`625`,],\n",
      "  [5,14,11,String.raw`125`,],\n",
      "  [5,14,12,String.raw`25`,],\n",
      "  [5,14,13,String.raw`5`,],\n",
      "  [5,14,15,String.raw`\\frac{1}{5}`,],\n",
      "  [5,14,16,String.raw`\\frac{1}{25}`,],\n",
      "  [5,14,17,String.raw`\\frac{1}{125}`,],\n",
      "  [5,14,18,String.raw`\\frac{1}{625}`,],\n",
      "  [5,15,11,String.raw`625`,],\n",
      "  [5,15,12,String.raw`125`,],\n",
      "  [5,15,13,String.raw`25`,],\n",
      "  [5,15,14,String.raw`5`,],\n",
      "  [5,15,16,String.raw`\\frac{1}{5}`,],\n",
      "  [5,15,17,String.raw`\\frac{1}{25}`,],\n",
      "  [5,15,18,String.raw`\\frac{1}{125}`,],\n",
      "  [5,15,19,String.raw`\\frac{1}{625}`,],\n",
      "  [5,16,12,String.raw`625`,],\n",
      "  [5,16,13,String.raw`125`,],\n",
      "  [5,16,14,String.raw`25`,],\n",
      "  [5,16,15,String.raw`5`,],\n",
      "  [5,16,17,String.raw`\\frac{1}{5}`,],\n",
      "  [5,16,18,String.raw`\\frac{1}{25}`,],\n",
      "  [5,16,19,String.raw`\\frac{1}{125}`,],\n",
      "  [5,16,20,String.raw`\\frac{1}{625}`,],\n",
      "  [5,17,13,String.raw`625`,],\n",
      "  [5,17,14,String.raw`125`,],\n",
      "  [5,17,15,String.raw`25`,],\n",
      "  [5,17,16,String.raw`5`,],\n",
      "  [5,17,18,String.raw`\\frac{1}{5}`,],\n",
      "  [5,17,19,String.raw`\\frac{1}{25}`,],\n",
      "  [5,17,20,String.raw`\\frac{1}{125}`,],\n",
      "  [5,17,21,String.raw`\\frac{1}{625}`,],\n",
      "  [5,18,14,String.raw`625`,],\n",
      "  [5,18,15,String.raw`125`,],\n",
      "  [5,18,16,String.raw`25`,],\n",
      "  [5,18,17,String.raw`5`,],\n",
      "  [5,18,19,String.raw`\\frac{1}{5}`,],\n",
      "  [5,18,20,String.raw`\\frac{1}{25}`,],\n",
      "  [5,18,21,String.raw`\\frac{1}{125}`,],\n",
      "  [5,18,22,String.raw`\\frac{1}{625}`,],\n",
      "  [5,19,15,String.raw`625`,],\n",
      "  [5,19,16,String.raw`125`,],\n",
      "  [5,19,17,String.raw`25`,],\n",
      "  [5,19,18,String.raw`5`,],\n",
      "  [5,19,20,String.raw`\\frac{1}{5}`,],\n",
      "  [5,19,21,String.raw`\\frac{1}{25}`,],\n",
      "  [5,19,22,String.raw`\\frac{1}{125}`,],\n",
      "  [5,19,23,String.raw`\\frac{1}{625}`,],\n",
      "  [6,10,6,String.raw`1296`,],\n",
      "  [6,10,7,String.raw`216`,],\n",
      "  [6,10,8,String.raw`36`,],\n",
      "  [6,10,9,String.raw`6`,],\n",
      "  [6,10,11,String.raw`\\frac{1}{6}`,],\n",
      "  [6,10,12,String.raw`\\frac{1}{36}`,],\n",
      "  [6,10,13,String.raw`\\frac{1}{216}`,],\n",
      "  [6,10,14,String.raw`\\frac{1}{1296}`,],\n",
      "  [6,11,7,String.raw`1296`,],\n",
      "  [6,11,8,String.raw`216`,],\n",
      "  [6,11,9,String.raw`36`,],\n",
      "  [6,11,10,String.raw`6`,],\n",
      "  [6,11,12,String.raw`\\frac{1}{6}`,],\n",
      "  [6,11,13,String.raw`\\frac{1}{36}`,],\n",
      "  [6,11,14,String.raw`\\frac{1}{216}`,],\n",
      "  [6,11,15,String.raw`\\frac{1}{1296}`,],\n",
      "  [6,12,8,String.raw`1296`,],\n",
      "  [6,12,9,String.raw`216`,],\n",
      "  [6,12,10,String.raw`36`,],\n",
      "  [6,12,11,String.raw`6`,],\n",
      "  [6,12,13,String.raw`\\frac{1}{6}`,],\n",
      "  [6,12,14,String.raw`\\frac{1}{36}`,],\n",
      "  [6,12,15,String.raw`\\frac{1}{216}`,],\n",
      "  [6,12,16,String.raw`\\frac{1}{1296}`,],\n",
      "  [6,13,9,String.raw`1296`,],\n",
      "  [6,13,10,String.raw`216`,],\n",
      "  [6,13,11,String.raw`36`,],\n",
      "  [6,13,12,String.raw`6`,],\n",
      "  [6,13,14,String.raw`\\frac{1}{6}`,],\n",
      "  [6,13,15,String.raw`\\frac{1}{36}`,],\n",
      "  [6,13,16,String.raw`\\frac{1}{216}`,],\n",
      "  [6,13,17,String.raw`\\frac{1}{1296}`,],\n",
      "  [6,14,10,String.raw`1296`,],\n",
      "  [6,14,11,String.raw`216`,],\n",
      "  [6,14,12,String.raw`36`,],\n",
      "  [6,14,13,String.raw`6`,],\n",
      "  [6,14,15,String.raw`\\frac{1}{6}`,],\n",
      "  [6,14,16,String.raw`\\frac{1}{36}`,],\n",
      "  [6,14,17,String.raw`\\frac{1}{216}`,],\n",
      "  [6,14,18,String.raw`\\frac{1}{1296}`,],\n",
      "  [6,15,11,String.raw`1296`,],\n",
      "  [6,15,12,String.raw`216`,],\n",
      "  [6,15,13,String.raw`36`,],\n",
      "  [6,15,14,String.raw`6`,],\n",
      "  [6,15,16,String.raw`\\frac{1}{6}`,],\n",
      "  [6,15,17,String.raw`\\frac{1}{36}`,],\n",
      "  [6,15,18,String.raw`\\frac{1}{216}`,],\n",
      "  [6,15,19,String.raw`\\frac{1}{1296}`,],\n",
      "  [6,16,12,String.raw`1296`,],\n",
      "  [6,16,13,String.raw`216`,],\n",
      "  [6,16,14,String.raw`36`,],\n",
      "  [6,16,15,String.raw`6`,],\n",
      "  [6,16,17,String.raw`\\frac{1}{6}`,],\n",
      "  [6,16,18,String.raw`\\frac{1}{36}`,],\n",
      "  [6,16,19,String.raw`\\frac{1}{216}`,],\n",
      "  [6,16,20,String.raw`\\frac{1}{1296}`,],\n",
      "  [6,17,13,String.raw`1296`,],\n",
      "  [6,17,14,String.raw`216`,],\n",
      "  [6,17,15,String.raw`36`,],\n",
      "  [6,17,16,String.raw`6`,],\n",
      "  [6,17,18,String.raw`\\frac{1}{6}`,],\n",
      "  [6,17,19,String.raw`\\frac{1}{36}`,],\n",
      "  [6,17,20,String.raw`\\frac{1}{216}`,],\n",
      "  [6,17,21,String.raw`\\frac{1}{1296}`,],\n",
      "  [6,18,14,String.raw`1296`,],\n",
      "  [6,18,15,String.raw`216`,],\n",
      "  [6,18,16,String.raw`36`,],\n",
      "  [6,18,17,String.raw`6`,],\n",
      "  [6,18,19,String.raw`\\frac{1}{6}`,],\n",
      "  [6,18,20,String.raw`\\frac{1}{36}`,],\n",
      "  [6,18,21,String.raw`\\frac{1}{216}`,],\n",
      "  [6,18,22,String.raw`\\frac{1}{1296}`,],\n",
      "  [6,19,15,String.raw`1296`,],\n",
      "  [6,19,16,String.raw`216`,],\n",
      "  [6,19,17,String.raw`36`,],\n",
      "  [6,19,18,String.raw`6`,],\n",
      "  [6,19,20,String.raw`\\frac{1}{6}`,],\n",
      "  [6,19,21,String.raw`\\frac{1}{36}`,],\n",
      "  [6,19,22,String.raw`\\frac{1}{216}`,],\n",
      "  [6,19,23,String.raw`\\frac{1}{1296}`,],\n",
      "  [7,10,6,String.raw`2401`,],\n",
      "  [7,10,7,String.raw`343`,],\n",
      "  [7,10,8,String.raw`49`,],\n",
      "  [7,10,9,String.raw`7`,],\n",
      "  [7,10,11,String.raw`\\frac{1}{7}`,],\n",
      "  [7,10,12,String.raw`\\frac{1}{49}`,],\n",
      "  [7,10,13,String.raw`\\frac{1}{343}`,],\n",
      "  [7,10,14,String.raw`\\frac{1}{2401}`,],\n",
      "  [7,11,7,String.raw`2401`,],\n",
      "  [7,11,8,String.raw`343`,],\n",
      "  [7,11,9,String.raw`49`,],\n",
      "  [7,11,10,String.raw`7`,],\n",
      "  [7,11,12,String.raw`\\frac{1}{7}`,],\n",
      "  [7,11,13,String.raw`\\frac{1}{49}`,],\n",
      "  [7,11,14,String.raw`\\frac{1}{343}`,],\n",
      "  [7,11,15,String.raw`\\frac{1}{2401}`,],\n",
      "  [7,12,8,String.raw`2401`,],\n",
      "  [7,12,9,String.raw`343`,],\n",
      "  [7,12,10,String.raw`49`,],\n",
      "  [7,12,11,String.raw`7`,],\n",
      "  [7,12,13,String.raw`\\frac{1}{7}`,],\n",
      "  [7,12,14,String.raw`\\frac{1}{49}`,],\n",
      "  [7,12,15,String.raw`\\frac{1}{343}`,],\n",
      "  [7,12,16,String.raw`\\frac{1}{2401}`,],\n",
      "  [7,13,9,String.raw`2401`,],\n",
      "  [7,13,10,String.raw`343`,],\n",
      "  [7,13,11,String.raw`49`,],\n",
      "  [7,13,12,String.raw`7`,],\n",
      "  [7,13,14,String.raw`\\frac{1}{7}`,],\n",
      "  [7,13,15,String.raw`\\frac{1}{49}`,],\n",
      "  [7,13,16,String.raw`\\frac{1}{343}`,],\n",
      "  [7,13,17,String.raw`\\frac{1}{2401}`,],\n",
      "  [7,14,10,String.raw`2401`,],\n",
      "  [7,14,11,String.raw`343`,],\n",
      "  [7,14,12,String.raw`49`,],\n",
      "  [7,14,13,String.raw`7`,],\n",
      "  [7,14,15,String.raw`\\frac{1}{7}`,],\n",
      "  [7,14,16,String.raw`\\frac{1}{49}`,],\n",
      "  [7,14,17,String.raw`\\frac{1}{343}`,],\n",
      "  [7,14,18,String.raw`\\frac{1}{2401}`,],\n",
      "  [7,15,11,String.raw`2401`,],\n",
      "  [7,15,12,String.raw`343`,],\n",
      "  [7,15,13,String.raw`49`,],\n",
      "  [7,15,14,String.raw`7`,],\n",
      "  [7,15,16,String.raw`\\frac{1}{7}`,],\n",
      "  [7,15,17,String.raw`\\frac{1}{49}`,],\n",
      "  [7,15,18,String.raw`\\frac{1}{343}`,],\n",
      "  [7,15,19,String.raw`\\frac{1}{2401}`,],\n",
      "  [7,16,12,String.raw`2401`,],\n",
      "  [7,16,13,String.raw`343`,],\n",
      "  [7,16,14,String.raw`49`,],\n",
      "  [7,16,15,String.raw`7`,],\n",
      "  [7,16,17,String.raw`\\frac{1}{7}`,],\n",
      "  [7,16,18,String.raw`\\frac{1}{49}`,],\n",
      "  [7,16,19,String.raw`\\frac{1}{343}`,],\n",
      "  [7,16,20,String.raw`\\frac{1}{2401}`,],\n",
      "  [7,17,13,String.raw`2401`,],\n",
      "  [7,17,14,String.raw`343`,],\n",
      "  [7,17,15,String.raw`49`,],\n",
      "  [7,17,16,String.raw`7`,],\n",
      "  [7,17,18,String.raw`\\frac{1}{7}`,],\n",
      "  [7,17,19,String.raw`\\frac{1}{49}`,],\n",
      "  [7,17,20,String.raw`\\frac{1}{343}`,],\n",
      "  [7,17,21,String.raw`\\frac{1}{2401}`,],\n",
      "  [7,18,14,String.raw`2401`,],\n",
      "  [7,18,15,String.raw`343`,],\n",
      "  [7,18,16,String.raw`49`,],\n",
      "  [7,18,17,String.raw`7`,],\n",
      "  [7,18,19,String.raw`\\frac{1}{7}`,],\n",
      "  [7,18,20,String.raw`\\frac{1}{49}`,],\n",
      "  [7,18,21,String.raw`\\frac{1}{343}`,],\n",
      "  [7,18,22,String.raw`\\frac{1}{2401}`,],\n",
      "  [7,19,15,String.raw`2401`,],\n",
      "  [7,19,16,String.raw`343`,],\n",
      "  [7,19,17,String.raw`49`,],\n",
      "  [7,19,18,String.raw`7`,],\n",
      "  [7,19,20,String.raw`\\frac{1}{7}`,],\n",
      "  [7,19,21,String.raw`\\frac{1}{49}`,],\n",
      "  [7,19,22,String.raw`\\frac{1}{343}`,],\n",
      "  [7,19,23,String.raw`\\frac{1}{2401}`,],\n",
      "  [8,10,6,String.raw`4096`,],\n",
      "  [8,10,7,String.raw`512`,],\n",
      "  [8,10,8,String.raw`64`,],\n",
      "  [8,10,9,String.raw`8`,],\n",
      "  [8,10,11,String.raw`\\frac{1}{8}`,],\n",
      "  [8,10,12,String.raw`\\frac{1}{64}`,],\n",
      "  [8,10,13,String.raw`\\frac{1}{512}`,],\n",
      "  [8,10,14,String.raw`\\frac{1}{4096}`,],\n",
      "  [8,11,7,String.raw`4096`,],\n",
      "  [8,11,8,String.raw`512`,],\n",
      "  [8,11,9,String.raw`64`,],\n",
      "  [8,11,10,String.raw`8`,],\n",
      "  [8,11,12,String.raw`\\frac{1}{8}`,],\n",
      "  [8,11,13,String.raw`\\frac{1}{64}`,],\n",
      "  [8,11,14,String.raw`\\frac{1}{512}`,],\n",
      "  [8,11,15,String.raw`\\frac{1}{4096}`,],\n",
      "  [8,12,8,String.raw`4096`,],\n",
      "  [8,12,9,String.raw`512`,],\n",
      "  [8,12,10,String.raw`64`,],\n",
      "  [8,12,11,String.raw`8`,],\n",
      "  [8,12,13,String.raw`\\frac{1}{8}`,],\n",
      "  [8,12,14,String.raw`\\frac{1}{64}`,],\n",
      "  [8,12,15,String.raw`\\frac{1}{512}`,],\n",
      "  [8,12,16,String.raw`\\frac{1}{4096}`,],\n",
      "  [8,13,9,String.raw`4096`,],\n",
      "  [8,13,10,String.raw`512`,],\n",
      "  [8,13,11,String.raw`64`,],\n",
      "  [8,13,12,String.raw`8`,],\n",
      "  [8,13,14,String.raw`\\frac{1}{8}`,],\n",
      "  [8,13,15,String.raw`\\frac{1}{64}`,],\n",
      "  [8,13,16,String.raw`\\frac{1}{512}`,],\n",
      "  [8,13,17,String.raw`\\frac{1}{4096}`,],\n",
      "  [8,14,10,String.raw`4096`,],\n",
      "  [8,14,11,String.raw`512`,],\n",
      "  [8,14,12,String.raw`64`,],\n",
      "  [8,14,13,String.raw`8`,],\n",
      "  [8,14,15,String.raw`\\frac{1}{8}`,],\n",
      "  [8,14,16,String.raw`\\frac{1}{64}`,],\n",
      "  [8,14,17,String.raw`\\frac{1}{512}`,],\n",
      "  [8,14,18,String.raw`\\frac{1}{4096}`,],\n",
      "  [8,15,11,String.raw`4096`,],\n",
      "  [8,15,12,String.raw`512`,],\n",
      "  [8,15,13,String.raw`64`,],\n",
      "  [8,15,14,String.raw`8`,],\n",
      "  [8,15,16,String.raw`\\frac{1}{8}`,],\n",
      "  [8,15,17,String.raw`\\frac{1}{64}`,],\n",
      "  [8,15,18,String.raw`\\frac{1}{512}`,],\n",
      "  [8,15,19,String.raw`\\frac{1}{4096}`,],\n",
      "  [8,16,12,String.raw`4096`,],\n",
      "  [8,16,13,String.raw`512`,],\n",
      "  [8,16,14,String.raw`64`,],\n",
      "  [8,16,15,String.raw`8`,],\n",
      "  [8,16,17,String.raw`\\frac{1}{8}`,],\n",
      "  [8,16,18,String.raw`\\frac{1}{64}`,],\n",
      "  [8,16,19,String.raw`\\frac{1}{512}`,],\n",
      "  [8,16,20,String.raw`\\frac{1}{4096}`,],\n",
      "  [8,17,13,String.raw`4096`,],\n",
      "  [8,17,14,String.raw`512`,],\n",
      "  [8,17,15,String.raw`64`,],\n",
      "  [8,17,16,String.raw`8`,],\n",
      "  [8,17,18,String.raw`\\frac{1}{8}`,],\n",
      "  [8,17,19,String.raw`\\frac{1}{64}`,],\n",
      "  [8,17,20,String.raw`\\frac{1}{512}`,],\n",
      "  [8,17,21,String.raw`\\frac{1}{4096}`,],\n",
      "  [8,18,14,String.raw`4096`,],\n",
      "  [8,18,15,String.raw`512`,],\n",
      "  [8,18,16,String.raw`64`,],\n",
      "  [8,18,17,String.raw`8`,],\n",
      "  [8,18,19,String.raw`\\frac{1}{8}`,],\n",
      "  [8,18,20,String.raw`\\frac{1}{64}`,],\n",
      "  [8,18,21,String.raw`\\frac{1}{512}`,],\n",
      "  [8,18,22,String.raw`\\frac{1}{4096}`,],\n",
      "  [8,19,15,String.raw`4096`,],\n",
      "  [8,19,16,String.raw`512`,],\n",
      "  [8,19,17,String.raw`64`,],\n",
      "  [8,19,18,String.raw`8`,],\n",
      "  [8,19,20,String.raw`\\frac{1}{8}`,],\n",
      "  [8,19,21,String.raw`\\frac{1}{64}`,],\n",
      "  [8,19,22,String.raw`\\frac{1}{512}`,],\n",
      "  [8,19,23,String.raw`\\frac{1}{4096}`,],\n",
      "  [9,10,6,String.raw`6561`,],\n",
      "  [9,10,7,String.raw`729`,],\n",
      "  [9,10,8,String.raw`81`,],\n",
      "  [9,10,9,String.raw`9`,],\n",
      "  [9,10,11,String.raw`\\frac{1}{9}`,],\n",
      "  [9,10,12,String.raw`\\frac{1}{81}`,],\n",
      "  [9,10,13,String.raw`\\frac{1}{729}`,],\n",
      "  [9,10,14,String.raw`\\frac{1}{6561}`,],\n",
      "  [9,11,7,String.raw`6561`,],\n",
      "  [9,11,8,String.raw`729`,],\n",
      "  [9,11,9,String.raw`81`,],\n",
      "  [9,11,10,String.raw`9`,],\n",
      "  [9,11,12,String.raw`\\frac{1}{9}`,],\n",
      "  [9,11,13,String.raw`\\frac{1}{81}`,],\n",
      "  [9,11,14,String.raw`\\frac{1}{729}`,],\n",
      "  [9,11,15,String.raw`\\frac{1}{6561}`,],\n",
      "  [9,12,8,String.raw`6561`,],\n",
      "  [9,12,9,String.raw`729`,],\n",
      "  [9,12,10,String.raw`81`,],\n",
      "  [9,12,11,String.raw`9`,],\n",
      "  [9,12,13,String.raw`\\frac{1}{9}`,],\n",
      "  [9,12,14,String.raw`\\frac{1}{81}`,],\n",
      "  [9,12,15,String.raw`\\frac{1}{729}`,],\n",
      "  [9,12,16,String.raw`\\frac{1}{6561}`,],\n",
      "  [9,13,9,String.raw`6561`,],\n",
      "  [9,13,10,String.raw`729`,],\n",
      "  [9,13,11,String.raw`81`,],\n",
      "  [9,13,12,String.raw`9`,],\n",
      "  [9,13,14,String.raw`\\frac{1}{9}`,],\n",
      "  [9,13,15,String.raw`\\frac{1}{81}`,],\n",
      "  [9,13,16,String.raw`\\frac{1}{729}`,],\n",
      "  [9,13,17,String.raw`\\frac{1}{6561}`,],\n",
      "  [9,14,10,String.raw`6561`,],\n",
      "  [9,14,11,String.raw`729`,],\n",
      "  [9,14,12,String.raw`81`,],\n",
      "  [9,14,13,String.raw`9`,],\n",
      "  [9,14,15,String.raw`\\frac{1}{9}`,],\n",
      "  [9,14,16,String.raw`\\frac{1}{81}`,],\n",
      "  [9,14,17,String.raw`\\frac{1}{729}`,],\n",
      "  [9,14,18,String.raw`\\frac{1}{6561}`,],\n",
      "  [9,15,11,String.raw`6561`,],\n",
      "  [9,15,12,String.raw`729`,],\n",
      "  [9,15,13,String.raw`81`,],\n",
      "  [9,15,14,String.raw`9`,],\n",
      "  [9,15,16,String.raw`\\frac{1}{9}`,],\n",
      "  [9,15,17,String.raw`\\frac{1}{81}`,],\n",
      "  [9,15,18,String.raw`\\frac{1}{729}`,],\n",
      "  [9,15,19,String.raw`\\frac{1}{6561}`,],\n",
      "  [9,16,12,String.raw`6561`,],\n",
      "  [9,16,13,String.raw`729`,],\n",
      "  [9,16,14,String.raw`81`,],\n",
      "  [9,16,15,String.raw`9`,],\n",
      "  [9,16,17,String.raw`\\frac{1}{9}`,],\n",
      "  [9,16,18,String.raw`\\frac{1}{81}`,],\n",
      "  [9,16,19,String.raw`\\frac{1}{729}`,],\n",
      "  [9,16,20,String.raw`\\frac{1}{6561}`,],\n",
      "  [9,17,13,String.raw`6561`,],\n",
      "  [9,17,14,String.raw`729`,],\n",
      "  [9,17,15,String.raw`81`,],\n",
      "  [9,17,16,String.raw`9`,],\n",
      "  [9,17,18,String.raw`\\frac{1}{9}`,],\n",
      "  [9,17,19,String.raw`\\frac{1}{81}`,],\n",
      "  [9,17,20,String.raw`\\frac{1}{729}`,],\n",
      "  [9,17,21,String.raw`\\frac{1}{6561}`,],\n",
      "  [9,18,14,String.raw`6561`,],\n",
      "  [9,18,15,String.raw`729`,],\n",
      "  [9,18,16,String.raw`81`,],\n",
      "  [9,18,17,String.raw`9`,],\n",
      "  [9,18,19,String.raw`\\frac{1}{9}`,],\n",
      "  [9,18,20,String.raw`\\frac{1}{81}`,],\n",
      "  [9,18,21,String.raw`\\frac{1}{729}`,],\n",
      "  [9,18,22,String.raw`\\frac{1}{6561}`,],\n",
      "  [9,19,15,String.raw`6561`,],\n",
      "  [9,19,16,String.raw`729`,],\n",
      "  [9,19,17,String.raw`81`,],\n",
      "  [9,19,18,String.raw`9`,],\n",
      "  [9,19,20,String.raw`\\frac{1}{9}`,],\n",
      "  [9,19,21,String.raw`\\frac{1}{81}`,],\n",
      "  [9,19,22,String.raw`\\frac{1}{729}`,],\n",
      "  [9,19,23,String.raw`\\frac{1}{6561}`,],\n",
      "];\n",
      "//random_seed=0;\n",
      "[a,b,c,sol] = params[random_seed % params.length];\n"
     ]
    }
   ],
   "source": [
    "print(\"if (typeof params === 'undefined') { let params,a,b,c,sol; }\")\n",
    "print(\"params = [\")\n",
    "for _a in range(2,10):\n",
    "    for _b in range(10,20):\n",
    "        for _c in range(-4,5):\n",
    "            if _c != 0:\n",
    "                _c = _b+_c\n",
    "                sol =_prob.subs(a,_a).subs(b,_b).subs(c,_c).doit()\n",
    "                print(f'  [{_a},{_b},{_c},String.raw`{sy.latex(sol)}`,],')\n",
    "print(\"];\")\n",
    "print(\"//random_seed=0;\")\n",
    "print(\"[a,b,c,sol] = params[random_seed % params.length];\")"
   ]
  },
  {
   "cell_type": "markdown",
   "id": "c5b5dfc0-b57e-40fe-8125-5442d71c1559",
   "metadata": {},
   "source": [
    "### CET 00-A.01e"
   ]
  },
  {
   "cell_type": "code",
   "execution_count": 100,
   "id": "400be0aa-41d8-4310-a9f1-7914628429fa",
   "metadata": {
    "tags": []
   },
   "outputs": [
    {
     "data": {
      "text/latex": [
       "$\\displaystyle \\left(\\frac{a}{b}\\right)^{c}$"
      ],
      "text/plain": [
       "(a/b)**c"
      ]
     },
     "execution_count": 100,
     "metadata": {},
     "output_type": "execute_result"
    }
   ],
   "source": [
    "_prob = (a/b)**c\n",
    "_prob"
   ]
  },
  {
   "cell_type": "code",
   "execution_count": 101,
   "id": "63aecaf3-596c-4dff-ab90-3828cf7557c9",
   "metadata": {
    "tags": []
   },
   "outputs": [
    {
     "data": {
      "text/latex": [
       "$\\displaystyle \\frac{9}{4}$"
      ],
      "text/plain": [
       "9/4"
      ]
     },
     "execution_count": 101,
     "metadata": {},
     "output_type": "execute_result"
    }
   ],
   "source": [
    "_prob.subs(a,2).subs(b,3).subs(c,-2)"
   ]
  },
  {
   "cell_type": "code",
   "execution_count": 103,
   "id": "2c9f5d00-cd89-40d4-806d-7dab43a8a244",
   "metadata": {
    "collapsed": true,
    "jupyter": {
     "outputs_hidden": true
    },
    "tags": []
   },
   "outputs": [
    {
     "name": "stdout",
     "output_type": "stream",
     "text": [
      "if (typeof params === 'undefined') { let params,a,b,c,sol; }\n",
      "params = [\n",
      "  [2,2,-4,String.raw`1`,],\n",
      "  [2,2,-3,String.raw`1`,],\n",
      "  [2,2,-2,String.raw`1`,],\n",
      "  [2,2,-1,String.raw`1`,],\n",
      "  [2,2,1,String.raw`1`,],\n",
      "  [2,2,2,String.raw`1`,],\n",
      "  [2,2,3,String.raw`1`,],\n",
      "  [2,2,4,String.raw`1`,],\n",
      "  [2,3,-4,String.raw`\\frac{81}{16}`,],\n",
      "  [2,3,-3,String.raw`\\frac{27}{8}`,],\n",
      "  [2,3,-2,String.raw`\\frac{9}{4}`,],\n",
      "  [2,3,-1,String.raw`\\frac{3}{2}`,],\n",
      "  [2,3,1,String.raw`\\frac{2}{3}`,],\n",
      "  [2,3,2,String.raw`\\frac{4}{9}`,],\n",
      "  [2,3,3,String.raw`\\frac{8}{27}`,],\n",
      "  [2,3,4,String.raw`\\frac{16}{81}`,],\n",
      "  [2,4,-4,String.raw`16`,],\n",
      "  [2,4,-3,String.raw`8`,],\n",
      "  [2,4,-2,String.raw`4`,],\n",
      "  [2,4,-1,String.raw`2`,],\n",
      "  [2,4,1,String.raw`\\frac{1}{2}`,],\n",
      "  [2,4,2,String.raw`\\frac{1}{4}`,],\n",
      "  [2,4,3,String.raw`\\frac{1}{8}`,],\n",
      "  [2,4,4,String.raw`\\frac{1}{16}`,],\n",
      "  [2,5,-4,String.raw`\\frac{625}{16}`,],\n",
      "  [2,5,-3,String.raw`\\frac{125}{8}`,],\n",
      "  [2,5,-2,String.raw`\\frac{25}{4}`,],\n",
      "  [2,5,-1,String.raw`\\frac{5}{2}`,],\n",
      "  [2,5,1,String.raw`\\frac{2}{5}`,],\n",
      "  [2,5,2,String.raw`\\frac{4}{25}`,],\n",
      "  [2,5,3,String.raw`\\frac{8}{125}`,],\n",
      "  [2,5,4,String.raw`\\frac{16}{625}`,],\n",
      "  [2,6,-4,String.raw`81`,],\n",
      "  [2,6,-3,String.raw`27`,],\n",
      "  [2,6,-2,String.raw`9`,],\n",
      "  [2,6,-1,String.raw`3`,],\n",
      "  [2,6,1,String.raw`\\frac{1}{3}`,],\n",
      "  [2,6,2,String.raw`\\frac{1}{9}`,],\n",
      "  [2,6,3,String.raw`\\frac{1}{27}`,],\n",
      "  [2,6,4,String.raw`\\frac{1}{81}`,],\n",
      "  [2,7,-4,String.raw`\\frac{2401}{16}`,],\n",
      "  [2,7,-3,String.raw`\\frac{343}{8}`,],\n",
      "  [2,7,-2,String.raw`\\frac{49}{4}`,],\n",
      "  [2,7,-1,String.raw`\\frac{7}{2}`,],\n",
      "  [2,7,1,String.raw`\\frac{2}{7}`,],\n",
      "  [2,7,2,String.raw`\\frac{4}{49}`,],\n",
      "  [2,7,3,String.raw`\\frac{8}{343}`,],\n",
      "  [2,7,4,String.raw`\\frac{16}{2401}`,],\n",
      "  [2,8,-4,String.raw`256`,],\n",
      "  [2,8,-3,String.raw`64`,],\n",
      "  [2,8,-2,String.raw`16`,],\n",
      "  [2,8,-1,String.raw`4`,],\n",
      "  [2,8,1,String.raw`\\frac{1}{4}`,],\n",
      "  [2,8,2,String.raw`\\frac{1}{16}`,],\n",
      "  [2,8,3,String.raw`\\frac{1}{64}`,],\n",
      "  [2,8,4,String.raw`\\frac{1}{256}`,],\n",
      "  [2,9,-4,String.raw`\\frac{6561}{16}`,],\n",
      "  [2,9,-3,String.raw`\\frac{729}{8}`,],\n",
      "  [2,9,-2,String.raw`\\frac{81}{4}`,],\n",
      "  [2,9,-1,String.raw`\\frac{9}{2}`,],\n",
      "  [2,9,1,String.raw`\\frac{2}{9}`,],\n",
      "  [2,9,2,String.raw`\\frac{4}{81}`,],\n",
      "  [2,9,3,String.raw`\\frac{8}{729}`,],\n",
      "  [2,9,4,String.raw`\\frac{16}{6561}`,],\n",
      "  [3,2,-4,String.raw`\\frac{16}{81}`,],\n",
      "  [3,2,-3,String.raw`\\frac{8}{27}`,],\n",
      "  [3,2,-2,String.raw`\\frac{4}{9}`,],\n",
      "  [3,2,-1,String.raw`\\frac{2}{3}`,],\n",
      "  [3,2,1,String.raw`\\frac{3}{2}`,],\n",
      "  [3,2,2,String.raw`\\frac{9}{4}`,],\n",
      "  [3,2,3,String.raw`\\frac{27}{8}`,],\n",
      "  [3,2,4,String.raw`\\frac{81}{16}`,],\n",
      "  [3,3,-4,String.raw`1`,],\n",
      "  [3,3,-3,String.raw`1`,],\n",
      "  [3,3,-2,String.raw`1`,],\n",
      "  [3,3,-1,String.raw`1`,],\n",
      "  [3,3,1,String.raw`1`,],\n",
      "  [3,3,2,String.raw`1`,],\n",
      "  [3,3,3,String.raw`1`,],\n",
      "  [3,3,4,String.raw`1`,],\n",
      "  [3,4,-4,String.raw`\\frac{256}{81}`,],\n",
      "  [3,4,-3,String.raw`\\frac{64}{27}`,],\n",
      "  [3,4,-2,String.raw`\\frac{16}{9}`,],\n",
      "  [3,4,-1,String.raw`\\frac{4}{3}`,],\n",
      "  [3,4,1,String.raw`\\frac{3}{4}`,],\n",
      "  [3,4,2,String.raw`\\frac{9}{16}`,],\n",
      "  [3,4,3,String.raw`\\frac{27}{64}`,],\n",
      "  [3,4,4,String.raw`\\frac{81}{256}`,],\n",
      "  [3,5,-4,String.raw`\\frac{625}{81}`,],\n",
      "  [3,5,-3,String.raw`\\frac{125}{27}`,],\n",
      "  [3,5,-2,String.raw`\\frac{25}{9}`,],\n",
      "  [3,5,-1,String.raw`\\frac{5}{3}`,],\n",
      "  [3,5,1,String.raw`\\frac{3}{5}`,],\n",
      "  [3,5,2,String.raw`\\frac{9}{25}`,],\n",
      "  [3,5,3,String.raw`\\frac{27}{125}`,],\n",
      "  [3,5,4,String.raw`\\frac{81}{625}`,],\n",
      "  [3,6,-4,String.raw`16`,],\n",
      "  [3,6,-3,String.raw`8`,],\n",
      "  [3,6,-2,String.raw`4`,],\n",
      "  [3,6,-1,String.raw`2`,],\n",
      "  [3,6,1,String.raw`\\frac{1}{2}`,],\n",
      "  [3,6,2,String.raw`\\frac{1}{4}`,],\n",
      "  [3,6,3,String.raw`\\frac{1}{8}`,],\n",
      "  [3,6,4,String.raw`\\frac{1}{16}`,],\n",
      "  [3,7,-4,String.raw`\\frac{2401}{81}`,],\n",
      "  [3,7,-3,String.raw`\\frac{343}{27}`,],\n",
      "  [3,7,-2,String.raw`\\frac{49}{9}`,],\n",
      "  [3,7,-1,String.raw`\\frac{7}{3}`,],\n",
      "  [3,7,1,String.raw`\\frac{3}{7}`,],\n",
      "  [3,7,2,String.raw`\\frac{9}{49}`,],\n",
      "  [3,7,3,String.raw`\\frac{27}{343}`,],\n",
      "  [3,7,4,String.raw`\\frac{81}{2401}`,],\n",
      "  [3,8,-4,String.raw`\\frac{4096}{81}`,],\n",
      "  [3,8,-3,String.raw`\\frac{512}{27}`,],\n",
      "  [3,8,-2,String.raw`\\frac{64}{9}`,],\n",
      "  [3,8,-1,String.raw`\\frac{8}{3}`,],\n",
      "  [3,8,1,String.raw`\\frac{3}{8}`,],\n",
      "  [3,8,2,String.raw`\\frac{9}{64}`,],\n",
      "  [3,8,3,String.raw`\\frac{27}{512}`,],\n",
      "  [3,8,4,String.raw`\\frac{81}{4096}`,],\n",
      "  [3,9,-4,String.raw`81`,],\n",
      "  [3,9,-3,String.raw`27`,],\n",
      "  [3,9,-2,String.raw`9`,],\n",
      "  [3,9,-1,String.raw`3`,],\n",
      "  [3,9,1,String.raw`\\frac{1}{3}`,],\n",
      "  [3,9,2,String.raw`\\frac{1}{9}`,],\n",
      "  [3,9,3,String.raw`\\frac{1}{27}`,],\n",
      "  [3,9,4,String.raw`\\frac{1}{81}`,],\n",
      "  [4,2,-4,String.raw`\\frac{1}{16}`,],\n",
      "  [4,2,-3,String.raw`\\frac{1}{8}`,],\n",
      "  [4,2,-2,String.raw`\\frac{1}{4}`,],\n",
      "  [4,2,-1,String.raw`\\frac{1}{2}`,],\n",
      "  [4,2,1,String.raw`2`,],\n",
      "  [4,2,2,String.raw`4`,],\n",
      "  [4,2,3,String.raw`8`,],\n",
      "  [4,2,4,String.raw`16`,],\n",
      "  [4,3,-4,String.raw`\\frac{81}{256}`,],\n",
      "  [4,3,-3,String.raw`\\frac{27}{64}`,],\n",
      "  [4,3,-2,String.raw`\\frac{9}{16}`,],\n",
      "  [4,3,-1,String.raw`\\frac{3}{4}`,],\n",
      "  [4,3,1,String.raw`\\frac{4}{3}`,],\n",
      "  [4,3,2,String.raw`\\frac{16}{9}`,],\n",
      "  [4,3,3,String.raw`\\frac{64}{27}`,],\n",
      "  [4,3,4,String.raw`\\frac{256}{81}`,],\n",
      "  [4,4,-4,String.raw`1`,],\n",
      "  [4,4,-3,String.raw`1`,],\n",
      "  [4,4,-2,String.raw`1`,],\n",
      "  [4,4,-1,String.raw`1`,],\n",
      "  [4,4,1,String.raw`1`,],\n",
      "  [4,4,2,String.raw`1`,],\n",
      "  [4,4,3,String.raw`1`,],\n",
      "  [4,4,4,String.raw`1`,],\n",
      "  [4,5,-4,String.raw`\\frac{625}{256}`,],\n",
      "  [4,5,-3,String.raw`\\frac{125}{64}`,],\n",
      "  [4,5,-2,String.raw`\\frac{25}{16}`,],\n",
      "  [4,5,-1,String.raw`\\frac{5}{4}`,],\n",
      "  [4,5,1,String.raw`\\frac{4}{5}`,],\n",
      "  [4,5,2,String.raw`\\frac{16}{25}`,],\n",
      "  [4,5,3,String.raw`\\frac{64}{125}`,],\n",
      "  [4,5,4,String.raw`\\frac{256}{625}`,],\n",
      "  [4,6,-4,String.raw`\\frac{81}{16}`,],\n",
      "  [4,6,-3,String.raw`\\frac{27}{8}`,],\n",
      "  [4,6,-2,String.raw`\\frac{9}{4}`,],\n",
      "  [4,6,-1,String.raw`\\frac{3}{2}`,],\n",
      "  [4,6,1,String.raw`\\frac{2}{3}`,],\n",
      "  [4,6,2,String.raw`\\frac{4}{9}`,],\n",
      "  [4,6,3,String.raw`\\frac{8}{27}`,],\n",
      "  [4,6,4,String.raw`\\frac{16}{81}`,],\n",
      "  [4,7,-4,String.raw`\\frac{2401}{256}`,],\n",
      "  [4,7,-3,String.raw`\\frac{343}{64}`,],\n",
      "  [4,7,-2,String.raw`\\frac{49}{16}`,],\n",
      "  [4,7,-1,String.raw`\\frac{7}{4}`,],\n",
      "  [4,7,1,String.raw`\\frac{4}{7}`,],\n",
      "  [4,7,2,String.raw`\\frac{16}{49}`,],\n",
      "  [4,7,3,String.raw`\\frac{64}{343}`,],\n",
      "  [4,7,4,String.raw`\\frac{256}{2401}`,],\n",
      "  [4,8,-4,String.raw`16`,],\n",
      "  [4,8,-3,String.raw`8`,],\n",
      "  [4,8,-2,String.raw`4`,],\n",
      "  [4,8,-1,String.raw`2`,],\n",
      "  [4,8,1,String.raw`\\frac{1}{2}`,],\n",
      "  [4,8,2,String.raw`\\frac{1}{4}`,],\n",
      "  [4,8,3,String.raw`\\frac{1}{8}`,],\n",
      "  [4,8,4,String.raw`\\frac{1}{16}`,],\n",
      "  [4,9,-4,String.raw`\\frac{6561}{256}`,],\n",
      "  [4,9,-3,String.raw`\\frac{729}{64}`,],\n",
      "  [4,9,-2,String.raw`\\frac{81}{16}`,],\n",
      "  [4,9,-1,String.raw`\\frac{9}{4}`,],\n",
      "  [4,9,1,String.raw`\\frac{4}{9}`,],\n",
      "  [4,9,2,String.raw`\\frac{16}{81}`,],\n",
      "  [4,9,3,String.raw`\\frac{64}{729}`,],\n",
      "  [4,9,4,String.raw`\\frac{256}{6561}`,],\n",
      "  [5,2,-4,String.raw`\\frac{16}{625}`,],\n",
      "  [5,2,-3,String.raw`\\frac{8}{125}`,],\n",
      "  [5,2,-2,String.raw`\\frac{4}{25}`,],\n",
      "  [5,2,-1,String.raw`\\frac{2}{5}`,],\n",
      "  [5,2,1,String.raw`\\frac{5}{2}`,],\n",
      "  [5,2,2,String.raw`\\frac{25}{4}`,],\n",
      "  [5,2,3,String.raw`\\frac{125}{8}`,],\n",
      "  [5,2,4,String.raw`\\frac{625}{16}`,],\n",
      "  [5,3,-4,String.raw`\\frac{81}{625}`,],\n",
      "  [5,3,-3,String.raw`\\frac{27}{125}`,],\n",
      "  [5,3,-2,String.raw`\\frac{9}{25}`,],\n",
      "  [5,3,-1,String.raw`\\frac{3}{5}`,],\n",
      "  [5,3,1,String.raw`\\frac{5}{3}`,],\n",
      "  [5,3,2,String.raw`\\frac{25}{9}`,],\n",
      "  [5,3,3,String.raw`\\frac{125}{27}`,],\n",
      "  [5,3,4,String.raw`\\frac{625}{81}`,],\n",
      "  [5,4,-4,String.raw`\\frac{256}{625}`,],\n",
      "  [5,4,-3,String.raw`\\frac{64}{125}`,],\n",
      "  [5,4,-2,String.raw`\\frac{16}{25}`,],\n",
      "  [5,4,-1,String.raw`\\frac{4}{5}`,],\n",
      "  [5,4,1,String.raw`\\frac{5}{4}`,],\n",
      "  [5,4,2,String.raw`\\frac{25}{16}`,],\n",
      "  [5,4,3,String.raw`\\frac{125}{64}`,],\n",
      "  [5,4,4,String.raw`\\frac{625}{256}`,],\n",
      "  [5,5,-4,String.raw`1`,],\n",
      "  [5,5,-3,String.raw`1`,],\n",
      "  [5,5,-2,String.raw`1`,],\n",
      "  [5,5,-1,String.raw`1`,],\n",
      "  [5,5,1,String.raw`1`,],\n",
      "  [5,5,2,String.raw`1`,],\n",
      "  [5,5,3,String.raw`1`,],\n",
      "  [5,5,4,String.raw`1`,],\n",
      "  [5,6,-4,String.raw`\\frac{1296}{625}`,],\n",
      "  [5,6,-3,String.raw`\\frac{216}{125}`,],\n",
      "  [5,6,-2,String.raw`\\frac{36}{25}`,],\n",
      "  [5,6,-1,String.raw`\\frac{6}{5}`,],\n",
      "  [5,6,1,String.raw`\\frac{5}{6}`,],\n",
      "  [5,6,2,String.raw`\\frac{25}{36}`,],\n",
      "  [5,6,3,String.raw`\\frac{125}{216}`,],\n",
      "  [5,6,4,String.raw`\\frac{625}{1296}`,],\n",
      "  [5,7,-4,String.raw`\\frac{2401}{625}`,],\n",
      "  [5,7,-3,String.raw`\\frac{343}{125}`,],\n",
      "  [5,7,-2,String.raw`\\frac{49}{25}`,],\n",
      "  [5,7,-1,String.raw`\\frac{7}{5}`,],\n",
      "  [5,7,1,String.raw`\\frac{5}{7}`,],\n",
      "  [5,7,2,String.raw`\\frac{25}{49}`,],\n",
      "  [5,7,3,String.raw`\\frac{125}{343}`,],\n",
      "  [5,7,4,String.raw`\\frac{625}{2401}`,],\n",
      "  [5,8,-4,String.raw`\\frac{4096}{625}`,],\n",
      "  [5,8,-3,String.raw`\\frac{512}{125}`,],\n",
      "  [5,8,-2,String.raw`\\frac{64}{25}`,],\n",
      "  [5,8,-1,String.raw`\\frac{8}{5}`,],\n",
      "  [5,8,1,String.raw`\\frac{5}{8}`,],\n",
      "  [5,8,2,String.raw`\\frac{25}{64}`,],\n",
      "  [5,8,3,String.raw`\\frac{125}{512}`,],\n",
      "  [5,8,4,String.raw`\\frac{625}{4096}`,],\n",
      "  [5,9,-4,String.raw`\\frac{6561}{625}`,],\n",
      "  [5,9,-3,String.raw`\\frac{729}{125}`,],\n",
      "  [5,9,-2,String.raw`\\frac{81}{25}`,],\n",
      "  [5,9,-1,String.raw`\\frac{9}{5}`,],\n",
      "  [5,9,1,String.raw`\\frac{5}{9}`,],\n",
      "  [5,9,2,String.raw`\\frac{25}{81}`,],\n",
      "  [5,9,3,String.raw`\\frac{125}{729}`,],\n",
      "  [5,9,4,String.raw`\\frac{625}{6561}`,],\n",
      "  [6,2,-4,String.raw`\\frac{1}{81}`,],\n",
      "  [6,2,-3,String.raw`\\frac{1}{27}`,],\n",
      "  [6,2,-2,String.raw`\\frac{1}{9}`,],\n",
      "  [6,2,-1,String.raw`\\frac{1}{3}`,],\n",
      "  [6,2,1,String.raw`3`,],\n",
      "  [6,2,2,String.raw`9`,],\n",
      "  [6,2,3,String.raw`27`,],\n",
      "  [6,2,4,String.raw`81`,],\n",
      "  [6,3,-4,String.raw`\\frac{1}{16}`,],\n",
      "  [6,3,-3,String.raw`\\frac{1}{8}`,],\n",
      "  [6,3,-2,String.raw`\\frac{1}{4}`,],\n",
      "  [6,3,-1,String.raw`\\frac{1}{2}`,],\n",
      "  [6,3,1,String.raw`2`,],\n",
      "  [6,3,2,String.raw`4`,],\n",
      "  [6,3,3,String.raw`8`,],\n",
      "  [6,3,4,String.raw`16`,],\n",
      "  [6,4,-4,String.raw`\\frac{16}{81}`,],\n",
      "  [6,4,-3,String.raw`\\frac{8}{27}`,],\n",
      "  [6,4,-2,String.raw`\\frac{4}{9}`,],\n",
      "  [6,4,-1,String.raw`\\frac{2}{3}`,],\n",
      "  [6,4,1,String.raw`\\frac{3}{2}`,],\n",
      "  [6,4,2,String.raw`\\frac{9}{4}`,],\n",
      "  [6,4,3,String.raw`\\frac{27}{8}`,],\n",
      "  [6,4,4,String.raw`\\frac{81}{16}`,],\n",
      "  [6,5,-4,String.raw`\\frac{625}{1296}`,],\n",
      "  [6,5,-3,String.raw`\\frac{125}{216}`,],\n",
      "  [6,5,-2,String.raw`\\frac{25}{36}`,],\n",
      "  [6,5,-1,String.raw`\\frac{5}{6}`,],\n",
      "  [6,5,1,String.raw`\\frac{6}{5}`,],\n",
      "  [6,5,2,String.raw`\\frac{36}{25}`,],\n",
      "  [6,5,3,String.raw`\\frac{216}{125}`,],\n",
      "  [6,5,4,String.raw`\\frac{1296}{625}`,],\n",
      "  [6,6,-4,String.raw`1`,],\n",
      "  [6,6,-3,String.raw`1`,],\n",
      "  [6,6,-2,String.raw`1`,],\n",
      "  [6,6,-1,String.raw`1`,],\n",
      "  [6,6,1,String.raw`1`,],\n",
      "  [6,6,2,String.raw`1`,],\n",
      "  [6,6,3,String.raw`1`,],\n",
      "  [6,6,4,String.raw`1`,],\n",
      "  [6,7,-4,String.raw`\\frac{2401}{1296}`,],\n",
      "  [6,7,-3,String.raw`\\frac{343}{216}`,],\n",
      "  [6,7,-2,String.raw`\\frac{49}{36}`,],\n",
      "  [6,7,-1,String.raw`\\frac{7}{6}`,],\n",
      "  [6,7,1,String.raw`\\frac{6}{7}`,],\n",
      "  [6,7,2,String.raw`\\frac{36}{49}`,],\n",
      "  [6,7,3,String.raw`\\frac{216}{343}`,],\n",
      "  [6,7,4,String.raw`\\frac{1296}{2401}`,],\n",
      "  [6,8,-4,String.raw`\\frac{256}{81}`,],\n",
      "  [6,8,-3,String.raw`\\frac{64}{27}`,],\n",
      "  [6,8,-2,String.raw`\\frac{16}{9}`,],\n",
      "  [6,8,-1,String.raw`\\frac{4}{3}`,],\n",
      "  [6,8,1,String.raw`\\frac{3}{4}`,],\n",
      "  [6,8,2,String.raw`\\frac{9}{16}`,],\n",
      "  [6,8,3,String.raw`\\frac{27}{64}`,],\n",
      "  [6,8,4,String.raw`\\frac{81}{256}`,],\n",
      "  [6,9,-4,String.raw`\\frac{81}{16}`,],\n",
      "  [6,9,-3,String.raw`\\frac{27}{8}`,],\n",
      "  [6,9,-2,String.raw`\\frac{9}{4}`,],\n",
      "  [6,9,-1,String.raw`\\frac{3}{2}`,],\n",
      "  [6,9,1,String.raw`\\frac{2}{3}`,],\n",
      "  [6,9,2,String.raw`\\frac{4}{9}`,],\n",
      "  [6,9,3,String.raw`\\frac{8}{27}`,],\n",
      "  [6,9,4,String.raw`\\frac{16}{81}`,],\n",
      "  [7,2,-4,String.raw`\\frac{16}{2401}`,],\n",
      "  [7,2,-3,String.raw`\\frac{8}{343}`,],\n",
      "  [7,2,-2,String.raw`\\frac{4}{49}`,],\n",
      "  [7,2,-1,String.raw`\\frac{2}{7}`,],\n",
      "  [7,2,1,String.raw`\\frac{7}{2}`,],\n",
      "  [7,2,2,String.raw`\\frac{49}{4}`,],\n",
      "  [7,2,3,String.raw`\\frac{343}{8}`,],\n",
      "  [7,2,4,String.raw`\\frac{2401}{16}`,],\n",
      "  [7,3,-4,String.raw`\\frac{81}{2401}`,],\n",
      "  [7,3,-3,String.raw`\\frac{27}{343}`,],\n",
      "  [7,3,-2,String.raw`\\frac{9}{49}`,],\n",
      "  [7,3,-1,String.raw`\\frac{3}{7}`,],\n",
      "  [7,3,1,String.raw`\\frac{7}{3}`,],\n",
      "  [7,3,2,String.raw`\\frac{49}{9}`,],\n",
      "  [7,3,3,String.raw`\\frac{343}{27}`,],\n",
      "  [7,3,4,String.raw`\\frac{2401}{81}`,],\n",
      "  [7,4,-4,String.raw`\\frac{256}{2401}`,],\n",
      "  [7,4,-3,String.raw`\\frac{64}{343}`,],\n",
      "  [7,4,-2,String.raw`\\frac{16}{49}`,],\n",
      "  [7,4,-1,String.raw`\\frac{4}{7}`,],\n",
      "  [7,4,1,String.raw`\\frac{7}{4}`,],\n",
      "  [7,4,2,String.raw`\\frac{49}{16}`,],\n",
      "  [7,4,3,String.raw`\\frac{343}{64}`,],\n",
      "  [7,4,4,String.raw`\\frac{2401}{256}`,],\n",
      "  [7,5,-4,String.raw`\\frac{625}{2401}`,],\n",
      "  [7,5,-3,String.raw`\\frac{125}{343}`,],\n",
      "  [7,5,-2,String.raw`\\frac{25}{49}`,],\n",
      "  [7,5,-1,String.raw`\\frac{5}{7}`,],\n",
      "  [7,5,1,String.raw`\\frac{7}{5}`,],\n",
      "  [7,5,2,String.raw`\\frac{49}{25}`,],\n",
      "  [7,5,3,String.raw`\\frac{343}{125}`,],\n",
      "  [7,5,4,String.raw`\\frac{2401}{625}`,],\n",
      "  [7,6,-4,String.raw`\\frac{1296}{2401}`,],\n",
      "  [7,6,-3,String.raw`\\frac{216}{343}`,],\n",
      "  [7,6,-2,String.raw`\\frac{36}{49}`,],\n",
      "  [7,6,-1,String.raw`\\frac{6}{7}`,],\n",
      "  [7,6,1,String.raw`\\frac{7}{6}`,],\n",
      "  [7,6,2,String.raw`\\frac{49}{36}`,],\n",
      "  [7,6,3,String.raw`\\frac{343}{216}`,],\n",
      "  [7,6,4,String.raw`\\frac{2401}{1296}`,],\n",
      "  [7,7,-4,String.raw`1`,],\n",
      "  [7,7,-3,String.raw`1`,],\n",
      "  [7,7,-2,String.raw`1`,],\n",
      "  [7,7,-1,String.raw`1`,],\n",
      "  [7,7,1,String.raw`1`,],\n",
      "  [7,7,2,String.raw`1`,],\n",
      "  [7,7,3,String.raw`1`,],\n",
      "  [7,7,4,String.raw`1`,],\n",
      "  [7,8,-4,String.raw`\\frac{4096}{2401}`,],\n",
      "  [7,8,-3,String.raw`\\frac{512}{343}`,],\n",
      "  [7,8,-2,String.raw`\\frac{64}{49}`,],\n",
      "  [7,8,-1,String.raw`\\frac{8}{7}`,],\n",
      "  [7,8,1,String.raw`\\frac{7}{8}`,],\n",
      "  [7,8,2,String.raw`\\frac{49}{64}`,],\n",
      "  [7,8,3,String.raw`\\frac{343}{512}`,],\n",
      "  [7,8,4,String.raw`\\frac{2401}{4096}`,],\n",
      "  [7,9,-4,String.raw`\\frac{6561}{2401}`,],\n",
      "  [7,9,-3,String.raw`\\frac{729}{343}`,],\n",
      "  [7,9,-2,String.raw`\\frac{81}{49}`,],\n",
      "  [7,9,-1,String.raw`\\frac{9}{7}`,],\n",
      "  [7,9,1,String.raw`\\frac{7}{9}`,],\n",
      "  [7,9,2,String.raw`\\frac{49}{81}`,],\n",
      "  [7,9,3,String.raw`\\frac{343}{729}`,],\n",
      "  [7,9,4,String.raw`\\frac{2401}{6561}`,],\n",
      "  [8,2,-4,String.raw`\\frac{1}{256}`,],\n",
      "  [8,2,-3,String.raw`\\frac{1}{64}`,],\n",
      "  [8,2,-2,String.raw`\\frac{1}{16}`,],\n",
      "  [8,2,-1,String.raw`\\frac{1}{4}`,],\n",
      "  [8,2,1,String.raw`4`,],\n",
      "  [8,2,2,String.raw`16`,],\n",
      "  [8,2,3,String.raw`64`,],\n",
      "  [8,2,4,String.raw`256`,],\n",
      "  [8,3,-4,String.raw`\\frac{81}{4096}`,],\n",
      "  [8,3,-3,String.raw`\\frac{27}{512}`,],\n",
      "  [8,3,-2,String.raw`\\frac{9}{64}`,],\n",
      "  [8,3,-1,String.raw`\\frac{3}{8}`,],\n",
      "  [8,3,1,String.raw`\\frac{8}{3}`,],\n",
      "  [8,3,2,String.raw`\\frac{64}{9}`,],\n",
      "  [8,3,3,String.raw`\\frac{512}{27}`,],\n",
      "  [8,3,4,String.raw`\\frac{4096}{81}`,],\n",
      "  [8,4,-4,String.raw`\\frac{1}{16}`,],\n",
      "  [8,4,-3,String.raw`\\frac{1}{8}`,],\n",
      "  [8,4,-2,String.raw`\\frac{1}{4}`,],\n",
      "  [8,4,-1,String.raw`\\frac{1}{2}`,],\n",
      "  [8,4,1,String.raw`2`,],\n",
      "  [8,4,2,String.raw`4`,],\n",
      "  [8,4,3,String.raw`8`,],\n",
      "  [8,4,4,String.raw`16`,],\n",
      "  [8,5,-4,String.raw`\\frac{625}{4096}`,],\n",
      "  [8,5,-3,String.raw`\\frac{125}{512}`,],\n",
      "  [8,5,-2,String.raw`\\frac{25}{64}`,],\n",
      "  [8,5,-1,String.raw`\\frac{5}{8}`,],\n",
      "  [8,5,1,String.raw`\\frac{8}{5}`,],\n",
      "  [8,5,2,String.raw`\\frac{64}{25}`,],\n",
      "  [8,5,3,String.raw`\\frac{512}{125}`,],\n",
      "  [8,5,4,String.raw`\\frac{4096}{625}`,],\n",
      "  [8,6,-4,String.raw`\\frac{81}{256}`,],\n",
      "  [8,6,-3,String.raw`\\frac{27}{64}`,],\n",
      "  [8,6,-2,String.raw`\\frac{9}{16}`,],\n",
      "  [8,6,-1,String.raw`\\frac{3}{4}`,],\n",
      "  [8,6,1,String.raw`\\frac{4}{3}`,],\n",
      "  [8,6,2,String.raw`\\frac{16}{9}`,],\n",
      "  [8,6,3,String.raw`\\frac{64}{27}`,],\n",
      "  [8,6,4,String.raw`\\frac{256}{81}`,],\n",
      "  [8,7,-4,String.raw`\\frac{2401}{4096}`,],\n",
      "  [8,7,-3,String.raw`\\frac{343}{512}`,],\n",
      "  [8,7,-2,String.raw`\\frac{49}{64}`,],\n",
      "  [8,7,-1,String.raw`\\frac{7}{8}`,],\n",
      "  [8,7,1,String.raw`\\frac{8}{7}`,],\n",
      "  [8,7,2,String.raw`\\frac{64}{49}`,],\n",
      "  [8,7,3,String.raw`\\frac{512}{343}`,],\n",
      "  [8,7,4,String.raw`\\frac{4096}{2401}`,],\n",
      "  [8,8,-4,String.raw`1`,],\n",
      "  [8,8,-3,String.raw`1`,],\n",
      "  [8,8,-2,String.raw`1`,],\n",
      "  [8,8,-1,String.raw`1`,],\n",
      "  [8,8,1,String.raw`1`,],\n",
      "  [8,8,2,String.raw`1`,],\n",
      "  [8,8,3,String.raw`1`,],\n",
      "  [8,8,4,String.raw`1`,],\n",
      "  [8,9,-4,String.raw`\\frac{6561}{4096}`,],\n",
      "  [8,9,-3,String.raw`\\frac{729}{512}`,],\n",
      "  [8,9,-2,String.raw`\\frac{81}{64}`,],\n",
      "  [8,9,-1,String.raw`\\frac{9}{8}`,],\n",
      "  [8,9,1,String.raw`\\frac{8}{9}`,],\n",
      "  [8,9,2,String.raw`\\frac{64}{81}`,],\n",
      "  [8,9,3,String.raw`\\frac{512}{729}`,],\n",
      "  [8,9,4,String.raw`\\frac{4096}{6561}`,],\n",
      "  [9,2,-4,String.raw`\\frac{16}{6561}`,],\n",
      "  [9,2,-3,String.raw`\\frac{8}{729}`,],\n",
      "  [9,2,-2,String.raw`\\frac{4}{81}`,],\n",
      "  [9,2,-1,String.raw`\\frac{2}{9}`,],\n",
      "  [9,2,1,String.raw`\\frac{9}{2}`,],\n",
      "  [9,2,2,String.raw`\\frac{81}{4}`,],\n",
      "  [9,2,3,String.raw`\\frac{729}{8}`,],\n",
      "  [9,2,4,String.raw`\\frac{6561}{16}`,],\n",
      "  [9,3,-4,String.raw`\\frac{1}{81}`,],\n",
      "  [9,3,-3,String.raw`\\frac{1}{27}`,],\n",
      "  [9,3,-2,String.raw`\\frac{1}{9}`,],\n",
      "  [9,3,-1,String.raw`\\frac{1}{3}`,],\n",
      "  [9,3,1,String.raw`3`,],\n",
      "  [9,3,2,String.raw`9`,],\n",
      "  [9,3,3,String.raw`27`,],\n",
      "  [9,3,4,String.raw`81`,],\n",
      "  [9,4,-4,String.raw`\\frac{256}{6561}`,],\n",
      "  [9,4,-3,String.raw`\\frac{64}{729}`,],\n",
      "  [9,4,-2,String.raw`\\frac{16}{81}`,],\n",
      "  [9,4,-1,String.raw`\\frac{4}{9}`,],\n",
      "  [9,4,1,String.raw`\\frac{9}{4}`,],\n",
      "  [9,4,2,String.raw`\\frac{81}{16}`,],\n",
      "  [9,4,3,String.raw`\\frac{729}{64}`,],\n",
      "  [9,4,4,String.raw`\\frac{6561}{256}`,],\n",
      "  [9,5,-4,String.raw`\\frac{625}{6561}`,],\n",
      "  [9,5,-3,String.raw`\\frac{125}{729}`,],\n",
      "  [9,5,-2,String.raw`\\frac{25}{81}`,],\n",
      "  [9,5,-1,String.raw`\\frac{5}{9}`,],\n",
      "  [9,5,1,String.raw`\\frac{9}{5}`,],\n",
      "  [9,5,2,String.raw`\\frac{81}{25}`,],\n",
      "  [9,5,3,String.raw`\\frac{729}{125}`,],\n",
      "  [9,5,4,String.raw`\\frac{6561}{625}`,],\n",
      "  [9,6,-4,String.raw`\\frac{16}{81}`,],\n",
      "  [9,6,-3,String.raw`\\frac{8}{27}`,],\n",
      "  [9,6,-2,String.raw`\\frac{4}{9}`,],\n",
      "  [9,6,-1,String.raw`\\frac{2}{3}`,],\n",
      "  [9,6,1,String.raw`\\frac{3}{2}`,],\n",
      "  [9,6,2,String.raw`\\frac{9}{4}`,],\n",
      "  [9,6,3,String.raw`\\frac{27}{8}`,],\n",
      "  [9,6,4,String.raw`\\frac{81}{16}`,],\n",
      "  [9,7,-4,String.raw`\\frac{2401}{6561}`,],\n",
      "  [9,7,-3,String.raw`\\frac{343}{729}`,],\n",
      "  [9,7,-2,String.raw`\\frac{49}{81}`,],\n",
      "  [9,7,-1,String.raw`\\frac{7}{9}`,],\n",
      "  [9,7,1,String.raw`\\frac{9}{7}`,],\n",
      "  [9,7,2,String.raw`\\frac{81}{49}`,],\n",
      "  [9,7,3,String.raw`\\frac{729}{343}`,],\n",
      "  [9,7,4,String.raw`\\frac{6561}{2401}`,],\n",
      "  [9,8,-4,String.raw`\\frac{4096}{6561}`,],\n",
      "  [9,8,-3,String.raw`\\frac{512}{729}`,],\n",
      "  [9,8,-2,String.raw`\\frac{64}{81}`,],\n",
      "  [9,8,-1,String.raw`\\frac{8}{9}`,],\n",
      "  [9,8,1,String.raw`\\frac{9}{8}`,],\n",
      "  [9,8,2,String.raw`\\frac{81}{64}`,],\n",
      "  [9,8,3,String.raw`\\frac{729}{512}`,],\n",
      "  [9,8,4,String.raw`\\frac{6561}{4096}`,],\n",
      "  [9,9,-4,String.raw`1`,],\n",
      "  [9,9,-3,String.raw`1`,],\n",
      "  [9,9,-2,String.raw`1`,],\n",
      "  [9,9,-1,String.raw`1`,],\n",
      "  [9,9,1,String.raw`1`,],\n",
      "  [9,9,2,String.raw`1`,],\n",
      "  [9,9,3,String.raw`1`,],\n",
      "  [9,9,4,String.raw`1`,],\n",
      "];\n",
      "//random_seed=0;\n",
      "[a,b,c,sol] = params[random_seed % params.length];\n"
     ]
    }
   ],
   "source": [
    "print(\"if (typeof params === 'undefined') { let params,a,b,c,sol; }\")\n",
    "print(\"params = [\")\n",
    "for _a in range(2,10):\n",
    "    for _b in range(2,10):\n",
    "        for _c in range(-4,5):\n",
    "            if _c != 0:\n",
    "                sol =_prob.subs(a,_a).subs(b,_b).subs(c,_c).doit()\n",
    "                print(f'  [{_a},{_b},{_c},String.raw`{sy.latex(sol)}`,],')\n",
    "print(\"];\")\n",
    "print(\"//random_seed=0;\")\n",
    "print(\"[a,b,c,sol] = params[random_seed % params.length];\")"
   ]
  },
  {
   "cell_type": "markdown",
   "id": "d8ac0806-da7e-4917-be48-9752b1788af7",
   "metadata": {},
   "source": [
    "### CET 00-A.01f"
   ]
  },
  {
   "cell_type": "code",
   "execution_count": 107,
   "id": "995d0661-670c-4eab-ae82-f4344e47c9ab",
   "metadata": {
    "tags": []
   },
   "outputs": [
    {
     "data": {
      "text/latex": [
       "$\\displaystyle \\left(a^{b}\\right)^{\\frac{c}{b}}$"
      ],
      "text/plain": [
       "(a**b)**(c/b)"
      ]
     },
     "execution_count": 107,
     "metadata": {},
     "output_type": "execute_result"
    }
   ],
   "source": [
    "_prob = (a**b)**(c/b)\n",
    "_prob"
   ]
  },
  {
   "cell_type": "code",
   "execution_count": 109,
   "id": "452537d2-a5e1-4d89-ac90-d86aff2090e5",
   "metadata": {
    "tags": []
   },
   "outputs": [
    {
     "data": {
      "text/latex": [
       "$\\displaystyle \\frac{1}{8}$"
      ],
      "text/plain": [
       "1/8"
      ]
     },
     "execution_count": 109,
     "metadata": {},
     "output_type": "execute_result"
    }
   ],
   "source": [
    "_prob.subs(a,2).subs(b,4).subs(c,-3)"
   ]
  },
  {
   "cell_type": "code",
   "execution_count": 111,
   "id": "3950c05e-4941-4daa-95fc-261cc76002fe",
   "metadata": {
    "collapsed": true,
    "jupyter": {
     "outputs_hidden": true
    },
    "tags": []
   },
   "outputs": [
    {
     "name": "stdout",
     "output_type": "stream",
     "text": [
      "if (typeof params === 'undefined') { let params,a,b,c,sol; }\n",
      "params = [\n",
      "  [2,2,-4,String.raw`\\frac{1}{16}`,],\n",
      "  [2,2,-3,String.raw`\\frac{1}{8}`,],\n",
      "  [2,2,-2,String.raw`\\frac{1}{4}`,],\n",
      "  [2,2,-1,String.raw`\\frac{1}{2}`,],\n",
      "  [2,2,1,String.raw`2`,],\n",
      "  [2,2,2,String.raw`4`,],\n",
      "  [2,2,3,String.raw`8`,],\n",
      "  [2,2,4,String.raw`16`,],\n",
      "  [2,3,-4,String.raw`\\frac{1}{16}`,],\n",
      "  [2,3,-3,String.raw`\\frac{1}{8}`,],\n",
      "  [2,3,-2,String.raw`\\frac{1}{4}`,],\n",
      "  [2,3,-1,String.raw`\\frac{1}{2}`,],\n",
      "  [2,3,1,String.raw`2`,],\n",
      "  [2,3,2,String.raw`4`,],\n",
      "  [2,3,3,String.raw`8`,],\n",
      "  [2,3,4,String.raw`16`,],\n",
      "  [2,4,-4,String.raw`\\frac{1}{16}`,],\n",
      "  [2,4,-3,String.raw`\\frac{1}{8}`,],\n",
      "  [2,4,-2,String.raw`\\frac{1}{4}`,],\n",
      "  [2,4,-1,String.raw`\\frac{1}{2}`,],\n",
      "  [2,4,1,String.raw`2`,],\n",
      "  [2,4,2,String.raw`4`,],\n",
      "  [2,4,3,String.raw`8`,],\n",
      "  [2,4,4,String.raw`16`,],\n",
      "  [3,2,-4,String.raw`\\frac{1}{81}`,],\n",
      "  [3,2,-3,String.raw`\\frac{1}{27}`,],\n",
      "  [3,2,-2,String.raw`\\frac{1}{9}`,],\n",
      "  [3,2,-1,String.raw`\\frac{1}{3}`,],\n",
      "  [3,2,1,String.raw`3`,],\n",
      "  [3,2,2,String.raw`9`,],\n",
      "  [3,2,3,String.raw`27`,],\n",
      "  [3,2,4,String.raw`81`,],\n",
      "  [3,3,-4,String.raw`\\frac{1}{81}`,],\n",
      "  [3,3,-3,String.raw`\\frac{1}{27}`,],\n",
      "  [3,3,-2,String.raw`\\frac{1}{9}`,],\n",
      "  [3,3,-1,String.raw`\\frac{1}{3}`,],\n",
      "  [3,3,1,String.raw`3`,],\n",
      "  [3,3,2,String.raw`9`,],\n",
      "  [3,3,3,String.raw`27`,],\n",
      "  [3,3,4,String.raw`81`,],\n",
      "  [3,4,-4,String.raw`\\frac{1}{81}`,],\n",
      "  [3,4,-3,String.raw`\\frac{1}{27}`,],\n",
      "  [3,4,-2,String.raw`\\frac{1}{9}`,],\n",
      "  [3,4,-1,String.raw`\\frac{1}{3}`,],\n",
      "  [3,4,1,String.raw`3`,],\n",
      "  [3,4,2,String.raw`9`,],\n",
      "  [3,4,3,String.raw`27`,],\n",
      "  [3,4,4,String.raw`81`,],\n",
      "  [4,2,-4,String.raw`\\frac{1}{256}`,],\n",
      "  [4,2,-3,String.raw`\\frac{1}{64}`,],\n",
      "  [4,2,-2,String.raw`\\frac{1}{16}`,],\n",
      "  [4,2,-1,String.raw`\\frac{1}{4}`,],\n",
      "  [4,2,1,String.raw`4`,],\n",
      "  [4,2,2,String.raw`16`,],\n",
      "  [4,2,3,String.raw`64`,],\n",
      "  [4,2,4,String.raw`256`,],\n",
      "  [4,3,-4,String.raw`\\frac{1}{256}`,],\n",
      "  [4,3,-3,String.raw`\\frac{1}{64}`,],\n",
      "  [4,3,-2,String.raw`\\frac{1}{16}`,],\n",
      "  [4,3,-1,String.raw`\\frac{1}{4}`,],\n",
      "  [4,3,1,String.raw`4`,],\n",
      "  [4,3,2,String.raw`16`,],\n",
      "  [4,3,3,String.raw`64`,],\n",
      "  [4,3,4,String.raw`256`,],\n",
      "  [4,4,-4,String.raw`\\frac{1}{256}`,],\n",
      "  [4,4,-3,String.raw`\\frac{1}{64}`,],\n",
      "  [4,4,-2,String.raw`\\frac{1}{16}`,],\n",
      "  [4,4,-1,String.raw`\\frac{1}{4}`,],\n",
      "  [4,4,1,String.raw`4`,],\n",
      "  [4,4,2,String.raw`16`,],\n",
      "  [4,4,3,String.raw`64`,],\n",
      "  [4,4,4,String.raw`256`,],\n",
      "  [5,2,-4,String.raw`\\frac{1}{625}`,],\n",
      "  [5,2,-3,String.raw`\\frac{1}{125}`,],\n",
      "  [5,2,-2,String.raw`\\frac{1}{25}`,],\n",
      "  [5,2,-1,String.raw`\\frac{1}{5}`,],\n",
      "  [5,2,1,String.raw`5`,],\n",
      "  [5,2,2,String.raw`25`,],\n",
      "  [5,2,3,String.raw`125`,],\n",
      "  [5,2,4,String.raw`625`,],\n",
      "  [5,3,-4,String.raw`\\frac{1}{625}`,],\n",
      "  [5,3,-3,String.raw`\\frac{1}{125}`,],\n",
      "  [5,3,-2,String.raw`\\frac{1}{25}`,],\n",
      "  [5,3,-1,String.raw`\\frac{1}{5}`,],\n",
      "  [5,3,1,String.raw`5`,],\n",
      "  [5,3,2,String.raw`25`,],\n",
      "  [5,3,3,String.raw`125`,],\n",
      "  [5,3,4,String.raw`625`,],\n",
      "  [5,4,-4,String.raw`\\frac{1}{625}`,],\n",
      "  [5,4,-3,String.raw`\\frac{1}{125}`,],\n",
      "  [5,4,-2,String.raw`\\frac{1}{25}`,],\n",
      "  [5,4,-1,String.raw`\\frac{1}{5}`,],\n",
      "  [5,4,1,String.raw`5`,],\n",
      "  [5,4,2,String.raw`25`,],\n",
      "  [5,4,3,String.raw`125`,],\n",
      "  [5,4,4,String.raw`625`,],\n",
      "  [6,2,-4,String.raw`\\frac{1}{1296}`,],\n",
      "  [6,2,-3,String.raw`\\frac{1}{216}`,],\n",
      "  [6,2,-2,String.raw`\\frac{1}{36}`,],\n",
      "  [6,2,-1,String.raw`\\frac{1}{6}`,],\n",
      "  [6,2,1,String.raw`6`,],\n",
      "  [6,2,2,String.raw`36`,],\n",
      "  [6,2,3,String.raw`216`,],\n",
      "  [6,2,4,String.raw`1296`,],\n",
      "  [6,3,-4,String.raw`\\frac{1}{1296}`,],\n",
      "  [6,3,-3,String.raw`\\frac{1}{216}`,],\n",
      "  [6,3,-2,String.raw`\\frac{1}{36}`,],\n",
      "  [6,3,-1,String.raw`\\frac{1}{6}`,],\n",
      "  [6,3,1,String.raw`6`,],\n",
      "  [6,3,2,String.raw`36`,],\n",
      "  [6,3,3,String.raw`216`,],\n",
      "  [6,3,4,String.raw`1296`,],\n",
      "  [6,4,-4,String.raw`\\frac{1}{1296}`,],\n",
      "  [6,4,-3,String.raw`\\frac{1}{216}`,],\n",
      "  [6,4,-2,String.raw`\\frac{1}{36}`,],\n",
      "  [6,4,-1,String.raw`\\frac{1}{6}`,],\n",
      "  [6,4,1,String.raw`6`,],\n",
      "  [6,4,2,String.raw`36`,],\n",
      "  [6,4,3,String.raw`216`,],\n",
      "  [6,4,4,String.raw`1296`,],\n",
      "  [7,2,-4,String.raw`\\frac{1}{2401}`,],\n",
      "  [7,2,-3,String.raw`\\frac{1}{343}`,],\n",
      "  [7,2,-2,String.raw`\\frac{1}{49}`,],\n",
      "  [7,2,-1,String.raw`\\frac{1}{7}`,],\n",
      "  [7,2,1,String.raw`7`,],\n",
      "  [7,2,2,String.raw`49`,],\n",
      "  [7,2,3,String.raw`343`,],\n",
      "  [7,2,4,String.raw`2401`,],\n",
      "  [7,3,-4,String.raw`\\frac{1}{2401}`,],\n",
      "  [7,3,-3,String.raw`\\frac{1}{343}`,],\n",
      "  [7,3,-2,String.raw`\\frac{1}{49}`,],\n",
      "  [7,3,-1,String.raw`\\frac{1}{7}`,],\n",
      "  [7,3,1,String.raw`7`,],\n",
      "  [7,3,2,String.raw`49`,],\n",
      "  [7,3,3,String.raw`343`,],\n",
      "  [7,3,4,String.raw`2401`,],\n",
      "  [7,4,-4,String.raw`\\frac{1}{2401}`,],\n",
      "  [7,4,-3,String.raw`\\frac{1}{343}`,],\n",
      "  [7,4,-2,String.raw`\\frac{1}{49}`,],\n",
      "  [7,4,-1,String.raw`\\frac{1}{7}`,],\n",
      "  [7,4,1,String.raw`7`,],\n",
      "  [7,4,2,String.raw`49`,],\n",
      "  [7,4,3,String.raw`343`,],\n",
      "  [7,4,4,String.raw`2401`,],\n",
      "  [8,2,-4,String.raw`\\frac{1}{4096}`,],\n",
      "  [8,2,-3,String.raw`\\frac{1}{512}`,],\n",
      "  [8,2,-2,String.raw`\\frac{1}{64}`,],\n",
      "  [8,2,-1,String.raw`\\frac{1}{8}`,],\n",
      "  [8,2,1,String.raw`8`,],\n",
      "  [8,2,2,String.raw`64`,],\n",
      "  [8,2,3,String.raw`512`,],\n",
      "  [8,2,4,String.raw`4096`,],\n",
      "  [8,3,-4,String.raw`\\frac{1}{4096}`,],\n",
      "  [8,3,-3,String.raw`\\frac{1}{512}`,],\n",
      "  [8,3,-2,String.raw`\\frac{1}{64}`,],\n",
      "  [8,3,-1,String.raw`\\frac{1}{8}`,],\n",
      "  [8,3,1,String.raw`8`,],\n",
      "  [8,3,2,String.raw`64`,],\n",
      "  [8,3,3,String.raw`512`,],\n",
      "  [8,3,4,String.raw`4096`,],\n",
      "  [8,4,-4,String.raw`\\frac{1}{4096}`,],\n",
      "  [8,4,-3,String.raw`\\frac{1}{512}`,],\n",
      "  [8,4,-2,String.raw`\\frac{1}{64}`,],\n",
      "  [8,4,-1,String.raw`\\frac{1}{8}`,],\n",
      "  [8,4,1,String.raw`8`,],\n",
      "  [8,4,2,String.raw`64`,],\n",
      "  [8,4,3,String.raw`512`,],\n",
      "  [8,4,4,String.raw`4096`,],\n",
      "  [9,2,-4,String.raw`\\frac{1}{6561}`,],\n",
      "  [9,2,-3,String.raw`\\frac{1}{729}`,],\n",
      "  [9,2,-2,String.raw`\\frac{1}{81}`,],\n",
      "  [9,2,-1,String.raw`\\frac{1}{9}`,],\n",
      "  [9,2,1,String.raw`9`,],\n",
      "  [9,2,2,String.raw`81`,],\n",
      "  [9,2,3,String.raw`729`,],\n",
      "  [9,2,4,String.raw`6561`,],\n",
      "  [9,3,-4,String.raw`\\frac{1}{6561}`,],\n",
      "  [9,3,-3,String.raw`\\frac{1}{729}`,],\n",
      "  [9,3,-2,String.raw`\\frac{1}{81}`,],\n",
      "  [9,3,-1,String.raw`\\frac{1}{9}`,],\n",
      "  [9,3,1,String.raw`9`,],\n",
      "  [9,3,2,String.raw`81`,],\n",
      "  [9,3,3,String.raw`729`,],\n",
      "  [9,3,4,String.raw`6561`,],\n",
      "  [9,4,-4,String.raw`\\frac{1}{6561}`,],\n",
      "  [9,4,-3,String.raw`\\frac{1}{729}`,],\n",
      "  [9,4,-2,String.raw`\\frac{1}{81}`,],\n",
      "  [9,4,-1,String.raw`\\frac{1}{9}`,],\n",
      "  [9,4,1,String.raw`9`,],\n",
      "  [9,4,2,String.raw`81`,],\n",
      "  [9,4,3,String.raw`729`,],\n",
      "  [9,4,4,String.raw`6561`,],\n",
      "];\n",
      "//random_seed=0;\n",
      "[a,b,c,sol] = params[random_seed % params.length];\n"
     ]
    }
   ],
   "source": [
    "print(\"if (typeof params === 'undefined') { let params,a,b,c,sol; }\")\n",
    "print(\"params = [\")\n",
    "for _a in range(2,10):\n",
    "    for _b in range(2,5):\n",
    "        for _c in range(-4,5):\n",
    "            if _c != 0:\n",
    "                sol =_prob.subs(a,_a).subs(b,_b).subs(c,_c).doit()\n",
    "                print(f'  [{_a},{_b},{_c},String.raw`{sy.latex(sol)}`,],')\n",
    "print(\"];\")\n",
    "print(\"//random_seed=0;\")\n",
    "print(\"[a,b,c,sol] = params[random_seed % params.length];\")"
   ]
  },
  {
   "cell_type": "markdown",
   "id": "53ea1af0-0b2d-4034-968c-c71721377521",
   "metadata": {},
   "source": [
    "### CET 00-A.02a"
   ]
  },
  {
   "cell_type": "code",
   "execution_count": 347,
   "id": "7550867c-828a-49d9-b869-1dcbf71f35ef",
   "metadata": {
    "tags": []
   },
   "outputs": [
    {
     "data": {
      "text/latex": [
       "$\\displaystyle \\sqrt{a^{s} b^{t}} - \\sqrt{a^{u} b^{v}}$"
      ],
      "text/plain": [
       "sqrt(a**s*b**t) - sqrt(a**u*b**v)"
      ]
     },
     "execution_count": 347,
     "metadata": {},
     "output_type": "execute_result"
    }
   ],
   "source": [
    "ex = sy.sqrt((a**s)*(b**t)) - sy.sqrt((a**u)*(b**v))\n",
    "ex"
   ]
  },
  {
   "cell_type": "code",
   "execution_count": 348,
   "id": "ec42420a-e725-4177-b10d-afbfbd5c1a39",
   "metadata": {
    "tags": []
   },
   "outputs": [
    {
     "data": {
      "text/latex": [
       "$\\displaystyle 6 \\sqrt{2}$"
      ],
      "text/plain": [
       "6*sqrt(2)"
      ]
     },
     "execution_count": 348,
     "metadata": {},
     "output_type": "execute_result"
    }
   ],
   "source": [
    "ex.subs(a,2).subs(b,5).subs(s,3).subs(t,2).subs(u,5).subs(v,0)"
   ]
  },
  {
   "cell_type": "code",
   "execution_count": 358,
   "id": "4c284820-796a-4604-b8f8-bd71ccac74ab",
   "metadata": {
    "tags": []
   },
   "outputs": [],
   "source": [
    "filter_func = lambda _a,_b,_s,_t,_u,_v: ex.subs(a,_a).subs(b,_b).subs(s,_s).subs(t,_t).subs(u,_u).subs(v,_v) != 0"
   ]
  },
  {
   "cell_type": "code",
   "execution_count": 361,
   "id": "887ef85f-8839-4469-8e7f-d0d568e5d91e",
   "metadata": {
    "tags": []
   },
   "outputs": [],
   "source": [
    "params = {\n",
    "    a: range(2,5),\n",
    "    b: range(2,6),\n",
    "    s: range(2,5),\n",
    "    t: range(2,5),\n",
    "    u: range(2,5),\n",
    "    v: range(2,5),\n",
    "}"
   ]
  },
  {
   "cell_type": "code",
   "execution_count": 362,
   "id": "d89ac55b-efc6-40a6-8477-d7a900b8a5e1",
   "metadata": {
    "tags": []
   },
   "outputs": [],
   "source": [
    "param_script = get_params_script(ex, params, show_prob=False, filter_func=filter_func)"
   ]
  },
  {
   "cell_type": "code",
   "execution_count": 363,
   "id": "4f640f3f-37e2-4316-a52c-7f85c2434d53",
   "metadata": {
    "collapsed": true,
    "jupyter": {
     "outputs_hidden": true
    },
    "tags": []
   },
   "outputs": [
    {
     "name": "stdout",
     "output_type": "stream",
     "text": [
      "if (typeof params === 'undefined') { let params,a,b,s,t,u,v,sol; }\n",
      "params = [\n",
      "  [2,2,2,2,2,3,String.raw`4 - 4 \\sqrt{2}`,],\n",
      "  [2,2,2,2,2,4,String.raw`-4`,],\n",
      "  [2,2,2,2,3,2,String.raw`4 - 4 \\sqrt{2}`,],\n",
      "  [2,2,2,2,3,3,String.raw`-4`,],\n",
      "  [2,2,2,2,3,4,String.raw`4 - 8 \\sqrt{2}`,],\n",
      "  [2,2,2,2,4,2,String.raw`-4`,],\n",
      "  [2,2,2,2,4,3,String.raw`4 - 8 \\sqrt{2}`,],\n",
      "  [2,2,2,2,4,4,String.raw`-12`,],\n",
      "  [2,2,2,3,2,2,String.raw`-4 + 4 \\sqrt{2}`,],\n",
      "  [2,2,2,3,2,4,String.raw`-8 + 4 \\sqrt{2}`,],\n",
      "  [2,2,2,3,3,3,String.raw`-8 + 4 \\sqrt{2}`,],\n",
      "  [2,2,2,3,3,4,String.raw`- 4 \\sqrt{2}`,],\n",
      "  [2,2,2,3,4,2,String.raw`-8 + 4 \\sqrt{2}`,],\n",
      "  [2,2,2,3,4,3,String.raw`- 4 \\sqrt{2}`,],\n",
      "  [2,2,2,3,4,4,String.raw`-16 + 4 \\sqrt{2}`,],\n",
      "  [2,2,2,4,2,2,String.raw`4`,],\n",
      "  [2,2,2,4,2,3,String.raw`8 - 4 \\sqrt{2}`,],\n",
      "  [2,2,2,4,3,2,String.raw`8 - 4 \\sqrt{2}`,],\n",
      "  [2,2,2,4,3,4,String.raw`8 - 8 \\sqrt{2}`,],\n",
      "  [2,2,2,4,4,3,String.raw`8 - 8 \\sqrt{2}`,],\n",
      "  [2,2,2,4,4,4,String.raw`-8`,],\n",
      "  [2,2,3,2,2,2,String.raw`-4 + 4 \\sqrt{2}`,],\n",
      "  [2,2,3,2,2,4,String.raw`-8 + 4 \\sqrt{2}`,],\n",
      "  [2,2,3,2,3,3,String.raw`-8 + 4 \\sqrt{2}`,],\n",
      "  [2,2,3,2,3,4,String.raw`- 4 \\sqrt{2}`,],\n",
      "  [2,2,3,2,4,2,String.raw`-8 + 4 \\sqrt{2}`,],\n",
      "  [2,2,3,2,4,3,String.raw`- 4 \\sqrt{2}`,],\n",
      "  [2,2,3,2,4,4,String.raw`-16 + 4 \\sqrt{2}`,],\n",
      "  [2,2,3,3,2,2,String.raw`4`,],\n",
      "  [2,2,3,3,2,3,String.raw`8 - 4 \\sqrt{2}`,],\n",
      "  [2,2,3,3,3,2,String.raw`8 - 4 \\sqrt{2}`,],\n",
      "  [2,2,3,3,3,4,String.raw`8 - 8 \\sqrt{2}`,],\n",
      "  [2,2,3,3,4,3,String.raw`8 - 8 \\sqrt{2}`,],\n",
      "  [2,2,3,3,4,4,String.raw`-8`,],\n",
      "  [2,2,3,4,2,2,String.raw`-4 + 8 \\sqrt{2}`,],\n",
      "  [2,2,3,4,2,3,String.raw`4 \\sqrt{2}`,],\n",
      "  [2,2,3,4,2,4,String.raw`-8 + 8 \\sqrt{2}`,],\n",
      "  [2,2,3,4,3,2,String.raw`4 \\sqrt{2}`,],\n",
      "  [2,2,3,4,3,3,String.raw`-8 + 8 \\sqrt{2}`,],\n",
      "  [2,2,3,4,4,2,String.raw`-8 + 8 \\sqrt{2}`,],\n",
      "  [2,2,3,4,4,4,String.raw`-16 + 8 \\sqrt{2}`,],\n",
      "  [2,2,4,2,2,2,String.raw`4`,],\n",
      "  [2,2,4,2,2,3,String.raw`8 - 4 \\sqrt{2}`,],\n",
      "  [2,2,4,2,3,2,String.raw`8 - 4 \\sqrt{2}`,],\n",
      "  [2,2,4,2,3,4,String.raw`8 - 8 \\sqrt{2}`,],\n",
      "  [2,2,4,2,4,3,String.raw`8 - 8 \\sqrt{2}`,],\n",
      "  [2,2,4,2,4,4,String.raw`-8`,],\n",
      "  [2,2,4,3,2,2,String.raw`-4 + 8 \\sqrt{2}`,],\n",
      "  [2,2,4,3,2,3,String.raw`4 \\sqrt{2}`,],\n",
      "  [2,2,4,3,2,4,String.raw`-8 + 8 \\sqrt{2}`,],\n",
      "  [2,2,4,3,3,2,String.raw`4 \\sqrt{2}`,],\n",
      "  [2,2,4,3,3,3,String.raw`-8 + 8 \\sqrt{2}`,],\n",
      "  [2,2,4,3,4,2,String.raw`-8 + 8 \\sqrt{2}`,],\n",
      "  [2,2,4,3,4,4,String.raw`-16 + 8 \\sqrt{2}`,],\n",
      "  [2,2,4,4,2,2,String.raw`12`,],\n",
      "  [2,2,4,4,2,3,String.raw`16 - 4 \\sqrt{2}`,],\n",
      "  [2,2,4,4,2,4,String.raw`8`,],\n",
      "  [2,2,4,4,3,2,String.raw`16 - 4 \\sqrt{2}`,],\n",
      "  [2,2,4,4,3,3,String.raw`8`,],\n",
      "  [2,2,4,4,3,4,String.raw`16 - 8 \\sqrt{2}`,],\n",
      "  [2,2,4,4,4,2,String.raw`8`,],\n",
      "  [2,2,4,4,4,3,String.raw`16 - 8 \\sqrt{2}`,],\n",
      "  [2,3,2,2,2,3,String.raw`6 - 6 \\sqrt{3}`,],\n",
      "  [2,3,2,2,2,4,String.raw`-12`,],\n",
      "  [2,3,2,2,3,2,String.raw`6 - 6 \\sqrt{2}`,],\n",
      "  [2,3,2,2,3,3,String.raw`6 - 6 \\sqrt{6}`,],\n",
      "  [2,3,2,2,3,4,String.raw`6 - 18 \\sqrt{2}`,],\n",
      "  [2,3,2,2,4,2,String.raw`-6`,],\n",
      "  [2,3,2,2,4,3,String.raw`6 - 12 \\sqrt{3}`,],\n",
      "  [2,3,2,2,4,4,String.raw`-30`,],\n",
      "  [2,3,2,3,2,2,String.raw`-6 + 6 \\sqrt{3}`,],\n",
      "  [2,3,2,3,2,4,String.raw`-18 + 6 \\sqrt{3}`,],\n",
      "  [2,3,2,3,3,2,String.raw`- 6 \\sqrt{2} + 6 \\sqrt{3}`,],\n",
      "  [2,3,2,3,3,3,String.raw`- 6 \\sqrt{6} + 6 \\sqrt{3}`,],\n",
      "  [2,3,2,3,3,4,String.raw`- 18 \\sqrt{2} + 6 \\sqrt{3}`,],\n",
      "  [2,3,2,3,4,2,String.raw`-12 + 6 \\sqrt{3}`,],\n",
      "  [2,3,2,3,4,3,String.raw`- 6 \\sqrt{3}`,],\n",
      "  [2,3,2,3,4,4,String.raw`-36 + 6 \\sqrt{3}`,],\n",
      "  [2,3,2,4,2,2,String.raw`12`,],\n",
      "  [2,3,2,4,2,3,String.raw`18 - 6 \\sqrt{3}`,],\n",
      "  [2,3,2,4,3,2,String.raw`18 - 6 \\sqrt{2}`,],\n",
      "  [2,3,2,4,3,3,String.raw`18 - 6 \\sqrt{6}`,],\n",
      "  [2,3,2,4,3,4,String.raw`18 - 18 \\sqrt{2}`,],\n",
      "  [2,3,2,4,4,2,String.raw`6`,],\n",
      "  [2,3,2,4,4,3,String.raw`18 - 12 \\sqrt{3}`,],\n",
      "  [2,3,2,4,4,4,String.raw`-18`,],\n",
      "  [2,3,3,2,2,2,String.raw`-6 + 6 \\sqrt{2}`,],\n",
      "  [2,3,3,2,2,3,String.raw`- 6 \\sqrt{3} + 6 \\sqrt{2}`,],\n",
      "  [2,3,3,2,2,4,String.raw`-18 + 6 \\sqrt{2}`,],\n",
      "  [2,3,3,2,3,3,String.raw`- 6 \\sqrt{6} + 6 \\sqrt{2}`,],\n",
      "  [2,3,3,2,3,4,String.raw`- 12 \\sqrt{2}`,],\n",
      "  [2,3,3,2,4,2,String.raw`-12 + 6 \\sqrt{2}`,],\n",
      "  [2,3,3,2,4,3,String.raw`- 12 \\sqrt{3} + 6 \\sqrt{2}`,],\n",
      "  [2,3,3,2,4,4,String.raw`-36 + 6 \\sqrt{2}`,],\n",
      "  [2,3,3,3,2,2,String.raw`-6 + 6 \\sqrt{6}`,],\n",
      "  [2,3,3,3,2,3,String.raw`- 6 \\sqrt{3} + 6 \\sqrt{6}`,],\n",
      "  [2,3,3,3,2,4,String.raw`-18 + 6 \\sqrt{6}`,],\n",
      "  [2,3,3,3,3,2,String.raw`- 6 \\sqrt{2} + 6 \\sqrt{6}`,],\n",
      "  [2,3,3,3,3,4,String.raw`- 18 \\sqrt{2} + 6 \\sqrt{6}`,],\n",
      "  [2,3,3,3,4,2,String.raw`-12 + 6 \\sqrt{6}`,],\n",
      "  [2,3,3,3,4,3,String.raw`- 12 \\sqrt{3} + 6 \\sqrt{6}`,],\n",
      "  [2,3,3,3,4,4,String.raw`-36 + 6 \\sqrt{6}`,],\n",
      "  [2,3,3,4,2,2,String.raw`-6 + 18 \\sqrt{2}`,],\n",
      "  [2,3,3,4,2,3,String.raw`- 6 \\sqrt{3} + 18 \\sqrt{2}`,],\n",
      "  [2,3,3,4,2,4,String.raw`-18 + 18 \\sqrt{2}`,],\n",
      "  [2,3,3,4,3,2,String.raw`12 \\sqrt{2}`,],\n",
      "  [2,3,3,4,3,3,String.raw`- 6 \\sqrt{6} + 18 \\sqrt{2}`,],\n",
      "  [2,3,3,4,4,2,String.raw`-12 + 18 \\sqrt{2}`,],\n",
      "  [2,3,3,4,4,3,String.raw`- 12 \\sqrt{3} + 18 \\sqrt{2}`,],\n",
      "  [2,3,3,4,4,4,String.raw`-36 + 18 \\sqrt{2}`,],\n",
      "  [2,3,4,2,2,2,String.raw`6`,],\n",
      "  [2,3,4,2,2,3,String.raw`12 - 6 \\sqrt{3}`,],\n",
      "  [2,3,4,2,2,4,String.raw`-6`,],\n",
      "  [2,3,4,2,3,2,String.raw`12 - 6 \\sqrt{2}`,],\n",
      "  [2,3,4,2,3,3,String.raw`12 - 6 \\sqrt{6}`,],\n",
      "  [2,3,4,2,3,4,String.raw`12 - 18 \\sqrt{2}`,],\n",
      "  [2,3,4,2,4,3,String.raw`12 - 12 \\sqrt{3}`,],\n",
      "  [2,3,4,2,4,4,String.raw`-24`,],\n",
      "  [2,3,4,3,2,2,String.raw`-6 + 12 \\sqrt{3}`,],\n",
      "  [2,3,4,3,2,3,String.raw`6 \\sqrt{3}`,],\n",
      "  [2,3,4,3,2,4,String.raw`-18 + 12 \\sqrt{3}`,],\n",
      "  [2,3,4,3,3,2,String.raw`- 6 \\sqrt{2} + 12 \\sqrt{3}`,],\n",
      "  [2,3,4,3,3,3,String.raw`- 6 \\sqrt{6} + 12 \\sqrt{3}`,],\n",
      "  [2,3,4,3,3,4,String.raw`- 18 \\sqrt{2} + 12 \\sqrt{3}`,],\n",
      "  [2,3,4,3,4,2,String.raw`-12 + 12 \\sqrt{3}`,],\n",
      "  [2,3,4,3,4,4,String.raw`-36 + 12 \\sqrt{3}`,],\n",
      "  [2,3,4,4,2,2,String.raw`30`,],\n",
      "  [2,3,4,4,2,3,String.raw`36 - 6 \\sqrt{3}`,],\n",
      "  [2,3,4,4,2,4,String.raw`18`,],\n",
      "  [2,3,4,4,3,2,String.raw`36 - 6 \\sqrt{2}`,],\n",
      "  [2,3,4,4,3,3,String.raw`36 - 6 \\sqrt{6}`,],\n",
      "  [2,3,4,4,3,4,String.raw`36 - 18 \\sqrt{2}`,],\n",
      "  [2,3,4,4,4,2,String.raw`24`,],\n",
      "  [2,3,4,4,4,3,String.raw`36 - 12 \\sqrt{3}`,],\n",
      "  [2,4,2,2,2,3,String.raw`-8`,],\n",
      "  [2,4,2,2,2,4,String.raw`-24`,],\n",
      "  [2,4,2,2,3,2,String.raw`8 - 8 \\sqrt{2}`,],\n",
      "  [2,4,2,2,3,3,String.raw`8 - 16 \\sqrt{2}`,],\n",
      "  [2,4,2,2,3,4,String.raw`8 - 32 \\sqrt{2}`,],\n",
      "  [2,4,2,2,4,2,String.raw`-8`,],\n",
      "  [2,4,2,2,4,3,String.raw`-24`,],\n",
      "  [2,4,2,2,4,4,String.raw`-56`,],\n",
      "  [2,4,2,3,2,2,String.raw`8`,],\n",
      "  [2,4,2,3,2,4,String.raw`-16`,],\n",
      "  [2,4,2,3,3,2,String.raw`16 - 8 \\sqrt{2}`,],\n",
      "  [2,4,2,3,3,3,String.raw`16 - 16 \\sqrt{2}`,],\n",
      "  [2,4,2,3,3,4,String.raw`16 - 32 \\sqrt{2}`,],\n",
      "  [2,4,2,3,4,3,String.raw`-16`,],\n",
      "  [2,4,2,3,4,4,String.raw`-48`,],\n",
      "  [2,4,2,4,2,2,String.raw`24`,],\n",
      "  [2,4,2,4,2,3,String.raw`16`,],\n",
      "  [2,4,2,4,3,2,String.raw`32 - 8 \\sqrt{2}`,],\n",
      "  [2,4,2,4,3,3,String.raw`32 - 16 \\sqrt{2}`,],\n",
      "  [2,4,2,4,3,4,String.raw`32 - 32 \\sqrt{2}`,],\n",
      "  [2,4,2,4,4,2,String.raw`16`,],\n",
      "  [2,4,2,4,4,4,String.raw`-32`,],\n",
      "  [2,4,3,2,2,2,String.raw`-8 + 8 \\sqrt{2}`,],\n",
      "  [2,4,3,2,2,3,String.raw`-16 + 8 \\sqrt{2}`,],\n",
      "  [2,4,3,2,2,4,String.raw`-32 + 8 \\sqrt{2}`,],\n",
      "  [2,4,3,2,3,3,String.raw`- 8 \\sqrt{2}`,],\n",
      "  [2,4,3,2,3,4,String.raw`- 24 \\sqrt{2}`,],\n",
      "  [2,4,3,2,4,2,String.raw`-16 + 8 \\sqrt{2}`,],\n",
      "  [2,4,3,2,4,3,String.raw`-32 + 8 \\sqrt{2}`,],\n",
      "  [2,4,3,2,4,4,String.raw`-64 + 8 \\sqrt{2}`,],\n",
      "  [2,4,3,3,2,2,String.raw`-8 + 16 \\sqrt{2}`,],\n",
      "  [2,4,3,3,2,3,String.raw`-16 + 16 \\sqrt{2}`,],\n",
      "  [2,4,3,3,2,4,String.raw`-32 + 16 \\sqrt{2}`,],\n",
      "  [2,4,3,3,3,2,String.raw`8 \\sqrt{2}`,],\n",
      "  [2,4,3,3,3,4,String.raw`- 16 \\sqrt{2}`,],\n",
      "  [2,4,3,3,4,2,String.raw`-16 + 16 \\sqrt{2}`,],\n",
      "  [2,4,3,3,4,3,String.raw`-32 + 16 \\sqrt{2}`,],\n",
      "  [2,4,3,3,4,4,String.raw`-64 + 16 \\sqrt{2}`,],\n",
      "  [2,4,3,4,2,2,String.raw`-8 + 32 \\sqrt{2}`,],\n",
      "  [2,4,3,4,2,3,String.raw`-16 + 32 \\sqrt{2}`,],\n",
      "  [2,4,3,4,2,4,String.raw`-32 + 32 \\sqrt{2}`,],\n",
      "  [2,4,3,4,3,2,String.raw`24 \\sqrt{2}`,],\n",
      "  [2,4,3,4,3,3,String.raw`16 \\sqrt{2}`,],\n",
      "  [2,4,3,4,4,2,String.raw`-16 + 32 \\sqrt{2}`,],\n",
      "  [2,4,3,4,4,3,String.raw`-32 + 32 \\sqrt{2}`,],\n",
      "  [2,4,3,4,4,4,String.raw`-64 + 32 \\sqrt{2}`,],\n",
      "  [2,4,4,2,2,2,String.raw`8`,],\n",
      "  [2,4,4,2,2,4,String.raw`-16`,],\n",
      "  [2,4,4,2,3,2,String.raw`16 - 8 \\sqrt{2}`,],\n",
      "  [2,4,4,2,3,3,String.raw`16 - 16 \\sqrt{2}`,],\n",
      "  [2,4,4,2,3,4,String.raw`16 - 32 \\sqrt{2}`,],\n",
      "  [2,4,4,2,4,3,String.raw`-16`,],\n",
      "  [2,4,4,2,4,4,String.raw`-48`,],\n",
      "  [2,4,4,3,2,2,String.raw`24`,],\n",
      "  [2,4,4,3,2,3,String.raw`16`,],\n",
      "  [2,4,4,3,3,2,String.raw`32 - 8 \\sqrt{2}`,],\n",
      "  [2,4,4,3,3,3,String.raw`32 - 16 \\sqrt{2}`,],\n",
      "  [2,4,4,3,3,4,String.raw`32 - 32 \\sqrt{2}`,],\n",
      "  [2,4,4,3,4,2,String.raw`16`,],\n",
      "  [2,4,4,3,4,4,String.raw`-32`,],\n",
      "  [2,4,4,4,2,2,String.raw`56`,],\n",
      "  [2,4,4,4,2,3,String.raw`48`,],\n",
      "  [2,4,4,4,2,4,String.raw`32`,],\n",
      "  [2,4,4,4,3,2,String.raw`64 - 8 \\sqrt{2}`,],\n",
      "  [2,4,4,4,3,3,String.raw`64 - 16 \\sqrt{2}`,],\n",
      "  [2,4,4,4,3,4,String.raw`64 - 32 \\sqrt{2}`,],\n",
      "  [2,4,4,4,4,2,String.raw`48`,],\n",
      "  [2,4,4,4,4,3,String.raw`32`,],\n",
      "  [2,5,2,2,2,3,String.raw`10 - 10 \\sqrt{5}`,],\n",
      "  [2,5,2,2,2,4,String.raw`-40`,],\n",
      "  [2,5,2,2,3,2,String.raw`10 - 10 \\sqrt{2}`,],\n",
      "  [2,5,2,2,3,3,String.raw`10 - 10 \\sqrt{10}`,],\n",
      "  [2,5,2,2,3,4,String.raw`10 - 50 \\sqrt{2}`,],\n",
      "  [2,5,2,2,4,2,String.raw`-10`,],\n",
      "  [2,5,2,2,4,3,String.raw`10 - 20 \\sqrt{5}`,],\n",
      "  [2,5,2,2,4,4,String.raw`-90`,],\n",
      "  [2,5,2,3,2,2,String.raw`-10 + 10 \\sqrt{5}`,],\n",
      "  [2,5,2,3,2,4,String.raw`-50 + 10 \\sqrt{5}`,],\n",
      "  [2,5,2,3,3,2,String.raw`- 10 \\sqrt{2} + 10 \\sqrt{5}`,],\n",
      "  [2,5,2,3,3,3,String.raw`- 10 \\sqrt{10} + 10 \\sqrt{5}`,],\n",
      "  [2,5,2,3,3,4,String.raw`- 50 \\sqrt{2} + 10 \\sqrt{5}`,],\n",
      "  [2,5,2,3,4,2,String.raw`-20 + 10 \\sqrt{5}`,],\n",
      "  [2,5,2,3,4,3,String.raw`- 10 \\sqrt{5}`,],\n",
      "  [2,5,2,3,4,4,String.raw`-100 + 10 \\sqrt{5}`,],\n",
      "  [2,5,2,4,2,2,String.raw`40`,],\n",
      "  [2,5,2,4,2,3,String.raw`50 - 10 \\sqrt{5}`,],\n",
      "  [2,5,2,4,3,2,String.raw`50 - 10 \\sqrt{2}`,],\n",
      "  [2,5,2,4,3,3,String.raw`50 - 10 \\sqrt{10}`,],\n",
      "  [2,5,2,4,3,4,String.raw`50 - 50 \\sqrt{2}`,],\n",
      "  [2,5,2,4,4,2,String.raw`30`,],\n",
      "  [2,5,2,4,4,3,String.raw`50 - 20 \\sqrt{5}`,],\n",
      "  [2,5,2,4,4,4,String.raw`-50`,],\n",
      "  [2,5,3,2,2,2,String.raw`-10 + 10 \\sqrt{2}`,],\n",
      "  [2,5,3,2,2,3,String.raw`- 10 \\sqrt{5} + 10 \\sqrt{2}`,],\n",
      "  [2,5,3,2,2,4,String.raw`-50 + 10 \\sqrt{2}`,],\n",
      "  [2,5,3,2,3,3,String.raw`- 10 \\sqrt{10} + 10 \\sqrt{2}`,],\n",
      "  [2,5,3,2,3,4,String.raw`- 40 \\sqrt{2}`,],\n",
      "  [2,5,3,2,4,2,String.raw`-20 + 10 \\sqrt{2}`,],\n",
      "  [2,5,3,2,4,3,String.raw`- 20 \\sqrt{5} + 10 \\sqrt{2}`,],\n",
      "  [2,5,3,2,4,4,String.raw`-100 + 10 \\sqrt{2}`,],\n",
      "  [2,5,3,3,2,2,String.raw`-10 + 10 \\sqrt{10}`,],\n",
      "  [2,5,3,3,2,3,String.raw`- 10 \\sqrt{5} + 10 \\sqrt{10}`,],\n",
      "  [2,5,3,3,2,4,String.raw`-50 + 10 \\sqrt{10}`,],\n",
      "  [2,5,3,3,3,2,String.raw`- 10 \\sqrt{2} + 10 \\sqrt{10}`,],\n",
      "  [2,5,3,3,3,4,String.raw`- 50 \\sqrt{2} + 10 \\sqrt{10}`,],\n",
      "  [2,5,3,3,4,2,String.raw`-20 + 10 \\sqrt{10}`,],\n",
      "  [2,5,3,3,4,3,String.raw`- 20 \\sqrt{5} + 10 \\sqrt{10}`,],\n",
      "  [2,5,3,3,4,4,String.raw`-100 + 10 \\sqrt{10}`,],\n",
      "  [2,5,3,4,2,2,String.raw`-10 + 50 \\sqrt{2}`,],\n",
      "  [2,5,3,4,2,3,String.raw`- 10 \\sqrt{5} + 50 \\sqrt{2}`,],\n",
      "  [2,5,3,4,2,4,String.raw`-50 + 50 \\sqrt{2}`,],\n",
      "  [2,5,3,4,3,2,String.raw`40 \\sqrt{2}`,],\n",
      "  [2,5,3,4,3,3,String.raw`- 10 \\sqrt{10} + 50 \\sqrt{2}`,],\n",
      "  [2,5,3,4,4,2,String.raw`-20 + 50 \\sqrt{2}`,],\n",
      "  [2,5,3,4,4,3,String.raw`- 20 \\sqrt{5} + 50 \\sqrt{2}`,],\n",
      "  [2,5,3,4,4,4,String.raw`-100 + 50 \\sqrt{2}`,],\n",
      "  [2,5,4,2,2,2,String.raw`10`,],\n",
      "  [2,5,4,2,2,3,String.raw`20 - 10 \\sqrt{5}`,],\n",
      "  [2,5,4,2,2,4,String.raw`-30`,],\n",
      "  [2,5,4,2,3,2,String.raw`20 - 10 \\sqrt{2}`,],\n",
      "  [2,5,4,2,3,3,String.raw`20 - 10 \\sqrt{10}`,],\n",
      "  [2,5,4,2,3,4,String.raw`20 - 50 \\sqrt{2}`,],\n",
      "  [2,5,4,2,4,3,String.raw`20 - 20 \\sqrt{5}`,],\n",
      "  [2,5,4,2,4,4,String.raw`-80`,],\n",
      "  [2,5,4,3,2,2,String.raw`-10 + 20 \\sqrt{5}`,],\n",
      "  [2,5,4,3,2,3,String.raw`10 \\sqrt{5}`,],\n",
      "  [2,5,4,3,2,4,String.raw`-50 + 20 \\sqrt{5}`,],\n",
      "  [2,5,4,3,3,2,String.raw`- 10 \\sqrt{2} + 20 \\sqrt{5}`,],\n",
      "  [2,5,4,3,3,3,String.raw`- 10 \\sqrt{10} + 20 \\sqrt{5}`,],\n",
      "  [2,5,4,3,3,4,String.raw`- 50 \\sqrt{2} + 20 \\sqrt{5}`,],\n",
      "  [2,5,4,3,4,2,String.raw`-20 + 20 \\sqrt{5}`,],\n",
      "  [2,5,4,3,4,4,String.raw`-100 + 20 \\sqrt{5}`,],\n",
      "  [2,5,4,4,2,2,String.raw`90`,],\n",
      "  [2,5,4,4,2,3,String.raw`100 - 10 \\sqrt{5}`,],\n",
      "  [2,5,4,4,2,4,String.raw`50`,],\n",
      "  [2,5,4,4,3,2,String.raw`100 - 10 \\sqrt{2}`,],\n",
      "  [2,5,4,4,3,3,String.raw`100 - 10 \\sqrt{10}`,],\n",
      "  [2,5,4,4,3,4,String.raw`100 - 50 \\sqrt{2}`,],\n",
      "  [2,5,4,4,4,2,String.raw`80`,],\n",
      "  [2,5,4,4,4,3,String.raw`100 - 20 \\sqrt{5}`,],\n",
      "  [3,2,2,2,2,3,String.raw`6 - 6 \\sqrt{2}`,],\n",
      "  [3,2,2,2,2,4,String.raw`-6`,],\n",
      "  [3,2,2,2,3,2,String.raw`6 - 6 \\sqrt{3}`,],\n",
      "  [3,2,2,2,3,3,String.raw`6 - 6 \\sqrt{6}`,],\n",
      "  [3,2,2,2,3,4,String.raw`6 - 12 \\sqrt{3}`,],\n",
      "  [3,2,2,2,4,2,String.raw`-12`,],\n",
      "  [3,2,2,2,4,3,String.raw`6 - 18 \\sqrt{2}`,],\n",
      "  [3,2,2,2,4,4,String.raw`-30`,],\n",
      "  [3,2,2,3,2,2,String.raw`-6 + 6 \\sqrt{2}`,],\n",
      "  [3,2,2,3,2,4,String.raw`-12 + 6 \\sqrt{2}`,],\n",
      "  [3,2,2,3,3,2,String.raw`- 6 \\sqrt{3} + 6 \\sqrt{2}`,],\n",
      "  [3,2,2,3,3,3,String.raw`- 6 \\sqrt{6} + 6 \\sqrt{2}`,],\n",
      "  [3,2,2,3,3,4,String.raw`- 12 \\sqrt{3} + 6 \\sqrt{2}`,],\n",
      "  [3,2,2,3,4,2,String.raw`-18 + 6 \\sqrt{2}`,],\n",
      "  [3,2,2,3,4,3,String.raw`- 12 \\sqrt{2}`,],\n",
      "  [3,2,2,3,4,4,String.raw`-36 + 6 \\sqrt{2}`,],\n",
      "  [3,2,2,4,2,2,String.raw`6`,],\n",
      "  [3,2,2,4,2,3,String.raw`12 - 6 \\sqrt{2}`,],\n",
      "  [3,2,2,4,3,2,String.raw`12 - 6 \\sqrt{3}`,],\n",
      "  [3,2,2,4,3,3,String.raw`12 - 6 \\sqrt{6}`,],\n",
      "  [3,2,2,4,3,4,String.raw`12 - 12 \\sqrt{3}`,],\n",
      "  [3,2,2,4,4,2,String.raw`-6`,],\n",
      "  [3,2,2,4,4,3,String.raw`12 - 18 \\sqrt{2}`,],\n",
      "  [3,2,2,4,4,4,String.raw`-24`,],\n",
      "  [3,2,3,2,2,2,String.raw`-6 + 6 \\sqrt{3}`,],\n",
      "  [3,2,3,2,2,3,String.raw`- 6 \\sqrt{2} + 6 \\sqrt{3}`,],\n",
      "  [3,2,3,2,2,4,String.raw`-12 + 6 \\sqrt{3}`,],\n",
      "  [3,2,3,2,3,3,String.raw`- 6 \\sqrt{6} + 6 \\sqrt{3}`,],\n",
      "  [3,2,3,2,3,4,String.raw`- 6 \\sqrt{3}`,],\n",
      "  [3,2,3,2,4,2,String.raw`-18 + 6 \\sqrt{3}`,],\n",
      "  [3,2,3,2,4,3,String.raw`- 18 \\sqrt{2} + 6 \\sqrt{3}`,],\n",
      "  [3,2,3,2,4,4,String.raw`-36 + 6 \\sqrt{3}`,],\n",
      "  [3,2,3,3,2,2,String.raw`-6 + 6 \\sqrt{6}`,],\n",
      "  [3,2,3,3,2,3,String.raw`- 6 \\sqrt{2} + 6 \\sqrt{6}`,],\n",
      "  [3,2,3,3,2,4,String.raw`-12 + 6 \\sqrt{6}`,],\n",
      "  [3,2,3,3,3,2,String.raw`- 6 \\sqrt{3} + 6 \\sqrt{6}`,],\n",
      "  [3,2,3,3,3,4,String.raw`- 12 \\sqrt{3} + 6 \\sqrt{6}`,],\n",
      "  [3,2,3,3,4,2,String.raw`-18 + 6 \\sqrt{6}`,],\n",
      "  [3,2,3,3,4,3,String.raw`- 18 \\sqrt{2} + 6 \\sqrt{6}`,],\n",
      "  [3,2,3,3,4,4,String.raw`-36 + 6 \\sqrt{6}`,],\n",
      "  [3,2,3,4,2,2,String.raw`-6 + 12 \\sqrt{3}`,],\n",
      "  [3,2,3,4,2,3,String.raw`- 6 \\sqrt{2} + 12 \\sqrt{3}`,],\n",
      "  [3,2,3,4,2,4,String.raw`-12 + 12 \\sqrt{3}`,],\n",
      "  [3,2,3,4,3,2,String.raw`6 \\sqrt{3}`,],\n",
      "  [3,2,3,4,3,3,String.raw`- 6 \\sqrt{6} + 12 \\sqrt{3}`,],\n",
      "  [3,2,3,4,4,2,String.raw`-18 + 12 \\sqrt{3}`,],\n",
      "  [3,2,3,4,4,3,String.raw`- 18 \\sqrt{2} + 12 \\sqrt{3}`,],\n",
      "  [3,2,3,4,4,4,String.raw`-36 + 12 \\sqrt{3}`,],\n",
      "  [3,2,4,2,2,2,String.raw`12`,],\n",
      "  [3,2,4,2,2,3,String.raw`18 - 6 \\sqrt{2}`,],\n",
      "  [3,2,4,2,2,4,String.raw`6`,],\n",
      "  [3,2,4,2,3,2,String.raw`18 - 6 \\sqrt{3}`,],\n",
      "  [3,2,4,2,3,3,String.raw`18 - 6 \\sqrt{6}`,],\n",
      "  [3,2,4,2,3,4,String.raw`18 - 12 \\sqrt{3}`,],\n",
      "  [3,2,4,2,4,3,String.raw`18 - 18 \\sqrt{2}`,],\n",
      "  [3,2,4,2,4,4,String.raw`-18`,],\n",
      "  [3,2,4,3,2,2,String.raw`-6 + 18 \\sqrt{2}`,],\n",
      "  [3,2,4,3,2,3,String.raw`12 \\sqrt{2}`,],\n",
      "  [3,2,4,3,2,4,String.raw`-12 + 18 \\sqrt{2}`,],\n",
      "  [3,2,4,3,3,2,String.raw`- 6 \\sqrt{3} + 18 \\sqrt{2}`,],\n",
      "  [3,2,4,3,3,3,String.raw`- 6 \\sqrt{6} + 18 \\sqrt{2}`,],\n",
      "  [3,2,4,3,3,4,String.raw`- 12 \\sqrt{3} + 18 \\sqrt{2}`,],\n",
      "  [3,2,4,3,4,2,String.raw`-18 + 18 \\sqrt{2}`,],\n",
      "  [3,2,4,3,4,4,String.raw`-36 + 18 \\sqrt{2}`,],\n",
      "  [3,2,4,4,2,2,String.raw`30`,],\n",
      "  [3,2,4,4,2,3,String.raw`36 - 6 \\sqrt{2}`,],\n",
      "  [3,2,4,4,2,4,String.raw`24`,],\n",
      "  [3,2,4,4,3,2,String.raw`36 - 6 \\sqrt{3}`,],\n",
      "  [3,2,4,4,3,3,String.raw`36 - 6 \\sqrt{6}`,],\n",
      "  [3,2,4,4,3,4,String.raw`36 - 12 \\sqrt{3}`,],\n",
      "  [3,2,4,4,4,2,String.raw`18`,],\n",
      "  [3,2,4,4,4,3,String.raw`36 - 18 \\sqrt{2}`,],\n",
      "  [3,3,2,2,2,3,String.raw`9 - 9 \\sqrt{3}`,],\n",
      "  [3,3,2,2,2,4,String.raw`-18`,],\n",
      "  [3,3,2,2,3,2,String.raw`9 - 9 \\sqrt{3}`,],\n",
      "  [3,3,2,2,3,3,String.raw`-18`,],\n",
      "  [3,3,2,2,3,4,String.raw`9 - 27 \\sqrt{3}`,],\n",
      "  [3,3,2,2,4,2,String.raw`-18`,],\n",
      "  [3,3,2,2,4,3,String.raw`9 - 27 \\sqrt{3}`,],\n",
      "  [3,3,2,2,4,4,String.raw`-72`,],\n",
      "  [3,3,2,3,2,2,String.raw`-9 + 9 \\sqrt{3}`,],\n",
      "  [3,3,2,3,2,4,String.raw`-27 + 9 \\sqrt{3}`,],\n",
      "  [3,3,2,3,3,3,String.raw`-27 + 9 \\sqrt{3}`,],\n",
      "  [3,3,2,3,3,4,String.raw`- 18 \\sqrt{3}`,],\n",
      "  [3,3,2,3,4,2,String.raw`-27 + 9 \\sqrt{3}`,],\n",
      "  [3,3,2,3,4,3,String.raw`- 18 \\sqrt{3}`,],\n",
      "  [3,3,2,3,4,4,String.raw`-81 + 9 \\sqrt{3}`,],\n",
      "  [3,3,2,4,2,2,String.raw`18`,],\n",
      "  [3,3,2,4,2,3,String.raw`27 - 9 \\sqrt{3}`,],\n",
      "  [3,3,2,4,3,2,String.raw`27 - 9 \\sqrt{3}`,],\n",
      "  [3,3,2,4,3,4,String.raw`27 - 27 \\sqrt{3}`,],\n",
      "  [3,3,2,4,4,3,String.raw`27 - 27 \\sqrt{3}`,],\n",
      "  [3,3,2,4,4,4,String.raw`-54`,],\n",
      "  [3,3,3,2,2,2,String.raw`-9 + 9 \\sqrt{3}`,],\n",
      "  [3,3,3,2,2,4,String.raw`-27 + 9 \\sqrt{3}`,],\n",
      "  [3,3,3,2,3,3,String.raw`-27 + 9 \\sqrt{3}`,],\n",
      "  [3,3,3,2,3,4,String.raw`- 18 \\sqrt{3}`,],\n",
      "  [3,3,3,2,4,2,String.raw`-27 + 9 \\sqrt{3}`,],\n",
      "  [3,3,3,2,4,3,String.raw`- 18 \\sqrt{3}`,],\n",
      "  [3,3,3,2,4,4,String.raw`-81 + 9 \\sqrt{3}`,],\n",
      "  [3,3,3,3,2,2,String.raw`18`,],\n",
      "  [3,3,3,3,2,3,String.raw`27 - 9 \\sqrt{3}`,],\n",
      "  [3,3,3,3,3,2,String.raw`27 - 9 \\sqrt{3}`,],\n",
      "  [3,3,3,3,3,4,String.raw`27 - 27 \\sqrt{3}`,],\n",
      "  [3,3,3,3,4,3,String.raw`27 - 27 \\sqrt{3}`,],\n",
      "  [3,3,3,3,4,4,String.raw`-54`,],\n",
      "  [3,3,3,4,2,2,String.raw`-9 + 27 \\sqrt{3}`,],\n",
      "  [3,3,3,4,2,3,String.raw`18 \\sqrt{3}`,],\n",
      "  [3,3,3,4,2,4,String.raw`-27 + 27 \\sqrt{3}`,],\n",
      "  [3,3,3,4,3,2,String.raw`18 \\sqrt{3}`,],\n",
      "  [3,3,3,4,3,3,String.raw`-27 + 27 \\sqrt{3}`,],\n",
      "  [3,3,3,4,4,2,String.raw`-27 + 27 \\sqrt{3}`,],\n",
      "  [3,3,3,4,4,4,String.raw`-81 + 27 \\sqrt{3}`,],\n",
      "  [3,3,4,2,2,2,String.raw`18`,],\n",
      "  [3,3,4,2,2,3,String.raw`27 - 9 \\sqrt{3}`,],\n",
      "  [3,3,4,2,3,2,String.raw`27 - 9 \\sqrt{3}`,],\n",
      "  [3,3,4,2,3,4,String.raw`27 - 27 \\sqrt{3}`,],\n",
      "  [3,3,4,2,4,3,String.raw`27 - 27 \\sqrt{3}`,],\n",
      "  [3,3,4,2,4,4,String.raw`-54`,],\n",
      "  [3,3,4,3,2,2,String.raw`-9 + 27 \\sqrt{3}`,],\n",
      "  [3,3,4,3,2,3,String.raw`18 \\sqrt{3}`,],\n",
      "  [3,3,4,3,2,4,String.raw`-27 + 27 \\sqrt{3}`,],\n",
      "  [3,3,4,3,3,2,String.raw`18 \\sqrt{3}`,],\n",
      "  [3,3,4,3,3,3,String.raw`-27 + 27 \\sqrt{3}`,],\n",
      "  [3,3,4,3,4,2,String.raw`-27 + 27 \\sqrt{3}`,],\n",
      "  [3,3,4,3,4,4,String.raw`-81 + 27 \\sqrt{3}`,],\n",
      "  [3,3,4,4,2,2,String.raw`72`,],\n",
      "  [3,3,4,4,2,3,String.raw`81 - 9 \\sqrt{3}`,],\n",
      "  [3,3,4,4,2,4,String.raw`54`,],\n",
      "  [3,3,4,4,3,2,String.raw`81 - 9 \\sqrt{3}`,],\n",
      "  [3,3,4,4,3,3,String.raw`54`,],\n",
      "  [3,3,4,4,3,4,String.raw`81 - 27 \\sqrt{3}`,],\n",
      "  [3,3,4,4,4,2,String.raw`54`,],\n",
      "  [3,3,4,4,4,3,String.raw`81 - 27 \\sqrt{3}`,],\n",
      "  [3,4,2,2,2,3,String.raw`-12`,],\n",
      "  [3,4,2,2,2,4,String.raw`-36`,],\n",
      "  [3,4,2,2,3,2,String.raw`12 - 12 \\sqrt{3}`,],\n",
      "  [3,4,2,2,3,3,String.raw`12 - 24 \\sqrt{3}`,],\n",
      "  [3,4,2,2,3,4,String.raw`12 - 48 \\sqrt{3}`,],\n",
      "  [3,4,2,2,4,2,String.raw`-24`,],\n",
      "  [3,4,2,2,4,3,String.raw`-60`,],\n",
      "  [3,4,2,2,4,4,String.raw`-132`,],\n",
      "  [3,4,2,3,2,2,String.raw`12`,],\n",
      "  [3,4,2,3,2,4,String.raw`-24`,],\n",
      "  [3,4,2,3,3,2,String.raw`24 - 12 \\sqrt{3}`,],\n",
      "  [3,4,2,3,3,3,String.raw`24 - 24 \\sqrt{3}`,],\n",
      "  [3,4,2,3,3,4,String.raw`24 - 48 \\sqrt{3}`,],\n",
      "  [3,4,2,3,4,2,String.raw`-12`,],\n",
      "  [3,4,2,3,4,3,String.raw`-48`,],\n",
      "  [3,4,2,3,4,4,String.raw`-120`,],\n",
      "  [3,4,2,4,2,2,String.raw`36`,],\n",
      "  [3,4,2,4,2,3,String.raw`24`,],\n",
      "  [3,4,2,4,3,2,String.raw`48 - 12 \\sqrt{3}`,],\n",
      "  [3,4,2,4,3,3,String.raw`48 - 24 \\sqrt{3}`,],\n",
      "  [3,4,2,4,3,4,String.raw`48 - 48 \\sqrt{3}`,],\n",
      "  [3,4,2,4,4,2,String.raw`12`,],\n",
      "  [3,4,2,4,4,3,String.raw`-24`,],\n",
      "  [3,4,2,4,4,4,String.raw`-96`,],\n",
      "  [3,4,3,2,2,2,String.raw`-12 + 12 \\sqrt{3}`,],\n",
      "  [3,4,3,2,2,3,String.raw`-24 + 12 \\sqrt{3}`,],\n",
      "  [3,4,3,2,2,4,String.raw`-48 + 12 \\sqrt{3}`,],\n",
      "  [3,4,3,2,3,3,String.raw`- 12 \\sqrt{3}`,],\n",
      "  [3,4,3,2,3,4,String.raw`- 36 \\sqrt{3}`,],\n",
      "  [3,4,3,2,4,2,String.raw`-36 + 12 \\sqrt{3}`,],\n",
      "  [3,4,3,2,4,3,String.raw`-72 + 12 \\sqrt{3}`,],\n",
      "  [3,4,3,2,4,4,String.raw`-144 + 12 \\sqrt{3}`,],\n",
      "  [3,4,3,3,2,2,String.raw`-12 + 24 \\sqrt{3}`,],\n",
      "  [3,4,3,3,2,3,String.raw`-24 + 24 \\sqrt{3}`,],\n",
      "  [3,4,3,3,2,4,String.raw`-48 + 24 \\sqrt{3}`,],\n",
      "  [3,4,3,3,3,2,String.raw`12 \\sqrt{3}`,],\n",
      "  [3,4,3,3,3,4,String.raw`- 24 \\sqrt{3}`,],\n",
      "  [3,4,3,3,4,2,String.raw`-36 + 24 \\sqrt{3}`,],\n",
      "  [3,4,3,3,4,3,String.raw`-72 + 24 \\sqrt{3}`,],\n",
      "  [3,4,3,3,4,4,String.raw`-144 + 24 \\sqrt{3}`,],\n",
      "  [3,4,3,4,2,2,String.raw`-12 + 48 \\sqrt{3}`,],\n",
      "  [3,4,3,4,2,3,String.raw`-24 + 48 \\sqrt{3}`,],\n",
      "  [3,4,3,4,2,4,String.raw`-48 + 48 \\sqrt{3}`,],\n",
      "  [3,4,3,4,3,2,String.raw`36 \\sqrt{3}`,],\n",
      "  [3,4,3,4,3,3,String.raw`24 \\sqrt{3}`,],\n",
      "  [3,4,3,4,4,2,String.raw`-36 + 48 \\sqrt{3}`,],\n",
      "  [3,4,3,4,4,3,String.raw`-72 + 48 \\sqrt{3}`,],\n",
      "  [3,4,3,4,4,4,String.raw`-144 + 48 \\sqrt{3}`,],\n",
      "  [3,4,4,2,2,2,String.raw`24`,],\n",
      "  [3,4,4,2,2,3,String.raw`12`,],\n",
      "  [3,4,4,2,2,4,String.raw`-12`,],\n",
      "  [3,4,4,2,3,2,String.raw`36 - 12 \\sqrt{3}`,],\n",
      "  [3,4,4,2,3,3,String.raw`36 - 24 \\sqrt{3}`,],\n",
      "  [3,4,4,2,3,4,String.raw`36 - 48 \\sqrt{3}`,],\n",
      "  [3,4,4,2,4,3,String.raw`-36`,],\n",
      "  [3,4,4,2,4,4,String.raw`-108`,],\n",
      "  [3,4,4,3,2,2,String.raw`60`,],\n",
      "  [3,4,4,3,2,3,String.raw`48`,],\n",
      "  [3,4,4,3,2,4,String.raw`24`,],\n",
      "  [3,4,4,3,3,2,String.raw`72 - 12 \\sqrt{3}`,],\n",
      "  [3,4,4,3,3,3,String.raw`72 - 24 \\sqrt{3}`,],\n",
      "  [3,4,4,3,3,4,String.raw`72 - 48 \\sqrt{3}`,],\n",
      "  [3,4,4,3,4,2,String.raw`36`,],\n",
      "  [3,4,4,3,4,4,String.raw`-72`,],\n",
      "  [3,4,4,4,2,2,String.raw`132`,],\n",
      "  [3,4,4,4,2,3,String.raw`120`,],\n",
      "  [3,4,4,4,2,4,String.raw`96`,],\n",
      "  [3,4,4,4,3,2,String.raw`144 - 12 \\sqrt{3}`,],\n",
      "  [3,4,4,4,3,3,String.raw`144 - 24 \\sqrt{3}`,],\n",
      "  [3,4,4,4,3,4,String.raw`144 - 48 \\sqrt{3}`,],\n",
      "  [3,4,4,4,4,2,String.raw`108`,],\n",
      "  [3,4,4,4,4,3,String.raw`72`,],\n",
      "  [3,5,2,2,2,3,String.raw`15 - 15 \\sqrt{5}`,],\n",
      "  [3,5,2,2,2,4,String.raw`-60`,],\n",
      "  [3,5,2,2,3,2,String.raw`15 - 15 \\sqrt{3}`,],\n",
      "  [3,5,2,2,3,3,String.raw`15 - 15 \\sqrt{15}`,],\n",
      "  [3,5,2,2,3,4,String.raw`15 - 75 \\sqrt{3}`,],\n",
      "  [3,5,2,2,4,2,String.raw`-30`,],\n",
      "  [3,5,2,2,4,3,String.raw`15 - 45 \\sqrt{5}`,],\n",
      "  [3,5,2,2,4,4,String.raw`-210`,],\n",
      "  [3,5,2,3,2,2,String.raw`-15 + 15 \\sqrt{5}`,],\n",
      "  [3,5,2,3,2,4,String.raw`-75 + 15 \\sqrt{5}`,],\n",
      "  [3,5,2,3,3,2,String.raw`- 15 \\sqrt{3} + 15 \\sqrt{5}`,],\n",
      "  [3,5,2,3,3,3,String.raw`- 15 \\sqrt{15} + 15 \\sqrt{5}`,],\n",
      "  [3,5,2,3,3,4,String.raw`- 75 \\sqrt{3} + 15 \\sqrt{5}`,],\n",
      "  [3,5,2,3,4,2,String.raw`-45 + 15 \\sqrt{5}`,],\n",
      "  [3,5,2,3,4,3,String.raw`- 30 \\sqrt{5}`,],\n",
      "  [3,5,2,3,4,4,String.raw`-225 + 15 \\sqrt{5}`,],\n",
      "  [3,5,2,4,2,2,String.raw`60`,],\n",
      "  [3,5,2,4,2,3,String.raw`75 - 15 \\sqrt{5}`,],\n",
      "  [3,5,2,4,3,2,String.raw`75 - 15 \\sqrt{3}`,],\n",
      "  [3,5,2,4,3,3,String.raw`75 - 15 \\sqrt{15}`,],\n",
      "  [3,5,2,4,3,4,String.raw`75 - 75 \\sqrt{3}`,],\n",
      "  [3,5,2,4,4,2,String.raw`30`,],\n",
      "  [3,5,2,4,4,3,String.raw`75 - 45 \\sqrt{5}`,],\n",
      "  [3,5,2,4,4,4,String.raw`-150`,],\n",
      "  [3,5,3,2,2,2,String.raw`-15 + 15 \\sqrt{3}`,],\n",
      "  [3,5,3,2,2,3,String.raw`- 15 \\sqrt{5} + 15 \\sqrt{3}`,],\n",
      "  [3,5,3,2,2,4,String.raw`-75 + 15 \\sqrt{3}`,],\n",
      "  [3,5,3,2,3,3,String.raw`- 15 \\sqrt{15} + 15 \\sqrt{3}`,],\n",
      "  [3,5,3,2,3,4,String.raw`- 60 \\sqrt{3}`,],\n",
      "  [3,5,3,2,4,2,String.raw`-45 + 15 \\sqrt{3}`,],\n",
      "  [3,5,3,2,4,3,String.raw`- 45 \\sqrt{5} + 15 \\sqrt{3}`,],\n",
      "  [3,5,3,2,4,4,String.raw`-225 + 15 \\sqrt{3}`,],\n",
      "  [3,5,3,3,2,2,String.raw`-15 + 15 \\sqrt{15}`,],\n",
      "  [3,5,3,3,2,3,String.raw`- 15 \\sqrt{5} + 15 \\sqrt{15}`,],\n",
      "  [3,5,3,3,2,4,String.raw`-75 + 15 \\sqrt{15}`,],\n",
      "  [3,5,3,3,3,2,String.raw`- 15 \\sqrt{3} + 15 \\sqrt{15}`,],\n",
      "  [3,5,3,3,3,4,String.raw`- 75 \\sqrt{3} + 15 \\sqrt{15}`,],\n",
      "  [3,5,3,3,4,2,String.raw`-45 + 15 \\sqrt{15}`,],\n",
      "  [3,5,3,3,4,3,String.raw`- 45 \\sqrt{5} + 15 \\sqrt{15}`,],\n",
      "  [3,5,3,3,4,4,String.raw`-225 + 15 \\sqrt{15}`,],\n",
      "  [3,5,3,4,2,2,String.raw`-15 + 75 \\sqrt{3}`,],\n",
      "  [3,5,3,4,2,3,String.raw`- 15 \\sqrt{5} + 75 \\sqrt{3}`,],\n",
      "  [3,5,3,4,2,4,String.raw`-75 + 75 \\sqrt{3}`,],\n",
      "  [3,5,3,4,3,2,String.raw`60 \\sqrt{3}`,],\n",
      "  [3,5,3,4,3,3,String.raw`- 15 \\sqrt{15} + 75 \\sqrt{3}`,],\n",
      "  [3,5,3,4,4,2,String.raw`-45 + 75 \\sqrt{3}`,],\n",
      "  [3,5,3,4,4,3,String.raw`- 45 \\sqrt{5} + 75 \\sqrt{3}`,],\n",
      "  [3,5,3,4,4,4,String.raw`-225 + 75 \\sqrt{3}`,],\n",
      "  [3,5,4,2,2,2,String.raw`30`,],\n",
      "  [3,5,4,2,2,3,String.raw`45 - 15 \\sqrt{5}`,],\n",
      "  [3,5,4,2,2,4,String.raw`-30`,],\n",
      "  [3,5,4,2,3,2,String.raw`45 - 15 \\sqrt{3}`,],\n",
      "  [3,5,4,2,3,3,String.raw`45 - 15 \\sqrt{15}`,],\n",
      "  [3,5,4,2,3,4,String.raw`45 - 75 \\sqrt{3}`,],\n",
      "  [3,5,4,2,4,3,String.raw`45 - 45 \\sqrt{5}`,],\n",
      "  [3,5,4,2,4,4,String.raw`-180`,],\n",
      "  [3,5,4,3,2,2,String.raw`-15 + 45 \\sqrt{5}`,],\n",
      "  [3,5,4,3,2,3,String.raw`30 \\sqrt{5}`,],\n",
      "  [3,5,4,3,2,4,String.raw`-75 + 45 \\sqrt{5}`,],\n",
      "  [3,5,4,3,3,2,String.raw`- 15 \\sqrt{3} + 45 \\sqrt{5}`,],\n",
      "  [3,5,4,3,3,3,String.raw`- 15 \\sqrt{15} + 45 \\sqrt{5}`,],\n",
      "  [3,5,4,3,3,4,String.raw`- 75 \\sqrt{3} + 45 \\sqrt{5}`,],\n",
      "  [3,5,4,3,4,2,String.raw`-45 + 45 \\sqrt{5}`,],\n",
      "  [3,5,4,3,4,4,String.raw`-225 + 45 \\sqrt{5}`,],\n",
      "  [3,5,4,4,2,2,String.raw`210`,],\n",
      "  [3,5,4,4,2,3,String.raw`225 - 15 \\sqrt{5}`,],\n",
      "  [3,5,4,4,2,4,String.raw`150`,],\n",
      "  [3,5,4,4,3,2,String.raw`225 - 15 \\sqrt{3}`,],\n",
      "  [3,5,4,4,3,3,String.raw`225 - 15 \\sqrt{15}`,],\n",
      "  [3,5,4,4,3,4,String.raw`225 - 75 \\sqrt{3}`,],\n",
      "  [3,5,4,4,4,2,String.raw`180`,],\n",
      "  [3,5,4,4,4,3,String.raw`225 - 45 \\sqrt{5}`,],\n",
      "  [4,2,2,2,2,3,String.raw`8 - 8 \\sqrt{2}`,],\n",
      "  [4,2,2,2,2,4,String.raw`-8`,],\n",
      "  [4,2,2,2,3,2,String.raw`-8`,],\n",
      "  [4,2,2,2,3,3,String.raw`8 - 16 \\sqrt{2}`,],\n",
      "  [4,2,2,2,3,4,String.raw`-24`,],\n",
      "  [4,2,2,2,4,2,String.raw`-24`,],\n",
      "  [4,2,2,2,4,3,String.raw`8 - 32 \\sqrt{2}`,],\n",
      "  [4,2,2,2,4,4,String.raw`-56`,],\n",
      "  [4,2,2,3,2,2,String.raw`-8 + 8 \\sqrt{2}`,],\n",
      "  [4,2,2,3,2,4,String.raw`-16 + 8 \\sqrt{2}`,],\n",
      "  [4,2,2,3,3,2,String.raw`-16 + 8 \\sqrt{2}`,],\n",
      "  [4,2,2,3,3,3,String.raw`- 8 \\sqrt{2}`,],\n",
      "  [4,2,2,3,3,4,String.raw`-32 + 8 \\sqrt{2}`,],\n",
      "  [4,2,2,3,4,2,String.raw`-32 + 8 \\sqrt{2}`,],\n",
      "  [4,2,2,3,4,3,String.raw`- 24 \\sqrt{2}`,],\n",
      "  [4,2,2,3,4,4,String.raw`-64 + 8 \\sqrt{2}`,],\n",
      "  [4,2,2,4,2,2,String.raw`8`,],\n",
      "  [4,2,2,4,2,3,String.raw`16 - 8 \\sqrt{2}`,],\n",
      "  [4,2,2,4,3,3,String.raw`16 - 16 \\sqrt{2}`,],\n",
      "  [4,2,2,4,3,4,String.raw`-16`,],\n",
      "  [4,2,2,4,4,2,String.raw`-16`,],\n",
      "  [4,2,2,4,4,3,String.raw`16 - 32 \\sqrt{2}`,],\n",
      "  [4,2,2,4,4,4,String.raw`-48`,],\n",
      "  [4,2,3,2,2,2,String.raw`8`,],\n",
      "  [4,2,3,2,2,3,String.raw`16 - 8 \\sqrt{2}`,],\n",
      "  [4,2,3,2,3,3,String.raw`16 - 16 \\sqrt{2}`,],\n",
      "  [4,2,3,2,3,4,String.raw`-16`,],\n",
      "  [4,2,3,2,4,2,String.raw`-16`,],\n",
      "  [4,2,3,2,4,3,String.raw`16 - 32 \\sqrt{2}`,],\n",
      "  [4,2,3,2,4,4,String.raw`-48`,],\n",
      "  [4,2,3,3,2,2,String.raw`-8 + 16 \\sqrt{2}`,],\n",
      "  [4,2,3,3,2,3,String.raw`8 \\sqrt{2}`,],\n",
      "  [4,2,3,3,2,4,String.raw`-16 + 16 \\sqrt{2}`,],\n",
      "  [4,2,3,3,3,2,String.raw`-16 + 16 \\sqrt{2}`,],\n",
      "  [4,2,3,3,3,4,String.raw`-32 + 16 \\sqrt{2}`,],\n",
      "  [4,2,3,3,4,2,String.raw`-32 + 16 \\sqrt{2}`,],\n",
      "  [4,2,3,3,4,3,String.raw`- 16 \\sqrt{2}`,],\n",
      "  [4,2,3,3,4,4,String.raw`-64 + 16 \\sqrt{2}`,],\n",
      "  [4,2,3,4,2,2,String.raw`24`,],\n",
      "  [4,2,3,4,2,3,String.raw`32 - 8 \\sqrt{2}`,],\n",
      "  [4,2,3,4,2,4,String.raw`16`,],\n",
      "  [4,2,3,4,3,2,String.raw`16`,],\n",
      "  [4,2,3,4,3,3,String.raw`32 - 16 \\sqrt{2}`,],\n",
      "  [4,2,3,4,4,3,String.raw`32 - 32 \\sqrt{2}`,],\n",
      "  [4,2,3,4,4,4,String.raw`-32`,],\n",
      "  [4,2,4,2,2,2,String.raw`24`,],\n",
      "  [4,2,4,2,2,3,String.raw`32 - 8 \\sqrt{2}`,],\n",
      "  [4,2,4,2,2,4,String.raw`16`,],\n",
      "  [4,2,4,2,3,2,String.raw`16`,],\n",
      "  [4,2,4,2,3,3,String.raw`32 - 16 \\sqrt{2}`,],\n",
      "  [4,2,4,2,4,3,String.raw`32 - 32 \\sqrt{2}`,],\n",
      "  [4,2,4,2,4,4,String.raw`-32`,],\n",
      "  [4,2,4,3,2,2,String.raw`-8 + 32 \\sqrt{2}`,],\n",
      "  [4,2,4,3,2,3,String.raw`24 \\sqrt{2}`,],\n",
      "  [4,2,4,3,2,4,String.raw`-16 + 32 \\sqrt{2}`,],\n",
      "  [4,2,4,3,3,2,String.raw`-16 + 32 \\sqrt{2}`,],\n",
      "  [4,2,4,3,3,3,String.raw`16 \\sqrt{2}`,],\n",
      "  [4,2,4,3,3,4,String.raw`-32 + 32 \\sqrt{2}`,],\n",
      "  [4,2,4,3,4,2,String.raw`-32 + 32 \\sqrt{2}`,],\n",
      "  [4,2,4,3,4,4,String.raw`-64 + 32 \\sqrt{2}`,],\n",
      "  [4,2,4,4,2,2,String.raw`56`,],\n",
      "  [4,2,4,4,2,3,String.raw`64 - 8 \\sqrt{2}`,],\n",
      "  [4,2,4,4,2,4,String.raw`48`,],\n",
      "  [4,2,4,4,3,2,String.raw`48`,],\n",
      "  [4,2,4,4,3,3,String.raw`64 - 16 \\sqrt{2}`,],\n",
      "  [4,2,4,4,3,4,String.raw`32`,],\n",
      "  [4,2,4,4,4,2,String.raw`32`,],\n",
      "  [4,2,4,4,4,3,String.raw`64 - 32 \\sqrt{2}`,],\n",
      "  [4,3,2,2,2,3,String.raw`12 - 12 \\sqrt{3}`,],\n",
      "  [4,3,2,2,2,4,String.raw`-24`,],\n",
      "  [4,3,2,2,3,2,String.raw`-12`,],\n",
      "  [4,3,2,2,3,3,String.raw`12 - 24 \\sqrt{3}`,],\n",
      "  [4,3,2,2,3,4,String.raw`-60`,],\n",
      "  [4,3,2,2,4,2,String.raw`-36`,],\n",
      "  [4,3,2,2,4,3,String.raw`12 - 48 \\sqrt{3}`,],\n",
      "  [4,3,2,2,4,4,String.raw`-132`,],\n",
      "  [4,3,2,3,2,2,String.raw`-12 + 12 \\sqrt{3}`,],\n",
      "  [4,3,2,3,2,4,String.raw`-36 + 12 \\sqrt{3}`,],\n",
      "  [4,3,2,3,3,2,String.raw`-24 + 12 \\sqrt{3}`,],\n",
      "  [4,3,2,3,3,3,String.raw`- 12 \\sqrt{3}`,],\n",
      "  [4,3,2,3,3,4,String.raw`-72 + 12 \\sqrt{3}`,],\n",
      "  [4,3,2,3,4,2,String.raw`-48 + 12 \\sqrt{3}`,],\n",
      "  [4,3,2,3,4,3,String.raw`- 36 \\sqrt{3}`,],\n",
      "  [4,3,2,3,4,4,String.raw`-144 + 12 \\sqrt{3}`,],\n",
      "  [4,3,2,4,2,2,String.raw`24`,],\n",
      "  [4,3,2,4,2,3,String.raw`36 - 12 \\sqrt{3}`,],\n",
      "  [4,3,2,4,3,2,String.raw`12`,],\n",
      "  [4,3,2,4,3,3,String.raw`36 - 24 \\sqrt{3}`,],\n",
      "  [4,3,2,4,3,4,String.raw`-36`,],\n",
      "  [4,3,2,4,4,2,String.raw`-12`,],\n",
      "  [4,3,2,4,4,3,String.raw`36 - 48 \\sqrt{3}`,],\n",
      "  [4,3,2,4,4,4,String.raw`-108`,],\n",
      "  [4,3,3,2,2,2,String.raw`12`,],\n",
      "  [4,3,3,2,2,3,String.raw`24 - 12 \\sqrt{3}`,],\n",
      "  [4,3,3,2,2,4,String.raw`-12`,],\n",
      "  [4,3,3,2,3,3,String.raw`24 - 24 \\sqrt{3}`,],\n",
      "  [4,3,3,2,3,4,String.raw`-48`,],\n",
      "  [4,3,3,2,4,2,String.raw`-24`,],\n",
      "  [4,3,3,2,4,3,String.raw`24 - 48 \\sqrt{3}`,],\n",
      "  [4,3,3,2,4,4,String.raw`-120`,],\n",
      "  [4,3,3,3,2,2,String.raw`-12 + 24 \\sqrt{3}`,],\n",
      "  [4,3,3,3,2,3,String.raw`12 \\sqrt{3}`,],\n",
      "  [4,3,3,3,2,4,String.raw`-36 + 24 \\sqrt{3}`,],\n",
      "  [4,3,3,3,3,2,String.raw`-24 + 24 \\sqrt{3}`,],\n",
      "  [4,3,3,3,3,4,String.raw`-72 + 24 \\sqrt{3}`,],\n",
      "  [4,3,3,3,4,2,String.raw`-48 + 24 \\sqrt{3}`,],\n",
      "  [4,3,3,3,4,3,String.raw`- 24 \\sqrt{3}`,],\n",
      "  [4,3,3,3,4,4,String.raw`-144 + 24 \\sqrt{3}`,],\n",
      "  [4,3,3,4,2,2,String.raw`60`,],\n",
      "  [4,3,3,4,2,3,String.raw`72 - 12 \\sqrt{3}`,],\n",
      "  [4,3,3,4,2,4,String.raw`36`,],\n",
      "  [4,3,3,4,3,2,String.raw`48`,],\n",
      "  [4,3,3,4,3,3,String.raw`72 - 24 \\sqrt{3}`,],\n",
      "  [4,3,3,4,4,2,String.raw`24`,],\n",
      "  [4,3,3,4,4,3,String.raw`72 - 48 \\sqrt{3}`,],\n",
      "  [4,3,3,4,4,4,String.raw`-72`,],\n",
      "  [4,3,4,2,2,2,String.raw`36`,],\n",
      "  [4,3,4,2,2,3,String.raw`48 - 12 \\sqrt{3}`,],\n",
      "  [4,3,4,2,2,4,String.raw`12`,],\n",
      "  [4,3,4,2,3,2,String.raw`24`,],\n",
      "  [4,3,4,2,3,3,String.raw`48 - 24 \\sqrt{3}`,],\n",
      "  [4,3,4,2,3,4,String.raw`-24`,],\n",
      "  [4,3,4,2,4,3,String.raw`48 - 48 \\sqrt{3}`,],\n",
      "  [4,3,4,2,4,4,String.raw`-96`,],\n",
      "  [4,3,4,3,2,2,String.raw`-12 + 48 \\sqrt{3}`,],\n",
      "  [4,3,4,3,2,3,String.raw`36 \\sqrt{3}`,],\n",
      "  [4,3,4,3,2,4,String.raw`-36 + 48 \\sqrt{3}`,],\n",
      "  [4,3,4,3,3,2,String.raw`-24 + 48 \\sqrt{3}`,],\n",
      "  [4,3,4,3,3,3,String.raw`24 \\sqrt{3}`,],\n",
      "  [4,3,4,3,3,4,String.raw`-72 + 48 \\sqrt{3}`,],\n",
      "  [4,3,4,3,4,2,String.raw`-48 + 48 \\sqrt{3}`,],\n",
      "  [4,3,4,3,4,4,String.raw`-144 + 48 \\sqrt{3}`,],\n",
      "  [4,3,4,4,2,2,String.raw`132`,],\n",
      "  [4,3,4,4,2,3,String.raw`144 - 12 \\sqrt{3}`,],\n",
      "  [4,3,4,4,2,4,String.raw`108`,],\n",
      "  [4,3,4,4,3,2,String.raw`120`,],\n",
      "  [4,3,4,4,3,3,String.raw`144 - 24 \\sqrt{3}`,],\n",
      "  [4,3,4,4,3,4,String.raw`72`,],\n",
      "  [4,3,4,4,4,2,String.raw`96`,],\n",
      "  [4,3,4,4,4,3,String.raw`144 - 48 \\sqrt{3}`,],\n",
      "  [4,4,2,2,2,3,String.raw`-16`,],\n",
      "  [4,4,2,2,2,4,String.raw`-48`,],\n",
      "  [4,4,2,2,3,2,String.raw`-16`,],\n",
      "  [4,4,2,2,3,3,String.raw`-48`,],\n",
      "  [4,4,2,2,3,4,String.raw`-112`,],\n",
      "  [4,4,2,2,4,2,String.raw`-48`,],\n",
      "  [4,4,2,2,4,3,String.raw`-112`,],\n",
      "  [4,4,2,2,4,4,String.raw`-240`,],\n",
      "  [4,4,2,3,2,2,String.raw`16`,],\n",
      "  [4,4,2,3,2,4,String.raw`-32`,],\n",
      "  [4,4,2,3,3,3,String.raw`-32`,],\n",
      "  [4,4,2,3,3,4,String.raw`-96`,],\n",
      "  [4,4,2,3,4,2,String.raw`-32`,],\n",
      "  [4,4,2,3,4,3,String.raw`-96`,],\n",
      "  [4,4,2,3,4,4,String.raw`-224`,],\n",
      "  [4,4,2,4,2,2,String.raw`48`,],\n",
      "  [4,4,2,4,2,3,String.raw`32`,],\n",
      "  [4,4,2,4,3,2,String.raw`32`,],\n",
      "  [4,4,2,4,3,4,String.raw`-64`,],\n",
      "  [4,4,2,4,4,3,String.raw`-64`,],\n",
      "  [4,4,2,4,4,4,String.raw`-192`,],\n",
      "  [4,4,3,2,2,2,String.raw`16`,],\n",
      "  [4,4,3,2,2,4,String.raw`-32`,],\n",
      "  [4,4,3,2,3,3,String.raw`-32`,],\n",
      "  [4,4,3,2,3,4,String.raw`-96`,],\n",
      "  [4,4,3,2,4,2,String.raw`-32`,],\n",
      "  [4,4,3,2,4,3,String.raw`-96`,],\n",
      "  [4,4,3,2,4,4,String.raw`-224`,],\n",
      "  [4,4,3,3,2,2,String.raw`48`,],\n",
      "  [4,4,3,3,2,3,String.raw`32`,],\n",
      "  [4,4,3,3,3,2,String.raw`32`,],\n",
      "  [4,4,3,3,3,4,String.raw`-64`,],\n",
      "  [4,4,3,3,4,3,String.raw`-64`,],\n",
      "  [4,4,3,3,4,4,String.raw`-192`,],\n",
      "  [4,4,3,4,2,2,String.raw`112`,],\n",
      "  [4,4,3,4,2,3,String.raw`96`,],\n",
      "  [4,4,3,4,2,4,String.raw`64`,],\n",
      "  [4,4,3,4,3,2,String.raw`96`,],\n",
      "  [4,4,3,4,3,3,String.raw`64`,],\n",
      "  [4,4,3,4,4,2,String.raw`64`,],\n",
      "  [4,4,3,4,4,4,String.raw`-128`,],\n",
      "  [4,4,4,2,2,2,String.raw`48`,],\n",
      "  [4,4,4,2,2,3,String.raw`32`,],\n",
      "  [4,4,4,2,3,2,String.raw`32`,],\n",
      "  [4,4,4,2,3,4,String.raw`-64`,],\n",
      "  [4,4,4,2,4,3,String.raw`-64`,],\n",
      "  [4,4,4,2,4,4,String.raw`-192`,],\n",
      "  [4,4,4,3,2,2,String.raw`112`,],\n",
      "  [4,4,4,3,2,3,String.raw`96`,],\n",
      "  [4,4,4,3,2,4,String.raw`64`,],\n",
      "  [4,4,4,3,3,2,String.raw`96`,],\n",
      "  [4,4,4,3,3,3,String.raw`64`,],\n",
      "  [4,4,4,3,4,2,String.raw`64`,],\n",
      "  [4,4,4,3,4,4,String.raw`-128`,],\n",
      "  [4,4,4,4,2,2,String.raw`240`,],\n",
      "  [4,4,4,4,2,3,String.raw`224`,],\n",
      "  [4,4,4,4,2,4,String.raw`192`,],\n",
      "  [4,4,4,4,3,2,String.raw`224`,],\n",
      "  [4,4,4,4,3,3,String.raw`192`,],\n",
      "  [4,4,4,4,3,4,String.raw`128`,],\n",
      "  [4,4,4,4,4,2,String.raw`192`,],\n",
      "  [4,4,4,4,4,3,String.raw`128`,],\n",
      "  [4,5,2,2,2,3,String.raw`20 - 20 \\sqrt{5}`,],\n",
      "  [4,5,2,2,2,4,String.raw`-80`,],\n",
      "  [4,5,2,2,3,2,String.raw`-20`,],\n",
      "  [4,5,2,2,3,3,String.raw`20 - 40 \\sqrt{5}`,],\n",
      "  [4,5,2,2,3,4,String.raw`-180`,],\n",
      "  [4,5,2,2,4,2,String.raw`-60`,],\n",
      "  [4,5,2,2,4,3,String.raw`20 - 80 \\sqrt{5}`,],\n",
      "  [4,5,2,2,4,4,String.raw`-380`,],\n",
      "  [4,5,2,3,2,2,String.raw`-20 + 20 \\sqrt{5}`,],\n",
      "  [4,5,2,3,2,4,String.raw`-100 + 20 \\sqrt{5}`,],\n",
      "  [4,5,2,3,3,2,String.raw`-40 + 20 \\sqrt{5}`,],\n",
      "  [4,5,2,3,3,3,String.raw`- 20 \\sqrt{5}`,],\n",
      "  [4,5,2,3,3,4,String.raw`-200 + 20 \\sqrt{5}`,],\n",
      "  [4,5,2,3,4,2,String.raw`-80 + 20 \\sqrt{5}`,],\n",
      "  [4,5,2,3,4,3,String.raw`- 60 \\sqrt{5}`,],\n",
      "  [4,5,2,3,4,4,String.raw`-400 + 20 \\sqrt{5}`,],\n",
      "  [4,5,2,4,2,2,String.raw`80`,],\n",
      "  [4,5,2,4,2,3,String.raw`100 - 20 \\sqrt{5}`,],\n",
      "  [4,5,2,4,3,2,String.raw`60`,],\n",
      "  [4,5,2,4,3,3,String.raw`100 - 40 \\sqrt{5}`,],\n",
      "  [4,5,2,4,3,4,String.raw`-100`,],\n",
      "  [4,5,2,4,4,2,String.raw`20`,],\n",
      "  [4,5,2,4,4,3,String.raw`100 - 80 \\sqrt{5}`,],\n",
      "  [4,5,2,4,4,4,String.raw`-300`,],\n",
      "  [4,5,3,2,2,2,String.raw`20`,],\n",
      "  [4,5,3,2,2,3,String.raw`40 - 20 \\sqrt{5}`,],\n",
      "  [4,5,3,2,2,4,String.raw`-60`,],\n",
      "  [4,5,3,2,3,3,String.raw`40 - 40 \\sqrt{5}`,],\n",
      "  [4,5,3,2,3,4,String.raw`-160`,],\n",
      "  [4,5,3,2,4,2,String.raw`-40`,],\n",
      "  [4,5,3,2,4,3,String.raw`40 - 80 \\sqrt{5}`,],\n",
      "  [4,5,3,2,4,4,String.raw`-360`,],\n",
      "  [4,5,3,3,2,2,String.raw`-20 + 40 \\sqrt{5}`,],\n",
      "  [4,5,3,3,2,3,String.raw`20 \\sqrt{5}`,],\n",
      "  [4,5,3,3,2,4,String.raw`-100 + 40 \\sqrt{5}`,],\n",
      "  [4,5,3,3,3,2,String.raw`-40 + 40 \\sqrt{5}`,],\n",
      "  [4,5,3,3,3,4,String.raw`-200 + 40 \\sqrt{5}`,],\n",
      "  [4,5,3,3,4,2,String.raw`-80 + 40 \\sqrt{5}`,],\n",
      "  [4,5,3,3,4,3,String.raw`- 40 \\sqrt{5}`,],\n",
      "  [4,5,3,3,4,4,String.raw`-400 + 40 \\sqrt{5}`,],\n",
      "  [4,5,3,4,2,2,String.raw`180`,],\n",
      "  [4,5,3,4,2,3,String.raw`200 - 20 \\sqrt{5}`,],\n",
      "  [4,5,3,4,2,4,String.raw`100`,],\n",
      "  [4,5,3,4,3,2,String.raw`160`,],\n",
      "  [4,5,3,4,3,3,String.raw`200 - 40 \\sqrt{5}`,],\n",
      "  [4,5,3,4,4,2,String.raw`120`,],\n",
      "  [4,5,3,4,4,3,String.raw`200 - 80 \\sqrt{5}`,],\n",
      "  [4,5,3,4,4,4,String.raw`-200`,],\n",
      "  [4,5,4,2,2,2,String.raw`60`,],\n",
      "  [4,5,4,2,2,3,String.raw`80 - 20 \\sqrt{5}`,],\n",
      "  [4,5,4,2,2,4,String.raw`-20`,],\n",
      "  [4,5,4,2,3,2,String.raw`40`,],\n",
      "  [4,5,4,2,3,3,String.raw`80 - 40 \\sqrt{5}`,],\n",
      "  [4,5,4,2,3,4,String.raw`-120`,],\n",
      "  [4,5,4,2,4,3,String.raw`80 - 80 \\sqrt{5}`,],\n",
      "  [4,5,4,2,4,4,String.raw`-320`,],\n",
      "  [4,5,4,3,2,2,String.raw`-20 + 80 \\sqrt{5}`,],\n",
      "  [4,5,4,3,2,3,String.raw`60 \\sqrt{5}`,],\n",
      "  [4,5,4,3,2,4,String.raw`-100 + 80 \\sqrt{5}`,],\n",
      "  [4,5,4,3,3,2,String.raw`-40 + 80 \\sqrt{5}`,],\n",
      "  [4,5,4,3,3,3,String.raw`40 \\sqrt{5}`,],\n",
      "  [4,5,4,3,3,4,String.raw`-200 + 80 \\sqrt{5}`,],\n",
      "  [4,5,4,3,4,2,String.raw`-80 + 80 \\sqrt{5}`,],\n",
      "  [4,5,4,3,4,4,String.raw`-400 + 80 \\sqrt{5}`,],\n",
      "  [4,5,4,4,2,2,String.raw`380`,],\n",
      "  [4,5,4,4,2,3,String.raw`400 - 20 \\sqrt{5}`,],\n",
      "  [4,5,4,4,2,4,String.raw`300`,],\n",
      "  [4,5,4,4,3,2,String.raw`360`,],\n",
      "  [4,5,4,4,3,3,String.raw`400 - 40 \\sqrt{5}`,],\n",
      "  [4,5,4,4,3,4,String.raw`200`,],\n",
      "  [4,5,4,4,4,2,String.raw`320`,],\n",
      "  [4,5,4,4,4,3,String.raw`400 - 80 \\sqrt{5}`,],\n",
      "];\n",
      "//random_seed=0;\n",
      "[a,b,s,t,u,v,sol] = params[random_seed % params.length];\n"
     ]
    }
   ],
   "source": [
    "print(param_script)"
   ]
  },
  {
   "cell_type": "markdown",
   "id": "b08509e5-5896-4249-bef3-179f29ca6ade",
   "metadata": {},
   "source": [
    "### CET 00-A.02b"
   ]
  },
  {
   "cell_type": "code",
   "execution_count": 373,
   "id": "079866cc-7afa-4db6-ba58-79b531d48d5a",
   "metadata": {
    "tags": []
   },
   "outputs": [
    {
     "data": {
      "text/latex": [
       "$\\displaystyle a^{t} b^{u} s \\left(a^{x} b^{y} w\\right)^{z}$"
      ]
     },
     "metadata": {},
     "output_type": "display_data"
    },
    {
     "name": "stdout",
     "output_type": "stream",
     "text": [
      "a^{t} b^{u} s \\left(a^{x} b^{y} w\\right)^{z}\n"
     ]
    }
   ],
   "source": [
    "ex = (s*(a**t)*(b**u))*((w*(a**x)*(b**y))**z)\n",
    "display.display_latex(ex)\n",
    "print(sy.latex(ex))"
   ]
  },
  {
   "cell_type": "code",
   "execution_count": 369,
   "id": "7f26e5bf-fb9d-40b3-93e0-b0d6262f3550",
   "metadata": {
    "tags": []
   },
   "outputs": [],
   "source": [
    "params = {\n",
    "    s: range(2,5),\n",
    "    t: range(2,4),\n",
    "    u: range(2,4),\n",
    "    w: range(2,5),\n",
    "    x: range(2,4),\n",
    "    y: range(2,4),\n",
    "    z: range(2,4),\n",
    "}"
   ]
  },
  {
   "cell_type": "code",
   "execution_count": null,
   "id": "cc2bebf6-263f-4ed7-a630-fde6081dcb56",
   "metadata": {
    "tags": []
   },
   "outputs": [],
   "source": [
    "print(get_params_script(ex, params, show_prob=False))"
   ]
  },
  {
   "cell_type": "markdown",
   "id": "e326a859-49b9-46ad-9922-770472744cdb",
   "metadata": {},
   "source": [
    "### CET 00-A.02c"
   ]
  },
  {
   "cell_type": "code",
   "execution_count": 381,
   "id": "6d302f78-e2a0-4544-8516-ffa3e0d2d828",
   "metadata": {
    "tags": []
   },
   "outputs": [
    {
     "data": {
      "text/latex": [
       "$\\displaystyle a \\left(b + x\\right) + c \\left(d x - e\\right)$"
      ]
     },
     "metadata": {},
     "output_type": "display_data"
    },
    {
     "name": "stdout",
     "output_type": "stream",
     "text": [
      "a \\left(b + x\\right) + c \\left(d x - e\\right)\n"
     ]
    }
   ],
   "source": [
    "ex = a*(x+b)+c*(d*x-e)\n",
    "display.display_latex(ex)\n",
    "print(sy.latex(ex))"
   ]
  },
  {
   "cell_type": "code",
   "execution_count": 388,
   "id": "be31fb81-d9b0-4023-ac9b-396842674f5b",
   "metadata": {
    "tags": []
   },
   "outputs": [],
   "source": [
    "params = {\n",
    "    a: range(3,10,2),\n",
    "    b: range(2,10,2),\n",
    "    c: range(2,10,2),\n",
    "    d: range(2,10,2),\n",
    "    e: range(1,10,2),\n",
    "}"
   ]
  },
  {
   "cell_type": "code",
   "execution_count": null,
   "id": "d005e196-a30c-4d70-b00b-dbebd3865054",
   "metadata": {
    "tags": []
   },
   "outputs": [],
   "source": [
    "print(get_params_script(ex, params, show_prob=False))"
   ]
  },
  {
   "cell_type": "markdown",
   "id": "8f0f0378-093e-401f-8c82-edb98de5adaa",
   "metadata": {},
   "source": [
    "### CET 00-A.03a"
   ]
  },
  {
   "cell_type": "code",
   "execution_count": 377,
   "id": "f4468870-85a4-421a-8355-ff0b34aaba00",
   "metadata": {
    "tags": []
   },
   "outputs": [
    {
     "data": {
      "text/latex": [
       "$\\displaystyle \\left(a x^{- s} x^{\\frac{b}{c}} y^{d} y^{\\frac{t}{c}}\\right)^{- c}$"
      ]
     },
     "metadata": {},
     "output_type": "display_data"
    },
    {
     "name": "stdout",
     "output_type": "stream",
     "text": [
      "\\left(a x^{- s} x^{\\frac{b}{c}} y^{d} y^{\\frac{t}{c}}\\right)^{- c}\n"
     ]
    }
   ],
   "source": [
    "ex = ((a*x**(b/c)*y**(d))/((x**s)*y**(-t/c)))**(-c)\n",
    "display.display_latex(ex)\n",
    "print(sy.latex(ex))"
   ]
  },
  {
   "cell_type": "code",
   "execution_count": 378,
   "id": "cf5e4a9e-551f-4496-8e5d-42b250b265b5",
   "metadata": {
    "tags": []
   },
   "outputs": [],
   "source": [
    "params = {\n",
    "    a: range(2,5),\n",
    "    b: range(2,4),\n",
    "    c: range(2,4),\n",
    "    d: range(2,4),\n",
    "    s: range(2,4),\n",
    "    t: range(2,4),\n",
    "}"
   ]
  },
  {
   "cell_type": "code",
   "execution_count": null,
   "id": "7567ea6b-595f-4d8a-ae22-16efe2fbeaaf",
   "metadata": {
    "tags": []
   },
   "outputs": [],
   "source": [
    "print(get_params_script(ex, params, show_prob=False))"
   ]
  },
  {
   "cell_type": "markdown",
   "id": "7afb68b9-5a08-47e9-b163-c9d523168de7",
   "metadata": {},
   "source": [
    "### CET 00-A.03b"
   ]
  },
  {
   "cell_type": "code",
   "execution_count": 13,
   "id": "f0d000f7-5eb9-4f4d-9db5-3e07b799b733",
   "metadata": {
    "tags": []
   },
   "outputs": [
    {
     "data": {
      "text/latex": [
       "$\\displaystyle a b x - a c + b x^{2} - c x$"
      ]
     },
     "metadata": {},
     "output_type": "display_data"
    },
    {
     "name": "stdout",
     "output_type": "stream",
     "text": [
      "a b x - a c + b x^{2} - c x\n"
     ]
    }
   ],
   "source": [
    "ex = (x + a)*(b*x - c)\n",
    "ex = ex.expand()\n",
    "display.display_latex(ex)\n",
    "print(sy.latex(ex))"
   ]
  },
  {
   "cell_type": "code",
   "execution_count": 7,
   "id": "1464d527-0861-48ed-acea-d0b4da1a2581",
   "metadata": {
    "tags": []
   },
   "outputs": [],
   "source": [
    "params = {\n",
    "    a: range(1,10),\n",
    "    b: range(2,10),\n",
    "    c: range(1,10),\n",
    "}"
   ]
  },
  {
   "cell_type": "code",
   "execution_count": null,
   "id": "705f1fff-2f98-4045-b598-3acd445efaf3",
   "metadata": {
    "tags": []
   },
   "outputs": [],
   "source": [
    "print(get_params_script(ex, params, show_prob=False))"
   ]
  },
  {
   "cell_type": "markdown",
   "id": "8f8d960a-0e86-47bb-8abb-22f3d0af3528",
   "metadata": {},
   "source": [
    "### CET 00-A.03d"
   ]
  },
  {
   "cell_type": "code",
   "execution_count": 15,
   "id": "cb732374-75a4-4053-b061-eb2c0ff91090",
   "metadata": {
    "tags": []
   },
   "outputs": [
    {
     "data": {
      "text/latex": [
       "$\\displaystyle a^{2} x^{2} + 2 a b x + b^{2}$"
      ]
     },
     "metadata": {},
     "output_type": "display_data"
    },
    {
     "name": "stdout",
     "output_type": "stream",
     "text": [
      "a^{2} x^{2} + 2 a b x + b^{2}\n"
     ]
    }
   ],
   "source": [
    "ex = (a*x + b)**2\n",
    "ex = ex.expand()\n",
    "display.display_latex(ex)\n",
    "print(sy.latex(ex))"
   ]
  },
  {
   "cell_type": "code",
   "execution_count": 18,
   "id": "42def2f6-d36d-4132-86b6-80cb2760ad72",
   "metadata": {
    "tags": []
   },
   "outputs": [],
   "source": [
    "params = {\n",
    "    a: range(2,10),\n",
    "    b: range(2,10),\n",
    "}"
   ]
  },
  {
   "cell_type": "code",
   "execution_count": null,
   "id": "2cf7cb0f-f721-4005-8bcc-37d59ae084b2",
   "metadata": {
    "tags": []
   },
   "outputs": [],
   "source": [
    "print(get_params_script(ex, params, show_prob=False))"
   ]
  },
  {
   "cell_type": "markdown",
   "id": "4cc1565a-9706-4aa0-962e-26c1d5086926",
   "metadata": {},
   "source": [
    "### CET 00-A.03d"
   ]
  },
  {
   "cell_type": "code",
   "execution_count": 24,
   "id": "1821fa72-52ce-40e8-a669-e268bfd633b8",
   "metadata": {
    "tags": []
   },
   "outputs": [
    {
     "data": {
      "text/latex": [
       "$\\displaystyle \\left(a + x\\right)^{3}$"
      ]
     },
     "metadata": {},
     "output_type": "display_data"
    },
    {
     "data": {
      "text/latex": [
       "$\\displaystyle a^{3} + 3 a^{2} x + 3 a x^{2} + x^{3}$"
      ]
     },
     "metadata": {},
     "output_type": "display_data"
    },
    {
     "name": "stdout",
     "output_type": "stream",
     "text": [
      "a^{3} + 3 a^{2} x + 3 a x^{2} + x^{3}\n"
     ]
    }
   ],
   "source": [
    "ex =  (x + a)**3\n",
    "display.display_latex(ex)\n",
    "ex = ex.expand()\n",
    "display.display_latex(ex)\n",
    "print(sy.latex(ex))"
   ]
  },
  {
   "cell_type": "code",
   "execution_count": 21,
   "id": "b48adab3-ae1a-4258-a61c-4f846f1e6e3d",
   "metadata": {
    "tags": []
   },
   "outputs": [],
   "source": [
    "params = {\n",
    "    a: range(1,10),\n",
    "}"
   ]
  },
  {
   "cell_type": "code",
   "execution_count": null,
   "id": "aa36f87f-5e6b-4391-baa6-2596e4b6a3e9",
   "metadata": {
    "tags": []
   },
   "outputs": [],
   "source": [
    "print(get_params_script(ex, params, show_prob=False))"
   ]
  },
  {
   "cell_type": "markdown",
   "id": "93a816e6-ebf7-46b0-bb0a-ed8d0d75d8d7",
   "metadata": {},
   "source": [
    "### CET 00-A.04a"
   ]
  },
  {
   "cell_type": "code",
   "execution_count": 34,
   "id": "55551185-eabc-4c7f-ac33-80ccfade3fa1",
   "metadata": {
    "tags": []
   },
   "outputs": [
    {
     "data": {
      "text/latex": [
       "$\\displaystyle a^{2} x^{2} - b^{2}$"
      ]
     },
     "metadata": {},
     "output_type": "display_data"
    },
    {
     "data": {
      "text/latex": [
       "$\\displaystyle a^{2} x^{2} - b^{2}$"
      ]
     },
     "metadata": {},
     "output_type": "display_data"
    },
    {
     "name": "stdout",
     "output_type": "stream",
     "text": [
      "a^{2} x^{2} - b^{2}\n"
     ]
    }
   ],
   "source": [
    "ex =  (a**2)*x**2 - b**2\n",
    "display.display_latex(ex)\n",
    "ex = ex.expand()\n",
    "display.display_latex(ex)\n",
    "print(sy.latex(ex))"
   ]
  },
  {
   "cell_type": "code",
   "execution_count": 35,
   "id": "b6b2517f-893a-4cc3-b577-feb6c281b035",
   "metadata": {
    "tags": []
   },
   "outputs": [],
   "source": [
    "params = {\n",
    "    a: range(1,10),\n",
    "    b: range(1,10),\n",
    "}"
   ]
  },
  {
   "cell_type": "code",
   "execution_count": null,
   "id": "31497b34-8006-47a6-8243-c5aba31fb6ca",
   "metadata": {
    "tags": []
   },
   "outputs": [],
   "source": [
    "print(get_params_script(ex, params, show_prob=False, pre_func = lambda ex: ex.expand(), post_func = lambda ex: ex.factor()))"
   ]
  },
  {
   "cell_type": "markdown",
   "id": "3aedcaca-cdde-4516-9b79-e311133f78a7",
   "metadata": {},
   "source": [
    "### Coding brainstorm..."
   ]
  },
  {
   "cell_type": "code",
   "execution_count": null,
   "id": "07a3e32d-aa98-44b2-9983-365e35bf4e6d",
   "metadata": {},
   "outputs": [],
   "source": [
    "import itertools, functools"
   ]
  },
  {
   "cell_type": "code",
   "execution_count": 169,
   "id": "5745797a-3d00-4453-af2a-efb852c5b105",
   "metadata": {
    "tags": []
   },
   "outputs": [
    {
     "data": {
      "text/plain": [
       "[(a, [1, 2]), (b, [1, 2, 3]), (c, [1, 2, 3, 4])]"
      ]
     },
     "execution_count": 169,
     "metadata": {},
     "output_type": "execute_result"
    }
   ],
   "source": [
    "list(params.items())"
   ]
  },
  {
   "cell_type": "code",
   "execution_count": 170,
   "id": "80994962-cd58-4bb5-8f12-ddb5bff5b076",
   "metadata": {
    "tags": []
   },
   "outputs": [
    {
     "data": {
      "text/plain": [
       "[(1, 1, 1),\n",
       " (1, 1, 2),\n",
       " (1, 1, 3),\n",
       " (1, 1, 4),\n",
       " (1, 2, 1),\n",
       " (1, 2, 2),\n",
       " (1, 2, 3),\n",
       " (1, 2, 4),\n",
       " (1, 3, 1),\n",
       " (1, 3, 2),\n",
       " (1, 3, 3),\n",
       " (1, 3, 4),\n",
       " (2, 1, 1),\n",
       " (2, 1, 2),\n",
       " (2, 1, 3),\n",
       " (2, 1, 4),\n",
       " (2, 2, 1),\n",
       " (2, 2, 2),\n",
       " (2, 2, 3),\n",
       " (2, 2, 4),\n",
       " (2, 3, 1),\n",
       " (2, 3, 2),\n",
       " (2, 3, 3),\n",
       " (2, 3, 4)]"
      ]
     },
     "execution_count": 170,
     "metadata": {},
     "output_type": "execute_result"
    }
   ],
   "source": [
    "list(\n",
    "    itertools.product(\n",
    "        *params.values()\n",
    "    )\n",
    ")"
   ]
  },
  {
   "cell_type": "code",
   "execution_count": 221,
   "id": "10af4f90-6e5a-4480-a6f2-80fa81a01a7d",
   "metadata": {
    "tags": []
   },
   "outputs": [],
   "source": [
    "def generate_variable_value_pairs(variable, values):\n",
    "    return ((variable, value) for value in values)"
   ]
  },
  {
   "cell_type": "code",
   "execution_count": 222,
   "id": "27136f83-5f90-430a-9dbb-a1d02e3b79e9",
   "metadata": {
    "tags": []
   },
   "outputs": [
    {
     "data": {
      "text/plain": [
       "((a, 1), (a, 2))"
      ]
     },
     "execution_count": 222,
     "metadata": {},
     "output_type": "execute_result"
    }
   ],
   "source": [
    "tuple(generate_variable_value_pairs(a, params[a]))"
   ]
  },
  {
   "cell_type": "code",
   "execution_count": 227,
   "id": "cee416bd-6942-4126-9f76-7e4827167dd0",
   "metadata": {
    "tags": []
   },
   "outputs": [],
   "source": [
    "def generate_variable_value_pair_lists(params):\n",
    "    return (generate_variable_value_pairs(variable, values) for (variable, values) in params.items())"
   ]
  },
  {
   "cell_type": "code",
   "execution_count": 228,
   "id": "fe258d60-2450-4942-890b-5122a431ec93",
   "metadata": {
    "tags": []
   },
   "outputs": [
    {
     "data": {
      "text/plain": [
       "([(a, 1), (a, 2)], [(b, 1), (b, 2), (b, 3)], [(c, 1), (c, 2), (c, 3), (c, 4)])"
      ]
     },
     "execution_count": 228,
     "metadata": {},
     "output_type": "execute_result"
    }
   ],
   "source": [
    "tuple(list(g) for g in get_variable_value_pair_lists(params))"
   ]
  },
  {
   "cell_type": "code",
   "execution_count": 245,
   "id": "32f265c2-3030-46ec-b155-257a8943380a",
   "metadata": {
    "tags": []
   },
   "outputs": [],
   "source": [
    "def generate_args_lists(params):\n",
    "    return itertools.product(*generate_variable_value_pair_lists(params))"
   ]
  },
  {
   "cell_type": "code",
   "execution_count": 248,
   "id": "cc63855d-2456-4050-872f-7dade4effdda",
   "metadata": {
    "tags": []
   },
   "outputs": [
    {
     "data": {
      "text/plain": [
       "<itertools.product at 0x7fc1cda39940>"
      ]
     },
     "execution_count": 248,
     "metadata": {},
     "output_type": "execute_result"
    }
   ],
   "source": [
    "generate_args_lists(params)"
   ]
  },
  {
   "cell_type": "code",
   "execution_count": 256,
   "id": "72694df4-faaf-496f-87c0-1cffb6f7d605",
   "metadata": {
    "collapsed": true,
    "jupyter": {
     "outputs_hidden": true
    },
    "tags": []
   },
   "outputs": [
    {
     "data": {
      "text/plain": [
       "[((a, 1), (b, 1), (c, 1)),\n",
       " ((a, 1), (b, 1), (c, 2)),\n",
       " ((a, 1), (b, 1), (c, 3)),\n",
       " ((a, 1), (b, 1), (c, 4)),\n",
       " ((a, 1), (b, 2), (c, 1)),\n",
       " ((a, 1), (b, 2), (c, 2)),\n",
       " ((a, 1), (b, 2), (c, 3)),\n",
       " ((a, 1), (b, 2), (c, 4)),\n",
       " ((a, 1), (b, 3), (c, 1)),\n",
       " ((a, 1), (b, 3), (c, 2)),\n",
       " ((a, 1), (b, 3), (c, 3)),\n",
       " ((a, 1), (b, 3), (c, 4)),\n",
       " ((a, 2), (b, 1), (c, 1)),\n",
       " ((a, 2), (b, 1), (c, 2)),\n",
       " ((a, 2), (b, 1), (c, 3)),\n",
       " ((a, 2), (b, 1), (c, 4)),\n",
       " ((a, 2), (b, 2), (c, 1)),\n",
       " ((a, 2), (b, 2), (c, 2)),\n",
       " ((a, 2), (b, 2), (c, 3)),\n",
       " ((a, 2), (b, 2), (c, 4)),\n",
       " ((a, 2), (b, 3), (c, 1)),\n",
       " ((a, 2), (b, 3), (c, 2)),\n",
       " ((a, 2), (b, 3), (c, 3)),\n",
       " ((a, 2), (b, 3), (c, 4))]"
      ]
     },
     "execution_count": 256,
     "metadata": {},
     "output_type": "execute_result"
    }
   ],
   "source": [
    "args_lists = list(generate_args_lists(params))\n",
    "args_lists"
   ]
  },
  {
   "cell_type": "code",
   "execution_count": 252,
   "id": "c6869649-dedc-47e7-b620-84b5cd4ddabe",
   "metadata": {
    "tags": []
   },
   "outputs": [],
   "source": [
    "def subs_one_item(ex, item):\n",
    "    return ex.subs(*item)"
   ]
  },
  {
   "cell_type": "code",
   "execution_count": 257,
   "id": "8f7f85d4-6ef2-4a75-ab80-5f5ab7976b90",
   "metadata": {
    "tags": []
   },
   "outputs": [
    {
     "data": {
      "text/latex": [
       "$\\displaystyle 30$"
      ],
      "text/plain": [
       "30"
      ]
     },
     "execution_count": 257,
     "metadata": {},
     "output_type": "execute_result"
    }
   ],
   "source": [
    "functools.reduce(\n",
    "    subs_one_item,\n",
    "    args_lists[0],\n",
    "    ex\n",
    ")"
   ]
  },
  {
   "cell_type": "code",
   "execution_count": 259,
   "id": "97489f84-2d81-49c7-81f6-38c6de88a412",
   "metadata": {
    "tags": []
   },
   "outputs": [],
   "source": [
    "def subs_all_items(ex, args_list):\n",
    "    return functools.reduce(\n",
    "        subs_one_item,\n",
    "        args_list,\n",
    "        ex\n",
    "    )"
   ]
  },
  {
   "cell_type": "code",
   "execution_count": 260,
   "id": "8ce7bfea-1ab2-4e82-9aec-6ea118dbfa3a",
   "metadata": {
    "tags": []
   },
   "outputs": [
    {
     "data": {
      "text/latex": [
       "$\\displaystyle 30$"
      ],
      "text/plain": [
       "30"
      ]
     },
     "execution_count": 260,
     "metadata": {},
     "output_type": "execute_result"
    }
   ],
   "source": [
    "subs_all_items(ex, args_lists[0])"
   ]
  },
  {
   "cell_type": "code",
   "execution_count": null,
   "id": "f0e201d5-2dc0-45fc-b01c-b2076af20eb4",
   "metadata": {},
   "outputs": [],
   "source": [
    "def extract_variables(args_list):\n",
    "    return (var for (var, val) in args_list)"
   ]
  },
  {
   "cell_type": "code",
   "execution_count": null,
   "id": "b33ec90c-5814-489d-a0a5-ce88a9b24058",
   "metadata": {},
   "outputs": [
    {
     "data": {
      "text/plain": [
       "[a, b, c]"
      ]
     },
     "execution_count": 266,
     "metadata": {},
     "output_type": "execute_result"
    }
   ],
   "source": [
    "list(extract_variables(args_lists[0]))"
   ]
  },
  {
   "cell_type": "code",
   "execution_count": 267,
   "id": "17c20f1e-d571-40f6-bc9c-d091096acdec",
   "metadata": {
    "tags": []
   },
   "outputs": [],
   "source": [
    "def extract_values(args_list):\n",
    "    return (val for (var, val) in args_list)"
   ]
  },
  {
   "cell_type": "code",
   "execution_count": 269,
   "id": "8ec03ac0-b54c-419e-bd04-ebdac290eab6",
   "metadata": {
    "tags": []
   },
   "outputs": [
    {
     "data": {
      "text/plain": [
       "[1, 1, 1]"
      ]
     },
     "execution_count": 269,
     "metadata": {},
     "output_type": "execute_result"
    }
   ],
   "source": [
    "list(extract_values(args_lists[0]))"
   ]
  },
  {
   "cell_type": "code",
   "execution_count": 274,
   "id": "2be38903-b4c8-4b1a-b3ff-aab9dd034ad0",
   "metadata": {
    "tags": []
   },
   "outputs": [
    {
     "data": {
      "text/plain": [
       "'a,b,c'"
      ]
     },
     "execution_count": 274,
     "metadata": {},
     "output_type": "execute_result"
    }
   ],
   "source": [
    "','.join(str(var) for var in params.keys())"
   ]
  },
  {
   "cell_type": "code",
   "execution_count": 278,
   "id": "4fef7e83-ef5b-4d2c-86a9-693d5908c787",
   "metadata": {
    "tags": []
   },
   "outputs": [
    {
     "data": {
      "text/plain": [
       "'a,b,c'"
      ]
     },
     "execution_count": 278,
     "metadata": {},
     "output_type": "execute_result"
    }
   ],
   "source": [
    "variables = params.keys()\n",
    "vars_str = ','.join(str(var) for var in variables)\n",
    "vars_str"
   ]
  },
  {
   "cell_type": "code",
   "execution_count": 279,
   "id": "2fffa4f3-ae38-4e79-af1e-2d0355c72947",
   "metadata": {
    "tags": []
   },
   "outputs": [
    {
     "name": "stdout",
     "output_type": "stream",
     "text": [
      "if (typeof params === 'undefined') { let params,a,b,c,sol; }\n"
     ]
    }
   ],
   "source": [
    "print(f\"if (typeof params === 'undefined') {{ let params,{vars_str},sol; }}\")\n"
   ]
  },
  {
   "cell_type": "code",
   "execution_count": 280,
   "id": "2145de9a-4da9-4698-b38d-ade47bf3e63d",
   "metadata": {
    "tags": []
   },
   "outputs": [
    {
     "name": "stdout",
     "output_type": "stream",
     "text": [
      "[a,b,c,sol] = params[random_seed % params.length];\n"
     ]
    }
   ],
   "source": [
    "print(f\"[{vars_str},sol] = params[random_seed % params.length];\")\n"
   ]
  },
  {
   "cell_type": "code",
   "execution_count": 282,
   "id": "cdc8fe88-1303-4710-b69a-f093b34ad8b3",
   "metadata": {
    "collapsed": true,
    "jupyter": {
     "outputs_hidden": true
    },
    "tags": []
   },
   "outputs": [
    {
     "name": "stdout",
     "output_type": "stream",
     "text": [
      "if (typeof params === 'undefined') { let params,a,b,c,prob,sol; }\n",
      "params = [\n",
      "  [1,1,1,String.raw`30,String.raw`30,],\n",
      "  [1,1,1,String.raw`150,String.raw`150,],\n",
      "  [1,1,1,String.raw`750,String.raw`750,],\n",
      "  [1,1,1,String.raw`3750,String.raw`3750,],\n",
      "  [1,1,1,String.raw`90,String.raw`90,],\n",
      "  [1,1,1,String.raw`450,String.raw`450,],\n",
      "  [1,1,1,String.raw`2250,String.raw`2250,],\n",
      "  [1,1,1,String.raw`11250,String.raw`11250,],\n",
      "  [1,1,1,String.raw`270,String.raw`270,],\n",
      "  [1,1,1,String.raw`1350,String.raw`1350,],\n",
      "  [1,1,1,String.raw`6750,String.raw`6750,],\n",
      "  [1,1,1,String.raw`33750,String.raw`33750,],\n",
      "  [1,1,1,String.raw`60,String.raw`60,],\n",
      "  [1,1,1,String.raw`300,String.raw`300,],\n",
      "  [1,1,1,String.raw`1500,String.raw`1500,],\n",
      "  [1,1,1,String.raw`7500,String.raw`7500,],\n",
      "  [1,1,1,String.raw`180,String.raw`180,],\n",
      "  [1,1,1,String.raw`900,String.raw`900,],\n",
      "  [1,1,1,String.raw`4500,String.raw`4500,],\n",
      "  [1,1,1,String.raw`22500,String.raw`22500,],\n",
      "  [1,1,1,String.raw`540,String.raw`540,],\n",
      "  [1,1,1,String.raw`2700,String.raw`2700,],\n",
      "  [1,1,1,String.raw`13500,String.raw`13500,],\n",
      "  [1,1,1,String.raw`67500,String.raw`67500,],\n",
      "];\n",
      "//random_seed=0;\n",
      "[a,b,c,prob,sol] = params[random_seed % params.length];\n"
     ]
    }
   ],
   "source": [
    "variables = params.keys()\n",
    "vars_str = ','.join(str(var) for var in variables)\n",
    "print(f\"if (typeof params === 'undefined') {{ let params,{vars_str},prob,sol; }}\")\n",
    "print(\"params = [\")\n",
    "for args_list in generate_args_lists(params):\n",
    "    values = extract_values(args_lists[0])\n",
    "    vals_str = f\"{','.join(str(val) for val in values)},\"\n",
    "    prob = subs_all_items(ex, args_list)\n",
    "    prob_str = f\"String.raw`{sy.latex(prob)},\"\n",
    "    sol = prob.doit()\n",
    "    sol_str = f\"String.raw`{sy.latex(sol)},\"\n",
    "    print(f\"  [{vals_str}{prob_str}{sol_str}],\")\n",
    "print(\"];\")\n",
    "print(\"//random_seed=0;\")\n",
    "print(f\"[{vars_str},prob,sol] = params[random_seed % params.length];\")"
   ]
  },
  {
   "cell_type": "code",
   "execution_count": 301,
   "id": "11b1d242-d7ec-4e67-a90b-061f726fae37",
   "metadata": {
    "tags": []
   },
   "outputs": [],
   "source": [
    "def params_script(ex, params, show_vars = True, show_prob = True, show_sol = True):\n",
    "    if not (show_vars or show_prob or show_sol):\n",
    "        raise Exception(\"at least one of show_vars or show_prob or show_sol should be True\")\n",
    "    script_lines = []\n",
    "    variables = params.keys()\n",
    "    vars_str = f\",{','.join(str(var) for var in params.keys())}\" if show_vars else \"\"\n",
    "    prob_var_str = \",prob\" if show_prob else \"\"\n",
    "    sol_var_str = \",sol\" if show_sol else \"\"\n",
    "    params_str = f\"params{vars_str}{prob_var_str}{sol_var_str}\"\n",
    "    script_lines.append(f\"if (typeof params === 'undefined') {{ let {params_str}; }}\")\n",
    "    script_lines.append(\"params = [\")\n",
    "    for args_list in generate_args_lists(params):\n",
    "        vals_str = f\"{','.join(str(val) for val in extract_values(args_lists[0]))},\" if show_vars else \"\"\n",
    "        prob = subs_all_items(ex, args_list)\n",
    "        prob_str = f\"String.raw`{sy.latex(prob)}`,\" if show_prob else \"\"\n",
    "        sol = prob.doit()\n",
    "        sol_str = f\"String.raw`{sy.latex(sol)}`,\" if show_sol else \"\"\n",
    "        script_lines.append(f\"  [{vals_str}{prob_str}{sol_str}],\")\n",
    "    script_lines.append(\"];\")\n",
    "    script_lines.append(\"//random_seed=0;\")\n",
    "    script_lines.append(f\"[{params_str.split(',',1)[-1]}] = params[random_seed % params.length];\")\n",
    "    return '\\n'.join(script_lines)"
   ]
  },
  {
   "cell_type": "code",
   "execution_count": 304,
   "id": "63887ee6-04f3-47fd-b18e-d82670977b3d",
   "metadata": {
    "collapsed": true,
    "jupyter": {
     "outputs_hidden": true
    },
    "tags": []
   },
   "outputs": [
    {
     "name": "stdout",
     "output_type": "stream",
     "text": [
      "if (typeof params === 'undefined') { let params,a,b,c,prob,sol; }\n",
      "params = [\n",
      "  [1,1,1,String.raw`30`,String.raw`30`,],\n",
      "  [1,1,1,String.raw`150`,String.raw`150`,],\n",
      "  [1,1,1,String.raw`750`,String.raw`750`,],\n",
      "  [1,1,1,String.raw`3750`,String.raw`3750`,],\n",
      "  [1,1,1,String.raw`90`,String.raw`90`,],\n",
      "  [1,1,1,String.raw`450`,String.raw`450`,],\n",
      "  [1,1,1,String.raw`2250`,String.raw`2250`,],\n",
      "  [1,1,1,String.raw`11250`,String.raw`11250`,],\n",
      "  [1,1,1,String.raw`270`,String.raw`270`,],\n",
      "  [1,1,1,String.raw`1350`,String.raw`1350`,],\n",
      "  [1,1,1,String.raw`6750`,String.raw`6750`,],\n",
      "  [1,1,1,String.raw`33750`,String.raw`33750`,],\n",
      "  [1,1,1,String.raw`60`,String.raw`60`,],\n",
      "  [1,1,1,String.raw`300`,String.raw`300`,],\n",
      "  [1,1,1,String.raw`1500`,String.raw`1500`,],\n",
      "  [1,1,1,String.raw`7500`,String.raw`7500`,],\n",
      "  [1,1,1,String.raw`180`,String.raw`180`,],\n",
      "  [1,1,1,String.raw`900`,String.raw`900`,],\n",
      "  [1,1,1,String.raw`4500`,String.raw`4500`,],\n",
      "  [1,1,1,String.raw`22500`,String.raw`22500`,],\n",
      "  [1,1,1,String.raw`540`,String.raw`540`,],\n",
      "  [1,1,1,String.raw`2700`,String.raw`2700`,],\n",
      "  [1,1,1,String.raw`13500`,String.raw`13500`,],\n",
      "  [1,1,1,String.raw`67500`,String.raw`67500`,],\n",
      "];\n",
      "//random_seed=0;\n",
      "[a,b,c,prob,sol] = params[random_seed % params.length];\n"
     ]
    }
   ],
   "source": [
    "print(params_script(ex,params))"
   ]
  },
  {
   "cell_type": "code",
   "execution_count": 303,
   "id": "131eef14-69d0-46da-be63-c0f64e7f0887",
   "metadata": {
    "collapsed": true,
    "jupyter": {
     "outputs_hidden": true
    },
    "tags": []
   },
   "outputs": [
    {
     "name": "stdout",
     "output_type": "stream",
     "text": [
      "if (typeof params === 'undefined') { let params,prob,sol; }\n",
      "params = [\n",
      "  [String.raw`30`,String.raw`30`,],\n",
      "  [String.raw`150`,String.raw`150`,],\n",
      "  [String.raw`750`,String.raw`750`,],\n",
      "  [String.raw`3750`,String.raw`3750`,],\n",
      "  [String.raw`90`,String.raw`90`,],\n",
      "  [String.raw`450`,String.raw`450`,],\n",
      "  [String.raw`2250`,String.raw`2250`,],\n",
      "  [String.raw`11250`,String.raw`11250`,],\n",
      "  [String.raw`270`,String.raw`270`,],\n",
      "  [String.raw`1350`,String.raw`1350`,],\n",
      "  [String.raw`6750`,String.raw`6750`,],\n",
      "  [String.raw`33750`,String.raw`33750`,],\n",
      "  [String.raw`60`,String.raw`60`,],\n",
      "  [String.raw`300`,String.raw`300`,],\n",
      "  [String.raw`1500`,String.raw`1500`,],\n",
      "  [String.raw`7500`,String.raw`7500`,],\n",
      "  [String.raw`180`,String.raw`180`,],\n",
      "  [String.raw`900`,String.raw`900`,],\n",
      "  [String.raw`4500`,String.raw`4500`,],\n",
      "  [String.raw`22500`,String.raw`22500`,],\n",
      "  [String.raw`540`,String.raw`540`,],\n",
      "  [String.raw`2700`,String.raw`2700`,],\n",
      "  [String.raw`13500`,String.raw`13500`,],\n",
      "  [String.raw`67500`,String.raw`67500`,],\n",
      "];\n",
      "//random_seed=0;\n",
      "[prob,sol] = params[random_seed % params.length];\n"
     ]
    }
   ],
   "source": [
    "print(params_script(ex,params,False))"
   ]
  },
  {
   "cell_type": "code",
   "execution_count": 305,
   "id": "37e08612-e660-4f51-b7e4-724d05203418",
   "metadata": {
    "collapsed": true,
    "jupyter": {
     "outputs_hidden": true
    },
    "tags": []
   },
   "outputs": [
    {
     "name": "stdout",
     "output_type": "stream",
     "text": [
      "if (typeof params === 'undefined') { let params,a,b,c,sol; }\n",
      "params = [\n",
      "  [1,1,1,String.raw`30`,],\n",
      "  [1,1,1,String.raw`150`,],\n",
      "  [1,1,1,String.raw`750`,],\n",
      "  [1,1,1,String.raw`3750`,],\n",
      "  [1,1,1,String.raw`90`,],\n",
      "  [1,1,1,String.raw`450`,],\n",
      "  [1,1,1,String.raw`2250`,],\n",
      "  [1,1,1,String.raw`11250`,],\n",
      "  [1,1,1,String.raw`270`,],\n",
      "  [1,1,1,String.raw`1350`,],\n",
      "  [1,1,1,String.raw`6750`,],\n",
      "  [1,1,1,String.raw`33750`,],\n",
      "  [1,1,1,String.raw`60`,],\n",
      "  [1,1,1,String.raw`300`,],\n",
      "  [1,1,1,String.raw`1500`,],\n",
      "  [1,1,1,String.raw`7500`,],\n",
      "  [1,1,1,String.raw`180`,],\n",
      "  [1,1,1,String.raw`900`,],\n",
      "  [1,1,1,String.raw`4500`,],\n",
      "  [1,1,1,String.raw`22500`,],\n",
      "  [1,1,1,String.raw`540`,],\n",
      "  [1,1,1,String.raw`2700`,],\n",
      "  [1,1,1,String.raw`13500`,],\n",
      "  [1,1,1,String.raw`67500`,],\n",
      "];\n",
      "//random_seed=0;\n",
      "[a,b,c,sol] = params[random_seed % params.length];\n"
     ]
    }
   ],
   "source": [
    "print(params_script(ex,params,True,False))"
   ]
  },
  {
   "cell_type": "code",
   "execution_count": 306,
   "id": "5a51f3fe-0209-4b8d-8cfe-863adb0dbb0b",
   "metadata": {
    "collapsed": true,
    "jupyter": {
     "outputs_hidden": true
    },
    "tags": []
   },
   "outputs": [
    {
     "name": "stdout",
     "output_type": "stream",
     "text": [
      "if (typeof params === 'undefined') { let params,a,b,c,prob; }\n",
      "params = [\n",
      "  [1,1,1,String.raw`30`,],\n",
      "  [1,1,1,String.raw`150`,],\n",
      "  [1,1,1,String.raw`750`,],\n",
      "  [1,1,1,String.raw`3750`,],\n",
      "  [1,1,1,String.raw`90`,],\n",
      "  [1,1,1,String.raw`450`,],\n",
      "  [1,1,1,String.raw`2250`,],\n",
      "  [1,1,1,String.raw`11250`,],\n",
      "  [1,1,1,String.raw`270`,],\n",
      "  [1,1,1,String.raw`1350`,],\n",
      "  [1,1,1,String.raw`6750`,],\n",
      "  [1,1,1,String.raw`33750`,],\n",
      "  [1,1,1,String.raw`60`,],\n",
      "  [1,1,1,String.raw`300`,],\n",
      "  [1,1,1,String.raw`1500`,],\n",
      "  [1,1,1,String.raw`7500`,],\n",
      "  [1,1,1,String.raw`180`,],\n",
      "  [1,1,1,String.raw`900`,],\n",
      "  [1,1,1,String.raw`4500`,],\n",
      "  [1,1,1,String.raw`22500`,],\n",
      "  [1,1,1,String.raw`540`,],\n",
      "  [1,1,1,String.raw`2700`,],\n",
      "  [1,1,1,String.raw`13500`,],\n",
      "  [1,1,1,String.raw`67500`,],\n",
      "];\n",
      "//random_seed=0;\n",
      "[a,b,c,prob] = params[random_seed % params.length];\n"
     ]
    }
   ],
   "source": [
    "print(params_script(ex,params,True,True,False))"
   ]
  },
  {
   "cell_type": "code",
   "execution_count": 307,
   "id": "05510cca-397b-4f11-84de-894534758941",
   "metadata": {
    "collapsed": true,
    "jupyter": {
     "outputs_hidden": true
    },
    "tags": []
   },
   "outputs": [
    {
     "ename": "Exception",
     "evalue": "at least one of show_vars or show_prob or show_sol should be True",
     "output_type": "error",
     "traceback": [
      "\u001b[0;31m---------------------------------------------------------------------------\u001b[0m",
      "\u001b[0;31mException\u001b[0m                                 Traceback (most recent call last)",
      "Cell \u001b[0;32mIn[307], line 1\u001b[0m\n\u001b[0;32m----> 1\u001b[0m \u001b[38;5;28mprint\u001b[39m(\u001b[43mparams_script\u001b[49m\u001b[43m(\u001b[49m\u001b[43mex\u001b[49m\u001b[43m,\u001b[49m\u001b[43mparams\u001b[49m\u001b[43m,\u001b[49m\u001b[38;5;28;43;01mFalse\u001b[39;49;00m\u001b[43m,\u001b[49m\u001b[38;5;28;43;01mFalse\u001b[39;49;00m\u001b[43m,\u001b[49m\u001b[38;5;28;43;01mFalse\u001b[39;49;00m\u001b[43m)\u001b[49m)\n",
      "Cell \u001b[0;32mIn[301], line 3\u001b[0m, in \u001b[0;36mparams_script\u001b[0;34m(ex, params, show_vars, show_prob, show_sol)\u001b[0m\n\u001b[1;32m      1\u001b[0m \u001b[38;5;28;01mdef\u001b[39;00m \u001b[38;5;21mparams_script\u001b[39m(ex, params, show_vars \u001b[38;5;241m=\u001b[39m \u001b[38;5;28;01mTrue\u001b[39;00m, show_prob \u001b[38;5;241m=\u001b[39m \u001b[38;5;28;01mTrue\u001b[39;00m, show_sol \u001b[38;5;241m=\u001b[39m \u001b[38;5;28;01mTrue\u001b[39;00m):\n\u001b[1;32m      2\u001b[0m     \u001b[38;5;28;01mif\u001b[39;00m \u001b[38;5;129;01mnot\u001b[39;00m (show_vars \u001b[38;5;129;01mor\u001b[39;00m show_prob \u001b[38;5;129;01mor\u001b[39;00m show_sol):\n\u001b[0;32m----> 3\u001b[0m         \u001b[38;5;28;01mraise\u001b[39;00m \u001b[38;5;167;01mException\u001b[39;00m(\u001b[38;5;124m\"\u001b[39m\u001b[38;5;124mat least one of show_vars or show_prob or show_sol should be True\u001b[39m\u001b[38;5;124m\"\u001b[39m)\n\u001b[1;32m      4\u001b[0m     script_lines \u001b[38;5;241m=\u001b[39m []\n\u001b[1;32m      5\u001b[0m     variables \u001b[38;5;241m=\u001b[39m params\u001b[38;5;241m.\u001b[39mkeys()\n",
      "\u001b[0;31mException\u001b[0m: at least one of show_vars or show_prob or show_sol should be True"
     ]
    }
   ],
   "source": [
    "print(params_script(ex,params,False,False,False))"
   ]
  },
  {
   "cell_type": "code",
   "execution_count": 239,
   "id": "1679aaad-c6a4-4314-bd03-f2c0a1ee5b86",
   "metadata": {
    "tags": []
   },
   "outputs": [
    {
     "data": {
      "text/plain": [
       "[(<generator object get_variable_value_pairs.<locals>.<genexpr> at 0x7fc2436752e0>,),\n",
       " (<generator object get_variable_value_pairs.<locals>.<genexpr> at 0x7fc243675c10>,),\n",
       " (<generator object get_variable_value_pairs.<locals>.<genexpr> at 0x7fc243675270>,)]"
      ]
     },
     "execution_count": 239,
     "metadata": {},
     "output_type": "execute_result"
    }
   ],
   "source": [
    "args_lists = list(\n",
    "    itertools.product(\n",
    "        get_variable_value_pairs(variable, values) for (variable, values) in params.items()\n",
    "    )\n",
    ")\n",
    "args_lists"
   ]
  },
  {
   "cell_type": "code",
   "execution_count": 255,
   "id": "fc59dbd3-e37f-44c4-aef0-a789c1bb38aa",
   "metadata": {
    "collapsed": true,
    "jupyter": {
     "outputs_hidden": true
    },
    "tags": []
   },
   "outputs": [
    {
     "data": {
      "text/plain": [
       "[((a, 1), (b, 1), (c, 1)),\n",
       " ((a, 1), (b, 1), (c, 2)),\n",
       " ((a, 1), (b, 1), (c, 3)),\n",
       " ((a, 1), (b, 1), (c, 4)),\n",
       " ((a, 1), (b, 2), (c, 1)),\n",
       " ((a, 1), (b, 2), (c, 2)),\n",
       " ((a, 1), (b, 2), (c, 3)),\n",
       " ((a, 1), (b, 2), (c, 4)),\n",
       " ((a, 1), (b, 3), (c, 1)),\n",
       " ((a, 1), (b, 3), (c, 2)),\n",
       " ((a, 1), (b, 3), (c, 3)),\n",
       " ((a, 1), (b, 3), (c, 4)),\n",
       " ((a, 2), (b, 1), (c, 1)),\n",
       " ((a, 2), (b, 1), (c, 2)),\n",
       " ((a, 2), (b, 1), (c, 3)),\n",
       " ((a, 2), (b, 1), (c, 4)),\n",
       " ((a, 2), (b, 2), (c, 1)),\n",
       " ((a, 2), (b, 2), (c, 2)),\n",
       " ((a, 2), (b, 2), (c, 3)),\n",
       " ((a, 2), (b, 2), (c, 4)),\n",
       " ((a, 2), (b, 3), (c, 1)),\n",
       " ((a, 2), (b, 3), (c, 2)),\n",
       " ((a, 2), (b, 3), (c, 3)),\n",
       " ((a, 2), (b, 3), (c, 4))]"
      ]
     },
     "execution_count": 255,
     "metadata": {},
     "output_type": "execute_result"
    }
   ],
   "source": [
    "args_lists = list(\n",
    "    itertools.product(\n",
    "        *[get_variable_value_pairs(variable, values) for (variable, values) in params.items()]\n",
    "    )\n",
    ")\n",
    "args_lists"
   ]
  },
  {
   "cell_type": "code",
   "execution_count": 214,
   "id": "1e97dc00-4e17-4c13-86f3-a512bd44d2af",
   "metadata": {
    "collapsed": true,
    "jupyter": {
     "outputs_hidden": true
    },
    "tags": []
   },
   "outputs": [
    {
     "data": {
      "text/plain": [
       "[((a, 1), (b, 1), (c, 1)),\n",
       " ((a, 1), (b, 1), (c, 2)),\n",
       " ((a, 1), (b, 1), (c, 3)),\n",
       " ((a, 1), (b, 1), (c, 4)),\n",
       " ((a, 1), (b, 2), (c, 1)),\n",
       " ((a, 1), (b, 2), (c, 2)),\n",
       " ((a, 1), (b, 2), (c, 3)),\n",
       " ((a, 1), (b, 2), (c, 4)),\n",
       " ((a, 1), (b, 3), (c, 1)),\n",
       " ((a, 1), (b, 3), (c, 2)),\n",
       " ((a, 1), (b, 3), (c, 3)),\n",
       " ((a, 1), (b, 3), (c, 4)),\n",
       " ((a, 2), (b, 1), (c, 1)),\n",
       " ((a, 2), (b, 1), (c, 2)),\n",
       " ((a, 2), (b, 1), (c, 3)),\n",
       " ((a, 2), (b, 1), (c, 4)),\n",
       " ((a, 2), (b, 2), (c, 1)),\n",
       " ((a, 2), (b, 2), (c, 2)),\n",
       " ((a, 2), (b, 2), (c, 3)),\n",
       " ((a, 2), (b, 2), (c, 4)),\n",
       " ((a, 2), (b, 3), (c, 1)),\n",
       " ((a, 2), (b, 3), (c, 2)),\n",
       " ((a, 2), (b, 3), (c, 3)),\n",
       " ((a, 2), (b, 3), (c, 4))]"
      ]
     },
     "execution_count": 214,
     "metadata": {},
     "output_type": "execute_result"
    }
   ],
   "source": [
    "args_lists = list(\n",
    "    itertools.product(\n",
    "        *get_variable_value_pair_lists(params)\n",
    "    )\n",
    ")\n",
    "args_lists"
   ]
  },
  {
   "cell_type": "code",
   "execution_count": 171,
   "id": "748acb19-a469-4a16-8b2f-488581a763f4",
   "metadata": {
    "collapsed": true,
    "jupyter": {
     "outputs_hidden": true
    },
    "tags": []
   },
   "outputs": [
    {
     "data": {
      "text/plain": [
       "[((a, 1), (b, 1), (c, 1)),\n",
       " ((a, 1), (b, 1), (c, 2)),\n",
       " ((a, 1), (b, 1), (c, 3)),\n",
       " ((a, 1), (b, 1), (c, 4)),\n",
       " ((a, 1), (b, 2), (c, 1)),\n",
       " ((a, 1), (b, 2), (c, 2)),\n",
       " ((a, 1), (b, 2), (c, 3)),\n",
       " ((a, 1), (b, 2), (c, 4)),\n",
       " ((a, 1), (b, 3), (c, 1)),\n",
       " ((a, 1), (b, 3), (c, 2)),\n",
       " ((a, 1), (b, 3), (c, 3)),\n",
       " ((a, 1), (b, 3), (c, 4)),\n",
       " ((a, 2), (b, 1), (c, 1)),\n",
       " ((a, 2), (b, 1), (c, 2)),\n",
       " ((a, 2), (b, 1), (c, 3)),\n",
       " ((a, 2), (b, 1), (c, 4)),\n",
       " ((a, 2), (b, 2), (c, 1)),\n",
       " ((a, 2), (b, 2), (c, 2)),\n",
       " ((a, 2), (b, 2), (c, 3)),\n",
       " ((a, 2), (b, 2), (c, 4)),\n",
       " ((a, 2), (b, 3), (c, 1)),\n",
       " ((a, 2), (b, 3), (c, 2)),\n",
       " ((a, 2), (b, 3), (c, 3)),\n",
       " ((a, 2), (b, 3), (c, 4))]"
      ]
     },
     "execution_count": 171,
     "metadata": {},
     "output_type": "execute_result"
    }
   ],
   "source": [
    "args_lists = list(\n",
    "    itertools.product(\n",
    "        *[[(variable, value) for value in values] for (variable, values) in params.items()]\n",
    "    )\n",
    ")\n",
    "args_lists"
   ]
  },
  {
   "cell_type": "code",
   "execution_count": 151,
   "id": "d5f9bc6e-9268-40e1-9132-a74cd4211dbe",
   "metadata": {
    "tags": []
   },
   "outputs": [
    {
     "data": {
      "text/plain": [
       "(('a', 1), ('b', 1), ('c', 1))"
      ]
     },
     "execution_count": 151,
     "metadata": {},
     "output_type": "execute_result"
    }
   ],
   "source": [
    "args_lists[0]"
   ]
  },
  {
   "cell_type": "code",
   "execution_count": 177,
   "id": "69a61daa-a374-404e-a529-98ff081396ae",
   "metadata": {
    "tags": []
   },
   "outputs": [
    {
     "data": {
      "text/latex": [
       "$\\displaystyle 2^{a} 3^{b} 5^{c}$"
      ],
      "text/plain": [
       "2**a*3**b*5**c"
      ]
     },
     "execution_count": 177,
     "metadata": {},
     "output_type": "execute_result"
    }
   ],
   "source": [
    "ex = (2**a)*(3**b)*(5**c)\n",
    "ex"
   ]
  },
  {
   "cell_type": "code",
   "execution_count": 178,
   "id": "dcf2792c-8e8f-43bd-9c32-691218007bc8",
   "metadata": {
    "tags": []
   },
   "outputs": [
    {
     "data": {
      "text/plain": [
       "((a, 1), (b, 1), (c, 1))"
      ]
     },
     "execution_count": 178,
     "metadata": {},
     "output_type": "execute_result"
    }
   ],
   "source": [
    "args_lists[0]"
   ]
  },
  {
   "cell_type": "code",
   "execution_count": 186,
   "id": "1686a02e-fb4d-4eb2-b48b-dff4f88ae0f2",
   "metadata": {
    "tags": []
   },
   "outputs": [
    {
     "data": {
      "text/plain": [
       "[2*3**b*5**c, 3*2**a*5**c, 5*2**a*3**b]"
      ]
     },
     "execution_count": 186,
     "metadata": {},
     "output_type": "execute_result"
    }
   ],
   "source": [
    "[\n",
    "    ex.subs(*item) for item in args_lists[0]\n",
    "]"
   ]
  },
  {
   "cell_type": "code",
   "execution_count": 232,
   "id": "5cf60028-d2d3-4037-bf5e-18a73a8452c0",
   "metadata": {
    "tags": []
   },
   "outputs": [
    {
     "data": {
      "text/plain": [
       "[2*3**b*5**c, 3*2**a*5**c, 5*2**a*3**b]"
      ]
     },
     "execution_count": 232,
     "metadata": {},
     "output_type": "execute_result"
    }
   ],
   "source": [
    "[\n",
    "    subs_sympy_expression(ex, item) for item in args_lists[0]\n",
    "]"
   ]
  },
  {
   "cell_type": "code",
   "execution_count": 233,
   "id": "d80c4d2f-1723-4f60-8609-b3fa106189e3",
   "metadata": {
    "tags": []
   },
   "outputs": [
    {
     "data": {
      "text/latex": [
       "$\\displaystyle 30$"
      ],
      "text/plain": [
       "30"
      ]
     },
     "execution_count": 233,
     "metadata": {},
     "output_type": "execute_result"
    }
   ],
   "source": [
    "functools.reduce(\n",
    "    subs_sympy_expression,\n",
    "    args_lists[0],\n",
    "    ex\n",
    ")\n"
   ]
  },
  {
   "cell_type": "code",
   "execution_count": null,
   "id": "e4ee194a-fe68-41cf-b4f2-9b1f09de0818",
   "metadata": {},
   "outputs": [],
   "source": [
    "list(\n",
    "    itertools.product(\n",
    "        *[[(variable, value) for value in values] for (variable, values) in params.items()]\n",
    "    )\n",
    ")"
   ]
  },
  {
   "cell_type": "code",
   "execution_count": 99,
   "id": "935b4de1-7aae-4777-982c-1f58f057b2fc",
   "metadata": {
    "collapsed": true,
    "jupyter": {
     "outputs_hidden": true
    },
    "tags": []
   },
   "outputs": [
    {
     "name": "stdout",
     "output_type": "stream",
     "text": [
      "if (typeof params === 'undefined') { let params,a,b,c,sol; }\n",
      "params = [\n",
      "  [2,10,6,String.raw`16`,],\n",
      "  [2,10,7,String.raw`8`,],\n",
      "  [2,10,8,String.raw`4`,],\n",
      "  [2,10,9,String.raw`2`,],\n",
      "  [2,10,11,String.raw`\\frac{1}{2}`,],\n",
      "  [2,10,12,String.raw`\\frac{1}{4}`,],\n",
      "  [2,10,13,String.raw`\\frac{1}{8}`,],\n",
      "  [2,10,14,String.raw`\\frac{1}{16}`,],\n",
      "  [2,11,7,String.raw`16`,],\n",
      "  [2,11,8,String.raw`8`,],\n",
      "  [2,11,9,String.raw`4`,],\n",
      "  [2,11,10,String.raw`2`,],\n",
      "  [2,11,12,String.raw`\\frac{1}{2}`,],\n",
      "  [2,11,13,String.raw`\\frac{1}{4}`,],\n",
      "  [2,11,14,String.raw`\\frac{1}{8}`,],\n",
      "  [2,11,15,String.raw`\\frac{1}{16}`,],\n",
      "  [2,12,8,String.raw`16`,],\n",
      "  [2,12,9,String.raw`8`,],\n",
      "  [2,12,10,String.raw`4`,],\n",
      "  [2,12,11,String.raw`2`,],\n",
      "  [2,12,13,String.raw`\\frac{1}{2}`,],\n",
      "  [2,12,14,String.raw`\\frac{1}{4}`,],\n",
      "  [2,12,15,String.raw`\\frac{1}{8}`,],\n",
      "  [2,12,16,String.raw`\\frac{1}{16}`,],\n",
      "  [2,13,9,String.raw`16`,],\n",
      "  [2,13,10,String.raw`8`,],\n",
      "  [2,13,11,String.raw`4`,],\n",
      "  [2,13,12,String.raw`2`,],\n",
      "  [2,13,14,String.raw`\\frac{1}{2}`,],\n",
      "  [2,13,15,String.raw`\\frac{1}{4}`,],\n",
      "  [2,13,16,String.raw`\\frac{1}{8}`,],\n",
      "  [2,13,17,String.raw`\\frac{1}{16}`,],\n",
      "  [2,14,10,String.raw`16`,],\n",
      "  [2,14,11,String.raw`8`,],\n",
      "  [2,14,12,String.raw`4`,],\n",
      "  [2,14,13,String.raw`2`,],\n",
      "  [2,14,15,String.raw`\\frac{1}{2}`,],\n",
      "  [2,14,16,String.raw`\\frac{1}{4}`,],\n",
      "  [2,14,17,String.raw`\\frac{1}{8}`,],\n",
      "  [2,14,18,String.raw`\\frac{1}{16}`,],\n",
      "  [2,15,11,String.raw`16`,],\n",
      "  [2,15,12,String.raw`8`,],\n",
      "  [2,15,13,String.raw`4`,],\n",
      "  [2,15,14,String.raw`2`,],\n",
      "  [2,15,16,String.raw`\\frac{1}{2}`,],\n",
      "  [2,15,17,String.raw`\\frac{1}{4}`,],\n",
      "  [2,15,18,String.raw`\\frac{1}{8}`,],\n",
      "  [2,15,19,String.raw`\\frac{1}{16}`,],\n",
      "  [2,16,12,String.raw`16`,],\n",
      "  [2,16,13,String.raw`8`,],\n",
      "  [2,16,14,String.raw`4`,],\n",
      "  [2,16,15,String.raw`2`,],\n",
      "  [2,16,17,String.raw`\\frac{1}{2}`,],\n",
      "  [2,16,18,String.raw`\\frac{1}{4}`,],\n",
      "  [2,16,19,String.raw`\\frac{1}{8}`,],\n",
      "  [2,16,20,String.raw`\\frac{1}{16}`,],\n",
      "  [2,17,13,String.raw`16`,],\n",
      "  [2,17,14,String.raw`8`,],\n",
      "  [2,17,15,String.raw`4`,],\n",
      "  [2,17,16,String.raw`2`,],\n",
      "  [2,17,18,String.raw`\\frac{1}{2}`,],\n",
      "  [2,17,19,String.raw`\\frac{1}{4}`,],\n",
      "  [2,17,20,String.raw`\\frac{1}{8}`,],\n",
      "  [2,17,21,String.raw`\\frac{1}{16}`,],\n",
      "  [2,18,14,String.raw`16`,],\n",
      "  [2,18,15,String.raw`8`,],\n",
      "  [2,18,16,String.raw`4`,],\n",
      "  [2,18,17,String.raw`2`,],\n",
      "  [2,18,19,String.raw`\\frac{1}{2}`,],\n",
      "  [2,18,20,String.raw`\\frac{1}{4}`,],\n",
      "  [2,18,21,String.raw`\\frac{1}{8}`,],\n",
      "  [2,18,22,String.raw`\\frac{1}{16}`,],\n",
      "  [2,19,15,String.raw`16`,],\n",
      "  [2,19,16,String.raw`8`,],\n",
      "  [2,19,17,String.raw`4`,],\n",
      "  [2,19,18,String.raw`2`,],\n",
      "  [2,19,20,String.raw`\\frac{1}{2}`,],\n",
      "  [2,19,21,String.raw`\\frac{1}{4}`,],\n",
      "  [2,19,22,String.raw`\\frac{1}{8}`,],\n",
      "  [2,19,23,String.raw`\\frac{1}{16}`,],\n",
      "  [3,10,6,String.raw`81`,],\n",
      "  [3,10,7,String.raw`27`,],\n",
      "  [3,10,8,String.raw`9`,],\n",
      "  [3,10,9,String.raw`3`,],\n",
      "  [3,10,11,String.raw`\\frac{1}{3}`,],\n",
      "  [3,10,12,String.raw`\\frac{1}{9}`,],\n",
      "  [3,10,13,String.raw`\\frac{1}{27}`,],\n",
      "  [3,10,14,String.raw`\\frac{1}{81}`,],\n",
      "  [3,11,7,String.raw`81`,],\n",
      "  [3,11,8,String.raw`27`,],\n",
      "  [3,11,9,String.raw`9`,],\n",
      "  [3,11,10,String.raw`3`,],\n",
      "  [3,11,12,String.raw`\\frac{1}{3}`,],\n",
      "  [3,11,13,String.raw`\\frac{1}{9}`,],\n",
      "  [3,11,14,String.raw`\\frac{1}{27}`,],\n",
      "  [3,11,15,String.raw`\\frac{1}{81}`,],\n",
      "  [3,12,8,String.raw`81`,],\n",
      "  [3,12,9,String.raw`27`,],\n",
      "  [3,12,10,String.raw`9`,],\n",
      "  [3,12,11,String.raw`3`,],\n",
      "  [3,12,13,String.raw`\\frac{1}{3}`,],\n",
      "  [3,12,14,String.raw`\\frac{1}{9}`,],\n",
      "  [3,12,15,String.raw`\\frac{1}{27}`,],\n",
      "  [3,12,16,String.raw`\\frac{1}{81}`,],\n",
      "  [3,13,9,String.raw`81`,],\n",
      "  [3,13,10,String.raw`27`,],\n",
      "  [3,13,11,String.raw`9`,],\n",
      "  [3,13,12,String.raw`3`,],\n",
      "  [3,13,14,String.raw`\\frac{1}{3}`,],\n",
      "  [3,13,15,String.raw`\\frac{1}{9}`,],\n",
      "  [3,13,16,String.raw`\\frac{1}{27}`,],\n",
      "  [3,13,17,String.raw`\\frac{1}{81}`,],\n",
      "  [3,14,10,String.raw`81`,],\n",
      "  [3,14,11,String.raw`27`,],\n",
      "  [3,14,12,String.raw`9`,],\n",
      "  [3,14,13,String.raw`3`,],\n",
      "  [3,14,15,String.raw`\\frac{1}{3}`,],\n",
      "  [3,14,16,String.raw`\\frac{1}{9}`,],\n",
      "  [3,14,17,String.raw`\\frac{1}{27}`,],\n",
      "  [3,14,18,String.raw`\\frac{1}{81}`,],\n",
      "  [3,15,11,String.raw`81`,],\n",
      "  [3,15,12,String.raw`27`,],\n",
      "  [3,15,13,String.raw`9`,],\n",
      "  [3,15,14,String.raw`3`,],\n",
      "  [3,15,16,String.raw`\\frac{1}{3}`,],\n",
      "  [3,15,17,String.raw`\\frac{1}{9}`,],\n",
      "  [3,15,18,String.raw`\\frac{1}{27}`,],\n",
      "  [3,15,19,String.raw`\\frac{1}{81}`,],\n",
      "  [3,16,12,String.raw`81`,],\n",
      "  [3,16,13,String.raw`27`,],\n",
      "  [3,16,14,String.raw`9`,],\n",
      "  [3,16,15,String.raw`3`,],\n",
      "  [3,16,17,String.raw`\\frac{1}{3}`,],\n",
      "  [3,16,18,String.raw`\\frac{1}{9}`,],\n",
      "  [3,16,19,String.raw`\\frac{1}{27}`,],\n",
      "  [3,16,20,String.raw`\\frac{1}{81}`,],\n",
      "  [3,17,13,String.raw`81`,],\n",
      "  [3,17,14,String.raw`27`,],\n",
      "  [3,17,15,String.raw`9`,],\n",
      "  [3,17,16,String.raw`3`,],\n",
      "  [3,17,18,String.raw`\\frac{1}{3}`,],\n",
      "  [3,17,19,String.raw`\\frac{1}{9}`,],\n",
      "  [3,17,20,String.raw`\\frac{1}{27}`,],\n",
      "  [3,17,21,String.raw`\\frac{1}{81}`,],\n",
      "  [3,18,14,String.raw`81`,],\n",
      "  [3,18,15,String.raw`27`,],\n",
      "  [3,18,16,String.raw`9`,],\n",
      "  [3,18,17,String.raw`3`,],\n",
      "  [3,18,19,String.raw`\\frac{1}{3}`,],\n",
      "  [3,18,20,String.raw`\\frac{1}{9}`,],\n",
      "  [3,18,21,String.raw`\\frac{1}{27}`,],\n",
      "  [3,18,22,String.raw`\\frac{1}{81}`,],\n",
      "  [3,19,15,String.raw`81`,],\n",
      "  [3,19,16,String.raw`27`,],\n",
      "  [3,19,17,String.raw`9`,],\n",
      "  [3,19,18,String.raw`3`,],\n",
      "  [3,19,20,String.raw`\\frac{1}{3}`,],\n",
      "  [3,19,21,String.raw`\\frac{1}{9}`,],\n",
      "  [3,19,22,String.raw`\\frac{1}{27}`,],\n",
      "  [3,19,23,String.raw`\\frac{1}{81}`,],\n",
      "  [4,10,6,String.raw`256`,],\n",
      "  [4,10,7,String.raw`64`,],\n",
      "  [4,10,8,String.raw`16`,],\n",
      "  [4,10,9,String.raw`4`,],\n",
      "  [4,10,11,String.raw`\\frac{1}{4}`,],\n",
      "  [4,10,12,String.raw`\\frac{1}{16}`,],\n",
      "  [4,10,13,String.raw`\\frac{1}{64}`,],\n",
      "  [4,10,14,String.raw`\\frac{1}{256}`,],\n",
      "  [4,11,7,String.raw`256`,],\n",
      "  [4,11,8,String.raw`64`,],\n",
      "  [4,11,9,String.raw`16`,],\n",
      "  [4,11,10,String.raw`4`,],\n",
      "  [4,11,12,String.raw`\\frac{1}{4}`,],\n",
      "  [4,11,13,String.raw`\\frac{1}{16}`,],\n",
      "  [4,11,14,String.raw`\\frac{1}{64}`,],\n",
      "  [4,11,15,String.raw`\\frac{1}{256}`,],\n",
      "  [4,12,8,String.raw`256`,],\n",
      "  [4,12,9,String.raw`64`,],\n",
      "  [4,12,10,String.raw`16`,],\n",
      "  [4,12,11,String.raw`4`,],\n",
      "  [4,12,13,String.raw`\\frac{1}{4}`,],\n",
      "  [4,12,14,String.raw`\\frac{1}{16}`,],\n",
      "  [4,12,15,String.raw`\\frac{1}{64}`,],\n",
      "  [4,12,16,String.raw`\\frac{1}{256}`,],\n",
      "  [4,13,9,String.raw`256`,],\n",
      "  [4,13,10,String.raw`64`,],\n",
      "  [4,13,11,String.raw`16`,],\n",
      "  [4,13,12,String.raw`4`,],\n",
      "  [4,13,14,String.raw`\\frac{1}{4}`,],\n",
      "  [4,13,15,String.raw`\\frac{1}{16}`,],\n",
      "  [4,13,16,String.raw`\\frac{1}{64}`,],\n",
      "  [4,13,17,String.raw`\\frac{1}{256}`,],\n",
      "  [4,14,10,String.raw`256`,],\n",
      "  [4,14,11,String.raw`64`,],\n",
      "  [4,14,12,String.raw`16`,],\n",
      "  [4,14,13,String.raw`4`,],\n",
      "  [4,14,15,String.raw`\\frac{1}{4}`,],\n",
      "  [4,14,16,String.raw`\\frac{1}{16}`,],\n",
      "  [4,14,17,String.raw`\\frac{1}{64}`,],\n",
      "  [4,14,18,String.raw`\\frac{1}{256}`,],\n",
      "  [4,15,11,String.raw`256`,],\n",
      "  [4,15,12,String.raw`64`,],\n",
      "  [4,15,13,String.raw`16`,],\n",
      "  [4,15,14,String.raw`4`,],\n",
      "  [4,15,16,String.raw`\\frac{1}{4}`,],\n",
      "  [4,15,17,String.raw`\\frac{1}{16}`,],\n",
      "  [4,15,18,String.raw`\\frac{1}{64}`,],\n",
      "  [4,15,19,String.raw`\\frac{1}{256}`,],\n",
      "  [4,16,12,String.raw`256`,],\n",
      "  [4,16,13,String.raw`64`,],\n",
      "  [4,16,14,String.raw`16`,],\n",
      "  [4,16,15,String.raw`4`,],\n",
      "  [4,16,17,String.raw`\\frac{1}{4}`,],\n",
      "  [4,16,18,String.raw`\\frac{1}{16}`,],\n",
      "  [4,16,19,String.raw`\\frac{1}{64}`,],\n",
      "  [4,16,20,String.raw`\\frac{1}{256}`,],\n",
      "  [4,17,13,String.raw`256`,],\n",
      "  [4,17,14,String.raw`64`,],\n",
      "  [4,17,15,String.raw`16`,],\n",
      "  [4,17,16,String.raw`4`,],\n",
      "  [4,17,18,String.raw`\\frac{1}{4}`,],\n",
      "  [4,17,19,String.raw`\\frac{1}{16}`,],\n",
      "  [4,17,20,String.raw`\\frac{1}{64}`,],\n",
      "  [4,17,21,String.raw`\\frac{1}{256}`,],\n",
      "  [4,18,14,String.raw`256`,],\n",
      "  [4,18,15,String.raw`64`,],\n",
      "  [4,18,16,String.raw`16`,],\n",
      "  [4,18,17,String.raw`4`,],\n",
      "  [4,18,19,String.raw`\\frac{1}{4}`,],\n",
      "  [4,18,20,String.raw`\\frac{1}{16}`,],\n",
      "  [4,18,21,String.raw`\\frac{1}{64}`,],\n",
      "  [4,18,22,String.raw`\\frac{1}{256}`,],\n",
      "  [4,19,15,String.raw`256`,],\n",
      "  [4,19,16,String.raw`64`,],\n",
      "  [4,19,17,String.raw`16`,],\n",
      "  [4,19,18,String.raw`4`,],\n",
      "  [4,19,20,String.raw`\\frac{1}{4}`,],\n",
      "  [4,19,21,String.raw`\\frac{1}{16}`,],\n",
      "  [4,19,22,String.raw`\\frac{1}{64}`,],\n",
      "  [4,19,23,String.raw`\\frac{1}{256}`,],\n",
      "  [5,10,6,String.raw`625`,],\n",
      "  [5,10,7,String.raw`125`,],\n",
      "  [5,10,8,String.raw`25`,],\n",
      "  [5,10,9,String.raw`5`,],\n",
      "  [5,10,11,String.raw`\\frac{1}{5}`,],\n",
      "  [5,10,12,String.raw`\\frac{1}{25}`,],\n",
      "  [5,10,13,String.raw`\\frac{1}{125}`,],\n",
      "  [5,10,14,String.raw`\\frac{1}{625}`,],\n",
      "  [5,11,7,String.raw`625`,],\n",
      "  [5,11,8,String.raw`125`,],\n",
      "  [5,11,9,String.raw`25`,],\n",
      "  [5,11,10,String.raw`5`,],\n",
      "  [5,11,12,String.raw`\\frac{1}{5}`,],\n",
      "  [5,11,13,String.raw`\\frac{1}{25}`,],\n",
      "  [5,11,14,String.raw`\\frac{1}{125}`,],\n",
      "  [5,11,15,String.raw`\\frac{1}{625}`,],\n",
      "  [5,12,8,String.raw`625`,],\n",
      "  [5,12,9,String.raw`125`,],\n",
      "  [5,12,10,String.raw`25`,],\n",
      "  [5,12,11,String.raw`5`,],\n",
      "  [5,12,13,String.raw`\\frac{1}{5}`,],\n",
      "  [5,12,14,String.raw`\\frac{1}{25}`,],\n",
      "  [5,12,15,String.raw`\\frac{1}{125}`,],\n",
      "  [5,12,16,String.raw`\\frac{1}{625}`,],\n",
      "  [5,13,9,String.raw`625`,],\n",
      "  [5,13,10,String.raw`125`,],\n",
      "  [5,13,11,String.raw`25`,],\n",
      "  [5,13,12,String.raw`5`,],\n",
      "  [5,13,14,String.raw`\\frac{1}{5}`,],\n",
      "  [5,13,15,String.raw`\\frac{1}{25}`,],\n",
      "  [5,13,16,String.raw`\\frac{1}{125}`,],\n",
      "  [5,13,17,String.raw`\\frac{1}{625}`,],\n",
      "  [5,14,10,String.raw`625`,],\n",
      "  [5,14,11,String.raw`125`,],\n",
      "  [5,14,12,String.raw`25`,],\n",
      "  [5,14,13,String.raw`5`,],\n",
      "  [5,14,15,String.raw`\\frac{1}{5}`,],\n",
      "  [5,14,16,String.raw`\\frac{1}{25}`,],\n",
      "  [5,14,17,String.raw`\\frac{1}{125}`,],\n",
      "  [5,14,18,String.raw`\\frac{1}{625}`,],\n",
      "  [5,15,11,String.raw`625`,],\n",
      "  [5,15,12,String.raw`125`,],\n",
      "  [5,15,13,String.raw`25`,],\n",
      "  [5,15,14,String.raw`5`,],\n",
      "  [5,15,16,String.raw`\\frac{1}{5}`,],\n",
      "  [5,15,17,String.raw`\\frac{1}{25}`,],\n",
      "  [5,15,18,String.raw`\\frac{1}{125}`,],\n",
      "  [5,15,19,String.raw`\\frac{1}{625}`,],\n",
      "  [5,16,12,String.raw`625`,],\n",
      "  [5,16,13,String.raw`125`,],\n",
      "  [5,16,14,String.raw`25`,],\n",
      "  [5,16,15,String.raw`5`,],\n",
      "  [5,16,17,String.raw`\\frac{1}{5}`,],\n",
      "  [5,16,18,String.raw`\\frac{1}{25}`,],\n",
      "  [5,16,19,String.raw`\\frac{1}{125}`,],\n",
      "  [5,16,20,String.raw`\\frac{1}{625}`,],\n",
      "  [5,17,13,String.raw`625`,],\n",
      "  [5,17,14,String.raw`125`,],\n",
      "  [5,17,15,String.raw`25`,],\n",
      "  [5,17,16,String.raw`5`,],\n",
      "  [5,17,18,String.raw`\\frac{1}{5}`,],\n",
      "  [5,17,19,String.raw`\\frac{1}{25}`,],\n",
      "  [5,17,20,String.raw`\\frac{1}{125}`,],\n",
      "  [5,17,21,String.raw`\\frac{1}{625}`,],\n",
      "  [5,18,14,String.raw`625`,],\n",
      "  [5,18,15,String.raw`125`,],\n",
      "  [5,18,16,String.raw`25`,],\n",
      "  [5,18,17,String.raw`5`,],\n",
      "  [5,18,19,String.raw`\\frac{1}{5}`,],\n",
      "  [5,18,20,String.raw`\\frac{1}{25}`,],\n",
      "  [5,18,21,String.raw`\\frac{1}{125}`,],\n",
      "  [5,18,22,String.raw`\\frac{1}{625}`,],\n",
      "  [5,19,15,String.raw`625`,],\n",
      "  [5,19,16,String.raw`125`,],\n",
      "  [5,19,17,String.raw`25`,],\n",
      "  [5,19,18,String.raw`5`,],\n",
      "  [5,19,20,String.raw`\\frac{1}{5}`,],\n",
      "  [5,19,21,String.raw`\\frac{1}{25}`,],\n",
      "  [5,19,22,String.raw`\\frac{1}{125}`,],\n",
      "  [5,19,23,String.raw`\\frac{1}{625}`,],\n",
      "  [6,10,6,String.raw`1296`,],\n",
      "  [6,10,7,String.raw`216`,],\n",
      "  [6,10,8,String.raw`36`,],\n",
      "  [6,10,9,String.raw`6`,],\n",
      "  [6,10,11,String.raw`\\frac{1}{6}`,],\n",
      "  [6,10,12,String.raw`\\frac{1}{36}`,],\n",
      "  [6,10,13,String.raw`\\frac{1}{216}`,],\n",
      "  [6,10,14,String.raw`\\frac{1}{1296}`,],\n",
      "  [6,11,7,String.raw`1296`,],\n",
      "  [6,11,8,String.raw`216`,],\n",
      "  [6,11,9,String.raw`36`,],\n",
      "  [6,11,10,String.raw`6`,],\n",
      "  [6,11,12,String.raw`\\frac{1}{6}`,],\n",
      "  [6,11,13,String.raw`\\frac{1}{36}`,],\n",
      "  [6,11,14,String.raw`\\frac{1}{216}`,],\n",
      "  [6,11,15,String.raw`\\frac{1}{1296}`,],\n",
      "  [6,12,8,String.raw`1296`,],\n",
      "  [6,12,9,String.raw`216`,],\n",
      "  [6,12,10,String.raw`36`,],\n",
      "  [6,12,11,String.raw`6`,],\n",
      "  [6,12,13,String.raw`\\frac{1}{6}`,],\n",
      "  [6,12,14,String.raw`\\frac{1}{36}`,],\n",
      "  [6,12,15,String.raw`\\frac{1}{216}`,],\n",
      "  [6,12,16,String.raw`\\frac{1}{1296}`,],\n",
      "  [6,13,9,String.raw`1296`,],\n",
      "  [6,13,10,String.raw`216`,],\n",
      "  [6,13,11,String.raw`36`,],\n",
      "  [6,13,12,String.raw`6`,],\n",
      "  [6,13,14,String.raw`\\frac{1}{6}`,],\n",
      "  [6,13,15,String.raw`\\frac{1}{36}`,],\n",
      "  [6,13,16,String.raw`\\frac{1}{216}`,],\n",
      "  [6,13,17,String.raw`\\frac{1}{1296}`,],\n",
      "  [6,14,10,String.raw`1296`,],\n",
      "  [6,14,11,String.raw`216`,],\n",
      "  [6,14,12,String.raw`36`,],\n",
      "  [6,14,13,String.raw`6`,],\n",
      "  [6,14,15,String.raw`\\frac{1}{6}`,],\n",
      "  [6,14,16,String.raw`\\frac{1}{36}`,],\n",
      "  [6,14,17,String.raw`\\frac{1}{216}`,],\n",
      "  [6,14,18,String.raw`\\frac{1}{1296}`,],\n",
      "  [6,15,11,String.raw`1296`,],\n",
      "  [6,15,12,String.raw`216`,],\n",
      "  [6,15,13,String.raw`36`,],\n",
      "  [6,15,14,String.raw`6`,],\n",
      "  [6,15,16,String.raw`\\frac{1}{6}`,],\n",
      "  [6,15,17,String.raw`\\frac{1}{36}`,],\n",
      "  [6,15,18,String.raw`\\frac{1}{216}`,],\n",
      "  [6,15,19,String.raw`\\frac{1}{1296}`,],\n",
      "  [6,16,12,String.raw`1296`,],\n",
      "  [6,16,13,String.raw`216`,],\n",
      "  [6,16,14,String.raw`36`,],\n",
      "  [6,16,15,String.raw`6`,],\n",
      "  [6,16,17,String.raw`\\frac{1}{6}`,],\n",
      "  [6,16,18,String.raw`\\frac{1}{36}`,],\n",
      "  [6,16,19,String.raw`\\frac{1}{216}`,],\n",
      "  [6,16,20,String.raw`\\frac{1}{1296}`,],\n",
      "  [6,17,13,String.raw`1296`,],\n",
      "  [6,17,14,String.raw`216`,],\n",
      "  [6,17,15,String.raw`36`,],\n",
      "  [6,17,16,String.raw`6`,],\n",
      "  [6,17,18,String.raw`\\frac{1}{6}`,],\n",
      "  [6,17,19,String.raw`\\frac{1}{36}`,],\n",
      "  [6,17,20,String.raw`\\frac{1}{216}`,],\n",
      "  [6,17,21,String.raw`\\frac{1}{1296}`,],\n",
      "  [6,18,14,String.raw`1296`,],\n",
      "  [6,18,15,String.raw`216`,],\n",
      "  [6,18,16,String.raw`36`,],\n",
      "  [6,18,17,String.raw`6`,],\n",
      "  [6,18,19,String.raw`\\frac{1}{6}`,],\n",
      "  [6,18,20,String.raw`\\frac{1}{36}`,],\n",
      "  [6,18,21,String.raw`\\frac{1}{216}`,],\n",
      "  [6,18,22,String.raw`\\frac{1}{1296}`,],\n",
      "  [6,19,15,String.raw`1296`,],\n",
      "  [6,19,16,String.raw`216`,],\n",
      "  [6,19,17,String.raw`36`,],\n",
      "  [6,19,18,String.raw`6`,],\n",
      "  [6,19,20,String.raw`\\frac{1}{6}`,],\n",
      "  [6,19,21,String.raw`\\frac{1}{36}`,],\n",
      "  [6,19,22,String.raw`\\frac{1}{216}`,],\n",
      "  [6,19,23,String.raw`\\frac{1}{1296}`,],\n",
      "  [7,10,6,String.raw`2401`,],\n",
      "  [7,10,7,String.raw`343`,],\n",
      "  [7,10,8,String.raw`49`,],\n",
      "  [7,10,9,String.raw`7`,],\n",
      "  [7,10,11,String.raw`\\frac{1}{7}`,],\n",
      "  [7,10,12,String.raw`\\frac{1}{49}`,],\n",
      "  [7,10,13,String.raw`\\frac{1}{343}`,],\n",
      "  [7,10,14,String.raw`\\frac{1}{2401}`,],\n",
      "  [7,11,7,String.raw`2401`,],\n",
      "  [7,11,8,String.raw`343`,],\n",
      "  [7,11,9,String.raw`49`,],\n",
      "  [7,11,10,String.raw`7`,],\n",
      "  [7,11,12,String.raw`\\frac{1}{7}`,],\n",
      "  [7,11,13,String.raw`\\frac{1}{49}`,],\n",
      "  [7,11,14,String.raw`\\frac{1}{343}`,],\n",
      "  [7,11,15,String.raw`\\frac{1}{2401}`,],\n",
      "  [7,12,8,String.raw`2401`,],\n",
      "  [7,12,9,String.raw`343`,],\n",
      "  [7,12,10,String.raw`49`,],\n",
      "  [7,12,11,String.raw`7`,],\n",
      "  [7,12,13,String.raw`\\frac{1}{7}`,],\n",
      "  [7,12,14,String.raw`\\frac{1}{49}`,],\n",
      "  [7,12,15,String.raw`\\frac{1}{343}`,],\n",
      "  [7,12,16,String.raw`\\frac{1}{2401}`,],\n",
      "  [7,13,9,String.raw`2401`,],\n",
      "  [7,13,10,String.raw`343`,],\n",
      "  [7,13,11,String.raw`49`,],\n",
      "  [7,13,12,String.raw`7`,],\n",
      "  [7,13,14,String.raw`\\frac{1}{7}`,],\n",
      "  [7,13,15,String.raw`\\frac{1}{49}`,],\n",
      "  [7,13,16,String.raw`\\frac{1}{343}`,],\n",
      "  [7,13,17,String.raw`\\frac{1}{2401}`,],\n",
      "  [7,14,10,String.raw`2401`,],\n",
      "  [7,14,11,String.raw`343`,],\n",
      "  [7,14,12,String.raw`49`,],\n",
      "  [7,14,13,String.raw`7`,],\n",
      "  [7,14,15,String.raw`\\frac{1}{7}`,],\n",
      "  [7,14,16,String.raw`\\frac{1}{49}`,],\n",
      "  [7,14,17,String.raw`\\frac{1}{343}`,],\n",
      "  [7,14,18,String.raw`\\frac{1}{2401}`,],\n",
      "  [7,15,11,String.raw`2401`,],\n",
      "  [7,15,12,String.raw`343`,],\n",
      "  [7,15,13,String.raw`49`,],\n",
      "  [7,15,14,String.raw`7`,],\n",
      "  [7,15,16,String.raw`\\frac{1}{7}`,],\n",
      "  [7,15,17,String.raw`\\frac{1}{49}`,],\n",
      "  [7,15,18,String.raw`\\frac{1}{343}`,],\n",
      "  [7,15,19,String.raw`\\frac{1}{2401}`,],\n",
      "  [7,16,12,String.raw`2401`,],\n",
      "  [7,16,13,String.raw`343`,],\n",
      "  [7,16,14,String.raw`49`,],\n",
      "  [7,16,15,String.raw`7`,],\n",
      "  [7,16,17,String.raw`\\frac{1}{7}`,],\n",
      "  [7,16,18,String.raw`\\frac{1}{49}`,],\n",
      "  [7,16,19,String.raw`\\frac{1}{343}`,],\n",
      "  [7,16,20,String.raw`\\frac{1}{2401}`,],\n",
      "  [7,17,13,String.raw`2401`,],\n",
      "  [7,17,14,String.raw`343`,],\n",
      "  [7,17,15,String.raw`49`,],\n",
      "  [7,17,16,String.raw`7`,],\n",
      "  [7,17,18,String.raw`\\frac{1}{7}`,],\n",
      "  [7,17,19,String.raw`\\frac{1}{49}`,],\n",
      "  [7,17,20,String.raw`\\frac{1}{343}`,],\n",
      "  [7,17,21,String.raw`\\frac{1}{2401}`,],\n",
      "  [7,18,14,String.raw`2401`,],\n",
      "  [7,18,15,String.raw`343`,],\n",
      "  [7,18,16,String.raw`49`,],\n",
      "  [7,18,17,String.raw`7`,],\n",
      "  [7,18,19,String.raw`\\frac{1}{7}`,],\n",
      "  [7,18,20,String.raw`\\frac{1}{49}`,],\n",
      "  [7,18,21,String.raw`\\frac{1}{343}`,],\n",
      "  [7,18,22,String.raw`\\frac{1}{2401}`,],\n",
      "  [7,19,15,String.raw`2401`,],\n",
      "  [7,19,16,String.raw`343`,],\n",
      "  [7,19,17,String.raw`49`,],\n",
      "  [7,19,18,String.raw`7`,],\n",
      "  [7,19,20,String.raw`\\frac{1}{7}`,],\n",
      "  [7,19,21,String.raw`\\frac{1}{49}`,],\n",
      "  [7,19,22,String.raw`\\frac{1}{343}`,],\n",
      "  [7,19,23,String.raw`\\frac{1}{2401}`,],\n",
      "  [8,10,6,String.raw`4096`,],\n",
      "  [8,10,7,String.raw`512`,],\n",
      "  [8,10,8,String.raw`64`,],\n",
      "  [8,10,9,String.raw`8`,],\n",
      "  [8,10,11,String.raw`\\frac{1}{8}`,],\n",
      "  [8,10,12,String.raw`\\frac{1}{64}`,],\n",
      "  [8,10,13,String.raw`\\frac{1}{512}`,],\n",
      "  [8,10,14,String.raw`\\frac{1}{4096}`,],\n",
      "  [8,11,7,String.raw`4096`,],\n",
      "  [8,11,8,String.raw`512`,],\n",
      "  [8,11,9,String.raw`64`,],\n",
      "  [8,11,10,String.raw`8`,],\n",
      "  [8,11,12,String.raw`\\frac{1}{8}`,],\n",
      "  [8,11,13,String.raw`\\frac{1}{64}`,],\n",
      "  [8,11,14,String.raw`\\frac{1}{512}`,],\n",
      "  [8,11,15,String.raw`\\frac{1}{4096}`,],\n",
      "  [8,12,8,String.raw`4096`,],\n",
      "  [8,12,9,String.raw`512`,],\n",
      "  [8,12,10,String.raw`64`,],\n",
      "  [8,12,11,String.raw`8`,],\n",
      "  [8,12,13,String.raw`\\frac{1}{8}`,],\n",
      "  [8,12,14,String.raw`\\frac{1}{64}`,],\n",
      "  [8,12,15,String.raw`\\frac{1}{512}`,],\n",
      "  [8,12,16,String.raw`\\frac{1}{4096}`,],\n",
      "  [8,13,9,String.raw`4096`,],\n",
      "  [8,13,10,String.raw`512`,],\n",
      "  [8,13,11,String.raw`64`,],\n",
      "  [8,13,12,String.raw`8`,],\n",
      "  [8,13,14,String.raw`\\frac{1}{8}`,],\n",
      "  [8,13,15,String.raw`\\frac{1}{64}`,],\n",
      "  [8,13,16,String.raw`\\frac{1}{512}`,],\n",
      "  [8,13,17,String.raw`\\frac{1}{4096}`,],\n",
      "  [8,14,10,String.raw`4096`,],\n",
      "  [8,14,11,String.raw`512`,],\n",
      "  [8,14,12,String.raw`64`,],\n",
      "  [8,14,13,String.raw`8`,],\n",
      "  [8,14,15,String.raw`\\frac{1}{8}`,],\n",
      "  [8,14,16,String.raw`\\frac{1}{64}`,],\n",
      "  [8,14,17,String.raw`\\frac{1}{512}`,],\n",
      "  [8,14,18,String.raw`\\frac{1}{4096}`,],\n",
      "  [8,15,11,String.raw`4096`,],\n",
      "  [8,15,12,String.raw`512`,],\n",
      "  [8,15,13,String.raw`64`,],\n",
      "  [8,15,14,String.raw`8`,],\n",
      "  [8,15,16,String.raw`\\frac{1}{8}`,],\n",
      "  [8,15,17,String.raw`\\frac{1}{64}`,],\n",
      "  [8,15,18,String.raw`\\frac{1}{512}`,],\n",
      "  [8,15,19,String.raw`\\frac{1}{4096}`,],\n",
      "  [8,16,12,String.raw`4096`,],\n",
      "  [8,16,13,String.raw`512`,],\n",
      "  [8,16,14,String.raw`64`,],\n",
      "  [8,16,15,String.raw`8`,],\n",
      "  [8,16,17,String.raw`\\frac{1}{8}`,],\n",
      "  [8,16,18,String.raw`\\frac{1}{64}`,],\n",
      "  [8,16,19,String.raw`\\frac{1}{512}`,],\n",
      "  [8,16,20,String.raw`\\frac{1}{4096}`,],\n",
      "  [8,17,13,String.raw`4096`,],\n",
      "  [8,17,14,String.raw`512`,],\n",
      "  [8,17,15,String.raw`64`,],\n",
      "  [8,17,16,String.raw`8`,],\n",
      "  [8,17,18,String.raw`\\frac{1}{8}`,],\n",
      "  [8,17,19,String.raw`\\frac{1}{64}`,],\n",
      "  [8,17,20,String.raw`\\frac{1}{512}`,],\n",
      "  [8,17,21,String.raw`\\frac{1}{4096}`,],\n",
      "  [8,18,14,String.raw`4096`,],\n",
      "  [8,18,15,String.raw`512`,],\n",
      "  [8,18,16,String.raw`64`,],\n",
      "  [8,18,17,String.raw`8`,],\n",
      "  [8,18,19,String.raw`\\frac{1}{8}`,],\n",
      "  [8,18,20,String.raw`\\frac{1}{64}`,],\n",
      "  [8,18,21,String.raw`\\frac{1}{512}`,],\n",
      "  [8,18,22,String.raw`\\frac{1}{4096}`,],\n",
      "  [8,19,15,String.raw`4096`,],\n",
      "  [8,19,16,String.raw`512`,],\n",
      "  [8,19,17,String.raw`64`,],\n",
      "  [8,19,18,String.raw`8`,],\n",
      "  [8,19,20,String.raw`\\frac{1}{8}`,],\n",
      "  [8,19,21,String.raw`\\frac{1}{64}`,],\n",
      "  [8,19,22,String.raw`\\frac{1}{512}`,],\n",
      "  [8,19,23,String.raw`\\frac{1}{4096}`,],\n",
      "  [9,10,6,String.raw`6561`,],\n",
      "  [9,10,7,String.raw`729`,],\n",
      "  [9,10,8,String.raw`81`,],\n",
      "  [9,10,9,String.raw`9`,],\n",
      "  [9,10,11,String.raw`\\frac{1}{9}`,],\n",
      "  [9,10,12,String.raw`\\frac{1}{81}`,],\n",
      "  [9,10,13,String.raw`\\frac{1}{729}`,],\n",
      "  [9,10,14,String.raw`\\frac{1}{6561}`,],\n",
      "  [9,11,7,String.raw`6561`,],\n",
      "  [9,11,8,String.raw`729`,],\n",
      "  [9,11,9,String.raw`81`,],\n",
      "  [9,11,10,String.raw`9`,],\n",
      "  [9,11,12,String.raw`\\frac{1}{9}`,],\n",
      "  [9,11,13,String.raw`\\frac{1}{81}`,],\n",
      "  [9,11,14,String.raw`\\frac{1}{729}`,],\n",
      "  [9,11,15,String.raw`\\frac{1}{6561}`,],\n",
      "  [9,12,8,String.raw`6561`,],\n",
      "  [9,12,9,String.raw`729`,],\n",
      "  [9,12,10,String.raw`81`,],\n",
      "  [9,12,11,String.raw`9`,],\n",
      "  [9,12,13,String.raw`\\frac{1}{9}`,],\n",
      "  [9,12,14,String.raw`\\frac{1}{81}`,],\n",
      "  [9,12,15,String.raw`\\frac{1}{729}`,],\n",
      "  [9,12,16,String.raw`\\frac{1}{6561}`,],\n",
      "  [9,13,9,String.raw`6561`,],\n",
      "  [9,13,10,String.raw`729`,],\n",
      "  [9,13,11,String.raw`81`,],\n",
      "  [9,13,12,String.raw`9`,],\n",
      "  [9,13,14,String.raw`\\frac{1}{9}`,],\n",
      "  [9,13,15,String.raw`\\frac{1}{81}`,],\n",
      "  [9,13,16,String.raw`\\frac{1}{729}`,],\n",
      "  [9,13,17,String.raw`\\frac{1}{6561}`,],\n",
      "  [9,14,10,String.raw`6561`,],\n",
      "  [9,14,11,String.raw`729`,],\n",
      "  [9,14,12,String.raw`81`,],\n",
      "  [9,14,13,String.raw`9`,],\n",
      "  [9,14,15,String.raw`\\frac{1}{9}`,],\n",
      "  [9,14,16,String.raw`\\frac{1}{81}`,],\n",
      "  [9,14,17,String.raw`\\frac{1}{729}`,],\n",
      "  [9,14,18,String.raw`\\frac{1}{6561}`,],\n",
      "  [9,15,11,String.raw`6561`,],\n",
      "  [9,15,12,String.raw`729`,],\n",
      "  [9,15,13,String.raw`81`,],\n",
      "  [9,15,14,String.raw`9`,],\n",
      "  [9,15,16,String.raw`\\frac{1}{9}`,],\n",
      "  [9,15,17,String.raw`\\frac{1}{81}`,],\n",
      "  [9,15,18,String.raw`\\frac{1}{729}`,],\n",
      "  [9,15,19,String.raw`\\frac{1}{6561}`,],\n",
      "  [9,16,12,String.raw`6561`,],\n",
      "  [9,16,13,String.raw`729`,],\n",
      "  [9,16,14,String.raw`81`,],\n",
      "  [9,16,15,String.raw`9`,],\n",
      "  [9,16,17,String.raw`\\frac{1}{9}`,],\n",
      "  [9,16,18,String.raw`\\frac{1}{81}`,],\n",
      "  [9,16,19,String.raw`\\frac{1}{729}`,],\n",
      "  [9,16,20,String.raw`\\frac{1}{6561}`,],\n",
      "  [9,17,13,String.raw`6561`,],\n",
      "  [9,17,14,String.raw`729`,],\n",
      "  [9,17,15,String.raw`81`,],\n",
      "  [9,17,16,String.raw`9`,],\n",
      "  [9,17,18,String.raw`\\frac{1}{9}`,],\n",
      "  [9,17,19,String.raw`\\frac{1}{81}`,],\n",
      "  [9,17,20,String.raw`\\frac{1}{729}`,],\n",
      "  [9,17,21,String.raw`\\frac{1}{6561}`,],\n",
      "  [9,18,14,String.raw`6561`,],\n",
      "  [9,18,15,String.raw`729`,],\n",
      "  [9,18,16,String.raw`81`,],\n",
      "  [9,18,17,String.raw`9`,],\n",
      "  [9,18,19,String.raw`\\frac{1}{9}`,],\n",
      "  [9,18,20,String.raw`\\frac{1}{81}`,],\n",
      "  [9,18,21,String.raw`\\frac{1}{729}`,],\n",
      "  [9,18,22,String.raw`\\frac{1}{6561}`,],\n",
      "  [9,19,15,String.raw`6561`,],\n",
      "  [9,19,16,String.raw`729`,],\n",
      "  [9,19,17,String.raw`81`,],\n",
      "  [9,19,18,String.raw`9`,],\n",
      "  [9,19,20,String.raw`\\frac{1}{9}`,],\n",
      "  [9,19,21,String.raw`\\frac{1}{81}`,],\n",
      "  [9,19,22,String.raw`\\frac{1}{729}`,],\n",
      "  [9,19,23,String.raw`\\frac{1}{6561}`,],\n",
      "];\n",
      "//random_seed=0;\n",
      "[a,b,c,sol] = params[random_seed % params.length];\n"
     ]
    }
   ],
   "source": [
    "print(\"if (typeof params === 'undefined') { let params,a,b,c,sol; }\")\n",
    "print(\"params = [\")\n",
    "for _a in range(2,5):\n",
    "    for _b in range(1,6):\n",
    "        for _s in range(5):\n",
    "            for _s in range(5):\n",
    "                for _s in range(5):\n",
    "            if _c != 0:\n",
    "                _c = _b+_c\n",
    "                sol =_prob.subs(a,_a).subs(b,_b).subs(c,_c).doit()\n",
    "                print(f'  [{_a},{_b},{_c},String.raw`{sy.latex(sol)}`,],')\n",
    "print(\"];\")\n",
    "print(\"//random_seed=0;\")\n",
    "print(\"[a,b,c,sol] = params[random_seed % params.length];\")"
   ]
  },
  {
   "cell_type": "code",
   "execution_count": 99,
   "id": "350ba5c4-7475-44a3-984d-23de7a75277f",
   "metadata": {
    "collapsed": true,
    "jupyter": {
     "outputs_hidden": true
    },
    "tags": []
   },
   "outputs": [
    {
     "name": "stdout",
     "output_type": "stream",
     "text": [
      "if (typeof params === 'undefined') { let params,a,b,c,sol; }\n",
      "params = [\n",
      "  [2,10,6,String.raw`16`,],\n",
      "  [2,10,7,String.raw`8`,],\n",
      "  [2,10,8,String.raw`4`,],\n",
      "  [2,10,9,String.raw`2`,],\n",
      "  [2,10,11,String.raw`\\frac{1}{2}`,],\n",
      "  [2,10,12,String.raw`\\frac{1}{4}`,],\n",
      "  [2,10,13,String.raw`\\frac{1}{8}`,],\n",
      "  [2,10,14,String.raw`\\frac{1}{16}`,],\n",
      "  [2,11,7,String.raw`16`,],\n",
      "  [2,11,8,String.raw`8`,],\n",
      "  [2,11,9,String.raw`4`,],\n",
      "  [2,11,10,String.raw`2`,],\n",
      "  [2,11,12,String.raw`\\frac{1}{2}`,],\n",
      "  [2,11,13,String.raw`\\frac{1}{4}`,],\n",
      "  [2,11,14,String.raw`\\frac{1}{8}`,],\n",
      "  [2,11,15,String.raw`\\frac{1}{16}`,],\n",
      "  [2,12,8,String.raw`16`,],\n",
      "  [2,12,9,String.raw`8`,],\n",
      "  [2,12,10,String.raw`4`,],\n",
      "  [2,12,11,String.raw`2`,],\n",
      "  [2,12,13,String.raw`\\frac{1}{2}`,],\n",
      "  [2,12,14,String.raw`\\frac{1}{4}`,],\n",
      "  [2,12,15,String.raw`\\frac{1}{8}`,],\n",
      "  [2,12,16,String.raw`\\frac{1}{16}`,],\n",
      "  [2,13,9,String.raw`16`,],\n",
      "  [2,13,10,String.raw`8`,],\n",
      "  [2,13,11,String.raw`4`,],\n",
      "  [2,13,12,String.raw`2`,],\n",
      "  [2,13,14,String.raw`\\frac{1}{2}`,],\n",
      "  [2,13,15,String.raw`\\frac{1}{4}`,],\n",
      "  [2,13,16,String.raw`\\frac{1}{8}`,],\n",
      "  [2,13,17,String.raw`\\frac{1}{16}`,],\n",
      "  [2,14,10,String.raw`16`,],\n",
      "  [2,14,11,String.raw`8`,],\n",
      "  [2,14,12,String.raw`4`,],\n",
      "  [2,14,13,String.raw`2`,],\n",
      "  [2,14,15,String.raw`\\frac{1}{2}`,],\n",
      "  [2,14,16,String.raw`\\frac{1}{4}`,],\n",
      "  [2,14,17,String.raw`\\frac{1}{8}`,],\n",
      "  [2,14,18,String.raw`\\frac{1}{16}`,],\n",
      "  [2,15,11,String.raw`16`,],\n",
      "  [2,15,12,String.raw`8`,],\n",
      "  [2,15,13,String.raw`4`,],\n",
      "  [2,15,14,String.raw`2`,],\n",
      "  [2,15,16,String.raw`\\frac{1}{2}`,],\n",
      "  [2,15,17,String.raw`\\frac{1}{4}`,],\n",
      "  [2,15,18,String.raw`\\frac{1}{8}`,],\n",
      "  [2,15,19,String.raw`\\frac{1}{16}`,],\n",
      "  [2,16,12,String.raw`16`,],\n",
      "  [2,16,13,String.raw`8`,],\n",
      "  [2,16,14,String.raw`4`,],\n",
      "  [2,16,15,String.raw`2`,],\n",
      "  [2,16,17,String.raw`\\frac{1}{2}`,],\n",
      "  [2,16,18,String.raw`\\frac{1}{4}`,],\n",
      "  [2,16,19,String.raw`\\frac{1}{8}`,],\n",
      "  [2,16,20,String.raw`\\frac{1}{16}`,],\n",
      "  [2,17,13,String.raw`16`,],\n",
      "  [2,17,14,String.raw`8`,],\n",
      "  [2,17,15,String.raw`4`,],\n",
      "  [2,17,16,String.raw`2`,],\n",
      "  [2,17,18,String.raw`\\frac{1}{2}`,],\n",
      "  [2,17,19,String.raw`\\frac{1}{4}`,],\n",
      "  [2,17,20,String.raw`\\frac{1}{8}`,],\n",
      "  [2,17,21,String.raw`\\frac{1}{16}`,],\n",
      "  [2,18,14,String.raw`16`,],\n",
      "  [2,18,15,String.raw`8`,],\n",
      "  [2,18,16,String.raw`4`,],\n",
      "  [2,18,17,String.raw`2`,],\n",
      "  [2,18,19,String.raw`\\frac{1}{2}`,],\n",
      "  [2,18,20,String.raw`\\frac{1}{4}`,],\n",
      "  [2,18,21,String.raw`\\frac{1}{8}`,],\n",
      "  [2,18,22,String.raw`\\frac{1}{16}`,],\n",
      "  [2,19,15,String.raw`16`,],\n",
      "  [2,19,16,String.raw`8`,],\n",
      "  [2,19,17,String.raw`4`,],\n",
      "  [2,19,18,String.raw`2`,],\n",
      "  [2,19,20,String.raw`\\frac{1}{2}`,],\n",
      "  [2,19,21,String.raw`\\frac{1}{4}`,],\n",
      "  [2,19,22,String.raw`\\frac{1}{8}`,],\n",
      "  [2,19,23,String.raw`\\frac{1}{16}`,],\n",
      "  [3,10,6,String.raw`81`,],\n",
      "  [3,10,7,String.raw`27`,],\n",
      "  [3,10,8,String.raw`9`,],\n",
      "  [3,10,9,String.raw`3`,],\n",
      "  [3,10,11,String.raw`\\frac{1}{3}`,],\n",
      "  [3,10,12,String.raw`\\frac{1}{9}`,],\n",
      "  [3,10,13,String.raw`\\frac{1}{27}`,],\n",
      "  [3,10,14,String.raw`\\frac{1}{81}`,],\n",
      "  [3,11,7,String.raw`81`,],\n",
      "  [3,11,8,String.raw`27`,],\n",
      "  [3,11,9,String.raw`9`,],\n",
      "  [3,11,10,String.raw`3`,],\n",
      "  [3,11,12,String.raw`\\frac{1}{3}`,],\n",
      "  [3,11,13,String.raw`\\frac{1}{9}`,],\n",
      "  [3,11,14,String.raw`\\frac{1}{27}`,],\n",
      "  [3,11,15,String.raw`\\frac{1}{81}`,],\n",
      "  [3,12,8,String.raw`81`,],\n",
      "  [3,12,9,String.raw`27`,],\n",
      "  [3,12,10,String.raw`9`,],\n",
      "  [3,12,11,String.raw`3`,],\n",
      "  [3,12,13,String.raw`\\frac{1}{3}`,],\n",
      "  [3,12,14,String.raw`\\frac{1}{9}`,],\n",
      "  [3,12,15,String.raw`\\frac{1}{27}`,],\n",
      "  [3,12,16,String.raw`\\frac{1}{81}`,],\n",
      "  [3,13,9,String.raw`81`,],\n",
      "  [3,13,10,String.raw`27`,],\n",
      "  [3,13,11,String.raw`9`,],\n",
      "  [3,13,12,String.raw`3`,],\n",
      "  [3,13,14,String.raw`\\frac{1}{3}`,],\n",
      "  [3,13,15,String.raw`\\frac{1}{9}`,],\n",
      "  [3,13,16,String.raw`\\frac{1}{27}`,],\n",
      "  [3,13,17,String.raw`\\frac{1}{81}`,],\n",
      "  [3,14,10,String.raw`81`,],\n",
      "  [3,14,11,String.raw`27`,],\n",
      "  [3,14,12,String.raw`9`,],\n",
      "  [3,14,13,String.raw`3`,],\n",
      "  [3,14,15,String.raw`\\frac{1}{3}`,],\n",
      "  [3,14,16,String.raw`\\frac{1}{9}`,],\n",
      "  [3,14,17,String.raw`\\frac{1}{27}`,],\n",
      "  [3,14,18,String.raw`\\frac{1}{81}`,],\n",
      "  [3,15,11,String.raw`81`,],\n",
      "  [3,15,12,String.raw`27`,],\n",
      "  [3,15,13,String.raw`9`,],\n",
      "  [3,15,14,String.raw`3`,],\n",
      "  [3,15,16,String.raw`\\frac{1}{3}`,],\n",
      "  [3,15,17,String.raw`\\frac{1}{9}`,],\n",
      "  [3,15,18,String.raw`\\frac{1}{27}`,],\n",
      "  [3,15,19,String.raw`\\frac{1}{81}`,],\n",
      "  [3,16,12,String.raw`81`,],\n",
      "  [3,16,13,String.raw`27`,],\n",
      "  [3,16,14,String.raw`9`,],\n",
      "  [3,16,15,String.raw`3`,],\n",
      "  [3,16,17,String.raw`\\frac{1}{3}`,],\n",
      "  [3,16,18,String.raw`\\frac{1}{9}`,],\n",
      "  [3,16,19,String.raw`\\frac{1}{27}`,],\n",
      "  [3,16,20,String.raw`\\frac{1}{81}`,],\n",
      "  [3,17,13,String.raw`81`,],\n",
      "  [3,17,14,String.raw`27`,],\n",
      "  [3,17,15,String.raw`9`,],\n",
      "  [3,17,16,String.raw`3`,],\n",
      "  [3,17,18,String.raw`\\frac{1}{3}`,],\n",
      "  [3,17,19,String.raw`\\frac{1}{9}`,],\n",
      "  [3,17,20,String.raw`\\frac{1}{27}`,],\n",
      "  [3,17,21,String.raw`\\frac{1}{81}`,],\n",
      "  [3,18,14,String.raw`81`,],\n",
      "  [3,18,15,String.raw`27`,],\n",
      "  [3,18,16,String.raw`9`,],\n",
      "  [3,18,17,String.raw`3`,],\n",
      "  [3,18,19,String.raw`\\frac{1}{3}`,],\n",
      "  [3,18,20,String.raw`\\frac{1}{9}`,],\n",
      "  [3,18,21,String.raw`\\frac{1}{27}`,],\n",
      "  [3,18,22,String.raw`\\frac{1}{81}`,],\n",
      "  [3,19,15,String.raw`81`,],\n",
      "  [3,19,16,String.raw`27`,],\n",
      "  [3,19,17,String.raw`9`,],\n",
      "  [3,19,18,String.raw`3`,],\n",
      "  [3,19,20,String.raw`\\frac{1}{3}`,],\n",
      "  [3,19,21,String.raw`\\frac{1}{9}`,],\n",
      "  [3,19,22,String.raw`\\frac{1}{27}`,],\n",
      "  [3,19,23,String.raw`\\frac{1}{81}`,],\n",
      "  [4,10,6,String.raw`256`,],\n",
      "  [4,10,7,String.raw`64`,],\n",
      "  [4,10,8,String.raw`16`,],\n",
      "  [4,10,9,String.raw`4`,],\n",
      "  [4,10,11,String.raw`\\frac{1}{4}`,],\n",
      "  [4,10,12,String.raw`\\frac{1}{16}`,],\n",
      "  [4,10,13,String.raw`\\frac{1}{64}`,],\n",
      "  [4,10,14,String.raw`\\frac{1}{256}`,],\n",
      "  [4,11,7,String.raw`256`,],\n",
      "  [4,11,8,String.raw`64`,],\n",
      "  [4,11,9,String.raw`16`,],\n",
      "  [4,11,10,String.raw`4`,],\n",
      "  [4,11,12,String.raw`\\frac{1}{4}`,],\n",
      "  [4,11,13,String.raw`\\frac{1}{16}`,],\n",
      "  [4,11,14,String.raw`\\frac{1}{64}`,],\n",
      "  [4,11,15,String.raw`\\frac{1}{256}`,],\n",
      "  [4,12,8,String.raw`256`,],\n",
      "  [4,12,9,String.raw`64`,],\n",
      "  [4,12,10,String.raw`16`,],\n",
      "  [4,12,11,String.raw`4`,],\n",
      "  [4,12,13,String.raw`\\frac{1}{4}`,],\n",
      "  [4,12,14,String.raw`\\frac{1}{16}`,],\n",
      "  [4,12,15,String.raw`\\frac{1}{64}`,],\n",
      "  [4,12,16,String.raw`\\frac{1}{256}`,],\n",
      "  [4,13,9,String.raw`256`,],\n",
      "  [4,13,10,String.raw`64`,],\n",
      "  [4,13,11,String.raw`16`,],\n",
      "  [4,13,12,String.raw`4`,],\n",
      "  [4,13,14,String.raw`\\frac{1}{4}`,],\n",
      "  [4,13,15,String.raw`\\frac{1}{16}`,],\n",
      "  [4,13,16,String.raw`\\frac{1}{64}`,],\n",
      "  [4,13,17,String.raw`\\frac{1}{256}`,],\n",
      "  [4,14,10,String.raw`256`,],\n",
      "  [4,14,11,String.raw`64`,],\n",
      "  [4,14,12,String.raw`16`,],\n",
      "  [4,14,13,String.raw`4`,],\n",
      "  [4,14,15,String.raw`\\frac{1}{4}`,],\n",
      "  [4,14,16,String.raw`\\frac{1}{16}`,],\n",
      "  [4,14,17,String.raw`\\frac{1}{64}`,],\n",
      "  [4,14,18,String.raw`\\frac{1}{256}`,],\n",
      "  [4,15,11,String.raw`256`,],\n",
      "  [4,15,12,String.raw`64`,],\n",
      "  [4,15,13,String.raw`16`,],\n",
      "  [4,15,14,String.raw`4`,],\n",
      "  [4,15,16,String.raw`\\frac{1}{4}`,],\n",
      "  [4,15,17,String.raw`\\frac{1}{16}`,],\n",
      "  [4,15,18,String.raw`\\frac{1}{64}`,],\n",
      "  [4,15,19,String.raw`\\frac{1}{256}`,],\n",
      "  [4,16,12,String.raw`256`,],\n",
      "  [4,16,13,String.raw`64`,],\n",
      "  [4,16,14,String.raw`16`,],\n",
      "  [4,16,15,String.raw`4`,],\n",
      "  [4,16,17,String.raw`\\frac{1}{4}`,],\n",
      "  [4,16,18,String.raw`\\frac{1}{16}`,],\n",
      "  [4,16,19,String.raw`\\frac{1}{64}`,],\n",
      "  [4,16,20,String.raw`\\frac{1}{256}`,],\n",
      "  [4,17,13,String.raw`256`,],\n",
      "  [4,17,14,String.raw`64`,],\n",
      "  [4,17,15,String.raw`16`,],\n",
      "  [4,17,16,String.raw`4`,],\n",
      "  [4,17,18,String.raw`\\frac{1}{4}`,],\n",
      "  [4,17,19,String.raw`\\frac{1}{16}`,],\n",
      "  [4,17,20,String.raw`\\frac{1}{64}`,],\n",
      "  [4,17,21,String.raw`\\frac{1}{256}`,],\n",
      "  [4,18,14,String.raw`256`,],\n",
      "  [4,18,15,String.raw`64`,],\n",
      "  [4,18,16,String.raw`16`,],\n",
      "  [4,18,17,String.raw`4`,],\n",
      "  [4,18,19,String.raw`\\frac{1}{4}`,],\n",
      "  [4,18,20,String.raw`\\frac{1}{16}`,],\n",
      "  [4,18,21,String.raw`\\frac{1}{64}`,],\n",
      "  [4,18,22,String.raw`\\frac{1}{256}`,],\n",
      "  [4,19,15,String.raw`256`,],\n",
      "  [4,19,16,String.raw`64`,],\n",
      "  [4,19,17,String.raw`16`,],\n",
      "  [4,19,18,String.raw`4`,],\n",
      "  [4,19,20,String.raw`\\frac{1}{4}`,],\n",
      "  [4,19,21,String.raw`\\frac{1}{16}`,],\n",
      "  [4,19,22,String.raw`\\frac{1}{64}`,],\n",
      "  [4,19,23,String.raw`\\frac{1}{256}`,],\n",
      "  [5,10,6,String.raw`625`,],\n",
      "  [5,10,7,String.raw`125`,],\n",
      "  [5,10,8,String.raw`25`,],\n",
      "  [5,10,9,String.raw`5`,],\n",
      "  [5,10,11,String.raw`\\frac{1}{5}`,],\n",
      "  [5,10,12,String.raw`\\frac{1}{25}`,],\n",
      "  [5,10,13,String.raw`\\frac{1}{125}`,],\n",
      "  [5,10,14,String.raw`\\frac{1}{625}`,],\n",
      "  [5,11,7,String.raw`625`,],\n",
      "  [5,11,8,String.raw`125`,],\n",
      "  [5,11,9,String.raw`25`,],\n",
      "  [5,11,10,String.raw`5`,],\n",
      "  [5,11,12,String.raw`\\frac{1}{5}`,],\n",
      "  [5,11,13,String.raw`\\frac{1}{25}`,],\n",
      "  [5,11,14,String.raw`\\frac{1}{125}`,],\n",
      "  [5,11,15,String.raw`\\frac{1}{625}`,],\n",
      "  [5,12,8,String.raw`625`,],\n",
      "  [5,12,9,String.raw`125`,],\n",
      "  [5,12,10,String.raw`25`,],\n",
      "  [5,12,11,String.raw`5`,],\n",
      "  [5,12,13,String.raw`\\frac{1}{5}`,],\n",
      "  [5,12,14,String.raw`\\frac{1}{25}`,],\n",
      "  [5,12,15,String.raw`\\frac{1}{125}`,],\n",
      "  [5,12,16,String.raw`\\frac{1}{625}`,],\n",
      "  [5,13,9,String.raw`625`,],\n",
      "  [5,13,10,String.raw`125`,],\n",
      "  [5,13,11,String.raw`25`,],\n",
      "  [5,13,12,String.raw`5`,],\n",
      "  [5,13,14,String.raw`\\frac{1}{5}`,],\n",
      "  [5,13,15,String.raw`\\frac{1}{25}`,],\n",
      "  [5,13,16,String.raw`\\frac{1}{125}`,],\n",
      "  [5,13,17,String.raw`\\frac{1}{625}`,],\n",
      "  [5,14,10,String.raw`625`,],\n",
      "  [5,14,11,String.raw`125`,],\n",
      "  [5,14,12,String.raw`25`,],\n",
      "  [5,14,13,String.raw`5`,],\n",
      "  [5,14,15,String.raw`\\frac{1}{5}`,],\n",
      "  [5,14,16,String.raw`\\frac{1}{25}`,],\n",
      "  [5,14,17,String.raw`\\frac{1}{125}`,],\n",
      "  [5,14,18,String.raw`\\frac{1}{625}`,],\n",
      "  [5,15,11,String.raw`625`,],\n",
      "  [5,15,12,String.raw`125`,],\n",
      "  [5,15,13,String.raw`25`,],\n",
      "  [5,15,14,String.raw`5`,],\n",
      "  [5,15,16,String.raw`\\frac{1}{5}`,],\n",
      "  [5,15,17,String.raw`\\frac{1}{25}`,],\n",
      "  [5,15,18,String.raw`\\frac{1}{125}`,],\n",
      "  [5,15,19,String.raw`\\frac{1}{625}`,],\n",
      "  [5,16,12,String.raw`625`,],\n",
      "  [5,16,13,String.raw`125`,],\n",
      "  [5,16,14,String.raw`25`,],\n",
      "  [5,16,15,String.raw`5`,],\n",
      "  [5,16,17,String.raw`\\frac{1}{5}`,],\n",
      "  [5,16,18,String.raw`\\frac{1}{25}`,],\n",
      "  [5,16,19,String.raw`\\frac{1}{125}`,],\n",
      "  [5,16,20,String.raw`\\frac{1}{625}`,],\n",
      "  [5,17,13,String.raw`625`,],\n",
      "  [5,17,14,String.raw`125`,],\n",
      "  [5,17,15,String.raw`25`,],\n",
      "  [5,17,16,String.raw`5`,],\n",
      "  [5,17,18,String.raw`\\frac{1}{5}`,],\n",
      "  [5,17,19,String.raw`\\frac{1}{25}`,],\n",
      "  [5,17,20,String.raw`\\frac{1}{125}`,],\n",
      "  [5,17,21,String.raw`\\frac{1}{625}`,],\n",
      "  [5,18,14,String.raw`625`,],\n",
      "  [5,18,15,String.raw`125`,],\n",
      "  [5,18,16,String.raw`25`,],\n",
      "  [5,18,17,String.raw`5`,],\n",
      "  [5,18,19,String.raw`\\frac{1}{5}`,],\n",
      "  [5,18,20,String.raw`\\frac{1}{25}`,],\n",
      "  [5,18,21,String.raw`\\frac{1}{125}`,],\n",
      "  [5,18,22,String.raw`\\frac{1}{625}`,],\n",
      "  [5,19,15,String.raw`625`,],\n",
      "  [5,19,16,String.raw`125`,],\n",
      "  [5,19,17,String.raw`25`,],\n",
      "  [5,19,18,String.raw`5`,],\n",
      "  [5,19,20,String.raw`\\frac{1}{5}`,],\n",
      "  [5,19,21,String.raw`\\frac{1}{25}`,],\n",
      "  [5,19,22,String.raw`\\frac{1}{125}`,],\n",
      "  [5,19,23,String.raw`\\frac{1}{625}`,],\n",
      "  [6,10,6,String.raw`1296`,],\n",
      "  [6,10,7,String.raw`216`,],\n",
      "  [6,10,8,String.raw`36`,],\n",
      "  [6,10,9,String.raw`6`,],\n",
      "  [6,10,11,String.raw`\\frac{1}{6}`,],\n",
      "  [6,10,12,String.raw`\\frac{1}{36}`,],\n",
      "  [6,10,13,String.raw`\\frac{1}{216}`,],\n",
      "  [6,10,14,String.raw`\\frac{1}{1296}`,],\n",
      "  [6,11,7,String.raw`1296`,],\n",
      "  [6,11,8,String.raw`216`,],\n",
      "  [6,11,9,String.raw`36`,],\n",
      "  [6,11,10,String.raw`6`,],\n",
      "  [6,11,12,String.raw`\\frac{1}{6}`,],\n",
      "  [6,11,13,String.raw`\\frac{1}{36}`,],\n",
      "  [6,11,14,String.raw`\\frac{1}{216}`,],\n",
      "  [6,11,15,String.raw`\\frac{1}{1296}`,],\n",
      "  [6,12,8,String.raw`1296`,],\n",
      "  [6,12,9,String.raw`216`,],\n",
      "  [6,12,10,String.raw`36`,],\n",
      "  [6,12,11,String.raw`6`,],\n",
      "  [6,12,13,String.raw`\\frac{1}{6}`,],\n",
      "  [6,12,14,String.raw`\\frac{1}{36}`,],\n",
      "  [6,12,15,String.raw`\\frac{1}{216}`,],\n",
      "  [6,12,16,String.raw`\\frac{1}{1296}`,],\n",
      "  [6,13,9,String.raw`1296`,],\n",
      "  [6,13,10,String.raw`216`,],\n",
      "  [6,13,11,String.raw`36`,],\n",
      "  [6,13,12,String.raw`6`,],\n",
      "  [6,13,14,String.raw`\\frac{1}{6}`,],\n",
      "  [6,13,15,String.raw`\\frac{1}{36}`,],\n",
      "  [6,13,16,String.raw`\\frac{1}{216}`,],\n",
      "  [6,13,17,String.raw`\\frac{1}{1296}`,],\n",
      "  [6,14,10,String.raw`1296`,],\n",
      "  [6,14,11,String.raw`216`,],\n",
      "  [6,14,12,String.raw`36`,],\n",
      "  [6,14,13,String.raw`6`,],\n",
      "  [6,14,15,String.raw`\\frac{1}{6}`,],\n",
      "  [6,14,16,String.raw`\\frac{1}{36}`,],\n",
      "  [6,14,17,String.raw`\\frac{1}{216}`,],\n",
      "  [6,14,18,String.raw`\\frac{1}{1296}`,],\n",
      "  [6,15,11,String.raw`1296`,],\n",
      "  [6,15,12,String.raw`216`,],\n",
      "  [6,15,13,String.raw`36`,],\n",
      "  [6,15,14,String.raw`6`,],\n",
      "  [6,15,16,String.raw`\\frac{1}{6}`,],\n",
      "  [6,15,17,String.raw`\\frac{1}{36}`,],\n",
      "  [6,15,18,String.raw`\\frac{1}{216}`,],\n",
      "  [6,15,19,String.raw`\\frac{1}{1296}`,],\n",
      "  [6,16,12,String.raw`1296`,],\n",
      "  [6,16,13,String.raw`216`,],\n",
      "  [6,16,14,String.raw`36`,],\n",
      "  [6,16,15,String.raw`6`,],\n",
      "  [6,16,17,String.raw`\\frac{1}{6}`,],\n",
      "  [6,16,18,String.raw`\\frac{1}{36}`,],\n",
      "  [6,16,19,String.raw`\\frac{1}{216}`,],\n",
      "  [6,16,20,String.raw`\\frac{1}{1296}`,],\n",
      "  [6,17,13,String.raw`1296`,],\n",
      "  [6,17,14,String.raw`216`,],\n",
      "  [6,17,15,String.raw`36`,],\n",
      "  [6,17,16,String.raw`6`,],\n",
      "  [6,17,18,String.raw`\\frac{1}{6}`,],\n",
      "  [6,17,19,String.raw`\\frac{1}{36}`,],\n",
      "  [6,17,20,String.raw`\\frac{1}{216}`,],\n",
      "  [6,17,21,String.raw`\\frac{1}{1296}`,],\n",
      "  [6,18,14,String.raw`1296`,],\n",
      "  [6,18,15,String.raw`216`,],\n",
      "  [6,18,16,String.raw`36`,],\n",
      "  [6,18,17,String.raw`6`,],\n",
      "  [6,18,19,String.raw`\\frac{1}{6}`,],\n",
      "  [6,18,20,String.raw`\\frac{1}{36}`,],\n",
      "  [6,18,21,String.raw`\\frac{1}{216}`,],\n",
      "  [6,18,22,String.raw`\\frac{1}{1296}`,],\n",
      "  [6,19,15,String.raw`1296`,],\n",
      "  [6,19,16,String.raw`216`,],\n",
      "  [6,19,17,String.raw`36`,],\n",
      "  [6,19,18,String.raw`6`,],\n",
      "  [6,19,20,String.raw`\\frac{1}{6}`,],\n",
      "  [6,19,21,String.raw`\\frac{1}{36}`,],\n",
      "  [6,19,22,String.raw`\\frac{1}{216}`,],\n",
      "  [6,19,23,String.raw`\\frac{1}{1296}`,],\n",
      "  [7,10,6,String.raw`2401`,],\n",
      "  [7,10,7,String.raw`343`,],\n",
      "  [7,10,8,String.raw`49`,],\n",
      "  [7,10,9,String.raw`7`,],\n",
      "  [7,10,11,String.raw`\\frac{1}{7}`,],\n",
      "  [7,10,12,String.raw`\\frac{1}{49}`,],\n",
      "  [7,10,13,String.raw`\\frac{1}{343}`,],\n",
      "  [7,10,14,String.raw`\\frac{1}{2401}`,],\n",
      "  [7,11,7,String.raw`2401`,],\n",
      "  [7,11,8,String.raw`343`,],\n",
      "  [7,11,9,String.raw`49`,],\n",
      "  [7,11,10,String.raw`7`,],\n",
      "  [7,11,12,String.raw`\\frac{1}{7}`,],\n",
      "  [7,11,13,String.raw`\\frac{1}{49}`,],\n",
      "  [7,11,14,String.raw`\\frac{1}{343}`,],\n",
      "  [7,11,15,String.raw`\\frac{1}{2401}`,],\n",
      "  [7,12,8,String.raw`2401`,],\n",
      "  [7,12,9,String.raw`343`,],\n",
      "  [7,12,10,String.raw`49`,],\n",
      "  [7,12,11,String.raw`7`,],\n",
      "  [7,12,13,String.raw`\\frac{1}{7}`,],\n",
      "  [7,12,14,String.raw`\\frac{1}{49}`,],\n",
      "  [7,12,15,String.raw`\\frac{1}{343}`,],\n",
      "  [7,12,16,String.raw`\\frac{1}{2401}`,],\n",
      "  [7,13,9,String.raw`2401`,],\n",
      "  [7,13,10,String.raw`343`,],\n",
      "  [7,13,11,String.raw`49`,],\n",
      "  [7,13,12,String.raw`7`,],\n",
      "  [7,13,14,String.raw`\\frac{1}{7}`,],\n",
      "  [7,13,15,String.raw`\\frac{1}{49}`,],\n",
      "  [7,13,16,String.raw`\\frac{1}{343}`,],\n",
      "  [7,13,17,String.raw`\\frac{1}{2401}`,],\n",
      "  [7,14,10,String.raw`2401`,],\n",
      "  [7,14,11,String.raw`343`,],\n",
      "  [7,14,12,String.raw`49`,],\n",
      "  [7,14,13,String.raw`7`,],\n",
      "  [7,14,15,String.raw`\\frac{1}{7}`,],\n",
      "  [7,14,16,String.raw`\\frac{1}{49}`,],\n",
      "  [7,14,17,String.raw`\\frac{1}{343}`,],\n",
      "  [7,14,18,String.raw`\\frac{1}{2401}`,],\n",
      "  [7,15,11,String.raw`2401`,],\n",
      "  [7,15,12,String.raw`343`,],\n",
      "  [7,15,13,String.raw`49`,],\n",
      "  [7,15,14,String.raw`7`,],\n",
      "  [7,15,16,String.raw`\\frac{1}{7}`,],\n",
      "  [7,15,17,String.raw`\\frac{1}{49}`,],\n",
      "  [7,15,18,String.raw`\\frac{1}{343}`,],\n",
      "  [7,15,19,String.raw`\\frac{1}{2401}`,],\n",
      "  [7,16,12,String.raw`2401`,],\n",
      "  [7,16,13,String.raw`343`,],\n",
      "  [7,16,14,String.raw`49`,],\n",
      "  [7,16,15,String.raw`7`,],\n",
      "  [7,16,17,String.raw`\\frac{1}{7}`,],\n",
      "  [7,16,18,String.raw`\\frac{1}{49}`,],\n",
      "  [7,16,19,String.raw`\\frac{1}{343}`,],\n",
      "  [7,16,20,String.raw`\\frac{1}{2401}`,],\n",
      "  [7,17,13,String.raw`2401`,],\n",
      "  [7,17,14,String.raw`343`,],\n",
      "  [7,17,15,String.raw`49`,],\n",
      "  [7,17,16,String.raw`7`,],\n",
      "  [7,17,18,String.raw`\\frac{1}{7}`,],\n",
      "  [7,17,19,String.raw`\\frac{1}{49}`,],\n",
      "  [7,17,20,String.raw`\\frac{1}{343}`,],\n",
      "  [7,17,21,String.raw`\\frac{1}{2401}`,],\n",
      "  [7,18,14,String.raw`2401`,],\n",
      "  [7,18,15,String.raw`343`,],\n",
      "  [7,18,16,String.raw`49`,],\n",
      "  [7,18,17,String.raw`7`,],\n",
      "  [7,18,19,String.raw`\\frac{1}{7}`,],\n",
      "  [7,18,20,String.raw`\\frac{1}{49}`,],\n",
      "  [7,18,21,String.raw`\\frac{1}{343}`,],\n",
      "  [7,18,22,String.raw`\\frac{1}{2401}`,],\n",
      "  [7,19,15,String.raw`2401`,],\n",
      "  [7,19,16,String.raw`343`,],\n",
      "  [7,19,17,String.raw`49`,],\n",
      "  [7,19,18,String.raw`7`,],\n",
      "  [7,19,20,String.raw`\\frac{1}{7}`,],\n",
      "  [7,19,21,String.raw`\\frac{1}{49}`,],\n",
      "  [7,19,22,String.raw`\\frac{1}{343}`,],\n",
      "  [7,19,23,String.raw`\\frac{1}{2401}`,],\n",
      "  [8,10,6,String.raw`4096`,],\n",
      "  [8,10,7,String.raw`512`,],\n",
      "  [8,10,8,String.raw`64`,],\n",
      "  [8,10,9,String.raw`8`,],\n",
      "  [8,10,11,String.raw`\\frac{1}{8}`,],\n",
      "  [8,10,12,String.raw`\\frac{1}{64}`,],\n",
      "  [8,10,13,String.raw`\\frac{1}{512}`,],\n",
      "  [8,10,14,String.raw`\\frac{1}{4096}`,],\n",
      "  [8,11,7,String.raw`4096`,],\n",
      "  [8,11,8,String.raw`512`,],\n",
      "  [8,11,9,String.raw`64`,],\n",
      "  [8,11,10,String.raw`8`,],\n",
      "  [8,11,12,String.raw`\\frac{1}{8}`,],\n",
      "  [8,11,13,String.raw`\\frac{1}{64}`,],\n",
      "  [8,11,14,String.raw`\\frac{1}{512}`,],\n",
      "  [8,11,15,String.raw`\\frac{1}{4096}`,],\n",
      "  [8,12,8,String.raw`4096`,],\n",
      "  [8,12,9,String.raw`512`,],\n",
      "  [8,12,10,String.raw`64`,],\n",
      "  [8,12,11,String.raw`8`,],\n",
      "  [8,12,13,String.raw`\\frac{1}{8}`,],\n",
      "  [8,12,14,String.raw`\\frac{1}{64}`,],\n",
      "  [8,12,15,String.raw`\\frac{1}{512}`,],\n",
      "  [8,12,16,String.raw`\\frac{1}{4096}`,],\n",
      "  [8,13,9,String.raw`4096`,],\n",
      "  [8,13,10,String.raw`512`,],\n",
      "  [8,13,11,String.raw`64`,],\n",
      "  [8,13,12,String.raw`8`,],\n",
      "  [8,13,14,String.raw`\\frac{1}{8}`,],\n",
      "  [8,13,15,String.raw`\\frac{1}{64}`,],\n",
      "  [8,13,16,String.raw`\\frac{1}{512}`,],\n",
      "  [8,13,17,String.raw`\\frac{1}{4096}`,],\n",
      "  [8,14,10,String.raw`4096`,],\n",
      "  [8,14,11,String.raw`512`,],\n",
      "  [8,14,12,String.raw`64`,],\n",
      "  [8,14,13,String.raw`8`,],\n",
      "  [8,14,15,String.raw`\\frac{1}{8}`,],\n",
      "  [8,14,16,String.raw`\\frac{1}{64}`,],\n",
      "  [8,14,17,String.raw`\\frac{1}{512}`,],\n",
      "  [8,14,18,String.raw`\\frac{1}{4096}`,],\n",
      "  [8,15,11,String.raw`4096`,],\n",
      "  [8,15,12,String.raw`512`,],\n",
      "  [8,15,13,String.raw`64`,],\n",
      "  [8,15,14,String.raw`8`,],\n",
      "  [8,15,16,String.raw`\\frac{1}{8}`,],\n",
      "  [8,15,17,String.raw`\\frac{1}{64}`,],\n",
      "  [8,15,18,String.raw`\\frac{1}{512}`,],\n",
      "  [8,15,19,String.raw`\\frac{1}{4096}`,],\n",
      "  [8,16,12,String.raw`4096`,],\n",
      "  [8,16,13,String.raw`512`,],\n",
      "  [8,16,14,String.raw`64`,],\n",
      "  [8,16,15,String.raw`8`,],\n",
      "  [8,16,17,String.raw`\\frac{1}{8}`,],\n",
      "  [8,16,18,String.raw`\\frac{1}{64}`,],\n",
      "  [8,16,19,String.raw`\\frac{1}{512}`,],\n",
      "  [8,16,20,String.raw`\\frac{1}{4096}`,],\n",
      "  [8,17,13,String.raw`4096`,],\n",
      "  [8,17,14,String.raw`512`,],\n",
      "  [8,17,15,String.raw`64`,],\n",
      "  [8,17,16,String.raw`8`,],\n",
      "  [8,17,18,String.raw`\\frac{1}{8}`,],\n",
      "  [8,17,19,String.raw`\\frac{1}{64}`,],\n",
      "  [8,17,20,String.raw`\\frac{1}{512}`,],\n",
      "  [8,17,21,String.raw`\\frac{1}{4096}`,],\n",
      "  [8,18,14,String.raw`4096`,],\n",
      "  [8,18,15,String.raw`512`,],\n",
      "  [8,18,16,String.raw`64`,],\n",
      "  [8,18,17,String.raw`8`,],\n",
      "  [8,18,19,String.raw`\\frac{1}{8}`,],\n",
      "  [8,18,20,String.raw`\\frac{1}{64}`,],\n",
      "  [8,18,21,String.raw`\\frac{1}{512}`,],\n",
      "  [8,18,22,String.raw`\\frac{1}{4096}`,],\n",
      "  [8,19,15,String.raw`4096`,],\n",
      "  [8,19,16,String.raw`512`,],\n",
      "  [8,19,17,String.raw`64`,],\n",
      "  [8,19,18,String.raw`8`,],\n",
      "  [8,19,20,String.raw`\\frac{1}{8}`,],\n",
      "  [8,19,21,String.raw`\\frac{1}{64}`,],\n",
      "  [8,19,22,String.raw`\\frac{1}{512}`,],\n",
      "  [8,19,23,String.raw`\\frac{1}{4096}`,],\n",
      "  [9,10,6,String.raw`6561`,],\n",
      "  [9,10,7,String.raw`729`,],\n",
      "  [9,10,8,String.raw`81`,],\n",
      "  [9,10,9,String.raw`9`,],\n",
      "  [9,10,11,String.raw`\\frac{1}{9}`,],\n",
      "  [9,10,12,String.raw`\\frac{1}{81}`,],\n",
      "  [9,10,13,String.raw`\\frac{1}{729}`,],\n",
      "  [9,10,14,String.raw`\\frac{1}{6561}`,],\n",
      "  [9,11,7,String.raw`6561`,],\n",
      "  [9,11,8,String.raw`729`,],\n",
      "  [9,11,9,String.raw`81`,],\n",
      "  [9,11,10,String.raw`9`,],\n",
      "  [9,11,12,String.raw`\\frac{1}{9}`,],\n",
      "  [9,11,13,String.raw`\\frac{1}{81}`,],\n",
      "  [9,11,14,String.raw`\\frac{1}{729}`,],\n",
      "  [9,11,15,String.raw`\\frac{1}{6561}`,],\n",
      "  [9,12,8,String.raw`6561`,],\n",
      "  [9,12,9,String.raw`729`,],\n",
      "  [9,12,10,String.raw`81`,],\n",
      "  [9,12,11,String.raw`9`,],\n",
      "  [9,12,13,String.raw`\\frac{1}{9}`,],\n",
      "  [9,12,14,String.raw`\\frac{1}{81}`,],\n",
      "  [9,12,15,String.raw`\\frac{1}{729}`,],\n",
      "  [9,12,16,String.raw`\\frac{1}{6561}`,],\n",
      "  [9,13,9,String.raw`6561`,],\n",
      "  [9,13,10,String.raw`729`,],\n",
      "  [9,13,11,String.raw`81`,],\n",
      "  [9,13,12,String.raw`9`,],\n",
      "  [9,13,14,String.raw`\\frac{1}{9}`,],\n",
      "  [9,13,15,String.raw`\\frac{1}{81}`,],\n",
      "  [9,13,16,String.raw`\\frac{1}{729}`,],\n",
      "  [9,13,17,String.raw`\\frac{1}{6561}`,],\n",
      "  [9,14,10,String.raw`6561`,],\n",
      "  [9,14,11,String.raw`729`,],\n",
      "  [9,14,12,String.raw`81`,],\n",
      "  [9,14,13,String.raw`9`,],\n",
      "  [9,14,15,String.raw`\\frac{1}{9}`,],\n",
      "  [9,14,16,String.raw`\\frac{1}{81}`,],\n",
      "  [9,14,17,String.raw`\\frac{1}{729}`,],\n",
      "  [9,14,18,String.raw`\\frac{1}{6561}`,],\n",
      "  [9,15,11,String.raw`6561`,],\n",
      "  [9,15,12,String.raw`729`,],\n",
      "  [9,15,13,String.raw`81`,],\n",
      "  [9,15,14,String.raw`9`,],\n",
      "  [9,15,16,String.raw`\\frac{1}{9}`,],\n",
      "  [9,15,17,String.raw`\\frac{1}{81}`,],\n",
      "  [9,15,18,String.raw`\\frac{1}{729}`,],\n",
      "  [9,15,19,String.raw`\\frac{1}{6561}`,],\n",
      "  [9,16,12,String.raw`6561`,],\n",
      "  [9,16,13,String.raw`729`,],\n",
      "  [9,16,14,String.raw`81`,],\n",
      "  [9,16,15,String.raw`9`,],\n",
      "  [9,16,17,String.raw`\\frac{1}{9}`,],\n",
      "  [9,16,18,String.raw`\\frac{1}{81}`,],\n",
      "  [9,16,19,String.raw`\\frac{1}{729}`,],\n",
      "  [9,16,20,String.raw`\\frac{1}{6561}`,],\n",
      "  [9,17,13,String.raw`6561`,],\n",
      "  [9,17,14,String.raw`729`,],\n",
      "  [9,17,15,String.raw`81`,],\n",
      "  [9,17,16,String.raw`9`,],\n",
      "  [9,17,18,String.raw`\\frac{1}{9}`,],\n",
      "  [9,17,19,String.raw`\\frac{1}{81}`,],\n",
      "  [9,17,20,String.raw`\\frac{1}{729}`,],\n",
      "  [9,17,21,String.raw`\\frac{1}{6561}`,],\n",
      "  [9,18,14,String.raw`6561`,],\n",
      "  [9,18,15,String.raw`729`,],\n",
      "  [9,18,16,String.raw`81`,],\n",
      "  [9,18,17,String.raw`9`,],\n",
      "  [9,18,19,String.raw`\\frac{1}{9}`,],\n",
      "  [9,18,20,String.raw`\\frac{1}{81}`,],\n",
      "  [9,18,21,String.raw`\\frac{1}{729}`,],\n",
      "  [9,18,22,String.raw`\\frac{1}{6561}`,],\n",
      "  [9,19,15,String.raw`6561`,],\n",
      "  [9,19,16,String.raw`729`,],\n",
      "  [9,19,17,String.raw`81`,],\n",
      "  [9,19,18,String.raw`9`,],\n",
      "  [9,19,20,String.raw`\\frac{1}{9}`,],\n",
      "  [9,19,21,String.raw`\\frac{1}{81}`,],\n",
      "  [9,19,22,String.raw`\\frac{1}{729}`,],\n",
      "  [9,19,23,String.raw`\\frac{1}{6561}`,],\n",
      "];\n",
      "//random_seed=0;\n",
      "[a,b,c,sol] = params[random_seed % params.length];\n"
     ]
    }
   ],
   "source": [
    "print(\"if (typeof params === 'undefined') { let params,a,b,c,sol; }\")\n",
    "print(\"params = [\")\n",
    "for _a in range(2,5):\n",
    "    for _b in range(1,6):\n",
    "        for _s in range(5):\n",
    "            for _s in range(5):\n",
    "                for _s in range(5):\n",
    "            if _c != 0:\n",
    "                _c = _b+_c\n",
    "                sol =_prob.subs(a,_a).subs(b,_b).subs(c,_c).doit()\n",
    "                print(f'  [{_a},{_b},{_c},String.raw`{sy.latex(sol)}`,],')\n",
    "print(\"];\")\n",
    "print(\"//random_seed=0;\")\n",
    "print(\"[a,b,c,sol] = params[random_seed % params.length];\")"
   ]
  },
  {
   "cell_type": "code",
   "execution_count": 95,
   "id": "34d5898e-7ade-491f-95c1-46d68ac0ab2a",
   "metadata": {},
   "outputs": [
    {
     "data": {
      "text/latex": [
       "$\\displaystyle \\int\\limits_{0}^{\\frac{1}{a}} x \\sqrt{- a^{2} x^{2} + 1}\\, dx$"
      ],
      "text/plain": [
       "Integral(x*sqrt(-a**2*x**2 + 1), (x, 0, 1/a))"
      ]
     },
     "execution_count": 95,
     "metadata": {},
     "output_type": "execute_result"
    }
   ],
   "source": [
    "_prob = sy.Integral(x*sy.sqrt(1 - a**2 * x**2), (x, 0, 1/a))\n",
    "_prob"
   ]
  },
  {
   "cell_type": "code",
   "execution_count": 285,
   "id": "191f4abd-0b88-4e09-9335-8d1e921aa662",
   "metadata": {},
   "outputs": [
    {
     "data": {
      "text/latex": [
       "$\\displaystyle \\begin{cases} \\frac{1}{3 a^{2}} & \\text{for}\\: a > -\\infty \\wedge a < \\infty \\wedge a \\neq 0 \\\\\\frac{1}{2 a^{2}} & \\text{otherwise} \\end{cases}$"
      ],
      "text/plain": [
       "Piecewise((1/(3*a**2), (a > -oo) & (a < oo) & Ne(a, 0)), (1/(2*a**2), True))"
      ]
     },
     "execution_count": 285,
     "metadata": {},
     "output_type": "execute_result"
    }
   ],
   "source": [
    "_prob.doit()"
   ]
  },
  {
   "cell_type": "code",
   "execution_count": 295,
   "id": "da1be6fb-15ba-4342-adc4-9a99a435754c",
   "metadata": {},
   "outputs": [
    {
     "data": {
      "text/latex": [
       "$\\displaystyle \\int\\limits_{0}^{\\frac{1}{2}} x \\sqrt{1 - 4 x^{2}}\\, dx$"
      ],
      "text/plain": [
       "Integral(x*sqrt(1 - 4*x**2), (x, 0, 1/2))"
      ]
     },
     "execution_count": 295,
     "metadata": {},
     "output_type": "execute_result"
    }
   ],
   "source": [
    "_prob.subs(a,2)"
   ]
  },
  {
   "cell_type": "code",
   "execution_count": 296,
   "id": "06e06c7d-80ae-477c-8e7d-b3d310ce2081",
   "metadata": {},
   "outputs": [
    {
     "data": {
      "text/latex": [
       "$\\displaystyle \\frac{1}{12}$"
      ],
      "text/plain": [
       "1/12"
      ]
     },
     "execution_count": 296,
     "metadata": {},
     "output_type": "execute_result"
    }
   ],
   "source": [
    "_prob.subs(a,2).doit()"
   ]
  },
  {
   "cell_type": "code",
   "execution_count": 298,
   "id": "3694c1db-f955-49b6-9a0b-8fbf724813df",
   "metadata": {},
   "outputs": [
    {
     "name": "stdout",
     "output_type": "stream",
     "text": [
      "if (typeof parameters === 'undefined') { let parameters,problem,solution; }\n",
      "parameters = [\n",
      "  [String.raw`\\int\\limits_{0}^{1} x \\sqrt{1 - x^{2}}\\, dx`,String.raw`\\frac{1}{3}`],\n",
      "  [String.raw`\\int\\limits_{0}^{\\frac{1}{2}} x \\sqrt{1 - 4 x^{2}}\\, dx`,String.raw`\\frac{1}{12}`],\n",
      "  [String.raw`\\int\\limits_{0}^{\\frac{1}{3}} x \\sqrt{1 - 9 x^{2}}\\, dx`,String.raw`\\frac{1}{27}`],\n",
      "  [String.raw`\\int\\limits_{0}^{\\frac{1}{4}} x \\sqrt{1 - 16 x^{2}}\\, dx`,String.raw`\\frac{1}{48}`],\n",
      "  [String.raw`\\int\\limits_{0}^{\\frac{1}{5}} x \\sqrt{1 - 25 x^{2}}\\, dx`,String.raw`\\frac{1}{75}`],\n",
      "  [String.raw`\\int\\limits_{0}^{\\frac{1}{6}} x \\sqrt{1 - 36 x^{2}}\\, dx`,String.raw`\\frac{1}{108}`],\n",
      "  [String.raw`\\int\\limits_{0}^{\\frac{1}{7}} x \\sqrt{1 - 49 x^{2}}\\, dx`,String.raw`\\frac{1}{147}`],\n",
      "  [String.raw`\\int\\limits_{0}^{\\frac{1}{8}} x \\sqrt{1 - 64 x^{2}}\\, dx`,String.raw`\\frac{1}{192}`],\n",
      "  [String.raw`\\int\\limits_{0}^{\\frac{1}{9}} x \\sqrt{1 - 81 x^{2}}\\, dx`,String.raw`\\frac{1}{243}`],\n",
      "];\n",
      "//random_seed=0;\n",
      "[problem, solution] = parameters[random_seed % parameters.length];\n"
     ]
    }
   ],
   "source": [
    "print(\"if (typeof parameters === 'undefined') { let parameters,problem,solution; }\")\n",
    "print(\"parameters = [\")\n",
    "for _a in range(1,10):\n",
    "    prob=_prob.subs(a, _a)\n",
    "    sol = prob.doit()\n",
    "    sol2 = sy.ln(internal2)\n",
    "    print(f'  [String.raw`{sy.latex(prob)}`,String.raw`{sy.latex(sol)}`],')\n",
    "print(\"];\")\n",
    "print(\"//random_seed=0;\")\n",
    "print(\"[problem, solution] = parameters[random_seed % parameters.length];\")"
   ]
  },
  {
   "cell_type": "code",
   "execution_count": 266,
   "id": "8fae72cd-8455-45dd-9101-324d77c6ea63",
   "metadata": {},
   "outputs": [
    {
     "name": "stdout",
     "output_type": "stream",
     "text": [
      "\\log{\\left(\\frac{a + x + \\sqrt{b^{2} + \\left(a + x\\right)^{2}}}{b} \\right)}\n"
     ]
    },
    {
     "data": {
      "text/latex": [
       "$\\displaystyle \\log{\\left(\\frac{a + x + \\sqrt{b^{2} + \\left(a + x\\right)^{2}}}{b} \\right)}$"
      ],
      "text/plain": [
       "log((a + x + sqrt(b**2 + (a + x)**2))/b)"
      ]
     },
     "execution_count": 266,
     "metadata": {},
     "output_type": "execute_result"
    }
   ],
   "source": [
    "sol=_ex.doit().simplify()\n",
    "print(sy.latex(sol))\n",
    "sol"
   ]
  },
  {
   "cell_type": "code",
   "execution_count": 245,
   "id": "e4dc51e8-a4d6-4d6e-912c-9f102722baf3",
   "metadata": {},
   "outputs": [
    {
     "name": "stdout",
     "output_type": "stream",
     "text": [
      "\\frac{\\pi a^{2}}{4 b}\n"
     ]
    },
    {
     "data": {
      "text/latex": [
       "$\\displaystyle \\frac{\\pi a^{2}}{4 b}$"
      ],
      "text/plain": [
       "pi*a**2/(4*b)"
      ]
     },
     "execution_count": 245,
     "metadata": {},
     "output_type": "execute_result"
    }
   ],
   "source": [
    "sol=_ex.doit().simplify()\n",
    "print(sy.latex(sol))\n",
    "sol"
   ]
  },
  {
   "cell_type": "code",
   "execution_count": 282,
   "id": "b432102e-0cd9-4a28-bb43-5b813f0a2a09",
   "metadata": {
    "collapsed": true,
    "jupyter": {
     "outputs_hidden": true
    },
    "tags": []
   },
   "outputs": [
    {
     "name": "stdout",
     "output_type": "stream",
     "text": [
      "if (typeof parameters === 'undefined') { let parameters,problem,solution; }\n",
      "parameters = [\n",
      "  [String.raw`\\int \\frac{1}{\\sqrt{x^{2} + 2 x + 2}}\\, dx`,String.raw`\\log{\\left(x + \\sqrt{x^{2} + 2 x + 2} + 1 \\right)} + C`],\n",
      "  [String.raw`\\int \\frac{1}{\\sqrt{x^{2} + 2 x + 5}}\\, dx`,String.raw`\\log{\\left(\\frac{x + \\sqrt{x^{2} + 2 x + 5} + 1}{2} \\right)} + C_1 = \\log{\\left(x + \\sqrt{x^{2} + 2 x + 5} + 1 \\right)} + C`],\n",
      "  [String.raw`\\int \\frac{1}{\\sqrt{x^{2} + 2 x + 10}}\\, dx`,String.raw`\\log{\\left(\\frac{x + \\sqrt{x^{2} + 2 x + 10} + 1}{3} \\right)} + C_1 = \\log{\\left(x + \\sqrt{x^{2} + 2 x + 10} + 1 \\right)} + C`],\n",
      "  [String.raw`\\int \\frac{1}{\\sqrt{x^{2} + 2 x + 17}}\\, dx`,String.raw`\\log{\\left(\\frac{x + \\sqrt{x^{2} + 2 x + 17} + 1}{4} \\right)} + C_1 = \\log{\\left(x + \\sqrt{x^{2} + 2 x + 17} + 1 \\right)} + C`],\n",
      "  [String.raw`\\int \\frac{1}{\\sqrt{x^{2} + 2 x + 26}}\\, dx`,String.raw`\\log{\\left(\\frac{x + \\sqrt{x^{2} + 2 x + 26} + 1}{5} \\right)} + C_1 = \\log{\\left(x + \\sqrt{x^{2} + 2 x + 26} + 1 \\right)} + C`],\n",
      "  [String.raw`\\int \\frac{1}{\\sqrt{x^{2} + 2 x + 37}}\\, dx`,String.raw`\\log{\\left(\\frac{x + \\sqrt{x^{2} + 2 x + 37} + 1}{6} \\right)} + C_1 = \\log{\\left(x + \\sqrt{x^{2} + 2 x + 37} + 1 \\right)} + C`],\n",
      "  [String.raw`\\int \\frac{1}{\\sqrt{x^{2} + 2 x + 50}}\\, dx`,String.raw`\\log{\\left(\\frac{x + \\sqrt{x^{2} + 2 x + 50} + 1}{7} \\right)} + C_1 = \\log{\\left(x + \\sqrt{x^{2} + 2 x + 50} + 1 \\right)} + C`],\n",
      "  [String.raw`\\int \\frac{1}{\\sqrt{x^{2} + 2 x + 65}}\\, dx`,String.raw`\\log{\\left(\\frac{x + \\sqrt{x^{2} + 2 x + 65} + 1}{8} \\right)} + C_1 = \\log{\\left(x + \\sqrt{x^{2} + 2 x + 65} + 1 \\right)} + C`],\n",
      "  [String.raw`\\int \\frac{1}{\\sqrt{x^{2} + 2 x + 82}}\\, dx`,String.raw`\\log{\\left(\\frac{x + \\sqrt{x^{2} + 2 x + 82} + 1}{9} \\right)} + C_1 = \\log{\\left(x + \\sqrt{x^{2} + 2 x + 82} + 1 \\right)} + C`],\n",
      "  [String.raw`\\int \\frac{1}{\\sqrt{x^{2} + 4 x + 5}}\\, dx`,String.raw`\\log{\\left(x + \\sqrt{x^{2} + 4 x + 5} + 2 \\right)} + C`],\n",
      "  [String.raw`\\int \\frac{1}{\\sqrt{x^{2} + 4 x + 8}}\\, dx`,String.raw`\\log{\\left(\\frac{x + \\sqrt{x^{2} + 4 x + 8} + 2}{2} \\right)} + C_1 = \\log{\\left(x + \\sqrt{x^{2} + 4 x + 8} + 2 \\right)} + C`],\n",
      "  [String.raw`\\int \\frac{1}{\\sqrt{x^{2} + 4 x + 13}}\\, dx`,String.raw`\\log{\\left(\\frac{x + \\sqrt{x^{2} + 4 x + 13} + 2}{3} \\right)} + C_1 = \\log{\\left(x + \\sqrt{x^{2} + 4 x + 13} + 2 \\right)} + C`],\n",
      "  [String.raw`\\int \\frac{1}{\\sqrt{x^{2} + 4 x + 20}}\\, dx`,String.raw`\\log{\\left(\\frac{x + \\sqrt{x^{2} + 4 x + 20} + 2}{4} \\right)} + C_1 = \\log{\\left(x + \\sqrt{x^{2} + 4 x + 20} + 2 \\right)} + C`],\n",
      "  [String.raw`\\int \\frac{1}{\\sqrt{x^{2} + 4 x + 29}}\\, dx`,String.raw`\\log{\\left(\\frac{x + \\sqrt{x^{2} + 4 x + 29} + 2}{5} \\right)} + C_1 = \\log{\\left(x + \\sqrt{x^{2} + 4 x + 29} + 2 \\right)} + C`],\n",
      "  [String.raw`\\int \\frac{1}{\\sqrt{x^{2} + 4 x + 40}}\\, dx`,String.raw`\\log{\\left(\\frac{x + \\sqrt{x^{2} + 4 x + 40} + 2}{6} \\right)} + C_1 = \\log{\\left(x + \\sqrt{x^{2} + 4 x + 40} + 2 \\right)} + C`],\n",
      "  [String.raw`\\int \\frac{1}{\\sqrt{x^{2} + 4 x + 53}}\\, dx`,String.raw`\\log{\\left(\\frac{x + \\sqrt{x^{2} + 4 x + 53} + 2}{7} \\right)} + C_1 = \\log{\\left(x + \\sqrt{x^{2} + 4 x + 53} + 2 \\right)} + C`],\n",
      "  [String.raw`\\int \\frac{1}{\\sqrt{x^{2} + 4 x + 68}}\\, dx`,String.raw`\\log{\\left(\\frac{x + \\sqrt{x^{2} + 4 x + 68} + 2}{8} \\right)} + C_1 = \\log{\\left(x + \\sqrt{x^{2} + 4 x + 68} + 2 \\right)} + C`],\n",
      "  [String.raw`\\int \\frac{1}{\\sqrt{x^{2} + 4 x + 85}}\\, dx`,String.raw`\\log{\\left(\\frac{x + \\sqrt{x^{2} + 4 x + 85} + 2}{9} \\right)} + C_1 = \\log{\\left(x + \\sqrt{x^{2} + 4 x + 85} + 2 \\right)} + C`],\n",
      "  [String.raw`\\int \\frac{1}{\\sqrt{x^{2} + 6 x + 10}}\\, dx`,String.raw`\\log{\\left(x + \\sqrt{x^{2} + 6 x + 10} + 3 \\right)} + C`],\n",
      "  [String.raw`\\int \\frac{1}{\\sqrt{x^{2} + 6 x + 13}}\\, dx`,String.raw`\\log{\\left(\\frac{x + \\sqrt{x^{2} + 6 x + 13} + 3}{2} \\right)} + C_1 = \\log{\\left(x + \\sqrt{x^{2} + 6 x + 13} + 3 \\right)} + C`],\n",
      "  [String.raw`\\int \\frac{1}{\\sqrt{x^{2} + 6 x + 18}}\\, dx`,String.raw`\\log{\\left(\\frac{x + \\sqrt{x^{2} + 6 x + 18} + 3}{3} \\right)} + C_1 = \\log{\\left(x + \\sqrt{x^{2} + 6 x + 18} + 3 \\right)} + C`],\n",
      "  [String.raw`\\int \\frac{1}{\\sqrt{x^{2} + 6 x + 25}}\\, dx`,String.raw`\\log{\\left(\\frac{x + \\sqrt{x^{2} + 6 x + 25} + 3}{4} \\right)} + C_1 = \\log{\\left(x + \\sqrt{x^{2} + 6 x + 25} + 3 \\right)} + C`],\n",
      "  [String.raw`\\int \\frac{1}{\\sqrt{x^{2} + 6 x + 34}}\\, dx`,String.raw`\\log{\\left(\\frac{x + \\sqrt{x^{2} + 6 x + 34} + 3}{5} \\right)} + C_1 = \\log{\\left(x + \\sqrt{x^{2} + 6 x + 34} + 3 \\right)} + C`],\n",
      "  [String.raw`\\int \\frac{1}{\\sqrt{x^{2} + 6 x + 45}}\\, dx`,String.raw`\\log{\\left(\\frac{x + \\sqrt{x^{2} + 6 x + 45} + 3}{6} \\right)} + C_1 = \\log{\\left(x + \\sqrt{x^{2} + 6 x + 45} + 3 \\right)} + C`],\n",
      "  [String.raw`\\int \\frac{1}{\\sqrt{x^{2} + 6 x + 58}}\\, dx`,String.raw`\\log{\\left(\\frac{x + \\sqrt{x^{2} + 6 x + 58} + 3}{7} \\right)} + C_1 = \\log{\\left(x + \\sqrt{x^{2} + 6 x + 58} + 3 \\right)} + C`],\n",
      "  [String.raw`\\int \\frac{1}{\\sqrt{x^{2} + 6 x + 73}}\\, dx`,String.raw`\\log{\\left(\\frac{x + \\sqrt{x^{2} + 6 x + 73} + 3}{8} \\right)} + C_1 = \\log{\\left(x + \\sqrt{x^{2} + 6 x + 73} + 3 \\right)} + C`],\n",
      "  [String.raw`\\int \\frac{1}{\\sqrt{x^{2} + 6 x + 90}}\\, dx`,String.raw`\\log{\\left(\\frac{x + \\sqrt{x^{2} + 6 x + 90} + 3}{9} \\right)} + C_1 = \\log{\\left(x + \\sqrt{x^{2} + 6 x + 90} + 3 \\right)} + C`],\n",
      "  [String.raw`\\int \\frac{1}{\\sqrt{x^{2} + 8 x + 17}}\\, dx`,String.raw`\\log{\\left(x + \\sqrt{x^{2} + 8 x + 17} + 4 \\right)} + C`],\n",
      "  [String.raw`\\int \\frac{1}{\\sqrt{x^{2} + 8 x + 20}}\\, dx`,String.raw`\\log{\\left(\\frac{x + \\sqrt{x^{2} + 8 x + 20} + 4}{2} \\right)} + C_1 = \\log{\\left(x + \\sqrt{x^{2} + 8 x + 20} + 4 \\right)} + C`],\n",
      "  [String.raw`\\int \\frac{1}{\\sqrt{x^{2} + 8 x + 25}}\\, dx`,String.raw`\\log{\\left(\\frac{x + \\sqrt{x^{2} + 8 x + 25} + 4}{3} \\right)} + C_1 = \\log{\\left(x + \\sqrt{x^{2} + 8 x + 25} + 4 \\right)} + C`],\n",
      "  [String.raw`\\int \\frac{1}{\\sqrt{x^{2} + 8 x + 32}}\\, dx`,String.raw`\\log{\\left(\\frac{x + \\sqrt{x^{2} + 8 x + 32} + 4}{4} \\right)} + C_1 = \\log{\\left(x + \\sqrt{x^{2} + 8 x + 32} + 4 \\right)} + C`],\n",
      "  [String.raw`\\int \\frac{1}{\\sqrt{x^{2} + 8 x + 41}}\\, dx`,String.raw`\\log{\\left(\\frac{x + \\sqrt{x^{2} + 8 x + 41} + 4}{5} \\right)} + C_1 = \\log{\\left(x + \\sqrt{x^{2} + 8 x + 41} + 4 \\right)} + C`],\n",
      "  [String.raw`\\int \\frac{1}{\\sqrt{x^{2} + 8 x + 52}}\\, dx`,String.raw`\\log{\\left(\\frac{x + \\sqrt{x^{2} + 8 x + 52} + 4}{6} \\right)} + C_1 = \\log{\\left(x + \\sqrt{x^{2} + 8 x + 52} + 4 \\right)} + C`],\n",
      "  [String.raw`\\int \\frac{1}{\\sqrt{x^{2} + 8 x + 65}}\\, dx`,String.raw`\\log{\\left(\\frac{x + \\sqrt{x^{2} + 8 x + 65} + 4}{7} \\right)} + C_1 = \\log{\\left(x + \\sqrt{x^{2} + 8 x + 65} + 4 \\right)} + C`],\n",
      "  [String.raw`\\int \\frac{1}{\\sqrt{x^{2} + 8 x + 80}}\\, dx`,String.raw`\\log{\\left(\\frac{x + \\sqrt{x^{2} + 8 x + 80} + 4}{8} \\right)} + C_1 = \\log{\\left(x + \\sqrt{x^{2} + 8 x + 80} + 4 \\right)} + C`],\n",
      "  [String.raw`\\int \\frac{1}{\\sqrt{x^{2} + 8 x + 97}}\\, dx`,String.raw`\\log{\\left(\\frac{x + \\sqrt{x^{2} + 8 x + 97} + 4}{9} \\right)} + C_1 = \\log{\\left(x + \\sqrt{x^{2} + 8 x + 97} + 4 \\right)} + C`],\n",
      "  [String.raw`\\int \\frac{1}{\\sqrt{x^{2} + 10 x + 26}}\\, dx`,String.raw`\\log{\\left(x + \\sqrt{x^{2} + 10 x + 26} + 5 \\right)} + C`],\n",
      "  [String.raw`\\int \\frac{1}{\\sqrt{x^{2} + 10 x + 29}}\\, dx`,String.raw`\\log{\\left(\\frac{x + \\sqrt{x^{2} + 10 x + 29} + 5}{2} \\right)} + C_1 = \\log{\\left(x + \\sqrt{x^{2} + 10 x + 29} + 5 \\right)} + C`],\n",
      "  [String.raw`\\int \\frac{1}{\\sqrt{x^{2} + 10 x + 34}}\\, dx`,String.raw`\\log{\\left(\\frac{x + \\sqrt{x^{2} + 10 x + 34} + 5}{3} \\right)} + C_1 = \\log{\\left(x + \\sqrt{x^{2} + 10 x + 34} + 5 \\right)} + C`],\n",
      "  [String.raw`\\int \\frac{1}{\\sqrt{x^{2} + 10 x + 41}}\\, dx`,String.raw`\\log{\\left(\\frac{x + \\sqrt{x^{2} + 10 x + 41} + 5}{4} \\right)} + C_1 = \\log{\\left(x + \\sqrt{x^{2} + 10 x + 41} + 5 \\right)} + C`],\n",
      "  [String.raw`\\int \\frac{1}{\\sqrt{x^{2} + 10 x + 50}}\\, dx`,String.raw`\\log{\\left(\\frac{x + \\sqrt{x^{2} + 10 x + 50} + 5}{5} \\right)} + C_1 = \\log{\\left(x + \\sqrt{x^{2} + 10 x + 50} + 5 \\right)} + C`],\n",
      "  [String.raw`\\int \\frac{1}{\\sqrt{x^{2} + 10 x + 61}}\\, dx`,String.raw`\\log{\\left(\\frac{x + \\sqrt{x^{2} + 10 x + 61} + 5}{6} \\right)} + C_1 = \\log{\\left(x + \\sqrt{x^{2} + 10 x + 61} + 5 \\right)} + C`],\n",
      "  [String.raw`\\int \\frac{1}{\\sqrt{x^{2} + 10 x + 74}}\\, dx`,String.raw`\\log{\\left(\\frac{x + \\sqrt{x^{2} + 10 x + 74} + 5}{7} \\right)} + C_1 = \\log{\\left(x + \\sqrt{x^{2} + 10 x + 74} + 5 \\right)} + C`],\n",
      "  [String.raw`\\int \\frac{1}{\\sqrt{x^{2} + 10 x + 89}}\\, dx`,String.raw`\\log{\\left(\\frac{x + \\sqrt{x^{2} + 10 x + 89} + 5}{8} \\right)} + C_1 = \\log{\\left(x + \\sqrt{x^{2} + 10 x + 89} + 5 \\right)} + C`],\n",
      "  [String.raw`\\int \\frac{1}{\\sqrt{x^{2} + 10 x + 106}}\\, dx`,String.raw`\\log{\\left(\\frac{x + \\sqrt{x^{2} + 10 x + 106} + 5}{9} \\right)} + C_1 = \\log{\\left(x + \\sqrt{x^{2} + 10 x + 106} + 5 \\right)} + C`],\n",
      "  [String.raw`\\int \\frac{1}{\\sqrt{x^{2} + 12 x + 37}}\\, dx`,String.raw`\\log{\\left(x + \\sqrt{x^{2} + 12 x + 37} + 6 \\right)} + C`],\n",
      "  [String.raw`\\int \\frac{1}{\\sqrt{x^{2} + 12 x + 40}}\\, dx`,String.raw`\\log{\\left(\\frac{x + \\sqrt{x^{2} + 12 x + 40} + 6}{2} \\right)} + C_1 = \\log{\\left(x + \\sqrt{x^{2} + 12 x + 40} + 6 \\right)} + C`],\n",
      "  [String.raw`\\int \\frac{1}{\\sqrt{x^{2} + 12 x + 45}}\\, dx`,String.raw`\\log{\\left(\\frac{x + \\sqrt{x^{2} + 12 x + 45} + 6}{3} \\right)} + C_1 = \\log{\\left(x + \\sqrt{x^{2} + 12 x + 45} + 6 \\right)} + C`],\n",
      "  [String.raw`\\int \\frac{1}{\\sqrt{x^{2} + 12 x + 52}}\\, dx`,String.raw`\\log{\\left(\\frac{x + \\sqrt{x^{2} + 12 x + 52} + 6}{4} \\right)} + C_1 = \\log{\\left(x + \\sqrt{x^{2} + 12 x + 52} + 6 \\right)} + C`],\n",
      "  [String.raw`\\int \\frac{1}{\\sqrt{x^{2} + 12 x + 61}}\\, dx`,String.raw`\\log{\\left(\\frac{x + \\sqrt{x^{2} + 12 x + 61} + 6}{5} \\right)} + C_1 = \\log{\\left(x + \\sqrt{x^{2} + 12 x + 61} + 6 \\right)} + C`],\n",
      "  [String.raw`\\int \\frac{1}{\\sqrt{x^{2} + 12 x + 72}}\\, dx`,String.raw`\\log{\\left(\\frac{x + \\sqrt{x^{2} + 12 x + 72} + 6}{6} \\right)} + C_1 = \\log{\\left(x + \\sqrt{x^{2} + 12 x + 72} + 6 \\right)} + C`],\n",
      "  [String.raw`\\int \\frac{1}{\\sqrt{x^{2} + 12 x + 85}}\\, dx`,String.raw`\\log{\\left(\\frac{x + \\sqrt{x^{2} + 12 x + 85} + 6}{7} \\right)} + C_1 = \\log{\\left(x + \\sqrt{x^{2} + 12 x + 85} + 6 \\right)} + C`],\n",
      "  [String.raw`\\int \\frac{1}{\\sqrt{x^{2} + 12 x + 100}}\\, dx`,String.raw`\\log{\\left(\\frac{x + \\sqrt{x^{2} + 12 x + 100} + 6}{8} \\right)} + C_1 = \\log{\\left(x + \\sqrt{x^{2} + 12 x + 100} + 6 \\right)} + C`],\n",
      "  [String.raw`\\int \\frac{1}{\\sqrt{x^{2} + 12 x + 117}}\\, dx`,String.raw`\\log{\\left(\\frac{x + \\sqrt{x^{2} + 12 x + 117} + 6}{9} \\right)} + C_1 = \\log{\\left(x + \\sqrt{x^{2} + 12 x + 117} + 6 \\right)} + C`],\n",
      "  [String.raw`\\int \\frac{1}{\\sqrt{x^{2} + 14 x + 50}}\\, dx`,String.raw`\\log{\\left(x + \\sqrt{x^{2} + 14 x + 50} + 7 \\right)} + C`],\n",
      "  [String.raw`\\int \\frac{1}{\\sqrt{x^{2} + 14 x + 53}}\\, dx`,String.raw`\\log{\\left(\\frac{x + \\sqrt{x^{2} + 14 x + 53} + 7}{2} \\right)} + C_1 = \\log{\\left(x + \\sqrt{x^{2} + 14 x + 53} + 7 \\right)} + C`],\n",
      "  [String.raw`\\int \\frac{1}{\\sqrt{x^{2} + 14 x + 58}}\\, dx`,String.raw`\\log{\\left(\\frac{x + \\sqrt{x^{2} + 14 x + 58} + 7}{3} \\right)} + C_1 = \\log{\\left(x + \\sqrt{x^{2} + 14 x + 58} + 7 \\right)} + C`],\n",
      "  [String.raw`\\int \\frac{1}{\\sqrt{x^{2} + 14 x + 65}}\\, dx`,String.raw`\\log{\\left(\\frac{x + \\sqrt{x^{2} + 14 x + 65} + 7}{4} \\right)} + C_1 = \\log{\\left(x + \\sqrt{x^{2} + 14 x + 65} + 7 \\right)} + C`],\n",
      "  [String.raw`\\int \\frac{1}{\\sqrt{x^{2} + 14 x + 74}}\\, dx`,String.raw`\\log{\\left(\\frac{x + \\sqrt{x^{2} + 14 x + 74} + 7}{5} \\right)} + C_1 = \\log{\\left(x + \\sqrt{x^{2} + 14 x + 74} + 7 \\right)} + C`],\n",
      "  [String.raw`\\int \\frac{1}{\\sqrt{x^{2} + 14 x + 85}}\\, dx`,String.raw`\\log{\\left(\\frac{x + \\sqrt{x^{2} + 14 x + 85} + 7}{6} \\right)} + C_1 = \\log{\\left(x + \\sqrt{x^{2} + 14 x + 85} + 7 \\right)} + C`],\n",
      "  [String.raw`\\int \\frac{1}{\\sqrt{x^{2} + 14 x + 98}}\\, dx`,String.raw`\\log{\\left(\\frac{x + \\sqrt{x^{2} + 14 x + 98} + 7}{7} \\right)} + C_1 = \\log{\\left(x + \\sqrt{x^{2} + 14 x + 98} + 7 \\right)} + C`],\n",
      "  [String.raw`\\int \\frac{1}{\\sqrt{x^{2} + 14 x + 113}}\\, dx`,String.raw`\\log{\\left(\\frac{x + \\sqrt{x^{2} + 14 x + 113} + 7}{8} \\right)} + C_1 = \\log{\\left(x + \\sqrt{x^{2} + 14 x + 113} + 7 \\right)} + C`],\n",
      "  [String.raw`\\int \\frac{1}{\\sqrt{x^{2} + 14 x + 130}}\\, dx`,String.raw`\\log{\\left(\\frac{x + \\sqrt{x^{2} + 14 x + 130} + 7}{9} \\right)} + C_1 = \\log{\\left(x + \\sqrt{x^{2} + 14 x + 130} + 7 \\right)} + C`],\n",
      "  [String.raw`\\int \\frac{1}{\\sqrt{x^{2} + 16 x + 65}}\\, dx`,String.raw`\\log{\\left(x + \\sqrt{x^{2} + 16 x + 65} + 8 \\right)} + C`],\n",
      "  [String.raw`\\int \\frac{1}{\\sqrt{x^{2} + 16 x + 68}}\\, dx`,String.raw`\\log{\\left(\\frac{x + \\sqrt{x^{2} + 16 x + 68} + 8}{2} \\right)} + C_1 = \\log{\\left(x + \\sqrt{x^{2} + 16 x + 68} + 8 \\right)} + C`],\n",
      "  [String.raw`\\int \\frac{1}{\\sqrt{x^{2} + 16 x + 73}}\\, dx`,String.raw`\\log{\\left(\\frac{x + \\sqrt{x^{2} + 16 x + 73} + 8}{3} \\right)} + C_1 = \\log{\\left(x + \\sqrt{x^{2} + 16 x + 73} + 8 \\right)} + C`],\n",
      "  [String.raw`\\int \\frac{1}{\\sqrt{x^{2} + 16 x + 80}}\\, dx`,String.raw`\\log{\\left(\\frac{x + \\sqrt{x^{2} + 16 x + 80} + 8}{4} \\right)} + C_1 = \\log{\\left(x + \\sqrt{x^{2} + 16 x + 80} + 8 \\right)} + C`],\n",
      "  [String.raw`\\int \\frac{1}{\\sqrt{x^{2} + 16 x + 89}}\\, dx`,String.raw`\\log{\\left(\\frac{x + \\sqrt{x^{2} + 16 x + 89} + 8}{5} \\right)} + C_1 = \\log{\\left(x + \\sqrt{x^{2} + 16 x + 89} + 8 \\right)} + C`],\n",
      "  [String.raw`\\int \\frac{1}{\\sqrt{x^{2} + 16 x + 100}}\\, dx`,String.raw`\\log{\\left(\\frac{x + \\sqrt{x^{2} + 16 x + 100} + 8}{6} \\right)} + C_1 = \\log{\\left(x + \\sqrt{x^{2} + 16 x + 100} + 8 \\right)} + C`],\n",
      "  [String.raw`\\int \\frac{1}{\\sqrt{x^{2} + 16 x + 113}}\\, dx`,String.raw`\\log{\\left(\\frac{x + \\sqrt{x^{2} + 16 x + 113} + 8}{7} \\right)} + C_1 = \\log{\\left(x + \\sqrt{x^{2} + 16 x + 113} + 8 \\right)} + C`],\n",
      "  [String.raw`\\int \\frac{1}{\\sqrt{x^{2} + 16 x + 128}}\\, dx`,String.raw`\\log{\\left(\\frac{x + \\sqrt{x^{2} + 16 x + 128} + 8}{8} \\right)} + C_1 = \\log{\\left(x + \\sqrt{x^{2} + 16 x + 128} + 8 \\right)} + C`],\n",
      "  [String.raw`\\int \\frac{1}{\\sqrt{x^{2} + 16 x + 145}}\\, dx`,String.raw`\\log{\\left(\\frac{x + \\sqrt{x^{2} + 16 x + 145} + 8}{9} \\right)} + C_1 = \\log{\\left(x + \\sqrt{x^{2} + 16 x + 145} + 8 \\right)} + C`],\n",
      "  [String.raw`\\int \\frac{1}{\\sqrt{x^{2} + 18 x + 82}}\\, dx`,String.raw`\\log{\\left(x + \\sqrt{x^{2} + 18 x + 82} + 9 \\right)} + C`],\n",
      "  [String.raw`\\int \\frac{1}{\\sqrt{x^{2} + 18 x + 85}}\\, dx`,String.raw`\\log{\\left(\\frac{x + \\sqrt{x^{2} + 18 x + 85} + 9}{2} \\right)} + C_1 = \\log{\\left(x + \\sqrt{x^{2} + 18 x + 85} + 9 \\right)} + C`],\n",
      "  [String.raw`\\int \\frac{1}{\\sqrt{x^{2} + 18 x + 90}}\\, dx`,String.raw`\\log{\\left(\\frac{x + \\sqrt{x^{2} + 18 x + 90} + 9}{3} \\right)} + C_1 = \\log{\\left(x + \\sqrt{x^{2} + 18 x + 90} + 9 \\right)} + C`],\n",
      "  [String.raw`\\int \\frac{1}{\\sqrt{x^{2} + 18 x + 97}}\\, dx`,String.raw`\\log{\\left(\\frac{x + \\sqrt{x^{2} + 18 x + 97} + 9}{4} \\right)} + C_1 = \\log{\\left(x + \\sqrt{x^{2} + 18 x + 97} + 9 \\right)} + C`],\n",
      "  [String.raw`\\int \\frac{1}{\\sqrt{x^{2} + 18 x + 106}}\\, dx`,String.raw`\\log{\\left(\\frac{x + \\sqrt{x^{2} + 18 x + 106} + 9}{5} \\right)} + C_1 = \\log{\\left(x + \\sqrt{x^{2} + 18 x + 106} + 9 \\right)} + C`],\n",
      "  [String.raw`\\int \\frac{1}{\\sqrt{x^{2} + 18 x + 117}}\\, dx`,String.raw`\\log{\\left(\\frac{x + \\sqrt{x^{2} + 18 x + 117} + 9}{6} \\right)} + C_1 = \\log{\\left(x + \\sqrt{x^{2} + 18 x + 117} + 9 \\right)} + C`],\n",
      "  [String.raw`\\int \\frac{1}{\\sqrt{x^{2} + 18 x + 130}}\\, dx`,String.raw`\\log{\\left(\\frac{x + \\sqrt{x^{2} + 18 x + 130} + 9}{7} \\right)} + C_1 = \\log{\\left(x + \\sqrt{x^{2} + 18 x + 130} + 9 \\right)} + C`],\n",
      "  [String.raw`\\int \\frac{1}{\\sqrt{x^{2} + 18 x + 145}}\\, dx`,String.raw`\\log{\\left(\\frac{x + \\sqrt{x^{2} + 18 x + 145} + 9}{8} \\right)} + C_1 = \\log{\\left(x + \\sqrt{x^{2} + 18 x + 145} + 9 \\right)} + C`],\n",
      "  [String.raw`\\int \\frac{1}{\\sqrt{x^{2} + 18 x + 162}}\\, dx`,String.raw`\\log{\\left(\\frac{x + \\sqrt{x^{2} + 18 x + 162} + 9}{9} \\right)} + C_1 = \\log{\\left(x + \\sqrt{x^{2} + 18 x + 162} + 9 \\right)} + C`],\n",
      "];\n",
      "//random_seed=0;\n",
      "[problem, solution] = parameters[random_seed % parameters.length];\n"
     ]
    }
   ],
   "source": [
    "print(\"if (typeof parameters === 'undefined') { let parameters,problem,solution; }\")\n",
    "print(\"parameters = [\")\n",
    "for _a in range(1,10):\n",
    "    for _b in range(1, 10):\n",
    "        prob=_prob.subs(a, _a).subs(b, _b)\n",
    "        internal = _internal.subs(a,_a).subs(b,_b).factor()\n",
    "        internal2 = _internal2.subs(a,_a).subs(b,_b).factor()\n",
    "        sol = sy.ln(internal)\n",
    "        sol2 = sy.ln(internal2)\n",
    "        #sol=ex.doit().simplify()\n",
    "        if sol == sol2:\n",
    "            print(f'  [String.raw`{sy.latex(prob)}`,String.raw`{sy.latex(sol)} + C`],')\n",
    "        else:\n",
    "            print(f'  [String.raw`{sy.latex(prob)}`,String.raw`{sy.latex(sol)} + C_1 = {sy.latex(sol2)} + C`],')\n",
    "print(\"];\")\n",
    "print(\"//random_seed=0;\")\n",
    "print(\"[problem, solution] = parameters[random_seed % parameters.length];\")"
   ]
  },
  {
   "cell_type": "code",
   "execution_count": 22,
   "id": "381d9ca3-8104-4692-a64b-d9bc6eceaee8",
   "metadata": {},
   "outputs": [
    {
     "data": {
      "text/latex": [
       "$\\displaystyle \\log{\\left(\\frac{a}{b} + \\sqrt{\\frac{a^{2}}{b^{2}} + 1} \\right)}$"
      ],
      "text/plain": [
       "log(a/b + sqrt(a**2/b**2 + 1))"
      ]
     },
     "execution_count": 22,
     "metadata": {},
     "output_type": "execute_result"
    }
   ],
   "source": [
    "_sol = sy.ln(a/b + sy.sqrt((a/b)**2 + 1))\n",
    "_sol"
   ]
  },
  {
   "cell_type": "code",
   "execution_count": 33,
   "id": "bd0acc2c-92c1-446a-b411-d5e1cb2cd6df",
   "metadata": {},
   "outputs": [
    {
     "name": "stdout",
     "output_type": "stream",
     "text": [
      "\\log{\\left(\\frac{1}{2} + \\frac{\\sqrt{5}}{2} \\right)}\n"
     ]
    },
    {
     "data": {
      "text/latex": [
       "$\\displaystyle \\log{\\left(\\frac{1}{2} + \\frac{\\sqrt{5}}{2} \\right)}$"
      ],
      "text/plain": [
       "log(1/2 + sqrt(5)/2)"
      ]
     },
     "execution_count": 33,
     "metadata": {},
     "output_type": "execute_result"
    }
   ],
   "source": [
    "sol = _sol.subs(a,3).subs(b,6)\n",
    "print(sy.latex(sol))\n",
    "sol"
   ]
  },
  {
   "cell_type": "code",
   "execution_count": 33,
   "id": "1a71bb4e-90d6-43a5-a668-5b2778d561ed",
   "metadata": {},
   "outputs": [
    {
     "data": {
      "text/latex": [
       "$\\displaystyle \\frac{t^{2} \\sin^{2}{\\left(t \\right)}}{4} + \\frac{t^{2} \\cos^{2}{\\left(t \\right)}}{4} - \\frac{t \\sin{\\left(t \\right)} \\cos{\\left(t \\right)}}{2} + \\frac{\\sin^{2}{\\left(t \\right)}}{4}$"
      ],
      "text/plain": [
       "t**2*sin(t)**2/4 + t**2*cos(t)**2/4 - t*sin(t)*cos(t)/2 + sin(t)**2/4"
      ]
     },
     "execution_count": 33,
     "metadata": {},
     "output_type": "execute_result"
    }
   ],
   "source": [
    "sy.integrate(t*sy.sin(t)**2, t)"
   ]
  },
  {
   "cell_type": "code",
   "execution_count": 34,
   "id": "ae5ac601-9857-4bb1-ac50-11c0330d6e2d",
   "metadata": {},
   "outputs": [
    {
     "data": {
      "text/latex": [
       "$\\displaystyle \\frac{t}{2} - \\frac{\\sin{\\left(t \\right)} \\cos{\\left(t \\right)}}{2}$"
      ],
      "text/plain": [
       "t/2 - sin(t)*cos(t)/2"
      ]
     },
     "execution_count": 34,
     "metadata": {},
     "output_type": "execute_result"
    }
   ],
   "source": [
    "sy.integrate(sy.sin(t)**2, t)"
   ]
  },
  {
   "cell_type": "code",
   "execution_count": 17,
   "id": "1bd9b4ff-f635-428e-9784-7d9e61f8a11a",
   "metadata": {},
   "outputs": [
    {
     "data": {
      "text/latex": [
       "$\\displaystyle \\int 2 a \\sin^{b + 1}{\\left(x \\right)} \\cos{\\left(x \\right)}\\, dx$"
      ],
      "text/plain": [
       "Integral(2*a*sin(x)**(b + 1)*cos(x), x)"
      ]
     },
     "execution_count": 17,
     "metadata": {},
     "output_type": "execute_result"
    }
   ],
   "source": [
    "ex = sy.Integral(2*a*sy.sin(x)**(b+1) * sy.cos(x), x)\n",
    "ex"
   ]
  },
  {
   "cell_type": "code",
   "execution_count": 18,
   "id": "582a6915-505c-433d-9727-965469095e60",
   "metadata": {},
   "outputs": [
    {
     "data": {
      "text/latex": [
       "$\\displaystyle 2 a \\left(\\begin{cases} \\frac{\\sin^{2}{\\left(x \\right)} \\sin^{b}{\\left(x \\right)}}{b + 2} & \\text{for}\\: b \\neq -2 \\\\\\log{\\left(\\sin{\\left(x \\right)} \\right)} & \\text{otherwise} \\end{cases}\\right)$"
      ],
      "text/plain": [
       "2*a*Piecewise((sin(x)**2*sin(x)**b/(b + 2), Ne(b, -2)), (log(sin(x)), True))"
      ]
     },
     "execution_count": 18,
     "metadata": {},
     "output_type": "execute_result"
    }
   ],
   "source": [
    "ex.doit()"
   ]
  },
  {
   "cell_type": "code",
   "execution_count": 32,
   "id": "98f11089-931f-4f31-b78a-8fc4d4127e94",
   "metadata": {},
   "outputs": [
    {
     "name": "stdout",
     "output_type": "stream",
     "text": [
      "\\frac{6 \\sin^{7}{\\left(x \\right)}}{7}\n"
     ]
    },
    {
     "data": {
      "text/latex": [
       "$\\displaystyle \\frac{6 \\sin^{7}{\\left(x \\right)}}{7}$"
      ],
      "text/plain": [
       "6*sin(x)**7/7"
      ]
     },
     "execution_count": 32,
     "metadata": {},
     "output_type": "execute_result"
    }
   ],
   "source": [
    "_a, _b = (3,5)\n",
    "_sol = ex.subs(a, _a).subs(b, _b).doit()\n",
    "print(sy.latex(_sol))\n",
    "_sol"
   ]
  },
  {
   "cell_type": "code",
   "execution_count": 7,
   "id": "b48f3d35-35a1-430e-8245-573a477966bc",
   "metadata": {},
   "outputs": [
    {
     "data": {
      "text/latex": [
       "$\\displaystyle \\int t e^{- a t}\\, dt$"
      ],
      "text/plain": [
       "Integral(t*exp(-a*t), t)"
      ]
     },
     "execution_count": 7,
     "metadata": {},
     "output_type": "execute_result"
    }
   ],
   "source": [
    "ex = sy.Integral(t*sy.exp(-a*t), t)\n",
    "ex"
   ]
  },
  {
   "cell_type": "code",
   "execution_count": 11,
   "id": "acd484bb-fec5-4cc9-b69c-fc3c94265273",
   "metadata": {},
   "outputs": [
    {
     "data": {
      "text/latex": [
       "$\\displaystyle \\begin{cases} \\frac{\\left(- a t - 1\\right) e^{- a t}}{a^{2}} & \\text{for}\\: a^{2} \\neq 0 \\\\\\frac{t^{2}}{2} & \\text{otherwise} \\end{cases}$"
      ],
      "text/plain": [
       "Piecewise(((-a*t - 1)*exp(-a*t)/a**2, Ne(a**2, 0)), (t**2/2, True))"
      ]
     },
     "execution_count": 11,
     "metadata": {},
     "output_type": "execute_result"
    }
   ],
   "source": [
    "ex.doit()"
   ]
  },
  {
   "cell_type": "code",
   "execution_count": 12,
   "id": "0468bf2d-2b5a-4dde-b3b7-93eacbe9fbe7",
   "metadata": {},
   "outputs": [
    {
     "name": "stdout",
     "output_type": "stream",
     "text": [
      "\\frac{\\left(- 8 t - 1\\right) e^{- 8 t}}{64}\n"
     ]
    },
    {
     "data": {
      "text/latex": [
       "$\\displaystyle \\frac{\\left(- 8 t - 1\\right) e^{- 8 t}}{64}$"
      ],
      "text/plain": [
       "(-8*t - 1)*exp(-8*t)/64"
      ]
     },
     "execution_count": 12,
     "metadata": {},
     "output_type": "execute_result"
    }
   ],
   "source": [
    "_ex = ex.subs(a, 8)\n",
    "_r = _ex.doit()\n",
    "print(sy.latex(_r))\n",
    "_r"
   ]
  },
  {
   "cell_type": "code",
   "execution_count": 3,
   "id": "fb751e23-e68f-4694-a7ae-e52022792036",
   "metadata": {},
   "outputs": [
    {
     "data": {
      "text/latex": [
       "$\\displaystyle \\int z^{a} e^{z}\\, dz$"
      ],
      "text/plain": [
       "Integral(z**a*exp(z), z)"
      ]
     },
     "execution_count": 3,
     "metadata": {},
     "output_type": "execute_result"
    }
   ],
   "source": [
    "ex = sy.Integral((z**a)*sy.exp(z), z)\n",
    "ex"
   ]
  },
  {
   "cell_type": "code",
   "execution_count": 5,
   "id": "ac8de778-7f7d-42f6-a2cc-4188f54ff7a1",
   "metadata": {},
   "outputs": [
    {
     "name": "stdout",
     "output_type": "stream",
     "text": [
      "\\left(z^{3} - 3 z^{2} + 6 z - 6\\right) e^{z}\n"
     ]
    },
    {
     "data": {
      "text/latex": [
       "$\\displaystyle \\left(z^{3} - 3 z^{2} + 6 z - 6\\right) e^{z}$"
      ],
      "text/plain": [
       "(z**3 - 3*z**2 + 6*z - 6)*exp(z)"
      ]
     },
     "execution_count": 5,
     "metadata": {},
     "output_type": "execute_result"
    }
   ],
   "source": [
    "_ex = ex.subs(a, 3)\n",
    "_r = _ex.doit()\n",
    "print(sy.latex(_r))\n",
    "_r"
   ]
  },
  {
   "cell_type": "code",
   "execution_count": 3,
   "id": "d0eb5aa0-dd8a-4c77-93f1-c4ad1ecb0bb9",
   "metadata": {},
   "outputs": [
    {
     "data": {
      "text/latex": [
       "$\\displaystyle \\int \\operatorname{atan}{\\left(a y \\right)}\\, dy$"
      ],
      "text/plain": [
       "Integral(atan(a*y), y)"
      ]
     },
     "execution_count": 3,
     "metadata": {},
     "output_type": "execute_result"
    }
   ],
   "source": [
    "ex = sy.Integral(sy.atan(a*y), y)\n",
    "ex"
   ]
  },
  {
   "cell_type": "code",
   "execution_count": 4,
   "id": "3ddc876a-7657-4029-9e54-ed771888bd9f",
   "metadata": {},
   "outputs": [
    {
     "data": {
      "text/latex": [
       "$\\displaystyle \\begin{cases} y \\operatorname{atan}{\\left(a y \\right)} - \\frac{\\log{\\left(a^{2} y^{2} + 1 \\right)}}{2 a} & \\text{for}\\: a \\neq 0 \\\\0 & \\text{otherwise} \\end{cases}$"
      ],
      "text/plain": [
       "Piecewise((y*atan(a*y) - log(a**2*y**2 + 1)/(2*a), Ne(a, 0)), (0, True))"
      ]
     },
     "execution_count": 4,
     "metadata": {},
     "output_type": "execute_result"
    }
   ],
   "source": [
    "ex.doit()"
   ]
  },
  {
   "cell_type": "code",
   "execution_count": 8,
   "id": "8129b1d8-9786-4dde-b668-2494aa46e040",
   "metadata": {},
   "outputs": [
    {
     "data": {
      "text/latex": [
       "$\\displaystyle y \\operatorname{atan}{\\left(3 y \\right)} - \\frac{\\log{\\left(9 y^{2} + 1 \\right)}}{6}$"
      ],
      "text/plain": [
       "y*atan(3*y) - log(9*y**2 + 1)/6"
      ]
     },
     "execution_count": 8,
     "metadata": {},
     "output_type": "execute_result"
    }
   ],
   "source": [
    "ex.subs(a,3).doit()"
   ]
  },
  {
   "cell_type": "code",
   "execution_count": 5,
   "id": "ff56e3a3-b298-4311-91d8-6f1885dba341",
   "metadata": {},
   "outputs": [
    {
     "data": {
      "text/latex": [
       "$\\displaystyle \\frac{a}{a^{2} y^{2} + 1}$"
      ],
      "text/plain": [
       "a/(a**2*y**2 + 1)"
      ]
     },
     "execution_count": 5,
     "metadata": {},
     "output_type": "execute_result"
    }
   ],
   "source": [
    "sy.diff(sy.atan(a*y), y)"
   ]
  },
  {
   "cell_type": "code",
   "execution_count": 94,
   "id": "65b56b4a-7f22-4611-93fe-602d988996f6",
   "metadata": {},
   "outputs": [
    {
     "data": {
      "text/latex": [
       "$\\displaystyle \\int\\limits_{a}^{b} w^{2} \\log{\\left(w \\right)}\\, dw$"
      ],
      "text/plain": [
       "Integral(w**2*log(w), (w, a, b))"
      ]
     },
     "execution_count": 94,
     "metadata": {},
     "output_type": "execute_result"
    }
   ],
   "source": [
    "ex = sy.Integral(w**(2)*sy.ln(w), (w, a, b))\n",
    "ex"
   ]
  },
  {
   "cell_type": "code",
   "execution_count": 95,
   "id": "72a809a6-8e08-449f-ae71-9f4ecc81469a",
   "metadata": {},
   "outputs": [
    {
     "data": {
      "text/latex": [
       "$\\displaystyle - \\frac{a^{3} \\log{\\left(a \\right)}}{3} + \\frac{a^{3}}{9} + \\frac{b^{3} \\log{\\left(b \\right)}}{3} - \\frac{b^{3}}{9}$"
      ],
      "text/plain": [
       "-a**3*log(a)/3 + a**3/9 + b**3*log(b)/3 - b**3/9"
      ]
     },
     "execution_count": 95,
     "metadata": {},
     "output_type": "execute_result"
    }
   ],
   "source": [
    "ex.doit()"
   ]
  },
  {
   "cell_type": "code",
   "execution_count": 55,
   "id": "907218b0-fce3-4217-b29d-77757415bf94",
   "metadata": {},
   "outputs": [
    {
     "data": {
      "image/png": "[encoded data removed]",
      "text/latex": [
       "$\\displaystyle \\int \\frac{x e^{\\frac{x}{2}}}{\\left(\\frac{x}{2} + 1\\right)^{2}}\\, dx$"
      ],
      "text/plain": [
       "⌠            \n",
       "⎮      x     \n",
       "⎮      ─     \n",
       "⎮      2     \n",
       "⎮   x⋅ℯ      \n",
       "⎮ ──────── dx\n",
       "⎮        2   \n",
       "⎮ ⎛x    ⎞    \n",
       "⎮ ⎜─ + 1⎟    \n",
       "⎮ ⎝2    ⎠    \n",
       "⌡            "
      ]
     },
     "execution_count": 55,
     "metadata": {},
     "output_type": "execute_result"
    }
   ],
   "source": [
    "ex2 = ex.subs(a, R(1/2))\n",
    "ex2"
   ]
  },
  {
   "cell_type": "code",
   "execution_count": 56,
   "id": "1ef287d1-f6aa-4d48-b299-17acc5014f08",
   "metadata": {},
   "outputs": [
    {
     "data": {
      "image/png": "[encoded data removed]",
      "text/latex": [
       "$\\displaystyle \\frac{8 e^{\\frac{x}{2}}}{x + 2}$"
      ],
      "text/plain": [
       "    x\n",
       "    ─\n",
       "    2\n",
       " 8⋅ℯ \n",
       "─────\n",
       "x + 2"
      ]
     },
     "execution_count": 56,
     "metadata": {},
     "output_type": "execute_result"
    }
   ],
   "source": [
    "ex2.doit()"
   ]
  },
  {
   "cell_type": "code",
   "execution_count": 9,
   "id": "038fd076-a2ce-4527-a8d9-eb80e42a0c48",
   "metadata": {},
   "outputs": [
    {
     "data": {
      "text/latex": [
       "$\\displaystyle \\int \\left(a x + x^{2}\\right) \\cos{\\left(x \\right)}\\, dx$"
      ],
      "text/plain": [
       "Integral((a*x + x**2)*cos(x), x)"
      ]
     },
     "execution_count": 9,
     "metadata": {},
     "output_type": "execute_result"
    }
   ],
   "source": [
    "ex = sy.Integral((x**2 + a*x)*sy.cos(x), x)\n",
    "ex"
   ]
  },
  {
   "cell_type": "code",
   "execution_count": 10,
   "id": "15fc4137-7675-41e6-8bf0-de99ee430f9d",
   "metadata": {},
   "outputs": [
    {
     "data": {
      "text/latex": [
       "$\\displaystyle a x \\sin{\\left(x \\right)} + a \\cos{\\left(x \\right)} + x^{2} \\sin{\\left(x \\right)} + 2 x \\cos{\\left(x \\right)} - 2 \\sin{\\left(x \\right)}$"
      ],
      "text/plain": [
       "a*x*sin(x) + a*cos(x) + x**2*sin(x) + 2*x*cos(x) - 2*sin(x)"
      ]
     },
     "execution_count": 10,
     "metadata": {},
     "output_type": "execute_result"
    }
   ],
   "source": [
    "ex.doit()"
   ]
  },
  {
   "cell_type": "code",
   "execution_count": 11,
   "id": "13600892-9d8a-40b6-885b-538feb8b4fe5",
   "metadata": {},
   "outputs": [
    {
     "data": {
      "text/latex": [
       "$\\displaystyle x^{2} \\sin{\\left(x \\right)} + 3 x \\sin{\\left(x \\right)} + 2 x \\cos{\\left(x \\right)} - 2 \\sin{\\left(x \\right)} + 3 \\cos{\\left(x \\right)}$"
      ],
      "text/plain": [
       "x**2*sin(x) + 3*x*sin(x) + 2*x*cos(x) - 2*sin(x) + 3*cos(x)"
      ]
     },
     "execution_count": 11,
     "metadata": {},
     "output_type": "execute_result"
    }
   ],
   "source": [
    "ex.subs(a,3).doit()"
   ]
  },
  {
   "cell_type": "code",
   "execution_count": 28,
   "id": "0920c588-232b-4ab9-a400-38c6d3e0c582",
   "metadata": {},
   "outputs": [
    {
     "name": "stdout",
     "output_type": "stream",
     "text": [
      "\\frac{e^{a x}}{a^{3} x + a^{2}}\n"
     ]
    }
   ],
   "source": [
    "print(sy.latex(ex))"
   ]
  },
  {
   "cell_type": "code",
   "execution_count": 42,
   "id": "64944f66-ebd6-4c07-8132-2a7ba4444299",
   "metadata": {},
   "outputs": [
    {
     "data": {
      "image/png": "[encoded data removed]",
      "text/latex": [
       "$\\displaystyle C + \\frac{e^{2 x}}{4 \\cdot \\left(2 x + 1\\right)}$"
      ],
      "text/plain": [
       "         2⋅x   \n",
       "        ℯ      \n",
       "C + ───────────\n",
       "    4⋅(2⋅x + 1)"
      ]
     },
     "execution_count": 42,
     "metadata": {},
     "output_type": "execute_result"
    }
   ],
   "source": [
    "sympify(\"(E**(2*x))/(4*(2*x + 1)) + C\", evaluate=False)"
   ]
  },
  {
   "cell_type": "code",
   "execution_count": 1,
   "id": "b999b26f-79c2-4c4c-bf0f-422de5dcec5e",
   "metadata": {},
   "outputs": [],
   "source": [
    "import aqt"
   ]
  },
  {
   "cell_type": "code",
   "execution_count": 2,
   "id": "84a71780-75fd-4719-886b-01a405610195",
   "metadata": {},
   "outputs": [],
   "source": [
    "mw = aqt.mw\n",
    "col = mw.col"
   ]
  },
  {
   "cell_type": "code",
   "execution_count": 3,
   "id": "2cbbebfd-1e80-425c-b9df-cb62830e924e",
   "metadata": {},
   "outputs": [
    {
     "data": {
      "text/plain": [
       "[['table',\n",
       "  'revlog',\n",
       "  'revlog',\n",
       "  5,\n",
       "  'CREATE TABLE revlog (\\n  id integer PRIMARY KEY,\\n  cid integer NOT NULL,\\n  usn integer NOT NULL,\\n  ease integer NOT NULL,\\n  ivl integer NOT NULL,\\n  lastIvl integer NOT NULL,\\n  factor integer NOT NULL,\\n  time integer NOT NULL,\\n  type integer NOT NULL\\n)']]"
      ]
     },
     "execution_count": 3,
     "metadata": {},
     "output_type": "execute_result"
    }
   ],
   "source": [
    "col.db.execute(\"\"\"select * from sqlite_schema where name = 'revlog';\"\"\")"
   ]
  },
  {
   "cell_type": "code",
   "execution_count": 3,
   "id": "fe1ad929-1948-4e50-8520-984ab33b0747",
   "metadata": {},
   "outputs": [
    {
     "data": {
      "text/plain": [
       "[[1674612708719, 1672682213036, 16, 1, -60, -60, 0, 2733, 0],\n",
       " [1674847616643, 1672682213036, -1, 1, -60, -60, 0, 3223, 0],\n",
       " [1674847639190, 1672682213036, -1, 2, -330, -60, 0, 595, 0],\n",
       " [1674847646698, 1672682213036, -1, 2, -330, -60, 0, 389, 0],\n",
       " [1674847738362, 1672682213036, -1, 1, -60, -60, 0, 1264, 0],\n",
       " [1674847739533, 1672682213036, -1, 1, -60, -60, 0, 539, 0],\n",
       " [1674847740642, 1672682213036, -1, 1, -60, -60, 0, 486, 0]]"
      ]
     },
     "execution_count": 3,
     "metadata": {},
     "output_type": "execute_result"
    }
   ],
   "source": [
    "col.db.execute(\"\"\"select * from revlog where cid = ?;\"\"\", 1672682213036)"
   ]
  },
  {
   "cell_type": "code",
   "execution_count": 8,
   "id": "49716f94-242b-45c0-977f-1a49c11ec130",
   "metadata": {},
   "outputs": [
    {
     "data": {
      "text/plain": [
       "[[1674847740642, 1672682213036, 1],\n",
       " [1674847739533, 1672682213036, 1],\n",
       " [1674847738362, 1672682213036, 1],\n",
       " [1674847646698, 1672682213036, 2],\n",
       " [1674847639190, 1672682213036, 2],\n",
       " [1674847616643, 1672682213036, 1],\n",
       " [1674612708719, 1672682213036, 1]]"
      ]
     },
     "execution_count": 8,
     "metadata": {},
     "output_type": "execute_result"
    }
   ],
   "source": [
    "col.db.execute(\"\"\"select id, cid, ease from revlog where cid = ? order by id desc;\"\"\", 1672682213036)"
   ]
  },
  {
   "cell_type": "code",
   "execution_count": 25,
   "id": "368956a5-30db-4ba4-9c45-04e5a28de7d0",
   "metadata": {},
   "outputs": [
    {
     "data": {
      "text/plain": [
       "[]"
      ]
     },
     "execution_count": 25,
     "metadata": {},
     "output_type": "execute_result"
    }
   ],
   "source": [
    "col.db.execute(\"\"\"DROP INDEX IF EXISTS ix_revlog_cid_ease;\"\"\")"
   ]
  },
  {
   "cell_type": "code",
   "execution_count": 19,
   "id": "91a9785e-5cf9-415a-9136-1bb9fd38d5a4",
   "metadata": {},
   "outputs": [
    {
     "data": {
      "text/plain": [
       "[]"
      ]
     },
     "execution_count": 19,
     "metadata": {},
     "output_type": "execute_result"
    }
   ],
   "source": [
    "col.db.execute(\"\"\"CREATE INDEX IF NOT EXISTS ix_revlog_cid_ease ON revlog (cid, ease);\"\"\")"
   ]
  },
  {
   "cell_type": "code",
   "execution_count": 4,
   "id": "cf8b8dc6-84f6-448c-97cf-8bdf39c63ad9",
   "metadata": {},
   "outputs": [
    {
     "data": {
      "text/plain": [
       "[[1674847646698]]"
      ]
     },
     "execution_count": 4,
     "metadata": {},
     "output_type": "execute_result"
    }
   ],
   "source": [
    "cid = 1672682213036\n",
    "rids = col.db.execute(\"\"\"SELECT id FROM revlog WHERE cid = ? AND ease != 1 ORDER BY id DESC LIMIT 1;\"\"\", cid)\n",
    "rids"
   ]
  },
  {
   "cell_type": "code",
   "execution_count": 7,
   "id": "2eb4f29e-1ec2-4f07-a62c-e2eca2657c28",
   "metadata": {},
   "outputs": [
    {
     "data": {
      "text/plain": [
       "[[1674847646698]]"
      ]
     },
     "execution_count": 7,
     "metadata": {},
     "output_type": "execute_result"
    }
   ],
   "source": [
    "cid = 1672682213036\n",
    "success_buttons = [2,3,4]\n",
    "rids = col.db.execute(f\"\"\"SELECT id FROM revlog WHERE cid = {cid} AND ease IN {tuple(success_buttons)} ORDER BY id DESC LIMIT 1;\"\"\")\n",
    "rids"
   ]
  },
  {
   "cell_type": "code",
   "execution_count": 51,
   "id": "b8b6941e-4d0a-438d-b72a-baea5e109166",
   "metadata": {},
   "outputs": [
    {
     "data": {
      "text/plain": [
       "[]"
      ]
     },
     "execution_count": 51,
     "metadata": {},
     "output_type": "execute_result"
    }
   ],
   "source": [
    "cid = 1672682252634\n",
    "rids = col.db.execute(\"\"\"SELECT id FROM revlog WHERE cid = ? AND ease != 1 ORDER BY id DESC LIMIT 1;\"\"\", cid)\n",
    "rids"
   ]
  },
  {
   "cell_type": "code",
   "execution_count": 55,
   "id": "0e0f5264-5514-4a55-b1ae-026d6fd4cf72",
   "metadata": {},
   "outputs": [
    {
     "data": {
      "text/plain": [
       "(1674847646698, 1674847646698)"
      ]
     },
     "execution_count": 55,
     "metadata": {},
     "output_type": "execute_result"
    }
   ],
   "source": [
    "rid = rids[0][0] if rids else \"\"\n",
    "seed = rid or cid\n",
    "rid, seed"
   ]
  },
  {
   "cell_type": "markdown",
   "id": "f322b066-2900-40c4-b292-26b6eb04dd22",
   "metadata": {},
   "source": [
    "Some issues with logic for \"toggle suspend\" and \"toggle bury\" commands in browser cards menu:\n",
    "\n",
    "- When multiple "
   ]
  },
  {
   "cell_type": "code",
   "execution_count": 283,
   "id": "4a5eab84-056a-415e-9303-625a6b2b2007",
   "metadata": {},
   "outputs": [
    {
     "data": {
      "text/latex": [
       "$\\displaystyle \\frac{\\pi}{3}$"
      ],
      "text/plain": [
       "pi/3"
      ]
     },
     "execution_count": 283,
     "metadata": {},
     "output_type": "execute_result"
    }
   ],
   "source": [
    "sy.integrate(sy.sqrt(4 - 9*x**2), (x, 0, R(2,3)))"
   ]
  },
  {
   "cell_type": "code",
   "execution_count": null,
   "id": "cc7575cc-0442-47a9-a77a-8b554e860b3a",
   "metadata": {},
   "outputs": [],
   "source": []
  }
 ],
 "metadata": {
  "kernelspec": {
   "display_name": "Python 3 (ipykernel)",
   "language": "python",
   "name": "python3"
  },
  "language_info": {
   "codemirror_mode": {
    "name": "ipython",
    "version": 3
   },
   "file_extension": ".py",
   "mimetype": "text/x-python",
   "name": "python",
   "nbconvert_exporter": "python",
   "pygments_lexer": "ipython3",
   "version": "3.9.15"
  }
 },
 "nbformat": 4,
 "nbformat_minor": 5
}
