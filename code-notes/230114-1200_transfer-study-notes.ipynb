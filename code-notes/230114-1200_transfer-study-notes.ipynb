{
 "cells": [
  {
   "cell_type": "code",
   "execution_count": 3,
   "id": "f78a79c2-21a0-4cd1-b69b-7b8c24591058",
   "metadata": {},
   "outputs": [],
   "source": [
    "import aqt\n",
    "\n",
    "from anki import scheduler_pb2\n",
    "\n",
    "from IPython import display\n",
    "from matplotlib import pyplot as plt\n",
    "import pandas as pd\n",
    "import seaborn as sns\n",
    "import scipy\n",
    "\n",
    "import datetime, itertools, os, sys, time"
   ]
  },
  {
   "cell_type": "code",
   "execution_count": 4,
   "id": "415c9730-a36a-439d-aa5e-0bbcd912708f",
   "metadata": {},
   "outputs": [],
   "source": [
    "col = mw.col\n",
    "browser = aqt.dialogs._dialogs['Browser'][1]\n",
    "table = browser.table\n",
    "model = table._model"
   ]
  },
  {
   "cell_type": "code",
   "execution_count": 5,
   "id": "b623afb3-9414-45b0-b777-0ca7fcc56074",
   "metadata": {
    "tags": []
   },
   "outputs": [],
   "source": [
    "reviews = [model._state.get_review(item) for item in model._items]\n",
    "cards = [model._state.get_card(item) for item in model._items]\n",
    "notes = [model._state.get_note(item) for item in model._items]"
   ]
  },
  {
   "cell_type": "code",
   "execution_count": 6,
   "id": "efc04d2d-1601-4b79-b90b-1ea9e0030b8a",
   "metadata": {},
   "outputs": [],
   "source": [
    "from pylib.anki.cards import Card\n",
    "from pylib.anki.notes import Note\n",
    "\n",
    "def card_repr(self):\n",
    "    return f\"<Card: id={self.id}, type={self.type}, queue={self.queue}, due={self.due}, factor={self.factor}, reps={self.reps}, lapses={self.lapses}>\"\n",
    "\n",
    "def note_repr(self):\n",
    "    return f\"<Note: id={self.id}, fields={self.fields}, tags={self.tags}>\"\n",
    "\n",
    "cards[0].__class__.__repr_orig = cards[0].__class__.__repr__\n",
    "notes[0].__class__.__repr_orig = notes[0].__class__.__repr__\n",
    "cards[0].__class__.__repr__ = card_repr\n",
    "notes[0].__class__.__repr__ = note_repr"
   ]
  },
  {
   "cell_type": "code",
   "execution_count": 7,
   "id": "73838b3c-e1fe-4fa5-9a91-8f32c3eb9d24",
   "metadata": {
    "tags": []
   },
   "outputs": [],
   "source": [
    "CardAnswer = scheduler_pb2.CardAnswer"
   ]
  },
  {
   "cell_type": "code",
   "execution_count": 8,
   "id": "6e40a252-0d0a-4fa6-895e-ab516546511b",
   "metadata": {},
   "outputs": [
    {
     "data": {
      "text/plain": [
       "2"
      ]
     },
     "execution_count": 8,
     "metadata": {},
     "output_type": "execute_result"
    },
    {
     "name": "stdout",
     "output_type": "stream",
     "text": [
      "1674684058.506 GET /_anki/legacyPageData\n",
      "1674684058.506 GET /_anki/legacyPageData\n",
      "1674684058.517 GET /_anki/css/webview.css\n",
      "1674684058.518 GET /_anki/css/deckbrowser.css\n",
      "1674684058.519 GET /_anki/js/webview.js\n",
      "1674684058.519 GET /_anki/js/vendor/jquery.min.js\n",
      "1674684058.519 GET /_anki/js/deckbrowser.js\n",
      "1674684058.520 GET /_anki/js/vendor/jquery-ui.min.js\n",
      "1674684058.524 GET /_anki/css/webview.css\n",
      "1674684058.524 GET /_anki/css/toolbar.css\n",
      "1674684058.525 GET /_anki/js/webview.js\n",
      "1674684058.525 GET /_anki/css/toolbar-bottom.css\n",
      "1674684058.526 GET /_anki/imgs/gears.svg\n",
      "1674684058.527 GET /_anki/js/vendor/jquery.min.js\n",
      "1674684477.993 GET /_anki/legacyPageData\n",
      "1674684477.994 GET /_anki/legacyPageData\n",
      "1674684478.007 GET /_anki/css/webview.css\n",
      "1674684478.008 GET /_anki/css/deckbrowser.css\n",
      "1674684478.008 GET /_anki/js/webview.js\n",
      "1674684478.009 GET /_anki/js/vendor/jquery.min.js\n",
      "1674684478.011 GET /_anki/js/vendor/jquery-ui.min.js\n",
      "1674684478.011 GET /_anki/js/deckbrowser.js\n",
      "1674684478.014 GET /_anki/css/webview.css\n",
      "1674684478.015 GET /_anki/css/toolbar.css\n",
      "1674684478.016 GET /_anki/css/toolbar-bottom.css\n",
      "1674684478.016 GET /_anki/js/webview.js\n",
      "1674684478.017 GET /_anki/js/vendor/jquery.min.js\n",
      "1674684478.020 GET /_anki/imgs/gears.svg\n"
     ]
    }
   ],
   "source": [
    "CardAnswer.GOOD"
   ]
  },
  {
   "cell_type": "code",
   "execution_count": 126,
   "id": "1873e2b9-8525-4db4-b9ff-8d001d5aa3ce",
   "metadata": {
    "tags": []
   },
   "outputs": [],
   "source": [
    "def build_answer(card, rating, seconds_taken, answered_at = None):\n",
    "    if answered_at is None:\n",
    "        answered_at = datetime.datetime.now()\n",
    "    if type(answered_at) == datetime.datetime:\n",
    "        answered_at = int(answered_at.timestamp() * 1000)\n",
    "    \n",
    "    ms_taken = int(seconds_taken * 1000)\n",
    "    states = model.col._backend.get_scheduling_states(card.id)\n",
    "    \n",
    "    if type(rating) == int:\n",
    "        if rating == 1:\n",
    "            rating = CardAnswer.AGAIN\n",
    "        elif rating == 2:\n",
    "            rating = CardAnswer.HARD\n",
    "        elif rating == 3:\n",
    "            rating = CardAnswer.GOOD\n",
    "        elif rating == 4:\n",
    "            rating = CardAnswer.EASY\n",
    "        else:\n",
    "            raise Exception(\"invalid int rating\")\n",
    "    \n",
    "    if rating == CardAnswer.AGAIN:\n",
    "        new_state = states.again\n",
    "    elif rating == CardAnswer.HARD:\n",
    "        new_state = states.hard\n",
    "    elif rating == CardAnswer.GOOD:\n",
    "        new_state = states.good\n",
    "    elif rating == CardAnswer.EASY:\n",
    "        new_state = states.easy\n",
    "    else:\n",
    "        raise Exception(\"invalid rating\")\n",
    "        \n",
    "    answer = CardAnswer(\n",
    "        card_id=card.id,\n",
    "        current_state=states.current,\n",
    "        new_state=states.again,\n",
    "        rating=rating,\n",
    "        answered_at_millis=answered_at,\n",
    "        milliseconds_taken=ms_taken,\n",
    "    )\n",
    "    return answer\n",
    "\n",
    "def answer_card(answer):\n",
    "    model.col._backend.answer_card_raw(answer.SerializeToString())"
   ]
  },
  {
   "cell_type": "code",
   "execution_count": 6,
   "id": "dd4d696f-ffc4-4704-b40b-6a6f23f6b15f",
   "metadata": {},
   "outputs": [
    {
     "data": {
      "text/html": [
       "CET-05.05-Xm06"
      ],
      "text/plain": [
       "<IPython.core.display.HTML object>"
      ]
     },
     "execution_count": 6,
     "metadata": {},
     "output_type": "execute_result"
    }
   ],
   "source": [
    "card = table.get_single_selected_card()\n",
    "display.HTML(card.note().fields[0])"
   ]
  },
  {
   "cell_type": "code",
   "execution_count": 10,
   "id": "07f371d7-e3b0-4659-953e-1bde825c469b",
   "metadata": {},
   "outputs": [
    {
     "data": {
      "text/plain": [
       "[['table',\n",
       "  'notes',\n",
       "  'notes',\n",
       "  3,\n",
       "  'CREATE TABLE notes (    id              integer primary key,    guid            text not null,    mid             integer not null,    mod             integer not null,    usn             integer not null,    tags            text not null,    flds            text not null,    sfld            integer not null,    csum            integer not null,    flags           integer not null,    data            text not null)']]"
      ]
     },
     "execution_count": 10,
     "metadata": {},
     "output_type": "execute_result"
    }
   ],
   "source": [
    "col.db.execute(\"\"\"\n",
    "SELECT *\n",
    "FROM sqlite_master \n",
    "WHERE name = 'notes';\n",
    "\"\"\")"
   ]
  },
  {
   "cell_type": "code",
   "execution_count": 11,
   "id": "f60c234a-1884-4949-81ba-08f5df9b3236",
   "metadata": {},
   "outputs": [
    {
     "name": "stdout",
     "output_type": "stream",
     "text": [
      "{'col': <weakproxy at 0x7fe7a8226540 to Collection at 0x7fe7a8228640>, 'id': 1659117997640, 'guid': 'I3m~1vi&w(', 'mid': 1539794822805, 'mod': 1669093521, 'usn': 1843, 'tags': ['ann:hard', 'ECET-06.02-TrigonometricIntegralsAndSubstitutions'], 'fields': ['&nbsp;ECET-06.02-Xc017', '', ''], '_fmap': {'Front': (0, {'name': 'Front', 'ord': 0, 'sticky': False, 'rtl': False, 'font': 'Liberation Sans', 'size': 20, 'description': '', 'plainText': False, 'collapsed': False, 'media': []}), 'Back': (1, {'name': 'Back', 'ord': 1, 'sticky': False, 'rtl': False, 'font': 'Arial', 'size': 20, 'description': '', 'plainText': False, 'collapsed': False, 'media': []}), 'Annotations': (2, {'name': 'Annotations', 'ord': 2, 'sticky': False, 'rtl': False, 'font': 'Liberation Sans', 'size': 20, 'description': '', 'plainText': False, 'collapsed': False, 'media': []})}}\n"
     ]
    }
   ],
   "source": [
    "note = table.get_single_selected_card().note()\n",
    "print(note.__dict__)"
   ]
  },
  {
   "cell_type": "code",
   "execution_count": null,
   "id": "a3d77bae-446f-4b9b-9efd-c36bec882757",
   "metadata": {},
   "outputs": [],
   "source": [
    "note."
   ]
  },
  {
   "cell_type": "code",
   "execution_count": 20,
   "id": "091a5667-6f53-4050-96c7-1810a58de01a",
   "metadata": {},
   "outputs": [
    {
     "data": {
      "text/plain": [
       "<Note: id=0, fields=['&nbsp;ECET-06.02-Xc017', '', ''], tags=['ann:hard', 'ECET-06.02-TrigonometricIntegralsAndSubstitutions']>"
      ]
     },
     "execution_count": 20,
     "metadata": {},
     "output_type": "execute_result"
    }
   ],
   "source": [
    "n.tags = note.tags\n",
    "n.fields[0] = note.fields[0]\n",
    "n.\n",
    "n"
   ]
  },
  {
   "cell_type": "code",
   "execution_count": 18,
   "id": "df823055-acaf-440b-a850-836cb2dbb5ef",
   "metadata": {},
   "outputs": [
    {
     "data": {
      "text/plain": [
       "<Note: id=0, fields=['', '', ''], tags=[]>"
      ]
     },
     "execution_count": 18,
     "metadata": {},
     "output_type": "execute_result"
    }
   ],
   "source": [
    "n = col.new_note(m)\n",
    "n"
   ]
  },
  {
   "cell_type": "code",
   "execution_count": 16,
   "id": "7d40c0ab-9fc7-4fe8-8f4d-f946efdfe91b",
   "metadata": {},
   "outputs": [
    {
     "data": {
      "text/plain": [
       "{'id': 1539794822805,\n",
       " 'name': 'PWeave',\n",
       " 'type': 0,\n",
       " 'mod': 1670621939,\n",
       " 'usn': 0,\n",
       " 'sortf': 0,\n",
       " 'did': 1535127937393,\n",
       " 'tmpls': [{'name': 'Card 1',\n",
       "   'ord': 0,\n",
       "   'qfmt': '{{Front}}\\n',\n",
       "   'afmt': '{{FrontSide}}\\n\\n<hr id=answer>\\n\\n{{Back}}\\n\\n<hr id=annotations>\\n\\n{{Annotations}}',\n",
       "   'bqfmt': '',\n",
       "   'bafmt': '',\n",
       "   'did': None,\n",
       "   'bfont': '',\n",
       "   'bsize': 0}],\n",
       " 'flds': [{'name': 'Front',\n",
       "   'ord': 0,\n",
       "   'sticky': False,\n",
       "   'rtl': False,\n",
       "   'font': 'Liberation Sans',\n",
       "   'size': 20,\n",
       "   'description': '',\n",
       "   'plainText': False,\n",
       "   'collapsed': False,\n",
       "   'media': []},\n",
       "  {'name': 'Back',\n",
       "   'ord': 1,\n",
       "   'sticky': False,\n",
       "   'rtl': False,\n",
       "   'font': 'Arial',\n",
       "   'size': 20,\n",
       "   'description': '',\n",
       "   'plainText': False,\n",
       "   'collapsed': False,\n",
       "   'media': []},\n",
       "  {'name': 'Annotations',\n",
       "   'ord': 2,\n",
       "   'sticky': False,\n",
       "   'rtl': False,\n",
       "   'font': 'Liberation Sans',\n",
       "   'size': 20,\n",
       "   'description': '',\n",
       "   'plainText': False,\n",
       "   'collapsed': False,\n",
       "   'media': []}],\n",
       " 'css': '@font-face {\\n  font-family: \\'Raleway\\';\\n  font-style: normal;\\n  font-weight: 300;\\n  src: local(\\'Raleway Light\\'), local(\\'Raleway-Light\\'), url(http://fonts.gstatic.com/s/raleway/v9/-_Ctzj9b56b8RgXW8FArifk_vArhqVIZ0nv9q090hN8.woff2) format(\\'woff2\\');\\n}\\n@font-face {\\n  font-family: \\'Raleway\\';\\n  font-style: normal;\\n  font-weight: 400;\\n  src: local(\\'Raleway\\'), url(http://fonts.gstatic.com/s/raleway/v9/0dTEPzkLWceF7z0koJaX1A.woff2) format(\\'woff2\\');\\n}\\n@font-face {\\n  font-family: \\'Raleway\\';\\n  font-style: normal;\\n  font-weight: 600;\\n  src: local(\\'Raleway SemiBold\\'), local(\\'Raleway-SemiBold\\'), url(http://fonts.gstatic.com/s/raleway/v9/xkvoNo9fC8O2RDydKj12b_k_vArhqVIZ0nv9q090hN8.woff2) format(\\'woff2\\');\\n}\\nhtml {\\n  font-family: sans-serif; /* 1 */\\n  -ms-text-size-adjust: 100%; /* 2 */\\n  -webkit-text-size-adjust: 100%; /* 2 */\\n}\\nbody {\\n  margin: 0;\\n}\\narticle,\\naside,\\ndetails,\\nfigcaption,\\nfigure,\\nfooter,\\nheader,\\nhgroup,\\nmain,\\nmenu,\\nnav,\\nsection,\\nsummary {\\n  display: block;\\n}\\naudio,\\ncanvas,\\nprogress,\\nvideo {\\n  display: inline-block; /* 1 */\\n  vertical-align: baseline; /* 2 */\\n}\\naudio:not([controls]) {\\n  display: none;\\n  height: 0;\\n}\\n[hidden],\\ntemplate {\\n  display: none;\\n}\\na:active,\\na:hover {\\n  outline: 0;\\n}\\nabbr[title] {\\n  border-bottom: 1px dotted;\\n}\\nb,\\nstrong {\\n  font-weight: bold;\\n}\\ndfn {\\n  font-style: italic;\\n}\\nh1 {\\n  font-size: 2em;\\n  margin: 0.67em 0;\\n}\\nmark {\\n  background: #ff0;\\n  color: #000;\\n}\\nsmall {\\n  font-size: 80%;\\n}\\nsub,\\nsup {\\n  font-size: 75%;\\n  line-height: 0;\\n  position: relative;\\n  vertical-align: baseline;\\n}\\nsup {\\n  top: -0.5em;\\n}\\nsub {\\n  bottom: -0.25em;\\n}\\nimg {\\n  border: 0;\\n}\\nsvg:not(:root) {\\n  overflow: hidden;\\n}\\nfigure {\\n  margin: 1em 40px;\\n}\\nhr {\\n  -moz-box-sizing: content-box;\\n  box-sizing: content-box;\\n  height: 0;\\n}\\npre {\\n  overflow: auto;\\n}\\ncode,\\nkbd,\\npre,\\nsamp {\\n  font-family: monospace, monospace;\\n  font-size: 1em;\\n}\\nbutton,\\ninput,\\noptgroup,\\nselect,\\ntextarea {\\n  color: inherit; /* 1 */\\n  font: inherit; /* 2 */\\n  margin: 0; /* 3 */\\n}\\nbutton {\\n  overflow: visible;\\n}\\nbutton,\\nselect {\\n  text-transform: none;\\n}\\nbutton,\\nhtml input[type=\"button\"], /* 1 */\\ninput[type=\"reset\"],\\ninput[type=\"submit\"] {\\n  -webkit-appearance: button; /* 2 */\\n  cursor: pointer; /* 3 */\\n}\\nbutton[disabled],\\nhtml input[disabled] {\\n  cursor: default;\\n}\\nbutton::-moz-focus-inner,\\ninput::-moz-focus-inner {\\n  border: 0;\\n  padding: 0;\\n}\\ninput {\\n  line-height: normal;\\n}\\ninput[type=\"checkbox\"],\\ninput[type=\"radio\"] {\\n  box-sizing: border-box; /* 1 */\\n  padding: 0; /* 2 */\\n}\\ninput[type=\"number\"]::-webkit-inner-spin-button,\\ninput[type=\"number\"]::-webkit-outer-spin-button {\\n  height: auto;\\n}\\ninput[type=\"search\"] {\\n  -webkit-appearance: textfield; /* 1 */\\n  -moz-box-sizing: content-box;\\n  -webkit-box-sizing: content-box; /* 2 */\\n  box-sizing: content-box;\\n}\\ninput[type=\"search\"]::-webkit-search-cancel-button,\\ninput[type=\"search\"]::-webkit-search-decoration {\\n  -webkit-appearance: none;\\n}\\nfieldset {\\n  border: 1px solid #c0c0c0;\\n  margin: 0 2px;\\n  padding: 0.35em 0.625em 0.75em;\\n}\\nlegend {\\n  border: 0; /* 1 */\\n  padding: 0; /* 2 */\\n}\\ntextarea {\\n  overflow: auto;\\n}\\noptgroup {\\n  font-weight: bold;\\n}\\ntable {\\n  border-collapse: collapse;\\n  border-spacing: 0;\\n}\\ntd,\\nth {\\n  padding: 0;\\n}\\n\\n\\n/*\\n* Skeleton V2.0.4\\n* Copyright 2014, Dave Gamache\\n* www.getskeleton.com\\n* Free to use under the MIT license.\\n* http://www.opensource.org/licenses/mit-license.php\\n* 12/29/2014\\n*/\\n.container {\\n  position: relative;\\n  width: 100%;\\n  max-width: 960px;\\n  margin: 0 auto;\\n  padding: 0 20px;\\n  box-sizing: border-box; }\\n.column,\\n.columns {\\n  width: 100%;\\n  float: left;\\n  box-sizing: border-box; }\\n@media (min-width: 400px) {\\n  .container {\\n    width: 85%;\\n    padding: 0; }\\n}\\n@media (min-width: 550px) {\\n  .container {\\n    width: 80%; }\\n  .column,\\n  .columns {\\n    margin-left: 4%; }\\n  .column:first-child,\\n  .columns:first-child {\\n    margin-left: 0; }\\n\\n  .one.column,\\n  .one.columns                    { width: 4.66666666667%; }\\n  .two.columns                    { width: 13.3333333333%; }\\n  .three.columns                  { width: 22%;            }\\n  .four.columns                   { width: 30.6666666667%; }\\n  .five.columns                   { width: 39.3333333333%; }\\n  .six.columns                    { width: 48%;            }\\n  .seven.columns                  { width: 56.6666666667%; }\\n  .eight.columns                  { width: 65.3333333333%; }\\n  .nine.columns                   { width: 74.0%;          }\\n  .ten.columns                    { width: 82.6666666667%; }\\n  .eleven.columns                 { width: 91.3333333333%; }\\n  .twelve.columns                 { width: 100%; margin-left: 0; }\\n\\n  .one-third.column               { width: 30.6666666667%; }\\n  .two-thirds.column              { width: 65.3333333333%; }\\n\\n  .one-half.column                { width: 48%; }\\n\\n  /* Offsets */\\n  .offset-by-one.column,\\n  .offset-by-one.columns          { margin-left: 8.66666666667%; }\\n  .offset-by-two.column,\\n  .offset-by-two.columns          { margin-left: 17.3333333333%; }\\n  .offset-by-three.column,\\n  .offset-by-three.columns        { margin-left: 26%;            }\\n  .offset-by-four.column,\\n  .offset-by-four.columns         { margin-left: 34.6666666667%; }\\n  .offset-by-five.column,\\n  .offset-by-five.columns         { margin-left: 43.3333333333%; }\\n  .offset-by-six.column,\\n  .offset-by-six.columns          { margin-left: 52%;            }\\n  .offset-by-seven.column,\\n  .offset-by-seven.columns        { margin-left: 60.6666666667%; }\\n  .offset-by-eight.column,\\n  .offset-by-eight.columns        { margin-left: 69.3333333333%; }\\n  .offset-by-nine.column,\\n  .offset-by-nine.columns         { margin-left: 78.0%;          }\\n  .offset-by-ten.column,\\n  .offset-by-ten.columns          { margin-left: 86.6666666667%; }\\n  .offset-by-eleven.column,\\n  .offset-by-eleven.columns       { margin-left: 95.3333333333%; }\\n\\n  .offset-by-one-third.column,\\n  .offset-by-one-third.columns    { margin-left: 34.6666666667%; }\\n  .offset-by-two-thirds.column,\\n  .offset-by-two-thirds.columns   { margin-left: 69.3333333333%; }\\n\\n  .offset-by-one-half.column,\\n  .offset-by-one-half.columns     { margin-left: 52%; }\\n\\n}\\nhtml {\\n  font-size: 62.5%; }\\nbody {\\n  font-size: 1.5em; /* currently ems cause chrome bug misinterpreting rems on body element */\\n  line-height: 1.6;\\n  font-weight: 400;\\n  font-family: \"Raleway\", \"HelveticaNeue\", \"Helvetica Neue\", Helvetica, Arial, sans-serif;\\n  color: #222; }\\nh1, h2, h3, h4, h5, h6 {\\n  margin-top: 0;\\n  margin-bottom: 2rem;\\n  font-weight: 300; }\\nh1 { font-size: 3.6rem; line-height: 1.2;  letter-spacing: -.1rem;}\\nh2 { font-size: 3.4rem; line-height: 1.25; letter-spacing: -.1rem; }\\nh3 { font-size: 3.2rem; line-height: 1.3;  letter-spacing: -.1rem; }\\nh4 { font-size: 2.8rem; line-height: 1.35; letter-spacing: -.08rem; }\\nh5 { font-size: 2.4rem; line-height: 1.5;  letter-spacing: -.05rem; }\\nh6 { font-size: 1.5rem; line-height: 1.6;  letter-spacing: 0; }\\n\\np {\\n  margin-top: 0; }\\na {\\n  color: #1EAEDB; }\\na:hover {\\n  color: #0FA0CE; }\\n.button,\\nbutton,\\ninput[type=\"submit\"],\\ninput[type=\"reset\"],\\ninput[type=\"button\"] {\\n  display: inline-block;\\n  height: 38px;\\n  padding: 0 30px;\\n  color: #555;\\n  text-align: center;\\n  font-size: 11px;\\n  font-weight: 600;\\n  line-height: 38px;\\n  letter-spacing: .1rem;\\n  text-transform: uppercase;\\n  text-decoration: none;\\n  white-space: nowrap;\\n  background-color: transparent;\\n  border-radius: 4px;\\n  border: 1px solid #bbb;\\n  cursor: pointer;\\n  box-sizing: border-box; }\\n.button:hover,\\nbutton:hover,\\ninput[type=\"submit\"]:hover,\\ninput[type=\"reset\"]:hover,\\ninput[type=\"button\"]:hover,\\n.button:focus,\\nbutton:focus,\\ninput[type=\"submit\"]:focus,\\ninput[type=\"reset\"]:focus,\\ninput[type=\"button\"]:focus {\\n  color: #333;\\n  border-color: #888;\\n  outline: 0; }\\n.button.button-primary,\\nbutton.button-primary,\\ninput[type=\"submit\"].button-primary,\\ninput[type=\"reset\"].button-primary,\\ninput[type=\"button\"].button-primary {\\n  color: #FFF;\\n  background-color: #33C3F0;\\n  border-color: #33C3F0; }\\n.button.button-primary:hover,\\nbutton.button-primary:hover,\\ninput[type=\"submit\"].button-primary:hover,\\ninput[type=\"reset\"].button-primary:hover,\\ninput[type=\"button\"].button-primary:hover,\\n.button.button-primary:focus,\\nbutton.button-primary:focus,\\ninput[type=\"submit\"].button-primary:focus,\\ninput[type=\"reset\"].button-primary:focus,\\ninput[type=\"button\"].button-primary:focus {\\n  color: #FFF;\\n  background-color: #1EAEDB;\\n  border-color: #1EAEDB; }\\ninput[type=\"email\"],\\ninput[type=\"number\"],\\ninput[type=\"search\"],\\ninput[type=\"text\"],\\ninput[type=\"tel\"],\\ninput[type=\"url\"],\\ninput[type=\"password\"],\\ntextarea,\\nselect {\\n  height: 38px;\\n  padding: 6px 10px; /* The 6px vertically centers text on FF, ignored by Webkit */\\n  background-color: #fff;\\n  border: 1px solid #D1D1D1;\\n  border-radius: 4px;\\n  box-shadow: none;\\n  box-sizing: border-box; }\\n/* Removes awkward default styles on some inputs for iOS */\\ninput[type=\"email\"],\\ninput[type=\"number\"],\\ninput[type=\"search\"],\\ninput[type=\"text\"],\\ninput[type=\"tel\"],\\ninput[type=\"url\"],\\ninput[type=\"password\"],\\ntextarea {\\n  -webkit-appearance: none;\\n     -moz-appearance: none;\\n          appearance: none; }\\ntextarea {\\n  min-height: 65px;\\n  padding-top: 6px;\\n  padding-bottom: 6px; }\\ninput[type=\"email\"]:focus,\\ninput[type=\"number\"]:focus,\\ninput[type=\"search\"]:focus,\\ninput[type=\"text\"]:focus,\\ninput[type=\"tel\"]:focus,\\ninput[type=\"url\"]:focus,\\ninput[type=\"password\"]:focus,\\ntextarea:focus,\\nselect:focus {\\n  border: 1px solid #33C3F0;\\n  outline: 0; }\\nlabel,\\nlegend {\\n  display: block;\\n  margin-bottom: .5rem;\\n  font-weight: 600; }\\nfieldset {\\n  padding: 0;\\n  border-width: 0; }\\ninput[type=\"checkbox\"],\\ninput[type=\"radio\"] {\\n  display: inline; }\\nlabel > .label-body {\\n  display: inline-block;\\n  margin-left: .5rem;\\n  font-weight: normal; }\\nul {\\n  list-style: circle inside; }\\nol {\\n  list-style: decimal inside; }\\nol, ul {\\n  padding-left: 0;\\n  margin-top: 0; }\\nul ul,\\nul ol,\\nol ol,\\nol ul {\\n  margin: 1.5rem 0 1.5rem 3rem;\\n  font-size: 90%; }\\nli {\\n  margin-bottom: 1rem; }\\nth,\\ntd {\\n  padding: 12px 15px;\\n  text-align: left;\\n  border-bottom: 1px solid #E1E1E1; }\\nth:first-child,\\ntd:first-child {\\n  padding-left: 0; }\\nth:last-child,\\ntd:last-child {\\n  padding-right: 0; }\\nbutton,\\n.button {\\n  margin-bottom: 1rem; }\\ninput,\\ntextarea,\\nselect,\\nfieldset {\\n  margin-bottom: 1.5rem; }\\npre,\\nblockquote,\\ndl,\\nfigure,\\ntable,\\np,\\nul,\\nol,\\nform {\\n  margin-bottom: 2.5rem; }\\n.u-full-width {\\n  width: 100%;\\n  box-sizing: border-box; }\\n.u-max-full-width {\\n  max-width: 100%;\\n  box-sizing: border-box; }\\n.u-pull-right {\\n  float: right; }\\n.u-pull-left {\\n  float: left; }\\nhr {\\n  margin-top: 3rem;\\n  margin-bottom: 3.5rem;\\n  border-width: 0;\\n  border-top: 1px solid #E1E1E1; }\\n.container:after,\\n.row:after,\\n.u-cf {\\n  content: \"\";\\n  display: table;\\n  clear: both; }\\n\\npre {\\n  display: block;\\n  padding: 9.5px;\\n  margin: 0 0 10px;\\n  font-size: 13px;\\n  line-height: 1.42857143;\\n  color: #333;\\n  word-break: break-all;\\n  word-wrap: break-word;\\n  background-color: #f5f5f5;\\n  border: 1px solid #ccc;\\n  border-radius: 4px;\\n}\\ncode,\\nkbd,\\npre,\\nsamp {\\n  font-family: Menlo, Monaco, Consolas, \"Courier New\", monospace;\\n}\\ncode {\\n  padding: 2px 4px;\\n  font-size: 90%;\\n  color: #c7254e;\\n  background-color: #f9f2f4;\\n  border-radius: 4px;\\n}\\n\\n@media (min-width: 400px) {}\\n@media (min-width: 550px) {}\\n@media (min-width: 750px) {}\\n@media (min-width: 1000px) {}\\n@media (min-width: 1200px) {}\\n\\n.hll { background-color: #ffffcc }\\n.c { color: #408080; font-style: italic } /* Comment */\\n.err { border: 1px solid #FF0000 } /* Error */\\n.k { color: #008000; font-weight: bold } /* Keyword */\\n.o { color: #666666 } /* Operator */\\n.ch { color: #408080; font-style: italic } /* Comment.Hashbang */\\n.cm { color: #408080; font-style: italic } /* Comment.Multiline */\\n.cp { color: #BC7A00 } /* Comment.Preproc */\\n.cpf { color: #408080; font-style: italic } /* Comment.PreprocFile */\\n.c1 { color: #408080; font-style: italic } /* Comment.Single */\\n.cs { color: #408080; font-style: italic } /* Comment.Special */\\n.gd { color: #A00000 } /* Generic.Deleted */\\n.ge { font-style: italic } /* Generic.Emph */\\n.gr { color: #FF0000 } /* Generic.Error */\\n.gh { color: #000080; font-weight: bold } /* Generic.Heading */\\n.gi { color: #00A000 } /* Generic.Inserted */\\n.go { color: #888888 } /* Generic.Output */\\n.gp { color: #000080; font-weight: bold } /* Generic.Prompt */\\n.gs { font-weight: bold } /* Generic.Strong */\\n.gu { color: #800080; font-weight: bold } /* Generic.Subheading */\\n.gt { color: #0044DD } /* Generic.Traceback */\\n.kc { color: #008000; font-weight: bold } /* Keyword.Constant */\\n.kd { color: #008000; font-weight: bold } /* Keyword.Declaration */\\n.kn { color: #008000; font-weight: bold } /* Keyword.Namespace */\\n.kp { color: #008000 } /* Keyword.Pseudo */\\n.kr { color: #008000; font-weight: bold } /* Keyword.Reserved */\\n.kt { color: #B00040 } /* Keyword.Type */\\n.m { color: #666666 } /* Literal.Number */\\n.s { color: #BA2121 } /* Literal.String */\\n.na { color: #7D9029 } /* Name.Attribute */\\n.nb { color: #008000 } /* Name.Builtin */\\n.nc { color: #0000FF; font-weight: bold } /* Name.Class */\\n.no { color: #880000 } /* Name.Constant */\\n.nd { color: #AA22FF } /* Name.Decorator */\\n.ni { color: #999999; font-weight: bold } /* Name.Entity */\\n.ne { color: #D2413A; font-weight: bold } /* Name.Exception */\\n.nf { color: #0000FF } /* Name.Function */\\n.nl { color: #A0A000 } /* Name.Label */\\n.nn { color: #0000FF; font-weight: bold } /* Name.Namespace */\\n.nt { color: #008000; font-weight: bold } /* Name.Tag */\\n.nv { color: #19177C } /* Name.Variable */\\n.ow { color: #AA22FF; font-weight: bold } /* Operator.Word */\\n.w { color: #bbbbbb } /* Text.Whitespace */\\n.mb { color: #666666 } /* Literal.Number.Bin */\\n.mf { color: #666666 } /* Literal.Number.Float */\\n.mh { color: #666666 } /* Literal.Number.Hex */\\n.mi { color: #666666 } /* Literal.Number.Integer */\\n.mo { color: #666666 } /* Literal.Number.Oct */\\n.sa { color: #BA2121 } /* Literal.String.Affix */\\n.sb { color: #BA2121 } /* Literal.String.Backtick */\\n.sc { color: #BA2121 } /* Literal.String.Char */\\n.dl { color: #BA2121 } /* Literal.String.Delimiter */\\n.sd { color: #BA2121; font-style: italic } /* Literal.String.Doc */\\n.s2 { color: #BA2121 } /* Literal.String.Double */\\n.se { color: #BB6622; font-weight: bold } /* Literal.String.Escape */\\n.sh { color: #BA2121 } /* Literal.String.Heredoc */\\n.si { color: #BB6688; font-weight: bold } /* Literal.String.Interpol */\\n.sx { color: #008000 } /* Literal.String.Other */\\n.sr { color: #BB6688 } /* Literal.String.Regex */\\n.s1 { color: #BA2121 } /* Literal.String.Single */\\n.ss { color: #19177C } /* Literal.String.Symbol */\\n.bp { color: #008000 } /* Name.Builtin.Pseudo */\\n.fm { color: #0000FF } /* Name.Function.Magic */\\n.vc { color: #19177C } /* Name.Variable.Class */\\n.vg { color: #19177C } /* Name.Variable.Global */\\n.vi { color: #19177C } /* Name.Variable.Instance */\\n.vm { color: #19177C } /* Name.Variable.Magic */\\n.il { color: #666666 } /* Literal.Number.Integer.Long */\\n\\nh1.title {margin-top : 20px}\\nimg {max-width : 100%}\\n\\n#From nbconvert\\n.ansi-black-fg { color: #3E424D; }\\n.ansi-black-bg { background-color: #3E424D; }\\n.ansi-black-intense-fg { color: #282C36; }\\n.ansi-black-intense-bg { background-color: #282C36; }\\n.ansi-red-fg { color: #E75C58; }\\n.ansi-red-bg { background-color: #E75C58; }\\n.ansi-red-intense-fg { color: #B22B31; }\\n.ansi-red-intense-bg { background-color: #B22B31; }\\n.ansi-green-fg { color: #00A250; }\\n.ansi-green-bg { background-color: #00A250; }\\n.ansi-green-intense-fg { color: #007427; }\\n.ansi-green-intense-bg { background-color: #007427; }\\n.ansi-yellow-fg { color: #DDB62B; }\\n.ansi-yellow-bg { background-color: #DDB62B; }\\n.ansi-yellow-intense-fg { color: #B27D12; }\\n.ansi-yellow-intense-bg { background-color: #B27D12; }\\n.ansi-blue-fg { color: #208FFB; }\\n.ansi-blue-bg { background-color: #208FFB; }\\n.ansi-blue-intense-fg { color: #0065CA; }\\n.ansi-blue-intense-bg { background-color: #0065CA; }\\n.ansi-magenta-fg { color: #D160C4; }\\n.ansi-magenta-bg { background-color: #D160C4; }\\n.ansi-magenta-intense-fg { color: #A03196; }\\n.ansi-magenta-intense-bg { background-color: #A03196; }\\n.ansi-cyan-fg { color: #60C6C8; }\\n.ansi-cyan-bg { background-color: #60C6C8; }\\n.ansi-cyan-intense-fg { color: #258F8F; }\\n.ansi-cyan-intense-bg { background-color: #258F8F; }\\n.ansi-white-fg { color: #C5C1B4; }\\n.ansi-white-bg { background-color: #C5C1B4; }\\n.ansi-white-intense-fg { color: #A1A6B2; }\\n.ansi-white-intense-bg { background-color: #A1A6B2; }\\n.ansi-bold { font-weight: bold; }\\n\\n.card {\\n font-family: Times New ROman;\\n //font-size: 20px;\\n text-align: left;\\n color: black;\\n background-color: white;\\n}\\n',\n",
       " 'latexPre': '\\\\documentclass[12pt]{article}\\n\\\\special{papersize=3in,5in}\\n\\\\usepackage[utf8]{inputenc}\\n\\\\usepackage{amssymb,amsmath}\\n\\\\pagestyle{empty}\\n\\\\setlength{\\\\parindent}{0in}\\n\\\\begin{document}\\n',\n",
       " 'latexPost': '\\\\end{document}',\n",
       " 'latexsvg': False,\n",
       " 'req': [[0, 'any', [0]]],\n",
       " 'vers': [],\n",
       " 'tags': []}"
      ]
     },
     "execution_count": 16,
     "metadata": {},
     "output_type": "execute_result"
    }
   ],
   "source": [
    "m = col.models.get(note.note_type()['id'])\n",
    "m"
   ]
  },
  {
   "cell_type": "code",
   "execution_count": 212,
   "id": "aa6319ac-f89b-4673-8f5a-f3334ff39648",
   "metadata": {},
   "outputs": [],
   "source": [
    "answered_at = datetime.datetime(2022, 8, 6)"
   ]
  },
  {
   "cell_type": "code",
   "execution_count": 213,
   "id": "212c30c5-ffbd-4634-94e2-ca22a0a033d0",
   "metadata": {},
   "outputs": [
    {
     "name": "stdout",
     "output_type": "stream",
     "text": [
      "2022-08-06 00:00:00\n",
      "3\n",
      "<Card: id=1580335330401, type=1, queue=1, due=1674248228, factor=0, reps=3, lapses=0>\n",
      "\n"
     ]
    },
    {
     "data": {
      "text/html": [
       "\n",
       "<div class =\"container\">\n",
       "  <div class = \"row\">\n",
       "    <div class = \"col-md-12 twelve columns\">\n",
       "\n",
       "<p>CET-07.01-17 Exercise:<br />\n",
       "Evaluate the integral.<br />\n",
       "<span class=\"math\">\\[\\int e^{2 \\theta} \\sin 3 \\theta d \\theta\\]</span class=\"math\"></p>\n",
       "\n",
       "      </div>\n",
       "  </div>\n",
       "</div>\n"
      ],
      "text/plain": [
       "<IPython.core.display.HTML object>"
      ]
     },
     "execution_count": 213,
     "metadata": {},
     "output_type": "execute_result"
    }
   ],
   "source": [
    "rating = 3 # CardAnswer.GOOD\n",
    "seconds_taken = 0\n",
    "\n",
    "browser = aqt.dialogs._dialogs['Browser'][1]\n",
    "table = browser.table\n",
    "card = table.get_single_selected_card()\n",
    "print(f\"{answered_at}\\n{rating}\\n{card}\\n\")\n",
    "display.HTML(card.note().fields[0])"
   ]
  },
  {
   "cell_type": "code",
   "execution_count": 222,
   "id": "3b876a59-ce1f-4d29-b03d-0e4c421db24f",
   "metadata": {},
   "outputs": [
    {
     "name": "stdout",
     "output_type": "stream",
     "text": [
      "2022-08-05 00:00:00\n",
      "1\n",
      "<Card: id=1605842510306, type=1, queue=1, due=1674065626, factor=0, reps=1, lapses=0>\n",
      "\n"
     ]
    },
    {
     "data": {
      "text/html": [
       "\n",
       "<div class=\"container\">\n",
       "  <div class=\"row\">\n",
       "    <div class=\"col-md-12 twelve columns\">\n",
       "\n",
       "<p>CET-07.03-13 Exercise:</p>\n",
       "<h4>Techniques of Integration</h4>\n",
       "<h5>Trigonometric Substitution</h5>\n",
       "<p>Temporary: work out of CET textbook.</p>\n",
       "\n",
       "      </div>\n",
       "  </div>\n",
       "</div>\n"
      ],
      "text/plain": [
       "<IPython.core.display.HTML object>"
      ]
     },
     "execution_count": 222,
     "metadata": {},
     "output_type": "execute_result"
    }
   ],
   "source": [
    "rating = 2 # CardAnswer.HARD\n",
    "seconds_taken = 0\n",
    "\n",
    "browser = aqt.dialogs._dialogs['Browser'][1]\n",
    "table = browser.table\n",
    "card = table.get_single_selected_card()\n",
    "print(f\"{answered_at}\\n{rating}\\n{card}\\n\")\n",
    "display.HTML(card.note().fields[0])"
   ]
  },
  {
   "cell_type": "code",
   "execution_count": 200,
   "id": "a1f8c60b-d195-42f8-8acf-bfbd23a50615",
   "metadata": {},
   "outputs": [
    {
     "name": "stdout",
     "output_type": "stream",
     "text": [
      "2022-08-07 00:00:00\n",
      "1\n",
      "<Card: id=1605842610989, type=0, queue=0, due=1177192, factor=0, reps=0, lapses=0>\n",
      "\n"
     ]
    },
    {
     "data": {
      "text/html": [
       "\n",
       "<div class =\"container\">\n",
       "  <div class = \"row\">\n",
       "    <div class = \"col-md-12 twelve columns\">\n",
       "\n",
       "<p>CET-07.04-22 Exercise:</p>\n",
       "<h4>Techniques of Integration</h4>\n",
       "<h5>Integration of Rational Functions by Partial Fractions</h5>\n",
       "<p>Temporary: work out of CET textbook.</p>\n",
       "\n",
       "      </div>\n",
       "  </div>\n",
       "</div>\n"
      ],
      "text/plain": [
       "<IPython.core.display.HTML object>"
      ]
     },
     "execution_count": 200,
     "metadata": {},
     "output_type": "execute_result"
    }
   ],
   "source": [
    "rating = 1 # CardAnswer.AGAIN\n",
    "seconds_taken = 0\n",
    "\n",
    "browser = aqt.dialogs._dialogs['Browser'][1]\n",
    "table = browser.table\n",
    "card = table.get_single_selected_card()\n",
    "print(f\"{answered_at}\\n{rating}\\n{card}\\n\")\n",
    "display.HTML(card.note().fields[0])"
   ]
  },
  {
   "cell_type": "code",
   "execution_count": null,
   "id": "2be65bf8-f855-4262-bc24-7d7f69525273",
   "metadata": {
    "tags": []
   },
   "outputs": [],
   "source": [
    "answer_card(build_answer(card=card, rating=rating, seconds_taken=seconds_taken, answered_at = answered_at))"
   ]
  },
  {
   "cell_type": "code",
   "execution_count": 220,
   "id": "5cdc08cd-34f3-4003-8bae-1668a5059ceb",
   "metadata": {},
   "outputs": [
    {
     "data": {
      "text/plain": [
       "id: 1659852000008\n",
       "cid: 1580335331679\n",
       "usn: -1\n",
       "button_chosen: 2\n",
       "interval: -60\n",
       "last_interval: -60"
      ]
     },
     "execution_count": 220,
     "metadata": {},
     "output_type": "execute_result"
    }
   ],
   "source": [
    "tmp_review = table.get_current_review()\n",
    "tmp_review.button_chosen = 2\n",
    "tmp_review"
   ]
  },
  {
   "cell_type": "code",
   "execution_count": 221,
   "id": "055a0ae2-715d-4a0e-9bcb-353aef1c3c51",
   "metadata": {},
   "outputs": [
    {
     "data": {
      "text/plain": [
       "mtime: true\n",
       "revlog_entry: true\n",
       "browser_table: true"
      ]
     },
     "execution_count": 221,
     "metadata": {},
     "output_type": "execute_result"
    },
    {
     "name": "stdout",
     "output_type": "stream",
     "text": [
      "1674251811.617 POST /_anki/completeTag\n",
      "JS error /_anki/legacyPageData?id=139642062653184:0 ResizeObserver loop limit exceeded\n",
      "1674251811.767 POST /_anki/completeTag\n",
      "1674251811.942 POST /_anki/completeTag\n",
      "1674251816.445 POST /_anki/completeTag\n",
      "JS error /_anki/legacyPageData?id=139642062653184:0 ResizeObserver loop limit exceeded\n",
      "1674251817.552 POST /_anki/completeTag\n",
      "1674251817.768 POST /_anki/completeTag\n",
      "1674251818.154 POST /_anki/completeTag\n",
      "1674251818.406 POST /_anki/completeTag\n",
      "1674251818.474 POST /_anki/completeTag\n",
      "1674251818.714 POST /_anki/completeTag\n",
      "1674251818.851 POST /_anki/completeTag\n",
      "1674251819.114 POST /_anki/completeTag\n",
      "1674251819.368 POST /_anki/completeTag\n",
      "1674251819.506 POST /_anki/completeTag\n",
      "1674251819.650 POST /_anki/completeTag\n",
      "1674251819.890 POST /_anki/completeTag\n",
      "1674251820.017 POST /_anki/completeTag\n",
      "1674251820.178 POST /_anki/completeTag\n",
      "1674251820.625 POST /_anki/completeTag\n",
      "1674251820.760 POST /_anki/completeTag\n",
      "1674251820.921 POST /_anki/completeTag\n",
      "1674251821.106 POST /_anki/completeTag\n",
      "1674251821.260 POST /_anki/completeTag\n",
      "1674251821.402 POST /_anki/completeTag\n",
      "1674251821.586 POST /_anki/completeTag\n",
      "1674251822.307 POST /_anki/completeTag\n",
      "1674251822.514 POST /_anki/completeTag\n",
      "1674251843.757 POST /_anki/completeTag\n",
      "JS error /_anki/legacyPageData?id=139642062653184:0 ResizeObserver loop limit exceeded\n",
      "1674251857.084 POST /_anki/completeTag\n",
      "1674251858.019 POST /_anki/completeTag\n",
      "1674251858.563 POST /_anki/completeTag\n",
      "1674251858.762 POST /_anki/completeTag\n",
      "1674251859.353 POST /_anki/completeTag\n",
      "1674251859.630 POST /_anki/completeTag\n",
      "1674251859.778 POST /_anki/completeTag\n",
      "1674251860.256 POST /_anki/completeTag\n",
      "1674251861.361 POST /_anki/completeTag\n",
      "1674251861.608 POST /_anki/completeTag\n",
      "1674251861.785 POST /_anki/completeTag\n",
      "1674251862.487 POST /_anki/completeTag\n",
      "1674251868.816 POST /_anki/completeTag\n",
      "1674251869.162 POST /_anki/completeTag\n",
      "1674251869.361 POST /_anki/completeTag\n",
      "1674251870.609 POST /_anki/completeTag\n",
      "1674251870.875 POST /_anki/completeTag\n",
      "1674251874.320 POST /_anki/completeTag\n",
      "1674251874.547 POST /_anki/completeTag\n",
      "1674251874.722 POST /_anki/completeTag\n",
      "1674251874.890 POST /_anki/completeTag\n",
      "1674251875.075 POST /_anki/completeTag\n",
      "1674251879.587 POST /_anki/completeTag\n",
      "1674251884.848 POST /_anki/completeTag\n",
      "1674251885.073 POST /_anki/completeTag\n",
      "1674251885.440 POST /_anki/completeTag\n",
      "1674251900.673 POST /_anki/completeTag\n",
      "1674251900.743 POST /_anki/completeTag\n",
      "1674251901.011 POST /_anki/completeTag\n",
      "1674251901.194 POST /_anki/completeTag\n",
      "1674251901.458 POST /_anki/completeTag\n",
      "1674251901.488 POST /_anki/completeTag\n",
      "1674251901.576 POST /_anki/completeTag\n",
      "1674251901.678 POST /_anki/completeTag\n",
      "1674251901.858 POST /_anki/completeTag\n",
      "1674251902.058 POST /_anki/completeTag\n",
      "1674251902.355 POST /_anki/completeTag\n",
      "1674251902.508 POST /_anki/completeTag\n",
      "1674251902.626 POST /_anki/completeTag\n",
      "1674251902.754 POST /_anki/completeTag\n",
      "1674251903.003 POST /_anki/completeTag\n",
      "1674251903.400 POST /_anki/completeTag\n",
      "1674251903.519 POST /_anki/completeTag\n",
      "1674251903.589 POST /_anki/completeTag\n",
      "1674251903.754 POST /_anki/completeTag\n",
      "1674251904.053 POST /_anki/completeTag\n",
      "1674251904.350 POST /_anki/completeTag\n",
      "1674251904.572 POST /_anki/completeTag\n",
      "1674251904.683 POST /_anki/completeTag\n",
      "1674251904.907 POST /_anki/completeTag\n",
      "1674251905.271 POST /_anki/completeTag\n",
      "1674251905.442 POST /_anki/completeTag\n",
      "1674251905.558 POST /_anki/completeTag\n",
      "1674251905.674 POST /_anki/completeTag\n",
      "1674251905.810 POST /_anki/completeTag\n",
      "1674251905.962 POST /_anki/completeTag\n",
      "1674251906.099 POST /_anki/completeTag\n",
      "1674251911.282 POST /_anki/completeTag\n",
      "1674252021.376 POST /_anki/completeTag\n",
      "JS error /_anki/legacyPageData?id=139642062653184:0 ResizeObserver loop limit exceeded\n",
      "1674252021.590 POST /_anki/completeTag\n",
      "1674252021.657 POST /_anki/completeTag\n",
      "1674252021.833 POST /_anki/completeTag\n",
      "1674252022.003 POST /_anki/completeTag\n"
     ]
    }
   ],
   "source": [
    "col.update_revlog_entry(tmp_review)"
   ]
  },
  {
   "cell_type": "code",
   "execution_count": 221,
   "id": "6a6bd4d6-7b5e-4f0f-bbb2-aafac4beaa8e",
   "metadata": {},
   "outputs": [
    {
     "name": "stdout",
     "output_type": "stream",
     "text": [
      "1674066256.067 GET /_anki/legacyPageData\n",
      "1674066256.068 GET /_anki/legacyPageData\n",
      "1674066256.081 GET /_anki/css/webview.css\n",
      "1674066256.083 GET /_anki/css/toolbar.css\n",
      "1674066256.084 GET /_anki/css/toolbar-bottom.css\n",
      "1674066256.084 GET /_anki/css/webview.css\n",
      "1674066256.085 GET /_anki/js/webview.js\n",
      "1674066256.086 GET /_anki/js/vendor/jquery.min.js\n",
      "1674066256.089 GET /_anki/css/deckbrowser.css\n",
      "1674066256.089 GET /_anki/js/webview.js\n",
      "1674066256.090 GET /_anki/js/vendor/jquery-ui.min.js\n",
      "1674066256.090 GET /_anki/js/vendor/jquery.min.js\n",
      "1674066256.091 GET /_anki/js/deckbrowser.js\n",
      "1674066256.091 GET /_anki/imgs/gears.svg\n",
      "1674066403.889 POST /_anki/completeTag\n",
      "JS error /_anki/legacyPageData?id=140349734168896:0 ResizeObserver loop limit exceeded\n",
      "1674066404.021 POST /_anki/completeTag\n",
      "1674066404.366 POST /_anki/completeTag\n",
      "1674066404.531 POST /_anki/completeTag\n",
      "1674066404.675 POST /_anki/completeTag\n",
      "1674066404.766 POST /_anki/completeTag\n",
      "1674066409.397 POST /_anki/completeTag\n",
      "JS error /_anki/legacyPageData?id=140349734168896:0 ResizeObserver loop limit exceeded\n",
      "1674066410.873 POST /_anki/completeTag\n",
      "1674066411.090 POST /_anki/completeTag\n",
      "1674066475.945 POST /_anki/completeTag\n",
      "1674066476.202 POST /_anki/completeTag\n",
      "1674066476.362 POST /_anki/completeTag\n",
      "1674066476.556 POST /_anki/completeTag\n",
      "1674066476.643 POST /_anki/completeTag\n",
      "1674066476.826 POST /_anki/completeTag\n",
      "1674066477.002 POST /_anki/completeTag\n",
      "1674066477.124 POST /_anki/completeTag\n",
      "1674066477.443 POST /_anki/completeTag\n",
      "1674066477.611 POST /_anki/completeTag\n",
      "1674066477.723 POST /_anki/completeTag\n",
      "1674066477.875 POST /_anki/completeTag\n",
      "1674066477.964 POST /_anki/completeTag\n",
      "1674066478.249 POST /_anki/completeTag\n",
      "1674066478.579 POST /_anki/completeTag\n",
      "1674066478.857 POST /_anki/completeTag\n",
      "1674066479.011 POST /_anki/completeTag\n",
      "1674066479.250 POST /_anki/completeTag\n",
      "1674066479.539 POST /_anki/completeTag\n",
      "1674066482.740 POST /_anki/completeTag\n",
      "1674066482.810 POST /_anki/completeTag\n",
      "1674066482.940 POST /_anki/completeTag\n",
      "1674066668.730 POST /_anki/completeTag\n",
      "JS error /_anki/legacyPageData?id=140349734168896:0 ResizeObserver loop limit exceeded\n",
      "1674066668.953 POST /_anki/completeTag\n",
      "1674066669.210 POST /_anki/completeTag\n",
      "1674066669.387 POST /_anki/completeTag\n",
      "1674066782.513 POST /_anki/completeTag\n",
      "JS error /_anki/legacyPageData?id=140349734168896:0 ResizeObserver loop limit exceeded\n",
      "1674066784.105 POST /_anki/completeTag\n",
      "1674066784.499 POST /_anki/completeTag\n",
      "1674066784.707 POST /_anki/completeTag\n",
      "1674066787.563 POST /_anki/completeTag\n",
      "JS error /_anki/legacyPageData?id=140349734168896:0 ResizeObserver loop limit exceeded\n",
      "1674066826.241 POST /_anki/completeTag\n",
      "JS error /_anki/legacyPageData?id=140349734168896:0 ResizeObserver loop limit exceeded\n",
      "1674066826.458 POST /_anki/completeTag\n",
      "1674066827.492 POST /_anki/completeTag\n",
      "1674066827.691 POST /_anki/completeTag\n",
      "1674066827.891 POST /_anki/completeTag\n",
      "1674066827.989 POST /_anki/completeTag\n",
      "1674066828.060 POST /_anki/completeTag\n",
      "1674066828.251 POST /_anki/completeTag\n",
      "1674066831.749 POST /_anki/completeTag\n",
      "JS error /_anki/legacyPageData?id=140349734168896:0 ResizeObserver loop limit exceeded\n",
      "1674066833.121 POST /_anki/completeTag\n",
      "1674066833.747 POST /_anki/completeTag\n",
      "1674066834.625 POST /_anki/completeTag\n",
      "1674066834.851 POST /_anki/completeTag\n",
      "1674066834.967 POST /_anki/completeTag\n",
      "1674066835.195 POST /_anki/completeTag\n",
      "1674066835.371 POST /_anki/completeTag\n",
      "1674066835.530 POST /_anki/completeTag\n",
      "1674066835.691 POST /_anki/completeTag\n",
      "1674066836.475 POST /_anki/completeTag\n",
      "1674066836.660 POST /_anki/completeTag\n",
      "1674066837.330 POST /_anki/completeTag\n",
      "1674066837.658 POST /_anki/completeTag\n",
      "1674066837.858 POST /_anki/completeTag\n",
      "1674066837.972 POST /_anki/completeTag\n",
      "1674066838.115 POST /_anki/completeTag\n",
      "1674066838.348 POST /_anki/completeTag\n",
      "1674066838.411 POST /_anki/completeTag\n",
      "1674066838.514 POST /_anki/completeTag\n",
      "1674066838.619 POST /_anki/completeTag\n",
      "1674066838.840 POST /_anki/completeTag\n",
      "1674066839.932 POST /_anki/completeTag\n",
      "1674066840.123 POST /_anki/completeTag\n",
      "1674066840.596 POST /_anki/completeTag\n",
      "1674066840.892 POST /_anki/completeTag\n",
      "1674066841.036 POST /_anki/completeTag\n",
      "1674066841.219 POST /_anki/completeTag\n",
      "1674066841.445 POST /_anki/completeTag\n",
      "1674066841.598 POST /_anki/completeTag\n",
      "1674066841.747 POST /_anki/completeTag\n",
      "1674066841.829 POST /_anki/completeTag\n",
      "1674066841.980 POST /_anki/completeTag\n",
      "1674066842.795 POST /_anki/completeTag\n",
      "1674066843.313 POST /_anki/completeTag\n",
      "1674066843.620 POST /_anki/completeTag\n",
      "1674066843.708 POST /_anki/completeTag\n",
      "1674066843.992 POST /_anki/completeTag\n",
      "1674066856.065 GET /_anki/legacyPageData\n",
      "1674066856.065 GET /_anki/legacyPageData\n",
      "1674066856.081 GET /_anki/css/webview.css\n",
      "1674066856.082 GET /_anki/css/deckbrowser.css\n",
      "1674066856.083 GET /_anki/js/webview.js\n",
      "1674066856.084 GET /_anki/js/vendor/jquery.min.js\n",
      "1674066856.085 GET /_anki/js/vendor/jquery-ui.min.js\n",
      "1674066856.085 GET /_anki/imgs/gears.svg\n",
      "1674066856.086 GET /_anki/js/deckbrowser.js\n",
      "1674066856.089 GET /_anki/css/webview.css\n",
      "1674066856.089 GET /_anki/js/webview.js\n",
      "1674066856.090 GET /_anki/css/toolbar-bottom.css\n",
      "1674066856.090 GET /_anki/css/toolbar.css\n",
      "1674066856.091 GET /_anki/js/vendor/jquery.min.js\n",
      "1674067456.192 GET /_anki/legacyPageData\n",
      "1674067456.193 GET /_anki/legacyPageData\n",
      "1674067456.208 GET /_anki/css/webview.css\n",
      "1674067456.208 GET /_anki/css/deckbrowser.css\n",
      "1674067456.209 GET /_anki/js/webview.js\n",
      "1674067456.210 GET /_anki/js/vendor/jquery.min.js\n",
      "1674067456.211 GET /_anki/js/vendor/jquery-ui.min.js\n",
      "1674067456.212 GET /_anki/js/deckbrowser.js\n",
      "1674067456.213 GET /_anki/imgs/gears.svg\n",
      "1674067456.217 GET /_anki/css/webview.css\n",
      "1674067456.217 GET /_anki/css/toolbar.css\n",
      "1674067456.218 GET /_anki/js/vendor/jquery.min.js\n",
      "1674067456.218 GET /_anki/js/webview.js\n",
      "1674067456.219 GET /_anki/css/toolbar-bottom.css\n",
      "1674068056.053 GET /_anki/legacyPageData\n",
      "1674068056.055 GET /_anki/legacyPageData\n",
      "1674068056.070 GET /_anki/css/webview.css\n",
      "1674068056.072 GET /_anki/css/deckbrowser.css\n",
      "1674068056.073 GET /_anki/js/webview.js\n",
      "1674068056.074 GET /_anki/js/vendor/jquery.min.js\n",
      "1674068056.075 GET /_anki/js/vendor/jquery-ui.min.js\n",
      "1674068056.076 GET /_anki/js/deckbrowser.js\n",
      "1674068056.080 GET /_anki/css/webview.css\n",
      "1674068056.080 GET /_anki/css/toolbar.css\n",
      "1674068056.080 GET /_anki/css/toolbar-bottom.css\n",
      "1674068056.081 GET /_anki/js/webview.js\n",
      "1674068056.082 GET /_anki/js/vendor/jquery.min.js\n",
      "1674068056.082 GET /_anki/imgs/gears.svg\n",
      "1674068516.167 POST /_anki/completeTag\n",
      "JS error /_anki/legacyPageData?id=140349734168896:0 ResizeObserver loop limit exceeded\n",
      "1674068516.435 POST /_anki/completeTag\n",
      "1674068516.575 POST /_anki/completeTag\n",
      "1674068516.715 POST /_anki/completeTag\n",
      "1674068517.677 POST /_anki/completeTag\n",
      "1674068517.814 POST /_anki/completeTag\n",
      "1674068517.999 POST /_anki/completeTag\n",
      "1674068531.153 POST /_anki/completeTag\n",
      "JS error /_anki/legacyPageData?id=140349734168896:0 ResizeObserver loop limit exceeded\n",
      "1674068532.378 POST /_anki/completeTag\n",
      "1674068535.180 POST /_anki/completeTag\n",
      "1674068538.238 POST /_anki/completeTag\n",
      "1674068538.728 POST /_anki/completeTag\n",
      "1674068539.645 POST /_anki/completeTag\n",
      "1674068539.857 POST /_anki/completeTag\n",
      "1674068540.175 POST /_anki/completeTag\n",
      "1674068540.479 POST /_anki/completeTag\n",
      "1674068540.759 POST /_anki/completeTag\n",
      "1674068540.952 POST /_anki/completeTag\n",
      "1674068541.645 POST /_anki/completeTag\n",
      "1674068541.808 POST /_anki/completeTag\n",
      "1674068542.016 POST /_anki/completeTag\n",
      "1674068542.208 POST /_anki/completeTag\n",
      "1674068542.374 POST /_anki/completeTag\n",
      "1674068542.503 POST /_anki/completeTag\n",
      "1674068544.744 POST /_anki/completeTag\n",
      "1674068545.664 POST /_anki/completeTag\n",
      "1674068545.887 POST /_anki/completeTag\n",
      "1674068548.353 POST /_anki/completeTag\n",
      "1674068548.488 POST /_anki/completeTag\n",
      "1674068548.631 POST /_anki/completeTag\n",
      "1674068548.752 POST /_anki/completeTag\n",
      "1674068548.907 POST /_anki/completeTag\n",
      "1674068549.048 POST /_anki/completeTag\n",
      "1674068549.180 POST /_anki/completeTag\n",
      "1674068549.399 POST /_anki/completeTag\n",
      "1674068550.341 POST /_anki/completeTag\n",
      "1674068550.829 POST /_anki/completeTag\n",
      "1674068551.049 POST /_anki/completeTag\n",
      "1674068551.175 POST /_anki/completeTag\n",
      "1674068553.144 POST /_anki/completeTag\n",
      "1674068553.351 POST /_anki/completeTag\n",
      "1674068570.845 POST /_anki/completeTag\n",
      "1674068572.984 POST /_anki/completeTag\n",
      "1674068656.040 GET /_anki/legacyPageData\n",
      "1674068656.041 GET /_anki/legacyPageData\n",
      "1674068656.054 GET /_anki/css/webview.css\n",
      "1674068656.054 GET /_anki/css/deckbrowser.css\n",
      "1674068656.055 GET /_anki/js/webview.js\n",
      "1674068656.061 GET /_anki/css/webview.css\n",
      "1674068656.062 GET /_anki/css/toolbar.css\n",
      "1674068656.063 GET /_anki/css/toolbar-bottom.css\n",
      "1674068656.063 GET /_anki/js/webview.js\n",
      "1674068656.065 GET /_anki/js/vendor/jquery.min.js\n",
      "1674068656.068 GET /_anki/js/vendor/jquery.min.js\n",
      "1674068656.069 GET /_anki/js/vendor/jquery-ui.min.js\n",
      "1674068656.069 GET /_anki/imgs/gears.svg\n",
      "1674068656.070 GET /_anki/js/deckbrowser.js\n",
      "1674068657.912 POST /_anki/completeTag\n",
      "1674068658.128 POST /_anki/completeTag\n",
      "1674068658.893 POST /_anki/completeTag\n",
      "1674068659.247 POST /_anki/completeTag\n",
      "1674068659.498 POST /_anki/completeTag\n",
      "1674068659.729 POST /_anki/completeTag\n",
      "1674068672.056 POST /_anki/completeTag\n",
      "1674068672.230 POST /_anki/completeTag\n",
      "1674068672.440 POST /_anki/completeTag\n",
      "1674068672.624 POST /_anki/completeTag\n",
      "1674068674.392 POST /_anki/completeTag\n",
      "1674068674.615 POST /_anki/completeTag\n",
      "1674068674.949 POST /_anki/completeTag\n",
      "1674068675.415 POST /_anki/completeTag\n",
      "1674068675.837 POST /_anki/completeTag\n",
      "1674068676.043 POST /_anki/completeTag\n",
      "1674068676.192 POST /_anki/completeTag\n",
      "1674068676.355 POST /_anki/completeTag\n",
      "1674068840.031 POST /_anki/completeTag\n",
      "JS error /_anki/legacyPageData?id=140349734168896:0 ResizeObserver loop limit exceeded\n",
      "1674068840.110 POST /_anki/completeTag\n",
      "1674068840.367 POST /_anki/completeTag\n",
      "1674068840.672 POST /_anki/completeTag\n",
      "1674068843.809 POST /_anki/completeTag\n",
      "JS error /_anki/legacyPageData?id=140349734168896:0 ResizeObserver loop limit exceeded\n",
      "1674068845.023 POST /_anki/completeTag\n",
      "1674068845.205 POST /_anki/completeTag\n",
      "1674068847.006 POST /_anki/completeTag\n",
      "1674068847.462 POST /_anki/completeTag\n",
      "1674068848.253 POST /_anki/completeTag\n",
      "1674068848.413 POST /_anki/completeTag\n",
      "1674068848.655 POST /_anki/completeTag\n",
      "1674068848.806 POST /_anki/completeTag\n",
      "1674068848.934 POST /_anki/completeTag\n",
      "1674068849.310 POST /_anki/completeTag\n",
      "1674068849.486 POST /_anki/completeTag\n",
      "1674068849.654 POST /_anki/completeTag\n",
      "1674068849.824 POST /_anki/completeTag\n",
      "1674068850.006 POST /_anki/completeTag\n",
      "1674068850.598 POST /_anki/completeTag\n",
      "1674068850.804 POST /_anki/completeTag\n",
      "1674068851.315 POST /_anki/completeTag\n",
      "1674068851.564 POST /_anki/completeTag\n",
      "1674068851.881 POST /_anki/completeTag\n",
      "1674068852.957 POST /_anki/completeTag\n",
      "1674068853.114 POST /_anki/completeTag\n",
      "1674068853.383 POST /_anki/completeTag\n",
      "1674068853.570 POST /_anki/completeTag\n",
      "1674068853.681 POST /_anki/completeTag\n",
      "1674068853.830 POST /_anki/completeTag\n",
      "1674068853.959 POST /_anki/completeTag\n",
      "1674068854.068 POST /_anki/completeTag\n",
      "1674068854.213 POST /_anki/completeTag\n"
     ]
    }
   ],
   "source": [
    "col.db.commit()"
   ]
  },
  {
   "cell_type": "code",
   "execution_count": 23,
   "id": "32847e22-a62c-4898-95cd-12a5bcb46678",
   "metadata": {},
   "outputs": [
    {
     "name": "stdout",
     "output_type": "stream",
     "text": [
      "[[1605845472630, 1605841841781, -1, 1, -60, 0, 0, 109467, 0, '', '', 0], [1605847402309, 1605841841781, -1, 4, 2, -60, 2500, 255085, 0, '', '', 0], [1659592800001, 1605841841781, -1, 3, 6, 2, 2500, 0, 1, '', '', 0], [1659592800004, 1605841841781, -1, 3, -600, 6, 2300, 0, 1, '', '', 0]]\n",
      "[[1605845472630, 1605841841781, -1, 1, -60, 0, 0, 109467, 0], [1605847402309, 1605841841781, -1, 4, 2, -60, 2500, 255085, 0], [1659592800001, 1605841841781, -1, 3, 6, 2, 2500, 0, 1], [1659592800004, 1605841841781, -1, 3, -600, 6, 2300, 0, 1]]\n",
      "***** SqliteStorage.remove_revlog_entry(id=RevlogId(1659592800004))\n",
      "Editor.onBridgeCmd(): ignored late review blur because:\n",
      "Editor.onBridgeCmd(): self.review is unset.\n"
     ]
    }
   ],
   "source": [
    "print(col.db.execute(f'''select * from reviews where cid = {card.id};'''))\n",
    "print(col.db.execute(f'''select * from revlog where cid = {card.id};'''))"
   ]
  },
  {
   "cell_type": "code",
   "execution_count": 19,
   "id": "e74f4c95-25f2-426c-a44c-a6fe877f40d4",
   "metadata": {
    "tags": []
   },
   "outputs": [
    {
     "name": "stdout",
     "output_type": "stream",
     "text": [
      "[[1659592800000, 1673993755760, -1, 3, -600, 0, 0, 0, 0, '', '', 0]]\n",
      "[[1659592800000, 1673993755760, -1, 3, -600, 0, 0, 0, 0]]\n"
     ]
    }
   ],
   "source": [
    "print(col.db.execute(f'''select * from reviews where cid = {1673993755760};'''))\n",
    "print(col.db.execute(f'''select * from revlog where cid = {1673993755760};'''))"
   ]
  },
  {
   "cell_type": "code",
   "execution_count": 13,
   "id": "eb2d3779-4e64-41f5-af6a-34da48428e5c",
   "metadata": {},
   "outputs": [
    {
     "name": "stdout",
     "output_type": "stream",
     "text": [
      "2022-08-04 00:00:00\n",
      "2\n",
      "<Card: id=1605841841781, type=3, queue=1, due=1674002123, factor=2300, reps=7, lapses=1>\n",
      "\n",
      "<div class=\"container\">\n",
      "  <div class=\"row\">\n",
      "    <div class=\"col-md-12 twelve columns\">\n",
      "\n",
      "<p>CET-07.01-03 Exercise:</p>\n",
      "<h4>Techniques of Integration</h4>\n",
      "<h5>Integration by Parts</h5>\n",
      "<p>Temporary: work out of CET textbook.</p>\n",
      "\n",
      "      </div>\n",
      "  </div>\n",
      "</div>\n",
      "\n",
      "sql: SELECT id,   nid,   did,   ord,   cast(mod AS integer),   usn,   type,   queue,   due,   cast(ivl AS integer),   factor,   reps,   lapses,   left,   odue,   odid,   flags,   data FROM cards where id = 1605841841781\n",
      "sql: SELECT id,   guid,   mid,   mod,   usn,   tags,   flds,   cast(sfld AS text),   csum FROM notes where id = 1605841841780\n"
     ]
    }
   ],
   "source": [
    "answered_at = datetime.datetime(2022, 8, 4)\n",
    "rating = CardAnswer.GOOD\n",
    "seconds_taken = 0\n",
    "\n",
    "browser = aqt.dialogs._dialogs['Browser'][1]\n",
    "table = browser.table\n",
    "card = table.get_single_selected_card()\n",
    "print(f\"{answered_at}\\n{rating}\\n{card}\\n{card.note().fields[0]}\")"
   ]
  },
  {
   "cell_type": "code",
   "execution_count": 14,
   "id": "1f045e85-a775-43bf-a0ab-3f30e6dd5e65",
   "metadata": {},
   "outputs": [
    {
     "name": "stdout",
     "output_type": "stream",
     "text": [
      "sql: SELECT id,   nid,   did,   ord,   cast(mod AS integer),   usn,   type,   queue,   due,   cast(ivl AS integer),   factor,   reps,   lapses,   left,   odue,   odid,   flags,   data FROM cards where id = 1605841841781\n",
      "sql: SELECT id,   name,   mtime_secs,   usn,   common,   kind FROM decks where id = 1605841725442\n",
      "sql: SELECT id,   name,   mtime_secs,   usn,   common,   kind FROM decks where id = 1535127937393\n",
      "sql: SELECT id,   name,   mtime_secs,   usn,   config FROM deck_config where id = 1\n",
      "***** SchedulerService.answer_card(input=CardAnswer { card_id: 1605841841781, current_state: Some(SchedulingState { custom_data: None, value: Some(Filtered(Filtered { value: Some(Rescheduling(ReschedulingFilter { original_state: Some(Normal { value: Some(Relearning(Relearning { review: Some(Review { scheduled_days: 1, elapsed_days: 1, ease_factor: 2.3, lapses: 1, leeched: false }), learning: Some(Learning { remaining_steps: 1, scheduled_secs: 600 }) })) }) })) })) }), new_state: Some(SchedulingState { custom_data: None, value: Some(Filtered(Filtered { value: Some(Rescheduling(ReschedulingFilter { original_state: Some(Normal { value: Some(Relearning(Relearning { review: Some(Review { scheduled_days: 1, elapsed_days: 0, ease_factor: 2.3, lapses: 1, leeched: false }), learning: Some(Learning { remaining_steps: 1, scheduled_secs: 600 }) })) }) })) })) }), rating: Good, answered_at_millis: 1659592800000, milliseconds_taken: 0 })\n",
      "sql: savepoint rust\n",
      "***** Collection.answer_card(answer=CardAnswer { card_id: CardId(1605841841781), current_state: Filtered(Rescheduling(ReschedulingFilterState { original_state: Relearning(RelearnState { learning: LearnState { remaining_steps: 1, scheduled_secs: 600 }, review: ReviewState { scheduled_days: 1, elapsed_days: 1, ease_factor: 2.3, lapses: 1, leeched: false } }) })), new_state: Filtered(Rescheduling(ReschedulingFilterState { original_state: Relearning(RelearnState { learning: LearnState { remaining_steps: 1, scheduled_secs: 600 }, review: ReviewState { scheduled_days: 1, elapsed_days: 0, ease_factor: 2.3, lapses: 1, leeched: false } }) })), rating: Good, answered_at: TimestampMillis(1659592800000), milliseconds_taken: 0, custom_data: None })\n",
      "***** Collection.answer_card_inner(answer=CardAnswer { card_id: CardId(1605841841781), current_state: Filtered(Rescheduling(ReschedulingFilterState { original_state: Relearning(RelearnState { learning: LearnState { remaining_steps: 1, scheduled_secs: 600 }, review: ReviewState { scheduled_days: 1, elapsed_days: 1, ease_factor: 2.3, lapses: 1, leeched: false } }) })), new_state: Filtered(Rescheduling(ReschedulingFilterState { original_state: Relearning(RelearnState { learning: LearnState { remaining_steps: 1, scheduled_secs: 600 }, review: ReviewState { scheduled_days: 1, elapsed_days: 0, ease_factor: 2.3, lapses: 1, leeched: false } }) })), rating: Good, answered_at: TimestampMillis(1659592800000), milliseconds_taken: 0, custom_data: None }, now=TimestampSecs(1674002358))\n",
      "sql: SELECT id,   nid,   did,   ord,   cast(mod AS integer),   usn,   type,   queue,   due,   cast(ivl AS integer),   factor,   reps,   lapses,   left,   odue,   odid,   flags,   data FROM cards where id = 1605841841781\n",
      "sql: SELECT id,   name,   mtime_secs,   usn,   common,   kind FROM decks where id = 1605841725442\n",
      "sql: SELECT id,   name,   mtime_secs,   usn,   common,   kind FROM decks where id = 1535127937393\n",
      "sql: SELECT id,   name,   mtime_secs,   usn,   config FROM deck_config where id = 1\n",
      "***** Collection.add_partial_revlog(partial=RevlogEntryPartial { interval: InSecs(600), last_interval: InSecs(600), ease_factor: 2.3, review_kind: Relearning }, usn=Usn(-1), answer=CardAnswer { card_id: CardId(1605841841781), current_state: Filtered(Rescheduling(ReschedulingFilterState { original_state: Relearning(RelearnState { learning: LearnState { remaining_steps: 1, scheduled_secs: 600 }, review: ReviewState { scheduled_days: 1, elapsed_days: 1, ease_factor: 2.3, lapses: 1, leeched: false } }) })), new_state: Filtered(Rescheduling(ReschedulingFilterState { original_state: Relearning(RelearnState { learning: LearnState { remaining_steps: 1, scheduled_secs: 600 }, review: ReviewState { scheduled_days: 1, elapsed_days: 0, ease_factor: 2.3, lapses: 1, leeched: false } }) })), rating: Good, answered_at: TimestampMillis(1659592800000), milliseconds_taken: 0, custom_data: None })\n",
      "***** Collection.add_revlog_entry_undoable(entry=RevlogEntry { id: RevlogId(1659592800000), cid: CardId(1605841841781), usn: Usn(-1), button_chosen: 3, interval: -600, last_interval: -600, ease_factor: 2300, taken_millis: 0, review_kind: Relearning, mtime: TimestampSecs(0), feedback: \"\", tags: [] })\n",
      "***** SqliteStorage.add_revlog_entry(entry=RevlogEntry { id: RevlogId(1659592800000), cid: CardId(1605841841781), usn: Usn(-1), button_chosen: 3, interval: -600, last_interval: -600, ease_factor: 2300, taken_millis: 0, review_kind: Relearning, mtime: TimestampSecs(0), feedback: \"\", tags: [] }, uniquify=true)\n",
      "***** SqliteStorage.add_revlog_entry(): entry.id.0:1659592800000\n",
      "***** SqliteStorage.add_revlog_entry(): available_id:1659592800000\n",
      "***** SqliteStorage.add_revlog_entry(): starting search for available ID.\n",
      "***** SqliteStorage.add_revlog_entry(): available_id:1659592800000\n",
      "sql: SELECT id FROM review_notes WHERE id == 1659592800000 AND vis IN ('V', 'D')\n",
      "***** SqliteStorage.add_revlog_entry(): available_id:1659592800001\n",
      "sql: SELECT id FROM review_notes WHERE id == 1659592800001 AND vis IN ('V', 'D')\n",
      "***** SqliteStorage.add_revlog_entry(): err e:QueryReturnedNoRows\n",
      "sql: INSERT INTO reviews AS revlog (     id,     cid,     usn,     ease,     ivl,     lastIvl,     factor,     time,     type,     feedback,     tags,     mod   ) VALUES (     1659592800001,     1605841841781,     -1,     3,     -600,     -600,     2300,     0,     2,     \"\",     \"\",     0   )\n",
      "sql: -- TRIGGER tr_nstd_ins_on_reviews\n",
      "sql: -- INSERT INTO revlog       VALUES (NEW.id, NEW.cid, NEW.usn, NEW.ease, NEW.ivl, NEW.lastIvl, new.factor, NEW.time, NEW.type)     ON CONFLICT (id) DO       UPDATE SET (cid, usn, ease, ivl, lastIvl, factor, time, type) = (NEW.cid, NEW.usn, NEW.ease, NEW.ivl, NEW.lastIvl, NEW.factor, NEW.time, NEW.type)\n",
      "sql: -- TRIGGER tr_aft_ins_on_revlog\n",
      "sql: -- INSERT INTO review_notes VALUES (NEW.id, \"\", \"\", 0, 'D')\n",
      "sql: -- INSERT INTO review_notes       VALUES (NEW.id, NEW.feedback, NEW.tags, NEW.mod, 'D')     ON CONFLICT (id) DO       UPDATE SET (feedback, tags, mod, vis) = (NEW.feedback, NEW.tags, NEW.mod, (             SELECT (CASE WHEN review_notes.vis == 'D' THEN 'D' ELSE 'V' END) FROM review_notes WHERE review_notes.id == NEW.id)     )\n",
      "sql: SELECT id,   name,   mtime_secs,   usn,   common,   kind FROM decks where id = 1605841725442\n",
      "sql: UPDATE decks SET name = 'Math\u001fCalculus\u001fStewart; Calculus: Early Trancendentals\u001f07 Techniques of integration\u001f07.01 Integration by parts\u001fExercises',   mtime_secs = 1674002358,   usn = -1,   common = x'18d90e2803',   kind = x'1246080112400a3c2869733a6e6577206f722069733a6c6561726e206f722069733a64756529207461673a4345542d30372e30312d2a207461673a4578657263697365731064200a' WHERE id = 1605841725442\n",
      "sql: select id from decks where name = 'Math\u001fCalculus\u001fStewart; Calculus: Early Trancendentals\u001f07 Techniques of integration\u001f07.01 Integration by parts'\n",
      "sql: SELECT id,   name,   mtime_secs,   usn,   common,   kind FROM decks where id = 1577570682480\n",
      "sql: select id from decks where name = 'Math\u001fCalculus\u001fStewart; Calculus: Early Trancendentals\u001f07 Techniques of integration'\n",
      "sql: SELECT id,   name,   mtime_secs,   usn,   common,   kind FROM decks where id = 1577570682237\n",
      "sql: select id from decks where name = 'Math\u001fCalculus\u001fStewart; Calculus: Early Trancendentals'\n",
      "sql: SELECT id,   name,   mtime_secs,   usn,   common,   kind FROM decks where id = 1568150049291\n",
      "sql: select id from decks where name = 'Math\u001fCalculus'\n",
      "sql: SELECT id,   name,   mtime_secs,   usn,   common,   kind FROM decks where id = 1564526714304\n",
      "sql: select id from decks where name = 'Math'\n",
      "sql: SELECT id,   name,   mtime_secs,   usn,   common,   kind FROM decks where id = 1538644795777\n",
      "sql: UPDATE decks SET name = 'Math\u001fCalculus\u001fStewart; Calculus: Early Trancendentals\u001f07 Techniques of integration\u001f07.01 Integration by parts',   mtime_secs = 1674002358,   usn = -1,   common = x'0801100118d90e20012803',   kind = x'0a060801100a1832' WHERE id = 1577570682480\n",
      "sql: UPDATE decks SET name = 'Math\u001fCalculus\u001fStewart; Calculus: Early Trancendentals\u001f07 Techniques of integration',   mtime_secs = 1674002358,   usn = -1,   common = x'18d90e20012804',   kind = x'0a060801100a1832' WHERE id = 1577570682237\n",
      "sql: UPDATE decks SET name = 'Math\u001fCalculus\u001fStewart; Calculus: Early Trancendentals',   mtime_secs = 1674002358,   usn = -1,   common = x'0801100118d90e20012804',   kind = x'0a060801100a1832' WHERE id = 1568150049291\n",
      "sql: UPDATE decks SET name = 'Math\u001fCalculus',   mtime_secs = 1674002358,   usn = -1,   common = x'18d90e20082804',   kind = x'0a060801100a1832' WHERE id = 1564526714304\n",
      "sql: UPDATE decks SET name = 'Math',   mtime_secs = 1674002358,   usn = -1,   common = x'18d90e20082804',   kind = x'0a060801100a1832' WHERE id = 1538644795777\n",
      "sql: DROP TABLE IF EXISTS search_cids;\n",
      "sql: CREATE TEMPORARY TABLE search_cids (cid integer PRIMARY KEY NOT NULL);\n",
      "sql: INSERT INTO search_cids SELECT id FROM cards WHERE id != 1605841841781   AND nid = 1605841841780   AND (     (       1       AND queue = 0     )     OR (       1       AND queue = 2     )     OR (       0       AND queue = 3     )   );\n",
      "sql: SELECT id,   nid,   did,   ord,   cast(mod AS integer),   usn,   type,   queue,   due,   cast(ivl AS integer),   factor,   reps,   lapses,   left,   odue,   odid,   flags,   data FROM cards where id in (select cid from search_cids)\n",
      "sql: drop table if exists search_cids\n",
      "sql: SELECT val FROM config WHERE KEY = 'schedVer'\n",
      "sql: UPDATE cards SET nid = 1605841841780,   did = 1605841725442,   ord = 0,   mod = 1674002358,   usn = -1,   type = 3,   queue = 1,   due = 1674003029,   ivl = 1,   factor = 2300,   reps = 8,   lapses = 1,   left = 1,   odue = 0,   odid = 1535127937393,   flags = 0,   data = '{}' WHERE id = 1605841841781\n",
      "sql: select mod, scm, ls from col\n",
      "sql: update col set mod=1674002358528\n",
      "sql: release rust\n"
     ]
    }
   ],
   "source": [
    "answer_card(\n",
    "    build_answer(\n",
    "        card=card,\n",
    "        rating=rating,\n",
    "        seconds_taken=seconds_taken,\n",
    "        answered_at = answered_at\n",
    "    )\n",
    ")"
   ]
  },
  {
   "cell_type": "code",
   "execution_count": 26,
   "id": "9c7613c8-633b-41e8-b131-23d26d0d3fa6",
   "metadata": {},
   "outputs": [
    {
     "name": "stdout",
     "output_type": "stream",
     "text": [
      "***** SqliteStorage.commit_trx()\n"
     ]
    }
   ],
   "source": [
    "col.db.commit()"
   ]
  },
  {
   "cell_type": "code",
   "execution_count": null,
   "id": "141a5375-867d-444f-b718-4f17ef2029f5",
   "metadata": {},
   "outputs": [],
   "source": [
    "c = table.get_single_selected_card()\n",
    "print(c, c.note())"
   ]
  },
  {
   "cell_type": "code",
   "execution_count": 15,
   "id": "5e3ae264-4474-452f-b92d-8ff2b37614db",
   "metadata": {},
   "outputs": [
    {
     "name": "stdout",
     "output_type": "stream",
     "text": [
      "[[1605845472630, 1605841841781, -1, 1, -60, 0, 0, 109467, 0, '', '', 0], [1605847402309, 1605841841781, -1, 4, 2, -60, 2500, 255085, 0, '', '', 0], [1659592800000, 1605841841781, -1, 3, -600, -600, 2300, 0, 2, '', '', 0]]\n",
      "[[1605845472630, 1605841841781, -1, 1, -60, 0, 0, 109467, 0], [1605847402309, 1605841841781, -1, 4, 2, -60, 2500, 255085, 0], [1659592800000, 1605841841781, -1, 3, -600, -600, 2300, 0, 2]]\n"
     ]
    }
   ],
   "source": [
    "print(col.db.execute(f'''select * from reviews where cid = {card.id};'''))\n",
    "print(col.db.execute(f'''select * from revlog where cid = {card.id};'''))"
   ]
  },
  {
   "cell_type": "code",
   "execution_count": null,
   "id": "f67e8703-13b8-4b82-8259-28cfb7f719c5",
   "metadata": {},
   "outputs": [],
   "source": [
    "print(col.db.execute(f'''select * from reviews where cid = {card.id};'''))"
   ]
  },
  {
   "cell_type": "code",
   "execution_count": 20,
   "id": "7809a4f1-8e92-4046-b841-825e7b840003",
   "metadata": {},
   "outputs": [
    {
     "data": {
      "text/plain": [
       "<Note: id=1659650913953, fields=['CET-07.04-Xc007', '', ''], tags=['0-Textbooks::CalculusEarlyTrancendentals::C07-TechniquesOfIntegration::CET-07.04-IntegrationOfRationalFunctionsByPartialFractions']>"
      ]
     },
     "execution_count": 20,
     "metadata": {},
     "output_type": "execute_result"
    },
    {
     "name": "stdout",
     "output_type": "stream",
     "text": [
      "1673994100.121 GET /_anki/legacyPageData\n",
      "1673994100.122 GET /_anki/legacyPageData\n",
      "1673994100.138 GET /_anki/css/webview.css\n",
      "1673994100.139 GET /_anki/css/deckbrowser.css\n",
      "1673994100.140 GET /_anki/js/webview.js\n",
      "1673994100.140 GET /_anki/js/vendor/jquery.min.js\n",
      "1673994100.141 GET /_anki/js/vendor/jquery-ui.min.js\n",
      "1673994100.142 GET /_anki/js/deckbrowser.js\n",
      "1673994100.142 GET /_anki/imgs/gears.svg\n",
      "1673994100.147 GET /_anki/css/webview.css\n",
      "1673994100.148 GET /_anki/js/vendor/jquery.min.js\n",
      "1673994100.148 GET /_anki/js/webview.js\n",
      "1673994100.149 GET /_anki/css/toolbar.css\n",
      "1673994100.149 GET /_anki/css/toolbar-bottom.css\n",
      "Editor.onBridgeCmd(): ignored late review blur because:\n",
      "Editor.onBridgeCmd(): self.review is unset.\n",
      "Editor.onBridgeCmd(): ignored late review blur because:\n",
      "Editor.onBridgeCmd(): self.review is unset.\n",
      "Editor.onBridgeCmd(): ignored late review blur because:\n",
      "Editor.onBridgeCmd(): self.review is unset.\n",
      "1673994166.816 GET /_anki/pages/card-info.html\n",
      "1673994166.826 GET /_anki/pages/card-info.css\n",
      "1673994166.826 GET /_anki/pages/card-info.js\n",
      "1673994166.884 POST /_anki/i18nResources\n",
      "1673994166.957 POST /_anki/cardStats\n"
     ]
    }
   ],
   "source": [
    "table.get_single_selected_card().note()"
   ]
  },
  {
   "cell_type": "code",
   "execution_count": null,
   "id": "21619299-bcd8-4db6-8215-8ddf306f2db7",
   "metadata": {},
   "outputs": [],
   "source": [
    "col.db.execute(\"\"\"\n",
    "SELECT name \n",
    "FROM sqlite_master \n",
    "WHERE type = 'index';\n",
    "\"\"\")"
   ]
  },
  {
   "cell_type": "code",
   "execution_count": 7,
   "id": "34eb2c6a-5859-4956-a07d-3ccca7f5ab00",
   "metadata": {},
   "outputs": [
    {
     "name": "stdout",
     "output_type": "stream",
     "text": [
      "sql: CREATE INDEX IF NOT EXISTS ix_revlog_cid ON revlog (cid);\n",
      "sql: CREATE INDEX IF NOT EXISTS ix_review_notes_feedback ON review_notes (feedback);\n",
      "sql: CREATE INDEX IF NOT EXISTS ix_review_notes_tags ON review_notes (tags);\n",
      "sql: CREATE INDEX IF NOT EXISTS ix_notes_tags ON notes (tags);\n",
      "sql: CREATE INDEX IF NOT EXISTS ix_notes_tags ON notes (tags);\n",
      "sql: CREATE INDEX IF NOT EXISTS idx_fields_name_ntid ON fields (name, ntid);\n",
      "sql: CREATE INDEX IF NOT EXISTS idx_templates_name_ntid ON templates (name, ntid);\n",
      "sql: CREATE INDEX IF NOT EXISTS idx_notetypes_name ON notetypes (name);\n",
      "sql: CREATE INDEX IF NOT EXISTS idx_decks_name ON decks (name);\n"
     ]
    },
    {
     "data": {
      "text/plain": [
       "[]"
      ]
     },
     "execution_count": 7,
     "metadata": {},
     "output_type": "execute_result"
    }
   ],
   "source": [
    "col.db.execute(\"\"\"CREATE INDEX IF NOT EXISTS ix_revlog_cid ON revlog (cid);\"\"\")\n",
    "col.db.execute(\"\"\"CREATE INDEX IF NOT EXISTS ix_review_notes_feedback ON review_notes (feedback);\"\"\")\n",
    "col.db.execute(\"\"\"CREATE INDEX IF NOT EXISTS ix_review_notes_tags ON review_notes (tags);\"\"\")\n",
    "col.db.execute(\"\"\"CREATE INDEX IF NOT EXISTS ix_notes_tags ON notes (tags);\"\"\")\n",
    "col.db.execute(\"\"\"CREATE INDEX IF NOT EXISTS ix_notes_tags ON notes (tags);\"\"\")\n",
    "col.db.execute(\"\"\"CREATE INDEX IF NOT EXISTS idx_fields_name_ntid ON fields (name, ntid);\"\"\")\n",
    "col.db.execute(\"\"\"CREATE INDEX IF NOT EXISTS idx_templates_name_ntid ON templates (name, ntid);\"\"\")\n",
    "col.db.execute(\"\"\"CREATE INDEX IF NOT EXISTS idx_notetypes_name ON notetypes (name);\"\"\")\n",
    "col.db.execute(\"\"\"CREATE INDEX IF NOT EXISTS idx_decks_name ON decks (name);\"\"\")\n"
   ]
  },
  {
   "cell_type": "code",
   "execution_count": null,
   "id": "0459ad5a-7920-4b98-8f3c-1d1e1339656a",
   "metadata": {},
   "outputs": [],
   "source": [
    "col.db.execute(\"\"\"select tags from review_notes where tags != ''\"\"\")"
   ]
  },
  {
   "cell_type": "code",
   "execution_count": null,
   "id": "501f935d-bd43-49df-8d56-63a699d0c762",
   "metadata": {
    "tags": []
   },
   "outputs": [],
   "source": [
    "col.db.execute(\"\"\"select distinct n.id from notes n where (n.tags regexp '(?i).* 000\\-Textbook\\-CalculusConceptsAndContexts::C03\\-DifferentiationRules::SX\\-Review(::| ).*') order by n.sfld collate nocase asc\"\"\")b"
   ]
  },
  {
   "cell_type": "code",
   "execution_count": null,
   "id": "073c23d3-d02e-4518-867d-579d52d006d5",
   "metadata": {
    "tags": []
   },
   "outputs": [],
   "source": [
    "col.db.execute(\"\"\"\n",
    "select notes.id from (\n",
    "    notes inner join cards on notes.id == cards.nid\n",
    ") left join reviews on cards.id == reviews.cid\n",
    "where (\n",
    "    (notes.tags like '%000%')\n",
    "    or\n",
    "    (reviews.tags like '%feedback%')\n",
    ")\n",
    "\"\"\")"
   ]
  },
  {
   "cell_type": "code",
   "execution_count": null,
   "id": "72543c83-7b8b-4b74-a71b-63d68abaf3f9",
   "metadata": {
    "tags": []
   },
   "outputs": [],
   "source": [
    "col.db.execute(\"\"\"\n",
    "select distinct n.id from notes n inner join cards c on c.nid == n.id left join revlog as rl on c.id == rl.cid inner join review_notes as r on r.id == rl.id\n",
    "where regexp(n.tags, '(?i).* 000\\-Textbook\\-CalculusConceptsAndContexts::C03\\-DifferentiationRules::SX\\-Review(::| ).*') or regexp(r.tags, '(?i).* 000\\-Textbook\\-CalculusConceptsAndContexts::C03\\-DifferentiationRules::SX\\-Review(::| ).*')\n",
    "\"\"\")"
   ]
  },
  {
   "cell_type": "code",
   "execution_count": null,
   "id": "3d5b28b1-0c9a-4ff6-be9b-507395b5d8c8",
   "metadata": {},
   "outputs": [],
   "source": [
    "col.db.execute(\"\"\"\n",
    "select notes.id from (\n",
    "    notes inner join cards on notes.id == cards.nid\n",
    ") left join reviews on cards.id == reviews.cid\n",
    "where (\n",
    "    (notes.tags like '%000-Textbook-CalculusConceptsAndContexts::C02-LimitsAndDerivatives::SX-Review%')\n",
    "    or\n",
    "    (reviews.tags like '%000-Textbook-CalculusConceptsAndContexts::C02-LimitsAndDerivatives::SX-Review%')\n",
    ")\n",
    "\"\"\")"
   ]
  },
  {
   "cell_type": "code",
   "execution_count": null,
   "id": "41d9c82d-ea54-48b4-bfe5-9b282d33c959",
   "metadata": {
    "tags": []
   },
   "outputs": [],
   "source": [
    "col.db.execute(\"\"\"\n",
    "SELECT notes.id FROM\n",
    "notes\n",
    "INNER JOIN cards ON notes.id == cards.nid\n",
    "LEFT JOIN reviews ON cards.id == reviews.cid\n",
    "where (\n",
    "    (notes.tags like '%000%')\n",
    "    or\n",
    "    (reviews.tags like '%feedback%')\n",
    ")\n",
    "\"\"\")"
   ]
  },
  {
   "cell_type": "code",
   "execution_count": null,
   "id": "da9c615c-009b-40d0-a752-97623643aa67",
   "metadata": {},
   "outputs": [],
   "source": [
    "col.db.execute(\"\"\"\n",
    "select notes.id from\n",
    "notes inner join (\n",
    "    cards left join reviews on cards.id == reviews.cid\n",
    "    cards inner join reviews on cards.id == reviews.cid\n",
    "    union\n",
    "    \n",
    ") on notes.id == cards.nid\n",
    "where (\n",
    "    (notes.tags like '%000-Textbook-CalculusConceptsAndContexts::C02-LimitsAndDerivatives::SX-Review%')\n",
    "    or\n",
    "    (reviews.tags like '%000-Textbook-CalculusConceptsAndContexts::C02-LimitsAndDerivatives::SX-Review%')\n",
    ")\n",
    "\"\"\")"
   ]
  },
  {
   "cell_type": "code",
   "execution_count": null,
   "id": "55564092-0d51-414a-a7d0-dd1277d0b816",
   "metadata": {
    "tags": []
   },
   "outputs": [],
   "source": [
    "col.db.execute(\"\"\"\n",
    "select notes.id from\n",
    "notes inner join (\n",
    "    cards left join reviews on cards.id == reviews.cid\n",
    ") on notes.id == cards.nid\n",
    "where (\n",
    "    (notes.tags like '%000-Textbook-CalculusConceptsAndContexts::C02-LimitsAndDerivatives::SX-Review%')\n",
    "    or\n",
    "    (reviews.tags like '%000-Textbook-CalculusConceptsAndContexts::C02-LimitsAndDerivatives::SX-Review%')\n",
    ")\n",
    "\"\"\")"
   ]
  },
  {
   "cell_type": "code",
   "execution_count": null,
   "id": "078b5701-2825-47ad-9004-35ac2959387f",
   "metadata": {
    "tags": []
   },
   "outputs": [],
   "source": [
    "col.db.execute(\"\"\"\n",
    "SELECT DISTINCT n.id FROM notes AS n\n",
    "  INNER JOIN cards AS c ON\n",
    "    n.id == c.nid\n",
    "  LEFT JOIN revlog AS rl ON\n",
    "    c.id == rl.cid\n",
    "  INNER JOIN review_notes AS r ON\n",
    "    r.id == rl.id\n",
    "    AND (\n",
    "      n.tags regexp '(?i).* 000\\-Textbook\\-CalculusConceptsAndContexts::C03\\-DifferentiationRules::SX\\-Review(::| ).*'\n",
    "    )\n",
    "  ORDER BY n.sfld COLLATE NOCASE ASC\n",
    "\"\"\")"
   ]
  },
  {
   "cell_type": "code",
   "execution_count": null,
   "id": "87dc1820-88a8-4fdd-bc28-3e6dd194df3d",
   "metadata": {
    "tags": []
   },
   "outputs": [],
   "source": [
    "col.db.execute(\"\"\"\n",
    "select n.id\n",
    "    from\n",
    "        notes as n\n",
    "    inner join\n",
    "        cards as c\n",
    "        on n.id == c.nid\n",
    "    left join\n",
    "        reviews as r\n",
    "        on c.id == r.cid\n",
    "    where (\n",
    "        (n.tags regexp '.*000.*')\n",
    "        or\n",
    "        (r.tags regexp '.*feedback.*')\n",
    "    )\n",
    "\"\"\")"
   ]
  },
  {
   "cell_type": "code",
   "execution_count": null,
   "id": "5c05bf1a-c81a-49fd-9193-75115c256d3e",
   "metadata": {},
   "outputs": [],
   "source": [
    "col.db.execute(\"\"\"\n",
    "select\n",
    "        r.id\n",
    "    from reviews r\n",
    "    inner join cards c on r.cid == r.id\n",
    "    inner join notes n on c.nid == n.id\n",
    "    where (\n",
    "        (n.tags regexp '.*000.*')\n",
    "        or\n",
    "        (r.tags regexp '.*feedback.*')\n",
    "    )\n",
    "\"\"\")"
   ]
  },
  {
   "cell_type": "code",
   "execution_count": null,
   "id": "268b9665-3b2e-474f-bcae-430be4d49a8a",
   "metadata": {
    "tags": []
   },
   "outputs": [],
   "source": [
    "col.db.execute(\"\"\"\n",
    "select\n",
    "        distinct n.id\n",
    "    from cards as c\n",
    "    left join reviews as r\n",
    "        on c.id==r.cid\n",
    "    inner join notes as n\n",
    "        on c.nid==n.id\n",
    "    where (\n",
    "        (n.tags regexp '.*000.*')\n",
    "        or\n",
    "        (r.tags regexp '.*feedback.*')\n",
    "    )\n",
    "\"\"\")"
   ]
  },
  {
   "cell_type": "code",
   "execution_count": null,
   "id": "69d06fa3-6b9b-41fd-b88a-f786564f3f56",
   "metadata": {
    "tags": []
   },
   "outputs": [],
   "source": [
    " #col.db.execute(\"\"\"select n.id from notes n where (n.tags regexp '(?i).* 000\\-Textbook\\-CalculusConceptsAndContexts::C03\\-DifferentiationRules::SX\\-Review(::| ).*') order by n.sfld collate nocase asc\"\"\")\n",
    "col.db.execute(\"\"\"select distinct n.id from cards as c left join reviews as r on c.id=r.cid inner join notes as n on c.nid=n.id where and (n.tags regexp '(?i).* 000\\-Textbook\\-CalculusConceptsAndContexts::C03\\-DifferentiationRules::SX\\-Review(::| ).*' or r.tags regexp '(?i).* 000\\-Textbook\\-CalculusConceptsAndContexts::C03\\-DifferentiationRules::SX\\-Review(::| ).*') order by n.sfld collate nocase asc\"\"\")"
   ]
  },
  {
   "cell_type": "code",
   "execution_count": null,
   "id": "8182ac70-b5d2-486e-b22b-15db52f63cc6",
   "metadata": {
    "tags": []
   },
   "outputs": [],
   "source": [
    " #col.db.execute(\"\"\"select n.id from notes n where (n.tags regexp '(?i).* 000\\-Textbook\\-CalculusConceptsAndContexts::C03\\-DifferentiationRules::SX\\-Review(::| ).*') order by n.sfld collate nocase asc\"\"\")\n",
    "col.db.execute(\"\"\"\n",
    "   select distinct n.id\n",
    "      from\n",
    "          notes n\n",
    "      inner join\n",
    "          cards c\n",
    "        on cards.nid == notes.id\n",
    "    \n",
    "      where r.cid=c.id and c.nid=n.id and (n.tags regexp '(?i).* 000\\-Textbook\\-CalculusConceptsAndContexts::C03\\-DifferentiationRules::SX\\-Review(::| ).*' or r.tags regexp '(?i).* 000\\-Textbook\\-CalculusConceptsAndContexts::C03\\-DifferentiationRules::SX\\-Review(::| ).*') order by n.sfld collate nocase asc\n",
    "\"\"\")"
   ]
  },
  {
   "cell_type": "code",
   "execution_count": null,
   "id": "823efe4d-003e-4455-a155-0bdb474dc90e",
   "metadata": {
    "tags": []
   },
   "outputs": [],
   "source": [
    "browser = aqt.dialogs._dialogs['Browser'][1]\n",
    "table = browser.table\n",
    "model = table._model"
   ]
  },
  {
   "cell_type": "code",
   "execution_count": 230,
   "id": "cc76a55a-f935-4e59-9522-94480d4675b6",
   "metadata": {},
   "outputs": [
    {
     "data": {
      "text/plain": [
       "[[1659295928602, 1659061591875, -1, 1, -60, -60, 0, 11454, 0],\n",
       " [1669072141900, 1659061591875, -1, 1, -60, -60, 0, 7866, 0]]"
      ]
     },
     "execution_count": 230,
     "metadata": {},
     "output_type": "execute_result"
    },
    {
     "name": "stdout",
     "output_type": "stream",
     "text": [
      "1674070456.005 GET /_anki/legacyPageData\n",
      "1674070456.005 GET /_anki/legacyPageData\n",
      "1674070456.017 GET /_anki/css/webview.css\n",
      "1674070456.017 GET /_anki/css/deckbrowser.css\n",
      "1674070456.018 GET /_anki/js/webview.js\n",
      "1674070456.019 GET /_anki/js/vendor/jquery.min.js\n",
      "1674070456.021 GET /_anki/js/vendor/jquery-ui.min.js\n",
      "1674070456.021 GET /_anki/js/deckbrowser.js\n",
      "1674070456.024 GET /_anki/css/webview.css\n",
      "1674070456.025 GET /_anki/css/toolbar.css\n",
      "1674070456.026 GET /_anki/css/toolbar-bottom.css\n",
      "1674070456.026 GET /_anki/js/webview.js\n",
      "1674070456.027 GET /_anki/js/vendor/jquery.min.js\n",
      "1674070456.027 GET /_anki/imgs/gears.svg\n"
     ]
    }
   ],
   "source": [
    "col.db.execute(\"\"\"select * from revlog where cid == 1659061591875\"\"\")"
   ]
  },
  {
   "cell_type": "code",
   "execution_count": 232,
   "id": "22d0f123-214b-4bb4-b714-903b1a32e8d5",
   "metadata": {},
   "outputs": [
    {
     "data": {
      "text/plain": [
       "[[1659295928602,\n",
       "  'Trouble: Dropped factor of 5 in common denominator. Looks like this occurred because I temporarily mistook a&nbsp;\\\\(+\\\\)&nbsp;sign for an&nbsp;\\\\(=\\\\)&nbsp;sign.',\n",
       "  ' .feedback::trouble::algebra::conflation::symbol-swap .feedback::trouble::algebra::omission::dropped-factor ',\n",
       "  1659295928,\n",
       "  'V'],\n",
       " [1669072141900,\n",
       "  'Technique: substitution of square root of a function<br>Trouble: Dropped factor of 5 in common denominator. Looks like this occurred because I temporarily mistook a&nbsp;\\\\(+\\\\)&nbsp;sign for an&nbsp;\\\\(=\\\\)&nbsp;sign.',\n",
       "  ' .feedback::technique::substitution .feedback::trouble::algebra::conflation::symbol-swap .feedback::trouble::algebra::omission::dropped-factor ',\n",
       "  1669072141,\n",
       "  '']]"
      ]
     },
     "execution_count": 232,
     "metadata": {},
     "output_type": "execute_result"
    }
   ],
   "source": [
    "col.db.execute(\"\"\"select * from review_notes where id in (1659295928602, 1669072141900)\"\"\")"
   ]
  },
  {
   "cell_type": "code",
   "execution_count": 233,
   "id": "2c7df2f3-3667-4679-959b-6aeb6102ea3d",
   "metadata": {},
   "outputs": [
    {
     "data": {
      "text/plain": [
       "[[1659295928602,\n",
       "  1659061591875,\n",
       "  -1,\n",
       "  1,\n",
       "  -60,\n",
       "  -60,\n",
       "  0,\n",
       "  11454,\n",
       "  0,\n",
       "  1659295928602,\n",
       "  'Trouble: Dropped factor of 5 in common denominator. Looks like this occurred because I temporarily mistook a&nbsp;\\\\(+\\\\)&nbsp;sign for an&nbsp;\\\\(=\\\\)&nbsp;sign.',\n",
       "  ' .feedback::trouble::algebra::conflation::symbol-swap .feedback::trouble::algebra::omission::dropped-factor ',\n",
       "  1659295928,\n",
       "  'V'],\n",
       " [1669072141900,\n",
       "  1659061591875,\n",
       "  -1,\n",
       "  1,\n",
       "  -60,\n",
       "  -60,\n",
       "  0,\n",
       "  7866,\n",
       "  0,\n",
       "  1669072141900,\n",
       "  'Technique: substitution of square root of a function<br>Trouble: Dropped factor of 5 in common denominator. Looks like this occurred because I temporarily mistook a&nbsp;\\\\(+\\\\)&nbsp;sign for an&nbsp;\\\\(=\\\\)&nbsp;sign.',\n",
       "  ' .feedback::technique::substitution .feedback::trouble::algebra::conflation::symbol-swap .feedback::trouble::algebra::omission::dropped-factor ',\n",
       "  1669072141,\n",
       "  '']]"
      ]
     },
     "execution_count": 233,
     "metadata": {},
     "output_type": "execute_result"
    }
   ],
   "source": [
    "col.db.execute(\"\"\"select * from revlog inner join review_notes on revlog.id == review_notes.id where cid == 1659061591875\"\"\")"
   ]
  },
  {
   "cell_type": "code",
   "execution_count": 234,
   "id": "023bbe6c-002a-4335-82aa-34382532997f",
   "metadata": {},
   "outputs": [
    {
     "data": {
      "text/plain": [
       "[[1659295928602,\n",
       "  1659061591875,\n",
       "  -1,\n",
       "  1,\n",
       "  -60,\n",
       "  -60,\n",
       "  0,\n",
       "  11454,\n",
       "  0,\n",
       "  'Trouble: Dropped factor of 5 in common denominator. Looks like this occurred because I temporarily mistook a&nbsp;\\\\(+\\\\)&nbsp;sign for an&nbsp;\\\\(=\\\\)&nbsp;sign.',\n",
       "  ' .feedback::trouble::algebra::conflation::symbol-swap .feedback::trouble::algebra::omission::dropped-factor ',\n",
       "  1659295928]]"
      ]
     },
     "execution_count": 234,
     "metadata": {},
     "output_type": "execute_result"
    }
   ],
   "source": [
    "col.db.execute(\"\"\"select * from reviews where cid == 1659061591875\"\"\")"
   ]
  },
  {
   "cell_type": "code",
   "execution_count": 235,
   "id": "d07f4690-e70f-4c82-a2f7-8a8a5faa0268",
   "metadata": {},
   "outputs": [
    {
     "data": {
      "text/plain": [
       "[['view',\n",
       "  'reviews',\n",
       "  'reviews',\n",
       "  0,\n",
       "  \"CREATE VIEW reviews AS\\n  SELECT revlog.id,\\n    revlog.cid,\\n    revlog.usn,\\n    revlog.ease,\\n    revlog.ivl,\\n    revlog.lastIvl,\\n    revlog.factor,\\n    revlog.time,\\n    revlog.type,\\n    review_notes.feedback,\\n    review_notes.tags,\\n    review_notes.mod\\n  FROM revlog\\n    INNER JOIN review_notes ON revlog.id = review_notes.id\\n  WHERE review_notes.vis IN ('D', 'V')\"]]"
      ]
     },
     "execution_count": 235,
     "metadata": {},
     "output_type": "execute_result"
    }
   ],
   "source": [
    "col.db.execute(\"\"\"select * from sqlite_schema where name == 'reviews'\"\"\")"
   ]
  },
  {
   "cell_type": "code",
   "execution_count": 24,
   "id": "cbbfafe5-0b66-4b8b-97b1-3e5bc84d4714",
   "metadata": {},
   "outputs": [
    {
     "name": "stdout",
     "output_type": "stream",
     "text": [
      "[[1659592800000, 1673993755760, -1, 3, -600, 0, 0, 0, 0, '', '', 0]]\n",
      "[[1659592800000, 1673993755760, -1, 3, -600, 0, 0, 0, 0]]\n",
      "1674080078.111 GET /_anki/legacyPageData\n",
      "1674080078.112 GET /_anki/legacyPageData\n",
      "1674080078.123 GET /_anki/css/webview.css\n",
      "1674080078.125 GET /_anki/css/webview.css\n",
      "1674080078.126 GET /_anki/css/toolbar.css\n",
      "1674080078.126 GET /_anki/css/toolbar-bottom.css\n",
      "1674080078.127 GET /_anki/js/webview.js\n",
      "1674080078.128 GET /_anki/js/vendor/jquery.min.js\n",
      "1674080078.132 GET /_anki/css/deckbrowser.css\n",
      "1674080078.133 GET /_anki/js/vendor/jquery.min.js\n",
      "1674080078.133 GET /_anki/js/vendor/jquery-ui.min.js\n",
      "1674080078.134 GET /_anki/js/webview.js\n",
      "1674080078.134 GET /_anki/js/deckbrowser.js\n",
      "1674080078.136 GET /_anki/imgs/gears.svg\n"
     ]
    }
   ],
   "source": [
    "print(col.db.execute(f'''select * from reviews where id = {1673993755760};'''))"
   ]
  },
  {
   "cell_type": "markdown",
   "id": "879a2f0c-b618-49a8-a169-8e4589a214b5",
   "metadata": {},
   "source": [
    "**Source review**"
   ]
  },
  {
   "cell_type": "code",
   "execution_count": 105,
   "id": "89a90c6d-61a6-43c5-8a17-047b319e1c2e",
   "metadata": {},
   "outputs": [
    {
     "name": "stdout",
     "output_type": "stream",
     "text": [
      "id: 1610650851864\n",
      "cid: 1605841844708\n",
      "usn: 2108\n",
      "button_chosen: 4\n",
      "interval: 2\n",
      "last_interval: -60\n",
      "ease_factor: 2500\n",
      "taken_millis: 1080440\n",
      "\n",
      "rating: 4, seconds_taken: 1080.44, answered_at: 2021-01-14 12:00:51.864000\n"
     ]
    },
    {
     "data": {
      "text/html": [
       "\n",
       "<div class =\"container\">\n",
       "  <div class = \"row\">\n",
       "    <div class = \"col-md-12 twelve columns\">\n",
       "\n",
       "<p>CET-07.01-22 Exercise:</p>\n",
       "<h4>Techniques of Integration</h4>\n",
       "<h5>Integration by Parts</h5>\n",
       "<p>Temporary: work out of CET textbook.</p>\n",
       "\n",
       "      </div>\n",
       "  </div>\n",
       "</div>\n"
      ],
      "text/plain": [
       "<IPython.core.display.HTML object>"
      ]
     },
     "execution_count": 105,
     "metadata": {},
     "output_type": "execute_result"
    }
   ],
   "source": [
    "review = table.get_current_review()\n",
    "rating = review.button_chosen\n",
    "seconds_taken = review.taken_millis/1000\n",
    "answered_at = datetime.datetime.fromtimestamp(review.id/1000)\n",
    "\n",
    "print(review)\n",
    "print(f\"rating: {rating}, seconds_taken: {seconds_taken}, answered_at: {answered_at}\")\n",
    "display.HTML(col.get_card(review.cid).note().fields[0])"
   ]
  },
  {
   "cell_type": "markdown",
   "id": "013612b6-4bdf-4798-a2d1-c2d8a6494a08",
   "metadata": {},
   "source": [
    "**Target card**"
   ]
  },
  {
   "cell_type": "code",
   "execution_count": 106,
   "id": "0f6daee5-4333-4c9f-8849-1529779d8924",
   "metadata": {},
   "outputs": [
    {
     "data": {
      "text/html": [
       "\n",
       "<div class =\"container\">\n",
       "  <div class = \"row\">\n",
       "    <div class = \"col-md-12 twelve columns\">\n",
       "\n",
       "<p>CET-07.01-22 Exercise:<br />\n",
       "Evaluate the integral.<br />\n",
       "<span class=\"math\">\\[\\int(\\arcsin x)^{2} d x\\]</span class=\"math\"></p>\n",
       "\n",
       "      </div>\n",
       "  </div>\n",
       "</div>\n"
      ],
      "text/plain": [
       "<IPython.core.display.HTML object>"
      ]
     },
     "execution_count": 106,
     "metadata": {},
     "output_type": "execute_result"
    }
   ],
   "source": [
    "browser = aqt.dialogs._dialogs['Browser'][1]\n",
    "table = browser.table\n",
    "card = table.get_single_selected_card()\n",
    "display.HTML(card.note().fields[0])"
   ]
  },
  {
   "cell_type": "code",
   "execution_count": 107,
   "id": "df636092-4334-4920-96e2-11495d90458d",
   "metadata": {},
   "outputs": [],
   "source": [
    "answer_card(build_answer(card=card, rating=rating, seconds_taken=seconds_taken, answered_at = answered_at))"
   ]
  },
  {
   "cell_type": "markdown",
   "id": "25a18c95-e67c-4f5f-9676-41d44c1e85d9",
   "metadata": {},
   "source": [
    "**Verify source review attributes**"
   ]
  },
  {
   "cell_type": "code",
   "execution_count": 108,
   "id": "2dca6d59-a89a-43bd-9326-993df012cf58",
   "metadata": {},
   "outputs": [
    {
     "data": {
      "text/plain": [
       "id: 1610650851864\n",
       "cid: 1605841844708\n",
       "usn: 2108\n",
       "button_chosen: 4\n",
       "interval: 2\n",
       "last_interval: -60\n",
       "ease_factor: 2500\n",
       "taken_millis: 1080440"
      ]
     },
     "execution_count": 108,
     "metadata": {},
     "output_type": "execute_result"
    },
    {
     "name": "stdout",
     "output_type": "stream",
     "text": [
      "1674246364.865 GET /_anki/legacyPageData\n",
      "1674246364.866 GET /_anki/legacyPageData\n",
      "1674246364.963 GET /_anki/css/webview.css\n",
      "1674246364.964 GET /_anki/css/deckbrowser.css\n",
      "1674246364.965 GET /_anki/js/webview.js\n",
      "1674246364.966 GET /_anki/js/vendor/jquery.min.js\n",
      "1674246364.967 GET /_anki/js/vendor/jquery-ui.min.js\n",
      "1674246364.968 GET /_anki/js/deckbrowser.js\n",
      "1674246364.973 GET /_anki/imgs/gears.svg\n",
      "1674246364.974 GET /_anki/css/webview.css\n",
      "1674246364.975 GET /_anki/css/toolbar.css\n",
      "1674246364.975 GET /_anki/css/toolbar-bottom.css\n",
      "1674246364.977 GET /_anki/js/webview.js\n",
      "1674246364.977 GET /_anki/js/vendor/jquery.min.js\n",
      "1674246365.043 GET /_anki/legacyPageData\n",
      "1674246365.047 GET /_anki/legacyPageData\n",
      "1674246365.075 GET /_anki/css/webview.css\n",
      "1674246365.075 GET /_anki/css/deckbrowser.css\n",
      "1674246365.075 GET /_anki/js/webview.js\n",
      "1674246365.080 GET /_anki/js/vendor/jquery.min.js\n",
      "1674246365.082 GET /_anki/js/vendor/jquery-ui.min.js\n",
      "1674246365.082 GET /_anki/js/deckbrowser.js\n",
      "1674246365.083 GET /_anki/imgs/gears.svg\n",
      "1674246365.089 GET /_anki/css/webview.css\n",
      "1674246365.090 GET /_anki/css/toolbar.css\n",
      "1674246365.091 GET /_anki/js/webview.js\n",
      "1674246365.091 GET /_anki/js/vendor/jquery.min.js\n",
      "1674246365.091 GET /_anki/css/toolbar-bottom.css\n",
      "Editor.onBridgeCmd(): ignored late review blur because:\n",
      "Editor.onBridgeCmd(): self.review is unset.\n"
     ]
    }
   ],
   "source": [
    "review"
   ]
  },
  {
   "cell_type": "markdown",
   "id": "633898af-cc02-4e97-b9e6-c4dd01010269",
   "metadata": {},
   "source": [
    "**Transfer attributes to target review**"
   ]
  },
  {
   "cell_type": "code",
   "execution_count": 30,
   "id": "7e3ee011-179a-4a80-bc0c-e87371ad2958",
   "metadata": {},
   "outputs": [
    {
     "data": {
      "text/plain": [
       "id: 1659679200038\n",
       "cid: 1580335328424\n",
       "usn: -1\n",
       "button_chosen: 2\n",
       "interval: -60\n",
       "last_interval: -60\n",
       "feedback: \"Almost missed the obvious: \\\\(\\\\ln\\\\sqrt x = \\\\tfrac{1}{2}\\\\ln x\\\\).\"\n",
       "tags: \".feedback::trouble::obvious::log-laws\""
      ]
     },
     "execution_count": 30,
     "metadata": {},
     "output_type": "execute_result"
    },
    {
     "name": "stdout",
     "output_type": "stream",
     "text": [
      "1674245591.079 GET /_anki/legacyPageData\n",
      "1674245591.080 GET /_anki/legacyPageData\n",
      "1674245591.092 GET /_anki/css/webview.css\n",
      "1674245591.095 GET /_anki/css/webview.css\n",
      "1674245591.096 GET /_anki/css/toolbar.css\n",
      "1674245591.096 GET /_anki/css/toolbar-bottom.css\n",
      "1674245591.097 GET /_anki/js/webview.js\n",
      "1674245591.097 GET /_anki/js/vendor/jquery.min.js\n",
      "1674245591.100 GET /_anki/css/deckbrowser.css\n",
      "1674245591.100 GET /_anki/js/webview.js\n",
      "1674245591.102 GET /_anki/js/vendor/jquery.min.js\n",
      "1674245591.103 GET /_anki/js/vendor/jquery-ui.min.js\n",
      "1674245591.104 GET /_anki/js/deckbrowser.js\n",
      "1674245591.105 GET /_anki/imgs/gears.svg\n"
     ]
    }
   ],
   "source": [
    "new_review = table.get_current_review()\n",
    "new_review.feedback = review.feedback\n",
    "new_review.tags.extend(review.tags)\n",
    "new_review"
   ]
  },
  {
   "cell_type": "code",
   "execution_count": 31,
   "id": "01a8387b-5198-49a8-85c7-c3712b4a796f",
   "metadata": {},
   "outputs": [
    {
     "data": {
      "text/plain": [
       "mtime: true\n",
       "revlog_entry: true\n",
       "browser_table: true"
      ]
     },
     "execution_count": 31,
     "metadata": {},
     "output_type": "execute_result"
    },
    {
     "name": "stdout",
     "output_type": "stream",
     "text": [
      "Editor.onBridgeCmd(): ignored late review blur because:\n",
      "Editor.onBridgeCmd(): self.review is unset.\n"
     ]
    }
   ],
   "source": [
    "col.update_revlog_entry(new_review)"
   ]
  },
  {
   "cell_type": "code",
   "execution_count": null,
   "id": "2361712a-de2b-415e-9bbe-ff15bfb957bd",
   "metadata": {},
   "outputs": [],
   "source": []
  }
 ],
 "metadata": {
  "kernelspec": {
   "display_name": "Python 3 (ipykernel)",
   "language": "python",
   "name": "python3"
  },
  "language_info": {
   "codemirror_mode": {
    "name": "ipython",
    "version": 3
   },
   "file_extension": ".py",
   "mimetype": "text/x-python",
   "name": "python",
   "nbconvert_exporter": "python",
   "pygments_lexer": "ipython3",
   "version": "3.9.15"
  }
 },
 "nbformat": 4,
 "nbformat_minor": 5
}
