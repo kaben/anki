{
 "cells": [
  {
   "cell_type": "code",
   "execution_count": 1,
   "id": "471d668e-9e98-4ba3-8769-6c5cb36f7e86",
   "metadata": {},
   "outputs": [],
   "source": [
    "import aqt\n",
    "\n",
    "from anki import scheduler_pb2\n",
    "\n",
    "from matplotlib import pyplot as plt\n",
    "import pandas as pd\n",
    "import seaborn as sns\n",
    "import scipy\n",
    "\n",
    "from dateutil.parser import parse as dt_parse\n",
    "\n",
    "import datetime, itertools, time"
   ]
  },
  {
   "cell_type": "code",
   "execution_count": 2,
   "id": "c6e38d0f-fd1e-40e0-9b17-830cd21f6514",
   "metadata": {},
   "outputs": [],
   "source": [
    "browser = aqt.dialogs._dialogs['Browser'][1]\n",
    "table = browser.table\n",
    "model = table._model"
   ]
  },
  {
   "cell_type": "code",
   "execution_count": 29,
   "id": "08afc3d2-4008-4093-86b9-816199a89e49",
   "metadata": {},
   "outputs": [
    {
     "data": {
      "text/plain": [
       "{'col': <anki.collection.Collection at 0x7f5e2c042540>,\n",
       " 'id': 1659061121012,\n",
       " 'guid': 'hME%?|Dw`;',\n",
       " 'mid': 1539794822805,\n",
       " 'mod': 1672608831,\n",
       " 'usn': 2005,\n",
       " 'tags': ['ann:technique', 'CET-05.05-TheSubstitutionRule'],\n",
       " 'fields': ['CET-05.05-Xm01',\n",
       "  '',\n",
       "  '220727-2119: technique: substitution of square root of&nbsp; a function'],\n",
       " '_fmap': {'Front': (0,\n",
       "   {'name': 'Front',\n",
       "    'ord': 0,\n",
       "    'sticky': False,\n",
       "    'rtl': False,\n",
       "    'font': 'Liberation Sans',\n",
       "    'size': 20,\n",
       "    'description': '',\n",
       "    'plainText': False,\n",
       "    'collapsed': False,\n",
       "    'media': []}),\n",
       "  'Back': (1,\n",
       "   {'name': 'Back',\n",
       "    'ord': 1,\n",
       "    'sticky': False,\n",
       "    'rtl': False,\n",
       "    'font': 'Arial',\n",
       "    'size': 20,\n",
       "    'description': '',\n",
       "    'plainText': False,\n",
       "    'collapsed': False,\n",
       "    'media': []}),\n",
       "  'Annotations': (2,\n",
       "   {'name': 'Annotations',\n",
       "    'ord': 2,\n",
       "    'sticky': False,\n",
       "    'rtl': False,\n",
       "    'font': 'Liberation Sans',\n",
       "    'size': 20,\n",
       "    'description': '',\n",
       "    'plainText': False,\n",
       "    'collapsed': False,\n",
       "    'media': []})}}"
      ]
     },
     "execution_count": 29,
     "metadata": {},
     "output_type": "execute_result"
    }
   ],
   "source": [
    "notes[0].__dict__"
   ]
  },
  {
   "cell_type": "code",
   "execution_count": 52,
   "id": "6c2b63fb-e1b7-4091-b790-93f38b54646d",
   "metadata": {},
   "outputs": [
    {
     "data": {
      "text/plain": [
       "<Card: id=1672682213036, type=3, queue=1, due=1673462645, factor=2150, reps=6, lapses=1>"
      ]
     },
     "execution_count": 52,
     "metadata": {},
     "output_type": "execute_result"
    }
   ],
   "source": [
    "cards[0]"
   ]
  },
  {
   "cell_type": "code",
   "execution_count": 51,
   "id": "eef2a7ad-9e75-4cc0-a1e0-aadfc6a490ec",
   "metadata": {},
   "outputs": [
    {
     "data": {
      "text/plain": [
       "<Note: id=1672682252627, fields=['ECET-06.06-Xc029 (testing)', '', ''], tags=['ECET-06.06-ImproperIntegrals']>"
      ]
     },
     "execution_count": 51,
     "metadata": {},
     "output_type": "execute_result"
    }
   ],
   "source": [
    "cards[1].note()"
   ]
  },
  {
   "cell_type": "code",
   "execution_count": 50,
   "id": "18af7e8f-0592-42a1-86fd-7f79db16f328",
   "metadata": {},
   "outputs": [],
   "source": [
    "from pylib.anki.cards import Card\n",
    "from pylib.anki.notes import Note\n",
    "\n",
    "def card_repr(self):\n",
    "    return f\"<Card: id={self.id}, type={self.type}, queue={self.queue}, due={self.due}, factor={self.factor}, reps={self.reps}, lapses={self.lapses}>\"\n",
    "\n",
    "def note_repr(self):\n",
    "    return f\"<Note: id={self.id}, fields={self.fields}, tags={self.tags}>\"\n",
    "\n",
    "cards[0].__class__.__repr__ = card_repr\n",
    "notes[0].__class__.__repr__ = note_repr"
   ]
  },
  {
   "cell_type": "code",
   "execution_count": 26,
   "id": "80667c67-88b5-404c-89a4-63e01e55ec1c",
   "metadata": {},
   "outputs": [],
   "source": [
    "CardAnswer = scheduler_pb2.CardAnswer\n",
    "\n",
    "def build_answer(card, rating, seconds_taken, answered_at = None):\n",
    "    if answered_at is None:\n",
    "        answered_at = datetime.datetime.now()\n",
    "    if type(answered_at) == datetime.datetime:\n",
    "        answered_at = int(answered_at.timestamp() * 1000)\n",
    "    ms_taken = int(seconds_taken * 1000)\n",
    "    states = model.col._backend.get_scheduling_states(card.id)\n",
    "    if rating == CardAnswer.AGAIN:\n",
    "        new_state = states.again\n",
    "    elif rating == CardAnswer.HARD:\n",
    "        new_state = states.hard\n",
    "    elif rating == CardAnswer.GOOD:\n",
    "        new_state = states.good\n",
    "    elif rating == CardAnswer.EASY:\n",
    "        new_state = states.easy\n",
    "    else:\n",
    "        raise Exception(\"invalid rating\")\n",
    "        \n",
    "    answer = CardAnswer(\n",
    "        card_id=card.id,\n",
    "        current_state=states.current,\n",
    "        new_state=states.again,\n",
    "        rating=rating,\n",
    "        answered_at_millis=answered_at,\n",
    "        milliseconds_taken=ms_taken,\n",
    "    )\n",
    "    return answer\n",
    "\n",
    "def answer_card(answer):\n",
    "    model.col._backend.answer_card_raw(answer.SerializeToString())"
   ]
  },
  {
   "cell_type": "code",
   "execution_count": 56,
   "id": "b5dd022f-c64e-4a4a-bc82-85bbf2d61051",
   "metadata": {},
   "outputs": [
    {
     "name": "stdout",
     "output_type": "stream",
     "text": [
      "Note: <Note: id=1672682213036, fields=['ECET-06.06-Xc031 (testing)', '', '220803-1212: trouble: inverted a fraction during cancellation in ratio of two fractions.'], tags=['ECET-06.06-ImproperIntegrals']>\n",
      "Card: <Card: id=1672682213036, type=3, queue=1, due=1673463428, factor=2150, reps=9, lapses=1>\n",
      "Review IDs:\n",
      "[1609718400000, 1609718700000, 1609719000000, 1609719060000, 1672682332155, 1672682347659, 1672682360378, 1673046179613, 1673397355817]\n",
      "*** After review:\n",
      "Card: <Card: id=1672682213036, type=3, queue=1, due=1673463566, factor=2150, reps=10, lapses=1>\n",
      "Review IDs:\n",
      "[1609718400000, 1609718700000, 1609719000000, 1609719060000, 1609719120000, 1672682332155, 1672682347659, 1672682360378, 1673046179613, 1673397355817]\n"
     ]
    }
   ],
   "source": [
    "card = table.get_single_selected_card()\n",
    "print(f\"Note: {card.note()}\")\n",
    "print(f\"Card: {card}\")\n",
    "print(f\"Review IDs:\\n{table.get_selected_review_ids()}\")\n",
    "answer_card(\n",
    "    build_answer(\n",
    "        answered_at = dt_parse('January 3, 2021 at 1711'),\n",
    "        rating=CardAnswer.EASY,\n",
    "        seconds_taken=10,\n",
    "        card=table.get_single_selected_card(),\n",
    "    )\n",
    ")\n",
    "card = table.get_single_selected_card()\n",
    "print(f\"*** After review:\")\n",
    "print(f\"Card: {card}\")\n",
    "print(f\"Review IDs:\\n{table.get_selected_review_ids()}\")"
   ]
  },
  {
   "cell_type": "code",
   "execution_count": null,
   "id": "f05f2327-5536-4e81-8066-7bdcb0b6d4d8",
   "metadata": {},
   "outputs": [],
   "source": []
  }
 ],
 "metadata": {
  "kernelspec": {
   "display_name": "Python 3 (ipykernel)",
   "language": "python",
   "name": "python3"
  },
  "language_info": {
   "codemirror_mode": {
    "name": "ipython",
    "version": 3
   },
   "file_extension": ".py",
   "mimetype": "text/x-python",
   "name": "python",
   "nbconvert_exporter": "python",
   "pygments_lexer": "ipython3",
   "version": "3.9.15"
  }
 },
 "nbformat": 4,
 "nbformat_minor": 5
}
