{
 "cells": [
  {
   "cell_type": "markdown",
   "id": "618efd90-f03d-4a17-a1f2-c9c0d2fddbfb",
   "metadata": {},
   "source": [
    "```diff\n",
    "diff -ub existing.py.orig existing.py\n",
    "--- existing.py.orig    2023-01-12 14:11:13.356844628 -0700\n",
    "+++ existing.py 2023-01-12 14:10:56.716836343 -0700\n",
    "@@ -29,7 +29,16 @@\n",
    " \n",
    "         _log.info(f'Existing IPython kernel = {connection_file}')\n",
    "         with open(connection_file) as f:\n",
    "-            return json.load(f)\n",
    "+            info = json.load(f)\n",
    "+            # jupyter_client.connect.ConnectionFileMixin._reconcile_connection_info()\n",
    "+            # expects the value of \"key\" to be bytes.\n",
    "+            if \"key\" in info:\n",
    "+                key = info[\"key\"]\n",
    "+                if isinstance(key, str):\n",
    "+                    key = key.encode()\n",
    "+                    info[\"key\"] = key\n",
    "+                assert isinstance(info[\"key\"], bytes)\n",
    "+            return info\n",
    " \n",
    "     async def pre_launch(self, **kwargs):\n",
    "         kwargs = await super().pre_launch(**kwargs)\n",
    "```"
   ]
  },
  {
   "cell_type": "code",
   "execution_count": null,
   "id": "71f5c4d1-ad49-431f-a493-50016b226f14",
   "metadata": {},
   "outputs": [],
   "source": []
  }
 ],
 "metadata": {
  "kernelspec": {
   "display_name": "Python 3 (ipykernel)",
   "language": "python",
   "name": "python3"
  },
  "language_info": {
   "codemirror_mode": {
    "name": "ipython",
    "version": 3
   },
   "file_extension": ".py",
   "mimetype": "text/x-python",
   "name": "python",
   "nbconvert_exporter": "python",
   "pygments_lexer": "ipython3",
   "version": "3.9.15"
  }
 },
 "nbformat": 4,
 "nbformat_minor": 5
}
