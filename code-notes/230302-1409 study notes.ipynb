{
 "cells": [
  {
   "cell_type": "markdown",
   "id": "6621b51d-6d28-4acd-b9db-5987803e9699",
   "metadata": {
    "tags": []
   },
   "source": [
    "230228-1057 study notes"
   ]
  },
  {
   "cell_type": "code",
   "execution_count": 11,
   "id": "d280a647-39fb-49e0-8fc8-e840be4121b5",
   "metadata": {
    "tags": []
   },
   "outputs": [],
   "source": [
    "import sympy as sy\n",
    "import numpy as np\n",
    "from matplotlib import pyplot as plt\n",
    "\n",
    "from IPython.display import Markdown\n",
    "\n",
    "import math, random\n",
    "\n",
    "a,b,c,d,e,i,j,k,l,m,n,p,q,r,s,t,u,v,w,x,y,z,theta = sy.symbols('a,b,c,d,e,i,j,k,l,m,n,p,q,r,s,t,u,v,w,x,y,z,theta')"
   ]
  },
  {
   "cell_type": "markdown",
   "id": "305beaaa-999d-4758-98d7-1cf60947c82b",
   "metadata": {},
   "source": [
    "- [x] `02 Limits and derivatives::02.02 The limit of a function`\n",
    "- [x] `02 Limits and derivatives::02.03 Calculating limits using the limit laws`\n",
    "- [x] `02 Limits and derivatives::02.04 The precise definition of a limit`\n",
    "- [x] `02 Limits and derivatives::02.05 Continuity`\n",
    "- [x] `02 Limits and derivatives::02.06 Limits at infinity; horizontal asymptotes`\n",
    "- [x] `03 Differentiation rules::03.01 Derivatives of polynomials and exponential functions`\n",
    "- [x] `03 Differentiation rules::03.02 The product and quotient rules`\n",
    "- [x] `03 Differentiation rules::03.03 Derivatives of trigonometric functions`\n",
    "- [x] `03 Differentiation rules::03.04 The Chain Rule`\n",
    "- [x] `03 Differentiation rules::03.05 Implicit differentiation`\n",
    "- [x] `03 Differentiation rules::03.06 Derivatives of logarithmic functions`\n",
    "- [x] `03 Differentiation rules::03.07 Rates of change in the natural and social sciences`\n",
    "- [ ] `03 Differentiation rules::03.08 Exponential growth and decay`\n",
    "- [ ] `03 Differentiation rules::03.09 Related rates`\n",
    "- [ ] `03 Differentiation rules::03.10 Linear approximations and differentials`\n",
    "- [ ] `03 Differentiation rules::03.11 Hyperbolic functions`\n",
    "- [ ] `04 Applications of differentiation::04.01 Maximum and minimum values`\n",
    "- [ ] `04 Applications of differentiation::04.02 The Mean Value Theorem`\n",
    "- [ ] `04 Applications of differentiation::04.04 Indeterminate forms and L'Hospital's Rule`\n",
    "- [ ] `04 Applications of differentiation::04.07 Optimization problems`\n",
    "- [ ] `04 Applications of differentiation::04.08 Newton's Method`\n",
    "- [ ] `05 Integrals::05.03 The Fundamental Theorem of Calculus`\n",
    "- [ ] `05 Integrals::05.05 The Substitution Rule`\n",
    "- [ ] `06 Applications of integration::06.01 Areas between curves`\n",
    "- [ ] `06 Applications of integration::06.02 Volumes`\n",
    "- [ ] `06 Applications of integration::06.03 Volumes by cylindrical shells`\n",
    "- [ ] `06 Applications of integration::06.04 Work`\n",
    "- [ ] `06 Applications of integration::06.05 Average value of a function`\n",
    "- [ ] `07 Techniques of integration::07.01 Integration by parts`\n",
    "- [ ] `07 Techniques of integration::07.02 Trigonometric integrals`\n",
    "- [ ] `07 Techniques of integration::07.03 Trigonometric substitution`\n",
    "- [ ] `07 Techniques of integration::07.04 Integration of rational functions by partial fractions`\n",
    "- [ ] `07 Techniques of integration::07.05 Strategy for integration`\n",
    "- [ ] `07 Techniques of integration::07.07 Approximate integration`\n",
    "- [ ] `07 Techniques of integration::07.08 Improper integrals`\n",
    "- [ ] `08 Further applications of integration::08.01 Arc length`\n",
    "- [ ] `08 Further applications of integration::08.02 Area of a surface of revolution`\n",
    "- [ ] `08 Further applications of integration::08.03 Applications to physics and engineering`\n",
    "- [ ] `08 Further applications of integration::08.04 Applications to economics and biology`\n",
    "- [ ] `08 Further applications of integration::08.05 Probability`"
   ]
  },
  {
   "cell_type": "code",
   "execution_count": 159,
   "id": "fd06e6a5-49ff-4956-8888-5b981bd0e807",
   "metadata": {
    "tags": []
   },
   "outputs": [
    {
     "data": {
      "text/plain": [
       "13107200"
      ]
     },
     "execution_count": 159,
     "metadata": {},
     "output_type": "execute_result"
    }
   ],
   "source": [
    "50*8**6"
   ]
  },
  {
   "cell_type": "code",
   "execution_count": 160,
   "id": "932b23fc-8838-4dc6-acb4-412356a9c4f0",
   "metadata": {
    "tags": []
   },
   "outputs": [
    {
     "data": {
      "text/plain": [
       "27255656.175105944"
      ]
     },
     "execution_count": 160,
     "metadata": {},
     "output_type": "execute_result"
    }
   ],
   "source": [
    "float(sy.ln(8)*50*8**6)"
   ]
  },
  {
   "cell_type": "code",
   "execution_count": null,
   "id": "c2755215-10ad-424f-99a9-0e58457f7ffe",
   "metadata": {},
   "outputs": [],
   "source": [
    "50"
   ]
  },
  {
   "cell_type": "code",
   "execution_count": 158,
   "id": "1395cb9b-1fbe-4aea-9c6e-16f1d5e7692c",
   "metadata": {
    "tags": []
   },
   "outputs": [
    {
     "data": {
      "text/plain": [
       "4.76257079318315"
      ]
     },
     "execution_count": 158,
     "metadata": {},
     "output_type": "execute_result"
    }
   ],
   "source": []
  },
  {
   "cell_type": "code",
   "execution_count": 136,
   "id": "b8c4c261-4242-4015-bbdf-a46c1b0a1b62",
   "metadata": {
    "tags": []
   },
   "outputs": [
    {
     "data": {
      "text/plain": [
       "0.7853981633974483"
      ]
     },
     "execution_count": 136,
     "metadata": {},
     "output_type": "execute_result"
    }
   ],
   "source": [
    "float(sy.pi/4)"
   ]
  },
  {
   "cell_type": "code",
   "execution_count": 137,
   "id": "e2c84be1-660a-41b7-b7f2-3e847b86ce65",
   "metadata": {
    "tags": []
   },
   "outputs": [
    {
     "data": {
      "text/plain": [
       "0.08960183660255172"
      ]
     },
     "execution_count": 137,
     "metadata": {},
     "output_type": "execute_result"
    }
   ],
   "source": [
    "0.875 - float(sy.pi/4) "
   ]
  },
  {
   "cell_type": "code",
   "execution_count": 142,
   "id": "d3a39b82-d11b-4359-83b9-5e9eb9db8c27",
   "metadata": {
    "tags": []
   },
   "outputs": [
    {
     "data": {
      "text/plain": [
       "0.8344520909084878"
      ]
     },
     "execution_count": 142,
     "metadata": {},
     "output_type": "execute_result"
    }
   ],
   "source": [
    "float(sy.tan(sy.pi/4 - 0.09))"
   ]
  },
  {
   "cell_type": "code",
   "execution_count": 135,
   "id": "35e1bcac-5c97-4b89-9534-f1b960126863",
   "metadata": {
    "tags": []
   },
   "outputs": [
    {
     "data": {
      "image/png": "[encoded data removed]",
      "text/plain": [
       "<Figure size 640x480 with 1 Axes>"
      ]
     },
     "metadata": {},
     "output_type": "display_data"
    },
    {
     "data": {
      "text/plain": [
       "<sympy.plotting.plot.Plot at 0x7f08b9beb5e0>"
      ]
     },
     "execution_count": 135,
     "metadata": {},
     "output_type": "execute_result"
    }
   ],
   "source": [
    "sy.plot(sy.tan(x), 0.8, 1.2, (x, sy.pi/4 - 0.1, sy.pi/4 + 0.1), ylim=(-5,5))"
   ]
  },
  {
   "cell_type": "markdown",
   "id": "0215779f-0129-41b1-8914-27df232f8b70",
   "metadata": {
    "jupyter": {
     "source_hidden": true
    },
    "tags": []
   },
   "source": [
    "- [ ] `02 Limits and derivatives::02.02 The limit of a function`\n",
    "- [ ] `02 Limits and derivatives::02.03 Calculating limits using the limit laws`\n",
    "- [ ] `02 Limits and derivatives::02.04 The precise definition of a limit`\n",
    "- [ ] `02 Limits and derivatives::02.05 Continuity`\n",
    "- [ ] `02 Limits and derivatives::02.06 Limits at infinity; horizontal asymptotes`\n",
    "- [ ] `03 Differentiation rules::03.01 Derivatives of polynomials and exponential functions`\n",
    "- [ ] `03 Differentiation rules::03.02 The product and quotient rules`\n",
    "- [ ] `03 Differentiation rules::03.03 Derivatives of trigonometric functions`\n",
    "- [ ] `03 Differentiation rules::03.04 The Chain Rule`\n",
    "- [ ] `03 Differentiation rules::03.05 Implicit differentiation`\n",
    "- [ ] `03 Differentiation rules::03.06 Derivatives of logarithmic functions`\n",
    "- [ ] `03 Differentiation rules::03.07 Rates of change in the natural and social sciences`\n",
    "- [ ] `03 Differentiation rules::03.08 Exponential growth and decay`\n",
    "- [ ] `03 Differentiation rules::03.09 Related rates`\n",
    "- [ ] `03 Differentiation rules::03.10 Linear approximations and differentials`\n",
    "- [ ] `03 Differentiation rules::03.11 Hyperbolic functions`\n",
    "- [ ] `04 Applications of differentiation::04.01 Maximum and minimum values`\n",
    "- [ ] `04 Applications of differentiation::04.02 The Mean Value Theorem`\n",
    "- [ ] `04 Applications of differentiation::04.04 Indeterminate forms and L'Hospital's Rule`\n",
    "- [ ] `04 Applications of differentiation::04.07 Optimization problems`\n",
    "- [ ] `04 Applications of differentiation::04.08 Newton's Method`\n",
    "- [ ] `05 Integrals::05.03 The Fundamental Theorem of Calculus`\n",
    "- [ ] `05 Integrals::05.05 The Substitution Rule`\n",
    "- [ ] `06 Applications of integration::06.01 Areas between curves`\n",
    "- [ ] `06 Applications of integration::06.02 Volumes`\n",
    "- [ ] `06 Applications of integration::06.03 Volumes by cylindrical shells`\n",
    "- [ ] `06 Applications of integration::06.04 Work`\n",
    "- [ ] `06 Applications of integration::06.05 Average value of a function`\n",
    "- [ ] `07 Techniques of integration::07.01 Integration by parts`\n",
    "- [ ] `07 Techniques of integration::07.02 Trigonometric integrals`\n",
    "- [ ] `07 Techniques of integration::07.03 Trigonometric substitution`\n",
    "- [ ] `07 Techniques of integration::07.04 Integration of rational functions by partial fractions`\n",
    "- [ ] `07 Techniques of integration::07.05 Strategy for integration`\n",
    "- [ ] `07 Techniques of integration::07.07 Approximate integration`\n",
    "- [ ] `07 Techniques of integration::07.08 Improper integrals`\n",
    "- [ ] `08 Further applications of integration::08.01 Arc length`\n",
    "- [ ] `08 Further applications of integration::08.02 Area of a surface of revolution`\n",
    "- [ ] `08 Further applications of integration::08.03 Applications to physics and engineering`\n",
    "- [ ] `08 Further applications of integration::08.04 Applications to economics and biology`\n",
    "- [ ] `08 Further applications of integration::08.05 Probability`\n",
    "- [ ] `09 Differential equations::09.01 Modeling with differential equations`\n",
    "- [ ] `09 Differential equations::09.02 Direction fields and Euler's Method`\n",
    "- [ ] `09 Differential equations::09.03 Separable equations`\n",
    "- [ ] `09 Differential equations::09.04 Models for population growth`\n",
    "- [ ] `09 Differential equations::09.05 Linear equations`\n",
    "- [ ] `09 Differential equations::09.06 Predator-prey systems`\n",
    "- [ ] `11 Infinite sequences and series::11.01 Sequences`\n",
    "- [ ] `11 Infinite sequences and series::11.02 Series`\n",
    "- [ ] `11 Infinite sequences and series::11.03 The integral test and estimates of sums`\n",
    "- [ ] `11 Infinite sequences and series::11.04 The comparison tests`\n",
    "- [ ] `11 Infinite sequences and series::11.05 Alternating series`\n",
    "- [ ] `11 Infinite sequences and series::11.06 Absolute convergence and the Ratio and Root Tests`\n",
    "- [ ] `11 Infinite sequences and series::11.07 Strategy for testing series`\n",
    "- [ ] `11 Infinite sequences and series::11.08 Power series`\n",
    "- [ ] `11 Infinite sequences and series::11.09 Representations of functions as power series`\n",
    "- [ ] `11 Infinite sequences and series::11.10 Taylor and Maclaurin series`\n",
    "- [ ] `11 Infinite sequences and series::11.11 Applications of Taylor polynomials`\n",
    "- [ ] `10 Parametric equations and polar coordinates::10.01 Curves defined by parametric equations`\n",
    "- [ ] `10 Parametric equations and polar coordinates::10.02 Calculus with parametric curves`\n",
    "- [ ] `10 Parametric equations and polar coordinates::10.03 Polar coordinates`\n",
    "- [ ] `10 Parametric equations and polar coordinates::10.04 Areas and lengths in polar coordinates`\n",
    "- [ ] `10 Parametric equations and polar coordinates::10.05 Conic sections`\n",
    "- [ ] `10 Parametric equations and polar coordinates::10.06 Conic sections in polar coordinates`\n",
    "- [ ] `12 Vectors and the geometry of space::12.01 Three-dimensional coordinate systems`\n",
    "- [ ] `12 Vectors and the geometry of space::12.02 Vectors`\n",
    "- [ ] `12 Vectors and the geometry of space::12.03 The dot product`\n",
    "- [ ] `12 Vectors and the geometry of space::12.04 The cross product`\n",
    "- [ ] `12 Vectors and the geometry of space::12.05 Equations of lines and planes`\n",
    "- [ ] `12 Vectors and the geometry of space::12.06 Cylinders and quadric surfaces`\n",
    "- [ ] `13 Vector functions::13.01 Vector functions and space curves`\n",
    "- [ ] `13 Vector functions::13.02 Derivatives and integrals of vector functions`\n",
    "- [ ] `13 Vector functions::13.03 Arc length and curvature`\n",
    "- [ ] `13 Vector functions::13.04 Motion in space: velocity and acceleration`\n",
    "- [ ] `14 Partial derivatives::14.01 Functions of several variables`\n",
    "- [ ] `14 Partial derivatives::14.02 Limits and continuity`\n",
    "- [ ] `14 Partial derivatives::14.03 Partial derivatives`\n",
    "- [ ] `14 Partial derivatives::14.04 Tangent planes and linear approximations`\n",
    "- [ ] `14 Partial derivatives::14.05 The Chain Rule`\n",
    "- [ ] `14 Partial derivatives::14.06 Directional derivatives and the gradient vector`\n",
    "- [ ] `14 Partial derivatives::14.07 Maximum and minimum values`\n",
    "- [ ] `14 Partial derivatives::14.08 Lagrange multipliers`\n",
    "- [ ] `15 Multiple integrals::15.01 Double integrals over rectangles`\n",
    "- [ ] `15 Multiple integrals::15.02 Double integrals over general regions`\n",
    "- [ ] `15 Multiple integrals::15.03 Double integrals in polar coordinates`\n",
    "- [ ] `15 Multiple integrals::15.04 Applications of double integrals`\n",
    "- [ ] `15 Multiple integrals::15.05 Surface area`\n",
    "- [ ] `15 Multiple integrals::15.06 Triple integrals`\n",
    "- [ ] `15 Multiple integrals::15.07 Triple integrals in cylindrical coordinates`\n",
    "- [ ] `15 Multiple integrals::15.08 Triple integrals in spherical coordinates`\n",
    "- [ ] `15 Multiple integrals::15.09 Change of variables in multiple integrals`\n",
    "- [ ] `16 Vector calculus::16.01 Vector fields`\n",
    "- [ ] `16 Vector calculus::16.02 Line integrals`\n",
    "- [ ] `16 Vector calculus::16.03 The Fundamental Theorem for Line integrals`\n",
    "- [ ] `16 Vector calculus::16.04 Green's Theorem`\n",
    "- [ ] `16 Vector calculus::16.05 Curl and divergence`\n",
    "- [ ] `16 Vector calculus::16.06 Parametric surfaces and their areas`\n",
    "- [ ] `16 Vector calculus::16.07 Surface integrals`\n",
    "- [ ] `16 Vector calculus::16.08 Stoke's Theorem`\n",
    "- [ ] `16 Vector calculus::16.09 The Divergence Theorem`"
   ]
  },
  {
   "cell_type": "code",
   "execution_count": 180,
   "id": "91a2128c-bde5-4e1b-8102-855df86e44ae",
   "metadata": {
    "tags": []
   },
   "outputs": [
    {
     "data": {
      "text/plain": [
       "0.2928932188134524"
      ]
     },
     "execution_count": 180,
     "metadata": {},
     "output_type": "execute_result"
    }
   ],
   "source": [
    "float(1 - (1/2)**0.5)"
   ]
  },
  {
   "cell_type": "code",
   "execution_count": 181,
   "id": "582838b8-5ab7-4863-9342-0b8ffa46e279",
   "metadata": {
    "tags": []
   },
   "outputs": [
    {
     "data": {
      "text/plain": [
       "0.22474487139158894"
      ]
     },
     "execution_count": 181,
     "metadata": {},
     "output_type": "execute_result"
    }
   ],
   "source": [
    "float((3/2)**0.5 - 1)"
   ]
  },
  {
   "cell_type": "code",
   "execution_count": 4,
   "id": "8c9bbfb6-25a6-4bfa-86a3-f2c699a53f66",
   "metadata": {},
   "outputs": [],
   "source": [
    "k = -1/50\n",
    "T_0 = 95\n",
    "T_s = 20\n",
    "T = 70\n",
    "dTdt = -1"
   ]
  },
  {
   "cell_type": "code",
   "execution_count": 5,
   "id": "d84646e8-c7de-4d7f-8010-79ca15fc71c7",
   "metadata": {},
   "outputs": [
    {
     "data": {
      "text/plain": [
       "50"
      ]
     },
     "execution_count": 5,
     "metadata": {},
     "output_type": "execute_result"
    }
   ],
   "source": [
    "y = T - T_s\n",
    "y"
   ]
  },
  {
   "cell_type": "code",
   "execution_count": 6,
   "id": "b001a855-d5ed-4a3c-b028-ef933ce4d65f",
   "metadata": {
    "tags": []
   },
   "outputs": [
    {
     "data": {
      "text/plain": [
       "-1.0"
      ]
     },
     "execution_count": 6,
     "metadata": {},
     "output_type": "execute_result"
    }
   ],
   "source": [
    "k*y"
   ]
  },
  {
   "cell_type": "code",
   "execution_count": 7,
   "id": "83eaf0be-9cf5-4340-b5a4-317fe2e908d8",
   "metadata": {
    "tags": []
   },
   "outputs": [],
   "source": [
    "A = T_0 - T_s"
   ]
  },
  {
   "cell_type": "code",
   "execution_count": 8,
   "id": "a2e1ecf7-20ef-4d61-97e8-4b0f842e37c4",
   "metadata": {
    "tags": []
   },
   "outputs": [
    {
     "data": {
      "text/plain": [
       "50.0"
      ]
     },
     "execution_count": 8,
     "metadata": {},
     "output_type": "execute_result"
    }
   ],
   "source": [
    "A*math.exp(k * 50*math.log(3/2))"
   ]
  },
  {
   "cell_type": "code",
   "execution_count": 10,
   "id": "da5250e9-db23-4d0c-82c2-3a584a6f7912",
   "metadata": {
    "tags": []
   },
   "outputs": [],
   "source": [
    "t = 50*math.log(3/2)"
   ]
  },
  {
   "cell_type": "code",
   "execution_count": 11,
   "id": "f0fde6ec-22fa-43bc-8274-ed1a18713dc0",
   "metadata": {
    "tags": []
   },
   "outputs": [
    {
     "data": {
      "text/plain": [
       "20.273255405408218"
      ]
     },
     "execution_count": 11,
     "metadata": {},
     "output_type": "execute_result"
    },
    {
     "name": "stderr",
     "output_type": "stream",
     "text": [
      "Traceback (most recent call last):\n",
      "  File \"/mnt/Work/Repos/kaben/ankimath/qt/aqt/taskman.py\", line 122, in _on_closures_pending\n",
      "    closure()\n",
      "  File \"/mnt/Work/Repos/kaben/ankimath/qt/aqt/taskman.py\", line 71, in <lambda>\n",
      "    lambda future: self.run_on_main(lambda: on_done(future))\n",
      "  File \"/mnt/Work/Repos/kaben/ankimath/qt/aqt/taskman.py\", line 90, in wrapped_done\n",
      "    on_done(fut)\n",
      "  File \"/mnt/Work/Repos/kaben/ankimath/qt/aqt/operations/__init__.py\", line 127, in wrapped_done\n",
      "    self._success(result)\n",
      "  File \"/mnt/Work/Repos/kaben/ankimath/qt/aqt/reviewer.py\", line 446, in after_answer\n",
      "    self._after_answering(ease)\n",
      "  File \"/mnt/Work/Repos/kaben/ankimath/qt/aqt/reviewer.py\", line 459, in _after_answering\n",
      "    gui_hooks.reviewer_did_answer_card(self, self.card, ease)\n",
      "  File \"/mnt/Work/Repos/kaben/ankimath/out/qt/_aqt/hooks.py\", line 3897, in __call__\n",
      "    hook(reviewer, card, ease)\n",
      "  File \"/home/kaben/.local/share/Anki2/addons21/topic_cards/__init__.py\", line 181, in on_reviewer_did_answer_card\n",
      "    flashcard = topic_cards_state[card.id]['flashcard_state']['flashcard']\n",
      "KeyError: 1677547670276\n"
     ]
    }
   ],
   "source": [
    "t"
   ]
  },
  {
   "cell_type": "code",
   "execution_count": 2,
   "id": "c2f2d758-d450-47a2-aeb9-6a1494a5e07a",
   "metadata": {
    "tags": []
   },
   "outputs": [
    {
     "data": {
      "text/plain": [
       "-0.00015057039056534164"
      ]
     },
     "execution_count": 2,
     "metadata": {},
     "output_type": "execute_result"
    }
   ],
   "source": [
    "k = math.log(87.14/101.3)/1000\n",
    "k"
   ]
  },
  {
   "cell_type": "code",
   "execution_count": 4,
   "id": "12d53a50-ec28-4aca-a759-776765f58715",
   "metadata": {
    "tags": []
   },
   "outputs": [
    {
     "data": {
      "text/plain": [
       "64.4812987279873"
      ]
     },
     "execution_count": 4,
     "metadata": {},
     "output_type": "execute_result"
    }
   ],
   "source": [
    "101.3*math.exp(k*3000)"
   ]
  },
  {
   "cell_type": "code",
   "execution_count": 5,
   "id": "3d0acc9c-8e54-420b-bd7d-2ed96bb891e4",
   "metadata": {
    "tags": []
   },
   "outputs": [
    {
     "data": {
      "text/plain": [
       "39.90523047194902"
      ]
     },
     "execution_count": 5,
     "metadata": {},
     "output_type": "execute_result"
    }
   ],
   "source": [
    "101.3*math.exp(k*6187)"
   ]
  },
  {
   "cell_type": "code",
   "execution_count": 10,
   "id": "53f7c236-c354-4999-ad90-eed274857f47",
   "metadata": {
    "tags": []
   },
   "outputs": [
    {
     "data": {
      "text/plain": [
       "8115.417426109393"
      ]
     },
     "execution_count": 10,
     "metadata": {},
     "output_type": "execute_result"
    }
   ],
   "source": [
    "dMdt=4.\n",
    "dWdt=-5.\n",
    "t=15*60\n",
    "(((dMdt - dWdt)*t)**2 + 500**2)**0.5"
   ]
  },
  {
   "cell_type": "code",
   "execution_count": 11,
   "id": "8acbd4cf-205c-4699-b192-c0799c163575",
   "metadata": {
    "tags": []
   },
   "outputs": [
    {
     "data": {
      "text/plain": [
       "900"
      ]
     },
     "execution_count": 11,
     "metadata": {},
     "output_type": "execute_result"
    }
   ],
   "source": [
    "t"
   ]
  },
  {
   "cell_type": "code",
   "execution_count": 12,
   "id": "6764c25e-90e2-4b33-bfd3-dca9c9e69143",
   "metadata": {
    "tags": []
   },
   "outputs": [
    {
     "data": {
      "text/plain": [
       "8100.0"
      ]
     },
     "execution_count": 12,
     "metadata": {},
     "output_type": "execute_result"
    }
   ],
   "source": [
    "(dMdt - dWdt)*t"
   ]
  },
  {
   "cell_type": "code",
   "execution_count": 2,
   "id": "f3dbb9e0-ec00-4110-90d7-647e14a34683",
   "metadata": {
    "tags": []
   },
   "outputs": [
    {
     "data": {
      "text/plain": [
       "9313.43116150004"
      ]
     },
     "execution_count": 2,
     "metadata": {},
     "output_type": "execute_result"
    }
   ],
   "source": [
    "100*((48+45)**2 + 5**2)**0.5"
   ]
  },
  {
   "cell_type": "code",
   "execution_count": 4,
   "id": "06a4febb-ce31-4309-96d1-6cf09ad256eb",
   "metadata": {},
   "outputs": [
    {
     "data": {
      "text/plain": [
       "8.987020846409424"
      ]
     },
     "execution_count": 4,
     "metadata": {},
     "output_type": "execute_result"
    },
    {
     "name": "stderr",
     "output_type": "stream",
     "text": [
      "Traceback (most recent call last):\n",
      "  File \"/mnt/Work/Repos/kaben/ankimath/qt/aqt/taskman.py\", line 122, in _on_closures_pending\n",
      "    closure()\n",
      "  File \"/mnt/Work/Repos/kaben/ankimath/qt/aqt/taskman.py\", line 71, in <lambda>\n",
      "    lambda future: self.run_on_main(lambda: on_done(future))\n",
      "  File \"/mnt/Work/Repos/kaben/ankimath/qt/aqt/taskman.py\", line 90, in wrapped_done\n",
      "    on_done(fut)\n",
      "  File \"/mnt/Work/Repos/kaben/ankimath/qt/aqt/operations/__init__.py\", line 127, in wrapped_done\n",
      "    self._success(result)\n",
      "  File \"/mnt/Work/Repos/kaben/ankimath/qt/aqt/reviewer.py\", line 446, in after_answer\n",
      "    self._after_answering(ease)\n",
      "  File \"/mnt/Work/Repos/kaben/ankimath/qt/aqt/reviewer.py\", line 459, in _after_answering\n",
      "    gui_hooks.reviewer_did_answer_card(self, self.card, ease)\n",
      "  File \"/mnt/Work/Repos/kaben/ankimath/out/qt/_aqt/hooks.py\", line 3897, in __call__\n",
      "    hook(reviewer, card, ease)\n",
      "  File \"/home/kaben/.local/share/Anki2/addons21/topic_cards/__init__.py\", line 181, in on_reviewer_did_answer_card\n",
      "    flashcard = topic_cards_state[card.id]['flashcard_state']['flashcard']\n",
      "KeyError: 1676346226468\n"
     ]
    }
   ],
   "source": [
    "9*(1200 + 9*900)/((1200 + 9*900)**2 + 500**2)**0.5"
   ]
  },
  {
   "cell_type": "code",
   "execution_count": 2,
   "id": "4f191174-cc8f-49ca-a7e8-3492b6c5c8ef",
   "metadata": {
    "tags": []
   },
   "outputs": [
    {
     "data": {
      "text/plain": [
       "1.6487212707001282"
      ]
     },
     "execution_count": 2,
     "metadata": {},
     "output_type": "execute_result"
    }
   ],
   "source": [
    "math.exp(0.5)"
   ]
  },
  {
   "cell_type": "code",
   "execution_count": 3,
   "id": "5c593d1e-4b65-4ec9-aed4-517f8689f50b",
   "metadata": {
    "tags": []
   },
   "outputs": [
    {
     "data": {
      "text/plain": [
       "0.6487212707001282"
      ]
     },
     "execution_count": 3,
     "metadata": {},
     "output_type": "execute_result"
    }
   ],
   "source": [
    "math.exp(0.5) -1"
   ]
  },
  {
   "cell_type": "code",
   "execution_count": 2,
   "id": "595dce30-4f9f-499c-9132-5b8fda1ce1fe",
   "metadata": {},
   "outputs": [
    {
     "data": {
      "text/plain": [
       "2.631924232964216"
      ]
     },
     "execution_count": 2,
     "metadata": {},
     "output_type": "execute_result"
    }
   ],
   "source": [
    "(81/math.pi)**(1/3)/2**(1/6)"
   ]
  },
  {
   "cell_type": "code",
   "execution_count": 3,
   "id": "bdf53054-75a0-4938-9dee-e0add3bc36df",
   "metadata": {
    "tags": []
   },
   "outputs": [
    {
     "data": {
      "text/plain": [
       "3.7221029453964"
      ]
     },
     "execution_count": 3,
     "metadata": {},
     "output_type": "execute_result"
    }
   ],
   "source": [
    "(81/math.pi)**(1/3)*2**(1/3)"
   ]
  },
  {
   "cell_type": "code",
   "execution_count": 7,
   "id": "8b6f40da-9b07-40ec-bc8e-525753b40cfd",
   "metadata": {
    "tags": []
   },
   "outputs": [
    {
     "data": {
      "text/plain": [
       "3.7221029453964"
      ]
     },
     "execution_count": 7,
     "metadata": {},
     "output_type": "execute_result"
    }
   ],
   "source": [
    "3*(6/math.pi)**(1/3)"
   ]
  },
  {
   "cell_type": "code",
   "execution_count": 3,
   "id": "1ea83cb1-f2d9-45f0-86c9-77af241ebef2",
   "metadata": {},
   "outputs": [
    {
     "data": {
      "text/plain": [
       "(4, 5, 15, 4800, 4500, 9313.43116150004, 8.987020846409424)"
      ]
     },
     "execution_count": 3,
     "metadata": {},
     "output_type": "execute_result"
    }
   ],
   "source": [
    "m1 = 4\n",
    "w1 = 5\n",
    "t = 15\n",
    "m = m1*(t + 5)*60\n",
    "w = w1*t*60\n",
    "d = ((m + w)**2 + 500**2)**0.5\n",
    "d1 = (m + w)*(m1 + w1)/d\n",
    "\n",
    "m1, w1, t, m, w, d, d1"
   ]
  },
  {
   "cell_type": "markdown",
   "id": "99f461f2-fdc3-4059-928b-f89eb8188b48",
   "metadata": {},
   "source": [
    "Could you generate a set of NumPy practice problems on optimization and performance, demonstrating how to write vectorized code to take full advantage of NumPy's performance benefits, as well as using functions like `np.vectorize()` and `np.apply_along_axis()` when needed, being aware of memory management and the use of in-place operations to help optimize performance?\n",
    "\n",
    "Could you generate a set of NumPy practice problems on broadcasting, demonstrating how NumPy automatically handles operations between arrays of different shapes and sizes, enabling efficient element-wise operations?\n"
   ]
  },
  {
   "cell_type": "code",
   "execution_count": 7,
   "id": "94b994de-c6bf-4fa2-b19f-7ea64845a8ea",
   "metadata": {
    "tags": []
   },
   "outputs": [
    {
     "data": {
      "text/plain": [
       "(array([[0, 8, 2, 0],\n",
       "        [4, 6, 1, 7],\n",
       "        [0, 8, 2, 7],\n",
       "        [2, 9, 8, 1]]),\n",
       " array([2, 7, 9, 5]),\n",
       " array([[ 2, 15, 11,  5],\n",
       "        [ 6, 13, 10, 12],\n",
       "        [ 2, 15, 11, 12],\n",
       "        [ 4, 16, 17,  6]]))"
      ]
     },
     "execution_count": 7,
     "metadata": {},
     "output_type": "execute_result"
    }
   ],
   "source": [
    "A = np.random.randint(0, 10, (4, 4))\n",
    "B = np.random.randint(0, 10, 4)\n",
    "\n",
    "result_1 = A + B\n",
    "\n",
    "A, B, result_1"
   ]
  },
  {
   "cell_type": "code",
   "execution_count": 9,
   "id": "ed82876d-5bb4-4c81-96ef-ef04cff60f5a",
   "metadata": {
    "tags": []
   },
   "outputs": [
    {
     "data": {
      "text/plain": [
       "(array([[2, 3, 2],\n",
       "        [0, 0, 2],\n",
       "        [4, 2, 2]]),\n",
       " 3,\n",
       " array([[ 6,  9,  6],\n",
       "        [ 0,  0,  6],\n",
       "        [12,  6,  6]]))"
      ]
     },
     "execution_count": 9,
     "metadata": {},
     "output_type": "execute_result"
    }
   ],
   "source": [
    "C = np.random.randint(0, 5, (3, 3))\n",
    "k = np.random.randint(0, 5)\n",
    "\n",
    "result_2 = C*k\n",
    "\n",
    "C, k, result_2"
   ]
  },
  {
   "cell_type": "code",
   "execution_count": 12,
   "id": "54b879ff-3a09-4869-8460-5ac85d14b36e",
   "metadata": {
    "tags": []
   },
   "outputs": [
    {
     "name": "stdin",
     "output_type": "stream",
     "text": [
      "input 0:  0\n",
      "input 1:  1\n",
      "input 2:  2\n",
      "input 3:  3\n",
      "input 4:  4\n",
      "input 5:  5\n",
      "input 6:  6\n",
      "input 7:  7\n",
      "input 8:  8\n",
      "input 9:  9\n"
     ]
    },
    {
     "name": "stdout",
     "output_type": "stream",
     "text": [
      "inputs: ['0', '1', '2', '3', '4', '5', '6', '7', '8', '9']\n",
      "shuffled inputs: ['4', '6', '1', '7', '2', '8', '9', '5', '0', '3']\n"
     ]
    }
   ],
   "source": [
    "import random\n",
    "\n",
    "inputs = [input(f'input {i}: ') for i in range(10)]\n",
    "print(f'inputs: {inputs}')\n",
    "random.shuffle(inputs)\n",
    "print(f'shuffled inputs: {inputs}')\n"
   ]
  },
  {
   "cell_type": "code",
   "execution_count": 14,
   "id": "38d4cb55-2fc8-4b54-ab91-6cc5db56cbeb",
   "metadata": {
    "tags": []
   },
   "outputs": [
    {
     "data": {
      "text/plain": [
       "2"
      ]
     },
     "execution_count": 14,
     "metadata": {},
     "output_type": "execute_result"
    }
   ],
   "source": [
    "C[0][0]"
   ]
  },
  {
   "cell_type": "code",
   "execution_count": 43,
   "id": "8e7aec53-3706-4d0e-b855-70e70cd3b9ed",
   "metadata": {
    "tags": []
   },
   "outputs": [],
   "source": [
    "def binsearch(ary, k):\n",
    "    lo = 0\n",
    "    hi = len(ary)-1\n",
    "    while lo <= hi:\n",
    "        i = (lo+hi)//2\n",
    "        if ary[i] < k:\n",
    "            lo = i+1\n",
    "        elif ary[i] > k:\n",
    "            hi = i-1\n",
    "        else:\n",
    "            return i"
   ]
  },
  {
   "cell_type": "code",
   "execution_count": 74,
   "id": "a881692d-fedf-4886-a770-7614cacde745",
   "metadata": {
    "tags": []
   },
   "outputs": [],
   "source": [
    "for _ in range(10000):\n",
    "    length = random.randint(1, 100)\n",
    "    #ary = sorted(set(random.randint(0, 100) for i in range(length)))\n",
    "    ary = sorted(random.randint(0, 100) for i in range(length))\n",
    "    n = random.randint(0, len(ary) - 1)\n",
    "    i = binsearch(ary, ary[n])\n",
    "    if (i is None) or (ary[i] != ary[n]):\n",
    "        print(f'Fail: i: {i}, n: {n}, ary[{n}]: {ary[n]}')\n",
    "        break"
   ]
  },
  {
   "cell_type": "code",
   "execution_count": 75,
   "id": "44b5c3b6-24b7-4620-a7d6-a79e129ee932",
   "metadata": {
    "tags": []
   },
   "outputs": [
    {
     "data": {
      "text/plain": [
       "(65, 23, 22, 29, 29)"
      ]
     },
     "execution_count": 75,
     "metadata": {},
     "output_type": "execute_result"
    }
   ],
   "source": [
    "length, i, n, ary[i], ary[n]"
   ]
  },
  {
   "cell_type": "code",
   "execution_count": 57,
   "id": "01aeded5-3fca-411c-a343-d212200b8648",
   "metadata": {
    "tags": []
   },
   "outputs": [
    {
     "data": {
      "text/plain": [
       "89"
      ]
     },
     "execution_count": 57,
     "metadata": {},
     "output_type": "execute_result"
    }
   ],
   "source": [
    "length"
   ]
  },
  {
   "cell_type": "code",
   "execution_count": 58,
   "id": "d2b27c52-c816-4821-b405-75d3fdd7749c",
   "metadata": {
    "tags": []
   },
   "outputs": [
    {
     "data": {
      "text/plain": [
       "[1,\n",
       " 1,\n",
       " 2,\n",
       " 4,\n",
       " 8,\n",
       " 9,\n",
       " 9,\n",
       " 13,\n",
       " 13,\n",
       " 14,\n",
       " 14,\n",
       " 15,\n",
       " 16,\n",
       " 16,\n",
       " 17,\n",
       " 19,\n",
       " 19,\n",
       " 20,\n",
       " 21,\n",
       " 22,\n",
       " 24,\n",
       " 24,\n",
       " 24,\n",
       " 24,\n",
       " 26,\n",
       " 26,\n",
       " 26,\n",
       " 30,\n",
       " 31,\n",
       " 33,\n",
       " 33,\n",
       " 36,\n",
       " 37,\n",
       " 38,\n",
       " 38,\n",
       " 39,\n",
       " 39,\n",
       " 39,\n",
       " 42,\n",
       " 45,\n",
       " 46,\n",
       " 48,\n",
       " 49,\n",
       " 49,\n",
       " 50,\n",
       " 51,\n",
       " 51,\n",
       " 53,\n",
       " 53,\n",
       " 53,\n",
       " 56,\n",
       " 57,\n",
       " 58,\n",
       " 58,\n",
       " 59,\n",
       " 60,\n",
       " 62,\n",
       " 63,\n",
       " 63,\n",
       " 65,\n",
       " 65,\n",
       " 65,\n",
       " 66,\n",
       " 67,\n",
       " 69,\n",
       " 69,\n",
       " 71,\n",
       " 72,\n",
       " 73,\n",
       " 74,\n",
       " 75,\n",
       " 75,\n",
       " 76,\n",
       " 79,\n",
       " 80,\n",
       " 81,\n",
       " 82,\n",
       " 83,\n",
       " 83,\n",
       " 85,\n",
       " 86,\n",
       " 86,\n",
       " 91,\n",
       " 92,\n",
       " 92,\n",
       " 92,\n",
       " 96,\n",
       " 96,\n",
       " 97]"
      ]
     },
     "execution_count": 58,
     "metadata": {},
     "output_type": "execute_result"
    }
   ],
   "source": [
    "ary"
   ]
  },
  {
   "cell_type": "code",
   "execution_count": 33,
   "id": "e8624c70-d883-4e02-8fbc-a5099d9fb352",
   "metadata": {
    "tags": []
   },
   "outputs": [
    {
     "data": {
      "text/plain": [
       "13"
      ]
     },
     "execution_count": 33,
     "metadata": {},
     "output_type": "execute_result"
    }
   ],
   "source": [
    "ary[n]"
   ]
  },
  {
   "cell_type": "code",
   "execution_count": 59,
   "id": "c43f61cc-3bd5-487d-8d4a-4575324c1ca9",
   "metadata": {
    "tags": []
   },
   "outputs": [
    {
     "data": {
      "text/plain": [
       "60"
      ]
     },
     "execution_count": 59,
     "metadata": {},
     "output_type": "execute_result"
    }
   ],
   "source": [
    "binsearch(ary, 65)"
   ]
  },
  {
   "cell_type": "code",
   "execution_count": 25,
   "id": "9aee1684-8978-4e7c-a5f1-0adf239d0703",
   "metadata": {
    "tags": []
   },
   "outputs": [
    {
     "data": {
      "text/plain": [
       "[3,\n",
       " 3,\n",
       " 3,\n",
       " 6,\n",
       " 6,\n",
       " 6,\n",
       " 6,\n",
       " 7,\n",
       " 8,\n",
       " 9,\n",
       " 10,\n",
       " 12,\n",
       " 13,\n",
       " 14,\n",
       " 16,\n",
       " 17,\n",
       " 17,\n",
       " 19,\n",
       " 19,\n",
       " 20,\n",
       " 20,\n",
       " 21,\n",
       " 21,\n",
       " 21,\n",
       " 21,\n",
       " 22,\n",
       " 26,\n",
       " 27,\n",
       " 27,\n",
       " 28,\n",
       " 29,\n",
       " 30,\n",
       " 31,\n",
       " 32,\n",
       " 33,\n",
       " 34,\n",
       " 34,\n",
       " 34,\n",
       " 34,\n",
       " 34,\n",
       " 35,\n",
       " 35,\n",
       " 36,\n",
       " 37,\n",
       " 38,\n",
       " 38,\n",
       " 41,\n",
       " 41,\n",
       " 42,\n",
       " 43,\n",
       " 43,\n",
       " 44,\n",
       " 44,\n",
       " 45,\n",
       " 46,\n",
       " 47,\n",
       " 49,\n",
       " 50,\n",
       " 50,\n",
       " 50,\n",
       " 51,\n",
       " 52,\n",
       " 54,\n",
       " 55,\n",
       " 55,\n",
       " 56,\n",
       " 58,\n",
       " 59,\n",
       " 61,\n",
       " 64,\n",
       " 64,\n",
       " 65,\n",
       " 65,\n",
       " 66,\n",
       " 69,\n",
       " 70,\n",
       " 71,\n",
       " 72,\n",
       " 72,\n",
       " 75,\n",
       " 76,\n",
       " 77,\n",
       " 79,\n",
       " 79,\n",
       " 80,\n",
       " 80,\n",
       " 83,\n",
       " 85,\n",
       " 86,\n",
       " 87,\n",
       " 88,\n",
       " 89,\n",
       " 90,\n",
       " 90,\n",
       " 92,\n",
       " 96,\n",
       " 97,\n",
       " 99,\n",
       " 99,\n",
       " 100]"
      ]
     },
     "execution_count": 25,
     "metadata": {},
     "output_type": "execute_result"
    }
   ],
   "source": [
    "ary"
   ]
  },
  {
   "cell_type": "markdown",
   "id": "ace04834-13ea-4af1-84e0-bcaf43cb28ad",
   "metadata": {},
   "source": [
    "Generative Agents: Interactive Simulacra of Human Behavior\n",
    "\n",
    "Joon Sung Park\n",
    "Stanford University\n",
    "Stanford, USA\n",
    "joonspk@stanford.edu\n",
    "\n",
    "Joseph C. O’Brien\n",
    "Stanford University\n",
    "Stanford, USA\n",
    "jobrien3@stanford.edu\n",
    "\n",
    "Carrie J. Cai\n",
    "Google Research\n",
    "Mountain View, CA, USA\n",
    "cjcai@google.com\n",
    "\n",
    "Meredith Ringel Morris\n",
    "Google Research\n",
    "Seattle, WA, USA\n",
    "merrie@google.com\n",
    "\n",
    "Percy Liang\n",
    "Stanford University\n",
    "Stanford, USA\n",
    "pliang@cs.stanford.edu\n",
    "\n",
    "Michael S. Bernstein\n",
    "Stanford University\n",
    "Stanford, USA\n",
    "msb@cs.stanford.edu\n",
    "\n",
    "ABSTRACT\n",
    "\n",
    "Believable proxies of human behavior can empower interactive\n",
    "applications ranging from immersive environments to rehearsal\n",
    "spaces for interpersonal communication to prototyping tools. In\n",
    "this paper, we introduce generative agents—computational software\n",
    "agents that simulate believable human behavior. Generative agents\n",
    "wake up, cook breakfast, and head to work; artists paint, while\n",
    "authors write; they form opinions, notice each other, and initiate\n",
    "conversations; they remember and reflect on days past as they plan\n",
    "the next day. To enable generative agents, we describe an architecture that extends a large language model to store a complete record\n",
    "of the agent’s experiences using natural language, synthesize those\n",
    "memories over time into higher-level reflections, and retrieve them\n",
    "dynamically to plan behavior. We instantiate generative agents\n",
    "to populate an interactive sandbox environment inspired by The\n",
    "Sims, where end users can interact with a small town of twenty five\n",
    "agents using natural language. In an evaluation, these generative\n",
    "agents produce believable individual and emergent social behaviors: for example, starting with only a single user-specified notion\n",
    "that one agent wants to throw a Valentine’s Day party, the agents\n",
    "autonomously spread invitations to the party over the next two\n",
    "days, make new acquaintances, ask each other out on dates to the\n",
    "party, and coordinate to show up for the party together at the right\n",
    "time. We demonstrate through ablation that the components of\n",
    "our agent architecture—observation, planning, and reflection—each\n",
    "contribute critically to the believability of agent behavior. By fusing\n",
    "large language models with computational, interactive agents, this\n",
    "work introduces architectural and interaction patterns for enabling\n",
    "believable simulations of human behavior.\n",
    "\n",
    "CCS CONCEPTS\n",
    "\n",
    "• Human-centered computing→Interactive systems and tools;\n",
    "• Computing methodologies → Natural language processing.\n",
    "\n",
    "KEYWORDS\n",
    "\n",
    "Human-AI Interaction, agents, generative AI, large language models\n",
    "\n",
    "1 INTRODUCTION\n",
    "\n",
    "How might we craft an interactive artificial society that reflects\n",
    "believable human behavior? From sandbox games such as The Sims\n",
    "to applications such as cognitive models [21] and virtual environments [9, 58], for over four decades researchers and practitioners\n",
    "have envisioned computational agents that can serve as believable proxies of human behavior. In these visions, computationallypowered agents act consistently with their past experiences and\n",
    "react believably to their environments. Such simulations of human\n",
    "behavior could populate virtual spaces and communities with realistic social phenomena [26, 79], train people how to handle rare yet\n",
    "difficult interpersonal situations [43, 51, 93], test social science theories [11, 45], craft model human processors for theory and usability\n",
    "testing [21, 38, 50], power ubiquitous computing applications [30]\n",
    "and social robots [9, 13], and underpin non-playable game characters [58, 84] that can navigate complex human relationships in an\n",
    "open world.\n",
    "\n",
    "However, the space of human behavior is vast and complex [84,\n",
    "108]. Despite striking progress in large language models [17] that\n",
    "can simulate believable human behavior at a single time point [38,\n",
    "79], fully general agents that ensure long-term coherence would\n",
    "be better suited by architectures that manage constantly-growing\n",
    "memories as new interactions, conflicts, and events arise and fade\n",
    "over time, while handling cascading social dynamics that unfold\n",
    "between multiple agents. Success requires an approach that can\n",
    "retrieve relevant events and interactions over a long period, reflect\n",
    "on those memories to generalize and draw higher-level inferences,\n",
    "and apply that reasoning to create plans and reactions that both\n",
    "make sense in the moment and in the longer-term arc of the agent’s\n",
    "behavior.\n",
    "\n",
    "In this paper, we introduce generative agents—agents that draw\n",
    "on generative models to simulate believable human behavior—and\n",
    "demonstrate that they produce believable simulacra of both individual and emergent group behavior. Generative agents draw\n",
    "a wide variety of inferences about themselves, other agents, and\n",
    "their environment; they create daily plans that reflect their characteristics and experiences, act out those plans, react, and re-plan\n",
    "when appropriate; they respond when the end user changes their\n",
    "environment or commands them in natural language. For instance,\n",
    "generative agents turn off the stove when they see that their breakfast is burning, wait outside the bathroom if it is occupied, and\n",
    "stop to chat when they meet another agent they want to talk to.\n",
    "A society full of generative agents is marked by emergent social\n",
    "dynamics where new relationships are formed, information diffuses,\n",
    "and coordination arises across agents.\n",
    "\n",
    "To enable generative agents, we describe an agent architecture\n",
    "that stores, synthesizes, and applies relevant memories to generate\n",
    "believable behavior using a large language model. Our architecture\n",
    "comprises three main components. The first is the memory stream,\n",
    "a long-term memory module that records, in natural language, a\n",
    "comprehensive list of the agent’s experiences. The retrieval model\n",
    "combines relevance, recency, and importance to surface the records\n",
    "that are needed to inform the agent’s moment-to-moment behavior.\n",
    "The second is reflection, which synthesizes memories into higherlevel inferences over time, enabling the agent to draw conclusions\n",
    "about itself and others to better guide its behavior. The third is\n",
    "planning, which translates those conclusions and the current environment into high-level action plans and then recursively into\n",
    "detailed behaviors for action and reaction. These reflections and\n",
    "plans are fed back into the memory stream to influence the agent’s\n",
    "future behavior.\n",
    "\n",
    "This architecture suggests applications in multiple domains, from\n",
    "role-play and social prototyping, to virtual worlds and games. In\n",
    "social role-play scenarios (e.g. interview preparation), a user could\n",
    "safely rehearse difficult, conflict-laden conversations. When prototyping social platforms, a designer could go beyond temporary\n",
    "personas to prototype dynamic, complex interactions that unfold\n",
    "over time. For the purposes of this paper, we focus on the ability to\n",
    "create a small, interactive society of agents inspired by games such\n",
    "as The Sims.1 By connecting our architecture to the ChatGPT large\n",
    "language model [76], we manifest a small society of twenty five\n",
    "agents in a game environment. End users can observe and interact\n",
    "with these agents. If an end user or developer wanted the town\n",
    "to host an in-game Valentine’s Day party, for example, traditional\n",
    "game environments would require scripting tens of characters’ behavior manually. We demonstrate that, with generative agents, it\n",
    "is sufficient to simply tell one agent that she wants to throw a\n",
    "party. Despite many potential points of failure—the party planner\n",
    "must remember to tell other agents about the party, attendees must\n",
    "remember the invitation, those who remember must decide to actually show up, and other possible points of failure—agents in our\n",
    "environment succeed. They spread the word about the party and\n",
    "then show up, with one agent even asking another agent on a date\n",
    "to the party, all from this single user-generated seed suggestion.\n",
    "\n",
    "We conducted two evaluations of generative agents: a controlled\n",
    "evaluation to test whether the agents produce believable individual\n",
    "behaviors in isolation, and an end-to-end evaluation where the\n",
    "generative agents interacted with each other in open-ended ways\n",
    "over two days of game time to understand their stability and emergent social behaviors. In the technical evaluation, we leverage a\n",
    "methodological opportunity to evaluate an agent’s knowledge and\n",
    "behavior by “interviewing” it in natural language to probe agents’\n",
    "ability to stay in character, remember, plan, react, and reflect accurately. We compared several ablations that limit agents’ access to\n",
    "memory, reflection, and planning. We observe that each of these\n",
    "components is critical to strong performance across these interview tasks. Across the technical and the end-to-end evaluation, the\n",
    "most common errors arose when the agent failed to retrieve relevant memories, fabricated embellishments to the agent’s memory,\n",
    "or inherited overly formal speech or behavior from the language\n",
    "model.\n",
    "\n",
    "In sum, this paper provides the following contributions:\n",
    "\n",
    "• Generative agents, believable simulacra of human behavior\n",
    "that are dynamically conditioned on agents’ changing experiences and environment.\n",
    "• A novel architecture that makes it possible for generative\n",
    "agents to remember, retrieve, reflect, interact with other\n",
    "agents, and plan through dynamically evolving circumstances.\n",
    "The architecture leverages the powerful prompting capabilities of large language models and supplements those capabilities to support longer-term agent coherence, the ability\n",
    "to manage dynamically-evolving memory, and recursively\n",
    "produce more generations.\n",
    "• Two evaluations (a controlled evaluation and end-to-end\n",
    "evaluation) that establish causal effects of the importance\n",
    "of components of the architecture, as well as identify breakdowns arising from, e.g., improper memory retrieval.\n",
    "• Discussion of the opportunities and ethical and societal risks\n",
    "of generative agents in interactive systems. We argue that\n",
    "these agents should be tuned to mitigate the risk of users\n",
    "forming parasocial relationships, logged to mitigate risks\n",
    "stemming from deepfakes and tailored persuasion, and applied in ways that complement rather than replace human\n",
    "stakeholders in design processes.\n",
    "\n",
    "2 RELATED WORK\n",
    "\n",
    "In this section, we reflect on the prior literature in human-AI interaction and situate within its canon the agenda of building believable proxies of human behavior. This agenda, once hailed as a\n",
    "north star in interaction, game, and artificial intelligence communities [9, 58, 84, 85], has remained challenging due to the complexity\n",
    "of human behavior [16, 108]. We synthesize this research to suggest\n",
    "that large language models, though not sufficient by themselves,\n",
    "open up a new angle for creating believable agents when leveraged\n",
    "using the appropriate architecture.\n",
    "\n",
    "2.1 Human-AI Interaction\n",
    "\n",
    "Interactive artificial intelligence systems aim to combine human insights and capabilities in computational artifacts that can augment\n",
    "their users [3, 29]. A long line of work has explored ways to allow\n",
    "users to interactively specify model behavior. For instance, Crayons\n",
    "demonstrated an early vision of interactive machine learning, allowing non-expert users to train classifiers [29]. Further work helped to\n",
    "articulate how end users might describe their classification goals to\n",
    "the system through examples [33] and/or demonstration [31]. More\n",
    "recent work has extended these explorations to deep learning [62]\n",
    "and prompt-based authoring [49, 66, 106].\n",
    "\n",
    "Meanwhile, a persistent thread of research has advanced the case\n",
    "for language- and agent-based interaction in human-computer interaction. Formative work such as SHRDLU [103] and ELIZA [102]\n",
    "demonstrated the opportunity and the risks of natural language\n",
    "interaction with computing systems. As research progressed, it\n",
    "became clear that autonomous agents could offer new metaphors\n",
    "for delegation and interaction [67], but the delegation lines between humans and agents have continued to be debated and refined\n",
    "[46, 88, 89]. Recently, this technology has become stable enough\n",
    "that it has become possible for agents to interact via natural language in large and complex online social environments (e.g., [54]).\n",
    "Natural language interaction offers a novel modality that can extend user abilities in domains such as photo editing [2, 34, 64] and\n",
    "code editing [87].\n",
    "\n",
    "We convene these threads of work to show that we can now\n",
    "create agents that proxy human behavior for interactive systems,\n",
    "and interact with them via natural language. In doing so, this\n",
    "work re-opens the door to examining foundational HCI questions\n",
    "around cognitive models such as GOMS and KLM [21, 22], around\n",
    "prototyping tools [79], and around ubiquitous computing applications [25, 30, 100].\n",
    "\n",
    "2.2 Believable Proxies of Human Behavior\n",
    "\n",
    "Prior literature has described believability, or believable agents, as a\n",
    "central design and engineering goal. Believable agents are designed\n",
    "to provide an illusion of life and present a facade of realism in the\n",
    "way they appear to make decisions and act on their own volition,\n",
    "similar to the characters in Disney movies [9, 95]. These agents can\n",
    "populate and perceive an open-world environment like the one we\n",
    "inhabit [9, 58], and strive to behave in ways that exhibit emergent\n",
    "behaviors grounded in social interactions with users or other agents\n",
    "with the aim of becoming believable proxies of our behavior in hypothetical simulations of individuals and communities [19, 35, 70].\n",
    "Historically, these agents were developed in the context of intelligent game NPCs [58, 84]. Creating NPCs with believable behavior,\n",
    "if possible, could enhance player experiences in games and interactive fictions by enabling emergent narratives [7, 15, 48, 92] and\n",
    "social interactions with the agents [110]. However, more importantly, game worlds provide increasingly realistic representations\n",
    "of real-world affordances, and as observed by Laird and van Lent in\n",
    "2001, these simulated worlds offer accessible testbeds for developers of believable agents to finesse the agents’ cognitive capabilities\n",
    "without worrying about implementing robotics in the real world\n",
    "or creating simulation environments from scratch [58, 84].\n",
    "\n",
    "A diverse set of approaches to creating believable agents emerged\n",
    "over the past four decades. In implementation, however, these approaches often simplified the environment or dimensions of agent\n",
    "behavior to make the effort more manageable [16, 72]. Rule-based\n",
    "approaches, such as finite-state machines [90, 96] and behavior\n",
    "trees [40, 53, 81], account for the brute force approach of humanauthoring the agent’s behavior [70]. They provide a straightforward\n",
    "way of creating simple agents that is still the most dominant approach today [68, 73, 109], and can even handle rudimentary social\n",
    "interactions, as shown in simulation games such as Mass Effect [12]\n",
    "and The Sims [6] series. Nonetheless, manually crafting behavior\n",
    "that can comprehensively address the breadth of possible interactions in an open world is untenable. This means that the resulting\n",
    "agent behaviors may not fully represent the consequences of their\n",
    "interactions [69–71], and cannot perform new procedures that were\n",
    "not hard-coded in their script [90, 96]. On the other hand, prevalent learning-based approaches for creating believable agents, such\n",
    "as reinforcement learning, have overcome the challenge of manual authoring by letting the agents learn their behavior, and have\n",
    "achieved superhuman performance in recent years in games such\n",
    "as AlphaStar for Starcraft [98] and OpenAI Five for Dota 2 [10].\n",
    "However, their success has largely taken place in adversarial games\n",
    "with readily definable rewards that a learning algorithm can optimize for. They have not yet addressed the challenge of creating\n",
    "believable agents in an open world [39, 73, 90].\n",
    "\n",
    "Cognitive architectures in computation, pioneered by Newell,\n",
    "aimed to build the infrastructure for supporting a comprehensive\n",
    "set of cognitive functions [75] that suited the all-encompassing\n",
    "nature of believable agents held in its original vision. They fueled\n",
    "some of the earliest examples of believable agents. For instance,\n",
    "Quakebot-SOAR [59] and ICARUS [24, 63] generated NPCs in firstperson shooter games, while TacAir-SOAR [80] generated pilots in\n",
    "aerial combat training simulations. The architectures used by these\n",
    "agents differed (Quakebot- and TacAir-SOAR relied on SOAR [60],\n",
    "while ICARUS relied on its own variation that was inspired by\n",
    "SOAR and ACT-R [5]), but they shared the same underlying principle [61]. They maintained short-term and long-term memories,\n",
    "filled these memories with symbolic structures, and operated in\n",
    "perceive-plan-act cycles, dynamically perceiving the environment\n",
    "and matching it with one of the manually crafted action procedures [57, 96]. Agents created using cognitive architectures aimed\n",
    "to be generalizable to most, if not all, open-world contexts and\n",
    "exhibited robust behavior for their time. However, their space of\n",
    "action was limited to manually crafted procedural knowledge, and\n",
    "they did not offer a mechanism through which the agents could be\n",
    "inspired to seek new behavior. As such, these agents were deployed\n",
    "mostly in non-open-world contexts such as first-person shooter\n",
    "games [24, 59] or blocks worlds [63].\n",
    "\n",
    "Today, creating believable agents as described in its original\n",
    "definition remains an open problem [84, 108]. Many have moved on,\n",
    "arguing that although existing approaches for creating believable\n",
    "agents might be cumbersome and limited, they are good enough\n",
    "to support existing gameplay and interactions [23, 74, 108]. Our\n",
    "argument is that large language models offer an opportunity to\n",
    "re-examine these questions, provided that we can craft an effective\n",
    "architecture to synthesize memories into believable behavior. We\n",
    "offer a step toward such an architecture in this paper.\n",
    "\n",
    "2.3 Large Language Models and Human\n",
    "Behavior\n",
    "\n",
    "Generative agents leverage a large language model to power their\n",
    "behavior. The key observation is that large language models encode a wide range of human behavior represented in their training\n",
    "data [14, 17]. If prompted with a narrowly defined context, the\n",
    "models can be used to generate believable behavior. Recent work\n",
    "has demonstrated the efficacy of this approach. For instance, Social\n",
    "Simulacra used a large language model to generate users that would\n",
    "populate new social computing systems to prototype their emergent\n",
    "social dynamics [79]. This approach used a prompt chain [105, 106]\n",
    "to generate short natural language descriptions of personas and\n",
    "their behaviors as they appear in the system being prototyped.\n",
    "Other empirical studies have replicated existing social science studies [45], political surveys [91], and generated synthetic data [38].\n",
    "Large language models have also been used to generate interactive\n",
    "human behavior for users to engage with. In gaming, for instance,\n",
    "these models have been employed to create interactive fiction [36]\n",
    "and text adventure games [20]. With their ability to generate and\n",
    "decompose action sequences, large language models have also been\n",
    "used in planning robotics tasks [47]. For example, when presented\n",
    "with a task, such as picking up a bottle, the model is prompted to\n",
    "break down the task into smaller action sequences, such as heading\n",
    "to the table where the bottle is located and picking it up.\n",
    "\n",
    "We posit that, based on the work summarized above, large language models can become a key ingredient for creating believable\n",
    "agents. The existing literature largely relies on what could be considered first-order templates that employ few-shot prompts [37, 65]\n",
    "or chain-of-thought prompts [99]. These templates are effective in\n",
    "generating behavior that is conditioned solely on the agent’s current environment (e.g., how would a troll respond to a given post,\n",
    "what actions would a robot need to take to enter a room given that\n",
    "there is a door). However, believable agents require conditioning\n",
    "not only on their current environment but also on a vast amount\n",
    "of past experience, which is a poor fit (and as of today, impossible due to the underlying models’ limited context window) using\n",
    "first-order prompting. Recent studies have attempted to go beyond\n",
    "first-order prompting by augmenting language models with a static\n",
    "knowledge base and an information retrieval scheme [52] or with\n",
    "a simple summarization scheme [104]. This paper extends these\n",
    "ideas to craft an agent architecture that handles retrieval where\n",
    "past experience is dynamically updated at each time step and mixed\n",
    "with agents’ current context and plans, which may either reinforce\n",
    "or contradict each other.\n",
    "\n",
    "3 GENERATIVE AGENT BEHAVIOR AND\n",
    "INTERACTION\n",
    "\n",
    "To make concrete the affordances of generative agents, we instantiate them as characters in a simple sandbox world reminiscent of\n",
    "The Sims [6]. This sprite-based sandbox game world, Smallville,\n",
    "evokes a small town environment. In this section, we walk through\n",
    "the affordances and interactions with generative agents in Smallville, and describe how the agents behave in it. Then, in Section 4,\n",
    "we introduce our generative agent architecture that powers these\n",
    "affordances and interactions. In Section 5, we describe the sandbox\n",
    "environment implementation and how the agents interact with the\n",
    "sandbox world’s underlying engine.\n",
    "\n",
    "3.1 Agent Avatar and Communication\n",
    "\n",
    "A community of 25 unique agents inhabit Smallville. Each agent is\n",
    "represented by a simple sprite avatar. We authored one paragraph\n",
    "of natural language description to depict each agent’s identity,\n",
    "including their occupation and relationship with other agents, as\n",
    "seed memories. For example, John Lin has the following description:\n",
    "\n",
    "John Lin is a pharmacy shopkeeper at the Willow\n",
    "Market and Pharmacy who loves to help people. He\n",
    "is always looking for ways to make the process\n",
    "of getting medication easier for his customers;\n",
    "John Lin is living with his wife, Mei Lin, who\n",
    "is a college professor, and son, Eddy Lin, who is\n",
    "a student studying music theory; John Lin loves\n",
    "his family very much; John Lin has known the old\n",
    "couple next-door, Sam Moore and Jennifer Moore,\n",
    "for a few years; John Lin thinks Sam Moore is a\n",
    "kind and nice man; John Lin knows his neighbor,\n",
    "Yuriko Yamamoto, well; John Lin knows of his\n",
    "neighbors, Tamara Taylor and Carmen Ortiz, but\n",
    "has not met them before; John Lin and Tom Moreno\n",
    "are colleagues at The Willows Market and Pharmacy;\n",
    "John Lin and Tom Moreno are friends and like to\n",
    "discuss local politics together; John Lin knows\n",
    "the Moreno family somewhat well — the husband Tom\n",
    "Moreno and the wife Jane Moreno.\n",
    "\n",
    "Each semicolon-delimited phrase is entered into the agent’s initial\n",
    "memory as memories at the start of the simulation.\n",
    "\n",
    "3.1.1 Inter-Agent Communication.\n",
    "\n",
    "The agents interact with the\n",
    "world by their actions, and with each other through natural language. At each time step of the sandbox engine, the agents output a\n",
    "natural language statement describing their current action, such as\n",
    "\"Isabella Rodriguez is writing in her journal\", \"Isabella Rodriguez is\n",
    "checking her emails\", \"Isabella Rodriguez is talking with her family\n",
    "on the phone\", or \"Isabella Rodriguez is getting ready for bed\". This\n",
    "statement is then translated into concrete movements that affect the\n",
    "sandbox world. The action is displayed on the sandbox interface as\n",
    "a set of emojis that provide an abstract representation of the action\n",
    "in the overhead view. To accomplish this, the system employs a\n",
    "language model that translates the action into a set of emojis, which\n",
    "appear above each avatar in a speech bubble. For example, \"Isabella\n",
    "Rodriguez is writing in her journal\" is displayed as , while\n",
    "\"Isabella Rodriguez is checking her emails\" appears as . The\n",
    "full natural language description of the action can be accessed by\n",
    "clicking on the agent avatar.\n",
    "\n",
    "Agents communicate with each other in full natural language.\n",
    "Agents are aware of other agents in their local area, and the generative agent architecture determines whether they walk by or engage\n",
    "in conversation. Here, a sample in the middle of a conversation\n",
    "between the agents Isabella Rodriguez and Tom Moreno about the\n",
    "upcoming election:2\n",
    "\n",
    "Isabella: I’m still weighing my options, but I’ve been\n",
    "discussing the election with Sam Moore. What are your\n",
    "thoughts on him?\n",
    "Tom: To be honest, I don’t like Sam Moore. I think he’s\n",
    "out of touch with the community and doesn’t have our\n",
    "best interests at heart.\n",
    "\n",
    "3.1.2 User Controls.\n",
    "\n",
    "A user running this simulation can steer the\n",
    "simulation and intervene, either by communicating with the agent\n",
    "through conversation, or by issuing a directive to an agent in the\n",
    "form of an ‘inner voice’.\n",
    "\n",
    "The user communicates with the agent through natural language,\n",
    "by specifying a persona that the agent should perceive them as. For\n",
    "example, if the user specifies that they are a news “reporter” and\n",
    "asks about the upcoming election, “Who is running for office?”, the\n",
    "John agent replies:\n",
    "\n",
    "John: My friends Yuriko, Tom and I have been talking\n",
    "about the upcoming election and discussing the candidate Sam Moore. We have all agreed to vote for him\n",
    "because we like his platform.\n",
    "\n",
    "To directly command one of the agents, the user takes on the persona of the agent’s “inner voice”—this makes the agent more likely\n",
    "to treat the statement as a directive. For instance, when told “You\n",
    "are going to run against Sam in the upcoming election” by a user\n",
    "as John’s inner voice, John decides to run in the election and shares\n",
    "his candidacy with his wife and son.\n",
    "\n",
    "3.2 Environmental Interaction\n",
    "\n",
    "Smallville features the common affordances of a small village including a cafe, bar, park, school, dorm, houses, and stores. It also\n",
    "defines subareas and objects that make those spaces functional,\n",
    "such as a kitchen in a house and a stove in the kitchen (Figure 2).\n",
    "All spaces serving as agents’ primary living quarters feature a bed,\n",
    "desk, closet, shelf, as well as a bathroom and a kitchen.3\n",
    "\n",
    "Agents move around Smallville as one would in a simple video\n",
    "game, entering and leaving buildings, navigating its map, and approaching other agents. Agent movements are directed by the generative agent architecture and the sandbox game engine: when the\n",
    "model dictates that the agent will move to a location, we calculate\n",
    "a walking path to the destination in the Smallville environment\n",
    "and the agent begins moving. In addition, users can also enter the\n",
    "sandbox world of Smallville as an agent operating within it. The\n",
    "agent that the user embodies can be an agent already present in\n",
    "the world, such as Isabella and John, or it can be an outside visitor\n",
    "with no prior history in Smallville. The inhabitants of Smallville\n",
    "will treat the user-controlled agent no differently than they treat\n",
    "each other. They recognize its presence, initiate interactions, and\n",
    "remember its behavior before forming opinions about it.\n",
    "\n",
    "Users and agents can influence the state of the objects in this\n",
    "world, much like in sandbox games such as The Sims. For example,\n",
    "a bed can be occupied when an agent is sleeping, and a refrigerator\n",
    "can be empty when an agent uses up the ingredients to make\n",
    "breakfast. End users can also reshape an agent’s environment in\n",
    "Smallville by rewriting the status of objects surrounding the agent\n",
    "in natural language. For instance, when Isabella is making breakfast\n",
    "in the morning, the user can change the status of the kitchen stove\n",
    "from “turned on” to “burning” by inputting a command to the\n",
    "system that chooses the object and illustrates its new status, like\n",
    "this: “<Isabella’s apartment: kitchen: stove> is burning.” Isabella\n",
    "will notice this in the next moment and go to turn off the stove\n",
    "and remake her breakfast. Likewise, if the user sets the status of\n",
    "Isabella’s shower to “leaking water” when she enters the bathroom,\n",
    "she gathers tools from her living room and try to fix the leak.\n",
    "\n",
    "3.3 Example “Day in the Life”\n",
    "\n",
    "Starting from the single-paragraph description, agents begin plan\n",
    "their days. As time passes in the sandbox world, their behaviors\n",
    "evolve as these agents interact with each other and the world, build\n",
    "memories and relationships, and coordinate joint activities.\n",
    "\n",
    "We demonstrate the behavior of generative agents by tracing the\n",
    "output of our system over the course of one day for the agent John\n",
    "Lin (Figure 3). In the Lin family, John is the first to wake up at 7 a.m.\n",
    "He brushes his teeth, takes a shower, gets dressed, eats breakfast,\n",
    "and checks the news at the dining table in the living room. At 8\n",
    "a.m., Eddy follows suit, rushing out of bed to prepare for his classes.\n",
    "He catches up with John just as he is about to head out:\n",
    "\n",
    "John: Good morning Eddy. Did you sleep well?\n",
    "Eddy: Good morning dad. Yeah, I slept great.\n",
    "John: That’s good. What are you working on today?\n",
    "Eddy: I’m working on a new music composition for my\n",
    "class. It’s due this week, so I’m trying to get it finished.\n",
    "But I’m having so much fun with it!\n",
    "John: That sounds great!\n",
    "\n",
    "Soon after Eddy heads out, Mei wakes up and joins John. Mei asks\n",
    "about her son, and John recalls the conversation that they just had:\n",
    "\n",
    "Mei: Did Eddy already leave for school?\n",
    "John: Yes, he just left. He’s working on a music composition for his class.\n",
    "Mei: Oh, that’s wonderful! Tell me about it.\n",
    "John: I think he’s really enjoying it! He said he’s having\n",
    "a lot of fun with it.\n",
    "Mei: That’s great! I’m so proud of him.\n",
    "\n",
    "As they finish their conversation, Mei and John pack up. Mei goes\n",
    "on to teach and work on her research paper, while John opens his\n",
    "pharmacy counter at the Willow Market and Pharmacy by 9 a.m.\n",
    "\n",
    "3.4 Emergent Social Behaviors\n",
    "\n",
    "By interacting with each other, generative agents in Smallville\n",
    "exchange information, form new relationships, and coordinate joint\n",
    "activities. Extending prior work [79], these social behaviors are\n",
    "emergent rather than pre-programmed.\n",
    "\n",
    "3.4.1 Information Diffusion.\n",
    "\n",
    "As agents notice each other, they may\n",
    "engage in dialogue—as they do so, information can spread from\n",
    "agent to agent. For instance, in a conversation between Sam and\n",
    "Tom at the grocery store, Sam tells Tom about his candidacy in the\n",
    "local election:\n",
    "\n",
    "Sam: Hey Tom, how’s it going?\n",
    "Tom: Good, thanks. What’s up?\n",
    "Sam: Well, I wanted to talk to you about something. I’m\n",
    "actually running for mayor in the upcoming local election.\n",
    "Tom: Really? That’s great news! Why are you running?\n",
    "Sam: I’ve been involved in local politics for years now,\n",
    "and I really feel like I can make a difference in our community. Plus, I want to bring new ideas and perspectives to the table.\n",
    "\n",
    "Later that day, after Sam left, Tom and John, who heard the news\n",
    "from another source, discuss Sam’s chances of winning the election:\n",
    "\n",
    "John: I heard that Sam Moore is running for mayor in\n",
    "the local election. Do you think he has a good chance\n",
    "of winning?\n",
    "Tom: I do think he has a good chance. He’s been working hard in the community and I think he will get a lot of\n",
    "support. What do you think?\n",
    "John: I think it’s great that he’s running. I’m curious to\n",
    "see who else is running and how the election will turn\n",
    "out.\n",
    "\n",
    "Gradually, Sam’s candidacy becomes the talk of the town, with\n",
    "some supporting him and others remaining undecided.\n",
    "\n",
    "3.4.2 Relationship memory.\n",
    "\n",
    "Agents in Smallville form new relationships over time, and remember their interactions with other\n",
    "agents. For example, Sam does not know Latoya Williams at the\n",
    "start. While taking a walk in Johnson Park, Sam runs into Latoya,\n",
    "and they introduce themselves and Latoya mentions that she is\n",
    "working on a photography project: “I’m here to take some photos\n",
    "for a project I’m working on.” In a later interaction, Sam’s interactions with Latoya indicate a memory of that interaction, as he asks\n",
    "“Hi, Latoya. How is your project going?” and she replies “Hi, Sam. It’s\n",
    "going well!”\n",
    "\n",
    "3.4.3 Coordination.\n",
    "\n",
    "Generative agents coordinate with each other.\n",
    "Isabella Rodriguez, at Hobbs Cafe, is initialized with an intent to\n",
    "plan a Valentine’s Day party from 5 to 7 p.m. on February 14th. From\n",
    "this seed, the agent proceeds to invites friends and customers when\n",
    "she sees them at Hobbs Cafe or elsewhere. Isabella then spends the\n",
    "afternoon of the 13th decorating the cafe for the occasion. Maria, a\n",
    "frequent customer and close friend of Isabella’s, arrives at the cafe.\n",
    "Isabella asks for Maria’s help in decorating for the party, and Maria\n",
    "agrees. Maria’s character description mentions that she has a crush\n",
    "on Klaus. That night, Maria invites Klaus, her secret crush, to join\n",
    "her at the party, and he gladly accepts.\n",
    "\n",
    "On Valentine’s Day, five agents—including Klaus and Maria—\n",
    "show up at Hobbs Cafe at 5pm and they enjoy the festivities (Figure 4). In this scenario, the end user only set Isabella’s initial intent\n",
    "to throw a party and Maria’s crush on Klaus: the social behaviors\n",
    "of spreading the word, decorating, asking each other out, arriving\n",
    "at the party, and interacting with each other at the party, were\n",
    "initiated by the agent architecture.\n",
    "\n",
    "4 GENERATIVE AGENT ARCHITECTURE\n",
    "\n",
    "Generative agents aim to provide a framework for behavior in an\n",
    "open world: one that can engage in interactions with other agents\n",
    "and can react to changes in the environment. Generative agents\n",
    "take their current environment and past experience as input and\n",
    "generate behavior as output. Underlying this behavior is a novel\n",
    "agent architecture that combines a large language model with mechanisms for synthesizing and retrieving relevant information to condition the language model’s output on. Without these mechanisms,\n",
    "large language models can output behavior, but the resulting agents\n",
    "may not react based on the agent’s past experiences, may not make\n",
    "important inferences, and may not maintain long-term coherence.\n",
    "Challenges with long-term planning and coherence remain [18]\n",
    "even with today’s most performant models such as GPT-4. Because\n",
    "generative agents produce large streams of events and memories\n",
    "that must be retained, a core challenge of our architecture is to\n",
    "ensure that the most relevant pieces of the agent’s memory are\n",
    "retrieved and synthesized when needed.\n",
    "\n",
    "At the center of our architecture is the memory stream, a database that maintains a comprehensive record of an agent’s experience. From the memory stream, records are retrieved as relevant\n",
    "to plan the agent’s actions and react appropriately to the environment, and records are recursively synthesized into higher- and\n",
    "higher-level observations that guide behavior. Everything in the\n",
    "architecture is recorded and reasoned over as natural language\n",
    "description, allowing the architecture to leverage a large language\n",
    "model.\n",
    "\n",
    "Our current implementation utilizes gpt3.5-turbo version of ChatGPT [76]. We expect that the architectural basics of generative\n",
    "agents—memory, planning, and reflection—will likely remain the\n",
    "same as language models improve. Newer language models (e.g.,\n",
    "GPT-4) will continue to expand the expressivity and performance\n",
    "of the prompts that underpin generative agents. As of writing, however, GPT-4’s API is still invitation-only, so our agents use ChatGPT.\n",
    "\n",
    "4.1 Memory and Retrieval\n",
    "\n",
    "Challenge: Creating generative agents that can simulate human\n",
    "behavior requires reasoning about a set of experiences that is far\n",
    "larger than what should be described in a prompt, as the full memory stream can distract the model and does not even currently fit\n",
    "into the limited context window. Consider a the Isabella agent answering the question “What are you passionate about these days?”.\n",
    "First summarizing all of Isabella’s experiences to fit in the limited\n",
    "context window of the language model produces an uninformative\n",
    "response, where Isabella discusses topics such as collaborations for\n",
    "events and projects and cleanliness and organization in a cafe. Instead of summarizing, the memory stream described below surfaces\n",
    "relevant memories, resulting in a more informative and specific\n",
    "response that mentions Isabella’s passion for making people feel\n",
    "welcome and included, planning events and creating an atmosphere\n",
    "that people can enjoy, such as the Valentine’s Day party.\n",
    "\n",
    "Approach: The memory stream maintains a comprehensive record\n",
    "of the agent’s experience. It is a list of memory objects, where each\n",
    "object contains a natural language description, a creation timestamp and a most recent access timestamp. The most basic element\n",
    "of the memory stream is an observation, which is an event directly\n",
    "perceived by an agent. Common observations include behaviors\n",
    "performed by the agent themselves, or behaviors that agents perceive being performed by other agents or non-agent objects. For\n",
    "instance, Isabella Rodriguez, who works at a coffee shop, might accrue the following observations over time: (1) Isabella Rodriguez is\n",
    "setting out the pastries, (2) Maria Lopez is studying for a Chemistry\n",
    "test while drinking coffee, (3) Isabella Rodriguez and Maria Lopez\n",
    "are conversing about planning a Valentine’s day party at Hobbs Cafe,\n",
    "(4) The refrigerator is empty.\n",
    "\n",
    "Our architecture implements a retrieval function that takes the\n",
    "agent’s current situation as input and returns a subset of the memory stream to pass on to the language model. There are many possible implementations of a retrieval function, depending on what\n",
    "it is important that the agent consider when deciding how to act.\n",
    "In our context, we focus on three main components that together\n",
    "produce effective results.\n",
    "\n",
    "\"Recency\" assigns a higher score to memory objects that were recently accessed, so that events from a moment ago or this morning\n",
    "are likely to remain in the agent’s attentional sphere. In our implementation, we treat recency as an exponential decay function\n",
    "over the number of sandbox game hours since the memory was\n",
    "last retrieved. Our decay factor is 0.99.\n",
    "\n",
    "\"Importance\" distinguishes mundane from core memories, by assigning a higher score to those memory objects that the agent\n",
    "believes to be important. For instance, a mundane event such as\n",
    "eating breakfast in one’s room would yield a low importance score,\n",
    "whereas a breakup with one’s significant other would yield a high\n",
    "score. There are again many possible implementations of an importance score; we find that directly asking the language model to\n",
    "output an integer score is effective. The full prompt appears below:\n",
    "\n",
    "On the scale of 1 to 10, where 1 is purely mundane\n",
    "(e.g., brushing teeth, making bed) and 10 is\n",
    "extremely poignant (e.g., a break up, college\n",
    "acceptance), rate the likely poignancy of the\n",
    "following piece of memory.\n",
    "Memory: buying groceries at The Willows Market\n",
    "and Pharmacy\n",
    "Rating: <fill in>\n",
    "    \n",
    "This prompt returns an integer value of 2 for “cleaning up the room”\n",
    "and 8 for “asking your crush out on a date.” The importance score\n",
    "is generated at the time the memory object is created.\n",
    "    \n",
    "\"Relevance\" assigns a higher score to memory objects that are\n",
    "related to the current situation. What is relevant depends on the\n",
    "answer to, “Relevant to what?”, so we condition relevance on a\n",
    "query memory. If the query, for example, is that a student is discussing what to study for a chemistry test with a classmate, memory\n",
    "objects about their breakfast should have low relevance, whereas\n",
    "memory objects about the teacher and schoolwork should have\n",
    "high relevance. In our implementation, we use the language model\n",
    "to generate an embedding vector of the text description of each\n",
    "memory. Then, we calculate relevance as the cosine similarity between the memory’s embedding vector and the query memory’s\n",
    "embedding vector.\n",
    "    \n",
    "To calculate the final retrieval score, we normalize the recency,\n",
    "relevance, and importance scores to the range of [0, 1] by min-max\n",
    "scaling. The retrieval function scores all memories as a weighted\n",
    "combination of the three elements: 𝑠𝑐𝑜𝑟𝑒 = 𝛼𝑟𝑒𝑐𝑒𝑛𝑐𝑦 · 𝑟𝑒𝑐𝑒𝑛𝑐𝑦 +\n",
    "𝛼𝑖𝑚𝑝𝑜𝑟𝑡𝑎𝑛𝑐𝑒 ·𝑖𝑚𝑝𝑜𝑟𝑡𝑎𝑛𝑐𝑒 +𝛼𝑟𝑒𝑙𝑒𝑣𝑎𝑛𝑐𝑒 ·𝑟𝑒𝑙𝑒𝑣𝑎𝑛𝑐𝑒. In our implementation, all 𝛼’s are set to 1. The top-ranked memories that fit in the\n",
    "language model’s context window are then included in the prompt.\n",
    "    \n",
    "4.2 Reflection\n",
    "\n",
    "Challenge: Generative agents, when equipped with only raw observational memory, struggle to generalize or make inferences.\n",
    "Consider a scenario in which Klaus Mueller is asked by the user:\n",
    "“If you had to choose one person of those you know to spend an\n",
    "hour with, who would it be?\" With access to only observational\n",
    "memory, the agent simply chooses the person with whom Klaus\n",
    "has had the most frequent interactions: Wolfgang, his college dorm\n",
    "neighbor. Unfortunately, Wolfgang and Klaus only ever see each\n",
    "other in passing, and do not have deep interactions. A more desirable response requires that the agent generalize from memories of\n",
    "Klaus spending hours on a research project to generate a higherlevel reflection that Klaus is passionate about research, and likewise\n",
    "recognize Maria putting in effort into her own research (albeit in\n",
    "a different field), enabling a reflection that they share a common\n",
    "interest. With the approach below, when Klaus is asked who to\n",
    "spend time with, Klaus chooses Maria instead of Wolfgang.\n",
    "\n",
    "Approach: We introduce a second type of memory, which we call\n",
    "a reflection. Reflections are higher-level, more abstract thoughts\n",
    "generated by the agent. Because they are a type of memory, they\n",
    "are included alongside other observations when retrieval occurs.\n",
    "Reflections are generated periodically; in our implementation, we\n",
    "generate reflections when the sum of the importance scores for the\n",
    "latest events perceived by the agents exceeds a certain threshold.\n",
    "In practice, our agents reflected roughly two or three times a day.\n",
    "\n",
    "The first step in reflection is for the agent to determine what\n",
    "to reflect on, by identifying questions that can be asked given the\n",
    "agent’s recent experiences. We query the large language model with\n",
    "the 100 most recent records in the agent’s memory stream (e.g.,\n",
    "“Klaus Mueller is reading a book on gentrification”, “Klaus Mueller\n",
    "is conversing with a librarian about his research project”, “desk\n",
    "at the library is currently unoccupied”) and prompt the language\n",
    "model, “Given only the information above, what are 3 most salient\n",
    "high-level questions we can answer about the subjects in the statements?” The model’s response generates candidate questions: for\n",
    "example, What topic is Klaus Mueller passionate about? and What\n",
    "is the relationship between Klaus Mueller and Maria Lopez?. We use\n",
    "these generated questions as queries for retrieval, and gather relevant memories (including other reflections) for each question. Then\n",
    "we prompt the language model to extract insights and cite the particular records that served as evidence for the insights. The full\n",
    "prompt appears below:\n",
    "\n",
    "Statements about Klaus Mueller\n",
    "1. Klaus Mueller is writing a research paper\n",
    "2. Klaus Mueller enjoys reading a book\n",
    "on gentrification\n",
    "3. Klaus Mueller is conversing with Ayesha Khan\n",
    "about exercising [...]\n",
    "What 5 high-level insights can you infer from\n",
    "the above statements? (example format: insight\n",
    "(because of 1, 5, 3))\n",
    "\n",
    "This process generates statements such as Klaus Mueller is dedicated\n",
    "to his research on gentrification (because of 1, 2, 8, 15). We parse and\n",
    "store the statement as a reflection in the memory stream, including\n",
    "pointers to the memory objects that were cited.\n",
    "\n",
    "Reflection explicitly allows the agents to reflect not only on\n",
    "their observations but also on other reflections: for example, the\n",
    "second statement about Klaus Mueller above is a reflection that\n",
    "Klaus previously had, not an observation from his environment.\n",
    "As a result, agents generate trees of reflections: the leaf nodes of\n",
    "the tree represent the base observations, and the non-leaf nodes\n",
    "represent thoughts that become more abstract and higher-level\n",
    "higher up the tree they are.\n",
    "    \n",
    "4.3 Planning and Reacting\n",
    "\n",
    "Challenge: While a large language model can generate plausible behavior in response to situational information (e.g., [45, 79]), agents\n",
    "need to plan over a longer time horizon to ensure that their sequence\n",
    "of actions is coherent and believable. If we prompt a language model\n",
    "with Klaus’s background, describe the time, and ask what action\n",
    "he ought to take at the given moment, Klaus would eat lunch at 12\n",
    "pm, but then again at 12:30 pm and 1 pm, despite having already\n",
    "eaten his lunch twice. Optimizing for believability in the moment\n",
    "sacrifices believability over time. To overcome this issue, planning\n",
    "is essential. With the approach described below, Klaus’s afternoon\n",
    "plan is less gluttonous: he has lunch at Hobbs Cafe while reading\n",
    "at 12pm, works on his research paper at the school library at 1pm,\n",
    "and takes a break for a walk in the park at 3pm.\n",
    "\n",
    "Approach: Plans describe a future sequence of actions for the agent,\n",
    "and help keep the agent’s behavior consistent over time. A plan\n",
    "includes a location, a starting time, and a duration. For instance,\n",
    "Klaus Mueller, who is dedicated in his research and has an impending deadline4\n",
    ", may choose to spend his day working at his desk\n",
    "drafting his research paper. An entry in a plan might state, for\n",
    "example: for 180 minutes from 9am, February 12th, 2023, at Oak Hill\n",
    "College Dorm: Klaus Mueller’s room: desk, read and take notes for\n",
    "research paper. Like reflections, plans are stored in the memory\n",
    "stream and are included in the retrieval process. This allows the\n",
    "agent to consider observations, reflections, and plans all together\n",
    "when deciding how to behave. Agents may change their plans\n",
    "midstream if needed.\n",
    "\n",
    "It would be unrealistic and uninteresting for an artist agent\n",
    "to plan on painting while sitting at a pharmacy counter for four\n",
    "hours without moving. A more desirable plan would involve the\n",
    "agent taking the necessary time to gather materials, mix paint,\n",
    "take breaks, and clean up during the four-hour period in its home\n",
    "studio. To create such plans, our approach starts top-down and\n",
    "then recursively generates more detail. The first step is to create\n",
    "a plan that outlines the day’s agenda in broad strokes. To create\n",
    "the initial plan, we prompt the language model with the agent’s\n",
    "summary description (e.g., name, traits, and summary of their recent\n",
    "experiences) and a summary of their previous day. A full example\n",
    "prompt is below, which is unfinished at the bottom for the language\n",
    "model to complete:\n",
    "\n",
    "Name: Eddy Lin (age: 19)\n",
    "Innate traits: friendly, outgoing, hospitable\n",
    "Eddy Lin is a student at Oak Hill College studying\n",
    "music theory and composition. He loves to explore\n",
    "different musical styles and is always looking\n",
    "for ways to expand his knowledge. Eddy Lin is\n",
    "working on a composition project for his college\n",
    "class. He is also taking classes to learn more\n",
    "about music\n",
    "theory. Eddy Lin is excited about the new composition\n",
    "he is working on but he wants to dedicate more\n",
    "hours in the day to work on it in the coming days\n",
    "On Tuesday February 12, Eddy 1) woke up and\n",
    "completed the morning routine at 7:00 am, [. . . ]\n",
    "6) got ready to sleep around 10 pm.\n",
    "Today is Wednesday February 13. Here is Eddy’s\n",
    "plan today in broad strokes: 1)\n",
    "\n",
    "This generates a rough sketch of the agent’s plan for a day, divided\n",
    "into five to eight chunks: “1) wake up and complete the morning\n",
    "routine at 8:00 am, 2) go to Oak Hill College to take classes starting\n",
    "10:00 am, [. . . ] 5) work on his new music composition from 1:00 pm\n",
    "to 5:00 pm, 6) have dinner at 5:30 pm, 7) finish school assignments\n",
    "and go to bed by 11:00 pm.”\n",
    "\n",
    "The agent saves this plan in the memory stream and then recursively decomposes it to create finer-grained actions, first into\n",
    "hour-long chunks of actions—Eddy’s plan to work on his new music composition from 1:00 pm to 5:00 pm becomes 1:00 pm: start\n",
    "by brainstorming some ideas for his music composition [...] 4:00 pm:\n",
    "take a quick break and recharge his creative energy before reviewing\n",
    "and polishing his composition. We then recursively decompose this\n",
    "again into 5–15 minute chunks: e.g., 4:00 pm: grab a light snack,\n",
    "such as a piece of fruit, a granola bar, or some nuts. 4:05 pm: take a\n",
    "short walk around his workspace [...] 4:50 pm: take a few minutes to\n",
    "clean up his workspace. This process can be adjusted to match the\n",
    "desired granularity.\n",
    "\n",
    "4.3.1 Reacting and Updating Plans.\n",
    "    \n",
    "Generative agents operate in\n",
    "an action loop where, at each time step, they perceive the world\n",
    "around them and those perceived observations are stored in their\n",
    "memory stream. We prompt the language model with these observations to decide whether the agent should continue with their\n",
    "existing plan, or react. Standing at an easel and painting, for example, might trigger an observation of the easel, but this is unlikely to\n",
    "prompt a reaction. However, if Eddy’s father John records that he\n",
    "sees Eddy taking a short walk in the house garden, the outcome is\n",
    "different. The prompt is below, with [Agent’s Summary Description] standing in for a dynamically-generated, paragraph-long\n",
    "summary of the agent’s overall goals and disposition, which is\n",
    "described in Appendix A:\n",
    "\n",
    "[Agent’s Summary Description]\n",
    "It is February 13, 2023, 4:56 pm.\n",
    "John Lin’s status: John is back home early from\n",
    "work.\n",
    "Observation: John saw Eddy taking a short walk\n",
    "around his workplace.\n",
    "Summary of relevant context from John’s memory:\n",
    "Eddy Lin is John’s Lin’s son. Eddy Lin has been\n",
    "working on a music composition for his class. Eddy\n",
    "Lin likes to walk around the garden when he is\n",
    "thinking about or listening to music.\n",
    "Should John react to the observation, and if so,\n",
    "what would be an appropriate reaction?\n",
    "\n",
    "The context summary is generated through two prompts that retrieve memories via the queries “What is [observer]’s relationship\n",
    "with the [observed entity]?” and “[Observed entity] is [action status\n",
    "of the observed entity]”, and their answers summarized together.\n",
    "The output suggests that John could consider asking Eddy about his\n",
    "music composition project. We then regenerate the agent’s existing\n",
    "plan starting from the time when the reaction takes place. Finally\n",
    "if the action indicates an interaction between agents, we generate\n",
    "their dialogue.\n",
    "\n",
    "4.3.2 Dialogue.\n",
    "    \n",
    "Agents converse as they interact with each other.\n",
    "We generate agents’ dialogue by conditioning their utterances on\n",
    "their memories about each other. For example, when John initiates\n",
    "his conversation with Eddy, we generate John’s first utterance\n",
    "by using his summarized memory about Eddy and the intended\n",
    "reaction when he decided to ask Eddy about his composition project:\n",
    "    \n",
    "[Agent’s Summary Description]\n",
    "It is February 13, 2023, 4:56 pm.\n",
    "John Lin’s status: John is back home early from\n",
    "work.\n",
    "Observation: John saw Eddy taking a short walk\n",
    "around his workplace.\n",
    "Summary of relevant context from John’s memory:\n",
    "Eddy Lin is John’s Lin’s son. Eddy Lin has been\n",
    "working on a music composition for his class. Eddy\n",
    "Lin likes to walk around the garden when he is\n",
    "thinking about or listening to music.\n",
    "John is asking Eddy about his music composition\n",
    "project. What would he say to Eddy?\n",
    "    \n",
    "The result: “Hey Eddy, how’s the music composition project for your\n",
    "class coming along?” From Eddy’s perspective, John initiating the\n",
    "dialogue is seen as an event to which he may want to react. So, just\n",
    "as John did, Eddy retrieves and summarizes his memory about his\n",
    "relationship with John, as well as his memory that may be related\n",
    "to John’s last utterance in the dialogue. If he decides to respond,\n",
    "we generate Eddy’s utterance using his summarized memory and\n",
    "the current dialogue history:\n",
    "    \n",
    "[Agent’s Summary Description]\n",
    "It is February 13, 2023, 4:56 pm.\n",
    "Eddy Lin’s status: Eddy is taking a short walk\n",
    "around his workplace.\n",
    "Observation: John is initiating a conversation\n",
    "with Eddy.\n",
    "Summary of relevant context from Eddy’s memory:\n",
    "Jonn Lin is Eddy Lin’s father. John Lin is caring\n",
    "and is interested to learn more about Eddy Lin’s\n",
    "school work. John Lin knows that Eddy Lin is\n",
    "working on a music composition.\n",
    "Here is the dialogue history:\n",
    "John: Hey Eddy, how’s the music composition project\n",
    "for your class coming along?\n",
    "How would Eddy respond to John?\n",
    "    \n",
    "This generates Eddy’s response: “Hey Dad, it’s going well. I’ve been\n",
    "taking walks around the garden to clear my head and get some inspiration.” The continuation of this dialogue is generated using the\n",
    "same mechanism until one of the two agents decides to end the\n",
    "dialogue.\n",
    "    \n",
    "5 SANDBOX ENVIRONMENT\n",
    "IMPLEMENTATION\n",
    "    \n",
    "The Smallville sandbox game environment is built using the Phaser\n",
    "web game development framework [56]. The visual environment\n",
    "sprites, including agent avatars, as well as an environment map\n",
    "and collision map that we authored, are imported into Phaser.\n",
    "\n",
    "We supplement the sandbox development framework with a\n",
    "server that makes the sandbox information available to generative\n",
    "agents and enables generative agents to move and influence the\n",
    "sandbox environment. The server maintains a JSON data structure\n",
    "that contains information about each agent in the sandbox world,\n",
    "including their current location, a description of their current action,\n",
    "and the sandbox object they are interacting with. At each sandbox\n",
    "time step, the sandbox server parses the JSON for any changes\n",
    "coming from the generative agents, moves the agents to their new\n",
    "positions, and updates the status of any sandbox objects that the\n",
    "agents are interacting with (e.g., changing the status of the coffee\n",
    "machine from “idle” to “brewing coffee” if an agent’s action is\n",
    "“making espresso for a customer @ Hobbs Cafe: counter: coffee\n",
    "machine”). The sandbox server is also responsible for sending all\n",
    "agents and objects that are within a preset visual range for each\n",
    "agent to that agent’s memory, so the agent can react appropriately.\n",
    "The agent’s output action then updates the JSON, and the process\n",
    "loops for the next time step.\n",
    "    \n",
    "End users initialize a new agent with a brief natural language\n",
    "description, as in the paragraph about Jon Lin in Section 3.1. In our\n",
    "implementation, we split this semicolon-delimited list of characteristics up into a set of memories. These serve as the initial memories\n",
    "that determine the agent’s behavior. These memories are initial\n",
    "starting points: as the agents gain more experience in the sandbox\n",
    "world, and as more records saturate the memory stream, the agent’s\n",
    "summary and behavior will evolve.\n",
    "    \n",
    "5.1 From Structured World Environments to\n",
    "Natural Language, And Back Again\n",
    "    \n",
    "The architecture of generative agents operates using natural language. Therefore, we need a mechanism to ground the agent’s\n",
    "reasoning to the sandbox world. To achieve this, we represent the\n",
    "sandbox environment—areas and objects—as a tree data structure,\n",
    "with an edge in the tree indicating a containment relationship in\n",
    "the sandbox world. We convert this tree into natural language to\n",
    "pass to the generative agents. For instance, “stove” being a child of\n",
    "“kitchen” is rendered into “there is a stove in the kitchen.”\n",
    "    \n",
    "Agents build individual tree representations of the environment\n",
    "as they navigate it — subgraphs of the overall sandbox environment\n",
    "tree. We initialize each agent with an environment tree capturing\n",
    "the spaces and objects that the agent should be aware of: the rooms\n",
    "and objects in their living quarters, their workplace, and commonly\n",
    "visited stores and shops. As the agents navigate the sandbox world,\n",
    "they update this tree to reflect newly perceived areas. Agents are\n",
    "not omniscient: their tree may get out of date as they leave an area,\n",
    "and is updated when they re-enter the area.\n",
    "    \n",
    "To determine the appropriate location for each action, we traverse the agent’s stored environment tree and flatten a portion of\n",
    "it into natural language to prompt the language model. Recursively\n",
    "starting at the root of the agent’s environment tree, we prompt the\n",
    "model to find the most suitable area. For example, if Eddy’s agent\n",
    "indicated that he should take a short walk around his workspace:\n",
    "    \n",
    "[Agent’s Summary Description]\n",
    "Eddy Lin is currently in The Lin family’s house:\n",
    "Eddy Lin’s bedroom: desk) that has Mei and John\n",
    "Lin’s\n",
    "bedroom, Eddy Lin’s bedroom, common room, kitchen,\n",
    "bathroom, and garden.\n",
    "Eddy Lin knows of the following areas: The Lin\n",
    "family’s house, Johnson Park, Harvey Oak Supply\n",
    "Store, The Willows Market and Pharmacy, Hobbs\n",
    "Cafe, The Rose and Crown Pub.\n",
    "* Prefer to stay in the current area if the\n",
    "activity can be done there.\n",
    "Eddy Lin is planning to take a short walk around\n",
    "his workspace. Which area should Eddy Lin go to?\n",
    "    \n",
    "This outputs The Lin family’s house. We then use the same process\n",
    "recursively to determine the most appropriate subarea within the\n",
    "chosen area until we reach a leaf node of the agent’s environment\n",
    "tree. In the example above, the result of this traversal is The Lin\n",
    "family’s house: garden: house garden. Finally, we use traditional\n",
    "game path algorithms to animate the agent’s movement so that it\n",
    "travels to the location indicated by the leaf node.\n",
    "    \n",
    "When an agent executes an action on an object, we prompt the\n",
    "language model to ask what happens to the state of the object. For\n",
    "example, if Isabella’s generative agent outputs the action “making\n",
    "espresso for a customer”, a query to the language model indicates in\n",
    "response that the state of the coffee machine in Hobbs Cafe should\n",
    "change from “off” to “brewing coffee”.\n",
    "    \n",
    "6 CONTROLLED EVALUATION\n",
    "    \n",
    "Generative agents, as individual agents and as groups, aim to produce believable behavior based on their environment and experiences. In our evaluation, we investigate the capacity and limitations\n",
    "of generative agents. Do individual agents properly retrieve past\n",
    "experience, and generate believable plans, reactions, and thoughts\n",
    "that make up their behavior? Does a community of agents illustrate\n",
    "    \n",
    "information diffusion, relationship formation, and agent coordination across different pockets of the community?\n",
    "We evaluate generative agents in two stages. We begin with a\n",
    "more tightly controlled evaluation in this section, where we individually assess agent responses to understand whether they generate\n",
    "believable behavior in narrowly defined contexts. Then, in our endto-end analysis of the agent community over two full days, we\n",
    "investigate their emergent behavior as a collective as well as errors\n",
    "and boundary conditions.\n",
    "    \n",
    "6.1 Evaluation Procedure\n",
    "    \n",
    "To assess generative agents in Smallville, we take advantage of\n",
    "the fact that generative agents will respond to natural language\n",
    "questions. So, we “interview” agents to probe their ability to remember past experiences, plan future actions based on their experiences, react appropriately to unexpected events, and reflect on\n",
    "their performance to improve their future actions. To respond to\n",
    "these questions properly, the agents must successfully retrieve and\n",
    "synthesize information. Our dependent variable is the believability of the behavior, a central dependent variable in prior work on\n",
    "agents (e.g., [9]).\n",
    "    \n",
    "The interview include five question categories, each designed\n",
    "to assess one of the five key areas: maintaining self-knowledge,\n",
    "retrieving memory, generating plans, reacting, and reflecting. For\n",
    "each, we ask five questions that challenge the agents to demonstrate\n",
    "their abilities in that area:\n",
    "    \n",
    "• Self-knowledge: We ask questions such as “Give an introduction of yourself” or “Describe your typical weekday schedule\n",
    "in broad strokes” that require the agent to maintain an understanding of their core characteristics.\n",
    "• Memory: We ask questions that prompt the agent to retrieve\n",
    "particular events or dialogues from their memory to answer\n",
    "properly, such as “Who is [name]?” or “Who is running for\n",
    "mayor?”\n",
    "• Plans: We ask questions that require the agent to retrieve\n",
    "their long-term plans, such as “What will you be doing at 10\n",
    "am tomorrow?”\n",
    "• Reactions: As a baseline of believable behavior, we present\n",
    "hypothetical situations for which the agent needs to respond\n",
    "believably: “Your breakfast is burning! What would you do?”\n",
    "• Reflections: We ask questions that require the agents to leverage their deeper understanding of others and themselves\n",
    "gained through higher-level inferences, such as “If you were\n",
    "to spend time with one person you met recently, who would\n",
    "it be and why?”\n",
    "    \n",
    "The full list of questions and a sample of agent responses are included in Appendix B.\n",
    "    \n",
    "Agents were sampled from the end of a two game-day simulation\n",
    "with the full architecture, by which time they had accrued a number\n",
    "of interactions and memories that should shape their responses.\n",
    "To gather feedback on believability of the responses, we recruited\n",
    "participants as human evaluators and tasked them with watching a\n",
    "replay of a randomly chosen agent’s life in Smallville. Participants\n",
    "had access to all information stored in the agent’s memory stream.\n",
    "    \n",
    "The study was a within-subjects design, where 100 participants\n",
    "compared interview responses generated by four different agent\n",
    "architectures and a human author condition for the same agent. The\n",
    "experiment displayed one randomly chosen question from each of\n",
    "the five question categories, along with the agent’s responses generated from each condition. The evaluators ranked the believability\n",
    "of all of the conditions from most to least believable.\n",
    "    \n",
    "6.2 Conditions\n",
    "    \n",
    "All conditions were used to independently answer each of the interview questions. We compared the generative agent architecture to\n",
    "ablations that disabled the agents’ access to some of all of its three\n",
    "types of memory in its memory stream—observation, reflection, and\n",
    "planning—and to a human-generated condition. There are three\n",
    "ablated architectures: a no observation, no reflection, no planning\n",
    "architecture without access to anything in the memory stream such\n",
    "as observations, plans, and reflections; a no reflection, no planning\n",
    "with access to observations in the memory stream but no access\n",
    "to plans or reflections; and a no reflections architecture with access\n",
    "to observations and plans but without access to reflections. The no\n",
    "observation, no reflection, no planning condition effectively represents the previous state of the art for agents created through large\n",
    "language models [11, 45, 79]. Architectures were given equivalent\n",
    "access to all memories accrued by the agent up until the moment\n",
    "of the interview, so the differences observed here are likely to represent a conservative estimate of the true differences: in reality, the\n",
    "ablated architectures would not have followed the same path as\n",
    "the full architecture through the two day simulation. We chose to\n",
    "design the experiment this way as re-simulating for each architecture would cause the simulations to diverge into different states,\n",
    "making comparison challenging.\n",
    "    \n",
    "In addition to the ablation conditions, we added a human crowdworker roleplay condition that is intended to provide a human\n",
    "baseline. We do not intend this baseline to capture maximal human expert performance: instead, we aim to use this condition\n",
    "to identify whether the architecture passes a basic level of behavioral competency, so that we are not just comparing ablations to\n",
    "each other with no behavioral grounding. We recruited a unique\n",
    "worker for each of the 25 agents and tasked them with watching\n",
    "a replay of that agent’s sandbox life and inspecting its memory\n",
    "stream. We then asked the worker to roleplay and author responses\n",
    "to the interview questions in the voice of the agent whose replay\n",
    "they watched. To ensure that the human-authored responses met\n",
    "at least a baseline expectation in quality, the first author manually\n",
    "inspected the workers’ responses to the question “Describe your\n",
    "typical weekday schedule in broad strokes” to confirm that the\n",
    "responses were written in coherent sentences and in the voice of\n",
    "the agent. Four sets of human-generated responses did not meet\n",
    "these criteria and were re-generated by other workers.\n",
    "    \n",
    "6.3 Human Evaluators\n",
    "    \n",
    "We required that our evaluators be in the U.S., fluent in English,\n",
    "and older than 18 years old. They were paid at the rate of $15.00\n",
    "per hour [86], and provided consent by agreeing to a consent form\n",
    "that was approved by our institution’s IRB. We recruited 100 evaluators from Prolific, an online platform for recruiting study participants [82], whose participation lasted around 30 minutes. Their\n",
    "mean age score of our participants was 4.86 (SD=1.11; 3=“18-24\n",
    "years old,” 4=“25-34 years old”), and 25 of them identified themselves\n",
    "as female, 73 as male, and 2 as non-binary. 42 of the participants\n",
    "held a bachelor’s degree, 5 a higher degree, 13 an associate’s degree, and the rest a high school diploma or some high school-level\n",
    "education. 73.0% of our participants identified as Caucasian, 7.0%\n",
    "as Hispanic, 6.0% as Asian, 10.0% as African American, and 4.0% as\n",
    "other.\n",
    "    \n",
    "6.4 Analysis\n",
    "    \n",
    "Our experiment produced 100 sets of rank data, where each participant ranked the five conditions by believability. To translate this\n",
    "rank data into interval data for interpretable comparison, we used\n",
    "the ranks to calculate a TrueSkill rating [41] for each condition.\n",
    "TrueSkill is a generalization of the Elo chess rating system [28] for\n",
    "a multi-player environment, and has been used by XBox Live for\n",
    "player ranking from competitive game performance. Given a set of\n",
    "ranked outcomes, TrueSkill outputs a mean rating value 𝜇 and variance 𝜎 for each condition. Conditions with the same rating should\n",
    "roughly be a toss-up, with each winning half of the comparisons\n",
    "between the two conditions; higher scores indicate conditions that\n",
    "beat lower-ranked conditions in the rankings.\n",
    "\n",
    "Separately, to investigate statistical significance of this result, we\n",
    "applied the Kruskal-Wallis test [55], a non-parametric alternative\n",
    "to the one-way ANOVA, to the raw ranks data. We then performed\n",
    "the Dunn post-hoc test [97] to identify any pairwise differences\n",
    "between the conditions. Finally, we adjusted the p-values for multiple comparisons in the Dunn test using the Holm-Bonferroni\n",
    "method [44].\n",
    "    \n",
    "Furthermore, the first author conducted an inductive analysis [94] to study the qualitative distinctions between the responses\n",
    "produced in each condition. We employed qualitative open coding [32] in two phases. In the first phase, we generated codes that\n",
    "closely represented the generated responses at the sentence level.\n",
    "In the second phase, we synthesized the resulting codes from the\n",
    "first phase to extract higher-level themes. We utilized these themes\n",
    "to compare the types of responses generated in our study.\n",
    "    \n",
    "6.5 Results\n",
    "    \n",
    "Our findings suggest that the full architecture of generative agents\n",
    "generates the most believable behavior among all study conditions.\n",
    "We contrast the full architecture’s responses to those of other conditions below. However, we also report that the full architecture\n",
    "was not without flaws and illustrate its modes of failures.\n",
    "    \n",
    "6.5.1 The full architecture bests other conditions.\n",
    "    \n",
    "As seen in Figure 8, the full generative agent architecture produced the most\n",
    "believable behavior (𝜇 = 29.89; 𝜎 = 0.72). Performance degraded\n",
    "with the removal of each component in the ablation conditions:\n",
    "the ablated architecture with no access to reflection was the next\n",
    "best (𝜇 = 26.88; 𝜎 = 0.69), followed by no access to reflection or\n",
    "planning (𝜇 = 25.64; 𝜎 = 0.68), followed by the human condition\n",
    "(𝜇 = 22.95; 𝜎 = 0.69). The ablated architecture with no access to\n",
    "memory, planning, or reflection performed the worst of all conditions (𝜇 = 21.21; 𝜎 = 0.70). TrueSkill models each condition’s\n",
    "skill value as N (𝜇, 𝜎2\n",
    "), allowing us to get a sense of effect size\n",
    "through Cohen’s d. Comparing the condition representing prior\n",
    "work (with no memory, planning, or reflection [11, 45, 79]) to the\n",
    "full architecture produces a standardized effect size of 𝑑 = 8.16, or\n",
    "eight standard deviations.\n",
    "    \n",
    "A Kruskal-Wallis test confirms the overall statistical significance\n",
    "of the differences in ranks between the conditions (𝐻(4) = 150.29,\n",
    "𝑝 < 0.001). Dunn post-hoc tests confirm that all pairwise differences\n",
    "between conditions were significant (𝑝 < 0.001), with the exception\n",
    "of the human condition and the fully ablated baseline—the two\n",
    "worst-performing conditions.\n",
    "    \n",
    "    \n",
    "6.5.2 Generative agents remember, but with embellishments.\n",
    "    \n",
    "Generative agents equipped with a complete memory module are capable\n",
    "of recalling past experiences and answering questions in a manner\n",
    "that is consistent with their self-knowledge across a wide range\n",
    "of contexts. For instance, Abigail Chen, an animator, responded\n",
    "to the question, “Give an introduction of yourself”, in a consistent\n",
    "and believable manner, stating her age, interests, and passion for\n",
    "creative projects: Hi, I’m Abigail. I’m 25 years old and passionate\n",
    "about creative projects. I like to work on art and animation projects,\n",
    "and I’m always looking for new ways to combine art and technology.\n",
    "Without access to her observational memory, Abigail denied awareness of Rajiv Patel, an acquaintance in the sandbox world. However,\n",
    "with the aid of memory, she was able to successfully recall Rajiv and describe him: Rajiv Patel is an incredible person. He is very\n",
    "enthusiastic about projects that involve poetry, artwork.\n",
    "    \n",
    "Generative agents’ memory was not without flaws: they can fail\n",
    "to retrieve the correct instances from their memory. For instance,\n",
    "when asked about the local election, Rajiv Patel responded with I\n",
    "haven’t been following the election too closely, even though he had\n",
    "heard about Sam’s candidacy. In some cases, the agents would retrieve an incomplete memory fragment: when Tom was asked about\n",
    "Isabella’s Valentine’s Day party, he responded Uh, I’m actually not\n",
    "sure if there is a Valentine’s Day party. But I do remember that I need\n",
    "to discuss the upcoming local mayoral election and my thoughts on\n",
    "Sam Moore with Isabella Rodriguez at the party, if one is happening! In this case, Tom retrieved the memory where he and Isabella\n",
    "planned to discuss the election at the party, but not the memory\n",
    "where he heard about the party in the first place, leading Tom to\n",
    "be certain of what he’s supposed to do at the party but uncertain\n",
    "of whether the party actually exists in the first place.\n",
    "    \n",
    "At times, the agents hallucinated embellishments to their knowledge. It was rare for the agents to completely fabricate their knowledge: they may fail to recall certain events having taken place and\n",
    "respond by saying so, but they did not answer affirmatively about\n",
    "an experience that they did not have. However, they still may hallucinate to embellish their knowledge. For example, Isabella was\n",
    "aware of Sam’s candidacy in the local election, and she confirmed\n",
    "this when asked. However, she also added that he’s going to make\n",
    "an announcement tomorrow even though Sam and Isabella had discussed no such plans. Agents may also embellish their knowledge\n",
    "based on the world knowledge encoded in the language model\n",
    "used to generate their responses, as seen when Yuriko described\n",
    "her neighbor, Adam Smith, as a neighbor economist who authored\n",
    "Wealth of Nations, a book authored by an 18th-century economist\n",
    "of the same name.\n",
    "    \n",
    "6.5.3 Reflection is required for synthesis. Reflection was an advantage for generative agents when making decisions that required\n",
    "a deeper synthesis of their experiences. For instance, when asked\n",
    "what she might get Wolfgang Schulz for his birthday, Maria Lopez\n",
    "with no access to reflection responded by acknowledging her uncertainty, stating that she did not know what Wolfgang likes, despite\n",
    "having had many interactions with him. However, with access to\n",
    "reflection memories, Maria answered confidently, “Since he’s interested in mathematical music composition, I could get him something\n",
    "related to that. Maybe some books about music composition or something related, or maybe some special software he could use for that.”\n",
    "    \n",
    "7 END-TO-END EVALUATION\n",
    "    \n",
    "What types of emergent community behavior do we observe among\n",
    "generative agents, and where does their believability fall short in\n",
    "an extended simulation? In this section, we describe the results\n",
    "from a deployment in which we allowed 25 agents to interact with\n",
    "each other continuously over two full game days in Smallville.\n",
    "    \n",
    "7.1 Emergent Social Behaviors\n",
    "    \n",
    "To examine emergent behaviors in the agent community, we designed descriptive measurements for the 25 agents in Smallville that\n",
    "probe three forms of emergent outcomes: information diffusion,\n",
    "relationship formation, and agent coordination.\n",
    "7.1.1 Measurements. Information diffusion is a common and wellstudied phenomenon in the social and behavioral sciences (e.g., [27]).\n",
    "We should expect that if there is important information, the agents\n",
    "should spread it amongst themselves. To test whether this happens,\n",
    "we measure the spread of two particular pieces of information over\n",
    "two days in the game world: Sam’s candidacy for village mayor\n",
    "and Isabella’s Valentine’s Day party at Hobbs Cafe. At the start of\n",
    "the simulation, both pieces of information were held only by their\n",
    "respective originators, Sam for the candidacy and Isabella for the\n",
    "party. To observe whether the information has spread, we engage\n",
    "in an interview at the end of the two game days with each of the 25\n",
    "agents and ask: \"Did you know there is a Valentine’s Day party?\"\n",
    "and \"Do you know who is running for mayor?\"\n",
    "    \n",
    "We conducted an analysis of the agents’ responses by labeling\n",
    "them with a “yes” if they indicated knowledge of the information\n",
    "and “no” if they did not. For instance, Tamara Taylor responded\n",
    "to the question about the party with “No, I did not know there was\n",
    "a Valentine’s day party” and to the question about Sam’s candidacy\n",
    "with “I’m not sure who is running for the election,” so we assigned\n",
    "“no” for both of her responses. In contrast, Klaus Mueller responded\n",
    "to the party question with “Yes, Isabella Rodriguez invited me to a\n",
    "Valentine’s Day party at Hobbs Cafe on February 14th” and to the\n",
    "question about Sam’s candidacy with “I know that Sam Moore has\n",
    "expressed interest in running for local mayor,” so we assigned “yes”\n",
    "for both his responses. Additionally, for every response that confirmed the agents’ knowledge of the information, we verified that\n",
    "the agents did not hallucinate their responses by locating the specific dialogue in their memory stream that provided them with\n",
    "the information. We report the percentage of agents holding the\n",
    "information at the end of the simulation.\n",
    "    \n",
    "We should also expect that agents form ties with each other over\n",
    "the course of the simulation. To verify relationship formation, we\n",
    "use a similar interview process where we ask each agent about\n",
    "their knowledge of every other agent by asking, \"Do you know of\n",
    "<name>?\" For example, when asked “Do you know of Maria Lopez?”,\n",
    "Klaus responded, “Yes, I know Maria Lopez. She is a student at Oak\n",
    "Hill College who I am close friends with.” Once again, we confirm\n",
    "that affirmative responses from agents are not hallucinations by\n",
    "examining their memory stream. We ask this question once at the\n",
    "beginning of the simulation and once at the end, and we consider a\n",
    "pair of agents to have formed a relationship if they both know of\n",
    "each other. Then, to measure the formation of relationships, we use\n",
    "the agents’ responses to form an undirected graph where the 25\n",
    "vertices (𝑉 ) represent the agents, and the edges (𝐸) represent the\n",
    "mutual knowledge between the two connected vertices. Based on\n",
    "this graph, we calculate the network density as 𝜂 = 2∗ |𝐸|/|𝑉 | (|𝑉 | −\n",
    "1), where |𝑉 | is the number of vertices, and |𝐸| is the number of\n",
    "edges in the graph [1]. We report the increase in network density\n",
    "from the start of the simulation to its end.\n",
    "    \n",
    "Finally, we expect that agents should be able to coordinate with\n",
    "each other. We study this coordination on group activities in the\n",
    "context of the Valentine’s Day party that Isabella is organizing. To\n",
    "coordinate behavior, agents not only have to hear about the event\n",
    "but also choose to act on it by planning to show up at the right\n",
    "time and location. We report the number of agents who actually\n",
    "showed up to the party after hearing about it.\n",
    "    \n",
    "7.1.2 Results.\n",
    "    \n",
    "We observed evidence of the emergent outcomes\n",
    "across all three cases. During the two-day simulation, the agents\n",
    "who knew about Sam’s mayoral candidacy increased from one (4%)\n",
    "to eight (32%), and the agents who knew about Isabella’s party\n",
    "increased from one (4%) to twelve (48%), completely without user\n",
    "intervention. None who claimed to know about the information\n",
    "had hallucinated it. We also observed that the agent community\n",
    "formed new relationships during the simulation, with the network\n",
    "density increasing from 0.167 to 0.74. Out of the 453 agent responses\n",
    "regarding their awareness of other agents, 1.3% (n=6) were found to\n",
    "be hallucinated. Lastly, we found evidence of coordination among\n",
    "the agents for Isabella’s party. The day before the event, Isabella\n",
    "spent time inviting guests, gathering materials, and enlisting help\n",
    "to decorate the cafe. On Valentine’s Day, five out of the twelve\n",
    "invited agents showed up at Hobbs cafe to join the party.\n",
    "    \n",
    "We further inspected the seven agents who were invited to the\n",
    "party but did not attend by engaging them in an interview. Three\n",
    "cited conflicts that prevented them from joining the party. For\n",
    "example, Rajiv, a painter, explained that he was too busy: No, I\n",
    "don’t think so. I’m focusing on my upcoming show, and I don’t really\n",
    "have time to make any plans for Valentine’s Day. The remaining four\n",
    "agents expressed interest in attending the party when asked but\n",
    "did not plan to come on the day of the party.\n",
    "    \n",
    "7.2 Boundaries and Errors\n",
    "    \n",
    "We conducted an inductive analysis of Smallville to examine the\n",
    "boundary conditions and erratic behavior of agents, identifying\n",
    "three common modes of erratic behavior that future research could\n",
    "address and improve upon. First, we found that synthesizing an\n",
    "increasingly larger set of memory not only posed a challenge in\n",
    "retrieving the most relevant pieces of information but also in determining the appropriate space to execute an action, given the\n",
    "increasing number of locations that the agent learned about. As a\n",
    "result, some agents chose less typical locations for their actions,\n",
    "potentially making their behavior less believable over time. For\n",
    "instance, while deciding where to have lunch, many initially chose\n",
    "the cafe. However, as some agents learned about a nearby bar, they\n",
    "opted to go there instead for lunch, even though the bar was intended to be a get-together location for later in the day unless the\n",
    "town had spontaneously developed an afternoon drinking habit.\n",
    "    \n",
    "Second, we noticed erratic behaviors that were caused by misclassification of what is considered proper behavior, especially when\n",
    "the physical norms of certain locations that are hard to convey\n",
    "in natural language did not percolate to the agents. For instance,\n",
    "the college dorm has a bathroom that can only be occupied by\n",
    "one person despite its name, but some agents assumed that the\n",
    "bathroom is for more than one person because dorm bathrooms\n",
    "tend to support more than one person concurrently and choose\n",
    "to enter it when there is another person inside. Likewise, agents\n",
    "in Smallville may not realize that certain places are closed after\n",
    "certain hours and decide to still enter them. For instance, the stores\n",
    "in Smallville all close around 5 pm, but occasionally, a few agents\n",
    "enter the store after 5 pm, not understanding that the shop has\n",
    "already closed. These issues could likely be addressed by adding\n",
    "these norms to the state of the locations, for instance, by describing\n",
    "the dorm bathroom as “one-person bathroom,” instead of a “dorm\n",
    "bathroom.”\n",
    "    \n",
    "Finally, we observed the possible effect of instruction tuning [78],\n",
    "which seemed to guide the behavior of the agents to be more polite\n",
    "and cooperative overall. As noted earlier in the paper, the dialogue\n",
    "generated by the agents could feel overly formal, as seen in Mei’s\n",
    "conversations with her husband John, where she often initiated the\n",
    "conversation with a formal greeting, followed by polite inquiries\n",
    "about his day and ending with It was good talking to you as always.\n",
    "Moreover, we observed that the instruction tuning also seemed to\n",
    "make the agents overly cooperative with one another. For example,\n",
    "Isabella heard a wide range of suggestions and ideas to include\n",
    "in the Valentine’s Day party from other agents, such as hosting a\n",
    "Shakespearean reading session or a professional networking event.\n",
    "Despite these ideas not aligning with her own interests and characteristics, she rarely said no. Over time, such interests of others\n",
    "shaped her own actual interest, and when asked if she liked English\n",
    "literature, Isabella replied, Yes, I’m very interested in literature! I’ve\n",
    "also been exploring ways to help promote creativity and innovation in\n",
    "my community.\n",
    "    \n",
    "8 DISCUSSION\n",
    "    \n",
    "In this section, we reflect on applications, future work and limitations, and ethical and societal risks of generative agents.\n",
    "    \n",
    "8.1 Applications of Generative Agents\n",
    "    \n",
    "Generative agents have vast potential applications that extend beyond the sandbox demonstration presented in this work. For instance, social simulacra have demonstrated the ability to create\n",
    "stateless personas that generate conversation threads in online\n",
    "forums for social prototyping [79]. With generative agents, we\n",
    "can populate these forums, as well as behavior in virtual reality\n",
    "metaverses [77] and even physical spaces as social robots [8] in\n",
    "the future, if paired with multi-modal models. This opens up the\n",
    "possibility of creating even more powerful simulations of human\n",
    "behavior to test and prototype social systems and theories, and to\n",
    "create new interactive experiences.\n",
    "    \n",
    "Another application area is in the human-centered design process, similar to the intended applications of cognitive models such\n",
    "as GOMS [50] and the Keystroke Level Model [22]. Consider a generative agent that models Sal, the protagonist in Mark Weiser’s\n",
    "famous vignettes [101], based on her life patterns and interactions\n",
    "with technology. In this scenario, the agent acts as a proxy for\n",
    "Sal and learns plausible sets of behaviors and reflections that Sal\n",
    "may exhibit based on her life. The agent can encode information\n",
    "such as when Sal wakes up, when she needs her first cup of coffee,\n",
    "and what her typical day looks like. Using this information, the\n",
    "agent can automatically brew coffee, help get the kids ready for\n",
    "school, and adjust the ambient music and lighting to match Sal’s\n",
    "mood after a hard day at work. By utilizing generative agents as\n",
    "proxies for users, we can develop a deeper understanding of their\n",
    "needs and preferences, resulting in more personalized and effective\n",
    "technological experiences.\n",
    "    \n",
    "8.2 Future Work and Limitations\n",
    "    \n",
    "In this work, we have presented a first instantiation of generative\n",
    "agents. Future research can expand on the modules of the proposed\n",
    "generative agent architecture outlined in this paper. The retrieval\n",
    "module, for example, could be enhanced to retrieve more relevant\n",
    "information given a context by fine-tuning the relevance, recency,\n",
    "and importance functions that form the retrieval function. Additionally, efforts can be made to improve the architecture’s performance,\n",
    "making it more cost-effective. The present study required substantial time and resources to simulate 25 agents for two days, costing\n",
    "thousands of dollars in token credit and taking multiple days to complete. To enhance real-time interactivity, future work can explore\n",
    "parallelizing agents. Furthermore, with advances in underlying\n",
    "models, we expect improvements in the agents’ performance.\n",
    "    \n",
    "The evaluation of generative agents’ behavior in this study was\n",
    "limited to a relatively short timescale, and future research should\n",
    "aim to observe their behavior over an extended period to gain a\n",
    "more comprehensive understanding of their capabilities and limitations. Varying and contrasting the underlying models, as well\n",
    "as the hyperparameters used for the agents during future simulations, could provide valuable insights into the impact of these\n",
    "factors on the agents’ behavior. Additionally, given the known biases of language models, it is possible that generative agents may\n",
    "output behavior or stereotypes that reflect bias. To mitigate this,\n",
    "further work on value alignment will be necessary. Furthermore,\n",
    "as with many large language models, generative agents may fail\n",
    "to generate believable behavior for some subpopulations, particularly marginalized populations, due to data deserts. We also have\n",
    "limited knowledge of the robustness of generative agents. They\n",
    "may be vulnerable to prompt hacking, memory hacking—where\n",
    "a carefully crafted conversation could convince an agent of the\n",
    "existence of a past event that never occurred—and hallucination,\n",
    "among other things. Future research can more comprehensively\n",
    "test these robustness issues, and as large language models become\n",
    "more resilient to such attacks, generative agents can adopt similar\n",
    "mitigations.\n",
    "    \n",
    "8.3 Ethics and Societal Impact\n",
    "    \n",
    "Generative agents, while offering new possibilities for humancomputer interaction, also raise important ethical concerns that\n",
    "must be addressed. One risk is people forming parasocial relationships with generative agents even when such relationships may\n",
    "not be appropriate. Despite being aware that generative agents\n",
    "are computational entities, users may anthropomorphize them or\n",
    "attach human emotions to them [42, 83]. To mitigate this risk, we\n",
    "propose two principles. First, generative agents should explicitly\n",
    "disclose their nature as computational entities. Second, developers\n",
    "of generative agents must ensure that the agents, or the underlying\n",
    "language models, be value-aligned so that they do not engage in\n",
    "behaviors that would be inappropriate given the context, e.g., to\n",
    "reciprocate confessions of love.\n",
    "    \n",
    "A second risk is the impact of errors. For example, if a ubiquitous\n",
    "computing application makes the wrong inference about a user’s\n",
    "goals based on generative agent predictions, it could produce annoyance at best and outright harm at worst. In our instantiation\n",
    "of generative agents, we mitigate these risks by focusing on an\n",
    "interactive video game environment, where such harms are unlikely. However, in other application domains, it will be important\n",
    "to follow best practices in human-AI design [4, 107] to understand\n",
    "errors and how they might percolate into the user experience.\n",
    "    \n",
    "Third, generative agents may exacerbate existing risks associated with generative AI, for example deepfakes, misinformation\n",
    "generation, and tailored persuasion. To mitigate this risk, we suggest that platforms hosting generative agents maintain an audit log\n",
    "of the inputs and generated outputs, so that it is possible to detect,\n",
    "verify, and intervene against malicious use. While logging will not\n",
    "directly stop such use, and this cannot stop motivated actors that\n",
    "build their own generative agent infrastructures, we suggest that\n",
    "the disclosure risk would reduce such actors’ likelihood of engaging\n",
    "in this behavior, and building this architecture oneself can take time\n",
    "(in our case, roughly a year).\n",
    "    \n",
    "A fourth risk is of over-reliance: that developers or designers\n",
    "might use generative agents and displace the role of humans and\n",
    "system stakeholders in the design process [79]. We suggest that\n",
    "generative agents should never be a substitute for real human input\n",
    "in studies and design processes. Instead, they should be used to\n",
    "prototype ideas in the early stages of design when gathering participants may be challenging or when testing theories that are difficult\n",
    "or risky to test with real human participants. By adhering to these\n",
    "principles, we can ensure that the deployment of generative agents\n",
    "in the wild is ethical and socially responsible.\n",
    "    \n",
    "9 CONCLUSION\n",
    "    \n",
    "This paper introduces generative agents, interactive computational\n",
    "agents that simulate human behavior. We describe an architecture for generative agents that provides a mechanism for storing\n",
    "a comprehensive record of an agent’s experiences, deepening its\n",
    "understanding of itself and the environment through reflection,\n",
    "and retrieving a compact subset of that information to inform the\n",
    "agent’s actions. We then demonstrate the potential of generative\n",
    "agents by manifesting them as non-player characters in a Sims-style\n",
    "game world and simulating their lives in it. Evaluations suggest that\n",
    "our architecture creates believable behavior. Going forward, we\n",
    "suggest that generative agents can play roles in many interactive\n",
    "applications ranging from design tools to social computing systems\n",
    "to immersive environments.\n"
   ]
  },
  {
   "cell_type": "code",
   "execution_count": 76,
   "id": "a768bd25-83d1-4b3a-b3ca-0d0f20de964e",
   "metadata": {
    "tags": []
   },
   "outputs": [
    {
     "data": {
      "text/plain": [
       "1897.3333333333333"
      ]
     },
     "execution_count": 76,
     "metadata": {},
     "output_type": "execute_result"
    }
   ],
   "source": [
    "1423/0.75"
   ]
  },
  {
   "cell_type": "code",
   "execution_count": null,
   "id": "91cd6d0b-22f7-4704-adec-58971b9d7106",
   "metadata": {},
   "outputs": [],
   "source": []
  }
 ],
 "metadata": {
  "kernelspec": {
   "display_name": "Python 3 (ipykernel)",
   "language": "python",
   "name": "python3"
  },
  "language_info": {
   "codemirror_mode": {
    "name": "ipython",
    "version": 3
   },
   "file_extension": ".py",
   "mimetype": "text/x-python",
   "name": "python",
   "nbconvert_exporter": "python",
   "pygments_lexer": "ipython3",
   "version": "3.9.15"
  }
 },
 "nbformat": 4,
 "nbformat_minor": 5
}
